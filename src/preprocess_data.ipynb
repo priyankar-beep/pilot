{
 "cells": [
  {
   "cell_type": "markdown",
   "id": "b25804fd-e36d-404b-bf5c-8d24d1eeee80",
   "metadata": {
    "tags": []
   },
   "source": [
    "# Setup"
   ]
  },
  {
   "cell_type": "code",
   "execution_count": 1,
   "id": "828adcd7-73a6-4eef-a87c-7d675cc9040b",
   "metadata": {
    "scrolled": true,
    "tags": []
   },
   "outputs": [
    {
     "name": "stdout",
     "output_type": "stream",
     "text": [
      "Requirement already satisfied: Flask==3.0.0 in /opt/conda/lib/python3.10/site-packages (from -r requirements.txt (line 1)) (3.0.0)\n",
      "Requirement already satisfied: influxdb_client==1.38.0 in /opt/conda/lib/python3.10/site-packages (from -r requirements.txt (line 2)) (1.38.0)\n",
      "Requirement already satisfied: numpy==1.22.4 in /opt/conda/lib/python3.10/site-packages (from -r requirements.txt (line 3)) (1.22.4)\n",
      "Requirement already satisfied: pandas==1.4.3 in /opt/conda/lib/python3.10/site-packages (from -r requirements.txt (line 4)) (1.4.3)\n",
      "Requirement already satisfied: Requests==2.31.0 in /opt/conda/lib/python3.10/site-packages (from -r requirements.txt (line 5)) (2.31.0)\n",
      "Requirement already satisfied: schedule==1.2.1 in /opt/conda/lib/python3.10/site-packages (from -r requirements.txt (line 6)) (1.2.1)\n",
      "Requirement already satisfied: pygraphviz==1.11.0 in /opt/conda/lib/python3.10/site-packages (from -r requirements.txt (line 7)) (1.11)\n",
      "Requirement already satisfied: Jinja2>=3.1.2 in /opt/conda/lib/python3.10/site-packages (from Flask==3.0.0->-r requirements.txt (line 1)) (3.1.2)\n",
      "Requirement already satisfied: blinker>=1.6.2 in /opt/conda/lib/python3.10/site-packages (from Flask==3.0.0->-r requirements.txt (line 1)) (1.7.0)\n",
      "Requirement already satisfied: Werkzeug>=3.0.0 in /opt/conda/lib/python3.10/site-packages (from Flask==3.0.0->-r requirements.txt (line 1)) (3.0.1)\n",
      "Requirement already satisfied: itsdangerous>=2.1.2 in /opt/conda/lib/python3.10/site-packages (from Flask==3.0.0->-r requirements.txt (line 1)) (2.1.2)\n",
      "Requirement already satisfied: click>=8.1.3 in /opt/conda/lib/python3.10/site-packages (from Flask==3.0.0->-r requirements.txt (line 1)) (8.1.3)\n",
      "Requirement already satisfied: reactivex>=4.0.4 in /opt/conda/lib/python3.10/site-packages (from influxdb_client==1.38.0->-r requirements.txt (line 2)) (4.0.4)\n",
      "Requirement already satisfied: python-dateutil>=2.5.3 in /opt/conda/lib/python3.10/site-packages (from influxdb_client==1.38.0->-r requirements.txt (line 2)) (2.8.2)\n",
      "Requirement already satisfied: setuptools>=21.0.0 in /opt/conda/lib/python3.10/site-packages (from influxdb_client==1.38.0->-r requirements.txt (line 2)) (63.2.0)\n",
      "Requirement already satisfied: certifi>=14.05.14 in /opt/conda/lib/python3.10/site-packages (from influxdb_client==1.38.0->-r requirements.txt (line 2)) (2022.6.15)\n",
      "Requirement already satisfied: urllib3>=1.26.0 in /opt/conda/lib/python3.10/site-packages (from influxdb_client==1.38.0->-r requirements.txt (line 2)) (1.26.10)\n",
      "Requirement already satisfied: pytz>=2020.1 in /opt/conda/lib/python3.10/site-packages (from pandas==1.4.3->-r requirements.txt (line 4)) (2022.1)\n",
      "Requirement already satisfied: charset-normalizer<4,>=2 in /opt/conda/lib/python3.10/site-packages (from Requests==2.31.0->-r requirements.txt (line 5)) (2.1.0)\n",
      "Requirement already satisfied: idna<4,>=2.5 in /opt/conda/lib/python3.10/site-packages (from Requests==2.31.0->-r requirements.txt (line 5)) (3.3)\n",
      "Requirement already satisfied: MarkupSafe>=2.0 in /opt/conda/lib/python3.10/site-packages (from Jinja2>=3.1.2->Flask==3.0.0->-r requirements.txt (line 1)) (2.1.1)\n",
      "Requirement already satisfied: six>=1.5 in /opt/conda/lib/python3.10/site-packages (from python-dateutil>=2.5.3->influxdb_client==1.38.0->-r requirements.txt (line 2)) (1.16.0)\n",
      "Requirement already satisfied: typing-extensions<5.0.0,>=4.1.1 in /opt/conda/lib/python3.10/site-packages (from reactivex>=4.0.4->influxdb_client==1.38.0->-r requirements.txt (line 2)) (4.3.0)\n",
      "\n",
      "\u001b[1m[\u001b[0m\u001b[34;49mnotice\u001b[0m\u001b[1;39;49m]\u001b[0m\u001b[39;49m A new release of pip available: \u001b[0m\u001b[31;49m22.2\u001b[0m\u001b[39;49m -> \u001b[0m\u001b[32;49m24.0\u001b[0m\n",
      "\u001b[1m[\u001b[0m\u001b[34;49mnotice\u001b[0m\u001b[1;39;49m]\u001b[0m\u001b[39;49m To update, run: \u001b[0m\u001b[32;49mpip install --upgrade pip\u001b[0m\n"
     ]
    }
   ],
   "source": [
    "!pip install -r requirements.txt"
   ]
  },
  {
   "cell_type": "code",
   "execution_count": 2,
   "id": "5783954b-1a95-42ea-b19d-0de9bf8a85cc",
   "metadata": {},
   "outputs": [
    {
     "data": {
      "text/plain": [
       "'\\nfrom patientdata.PatientData import PatientData\\nfrom datetime import datetime, timedelta\\nimport json\\n#from offline_checks import OfflineChecks\\nfrom telegram.telegram_manager import TelegramManager\\nimport os\\nimport pandas as pd\\nimport numpy as np\\n\\nimport matplotlib.pyplot as plt\\nfrom datetime import datetime, timedelta\\nimport networkx as nx\\nimport matplotlib.pyplot as plt\\nimport pygraphviz as pgv\\nfrom io import BytesIO\\nfrom IPython.display import Image\\nfrom scipy.stats import wasserstein_distance\\nimport plotly.express as px\\nimport math\\n'"
      ]
     },
     "execution_count": 2,
     "metadata": {},
     "output_type": "execute_result"
    }
   ],
   "source": [
    "import os\n",
    "import json\n",
    "import pandas as pd\n",
    "import matplotlib.pyplot as plt\n",
    "pd.set_option('display.float_format', lambda x: '%.2f' % x)\n",
    "pd.options.mode.chained_assignment = None  # default='warn'\n",
    "#pd.options.mode.copy_on_write = True\n",
    "'''\n",
    "from patientdata.PatientData import PatientData\n",
    "from datetime import datetime, timedelta\n",
    "import json\n",
    "#from offline_checks import OfflineChecks\n",
    "from telegram.telegram_manager import TelegramManager\n",
    "import os\n",
    "import pandas as pd\n",
    "import numpy as np\n",
    "\n",
    "import matplotlib.pyplot as plt\n",
    "from datetime import datetime, timedelta\n",
    "import networkx as nx\n",
    "import matplotlib.pyplot as plt\n",
    "import pygraphviz as pgv\n",
    "from io import BytesIO\n",
    "from IPython.display import Image\n",
    "from scipy.stats import wasserstein_distance\n",
    "import plotly.express as px\n",
    "import math\n",
    "'''"
   ]
  },
  {
   "cell_type": "markdown",
   "id": "f126643f-065d-4291-bcee-abf836354cfa",
   "metadata": {
    "tags": []
   },
   "source": [
    "# Helper functions"
   ]
  },
  {
   "cell_type": "code",
   "execution_count": 3,
   "id": "27d28027-3d58-4a8d-88f2-49ff246068fe",
   "metadata": {},
   "outputs": [],
   "source": [
    "def map_part_of_day(hour):\n",
    "    intervals = [(6, 10), (10, 13), (13, 16), (16, 19), (19, 21), (21, 24), (0, 6)]\n",
    "    labels = ['early morning', 'late morning', 'early afternoon', 'late afternoon', 'early evening', 'late evening', 'night']\n",
    "    for interval, label in zip(intervals, labels):\n",
    "        if interval[0] <= hour < interval[1]:\n",
    "            return label"
   ]
  },
  {
   "cell_type": "markdown",
   "id": "98278210-c81f-44d3-a622-1c68edba5df4",
   "metadata": {
    "tags": []
   },
   "source": [
    "# Preprocessing"
   ]
  },
  {
   "cell_type": "code",
   "execution_count": 4,
   "id": "92d0f728-8036-4adb-90c1-91678263a30d",
   "metadata": {},
   "outputs": [],
   "source": [
    "with open('patientdata/sensing.json') as json_file:\n",
    "    sensing = json.load(json_file)\n",
    "subject_ids = list(sensing.keys())    "
   ]
  },
  {
   "cell_type": "code",
   "execution_count": 5,
   "id": "f4f3d051-52c0-4875-a292-24276c13d2d9",
   "metadata": {},
   "outputs": [],
   "source": [
    "raw_data_path = \"DATA/\"\n",
    "preprocessed_data_path = \"PREPROCESSED_DATA/\"\n",
    "if not os.path.exists(preprocessed_data_path):\n",
    "    os.makedirs(preprocessed_data_path)"
   ]
  },
  {
   "cell_type": "markdown",
   "id": "9c40f422-ffc1-4c2b-9861-c4be6892b06d",
   "metadata": {
    "jp-MarkdownHeadingCollapsed": true,
    "tags": []
   },
   "source": [
    "## Smart plugs (from time series to events)"
   ]
  },
  {
   "cell_type": "markdown",
   "id": "b8749416-a080-435e-b5c0-63a5f81d51a8",
   "metadata": {
    "jp-MarkdownHeadingCollapsed": true,
    "tags": []
   },
   "source": [
    "### Microwave"
   ]
  },
  {
   "cell_type": "code",
   "execution_count": 6,
   "id": "a3440b4e-36cd-48e0-86e6-d10cd91d57b9",
   "metadata": {},
   "outputs": [],
   "source": [
    "microwave_thresholds = {\n",
    "    \"1\": 1500,\n",
    "    \"2\": None,\n",
    "    \"3\": 1000,\n",
    "    \"4\": 1000,\n",
    "    \"5\": 1200,\n",
    "}"
   ]
  },
  {
   "cell_type": "code",
   "execution_count": 7,
   "id": "423ffe4b-c2c1-40f2-9f72-4a3bb24dd05f",
   "metadata": {
    "scrolled": true
   },
   "outputs": [
    {
     "name": "stdout",
     "output_type": "stream",
     "text": [
      "SUBJECT 1\n"
     ]
    },
    {
     "data": {
      "image/png": "[encoded data removed]",
      "text/plain": [
       "<Figure size 432x288 with 1 Axes>"
      ]
     },
     "metadata": {
      "needs_background": "light"
     },
     "output_type": "display_data"
    },
    {
     "name": "stdout",
     "output_type": "stream",
     "text": [
      "SUBJECT 2\n",
      "MICROWAVE FILE NOT EXISTING FOR SUBJECT 2\n",
      "SUBJECT 3\n"
     ]
    },
    {
     "data": {
      "image/png": "[encoded data removed]",
      "text/plain": [
       "<Figure size 432x288 with 1 Axes>"
      ]
     },
     "metadata": {
      "needs_background": "light"
     },
     "output_type": "display_data"
    },
    {
     "name": "stdout",
     "output_type": "stream",
     "text": [
      "SUBJECT 4\n"
     ]
    },
    {
     "data": {
      "image/png": "[encoded data removed]",
      "text/plain": [
       "<Figure size 432x288 with 1 Axes>"
      ]
     },
     "metadata": {
      "needs_background": "light"
     },
     "output_type": "display_data"
    },
    {
     "name": "stdout",
     "output_type": "stream",
     "text": [
      "SUBJECT 5\n"
     ]
    },
    {
     "data": {
      "image/png": "[encoded data removed]",
      "text/plain": [
       "<Figure size 432x288 with 1 Axes>"
      ]
     },
     "metadata": {
      "needs_background": "light"
     },
     "output_type": "display_data"
    },
    {
     "name": "stdout",
     "output_type": "stream",
     "text": [
      "SUBJECT 7\n",
      "MICROWAVE FILE NOT EXISTING FOR SUBJECT 7\n"
     ]
    }
   ],
   "source": [
    "for subject_id in subject_ids:\n",
    "    print(\"SUBJECT \"+subject_id)\n",
    "    try:\n",
    "        microwave_data_path = f\"{raw_data_path}subject_{subject_id}/environmentals/Microwave.csv\"\n",
    "        microwave_df = pd.read_csv(microwave_data_path)\n",
    "        microwave_df.drop(microwave_df[microwave_df.sensor_status == \"unavailable\"].index, inplace=True)\n",
    "        microwave_df.loc[:, 'sensor_status'] = microwave_df.loc[:, 'sensor_status'].apply(lambda x: 1 if float(x) > microwave_thresholds[subject_id] else 0)\n",
    "        microwave_df['is_change'] = microwave_df['sensor_status'].ne(microwave_df['sensor_status'].shift())\n",
    "        df_result = microwave_df[microwave_df['is_change']].drop(columns='is_change')\n",
    "    \n",
    "        plt.step(df_result['ts'], df_result['sensor_status'], linestyle='-', where='post')\n",
    "        plt.ylim(ymin=0, ymax=1.5)\n",
    "        plt.xlabel('Timestamp')\n",
    "        plt.ylabel('Value')\n",
    "        plt.xticks(rotation=45)\n",
    "        plt.show()\n",
    "    \n",
    "        if not os.path.exists(f\"{preprocessed_data_path}subject_{subject_id}/environmentals/\"):\n",
    "            os.makedirs(f\"{preprocessed_data_path}subject_{subject_id}/environmentals/\")\n",
    "        microwave_events_path = f\"{preprocessed_data_path}subject_{subject_id}/environmentals/Microwave_events.csv\"\n",
    "        df_result['sensor_status'] = df_result['sensor_status'].apply(lambda x: 'on' if x == 1 else 'off')\n",
    "        df_result.to_csv(microwave_events_path, index=False, header=True)\n",
    "        \n",
    "    except FileNotFoundError:\n",
    "        print(\"MICROWAVE FILE NOT EXISTING FOR SUBJECT \"+subject_id)"
   ]
  },
  {
   "cell_type": "markdown",
   "id": "bbb9c86b-1fb2-4c7d-8a73-79adc16e103d",
   "metadata": {
    "tags": []
   },
   "source": [
    "### PlugTvHall"
   ]
  },
  {
   "cell_type": "code",
   "execution_count": 8,
   "id": "a441b64a-fe78-4606-8ccf-430d94aed6b9",
   "metadata": {},
   "outputs": [],
   "source": [
    "tv_thresholds = {\n",
    "    \"1\": 30,\n",
    "    \"2\": 60,\n",
    "    \"3\": 15,\n",
    "    \"4\": None, \n",
    "    \"5\": 45\n",
    "}"
   ]
  },
  {
   "cell_type": "code",
   "execution_count": 9,
   "id": "111bb4fc-da27-4b67-983f-c7a1b825056b",
   "metadata": {
    "scrolled": true
   },
   "outputs": [
    {
     "name": "stdout",
     "output_type": "stream",
     "text": [
      "SUBJECT 1\n"
     ]
    },
    {
     "data": {
      "image/png": "[encoded data removed]",
      "text/plain": [
       "<Figure size 432x288 with 1 Axes>"
      ]
     },
     "metadata": {
      "needs_background": "light"
     },
     "output_type": "display_data"
    },
    {
     "name": "stdout",
     "output_type": "stream",
     "text": [
      "SUBJECT 2\n"
     ]
    },
    {
     "data": {
      "image/png": "[encoded data removed]",
      "text/plain": [
       "<Figure size 432x288 with 1 Axes>"
      ]
     },
     "metadata": {
      "needs_background": "light"
     },
     "output_type": "display_data"
    },
    {
     "name": "stdout",
     "output_type": "stream",
     "text": [
      "SUBJECT 3\n"
     ]
    },
    {
     "data": {
      "image/png": "[encoded data removed]",
      "text/plain": [
       "<Figure size 432x288 with 1 Axes>"
      ]
     },
     "metadata": {
      "needs_background": "light"
     },
     "output_type": "display_data"
    },
    {
     "name": "stdout",
     "output_type": "stream",
     "text": [
      "SUBJECT 4\n",
      "PLUG TV HALL FILE NOT EXISTING FOR SUBJECT 4\n",
      "SUBJECT 5\n"
     ]
    },
    {
     "data": {
      "image/png": "[encoded data removed]",
      "text/plain": [
       "<Figure size 432x288 with 1 Axes>"
      ]
     },
     "metadata": {
      "needs_background": "light"
     },
     "output_type": "display_data"
    },
    {
     "name": "stdout",
     "output_type": "stream",
     "text": [
      "SUBJECT 7\n"
     ]
    },
    {
     "ename": "KeyError",
     "evalue": "'7'",
     "output_type": "error",
     "traceback": [
      "\u001b[0;31m---------------------------------------------------------------------------\u001b[0m",
      "\u001b[0;31mKeyError\u001b[0m                                  Traceback (most recent call last)",
      "Input \u001b[0;32mIn [9]\u001b[0m, in \u001b[0;36m<cell line: 1>\u001b[0;34m()\u001b[0m\n\u001b[1;32m      5\u001b[0m tv_df \u001b[38;5;241m=\u001b[39m pd\u001b[38;5;241m.\u001b[39mread_csv(tv_data_path)\n\u001b[1;32m      6\u001b[0m tv_df\u001b[38;5;241m.\u001b[39mdrop(tv_df[tv_df\u001b[38;5;241m.\u001b[39msensor_status \u001b[38;5;241m==\u001b[39m \u001b[38;5;124m\"\u001b[39m\u001b[38;5;124munavailable\u001b[39m\u001b[38;5;124m\"\u001b[39m]\u001b[38;5;241m.\u001b[39mindex, inplace\u001b[38;5;241m=\u001b[39m\u001b[38;5;28;01mTrue\u001b[39;00m)\n\u001b[0;32m----> 7\u001b[0m tv_df\u001b[38;5;241m.\u001b[39mloc[:, \u001b[38;5;124m'\u001b[39m\u001b[38;5;124msensor_status\u001b[39m\u001b[38;5;124m'\u001b[39m] \u001b[38;5;241m=\u001b[39m \u001b[43mtv_df\u001b[49m\u001b[38;5;241;43m.\u001b[39;49m\u001b[43mloc\u001b[49m\u001b[43m[\u001b[49m\u001b[43m:\u001b[49m\u001b[43m,\u001b[49m\u001b[43m \u001b[49m\u001b[38;5;124;43m'\u001b[39;49m\u001b[38;5;124;43msensor_status\u001b[39;49m\u001b[38;5;124;43m'\u001b[39;49m\u001b[43m]\u001b[49m\u001b[38;5;241;43m.\u001b[39;49m\u001b[43mapply\u001b[49m\u001b[43m(\u001b[49m\u001b[38;5;28;43;01mlambda\u001b[39;49;00m\u001b[43m \u001b[49m\u001b[43mx\u001b[49m\u001b[43m:\u001b[49m\u001b[43m \u001b[49m\u001b[38;5;241;43m1\u001b[39;49m\u001b[43m \u001b[49m\u001b[38;5;28;43;01mif\u001b[39;49;00m\u001b[43m \u001b[49m\u001b[38;5;28;43mfloat\u001b[39;49m\u001b[43m(\u001b[49m\u001b[43mx\u001b[49m\u001b[43m)\u001b[49m\u001b[43m \u001b[49m\u001b[38;5;241;43m>\u001b[39;49m\u001b[43m \u001b[49m\u001b[43mtv_thresholds\u001b[49m\u001b[43m[\u001b[49m\u001b[43msubject_id\u001b[49m\u001b[43m]\u001b[49m\u001b[43m \u001b[49m\u001b[38;5;28;43;01melse\u001b[39;49;00m\u001b[43m \u001b[49m\u001b[38;5;241;43m0\u001b[39;49m\u001b[43m)\u001b[49m\n\u001b[1;32m      8\u001b[0m tv_df[\u001b[38;5;124m'\u001b[39m\u001b[38;5;124mis_change\u001b[39m\u001b[38;5;124m'\u001b[39m] \u001b[38;5;241m=\u001b[39m tv_df[\u001b[38;5;124m'\u001b[39m\u001b[38;5;124msensor_status\u001b[39m\u001b[38;5;124m'\u001b[39m]\u001b[38;5;241m.\u001b[39mne(tv_df[\u001b[38;5;124m'\u001b[39m\u001b[38;5;124msensor_status\u001b[39m\u001b[38;5;124m'\u001b[39m]\u001b[38;5;241m.\u001b[39mshift())\n\u001b[1;32m      9\u001b[0m df_result \u001b[38;5;241m=\u001b[39m tv_df[tv_df[\u001b[38;5;124m'\u001b[39m\u001b[38;5;124mis_change\u001b[39m\u001b[38;5;124m'\u001b[39m]]\u001b[38;5;241m.\u001b[39mdrop(columns\u001b[38;5;241m=\u001b[39m\u001b[38;5;124m'\u001b[39m\u001b[38;5;124mis_change\u001b[39m\u001b[38;5;124m'\u001b[39m)\n",
      "File \u001b[0;32m/opt/conda/lib/python3.10/site-packages/pandas/core/series.py:4433\u001b[0m, in \u001b[0;36mSeries.apply\u001b[0;34m(self, func, convert_dtype, args, **kwargs)\u001b[0m\n\u001b[1;32m   4323\u001b[0m \u001b[38;5;28;01mdef\u001b[39;00m \u001b[38;5;21mapply\u001b[39m(\n\u001b[1;32m   4324\u001b[0m     \u001b[38;5;28mself\u001b[39m,\n\u001b[1;32m   4325\u001b[0m     func: AggFuncType,\n\u001b[0;32m   (...)\u001b[0m\n\u001b[1;32m   4328\u001b[0m     \u001b[38;5;241m*\u001b[39m\u001b[38;5;241m*\u001b[39mkwargs,\n\u001b[1;32m   4329\u001b[0m ) \u001b[38;5;241m-\u001b[39m\u001b[38;5;241m>\u001b[39m DataFrame \u001b[38;5;241m|\u001b[39m Series:\n\u001b[1;32m   4330\u001b[0m     \u001b[38;5;124;03m\"\"\"\u001b[39;00m\n\u001b[1;32m   4331\u001b[0m \u001b[38;5;124;03m    Invoke function on values of Series.\u001b[39;00m\n\u001b[1;32m   4332\u001b[0m \n\u001b[0;32m   (...)\u001b[0m\n\u001b[1;32m   4431\u001b[0m \u001b[38;5;124;03m    dtype: float64\u001b[39;00m\n\u001b[1;32m   4432\u001b[0m \u001b[38;5;124;03m    \"\"\"\u001b[39;00m\n\u001b[0;32m-> 4433\u001b[0m     \u001b[38;5;28;01mreturn\u001b[39;00m \u001b[43mSeriesApply\u001b[49m\u001b[43m(\u001b[49m\u001b[38;5;28;43mself\u001b[39;49m\u001b[43m,\u001b[49m\u001b[43m \u001b[49m\u001b[43mfunc\u001b[49m\u001b[43m,\u001b[49m\u001b[43m \u001b[49m\u001b[43mconvert_dtype\u001b[49m\u001b[43m,\u001b[49m\u001b[43m \u001b[49m\u001b[43margs\u001b[49m\u001b[43m,\u001b[49m\u001b[43m \u001b[49m\u001b[43mkwargs\u001b[49m\u001b[43m)\u001b[49m\u001b[38;5;241;43m.\u001b[39;49m\u001b[43mapply\u001b[49m\u001b[43m(\u001b[49m\u001b[43m)\u001b[49m\n",
      "File \u001b[0;32m/opt/conda/lib/python3.10/site-packages/pandas/core/apply.py:1088\u001b[0m, in \u001b[0;36mSeriesApply.apply\u001b[0;34m(self)\u001b[0m\n\u001b[1;32m   1084\u001b[0m \u001b[38;5;28;01mif\u001b[39;00m \u001b[38;5;28misinstance\u001b[39m(\u001b[38;5;28mself\u001b[39m\u001b[38;5;241m.\u001b[39mf, \u001b[38;5;28mstr\u001b[39m):\n\u001b[1;32m   1085\u001b[0m     \u001b[38;5;66;03m# if we are a string, try to dispatch\u001b[39;00m\n\u001b[1;32m   1086\u001b[0m     \u001b[38;5;28;01mreturn\u001b[39;00m \u001b[38;5;28mself\u001b[39m\u001b[38;5;241m.\u001b[39mapply_str()\n\u001b[0;32m-> 1088\u001b[0m \u001b[38;5;28;01mreturn\u001b[39;00m \u001b[38;5;28;43mself\u001b[39;49m\u001b[38;5;241;43m.\u001b[39;49m\u001b[43mapply_standard\u001b[49m\u001b[43m(\u001b[49m\u001b[43m)\u001b[49m\n",
      "File \u001b[0;32m/opt/conda/lib/python3.10/site-packages/pandas/core/apply.py:1143\u001b[0m, in \u001b[0;36mSeriesApply.apply_standard\u001b[0;34m(self)\u001b[0m\n\u001b[1;32m   1137\u001b[0m         values \u001b[38;5;241m=\u001b[39m obj\u001b[38;5;241m.\u001b[39mastype(\u001b[38;5;28mobject\u001b[39m)\u001b[38;5;241m.\u001b[39m_values\n\u001b[1;32m   1138\u001b[0m         \u001b[38;5;66;03m# error: Argument 2 to \"map_infer\" has incompatible type\u001b[39;00m\n\u001b[1;32m   1139\u001b[0m         \u001b[38;5;66;03m# \"Union[Callable[..., Any], str, List[Union[Callable[..., Any], str]],\u001b[39;00m\n\u001b[1;32m   1140\u001b[0m         \u001b[38;5;66;03m# Dict[Hashable, Union[Union[Callable[..., Any], str],\u001b[39;00m\n\u001b[1;32m   1141\u001b[0m         \u001b[38;5;66;03m# List[Union[Callable[..., Any], str]]]]]\"; expected\u001b[39;00m\n\u001b[1;32m   1142\u001b[0m         \u001b[38;5;66;03m# \"Callable[[Any], Any]\"\u001b[39;00m\n\u001b[0;32m-> 1143\u001b[0m         mapped \u001b[38;5;241m=\u001b[39m \u001b[43mlib\u001b[49m\u001b[38;5;241;43m.\u001b[39;49m\u001b[43mmap_infer\u001b[49m\u001b[43m(\u001b[49m\n\u001b[1;32m   1144\u001b[0m \u001b[43m            \u001b[49m\u001b[43mvalues\u001b[49m\u001b[43m,\u001b[49m\n\u001b[1;32m   1145\u001b[0m \u001b[43m            \u001b[49m\u001b[43mf\u001b[49m\u001b[43m,\u001b[49m\u001b[43m  \u001b[49m\u001b[38;5;66;43;03m# type: ignore[arg-type]\u001b[39;49;00m\n\u001b[1;32m   1146\u001b[0m \u001b[43m            \u001b[49m\u001b[43mconvert\u001b[49m\u001b[38;5;241;43m=\u001b[39;49m\u001b[38;5;28;43mself\u001b[39;49m\u001b[38;5;241;43m.\u001b[39;49m\u001b[43mconvert_dtype\u001b[49m\u001b[43m,\u001b[49m\n\u001b[1;32m   1147\u001b[0m \u001b[43m        \u001b[49m\u001b[43m)\u001b[49m\n\u001b[1;32m   1149\u001b[0m \u001b[38;5;28;01mif\u001b[39;00m \u001b[38;5;28mlen\u001b[39m(mapped) \u001b[38;5;129;01mand\u001b[39;00m \u001b[38;5;28misinstance\u001b[39m(mapped[\u001b[38;5;241m0\u001b[39m], ABCSeries):\n\u001b[1;32m   1150\u001b[0m     \u001b[38;5;66;03m# GH#43986 Need to do list(mapped) in order to get treated as nested\u001b[39;00m\n\u001b[1;32m   1151\u001b[0m     \u001b[38;5;66;03m#  See also GH#25959 regarding EA support\u001b[39;00m\n\u001b[1;32m   1152\u001b[0m     \u001b[38;5;28;01mreturn\u001b[39;00m obj\u001b[38;5;241m.\u001b[39m_constructor_expanddim(\u001b[38;5;28mlist\u001b[39m(mapped), index\u001b[38;5;241m=\u001b[39mobj\u001b[38;5;241m.\u001b[39mindex)\n",
      "File \u001b[0;32m/opt/conda/lib/python3.10/site-packages/pandas/_libs/lib.pyx:2870\u001b[0m, in \u001b[0;36mpandas._libs.lib.map_infer\u001b[0;34m()\u001b[0m\n",
      "Input \u001b[0;32mIn [9]\u001b[0m, in \u001b[0;36m<lambda>\u001b[0;34m(x)\u001b[0m\n\u001b[1;32m      5\u001b[0m tv_df \u001b[38;5;241m=\u001b[39m pd\u001b[38;5;241m.\u001b[39mread_csv(tv_data_path)\n\u001b[1;32m      6\u001b[0m tv_df\u001b[38;5;241m.\u001b[39mdrop(tv_df[tv_df\u001b[38;5;241m.\u001b[39msensor_status \u001b[38;5;241m==\u001b[39m \u001b[38;5;124m\"\u001b[39m\u001b[38;5;124munavailable\u001b[39m\u001b[38;5;124m\"\u001b[39m]\u001b[38;5;241m.\u001b[39mindex, inplace\u001b[38;5;241m=\u001b[39m\u001b[38;5;28;01mTrue\u001b[39;00m)\n\u001b[0;32m----> 7\u001b[0m tv_df\u001b[38;5;241m.\u001b[39mloc[:, \u001b[38;5;124m'\u001b[39m\u001b[38;5;124msensor_status\u001b[39m\u001b[38;5;124m'\u001b[39m] \u001b[38;5;241m=\u001b[39m tv_df\u001b[38;5;241m.\u001b[39mloc[:, \u001b[38;5;124m'\u001b[39m\u001b[38;5;124msensor_status\u001b[39m\u001b[38;5;124m'\u001b[39m]\u001b[38;5;241m.\u001b[39mapply(\u001b[38;5;28;01mlambda\u001b[39;00m x: \u001b[38;5;241m1\u001b[39m \u001b[38;5;28;01mif\u001b[39;00m \u001b[38;5;28mfloat\u001b[39m(x) \u001b[38;5;241m>\u001b[39m \u001b[43mtv_thresholds\u001b[49m\u001b[43m[\u001b[49m\u001b[43msubject_id\u001b[49m\u001b[43m]\u001b[49m \u001b[38;5;28;01melse\u001b[39;00m \u001b[38;5;241m0\u001b[39m)\n\u001b[1;32m      8\u001b[0m tv_df[\u001b[38;5;124m'\u001b[39m\u001b[38;5;124mis_change\u001b[39m\u001b[38;5;124m'\u001b[39m] \u001b[38;5;241m=\u001b[39m tv_df[\u001b[38;5;124m'\u001b[39m\u001b[38;5;124msensor_status\u001b[39m\u001b[38;5;124m'\u001b[39m]\u001b[38;5;241m.\u001b[39mne(tv_df[\u001b[38;5;124m'\u001b[39m\u001b[38;5;124msensor_status\u001b[39m\u001b[38;5;124m'\u001b[39m]\u001b[38;5;241m.\u001b[39mshift())\n\u001b[1;32m      9\u001b[0m df_result \u001b[38;5;241m=\u001b[39m tv_df[tv_df[\u001b[38;5;124m'\u001b[39m\u001b[38;5;124mis_change\u001b[39m\u001b[38;5;124m'\u001b[39m]]\u001b[38;5;241m.\u001b[39mdrop(columns\u001b[38;5;241m=\u001b[39m\u001b[38;5;124m'\u001b[39m\u001b[38;5;124mis_change\u001b[39m\u001b[38;5;124m'\u001b[39m)\n",
      "\u001b[0;31mKeyError\u001b[0m: '7'"
     ]
    }
   ],
   "source": [
    "for subject_id in subject_ids:\n",
    "    print(\"SUBJECT \"+subject_id)\n",
    "    try:\n",
    "        tv_data_path = f\"{raw_data_path}subject_{subject_id}/environmentals/PlugTvHall.csv\"\n",
    "        tv_df = pd.read_csv(tv_data_path)\n",
    "        tv_df.drop(tv_df[tv_df.sensor_status == \"unavailable\"].index, inplace=True)\n",
    "        tv_df.loc[:, 'sensor_status'] = tv_df.loc[:, 'sensor_status'].apply(lambda x: 1 if float(x) > tv_thresholds[subject_id] else 0)\n",
    "        tv_df['is_change'] = tv_df['sensor_status'].ne(tv_df['sensor_status'].shift())\n",
    "        df_result = tv_df[tv_df['is_change']].drop(columns='is_change')\n",
    "    \n",
    "        plt.step(df_result['ts'], df_result['sensor_status'], linestyle='-', where='post')\n",
    "        plt.ylim(ymin=0, ymax=1.5)\n",
    "        plt.xlabel('Timestamp')\n",
    "        plt.ylabel('Value')\n",
    "        plt.xticks(rotation=45)\n",
    "        plt.show()\n",
    "    \n",
    "        if not os.path.exists(f\"{preprocessed_data_path}subject_{subject_id}/environmentals/\"):\n",
    "            os.makedirs(f\"{preprocessed_data_path}subject_{subject_id}/environmentals/\")\n",
    "        tv_events_path = f\"{preprocessed_data_path}subject_{subject_id}/environmentals/PlugTvHall_events.csv\"\n",
    "        df_result['sensor_status'] = df_result['sensor_status'].apply(lambda x: 'on' if x == 1 else 'off')\n",
    "        df_result.to_csv(tv_events_path, index=False, header=True)\n",
    "        \n",
    "    except FileNotFoundError:\n",
    "        print(\"PLUG TV HALL FILE NOT EXISTING FOR SUBJECT \"+subject_id)"
   ]
  },
  {
   "cell_type": "markdown",
   "id": "0ec4b148-352b-4381-9684-af47220e26b9",
   "metadata": {
    "tags": []
   },
   "source": [
    "### CoffeMachine"
   ]
  },
  {
   "cell_type": "code",
   "execution_count": null,
   "id": "ab33f5d2-c261-4134-8678-d957f3d12d8b",
   "metadata": {},
   "outputs": [],
   "source": [
    "coffe_machine_thresholds = {\n",
    "    \"1\": None,\n",
    "    \"2\": None,\n",
    "    \"3\": 800,\n",
    "    \"4\": None, \n",
    "    \"5\": None\n",
    "}"
   ]
  },
  {
   "cell_type": "code",
   "execution_count": null,
   "id": "37a652bf-458b-4ffe-be4c-96abaca02454",
   "metadata": {
    "scrolled": true
   },
   "outputs": [],
   "source": [
    "for subject_id in subject_ids:\n",
    "    print(\"SUBJECT \"+subject_id)\n",
    "    try:\n",
    "        coffe_machine_data_path = f\"{raw_data_path}subject_{subject_id}/environmentals/CoffeMachine.csv\"\n",
    "        coffe_machine_df = pd.read_csv(coffe_machine_data_path)\n",
    "        coffe_machine_df.drop(coffe_machine_df[coffe_machine_df.sensor_status == \"unavailable\"].index, inplace=True)\n",
    "        coffe_machine_df.loc[:, 'sensor_status'] = coffe_machine_df.loc[:, 'sensor_status'].apply(lambda x: 1 if float(x) > coffe_machine_thresholds[subject_id] else 0)\n",
    "        coffe_machine_df['is_change'] = coffe_machine_df['sensor_status'].ne(coffe_machine_df['sensor_status'].shift())\n",
    "        df_result = coffe_machine_df[coffe_machine_df['is_change']].drop(columns='is_change')\n",
    "    \n",
    "        plt.step(df_result['ts'], df_result['sensor_status'], linestyle='-', where='post')\n",
    "        plt.ylim(ymin=0, ymax=1.5)\n",
    "        plt.xlabel('Timestamp')\n",
    "        plt.ylabel('Value')\n",
    "        plt.xticks(rotation=45)\n",
    "        plt.show()\n",
    "    \n",
    "        if not os.path.exists(f\"{preprocessed_data_path}subject_{subject_id}/environmentals/\"):\n",
    "            os.makedirs(f\"{preprocessed_data_path}subject_{subject_id}/environmentals/\")\n",
    "        coffe_machine_events_path = f\"{preprocessed_data_path}subject_{subject_id}/environmentals/CoffeMachine_events.csv\"\n",
    "        df_result['sensor_status'] = df_result['sensor_status'].apply(lambda x: 'on' if x == 1 else 'off')\n",
    "        df_result.to_csv(coffe_machine_events_path, index=False, header=True)\n",
    "        \n",
    "    except FileNotFoundError:\n",
    "        print(\"COFFE MACHINE FILE NOT EXISTING FOR SUBJECT \"+subject_id)"
   ]
  },
  {
   "cell_type": "markdown",
   "id": "80789ce4-0974-4a91-800f-4eb9d56416bb",
   "metadata": {
    "tags": []
   },
   "source": [
    "### Printer"
   ]
  },
  {
   "cell_type": "code",
   "execution_count": null,
   "id": "85202e81-2475-4da6-a1fe-ed5a48d37e2e",
   "metadata": {},
   "outputs": [],
   "source": [
    "printer_thresholds = {\n",
    "    \"1\": None,\n",
    "    \"2\": None,\n",
    "    \"3\": 250,\n",
    "    \"4\": None, \n",
    "    \"5\": None\n",
    "}"
   ]
  },
  {
   "cell_type": "code",
   "execution_count": null,
   "id": "195a5ab9-9028-48f1-b45f-bebbb4e7ab5d",
   "metadata": {
    "scrolled": true,
    "tags": []
   },
   "outputs": [],
   "source": [
    "for subject_id in subject_ids:\n",
    "    print(\"SUBJECT \"+subject_id)\n",
    "    try:\n",
    "        printer_data_path = f\"{raw_data_path}subject_{subject_id}/environmentals/Printer.csv\"\n",
    "        printer_df = pd.read_csv(printer_data_path)\n",
    "        printer_df.drop(printer_df[printer_df.sensor_status == \"unavailable\"].index, inplace=True)\n",
    "        printer_df.loc[:, 'sensor_status'] = printer_df.loc[:, 'sensor_status'].apply(lambda x: 1 if float(x) > printer_thresholds[subject_id] else 0)\n",
    "        printer_df['is_change'] = printer_df['sensor_status'].ne(printer_df['sensor_status'].shift())\n",
    "        df_result = printer_df[printer_df['is_change']].drop(columns='is_change')\n",
    "    \n",
    "        plt.step(df_result['ts'], df_result['sensor_status'], linestyle='-', where='post')\n",
    "        plt.ylim(ymin=0, ymax=1.5)\n",
    "        plt.xlabel('Timestamp')\n",
    "        plt.ylabel('Value')\n",
    "        plt.xticks(rotation=45)\n",
    "        plt.show()\n",
    "        \n",
    "        if not os.path.exists(f\"{preprocessed_data_path}subject_{subject_id}/environmentals/\"):\n",
    "            os.makedirs(f\"{preprocessed_data_path}subject_{subject_id}/environmentals/\")\n",
    "        printer_events_path = f\"{preprocessed_data_path}subject_{subject_id}/environmentals/printer_events.csv\"\n",
    "        df_result['sensor_status'] = df_result['sensor_status'].apply(lambda x: 'on' if x == 1 else 'off')\n",
    "        df_result.to_csv(printer_events_path, index=False, header=True)\n",
    "        \n",
    "    except FileNotFoundError:\n",
    "        print(\"PRINTER FILE NOT EXISTING FOR SUBJECT \"+subject_id)"
   ]
  },
  {
   "cell_type": "markdown",
   "id": "5c06e25f-6be6-48cb-aae5-f5efd709a81f",
   "metadata": {
    "tags": []
   },
   "source": [
    "### Dishwasher"
   ]
  },
  {
   "cell_type": "code",
   "execution_count": null,
   "id": "748640d6-46b0-4d66-b017-2e9698511ca1",
   "metadata": {},
   "outputs": [],
   "source": [
    "dishwasher_thresholds = {\n",
    "    \"1\": 1000,\n",
    "    \"2\": None,\n",
    "    \"3\": None,\n",
    "    \"4\": None, \n",
    "    \"5\": None\n",
    "}"
   ]
  },
  {
   "cell_type": "code",
   "execution_count": null,
   "id": "76ddb94f-85ef-41a1-871d-6c8a61327cc7",
   "metadata": {
    "scrolled": true,
    "tags": []
   },
   "outputs": [],
   "source": [
    "for subject_id in subject_ids:\n",
    "    print(\"SUBJECT \"+subject_id)\n",
    "    try:\n",
    "        printer_data_path = f\"{raw_data_path}subject_{subject_id}/environmentals/WashingMachine.csv\"\n",
    "        printer_df = pd.read_csv(printer_data_path)\n",
    "        \n",
    "        printer_df.loc[:, 'sensor_status'] = printer_df.loc[:, 'sensor_status'].apply(lambda x: 1 if x > dishwasher_thresholds[subject_id] else 0)\n",
    "        printer_df['is_change'] = printer_df['sensor_status'].ne(printer_df['sensor_status'].shift())\n",
    "        df_result = printer_df[printer_df['is_change']].drop(columns='is_change')\n",
    "    \n",
    "        plt.step(df_result['ts'], df_result['sensor_status'], linestyle='-', where='post')\n",
    "        plt.ylim(ymin=0, ymax=1.5)\n",
    "        plt.xlabel('Timestamp')\n",
    "        plt.ylabel('Value')\n",
    "        plt.xticks(rotation=45)\n",
    "        plt.show()\n",
    "    \n",
    "        if not os.path.exists(f\"{preprocessed_data_path}subject_{subject_id}/environmentals/\"):\n",
    "            os.makedirs(f\"{preprocessed_data_path}subject_{subject_id}/environmentals/\")\n",
    "        printer_events_path = f\"{preprocessed_data_path}subject_{subject_id}/environmentals/washingMachine_events.csv\"\n",
    "        df_result['sensor_status'] = df_result['sensor_status'].apply(lambda x: 'on' if x == 1 else 'off')\n",
    "        df_result.to_csv(printer_events_path, index=False, header=True)\n",
    "        \n",
    "    except FileNotFoundError:\n",
    "        print(\"DISHWASHER FILE NOT EXISTING FOR SUBJECT \"+subject_id)"
   ]
  },
  {
   "cell_type": "markdown",
   "id": "52731de7-70ce-4ee5-850d-980da7c5b782",
   "metadata": {
    "tags": []
   },
   "source": [
    "## Magnetic and Motion"
   ]
  },
  {
   "cell_type": "code",
   "execution_count": 10,
   "id": "15a0f968-2882-45c6-b49e-99e038d77756",
   "metadata": {},
   "outputs": [],
   "source": [
    "subjects_folders = sorted(list(os.walk(raw_data_path))[0][1])\n",
    "data_paths = {}"
   ]
  },
  {
   "cell_type": "code",
   "execution_count": 11,
   "id": "a2c79a65-30e6-46ac-bf35-ec82273c52c1",
   "metadata": {
    "scrolled": true,
    "tags": []
   },
   "outputs": [
    {
     "name": "stdout",
     "output_type": "stream",
     "text": [
      "Discovering data folders...\n",
      "subject_1\n",
      "|__ environmentals\n",
      "  |___ Dishes_Glasses.csv\n",
      "  |___ FoodStorage.csv\n",
      "  |___ Freezer.csv\n",
      "  |___ HouseEntrance.csv\n",
      "  |___ Microwave.csv\n",
      "  |___ Microwave_events.csv\n",
      "  |___ MotionBathroom.csv\n",
      "  |___ MotionBedroom.csv\n",
      "  |___ MotionKitchen.csv\n",
      "  |___ MotionLivingroom.csv\n",
      "  |___ PlugTvHall.csv\n",
      "  |___ PlugTvHall_events.csv\n",
      "  |___ Refrigerator.csv\n",
      "  |___ Shower_Hum_Temp.csv\n",
      "  |___ Silverware.csv\n",
      "  |___ WashingMachine.csv\n",
      "  |___ washingMachine_events.csv\n",
      "|__ sleep\n",
      "  |___ sleep_events.csv\n",
      "|__ smartwatch\n",
      "  |___ smartwatch_active.csv\n",
      "|__ toothbrush\n",
      "  |___ toothbrush.csv\n",
      "subject_2\n",
      "|__ environmentals\n",
      "  |___ Dishes_Silverware.csv\n",
      "  |___ FoodStorage.csv\n",
      "  |___ HouseEntrance.csv\n",
      "  |___ Hum_Temp_Bath.csv\n",
      "  |___ Hum_Temp_Stove.csv\n",
      "  |___ Medicines.csv\n",
      "  |___ MotionBathroom.csv\n",
      "  |___ MotionBedroom.csv\n",
      "  |___ MotionKitchen.csv\n",
      "  |___ MotionLivingroom.csv\n",
      "  |___ MotionOtherroom.csv\n",
      "  |___ PlugTvHall.csv\n",
      "  |___ PlugTvHall_events.csv\n",
      "  |___ Refrigerator.csv\n",
      "|__ sleep\n",
      "  |___ sleep_events.csv\n",
      "|__ smartwatch\n",
      "  |___ smartwatch_active.csv\n",
      "|__ toothbrush\n",
      "  |___ toothbrush.csv\n",
      "subject_3\n",
      "|__ environmentals\n",
      "  |___ CoffeMachine.csv\n",
      "  |___ CoffeMachine_events.csv\n",
      "  |___ Dishes_Glasses.csv\n",
      "  |___ FoodStorageKitchen.csv\n",
      "  |___ FoodStorageLivingRoom.csv\n",
      "  |___ Freezer.csv\n",
      "  |___ HouseEntrance.csv\n",
      "  |___ Medicines.csv\n",
      "  |___ Microwave.csv\n",
      "  |___ Microwave_events.csv\n",
      "  |___ MotionBedroom.csv\n",
      "  |___ MotionKitchen.csv\n",
      "  |___ MotionLivingRoomSofa.csv\n",
      "  |___ MotionLivingRoomTablet.csv\n",
      "  |___ MotionPrimaryBathroom.csv\n",
      "  |___ MotionSecondaryBathroom.csv\n",
      "  |___ PlugTvHall.csv\n",
      "  |___ PlugTvHall_events.csv\n",
      "  |___ Printer.csv\n",
      "  |___ Refrigerator.csv\n",
      "  |___ Shower_Hum_Temp.csv\n",
      "  |___ Stove_Hum_Temp.csv\n",
      "  |___ printer_events.csv\n",
      "|__ sleep\n",
      "  |___ sleep_events.csv\n",
      "|__ smartwatch\n",
      "  |___ smartwatch_active.csv\n",
      "|__ toothbrush\n",
      "  |___ toothbrush.csv\n",
      "subject_4\n",
      "|__ environmentals\n",
      "  |___ Cookware.csv\n",
      "  |___ Dishes_Glasses.csv\n",
      "  |___ Freezer.csv\n",
      "  |___ HouseEntrance.csv\n",
      "  |___ Microwave.csv\n",
      "  |___ Microwave_events.csv\n",
      "  |___ MotionBedroom.csv\n",
      "  |___ MotionKitchen.csv\n",
      "  |___ MotionLivingroom.csv\n",
      "  |___ MotionOtherroom.csv\n",
      "  |___ MotionPrimaryBathroom.csv\n",
      "  |___ MotionSecondaryBathroom.csv\n",
      "  |___ Refrigerator.csv\n",
      "  |___ Shower_Hum_Temp.csv\n",
      "  |___ Silverware.csv\n",
      "  |___ Stove_Hum_Temp.csv\n",
      "|__ sleep\n",
      "  |___ sleep_events.csv\n",
      "|__ smartwatch\n",
      "  |___ smartwatch_active.csv\n",
      "|__ toothbrush\n",
      "  |___ toothbrush.csv\n",
      "subject_5\n",
      "|__ environmentals\n",
      "  |___ Cookware.csv\n",
      "  |___ FoodStorage.csv\n",
      "  |___ Freezer.csv\n",
      "  |___ HouseEntrance.csv\n",
      "  |___ Medicines.csv\n",
      "  |___ Microwave.csv\n",
      "  |___ Microwave_events.csv\n",
      "  |___ MotionBathroom.csv\n",
      "  |___ MotionBedroom.csv\n",
      "  |___ MotionDiningTable.csv\n",
      "  |___ MotionGuestRoom.csv\n",
      "  |___ MotionKitchen.csv\n",
      "  |___ MotionLivingroom.csv\n",
      "  |___ MotionOtherRoom.csv\n",
      "  |___ PlugTvHall.csv\n",
      "  |___ PlugTvHall_events.csv\n",
      "  |___ Refrigerator.csv\n",
      "  |___ Shower_Hum_Temp.csv\n",
      "  |___ Silverware.csv\n",
      "  |___ Stove_Hum_Temp.csv\n",
      "|__ sleep\n",
      "  |___ sleep_events.csv\n",
      "|__ smartwatch\n",
      "  |___ smartwatch_active.csv\n",
      "|__ toothbrush\n",
      "  |___ toothbrush.csv\n",
      "subject_7\n",
      "|__ environmentals\n",
      "  |___ Dishes.csv\n",
      "  |___ FoodStorage.csv\n",
      "  |___ Freezer.csv\n",
      "  |___ HouseEntrance.csv\n",
      "  |___ Medicines.csv\n",
      "  |___ MotionBathroom.csv\n",
      "  |___ MotionBedroom.csv\n",
      "  |___ MotionKitchen.csv\n",
      "  |___ MotionLivingroom.csv\n",
      "  |___ PlugTvHall.csv\n",
      "  |___ PlugTvKitchen.csv\n",
      "  |___ Refrigerator.csv\n",
      "  |___ Shower_Hum_Temp.csv\n",
      "  |___ Silverware.csv\n",
      "  |___ Stove_Hum_Temp.csv\n",
      "|__ sleep\n",
      "  |___ sleep_events.csv\n",
      "|__ smartwatch\n",
      "  |___ smartwatch_active.csv\n",
      "|__ toothbrush\n",
      "  |___ toothbrush.csv\n"
     ]
    }
   ],
   "source": [
    "print(\"Discovering data folders...\")\n",
    "for i, folder in enumerate(subjects_folders):\n",
    "    print(folder)\n",
    "    data_paths[i+1] = []\n",
    "    for f in sorted(list(os.walk(raw_data_path+folder))[0][1]):\n",
    "        print(\"|__ \"+f)\n",
    "        for file in sorted(list(os.walk(raw_data_path+folder+\"/\"+f))[0][2]):\n",
    "            print(\"  |___ \"+file) \n",
    "            data_paths[i+1].append(raw_data_path+folder+\"/\"+f+\"/\"+file)"
   ]
  },
  {
   "cell_type": "code",
   "execution_count": 12,
   "id": "f0aec1c0-6d0e-4b7e-8bcf-54c940d2078e",
   "metadata": {},
   "outputs": [],
   "source": [
    "file_to_exclude = [\n",
    "    \"Microwave.csv\", \n",
    "    \"PlugTvHall.csv\", \n",
    "    \"Shower_Hum_Temp.csv\", \n",
    "    \"Hum_Temp_Bath.csv\", \n",
    "    \"Hum_Temp_Stove.csv\",\n",
    "    \"CoffeMachine.csv\", \n",
    "    \"Printer.csv\", \n",
    "    \"Stove_Hum_Temp.csv\",\n",
    "    \"WashingMachine.csv\",\n",
    "    \"smartwatch_active.csv\",\n",
    "    \"toothbrush.csv\",\n",
    "    \"sleep_events.csv\"\n",
    "]"
   ]
  },
  {
   "cell_type": "markdown",
   "id": "6c2f83f1-05b4-4bf4-b424-902ba99b65e6",
   "metadata": {
    "tags": []
   },
   "source": [
    "### Manage \"unavailable\" and \"unknown\" sensor status\n",
    "we remove events of type unavailable and unknown, if the previous and the next event are of different types (on-off or off-on) we do not make no further changes, if the previous and the next event are of the same type (on-on or off-off), the next event is also removed"
   ]
  },
  {
   "cell_type": "code",
   "execution_count": 13,
   "id": "31840d9d-f933-4291-8f36-920534ade86a",
   "metadata": {
    "scrolled": true,
    "tags": []
   },
   "outputs": [
    {
     "name": "stdout",
     "output_type": "stream",
     "text": [
      "--- CHECKING DATA FOR SUBJECT 1 ---\n",
      "DATA/subject_1/environmentals/Dishes_Glasses.csv\n",
      "DATA/subject_1/environmentals/FoodStorage.csv\n",
      "DATA/subject_1/environmentals/Freezer.csv\n",
      "DATA/subject_1/environmentals/HouseEntrance.csv\n",
      "DATA/subject_1/environmentals/Microwave_events.csv\n",
      "DATA/subject_1/environmentals/MotionBathroom.csv\n",
      "DATA/subject_1/environmentals/MotionBedroom.csv\n",
      "DATA/subject_1/environmentals/MotionKitchen.csv\n",
      "DATA/subject_1/environmentals/MotionLivingroom.csv\n",
      "DATA/subject_1/environmentals/PlugTvHall_events.csv\n",
      "DATA/subject_1/environmentals/Refrigerator.csv\n",
      "DATA/subject_1/environmentals/Silverware.csv\n",
      "DATA/subject_1/environmentals/washingMachine_events.csv\n",
      "\n",
      "--- CHECKING DATA FOR SUBJECT 2 ---\n",
      "DATA/subject_2/environmentals/Dishes_Silverware.csv\n",
      "DATA/subject_2/environmentals/FoodStorage.csv\n",
      "DATA/subject_2/environmentals/HouseEntrance.csv\n",
      "DATA/subject_2/environmentals/Medicines.csv\n",
      "DATA/subject_2/environmentals/MotionBathroom.csv\n",
      "DATA/subject_2/environmentals/MotionBedroom.csv\n",
      "DATA/subject_2/environmentals/MotionKitchen.csv\n",
      "DATA/subject_2/environmentals/MotionLivingroom.csv\n",
      "DATA/subject_2/environmentals/MotionOtherroom.csv\n",
      "DATA/subject_2/environmentals/PlugTvHall_events.csv\n",
      "DATA/subject_2/environmentals/Refrigerator.csv\n",
      "\n",
      "--- CHECKING DATA FOR SUBJECT 3 ---\n",
      "DATA/subject_3/environmentals/CoffeMachine_events.csv\n",
      "DATA/subject_3/environmentals/Dishes_Glasses.csv\n",
      "DATA/subject_3/environmentals/FoodStorageKitchen.csv\n",
      "DATA/subject_3/environmentals/FoodStorageLivingRoom.csv\n",
      "DATA/subject_3/environmentals/Freezer.csv\n",
      "DATA/subject_3/environmentals/HouseEntrance.csv\n",
      "DATA/subject_3/environmentals/Medicines.csv\n",
      "DATA/subject_3/environmentals/Microwave_events.csv\n",
      "DATA/subject_3/environmentals/MotionBedroom.csv\n",
      "DATA/subject_3/environmentals/MotionKitchen.csv\n",
      "DATA/subject_3/environmentals/MotionLivingRoomSofa.csv\n",
      "DATA/subject_3/environmentals/MotionLivingRoomTablet.csv\n",
      "DATA/subject_3/environmentals/MotionPrimaryBathroom.csv\n",
      "DATA/subject_3/environmentals/MotionSecondaryBathroom.csv\n",
      "DATA/subject_3/environmentals/PlugTvHall_events.csv\n",
      "DATA/subject_3/environmentals/Refrigerator.csv\n",
      "DATA/subject_3/environmentals/printer_events.csv\n",
      "\n",
      "--- CHECKING DATA FOR SUBJECT 4 ---\n",
      "DATA/subject_4/environmentals/Cookware.csv\n",
      "DATA/subject_4/environmentals/Dishes_Glasses.csv\n",
      "DATA/subject_4/environmentals/Freezer.csv\n",
      "DATA/subject_4/environmentals/HouseEntrance.csv\n",
      "DATA/subject_4/environmentals/Microwave_events.csv\n",
      "DATA/subject_4/environmentals/MotionBedroom.csv\n",
      "DATA/subject_4/environmentals/MotionKitchen.csv\n",
      "DATA/subject_4/environmentals/MotionLivingroom.csv\n",
      "DATA/subject_4/environmentals/MotionOtherroom.csv\n",
      "DATA/subject_4/environmentals/MotionPrimaryBathroom.csv\n",
      "DATA/subject_4/environmentals/MotionSecondaryBathroom.csv\n",
      "DATA/subject_4/environmentals/Refrigerator.csv\n",
      "DATA/subject_4/environmentals/Silverware.csv\n",
      "\n",
      "--- CHECKING DATA FOR SUBJECT 5 ---\n",
      "DATA/subject_5/environmentals/Cookware.csv\n",
      "DATA/subject_5/environmentals/FoodStorage.csv\n",
      "DATA/subject_5/environmentals/Freezer.csv\n",
      "DATA/subject_5/environmentals/HouseEntrance.csv\n",
      "DATA/subject_5/environmentals/Medicines.csv\n",
      "DATA/subject_5/environmentals/Microwave_events.csv\n",
      "DATA/subject_5/environmentals/MotionBathroom.csv\n",
      "DATA/subject_5/environmentals/MotionBedroom.csv\n",
      "DATA/subject_5/environmentals/MotionDiningTable.csv\n",
      "DATA/subject_5/environmentals/MotionGuestRoom.csv\n",
      "DATA/subject_5/environmentals/MotionKitchen.csv\n",
      "DATA/subject_5/environmentals/MotionLivingroom.csv\n",
      "DATA/subject_5/environmentals/MotionOtherRoom.csv\n",
      "DATA/subject_5/environmentals/PlugTvHall_events.csv\n",
      "DATA/subject_5/environmentals/Refrigerator.csv\n",
      "DATA/subject_5/environmentals/Silverware.csv\n",
      "\n",
      "--- CHECKING DATA FOR SUBJECT 6 ---\n",
      "DATA/subject_7/environmentals/Dishes.csv\n",
      "DATA/subject_7/environmentals/FoodStorage.csv\n",
      "DATA/subject_7/environmentals/Freezer.csv\n",
      "DATA/subject_7/environmentals/HouseEntrance.csv\n",
      "DATA/subject_7/environmentals/Medicines.csv\n",
      "DATA/subject_7/environmentals/MotionBathroom.csv\n",
      "DATA/subject_7/environmentals/MotionBedroom.csv\n",
      "DATA/subject_7/environmentals/MotionKitchen.csv\n",
      "DATA/subject_7/environmentals/MotionLivingroom.csv\n",
      "DATA/subject_7/environmentals/PlugTvKitchen.csv\n",
      "DATA/subject_7/environmentals/Refrigerator.csv\n",
      "DATA/subject_7/environmentals/Silverware.csv\n",
      "\n"
     ]
    }
   ],
   "source": [
    "data = {}\n",
    "for subject in data_paths.keys():\n",
    "    data[subject] = []\n",
    "    print(f\"--- CHECKING DATA FOR SUBJECT {subject} ---\")\n",
    "    for path in data_paths[subject]:\n",
    "        if all(st not in path for st in file_to_exclude):\n",
    "            df = pd.read_csv(path) \n",
    "            print(path)\n",
    "            wrong_data = df[(df.sensor_status!=\"on\") & (df.sensor_status!=\"off\")]\n",
    "            wrong_data_indexes = list(df[(df.sensor_status!=\"on\") & (df.sensor_status!=\"off\")].index)\n",
    "            df.drop(wrong_data_indexes, inplace=True)\n",
    "            for i in reversed(list(df.index)[1:]):\n",
    "                if df.loc[i].sensor_status == df.iloc[df.index.get_loc(i)-1].sensor_status:\n",
    "                    df.drop([i], inplace=True)\n",
    "            data[subject].append(df)\n",
    "    print()"
   ]
  },
  {
   "cell_type": "markdown",
   "id": "a340ee04-0e10-4f23-a9ad-fb34c6b3d10b",
   "metadata": {
    "tags": []
   },
   "source": [
    "### Change data format"
   ]
  },
  {
   "cell_type": "code",
   "execution_count": 14,
   "id": "69359120-ab42-45a5-b916-fb93d1d16953",
   "metadata": {
    "scrolled": true,
    "tags": []
   },
   "outputs": [
    {
     "name": "stdout",
     "output_type": "stream",
     "text": [
      "Dishes_Glasses of patient 1\n",
      "created file: PREPROCESSED_DATA/subject_1/environmentals/Dishes_Glasses.csv\n",
      "FoodStorage of patient 1\n",
      "created file: PREPROCESSED_DATA/subject_1/environmentals/FoodStorage.csv\n",
      "Freezer of patient 1\n",
      "created file: PREPROCESSED_DATA/subject_1/environmentals/Freezer.csv\n",
      "HouseEntrance of patient 1\n",
      "created file: PREPROCESSED_DATA/subject_1/environmentals/HouseEntrance.csv\n",
      "Microwave of patient 1\n",
      "created file: PREPROCESSED_DATA/subject_1/environmentals/Microwave.csv\n",
      "MotionBathroom of patient 1\n",
      "created file: PREPROCESSED_DATA/subject_1/environmentals/MotionBathroom.csv\n",
      "MotionBedroom of patient 1\n",
      "created file: PREPROCESSED_DATA/subject_1/environmentals/MotionBedroom.csv\n",
      "MotionKitchen of patient 1\n",
      "created file: PREPROCESSED_DATA/subject_1/environmentals/MotionKitchen.csv\n",
      "MotionLivingroom of patient 1\n",
      "created file: PREPROCESSED_DATA/subject_1/environmentals/MotionLivingroom.csv\n",
      "PlugTvHall of patient 1\n",
      "created file: PREPROCESSED_DATA/subject_1/environmentals/PlugTvHall.csv\n",
      "Refrigerator of patient 1\n",
      "created file: PREPROCESSED_DATA/subject_1/environmentals/Refrigerator.csv\n",
      "Silverware of patient 1\n",
      "created file: PREPROCESSED_DATA/subject_1/environmentals/Silverware.csv\n",
      "WashingMachine of patient 1\n",
      "created file: PREPROCESSED_DATA/subject_1/environmentals/WashingMachine.csv\n",
      "Dishes_Silverware of patient 2\n",
      "created file: PREPROCESSED_DATA/subject_2/environmentals/Dishes_Silverware.csv\n",
      "FoodStorage of patient 2\n",
      "created file: PREPROCESSED_DATA/subject_2/environmentals/FoodStorage.csv\n",
      "HouseEntrance of patient 2\n",
      "created file: PREPROCESSED_DATA/subject_2/environmentals/HouseEntrance.csv\n",
      "Medicines of patient 2\n",
      "created file: PREPROCESSED_DATA/subject_2/environmentals/Medicines.csv\n",
      "MotionBathroom of patient 2\n",
      "created file: PREPROCESSED_DATA/subject_2/environmentals/MotionBathroom.csv\n",
      "MotionBedroom of patient 2\n",
      "created file: PREPROCESSED_DATA/subject_2/environmentals/MotionBedroom.csv\n",
      "MotionKitchen of patient 2\n",
      "created file: PREPROCESSED_DATA/subject_2/environmentals/MotionKitchen.csv\n",
      "MotionLivingroom of patient 2\n",
      "created file: PREPROCESSED_DATA/subject_2/environmentals/MotionLivingroom.csv\n",
      "MotionOtherroom of patient 2\n",
      "created file: PREPROCESSED_DATA/subject_2/environmentals/MotionOtherroom.csv\n",
      "PlugTvHall of patient 2\n",
      "created file: PREPROCESSED_DATA/subject_2/environmentals/PlugTvHall.csv\n",
      "Refrigerator of patient 2\n",
      "created file: PREPROCESSED_DATA/subject_2/environmentals/Refrigerator.csv\n",
      "CoffeMachine of patient 3\n",
      "created file: PREPROCESSED_DATA/subject_3/environmentals/CoffeMachine.csv\n",
      "Dishes_Glasses of patient 3\n",
      "created file: PREPROCESSED_DATA/subject_3/environmentals/Dishes_Glasses.csv\n",
      "FoodStorageKitchen of patient 3\n",
      "created file: PREPROCESSED_DATA/subject_3/environmentals/FoodStorageKitchen.csv\n",
      "FoodStorageLivingRoom of patient 3\n",
      "created file: PREPROCESSED_DATA/subject_3/environmentals/FoodStorageLivingRoom.csv\n",
      "Freezer of patient 3\n",
      "created file: PREPROCESSED_DATA/subject_3/environmentals/Freezer.csv\n",
      "HouseEntrance of patient 3\n",
      "created file: PREPROCESSED_DATA/subject_3/environmentals/HouseEntrance.csv\n",
      "Medicines of patient 3\n",
      "created file: PREPROCESSED_DATA/subject_3/environmentals/Medicines.csv\n",
      "Microwave of patient 3\n",
      "created file: PREPROCESSED_DATA/subject_3/environmentals/Microwave.csv\n",
      "MotionBedroom of patient 3\n",
      "created file: PREPROCESSED_DATA/subject_3/environmentals/MotionBedroom.csv\n",
      "MotionKitchen of patient 3\n",
      "created file: PREPROCESSED_DATA/subject_3/environmentals/MotionKitchen.csv\n",
      "MotionLivingRoomSofa of patient 3\n",
      "created file: PREPROCESSED_DATA/subject_3/environmentals/MotionLivingRoomSofa.csv\n",
      "MotionLivingRoomTablet of patient 3\n",
      "created file: PREPROCESSED_DATA/subject_3/environmentals/MotionLivingRoomTablet.csv\n",
      "MotionPrimaryBathroom of patient 3\n",
      "created file: PREPROCESSED_DATA/subject_3/environmentals/MotionPrimaryBathroom.csv\n",
      "MotionSecondaryBathroom of patient 3\n",
      "created file: PREPROCESSED_DATA/subject_3/environmentals/MotionSecondaryBathroom.csv\n",
      "PlugTvHall of patient 3\n",
      "created file: PREPROCESSED_DATA/subject_3/environmentals/PlugTvHall.csv\n",
      "Refrigerator of patient 3\n",
      "created file: PREPROCESSED_DATA/subject_3/environmentals/Refrigerator.csv\n",
      "Printer of patient 3\n",
      "created file: PREPROCESSED_DATA/subject_3/environmentals/Printer.csv\n",
      "Cookware of patient 4\n",
      "created file: PREPROCESSED_DATA/subject_4/environmentals/Cookware.csv\n",
      "Dishes_Glasses of patient 4\n",
      "created file: PREPROCESSED_DATA/subject_4/environmentals/Dishes_Glasses.csv\n",
      "Freezer of patient 4\n",
      "created file: PREPROCESSED_DATA/subject_4/environmentals/Freezer.csv\n",
      "HouseEntrance of patient 4\n",
      "created file: PREPROCESSED_DATA/subject_4/environmentals/HouseEntrance.csv\n",
      "Microwave of patient 4\n",
      "created file: PREPROCESSED_DATA/subject_4/environmentals/Microwave.csv\n",
      "MotionBedroom of patient 4\n",
      "created file: PREPROCESSED_DATA/subject_4/environmentals/MotionBedroom.csv\n",
      "MotionKitchen of patient 4\n",
      "created file: PREPROCESSED_DATA/subject_4/environmentals/MotionKitchen.csv\n",
      "MotionLivingroom of patient 4\n",
      "created file: PREPROCESSED_DATA/subject_4/environmentals/MotionLivingroom.csv\n",
      "MotionOtherroom of patient 4\n",
      "created file: PREPROCESSED_DATA/subject_4/environmentals/MotionOtherroom.csv\n",
      "MotionPrimaryBathroom of patient 4\n",
      "created file: PREPROCESSED_DATA/subject_4/environmentals/MotionPrimaryBathroom.csv\n",
      "MotionSecondaryBathroom of patient 4\n",
      "created file: PREPROCESSED_DATA/subject_4/environmentals/MotionSecondaryBathroom.csv\n",
      "Refrigerator of patient 4\n",
      "created file: PREPROCESSED_DATA/subject_4/environmentals/Refrigerator.csv\n",
      "Silverware of patient 4\n",
      "created file: PREPROCESSED_DATA/subject_4/environmentals/Silverware.csv\n",
      "Cookware of patient 5\n",
      "created file: PREPROCESSED_DATA/subject_5/environmentals/Cookware.csv\n",
      "FoodStorage of patient 5\n",
      "created file: PREPROCESSED_DATA/subject_5/environmentals/FoodStorage.csv\n",
      "Freezer of patient 5\n",
      "created file: PREPROCESSED_DATA/subject_5/environmentals/Freezer.csv\n",
      "HouseEntrance of patient 5\n",
      "created file: PREPROCESSED_DATA/subject_5/environmentals/HouseEntrance.csv\n",
      "Medicines of patient 5\n",
      "created file: PREPROCESSED_DATA/subject_5/environmentals/Medicines.csv\n",
      "Microwave of patient 5\n",
      "created file: PREPROCESSED_DATA/subject_5/environmentals/Microwave.csv\n",
      "MotionBathroom of patient 5\n",
      "created file: PREPROCESSED_DATA/subject_5/environmentals/MotionBathroom.csv\n",
      "MotionBedroom of patient 5\n",
      "created file: PREPROCESSED_DATA/subject_5/environmentals/MotionBedroom.csv\n",
      "MotionDiningTable of patient 5\n",
      "created file: PREPROCESSED_DATA/subject_5/environmentals/MotionDiningTable.csv\n",
      "MotionGuestRoom of patient 5\n",
      "created file: PREPROCESSED_DATA/subject_5/environmentals/MotionGuestRoom.csv\n",
      "MotionKitchen of patient 5\n",
      "created file: PREPROCESSED_DATA/subject_5/environmentals/MotionKitchen.csv\n",
      "MotionLivingroom of patient 5\n",
      "created file: PREPROCESSED_DATA/subject_5/environmentals/MotionLivingroom.csv\n",
      "MotionOtherRoom of patient 5\n",
      "created file: PREPROCESSED_DATA/subject_5/environmentals/MotionOtherRoom.csv\n",
      "PlugTvHall of patient 5\n",
      "created file: PREPROCESSED_DATA/subject_5/environmentals/PlugTvHall.csv\n",
      "Refrigerator of patient 5\n",
      "created file: PREPROCESSED_DATA/subject_5/environmentals/Refrigerator.csv\n",
      "Silverware of patient 5\n",
      "created file: PREPROCESSED_DATA/subject_5/environmentals/Silverware.csv\n",
      "Dishes of patient 6\n",
      "created file: PREPROCESSED_DATA/subject_6/environmentals/Dishes.csv\n",
      "FoodStorage of patient 6\n",
      "created file: PREPROCESSED_DATA/subject_6/environmentals/FoodStorage.csv\n",
      "Freezer of patient 6\n",
      "created file: PREPROCESSED_DATA/subject_6/environmentals/Freezer.csv\n",
      "HouseEntrance of patient 6\n",
      "created file: PREPROCESSED_DATA/subject_6/environmentals/HouseEntrance.csv\n",
      "Medicines of patient 6\n",
      "created file: PREPROCESSED_DATA/subject_6/environmentals/Medicines.csv\n",
      "MotionBathroom of patient 6\n",
      "created file: PREPROCESSED_DATA/subject_6/environmentals/MotionBathroom.csv\n",
      "MotionBedroom of patient 6\n",
      "created file: PREPROCESSED_DATA/subject_6/environmentals/MotionBedroom.csv\n",
      "MotionKitchen of patient 6\n",
      "created file: PREPROCESSED_DATA/subject_6/environmentals/MotionKitchen.csv\n",
      "MotionLivingroom of patient 6\n",
      "created file: PREPROCESSED_DATA/subject_6/environmentals/MotionLivingroom.csv\n"
     ]
    },
    {
     "ename": "IndexError",
     "evalue": "list index out of range",
     "output_type": "error",
     "traceback": [
      "\u001b[0;31m---------------------------------------------------------------------------\u001b[0m",
      "\u001b[0;31mIndexError\u001b[0m                                Traceback (most recent call last)",
      "Input \u001b[0;32mIn [14]\u001b[0m, in \u001b[0;36m<cell line: 1>\u001b[0;34m()\u001b[0m\n\u001b[1;32m      1\u001b[0m \u001b[38;5;28;01mfor\u001b[39;00m subject \u001b[38;5;129;01min\u001b[39;00m data\u001b[38;5;241m.\u001b[39mkeys():\n\u001b[1;32m      2\u001b[0m     \u001b[38;5;28;01mfor\u001b[39;00m df \u001b[38;5;129;01min\u001b[39;00m data[subject]:\n\u001b[0;32m----> 3\u001b[0m         sensor \u001b[38;5;241m=\u001b[39m \u001b[38;5;28;43mlist\u001b[39;49m\u001b[43m(\u001b[49m\u001b[43mdf\u001b[49m\u001b[38;5;241;43m.\u001b[39;49m\u001b[43msensor_id\u001b[49m\u001b[43m)\u001b[49m\u001b[43m[\u001b[49m\u001b[38;5;241;43m0\u001b[39;49m\u001b[43m]\u001b[49m\n\u001b[1;32m      4\u001b[0m         \u001b[38;5;28mprint\u001b[39m(\u001b[38;5;124mf\u001b[39m\u001b[38;5;124m\"\u001b[39m\u001b[38;5;132;01m{\u001b[39;00msensor\u001b[38;5;132;01m}\u001b[39;00m\u001b[38;5;124m of patient \u001b[39m\u001b[38;5;132;01m{\u001b[39;00msubject\u001b[38;5;132;01m}\u001b[39;00m\u001b[38;5;124m\"\u001b[39m)\n\u001b[1;32m      5\u001b[0m         \u001b[38;5;28;01mif\u001b[39;00m df\u001b[38;5;241m.\u001b[39miloc[\u001b[38;5;241m0\u001b[39m]\u001b[38;5;241m.\u001b[39msensor_status \u001b[38;5;241m==\u001b[39m \u001b[38;5;124m\"\u001b[39m\u001b[38;5;124moff\u001b[39m\u001b[38;5;124m\"\u001b[39m:\n",
      "\u001b[0;31mIndexError\u001b[0m: list index out of range"
     ]
    }
   ],
   "source": [
    "for subject in data.keys():\n",
    "    for df in data[subject]:\n",
    "        sensor = list(df.sensor_id)[0]\n",
    "        print(f\"{sensor} of patient {subject}\")\n",
    "        if df.iloc[0].sensor_status == \"off\":\n",
    "            df = df.iloc[1:]\n",
    "        mask_on = (df['sensor_status'] == 'on')\n",
    "        df_on = df[mask_on]\n",
    "        mask_off = (df['sensor_status'] == 'off')\n",
    "        df_off = df[mask_off]\n",
    "        df_on.rename(columns={'ts': 'ts_on'}, inplace=True)\n",
    "        df_off.rename(columns={'ts': 'ts_off'}, inplace=True)\n",
    "        df_on.reset_index(inplace=True)\n",
    "        df_off.reset_index(inplace=True)\n",
    "        df_conc = pd.concat([df_on, df_off['ts_off']], axis=1)\n",
    "        df_conc.drop('index', axis=1, inplace=True)\n",
    "        df_conc['duration_ms'] = df_conc.ts_off - df_conc.ts_on\n",
    "        df_conc.ts_on = pd.to_datetime(df_conc.ts_on, unit='ms')\n",
    "        df_conc.ts_off = pd.to_datetime(df_conc.ts_off, unit='ms')\n",
    "        df_conc = df_conc[['sensor_id', 'subject_id', 'sensor_status', 'ts_on', 'ts_off', 'duration_ms']]\n",
    "        df_conc['part_of_day'] = df_conc.ts_on.dt.hour.apply(map_part_of_day)\n",
    "        \n",
    "        path = f\"{preprocessed_data_path}subject_{subject}/environmentals/\"\n",
    "        if not os.path.exists(path):\n",
    "            os.makedirs(path)\n",
    "        df.to_csv(f\"{path}/{sensor}.csv\", mode='w', index=False, header=True)\n",
    "        print(\"created file: \"+ f\"{path}{sensor}.csv\")"
   ]
  },
  {
   "cell_type": "markdown",
   "id": "a58be870-474f-47fe-9231-8ae0413ded55",
   "metadata": {
    "tags": []
   },
   "source": [
    "## Sleep (NO PREPROCESSING)"
   ]
  },
  {
   "cell_type": "code",
   "execution_count": null,
   "id": "c6d9b724-51e6-4733-ae48-77a098d1bbb7",
   "metadata": {},
   "outputs": [],
   "source": [
    "for subject_id in subject_ids:\n",
    "    print(\"COPYING DATA FOR SUBJECT \"+subject_id)\n",
    "    sleep_data_path = f\"{raw_data_path}subject_{subject_id}/sleep/sleep_events.csv\"\n",
    "    sleep_df = pd.read_csv(sleep_data_path)\n",
    "    if not os.path.exists(f\"{preprocessed_data_path}subject_{subject_id}/sleep/\"):\n",
    "        os.makedirs(f\"{preprocessed_data_path}subject_{subject_id}/sleep/\")\n",
    "    sleep_df.to_csv(f\"{preprocessed_data_path}subject_{subject_id}/sleep/sleep_events.csv\", index=False, header=True)"
   ]
  },
  {
   "cell_type": "markdown",
   "id": "5128d787-9751-4878-a285-17bf370e6568",
   "metadata": {
    "tags": []
   },
   "source": [
    "## Smartwatch (NO PREPROCESSING)"
   ]
  },
  {
   "cell_type": "code",
   "execution_count": null,
   "id": "638a60d3-97b5-4adf-8d40-620d23cea501",
   "metadata": {},
   "outputs": [],
   "source": [
    "for subject_id in subject_ids:\n",
    "    print(\"COPYING DATA FOR SUBJECT \"+subject_id)\n",
    "    smartwatch_data_path = f\"{raw_data_path}subject_{subject_id}/smartwatch/smartwatch_active.csv\"\n",
    "    smartwatch_df = pd.read_csv(smartwatch_data_path)\n",
    "    if not os.path.exists(f\"{preprocessed_data_path}subject_{subject_id}/smartwatch/\"):\n",
    "        os.makedirs(f\"{preprocessed_data_path}subject_{subject_id}/smartwatch/\")\n",
    "    smartwatch_df.to_csv(f\"{preprocessed_data_path}subject_{subject_id}/smartwatch/smartwatch_active.csv\", index=False, header=True)"
   ]
  },
  {
   "cell_type": "markdown",
   "id": "bb9421e1-56a5-4d04-a36f-3733531a8b4f",
   "metadata": {
    "tags": []
   },
   "source": [
    "## Toothbrush (NO PREPROCESSING)"
   ]
  },
  {
   "cell_type": "code",
   "execution_count": null,
   "id": "8e586e75-ba51-4d6d-9dca-2c76dfe8db6b",
   "metadata": {},
   "outputs": [],
   "source": [
    "for subject_id in subject_ids:\n",
    "    print(\"COPYING DATA FOR SUBJECT \"+subject_id)\n",
    "    toothbrush_data_path = f\"{raw_data_path}subject_{subject_id}/toothbrush/toothbrush.csv\"\n",
    "    toothbrush_df = pd.read_csv(toothbrush_data_path)\n",
    "    if not os.path.exists(f\"{preprocessed_data_path}subject_{subject_id}/toothbrush/\"):\n",
    "        os.makedirs(f\"{preprocessed_data_path}subject_{subject_id}/toothbrush/\")   \n",
    "    toothbrush_df.to_csv(f\"{preprocessed_data_path}subject_{subject_id}/toothbrush/toothbrush.csv\", index=False, header=True)"
   ]
  }
 ],
 "metadata": {
  "kernelspec": {
   "display_name": "Python 3 (ipykernel)",
   "language": "python",
   "name": "python3"
  },
  "language_info": {
   "codemirror_mode": {
    "name": "ipython",
    "version": 3
   },
   "file_extension": ".py",
   "mimetype": "text/x-python",
   "name": "python",
   "nbconvert_exporter": "python",
   "pygments_lexer": "ipython3",
   "version": "3.10.5"
  }
 },
 "nbformat": 4,
 "nbformat_minor": 5
}
