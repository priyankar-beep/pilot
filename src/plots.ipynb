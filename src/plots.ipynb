{
 "cells": [
  {
   "cell_type": "code",
   "execution_count": 1,
   "metadata": {},
   "outputs": [
    {
     "name": "stdout",
     "output_type": "stream",
     "text": [
      "Header files imported......\n"
     ]
    }
   ],
   "source": [
    "import numpy as np, pandas as pd, os, pickle\n",
    "from natsort import natsorted\n",
    "from scipy.signal import find_peaks\n",
    "from datetime import timedelta\n",
    "import matplotlib.pyplot as plt\n",
    "import plotly.express as px\n",
    "import plotly.graph_objects as go\n",
    "from plotly.subplots import make_subplots\n",
    "from IPython.display import clear_output\n",
    "\n",
    "\n",
    "print('Header files imported......')"
   ]
  },
  {
   "cell_type": "code",
   "execution_count": 19,
   "metadata": {},
   "outputs": [],
   "source": [
    "def plot_sensor_active_periods(data_subject_2, environmental_sensors, st, et):\n",
    "    if st != None and et!=None:\n",
    "        print('I came inside......')\n",
    "        start_date = st #pd.to_datetime('2023-07-21 00:00:00')\n",
    "        end_date = et #pd.to_datetime('2023-07-26 00:00:00')\n",
    "\n",
    "    df_combined_non_temp_humidity = []\n",
    "    df_combined_temp_humidity = {}\n",
    "    for sens in range(len(environmental_sensors)):\n",
    "        sensor_name = environmental_sensors[sens]\n",
    "        \n",
    "        print(sens, sensor_name)\n",
    "        if sensor_name in ['Shower_Hum_Temp_humidity.csv','Shower_Hum_Temp_temp.csv','Stove_Hum_Temp_humidity.csv','Stove_Hum_Temp_temp.csv']:\n",
    "            df_sensor = data_subject_2[sensor_name][0]\n",
    "            df_sensor['ts_datetime'] = pd.to_datetime(df_sensor['ts_datetime'])\n",
    "            if st!=None and et!=None:\n",
    "                filtered_df = df_sensor[(df_sensor['ts_datetime'] >= start_date) & (df_sensor['ts_datetime'] <= end_date)]\n",
    "            else:\n",
    "                filtered_df = df_sensor.copy()\n",
    "            sub_df_sensor = filtered_df[['sensor_id', 'ts_datetime', 'sensor_status']]\n",
    "            df_combined_temp_humidity[sensor_name] = sub_df_sensor\n",
    "            sub_df_sensor = pd.DataFrame()\n",
    "        else:\n",
    "            df_sensor = data_subject_2[sensor_name][1]\n",
    "            df_sensor['ts_on'] = pd.to_datetime(df_sensor['ts_on'])\n",
    "            df_sensor['ts_off'] = pd.to_datetime(df_sensor['ts_off'])\n",
    "            if st != None and et!=None:\n",
    "                filtered_df = df_sensor[(df_sensor['ts_on'] >= start_date) & (df_sensor['ts_on'] <= end_date)]\n",
    "            else:\n",
    "                filtered_df = df_sensor.copy()\n",
    "            sub_df_sensor = filtered_df[['sensor_id', 'ts_on', 'ts_off']]\n",
    "            df_combined_non_temp_humidity.append(sub_df_sensor)\n",
    "            sub_df_sensor = pd.DataFrame()\n",
    "\n",
    "    df_combined_non_temp_humidity = pd.concat(df_combined_non_temp_humidity, ignore_index=True)\n",
    "    df_combined_non_temp_humidity = df_combined_non_temp_humidity.sort_values(by=['sensor_id'], ascending=True)\n",
    "\n",
    "    # clear_output(wait=True)\n",
    "\n",
    "    fig = make_subplots(\n",
    "        rows=3, \n",
    "        cols=1, \n",
    "        shared_xaxes=True, \n",
    "        row_heights=[0.1, 0.1, 0.4],\n",
    "        vertical_spacing = 0.01\n",
    "    ) \n",
    "\n",
    "    fig.add_trace(\n",
    "        go.Scatter(\n",
    "            x=df_combined_temp_humidity['Stove_Hum_Temp_temp.csv'].reset_index().ts_datetime,\n",
    "            y=df_combined_temp_humidity['Stove_Hum_Temp_temp.csv'].reset_index().sensor_status, \n",
    "            mode='lines', \n",
    "            name='Temperature', \n",
    "            line=dict(color='red')\n",
    "        ), \n",
    "        row=1, \n",
    "        col=1\n",
    "    )\n",
    "\n",
    "    fig.add_trace(\n",
    "        go.Scatter(\n",
    "            x=df_combined_temp_humidity['Stove_Hum_Temp_humidity.csv'].reset_index().ts_datetime,\n",
    "            y=df_combined_temp_humidity['Stove_Hum_Temp_humidity.csv'].reset_index().sensor_status,  \n",
    "            mode='lines', \n",
    "            name='Humidity', \n",
    "            line=dict(color='blue')\n",
    "        ), \n",
    "        row=2, \n",
    "        col=1\n",
    "    )\n",
    "    fig1 = go.Figure(px.timeline(df_combined_non_temp_humidity, x_start='ts_on', x_end='ts_off', y='sensor_id', color='sensor_id',labels={'sensor_id': 'Sensor ID'}))\n",
    "    for i in range(len(fig1.data)):\n",
    "        fig.append_trace(fig1.data[i],row=3,col=1)\n",
    "\n",
    "\n",
    "    fig.update_layout(barmode='overlay')\n",
    "    fig.update_yaxes(fixedrange=True)\n",
    "    fig.update_layout(height=500) \n",
    "    fig.update_xaxes(type='date')\n",
    "    fig.show()        \n"
   ]
  },
  {
   "cell_type": "code",
   "execution_count": 20,
   "metadata": {},
   "outputs": [],
   "source": [
    "with open('/home/hubble/work/serenade/src/subject_data_sepetember2023_may2024_2hours.pkl', 'rb') as file:\n",
    "    data = pickle.load(file)"
   ]
  },
  {
   "cell_type": "code",
   "execution_count": 21,
   "metadata": {},
   "outputs": [
    {
     "name": "stdout",
     "output_type": "stream",
     "text": [
      "['subject_1', 'subject_2', 'subject_3', 'subject_4', 'subject_5', 'subject_7', 'subject_8']\n"
     ]
    }
   ],
   "source": [
    "subjects = list(data.keys())\n",
    "print(subjects)"
   ]
  },
  {
   "cell_type": "code",
   "execution_count": 22,
   "metadata": {},
   "outputs": [
    {
     "name": "stdout",
     "output_type": "stream",
     "text": [
      "I came inside......\n",
      "0 Dishes_Silverware.csv\n",
      "1 FoodStorage.csv\n",
      "2 HouseEntrance.csv\n",
      "3 Medicines.csv\n",
      "4 MotionBathroom.csv\n",
      "5 MotionBedroom.csv\n",
      "6 MotionKitchen.csv\n",
      "7 MotionLivingroom.csv\n",
      "8 MotionOtherroom.csv\n",
      "9 PlugTvHall.csv\n",
      "10 Refrigerator.csv\n",
      "11 Shower_Hum_Temp_humidity.csv\n",
      "12 Shower_Hum_Temp_temp.csv\n",
      "13 Stove_Hum_Temp_humidity.csv\n",
      "14 Stove_Hum_Temp_temp.csv\n"
     ]
    },
    {
     "ename": "KeyError",
     "evalue": "'sensor_status'",
     "output_type": "error",
     "traceback": [
      "\u001b[0;31m---------------------------------------------------------------------------\u001b[0m",
      "\u001b[0;31mKeyError\u001b[0m                                  Traceback (most recent call last)",
      "\u001b[0;32m/tmp/ipykernel_36612/3530378353.py\u001b[0m in \u001b[0;36m?\u001b[0;34m()\u001b[0m\n\u001b[1;32m      3\u001b[0m     \u001b[0mdata_subject_2\u001b[0m \u001b[0;34m=\u001b[0m \u001b[0mdata\u001b[0m\u001b[0;34m[\u001b[0m\u001b[0msubject\u001b[0m\u001b[0;34m]\u001b[0m\u001b[0;34m\u001b[0m\u001b[0;34m\u001b[0m\u001b[0m\n\u001b[1;32m      4\u001b[0m     \u001b[0menvironmental_sensors\u001b[0m \u001b[0;34m=\u001b[0m \u001b[0mlist\u001b[0m\u001b[0;34m(\u001b[0m\u001b[0mdata_subject_2\u001b[0m\u001b[0;34m.\u001b[0m\u001b[0mkeys\u001b[0m\u001b[0;34m(\u001b[0m\u001b[0;34m)\u001b[0m\u001b[0;34m)\u001b[0m\u001b[0;34m\u001b[0m\u001b[0;34m\u001b[0m\u001b[0m\n\u001b[1;32m      5\u001b[0m     \u001b[0mst\u001b[0m \u001b[0;34m=\u001b[0m \u001b[0mpd\u001b[0m\u001b[0;34m.\u001b[0m\u001b[0mto_datetime\u001b[0m\u001b[0;34m(\u001b[0m\u001b[0;34m'2024-05-01 00:00:00'\u001b[0m\u001b[0;34m)\u001b[0m\u001b[0;34m\u001b[0m\u001b[0;34m\u001b[0m\u001b[0m\n\u001b[1;32m      6\u001b[0m     \u001b[0met\u001b[0m \u001b[0;34m=\u001b[0m \u001b[0mpd\u001b[0m\u001b[0;34m.\u001b[0m\u001b[0mto_datetime\u001b[0m\u001b[0;34m(\u001b[0m\u001b[0;34m'2024-05-08 23:59:59'\u001b[0m\u001b[0;34m)\u001b[0m\u001b[0;34m\u001b[0m\u001b[0;34m\u001b[0m\u001b[0m\n\u001b[0;32m----> 7\u001b[0;31m     \u001b[0mplot_sensor_active_periods\u001b[0m\u001b[0;34m(\u001b[0m\u001b[0mdata_subject_2\u001b[0m\u001b[0;34m,\u001b[0m \u001b[0menvironmental_sensors\u001b[0m\u001b[0;34m,\u001b[0m \u001b[0mst\u001b[0m\u001b[0;34m,\u001b[0m \u001b[0met\u001b[0m\u001b[0;34m)\u001b[0m\u001b[0;34m\u001b[0m\u001b[0;34m\u001b[0m\u001b[0m\n\u001b[0m",
      "\u001b[0;32m/tmp/ipykernel_36612/1352739490.py\u001b[0m in \u001b[0;36m?\u001b[0;34m(data_subject_2, environmental_sensors, st, et)\u001b[0m\n\u001b[1;32m     32\u001b[0m             \u001b[0mdf_combined_non_temp_humidity\u001b[0m\u001b[0;34m.\u001b[0m\u001b[0mappend\u001b[0m\u001b[0;34m(\u001b[0m\u001b[0msub_df_sensor\u001b[0m\u001b[0;34m)\u001b[0m\u001b[0;34m\u001b[0m\u001b[0;34m\u001b[0m\u001b[0m\n\u001b[1;32m     33\u001b[0m             \u001b[0msub_df_sensor\u001b[0m \u001b[0;34m=\u001b[0m \u001b[0mpd\u001b[0m\u001b[0;34m.\u001b[0m\u001b[0mDataFrame\u001b[0m\u001b[0;34m(\u001b[0m\u001b[0;34m)\u001b[0m\u001b[0;34m\u001b[0m\u001b[0;34m\u001b[0m\u001b[0m\n\u001b[1;32m     34\u001b[0m \u001b[0;34m\u001b[0m\u001b[0m\n\u001b[1;32m     35\u001b[0m     \u001b[0mdf_combined_non_temp_humidity\u001b[0m \u001b[0;34m=\u001b[0m \u001b[0mpd\u001b[0m\u001b[0;34m.\u001b[0m\u001b[0mconcat\u001b[0m\u001b[0;34m(\u001b[0m\u001b[0mdf_combined_non_temp_humidity\u001b[0m\u001b[0;34m,\u001b[0m \u001b[0mignore_index\u001b[0m\u001b[0;34m=\u001b[0m\u001b[0;32mTrue\u001b[0m\u001b[0;34m)\u001b[0m\u001b[0;34m\u001b[0m\u001b[0;34m\u001b[0m\u001b[0m\n\u001b[0;32m---> 36\u001b[0;31m     \u001b[0mdf_combined_non_temp_humidity\u001b[0m \u001b[0;34m=\u001b[0m \u001b[0mdf_combined_non_temp_humidity\u001b[0m\u001b[0;34m.\u001b[0m\u001b[0msort_values\u001b[0m\u001b[0;34m(\u001b[0m\u001b[0mby\u001b[0m\u001b[0;34m=\u001b[0m\u001b[0;34m[\u001b[0m\u001b[0;34m'sensor_status'\u001b[0m\u001b[0;34m]\u001b[0m\u001b[0;34m,\u001b[0m \u001b[0mascending\u001b[0m\u001b[0;34m=\u001b[0m\u001b[0;32mTrue\u001b[0m\u001b[0;34m)\u001b[0m\u001b[0;34m\u001b[0m\u001b[0;34m\u001b[0m\u001b[0m\n\u001b[0m\u001b[1;32m     37\u001b[0m \u001b[0;34m\u001b[0m\u001b[0m\n\u001b[1;32m     38\u001b[0m     \u001b[0;31m# clear_output(wait=True)\u001b[0m\u001b[0;34m\u001b[0m\u001b[0;34m\u001b[0m\u001b[0m\n\u001b[1;32m     39\u001b[0m \u001b[0;34m\u001b[0m\u001b[0m\n",
      "\u001b[0;32m~/miniconda3/envs/sudokutf/lib/python3.9/site-packages/pandas/core/frame.py\u001b[0m in \u001b[0;36m?\u001b[0;34m(self, by, axis, ascending, inplace, kind, na_position, ignore_index, key)\u001b[0m\n\u001b[1;32m   6943\u001b[0m             )\n\u001b[1;32m   6944\u001b[0m         \u001b[0;32melif\u001b[0m \u001b[0mlen\u001b[0m\u001b[0;34m(\u001b[0m\u001b[0mby\u001b[0m\u001b[0;34m)\u001b[0m\u001b[0;34m:\u001b[0m\u001b[0;34m\u001b[0m\u001b[0;34m\u001b[0m\u001b[0m\n\u001b[1;32m   6945\u001b[0m             \u001b[0;31m# len(by) == 1\u001b[0m\u001b[0;34m\u001b[0m\u001b[0;34m\u001b[0m\u001b[0m\n\u001b[1;32m   6946\u001b[0m \u001b[0;34m\u001b[0m\u001b[0m\n\u001b[0;32m-> 6947\u001b[0;31m             \u001b[0mk\u001b[0m \u001b[0;34m=\u001b[0m \u001b[0mself\u001b[0m\u001b[0;34m.\u001b[0m\u001b[0m_get_label_or_level_values\u001b[0m\u001b[0;34m(\u001b[0m\u001b[0mby\u001b[0m\u001b[0;34m[\u001b[0m\u001b[0;36m0\u001b[0m\u001b[0;34m]\u001b[0m\u001b[0;34m,\u001b[0m \u001b[0maxis\u001b[0m\u001b[0;34m=\u001b[0m\u001b[0maxis\u001b[0m\u001b[0;34m)\u001b[0m\u001b[0;34m\u001b[0m\u001b[0;34m\u001b[0m\u001b[0m\n\u001b[0m\u001b[1;32m   6948\u001b[0m \u001b[0;34m\u001b[0m\u001b[0m\n\u001b[1;32m   6949\u001b[0m             \u001b[0;31m# need to rewrap column in Series to apply key function\u001b[0m\u001b[0;34m\u001b[0m\u001b[0;34m\u001b[0m\u001b[0m\n\u001b[1;32m   6950\u001b[0m             \u001b[0;32mif\u001b[0m \u001b[0mkey\u001b[0m \u001b[0;32mis\u001b[0m \u001b[0;32mnot\u001b[0m \u001b[0;32mNone\u001b[0m\u001b[0;34m:\u001b[0m\u001b[0;34m\u001b[0m\u001b[0;34m\u001b[0m\u001b[0m\n",
      "\u001b[0;32m~/miniconda3/envs/sudokutf/lib/python3.9/site-packages/pandas/core/generic.py\u001b[0m in \u001b[0;36m?\u001b[0;34m(self, key, axis)\u001b[0m\n\u001b[1;32m   1840\u001b[0m             \u001b[0mvalues\u001b[0m \u001b[0;34m=\u001b[0m \u001b[0mself\u001b[0m\u001b[0;34m.\u001b[0m\u001b[0mxs\u001b[0m\u001b[0;34m(\u001b[0m\u001b[0mkey\u001b[0m\u001b[0;34m,\u001b[0m \u001b[0maxis\u001b[0m\u001b[0;34m=\u001b[0m\u001b[0mother_axes\u001b[0m\u001b[0;34m[\u001b[0m\u001b[0;36m0\u001b[0m\u001b[0;34m]\u001b[0m\u001b[0;34m)\u001b[0m\u001b[0;34m.\u001b[0m\u001b[0m_values\u001b[0m\u001b[0;34m\u001b[0m\u001b[0;34m\u001b[0m\u001b[0m\n\u001b[1;32m   1841\u001b[0m         \u001b[0;32melif\u001b[0m \u001b[0mself\u001b[0m\u001b[0;34m.\u001b[0m\u001b[0m_is_level_reference\u001b[0m\u001b[0;34m(\u001b[0m\u001b[0mkey\u001b[0m\u001b[0;34m,\u001b[0m \u001b[0maxis\u001b[0m\u001b[0;34m=\u001b[0m\u001b[0maxis\u001b[0m\u001b[0;34m)\u001b[0m\u001b[0;34m:\u001b[0m\u001b[0;34m\u001b[0m\u001b[0;34m\u001b[0m\u001b[0m\n\u001b[1;32m   1842\u001b[0m             \u001b[0mvalues\u001b[0m \u001b[0;34m=\u001b[0m \u001b[0mself\u001b[0m\u001b[0;34m.\u001b[0m\u001b[0maxes\u001b[0m\u001b[0;34m[\u001b[0m\u001b[0maxis\u001b[0m\u001b[0;34m]\u001b[0m\u001b[0;34m.\u001b[0m\u001b[0mget_level_values\u001b[0m\u001b[0;34m(\u001b[0m\u001b[0mkey\u001b[0m\u001b[0;34m)\u001b[0m\u001b[0;34m.\u001b[0m\u001b[0m_values\u001b[0m\u001b[0;34m\u001b[0m\u001b[0;34m\u001b[0m\u001b[0m\n\u001b[1;32m   1843\u001b[0m         \u001b[0;32melse\u001b[0m\u001b[0;34m:\u001b[0m\u001b[0;34m\u001b[0m\u001b[0;34m\u001b[0m\u001b[0m\n\u001b[0;32m-> 1844\u001b[0;31m             \u001b[0;32mraise\u001b[0m \u001b[0mKeyError\u001b[0m\u001b[0;34m(\u001b[0m\u001b[0mkey\u001b[0m\u001b[0;34m)\u001b[0m\u001b[0;34m\u001b[0m\u001b[0;34m\u001b[0m\u001b[0m\n\u001b[0m\u001b[1;32m   1845\u001b[0m \u001b[0;34m\u001b[0m\u001b[0m\n\u001b[1;32m   1846\u001b[0m         \u001b[0;31m# Check for duplicates\u001b[0m\u001b[0;34m\u001b[0m\u001b[0;34m\u001b[0m\u001b[0m\n\u001b[1;32m   1847\u001b[0m         \u001b[0;32mif\u001b[0m \u001b[0mvalues\u001b[0m\u001b[0;34m.\u001b[0m\u001b[0mndim\u001b[0m \u001b[0;34m>\u001b[0m \u001b[0;36m1\u001b[0m\u001b[0;34m:\u001b[0m\u001b[0;34m\u001b[0m\u001b[0;34m\u001b[0m\u001b[0m\n",
      "\u001b[0;31mKeyError\u001b[0m: 'sensor_status'"
     ]
    }
   ],
   "source": [
    "\n",
    "for sbj in range(1,len(subjects)):\n",
    "    subject = subjects[sbj]\n",
    "    data_subject_2 = data[subject]\n",
    "    environmental_sensors = list(data_subject_2.keys())\n",
    "    st = pd.to_datetime('2024-05-01 00:00:00')\n",
    "    et = pd.to_datetime('2024-05-08 23:59:59')\n",
    "    plot_sensor_active_periods(data_subject_2, environmental_sensors, st, et)"
   ]
  },
  {
   "cell_type": "code",
   "execution_count": null,
   "metadata": {},
   "outputs": [],
   "source": []
  },
  {
   "cell_type": "code",
   "execution_count": null,
   "metadata": {},
   "outputs": [],
   "source": []
  },
  {
   "cell_type": "code",
   "execution_count": 6,
   "metadata": {},
   "outputs": [],
   "source": []
  },
  {
   "cell_type": "code",
   "execution_count": null,
   "metadata": {},
   "outputs": [],
   "source": []
  },
  {
   "cell_type": "code",
   "execution_count": null,
   "metadata": {},
   "outputs": [],
   "source": []
  }
 ],
 "metadata": {
  "kernelspec": {
   "display_name": "sudokutf",
   "language": "python",
   "name": "python3"
  },
  "language_info": {
   "codemirror_mode": {
    "name": "ipython",
    "version": 3
   },
   "file_extension": ".py",
   "mimetype": "text/x-python",
   "name": "python",
   "nbconvert_exporter": "python",
   "pygments_lexer": "ipython3",
   "version": "3.9.18"
  }
 },
 "nbformat": 4,
 "nbformat_minor": 2
}
