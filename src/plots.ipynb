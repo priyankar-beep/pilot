{
 "cells": [
  {
   "cell_type": "code",
   "execution_count": null,
   "metadata": {},
   "outputs": [],
   "source": [
    "import numpy as np, pandas as pd, os, pickle\n",
    "from natsort import natsorted\n",
    "from scipy.signal import find_peaks\n",
    "from datetime import timedelta\n",
    "import matplotlib.pyplot as plt\n",
    "import plotly.express as px\n",
    "import plotly.graph_objects as go\n",
    "from plotly.subplots import make_subplots\n",
    "from IPython.display import clear_output\n",
    "\n",
    "\n",
    "print('Header files imported......')"
   ]
  },
  {
   "cell_type": "code",
   "execution_count": null,
   "metadata": {},
   "outputs": [],
   "source": []
  },
  {
   "cell_type": "code",
   "execution_count": null,
   "metadata": {},
   "outputs": [],
   "source": [
    "def plot_sensor_active_periods(data_subject_2, environmental_sensors, st, et):\n",
    "    if st != None and et!=None:\n",
    "        print('I came inside......')\n",
    "        start_date = st #pd.to_datetime('2023-07-21 00:00:00')\n",
    "        end_date = et #pd.to_datetime('2023-07-26 00:00:00')\n",
    "\n",
    "    df_combined_non_temp_humidity = []\n",
    "    df_combined_temp_humidity = {}\n",
    "    for sens in range(len(environmental_sensors)):\n",
    "        sensor_name = environmental_sensors[sens]\n",
    "        \n",
    "        print(sens, sensor_name)\n",
    "        if sensor_name in ['Stove_Hum_Temp_humidity','Stove_Hum_Temp_temp']:\n",
    "            df_sensor = data_subject_2[sensor_name][0]\n",
    "            df_sensor['ts_datetime'] = pd.to_datetime(df_sensor['ts_datetime'])\n",
    "\n",
    "            if st != None and et != None:\n",
    "                filtered_df = df_sensor[(df_sensor['ts_datetime'] >= start_date) & (df_sensor['ts_datetime'] <= end_date)]\n",
    "            else:\n",
    "                filtered_df = df_sensor.copy()\n",
    "\n",
    "            sub_df_sensor = filtered_df[['sensor_id', 'ts_datetime', 'sensor_status']]\n",
    "            print(sub_df_sensor.head(),'\\n')\n",
    "            df_combined_temp_humidity[sensor_name] = sub_df_sensor\n",
    "            sub_df_sensor = pd.DataFrame()\n",
    "        elif sensor_name in ['Shower_Hum_Temp_humidity','Shower_Hum_Temp_temp']:\n",
    "            continue\n",
    "        else:\n",
    "            df_sensor = data_subject_2[sensor_name][1]\n",
    "            df_sensor['ts_on'] = pd.to_datetime(df_sensor['ts_on'])\n",
    "            df_sensor['ts_off'] = pd.to_datetime(df_sensor['ts_off'])\n",
    "            if st != None and et!=None:\n",
    "                filtered_df = df_sensor[(df_sensor['ts_on'] >= start_date) & (df_sensor['ts_on'] <= end_date)]\n",
    "            else:\n",
    "                filtered_df = df_sensor.copy()\n",
    "            sub_df_sensor = filtered_df[['sensor_id', 'ts_on', 'ts_off']]\n",
    "            df_combined_non_temp_humidity.append(sub_df_sensor)\n",
    "            sub_df_sensor = pd.DataFrame()\n",
    "\n",
    "    df_combined_non_temp_humidity = pd.concat(df_combined_non_temp_humidity, ignore_index=True)\n",
    "    df_combined_non_temp_humidity = df_combined_non_temp_humidity.sort_values(by=['sensor_id'], ascending=True)\n",
    "\n",
    "    # clear_output(wait=True)\n",
    "\n",
    "    fig = make_subplots(\n",
    "        rows=3, \n",
    "        cols=1, \n",
    "        shared_xaxes=True, \n",
    "        row_heights=[0.1, 0.1, 0.4],\n",
    "        vertical_spacing = 0.01\n",
    "    ) \n",
    "\n",
    "    fig.add_trace(\n",
    "        go.Scatter(\n",
    "            x=df_combined_temp_humidity['Stove_Hum_Temp_temp'].reset_index().ts_datetime,\n",
    "            y=df_combined_temp_humidity['Stove_Hum_Temp_temp'].reset_index().sensor_status, \n",
    "            mode='lines', \n",
    "            name='Temperature', \n",
    "            line=dict(color='red')\n",
    "        ), \n",
    "        row=1, \n",
    "        col=1\n",
    "    )\n",
    "\n",
    "    fig.add_trace(\n",
    "        go.Scatter(\n",
    "            x=df_combined_temp_humidity['Stove_Hum_Temp_humidity'].reset_index().ts_datetime,\n",
    "            y=df_combined_temp_humidity['Stove_Hum_Temp_humidity'].reset_index().sensor_status,  \n",
    "            mode='lines', \n",
    "            name='Humidity', \n",
    "            line=dict(color='blue')\n",
    "        ), \n",
    "        row=2, \n",
    "        col=1\n",
    "    )\n",
    "    fig1 = go.Figure(px.timeline(df_combined_non_temp_humidity, x_start='ts_on', x_end='ts_off', y='sensor_id', color='sensor_id',labels={'sensor_id': 'Sensor ID'}))\n",
    "    for i in range(len(fig1.data)):\n",
    "        fig.append_trace(fig1.data[i],row=3,col=1)\n",
    "\n",
    "\n",
    "    fig.update_layout(barmode='overlay')\n",
    "    fig.update_yaxes(fixedrange=True)\n",
    "    fig.update_layout(height=500) \n",
    "    fig.update_xaxes(type='date')\n",
    "    fig.show()        \n"
   ]
  },
  {
   "cell_type": "code",
   "execution_count": null,
   "metadata": {},
   "outputs": [],
   "source": [
    "with open('/home/hubble/work/serenade/src/data_matteo_upto_september_25_2024.pkl', 'rb') as file:\n",
    "    data = pickle.load(file)"
   ]
  },
  {
   "cell_type": "code",
   "execution_count": null,
   "metadata": {},
   "outputs": [],
   "source": [
    "subjects = list(data.keys())\n",
    "print(subjects)"
   ]
  },
  {
   "cell_type": "code",
   "execution_count": null,
   "metadata": {},
   "outputs": [],
   "source": [
    "\n",
    "subject = subjects[1]\n",
    "print(subject)\n",
    "data_subject_2 = data[subject]\n",
    "environmental_sensors = list(data_subject_2.keys())\n",
    "st = pd.to_datetime('2024-09-01 00:00:00')\n",
    "et = pd.to_datetime('2024-09-30 23:59:59')\n",
    "plot_sensor_active_periods(data_subject_2, environmental_sensors, st, et)"
   ]
  },
  {
   "cell_type": "code",
   "execution_count": null,
   "metadata": {},
   "outputs": [],
   "source": [
    "\n",
    "subject = subjects[0]\n",
    "print(subject)\n",
    "data_subject_2 = data[subject]\n",
    "environmental_sensors = list(data_subject_2.keys())\n",
    "st = pd.to_datetime('2024-09-01 00:00:00')\n",
    "et = pd.to_datetime('2024-09-30 23:59:59')\n",
    "plot_sensor_active_periods(data_subject_2, environmental_sensors, st, et)"
   ]
  },
  {
   "cell_type": "code",
   "execution_count": null,
   "metadata": {},
   "outputs": [],
   "source": []
  },
  {
   "cell_type": "code",
   "execution_count": null,
   "metadata": {},
   "outputs": [],
   "source": [
    "import pandas as pd, pickle, numpy as np\n",
    "from scipy.signal import lombscargle\n",
    "import seaborn as sns\n",
    "import matplotlib.pyplot as plt\n",
    "import numpy as np\n",
    "import plotly.express as px\n",
    "import plotly.graph_objects as go\n",
    "import numpy as np\n",
    "\n",
    "with open('/home/hubble/work/serenade/data/data_matteo_upto_september_25_2024_corrected.pkl', 'rb') as file:\n",
    "    data = pickle.load(file)\n",
    "    "
   ]
  },
  {
   "cell_type": "code",
   "execution_count": null,
   "metadata": {},
   "outputs": [],
   "source": [
    "\n",
    "def plot_sensor_readings_v1(arranged_data_np, complete_days):\n",
    "    # Create a heatmap using Plotly\n",
    "    fig = go.Figure(data=go.Heatmap(\n",
    "        z=arranged_data_np,\n",
    "        colorscale='Hot',  # You can change this to any other scale you prefer\n",
    "        colorbar=dict(title='Sensor Status'),\n",
    "    ))\n",
    "\n",
    "    # Update layout to customize axes\n",
    "    fig.update_layout(\n",
    "        title='Sensor Readings as Image',\n",
    "        xaxis_title='Time of the Day (HH:MM)',\n",
    "        yaxis_title='Date',\n",
    "        xaxis=dict(\n",
    "            tickvals=np.arange(0, 1440, 60),  # Set tick values for the x-axis\n",
    "            ticktext=[f'{h:02d}:00' for h in range(24)],  # Create tick labels in HH:MM format\n",
    "        ),\n",
    "        yaxis=dict(\n",
    "            tickvals=np.arange(0, len(arranged_data_np), 10),  # Set tick values for the y-axis\n",
    "            ticktext=[str(complete_days[i]) for i in np.arange(0, len(arranged_data_np), 5)],  # Date labels\n",
    "        ),\n",
    "        height=600,\n",
    "        width=1000,\n",
    "    )\n",
    "\n",
    "    # Show the figure\n",
    "    fig.show()\n",
    "\n",
    "\n",
    "\n",
    "def arrange_data_by_day_numpy(df):\n",
    "    df['ts_datetime'] = pd.to_datetime(df['ts_datetime'])\n",
    "    df['sensor_status'] = pd.to_numeric(df['sensor_status'], errors='coerce')\n",
    "    start_date = df['ts_datetime'].dt.date.min()\n",
    "    end_date = df['ts_datetime'].dt.date.max()\n",
    "    complete_days = pd.date_range(start=start_date, end=end_date, freq='D').date\n",
    "    \n",
    "    daily_data_list = []\n",
    "    for day in complete_days:\n",
    "        daily_data = df[df['ts_datetime'].dt.date == day]\n",
    "        all_minutes = pd.date_range(start=pd.Timestamp(day), end=pd.Timestamp(day) + pd.Timedelta(days=1) - pd.Timedelta(minutes=1), freq='min')\n",
    "        daily_resampled = daily_data.set_index('ts_datetime')['sensor_status'].resample('min').mean()\n",
    "        daily_resampled = daily_resampled.reindex(all_minutes, fill_value=np.nan)\n",
    "        daily_resampled = daily_resampled.fillna(0)  # Fill NaN with 0\n",
    "        if daily_data.empty:\n",
    "            daily_data_list.append(np.full((1440,), 0))  # 1440 minutes in a day filled with 255\n",
    "        else:\n",
    "            daily_data_list.append(daily_resampled.values)\n",
    "    arranged_data_np = np.array(daily_data_list)\n",
    "    plot_sensor_readings(arranged_data_np, complete_days)\n",
    "    return arranged_data_np, complete_days\n",
    "\n",
    "def arrange_data_by_day_numpy_environmentals(df):\n",
    "    # Ensure timestamps are in datetime format\n",
    "    df['ts_on'] = pd.to_datetime(df['ts_on'])\n",
    "    df['ts_off'] = pd.to_datetime(df['ts_off'])\n",
    "    \n",
    "    # Create a date range for complete days\n",
    "    start_date = df['ts_on'].dt.date.min()\n",
    "    end_date = df['ts_on'].dt.date.max()\n",
    "    complete_days = pd.date_range(start=start_date, end=end_date, freq='D').date\n",
    "    \n",
    "    daily_data_list = []\n",
    "    for day in complete_days:\n",
    "        # Filter data for the current day\n",
    "        daily_data = df[df['ts_on'].dt.date == day]\n",
    "        all_minutes = pd.date_range(start=pd.Timestamp(day), end=pd.Timestamp(day) + pd.Timedelta(days=1) - pd.Timedelta(minutes=1), freq='min')\n",
    "        daily_resampled = np.zeros((1440,), dtype=int)  # 1440 minutes in a day\n",
    "        \n",
    "        if daily_data.empty:\n",
    "            daily_data_list.append(daily_resampled) \n",
    "            continue  \n",
    "        for _, row in daily_data.iterrows():\n",
    "            start_minute = (row['ts_on'] - pd.Timestamp(day)).total_seconds() // 60\n",
    "            end_minute = (row['ts_off'] - pd.Timestamp(day)).total_seconds() // 60\n",
    "            \n",
    "            if start_minute == end_minute:\n",
    "                daily_resampled[int(start_minute)] = 1\n",
    "            elif start_minute < end_minute:\n",
    "                daily_resampled[int(start_minute):int(end_minute)] = 1  # Set the range to 1\n",
    "        \n",
    "        daily_data_list.append(daily_resampled)\n",
    "\n",
    "    arranged_data_np = np.array(daily_data_list)\n",
    "    plot_sensor_readings(arranged_data_np, complete_days)\n",
    "    \n",
    "    return arranged_data_np , complete_days\n"
   ]
  },
  {
   "cell_type": "code",
   "execution_count": null,
   "metadata": {},
   "outputs": [],
   "source": [
    "\n",
    "\n",
    "def plot_sensor_readings(arranged_data_np, complete_days):\n",
    "    # Create a heatmap using Plotly\n",
    "    fig = go.Figure(data=go.Heatmap(\n",
    "        z=arranged_data_np,\n",
    "        colorscale='Hot',  # You can change this to any other scale you prefer\n",
    "        colorbar=dict(title='Sensor Value/Status'),\n",
    "        hovertemplate='<b>X:</b> %{x}<br>' +  # Time of the day\n",
    "                      '<b>Y:</b> %{y}<br>' +  # Date\n",
    "                      '<b>Sensor Value:</b> %{z}<br>' +  # Sensor value\n",
    "                      '<extra></extra>',  # Remove the extra hover info\n",
    "    ))\n",
    "\n",
    "    # Update layout to customize axes\n",
    "    fig.update_layout(\n",
    "        title='',\n",
    "        xaxis_title='Time of the Day (HH:MM)',\n",
    "        yaxis_title='Date',\n",
    "        xaxis=dict(\n",
    "            tickvals=np.arange(0, 1440, 60),  # Set tick values for the x-axis\n",
    "            ticktext=[f'{h:02d}:00' for h in range(24)],  # Create tick labels in HH:MM format\n",
    "            tickangle=-90\n",
    "        ),\n",
    "        yaxis=dict(\n",
    "            tickvals=np.arange(0, len(arranged_data_np), 10),  # Set tick values for the y-axis\n",
    "            ticktext=[str(complete_days[i]) for i in np.arange(0, len(arranged_data_np), 10)],  # Date labels\n",
    "        ),\n",
    "        height=600,\n",
    "        width=1000,\n",
    "    )\n",
    "\n",
    "    # Show the figure\n",
    "    fig.show()\n",
    "\n"
   ]
  },
  {
   "cell_type": "code",
   "execution_count": null,
   "metadata": {},
   "outputs": [],
   "source": [
    "subject_name = 'subject_3'\n",
    "print(data[subject_name].keys())"
   ]
  },
  {
   "cell_type": "code",
   "execution_count": null,
   "metadata": {},
   "outputs": [],
   "source": [
    "df = data[subject_name]['Stove_Hum_Temp_temp'][0].copy()\n",
    "arranged_np_data = arrange_data_by_day_numpy(df)"
   ]
  },
  {
   "cell_type": "code",
   "execution_count": null,
   "metadata": {},
   "outputs": [],
   "source": [
    "df = data[subject_name]['Stove_Hum_Temp_humidity'][0].copy()\n",
    "arranged_np_data = arrange_data_by_day_numpy(df)"
   ]
  },
  {
   "cell_type": "code",
   "execution_count": null,
   "metadata": {},
   "outputs": [],
   "source": [
    "df = data[subject_name]['Shower_Hum_Temp_temp'][0].copy()\n",
    "arranged_np_data = arrange_data_by_day_numpy(df)"
   ]
  },
  {
   "cell_type": "code",
   "execution_count": null,
   "metadata": {},
   "outputs": [],
   "source": [
    "df = data[subject_name]['Shower_Hum_Temp_humidity'][0].copy()\n",
    "arranged_np_data = arrange_data_by_day_numpy(df)"
   ]
  },
  {
   "cell_type": "code",
   "execution_count": null,
   "metadata": {},
   "outputs": [],
   "source": [
    "subject_name"
   ]
  },
  {
   "cell_type": "code",
   "execution_count": null,
   "metadata": {},
   "outputs": [],
   "source": [
    "df = data[subject_name]['Refrigerator'][1].copy()\n",
    "arranged_np_data = arrange_data_by_day_numpy_environmentals(df)"
   ]
  },
  {
   "cell_type": "code",
   "execution_count": null,
   "metadata": {},
   "outputs": [],
   "source": [
    "df = data[subject_name]['Freezer'][1].copy()\n",
    "arranged_np_data = arrange_data_by_day_numpy_environmentals(df)"
   ]
  },
  {
   "cell_type": "code",
   "execution_count": null,
   "metadata": {},
   "outputs": [],
   "source": [
    "df = data[subject_name]['MotionKitchen'][1].copy()\n",
    "arranged_np_data = arrange_data_by_day_numpy_environmentals(df)"
   ]
  },
  {
   "cell_type": "code",
   "execution_count": null,
   "metadata": {},
   "outputs": [],
   "source": [
    "\n",
    "df = data[subject_name]['FoodStorageKitchen'][1].copy()\n",
    "arranged_np_data = arrange_data_by_day_numpy_environmentals(df)"
   ]
  },
  {
   "cell_type": "code",
   "execution_count": null,
   "metadata": {},
   "outputs": [],
   "source": [
    "df = data[subject_name]['Dishes_Glasses'][1].copy()\n",
    "arranged_np_data = arrange_data_by_day_numpy_environmentals(df)"
   ]
  },
  {
   "cell_type": "code",
   "execution_count": null,
   "metadata": {},
   "outputs": [],
   "source": [
    "df = data[subject_name]['Microwave'][1].copy()\n",
    "arranged_np_data = arrange_data_by_day_numpy_environmentals(df)"
   ]
  },
  {
   "cell_type": "code",
   "execution_count": null,
   "metadata": {},
   "outputs": [],
   "source": [
    "df = data[subject_name]['Medicines'][1].copy()\n",
    "arranged_np_data = arrange_data_by_day_numpy_environmentals(df)"
   ]
  },
  {
   "cell_type": "code",
   "execution_count": null,
   "metadata": {},
   "outputs": [],
   "source": [
    "df = data[subject_name]['Printer'][1].copy()\n",
    "arranged_np_data = arrange_data_by_day_numpy_environmentals(df)"
   ]
  },
  {
   "cell_type": "code",
   "execution_count": null,
   "metadata": {},
   "outputs": [],
   "source": [
    "df = data[subject_name]['MotionBedroom'][1].copy()\n",
    "arranged_np_data = arrange_data_by_day_numpy_environmentals(df)"
   ]
  },
  {
   "cell_type": "code",
   "execution_count": null,
   "metadata": {},
   "outputs": [],
   "source": [
    "df = data[subject_name]['MotionPrimaryBathroom'][1].copy()\n",
    "arranged_np_data = arrange_data_by_day_numpy_environmentals(df)\n",
    "# dring cloths"
   ]
  },
  {
   "cell_type": "code",
   "execution_count": null,
   "metadata": {},
   "outputs": [],
   "source": [
    "df = data[subject_name]['MotionSecondaryBathroom'][1].copy()\n",
    "arranged_np_data = arrange_data_by_day_numpy_environmentals(df)\n",
    "# dring cloths"
   ]
  },
  {
   "cell_type": "code",
   "execution_count": null,
   "metadata": {},
   "outputs": [],
   "source": [
    "df = data['subject_3']['MotionLivingRoomSofa'][1].copy()\n",
    "arranged_np_data = arrange_data_by_day_numpy_environmentals(df)\n",
    "#dog"
   ]
  },
  {
   "cell_type": "code",
   "execution_count": null,
   "metadata": {},
   "outputs": [],
   "source": [
    "df = data[s]['MotionLivingRoomTablet'][1].copy()\n",
    "arranged_np_data = arrange_data_by_day_numpy_environmentals(df)"
   ]
  },
  {
   "cell_type": "code",
   "execution_count": null,
   "metadata": {},
   "outputs": [],
   "source": [
    "df = data[subject_name]['HouseEntrance'][1].copy()\n",
    "arranged_np_data = arrange_data_by_day_numpy_environmentals(df)"
   ]
  },
  {
   "cell_type": "code",
   "execution_count": null,
   "metadata": {},
   "outputs": [],
   "source": [
    "df = data[subject_name]['FoodStorageLivingRoom'][1].copy()\n",
    "arranged_np_data = arrange_data_by_day_numpy_environmentals(df)\n",
    "#sliding door"
   ]
  },
  {
   "cell_type": "code",
   "execution_count": null,
   "metadata": {},
   "outputs": [],
   "source": [
    "df = data[subject_name]['CoffeMachine'][1].copy()\n",
    "arranged_np_data = arrange_data_by_day_numpy_environmentals(df)"
   ]
  },
  {
   "cell_type": "code",
   "execution_count": null,
   "metadata": {},
   "outputs": [],
   "source": [
    "df = data[subject_name]['PlugTvHall'][1].copy()\n",
    "arranged_np_data = arrange_data_by_day_numpy_environmentals(df)\n",
    "#sliding door"
   ]
  },
  {
   "cell_type": "code",
   "execution_count": null,
   "metadata": {},
   "outputs": [],
   "source": [
    "df = data[subject_name]['Medicines'][1].copy()\n",
    "arranged_np_data = arrange_data_by_day_numpy_environmentals(df)\n",
    "#sliding door"
   ]
  },
  {
   "cell_type": "code",
   "execution_count": null,
   "metadata": {},
   "outputs": [],
   "source": [
    "df = data[subject_name]['MotionLivingRoomSofa'][1].copy()\n",
    "arranged_np_data = arrange_data_by_day_numpy_environmentals(df)\n",
    "#sliding door"
   ]
  },
  {
   "cell_type": "code",
   "execution_count": null,
   "metadata": {},
   "outputs": [],
   "source": [
    "df = data[subject_name]['MotionLivingRoomTablet'][1].copy()\n",
    "arranged_np_data = arrange_data_by_day_numpy_environmentals(df)\n",
    "#sliding door"
   ]
  },
  {
   "cell_type": "code",
   "execution_count": null,
   "metadata": {},
   "outputs": [],
   "source": [
    "import matplotlib.pyplot as plt\n",
    "import numpy as np\n",
    "\n",
    "# Sample data\n",
    "v1 = np.random.rand(24)  # One value for each hour (0 to 23)\n",
    "v2 = np.sin(np.linspace(0, 24, 1440))  # Continuous data (minute-wise, 1440 points)\n",
    "\n",
    "# Create time axis\n",
    "time_v1 = np.arange(24)  # Hourly time for v1\n",
    "time_v2 = np.linspace(0, 24, len(v2))  # Continuous time for v2 (e.g., every minute)\n",
    "\n",
    "# Plotting\n",
    "plt.figure(figsize=(10, 6))\n",
    "\n",
    "# Plot v1 (hourly data)\n",
    "plt.plot(time_v1, v1, label='v1 (Hourly data)', marker='o', linestyle='-', color='blue')\n",
    "\n"
   ]
  },
  {
   "cell_type": "code",
   "execution_count": null,
   "metadata": {},
   "outputs": [],
   "source": []
  },
  {
   "cell_type": "code",
   "execution_count": null,
   "metadata": {},
   "outputs": [],
   "source": []
  },
  {
   "cell_type": "code",
   "execution_count": null,
   "metadata": {},
   "outputs": [],
   "source": []
  }
 ],
 "metadata": {
  "kernelspec": {
   "display_name": "sudokutf",
   "language": "python",
   "name": "python3"
  },
  "language_info": {
   "codemirror_mode": {
    "name": "ipython",
    "version": 3
   },
   "file_extension": ".py",
   "mimetype": "text/x-python",
   "name": "python",
   "nbconvert_exporter": "python",
   "pygments_lexer": "ipython3",
   "version": "3.10.14"
  }
 },
 "nbformat": 4,
 "nbformat_minor": 2
}
