{
 "cells": [
  {
   "cell_type": "code",
   "execution_count": 3,
   "metadata": {},
   "outputs": [],
   "source": [
    "import pandas as pd, numpy as np, os\n",
    "pd.options.mode.chained_assignment = None  # default='warn'\n",
    "import seaborn as sns\n",
    "import matplotlib.pyplot as plt\n",
    "import plotly.express as px\n",
    "import plotly.graph_objects as go\n",
    "from datetime import datetime\n",
    "from scipy.signal import find_peaks\n",
    "from sklearn.manifold import TSNE"
   ]
  },
  {
   "cell_type": "code",
   "execution_count": 4,
   "metadata": {},
   "outputs": [],
   "source": [
    "def remove_unknown_unavailable(data_path):\n",
    "    df = pd.read_csv(data_path)\n",
    "    unwanted_values = ['unavailable', 'unknown']\n",
    "    df.replace(unwanted_values, np.nan, inplace=True)\n",
    "    df_cleaned = df.dropna().copy()\n",
    "    \n",
    "    for i in reversed(list(df_cleaned.index)[1:]):\n",
    "        # Compare the current row's sensor status with the previous row's sensor status\n",
    "        if df_cleaned.loc[i].sensor_status == df_cleaned.iloc[df_cleaned.index.get_loc(i)-1].sensor_status:\n",
    "            # Drop the current row if the statuses match\n",
    "            df_cleaned.drop([i], inplace=True)\n",
    "            \n",
    "    np_array = np.array(df_cleaned, dtype='object')\n",
    "    return df_cleaned, np_array\n",
    "\n",
    "def get_available_months_years(np_array, column_number_with_time = 2):\n",
    "    timestamps = np_array[:, column_number_with_time].astype(int)\n",
    "    datetime_values = [datetime.fromtimestamp(ts / 1000) for ts in timestamps]\n",
    "    dates = pd.to_datetime(datetime_values)\n",
    "    periods = dates.to_period('M')\n",
    "    unique_periods = np.unique(periods)\n",
    "    return unique_periods\n",
    "\n",
    "def extract_monthly_data(np_array, target_month = '2024-03'):\n",
    "    df = pd.DataFrame(np_array, columns=['sensor_id', 'value', 'timestamp', 'subject_id'])\n",
    "    df['timestamp'] = pd.to_datetime(df['timestamp'].astype(int), unit='ms')\n",
    "    target_period = pd.Period(target_month, freq='M')\n",
    "    df.set_index('timestamp', inplace=True)\n",
    "    filtered_df = df[df.index.to_period('M') == target_period]\n",
    "    indices = filtered_df.index\n",
    "    filtered_np_array = filtered_df.reset_index().values\n",
    "    return filtered_df, indices, filtered_np_array\n",
    "\n",
    "def filter_on_off_consecutive(df):\n",
    "    valid_indices = []\n",
    "    for i in range(len(df) - 1):\n",
    "        if df.loc[i, 'sensor_status'] == 'on' and df.loc[i + 1, 'sensor_status'] == 'off':\n",
    "            valid_indices.append(i)\n",
    "            valid_indices.append(i + 1)\n",
    "\n",
    "    filtered_df = df.iloc[valid_indices]\n",
    "\n",
    "    return filtered_df\n",
    "\n",
    "def process_sensor_data(df):\n",
    "    unique_statuses = df['sensor_status'].unique()\n",
    "    valid_statuses = {'on', 'off'}\n",
    "    \n",
    "    if not set(unique_statuses).issubset(valid_statuses):\n",
    "        # If there are other statuses present, return the original DataFrame\n",
    "        print(\"Sensor status contains values other than 'on' and 'off'. Returning original DataFrame.\")\n",
    "        df['ts'] = pd.to_datetime(df['ts'], unit='ms')\n",
    "        df['ts'] = df['ts'].dt.strftime('%Y-%m-%d %H:%M:%S.%f')\n",
    "        return df\n",
    "    # Check if the first row's sensor_status is 'off', and remove it if true because I want to start my analysis from ON\n",
    "    if df.iloc[0]['sensor_status'] == 'off':\n",
    "        df = df.iloc[1:].reset_index(drop=True)\n",
    "\n",
    "    # Create masks for filtering 'on' and 'off' statuses\n",
    "    mask_on = df['sensor_status'] == 'on'\n",
    "    mask_off = df['sensor_status'] == 'off'\n",
    "\n",
    "    # Separate DataFrames for 'on' and 'off' statuses\n",
    "    df_on = df[mask_on].copy()\n",
    "    df_off = df[mask_off].copy()\n",
    "\n",
    "    # Rename timestamp columns\n",
    "    df_on.rename(columns={'ts': 'ts_on'}, inplace=True)\n",
    "    df_off.rename(columns={'ts': 'ts_off'}, inplace=True)\n",
    "\n",
    "    # Reset index for merging\n",
    "    df_on.reset_index(drop=True, inplace=True)\n",
    "    df_off.reset_index(drop=True, inplace=True)\n",
    "\n",
    "    # concatenate 'on' and 'off' DataFrames based on index\n",
    "    df_conc = pd.merge(df_on, df_off[['ts_off']], left_index=True, right_index=True)\n",
    "\n",
    "    # Calculate duration\n",
    "    df_conc['duration_ms'] = df_conc['ts_off'] - df_conc['ts_on']\n",
    "\n",
    "    # Convert timestamps to datetime\n",
    "    df_conc['ts_on'] = pd.to_datetime(df_conc['ts_on'], unit='ms')\n",
    "    df_conc['ts_off'] = pd.to_datetime(df_conc['ts_off'], unit='ms')\n",
    "    \n",
    "    # Reorder columns\n",
    "    df_conc = df_conc[['sensor_id', 'subject_id', 'sensor_status', 'ts_on', 'ts_off', 'duration_ms']]\n",
    "    \n",
    "    return df_conc\n",
    "\n",
    "def time_current_off_and_next_on(df):\n",
    "    results = []\n",
    "    for i in range(len(df)-1):\n",
    "        ts_off = df.loc[i, 'ts_off']\n",
    "        next_ts_on = df.loc[i + 1, 'ts_on']\n",
    "        results.append({'ts_off': ts_off, 'next_ts_on': next_ts_on, 'difference': np.abs(next_ts_on - ts_off)})\n",
    "    return results\n",
    "\n",
    "def detect_peaks(df, value_col, prominence_value):\n",
    "    peaks, properties = find_peaks(df[value_col], prominence=prominence_value)\n",
    "    # print(f\"Number of peaks found: {len(peaks)}\")\n",
    "\n",
    "    # peak_indicator = np.zeros(len(df), dtype=int)\n",
    "    # peak_indicator[peaks] = 1\n",
    "\n",
    "    peak_indicator = ['off'] * len(df)\n",
    "    for peak in peaks:\n",
    "        if peak < len(peak_indicator):\n",
    "            peak_indicator[peak] = 'on'\n",
    "    df['peak_detected'] = peak_indicator\n",
    "\n",
    "    return peaks,df\n",
    "\n",
    "def plot_data_with_peaks(df, time_col, value_col, peaks):\n",
    "    df[time_col] = pd.to_datetime(df[time_col], unit='ms')\n",
    "    df_peaks = df.iloc[peaks]    \n",
    "    fig = px.line(df, x=time_col, y=value_col, title='Data with Peaks')\n",
    "    fig.add_trace(\n",
    "        go.Scatter(\n",
    "            x=df_peaks[time_col],\n",
    "            y=df_peaks[value_col],\n",
    "            mode='markers',\n",
    "            name='Peaks',\n",
    "            marker=dict(color='red', size=10, symbol='x')\n",
    "        )\n",
    "    )\n",
    "    fig.update_layout(\n",
    "        xaxis_title='Timestamp',\n",
    "        yaxis_title='Value',\n",
    "        legend_title='Legend',\n",
    "        template='plotly_white'\n",
    "    )\n",
    "    fig.update_yaxes(range=[df[value_col].min() - 1, df[value_col].max() + 1])\n",
    "    fig.show()\n",
    "\n",
    "\n",
    "def filter_sensors_by_window(df, start_time, end_time):\n",
    "    # Convert 'ts_on' and 'ts_off' to datetime if they aren't already\n",
    "    df['ts_on'] = pd.to_datetime(df['ts_on'])\n",
    "    df['ts_off'] = pd.to_datetime(df['ts_off'])\n",
    "    \n",
    "    # Convert start_time and end_time to datetime\n",
    "    start_time = pd.to_datetime(start_time)\n",
    "    end_time = pd.to_datetime(end_time)\n",
    "    \n",
    "    # Filter rows where the sensor was active in the window\n",
    "    active_sensors = df[((df['ts_on'] <= end_time) & (df['ts_off'] >= start_time))]\n",
    "    \n",
    "    return active_sensors\n",
    "\n",
    "def filter_data_for_date(df, date_str):\n",
    "    date = pd.to_datetime(date_str)\n",
    "    filtered_df = df[(df['ts_on'].dt.date == date.date()) | (df['ts_off'].dt.date == date.date())]\n",
    "    # filtered_df = df.loc[(df['ts_on'].dt.date == date) | (df['ts_off'].dt.date == date)]\n",
    "\n",
    "    if filtered_df.empty:\n",
    "        # print(f\"No data found for the date: {date_str}\")\n",
    "        return filtered_df\n",
    "    else:\n",
    "        return filtered_df\n",
    "    \n",
    "def prepare_plot_data(date_specific_data):\n",
    "    plot_data = []\n",
    "    \n",
    "    for entry in date_specific_data:\n",
    "        sensor_name = entry['sensor']\n",
    "        sensor_data = entry['data']\n",
    "        \n",
    "        if not sensor_data.empty:\n",
    "            # Extracting the active periods\n",
    "            for index, row in sensor_data.iterrows():\n",
    "                plot_data.append({\n",
    "                    'sensor': sensor_name,\n",
    "                    'start_time': row['ts_on'],\n",
    "                    'end_time': row['ts_off']\n",
    "                })\n",
    "    \n",
    "    return pd.DataFrame(plot_data)\n",
    "\n",
    "def plot_tsne(sample_size, data):\n",
    "    # Aggregate data into samples\n",
    "    aggregated_data = []\n",
    "    for i in range(0, len(data), sample_size):\n",
    "        sample = data[i:i+sample_size]\n",
    "        if len(sample) == sample_size:\n",
    "            aggregated_data.append(sample['sensor_status'].values)\n",
    "    aggregated_data = np.array(aggregated_data)\n",
    "    \n",
    "    # Apply t-SNE\n",
    "    tsne = TSNE(n_components=2, perplexity=5, random_state=0)\n",
    "    tsne_results = tsne.fit_transform(aggregated_data)\n",
    "    \n",
    "    # Plot the t-SNE results\n",
    "    plt.figure(figsize=(12, 8))\n",
    "    plt.scatter(tsne_results[:, 0], tsne_results[:, 1], cmap='viridis', alpha=0.6)\n",
    "    plt.colorbar(label='Sensor Status')\n",
    "    plt.xlabel('t-SNE Feature 1')\n",
    "    plt.ylabel('t-SNE Feature 2')\n",
    "    plt.title(f't-SNE Plot with Sample Size {sample_size}')\n",
    "    plt.show()"
   ]
  },
  {
   "cell_type": "code",
   "execution_count": 3,
   "metadata": {},
   "outputs": [],
   "source": [
    "# data_path = '/home/hubble/work/serenade/data/subject_3/environmentals/Stove_Hum_Temp_temp.csv'\n",
    "# cleaned_df, cleaned_array = remove_unknown_unavailable(data_path)\n",
    "# available_months = get_available_months_years(cleaned_array, column_number_with_time = 2)\n",
    "# target_month = '2024-03'\n",
    "# df_month,indices, array_month = extract_monthly_data(cleaned_array, target_month)\n",
    "# timestamps = array_month[:, 0]\n",
    "# values = array_month[:, 2].astype(float)"
   ]
  },
  {
   "cell_type": "code",
   "execution_count": 5,
   "metadata": {},
   "outputs": [
    {
     "name": "stdout",
     "output_type": "stream",
     "text": [
      "0 \t CoffeMachine.csv\n",
      "1 \t CoffeMachine_events.csv --XXXXX--\n",
      "2 \t Dishes_Glasses.csv\n",
      "3 \t FoodStorageKitchen.csv\n",
      "4 \t FoodStorageLivingRoom.csv\n",
      "5 \t Freezer.csv\n",
      "6 \t HouseEntrance.csv\n",
      "7 \t Medicines.csv\n",
      "8 \t Microwave.csv\n",
      "9 \t Microwave_events.csv --XXXXX--\n",
      "10 \t MotionBedroom.csv\n",
      "11 \t MotionKitchen.csv\n",
      "12 \t MotionLivingRoomSofa.csv\n",
      "13 \t MotionLivingRoomTablet.csv\n",
      "14 \t MotionPrimaryBathroom.csv\n",
      "15 \t MotionSecondaryBathroom.csv\n",
      "16 \t PlugTvHall.csv\n",
      "17 \t PlugTvHall_events.csv --XXXXX--\n",
      "18 \t Printer.csv\n",
      "19 \t Refrigerator.csv\n",
      "20 \t Shower_Hum_Temp_humidity.csv\n",
      "21 \t Shower_Hum_Temp_temp.csv\n",
      "22 \t Stove_Hum_Temp_humidity.csv\n",
      "23 \t Stove_Hum_Temp_temp.csv\n",
      "24 \t printer_events.csv --XXXXX--\n"
     ]
    }
   ],
   "source": [
    "path = '/home/hubble/work/serenade/data/subject_3/environmentals/'\n",
    "files = sorted(os.listdir(path))\n",
    "unwanted_values = ['unavailable', 'unknown']\n",
    "skip_substrings = ['event', 'HousejkjlEntrance']\n",
    "cleaned_data = []\n",
    "for i in range(len(files)):\n",
    "    file_name = files[i]\n",
    "    sensor_df = pd.read_csv(os.path.join(path, file_name))\n",
    "    sensor_df.replace(unwanted_values, np.nan, inplace=True)\n",
    "    df_cleaned = sensor_df.dropna().copy()\n",
    "    dtyp = sensor_df['sensor_status'].dtype\n",
    "    \n",
    "    if dtyp == 'float64':\n",
    "        if any(substring in file_name for substring in skip_substrings):\n",
    "            print(i, '\\t', file_name, '--XXXXX--')\n",
    "            continue\n",
    "        else:\n",
    "            sensor_df = sensor_df.dropna(subset=['ts'])\n",
    "            sensor_df = sensor_df[~sensor_df['sensor_status'].isin(['unavailable', 'unknown'])]\n",
    "            sensor_df['sensor_status'] = pd.to_numeric(sensor_df['sensor_status'], errors='coerce')\n",
    "            peaks, df_shower_humidity = detect_peaks(sensor_df, 'sensor_status', prominence_value = 2)\n",
    "            sensor_df = sensor_df.rename(columns={'sensor_status': 'sensor_values', 'peak_detected': 'sensor_status'})\n",
    "            print(i, '\\t', file_name)\n",
    "            # plot_data_with_peaks(sensor_df, 'ts', 'sensor_values', peaks)\n",
    "            filtered_df = filter_on_off_consecutive(sensor_df)\n",
    "            filtered_df = filtered_df.reset_index()\n",
    "            filtered_df = process_sensor_data(filtered_df)\n",
    "            cleaned_data.append({'sensor':file_name, 'filtered_df':filtered_df, 'sensor_df':sensor_df})\n",
    "    else:\n",
    "\n",
    "        if any(substring in file_name for substring in skip_substrings):\n",
    "            print(i, '\\t', file_name, '--XXXXX--')\n",
    "            continue\n",
    "        \n",
    "        else:\n",
    "            sensor_df, _ = remove_unknown_unavailable(os.path.join(path,file_name))\n",
    "            filtered_df = process_sensor_data(sensor_df)\n",
    "            cleaned_data.append({'sensor':file_name, 'filtered_df':filtered_df, 'sensor_df':sensor_df})\n",
    "            print(i, '\\t', file_name)\n",
    "\n"
   ]
  },
  {
   "cell_type": "code",
   "execution_count": 116,
   "metadata": {},
   "outputs": [
    {
     "name": "stdout",
     "output_type": "stream",
     "text": [
      "<class 'list'>\n"
     ]
    }
   ],
   "source": [
    "## Code in this cell, is used to prepare the input for the problem \"how many times did the subject go out of the home?\"\n",
    "data_path = '/home/hubble/work/serenade/data/subject_3/environmentals/HouseEntrance.csv'\n",
    "df_cleaned, arr_cleaned = remove_unknown_unavailable(data_path)\n",
    "df_processed = process_sensor_data(df_cleaned)\n",
    "results = time_current_off_and_next_on(df_processed)\n",
    "print(type(results))"
   ]
  },
  {
   "cell_type": "code",
   "execution_count": 117,
   "metadata": {},
   "outputs": [
    {
     "name": "stdout",
     "output_type": "stream",
     "text": [
      "2023-09-25 11:40:09.375000 2023-09-25 11:47:21.478000\n",
      "2023-09-25 11:47:27.901000 2023-09-25 11:56:59.998000\n",
      "2023-09-25 11:57:05.648000 2023-09-25 12:57:53.875000\n",
      "2023-09-25 12:58:00.813000 2023-09-25 13:07:58.134000\n",
      "2023-09-25 13:08:40.649000 2023-09-25 14:40:31.118000\n",
      "2023-09-25 14:40:38.863000 2023-09-25 16:06:28.598000\n",
      "2023-09-25 16:06:43.620000 2023-09-25 16:43:14.699000\n",
      "2023-09-25 16:44:27.051000 2023-09-25 21:40:23.297000\n",
      "2023-09-25 21:41:00.652000 2023-09-25 21:42:08.793000\n",
      "2023-09-25 21:42:25.132000 2023-09-25 21:51:19.537000\n",
      "2023-09-25 21:51:25.525000 2023-09-26 06:29:36.415000\n",
      "2023-09-26 06:29:45.283000 2023-09-26 07:23:35.962000\n",
      "2023-09-26 07:25:40.537000 2023-09-26 10:27:21.065000\n",
      "2023-09-26 10:28:51.025000 2023-09-26 10:28:58.097000\n",
      "2023-09-26 10:29:27.178000 2023-09-26 11:23:24.717000\n",
      "2023-09-26 11:23:34.680000 2023-09-26 14:28:20.807000\n",
      "2023-09-26 14:28:29.010000 2023-09-26 14:29:29.024000\n",
      "2023-09-26 14:30:17.472000 2023-09-26 20:37:21.707000\n",
      "2023-09-26 20:37:33.330000 2023-09-27 06:52:00.564000\n",
      "2023-09-27 06:52:07.932000 2023-09-27 08:07:47.127000\n",
      "2023-09-27 08:08:00.749000 2023-09-27 12:59:14.304000\n",
      "2023-09-27 12:59:20.207000 2023-09-27 12:59:32.141000\n",
      "All a_s are empty for i = 21, ws = 2023-09-27 12:59:20.207000, we = 2023-09-27 12:59:32.141000\n",
      "2023-09-27 13:02:28.482000 2023-09-27 14:55:30.438000\n",
      "2023-09-27 14:55:36.439000 2023-09-27 14:58:17.067000\n",
      "2023-09-27 15:01:09.972000 2023-09-27 15:07:45.336000\n",
      "2023-09-27 15:07:51.926000 2023-09-27 15:16:15.361000\n",
      "2023-09-27 15:16:34.623000 2023-09-27 16:30:30.604000\n",
      "2023-09-27 16:30:52.990000 2023-09-27 17:22:31.826000\n",
      "All a_s are empty for i = 27, ws = 2023-09-27 16:30:52.990000, we = 2023-09-27 17:22:31.826000\n",
      "2023-09-27 17:27:25.612000 2023-09-27 18:39:07.829000\n",
      "2023-09-27 18:40:09.971000 2023-09-27 18:44:01.873000\n",
      "2023-09-27 18:44:43.483000 2023-09-28 06:39:59.182000\n",
      "2023-09-28 06:41:19.887000 2023-09-28 06:41:36.640000\n",
      "All a_s are empty for i = 31, ws = 2023-09-28 06:41:19.887000, we = 2023-09-28 06:41:36.640000\n",
      "2023-09-28 06:41:52.059000 2023-09-28 08:25:35.505000\n",
      "2023-09-28 08:25:45.361000 2023-09-28 08:42:58.240000\n",
      "2023-09-28 08:43:18.253000 2023-09-28 08:43:20.752000\n",
      "All a_s are empty for i = 34, ws = 2023-09-28 08:43:18.253000, we = 2023-09-28 08:43:20.752000\n",
      "2023-09-28 08:43:55.827000 2023-09-28 10:20:39.016000\n",
      "2023-09-28 10:22:22.482000 2023-09-28 10:26:40.353000\n",
      "2023-09-28 10:27:54.907000 2023-09-28 10:43:17.553000\n",
      "2023-09-28 10:43:24.133000 2023-09-28 14:17:48.362000\n",
      "2023-09-28 14:18:45.037000 2023-09-28 14:35:53.524000\n",
      "2023-09-28 14:36:16.782000 2023-09-28 15:41:33.519000\n",
      "2023-09-28 15:41:40.528000 2023-09-28 15:42:12.356000\n",
      "2023-09-28 15:42:41.441000 2023-09-28 18:09:52.106000\n",
      "2023-09-28 18:10:00.427000 2023-09-29 06:39:22.739000\n",
      "2023-09-29 06:39:31.519000 2023-09-29 07:38:10.227000\n",
      "2023-09-29 07:38:55.396000 2023-09-29 11:12:41.511000\n",
      "2023-09-29 11:12:47.860000 2023-09-29 11:13:21.518000\n",
      "All a_s are empty for i = 46, ws = 2023-09-29 11:12:47.860000, we = 2023-09-29 11:13:21.518000\n",
      "2023-09-29 11:13:53.588000 2023-09-29 12:47:22.027000\n",
      "2023-09-29 12:47:31.636000 2023-09-29 14:26:46.748000\n",
      "2023-09-29 14:27:11.528000 2023-09-29 14:54:49.785000\n",
      "2023-09-29 14:55:15.364000 2023-09-29 15:52:17.039000\n",
      "2023-09-29 15:52:28.680000 2023-09-30 06:28:56.256000\n",
      "2023-09-30 06:29:02.942000 2023-09-30 06:53:18.257000\n",
      "2023-09-30 06:53:24.927000 2023-09-30 08:02:53.100000\n",
      "2023-09-30 08:03:16.724000 2023-09-30 08:11:53.132000\n",
      "2023-09-30 08:12:04.518000 2023-09-30 10:20:37.309000\n",
      "2023-09-30 10:20:41.537000 2023-09-30 10:22:29.036000\n",
      "2023-09-30 10:22:34.556000 2023-09-30 10:23:15.362000\n",
      "2023-09-30 10:28:50.202000 2023-09-30 10:33:19.668000\n",
      "2023-09-30 10:33:56.661000 2023-09-30 10:34:28.003000\n",
      "All a_s are empty for i = 59, ws = 2023-09-30 10:33:56.661000, we = 2023-09-30 10:34:28.003000\n",
      "2023-09-30 10:35:11.544000 2023-09-30 12:01:53.131000\n",
      "2023-09-30 12:02:13.080000 2023-09-30 14:54:09.592000\n",
      "2023-09-30 14:54:16.641000 2023-09-30 16:37:08.080000\n",
      "2023-09-30 16:37:16.125000 2023-09-30 16:51:12.896000\n",
      "2023-09-30 16:51:22.032000 2023-09-30 20:59:27.247000\n",
      "2023-09-30 20:59:51.007000 2023-09-30 21:15:13.351000\n",
      "2023-09-30 21:15:43.235000 2023-10-01 07:06:13.036000\n",
      "2023-10-01 07:06:22.785000 2023-10-01 08:52:40.036000\n",
      "2023-10-01 08:53:01.924000 2023-10-01 09:03:00.768000\n",
      "2023-10-01 09:04:49.527000 2023-10-01 14:06:50.880000\n",
      "2023-10-01 14:06:58.550000 2023-10-01 14:25:46.522000\n",
      "2023-10-01 14:26:08.045000 2023-10-01 21:01:21.453000\n",
      "2023-10-01 21:01:29.453000 2023-10-01 21:11:57.446000\n",
      "2023-10-01 21:12:14.074000 2023-10-02 06:49:06.324000\n",
      "2023-10-02 06:49:13.187000 2023-10-02 08:40:35.682000\n",
      "2023-10-02 08:43:48.889000 2023-10-02 09:20:50.051000\n",
      "2023-10-02 09:20:57.801000 2023-10-02 10:34:49.560000\n",
      "2023-10-02 10:35:03.704000 2023-10-02 10:57:04.751000\n",
      "2023-10-02 10:57:11.173000 2023-10-02 11:08:31.072000\n",
      "2023-10-02 11:08:36.120000 2023-10-02 13:09:02.115000\n",
      "2023-10-02 13:09:07.194000 2023-10-02 14:49:38.109000\n",
      "2023-10-02 14:57:44.614000 2023-10-02 16:10:29.564000\n",
      "2023-10-02 16:10:37.932000 2023-10-02 17:17:31.868000\n",
      "2023-10-02 17:17:37.022000 2023-10-03 06:33:57.585000\n",
      "2023-10-03 06:34:22.932000 2023-10-03 08:07:54.795000\n",
      "2023-10-03 08:08:06.746000 2023-10-03 08:52:07.666000\n",
      "2023-10-03 08:52:14.756000 2023-10-03 09:45:07.277000\n",
      "2023-10-03 09:45:44.966000 2023-10-03 09:52:47.326000\n",
      "All a_s are empty for i = 87, ws = 2023-10-03 09:45:44.966000, we = 2023-10-03 09:52:47.326000\n",
      "2023-10-03 09:52:53.090000 2023-10-03 10:27:29.359000\n",
      "2023-10-03 10:27:37.315000 2023-10-03 13:07:35.142000\n",
      "2023-10-03 13:07:45.182000 2023-10-03 13:46:56.996000\n",
      "2023-10-03 13:47:03.220000 2023-10-03 14:27:42.213000\n",
      "2023-10-03 14:27:49.536000 2023-10-03 16:01:03.603000\n",
      "2023-10-03 16:01:11.216000 2023-10-03 17:13:57.604000\n",
      "2023-10-03 17:14:15.207000 2023-10-04 06:34:48.042000\n",
      "2023-10-04 06:34:55.747000 2023-10-04 07:58:55.503000\n",
      "2023-10-04 08:03:12.628000 2023-10-04 09:15:23.505000\n",
      "2023-10-04 09:15:30.072000 2023-10-04 11:37:26.267000\n",
      "2023-10-04 11:37:35.691000 2023-10-04 13:17:45.141000\n",
      "2023-10-04 13:18:05.598000 2023-10-04 13:18:15.524000\n",
      "2023-10-04 13:18:55.941000 2023-10-04 13:27:31.652000\n",
      "2023-10-04 13:27:36.639000 2023-10-04 13:30:36.146000\n",
      "2023-10-04 13:30:42.781000 2023-10-04 16:52:25.522000\n",
      "2023-10-04 16:53:07.133000 2023-10-04 16:58:14.664000\n",
      "2023-10-04 16:58:36.324000 2023-10-04 18:18:40.450000\n",
      "2023-10-04 18:19:14.818000 2023-10-04 18:48:27.436000\n",
      "2023-10-04 18:49:10.701000 2023-10-04 21:51:51.091000\n",
      "2023-10-04 21:53:05.939000 2023-10-04 21:53:08.606000\n",
      "All a_s are empty for i = 107, ws = 2023-10-04 21:53:05.939000, we = 2023-10-04 21:53:08.606000\n",
      "2023-10-04 21:53:21.863000 2023-10-04 22:12:38.781000\n",
      "All a_s are empty for i = 108, ws = 2023-10-04 21:53:21.863000, we = 2023-10-04 22:12:38.781000\n",
      "2023-10-04 22:13:35.310000 2023-10-05 06:52:55.871000\n",
      "2023-10-05 06:53:03.667000 2023-10-05 08:14:36.398000\n",
      "All a_s are empty for i = 110, ws = 2023-10-05 06:53:03.667000, we = 2023-10-05 08:14:36.398000\n",
      "2023-10-05 08:15:43.899000 2023-10-05 08:26:34.383000\n",
      "2023-10-05 08:26:39.567000 2023-10-05 10:30:34.810000\n",
      "2023-10-05 10:31:00.833000 2023-10-05 11:01:58.575000\n"
     ]
    },
    {
     "ename": "KeyboardInterrupt",
     "evalue": "",
     "output_type": "error",
     "traceback": [
      "\u001b[0;31m---------------------------------------------------------------------------\u001b[0m",
      "\u001b[0;31mKeyboardInterrupt\u001b[0m                         Traceback (most recent call last)",
      "\u001b[1;32m/home/hubble/work/serenade/src/main.ipynb Cell 6\u001b[0m line \u001b[0;36m1\n\u001b[1;32m     <a href='vscode-notebook-cell:/home/hubble/work/serenade/src/main.ipynb#W5sZmlsZQ%3D%3D?line=9'>10</a>\u001b[0m \u001b[39mif\u001b[39;00m cleaned_data[j][\u001b[39m'\u001b[39m\u001b[39msensor\u001b[39m\u001b[39m'\u001b[39m] \u001b[39m==\u001b[39m \u001b[39m'\u001b[39m\u001b[39mHouseEntrance.csv\u001b[39m\u001b[39m'\u001b[39m:\n\u001b[1;32m     <a href='vscode-notebook-cell:/home/hubble/work/serenade/src/main.ipynb#W5sZmlsZQ%3D%3D?line=10'>11</a>\u001b[0m     \u001b[39mcontinue\u001b[39;00m\n\u001b[0;32m---> <a href='vscode-notebook-cell:/home/hubble/work/serenade/src/main.ipynb#W5sZmlsZQ%3D%3D?line=11'>12</a>\u001b[0m a_s \u001b[39m=\u001b[39m filter_sensors_by_window(df_in_question, ws, we)\n\u001b[1;32m     <a href='vscode-notebook-cell:/home/hubble/work/serenade/src/main.ipynb#W5sZmlsZQ%3D%3D?line=12'>13</a>\u001b[0m \u001b[39mif\u001b[39;00m \u001b[39mnot\u001b[39;00m a_s\u001b[39m.\u001b[39mempty:\n\u001b[1;32m     <a href='vscode-notebook-cell:/home/hubble/work/serenade/src/main.ipynb#W5sZmlsZQ%3D%3D?line=13'>14</a>\u001b[0m     all_empty \u001b[39m=\u001b[39m \u001b[39mFalse\u001b[39;00m\n",
      "\u001b[1;32m/home/hubble/work/serenade/src/main.ipynb Cell 6\u001b[0m line \u001b[0;36m1\n\u001b[1;32m    <a href='vscode-notebook-cell:/home/hubble/work/serenade/src/main.ipynb#W5sZmlsZQ%3D%3D?line=142'>143</a>\u001b[0m end_time \u001b[39m=\u001b[39m pd\u001b[39m.\u001b[39mto_datetime(end_time)\n\u001b[1;32m    <a href='vscode-notebook-cell:/home/hubble/work/serenade/src/main.ipynb#W5sZmlsZQ%3D%3D?line=144'>145</a>\u001b[0m \u001b[39m# Filter rows where the sensor was active in the window\u001b[39;00m\n\u001b[0;32m--> <a href='vscode-notebook-cell:/home/hubble/work/serenade/src/main.ipynb#W5sZmlsZQ%3D%3D?line=145'>146</a>\u001b[0m active_sensors \u001b[39m=\u001b[39m df[((df[\u001b[39m'\u001b[39;49m\u001b[39mts_on\u001b[39;49m\u001b[39m'\u001b[39;49m] \u001b[39m<\u001b[39;49m\u001b[39m=\u001b[39;49m end_time) \u001b[39m&\u001b[39;49m (df[\u001b[39m'\u001b[39;49m\u001b[39mts_off\u001b[39;49m\u001b[39m'\u001b[39;49m] \u001b[39m>\u001b[39;49m\u001b[39m=\u001b[39;49m start_time))]\n\u001b[1;32m    <a href='vscode-notebook-cell:/home/hubble/work/serenade/src/main.ipynb#W5sZmlsZQ%3D%3D?line=147'>148</a>\u001b[0m \u001b[39mreturn\u001b[39;00m active_sensors\n",
      "File \u001b[0;32m~/miniconda3/envs/sudokutf/lib/python3.9/site-packages/pandas/core/frame.py:3887\u001b[0m, in \u001b[0;36mDataFrame.__getitem__\u001b[0;34m(self, key)\u001b[0m\n\u001b[1;32m   3885\u001b[0m \u001b[39m# Do we have a (boolean) 1d indexer?\u001b[39;00m\n\u001b[1;32m   3886\u001b[0m \u001b[39mif\u001b[39;00m com\u001b[39m.\u001b[39mis_bool_indexer(key):\n\u001b[0;32m-> 3887\u001b[0m     \u001b[39mreturn\u001b[39;00m \u001b[39mself\u001b[39;49m\u001b[39m.\u001b[39;49m_getitem_bool_array(key)\n\u001b[1;32m   3889\u001b[0m \u001b[39m# We are left with two options: a single key, and a collection of keys,\u001b[39;00m\n\u001b[1;32m   3890\u001b[0m \u001b[39m# We interpret tuples as collections only for non-MultiIndex\u001b[39;00m\n\u001b[1;32m   3891\u001b[0m is_single_key \u001b[39m=\u001b[39m \u001b[39misinstance\u001b[39m(key, \u001b[39mtuple\u001b[39m) \u001b[39mor\u001b[39;00m \u001b[39mnot\u001b[39;00m is_list_like(key)\n",
      "File \u001b[0;32m~/miniconda3/envs/sudokutf/lib/python3.9/site-packages/pandas/core/frame.py:3949\u001b[0m, in \u001b[0;36mDataFrame._getitem_bool_array\u001b[0;34m(self, key)\u001b[0m\n\u001b[1;32m   3946\u001b[0m     \u001b[39mreturn\u001b[39;00m \u001b[39mself\u001b[39m\u001b[39m.\u001b[39mcopy(deep\u001b[39m=\u001b[39m\u001b[39mNone\u001b[39;00m)\n\u001b[1;32m   3948\u001b[0m indexer \u001b[39m=\u001b[39m key\u001b[39m.\u001b[39mnonzero()[\u001b[39m0\u001b[39m]\n\u001b[0;32m-> 3949\u001b[0m \u001b[39mreturn\u001b[39;00m \u001b[39mself\u001b[39;49m\u001b[39m.\u001b[39;49m_take_with_is_copy(indexer, axis\u001b[39m=\u001b[39;49m\u001b[39m0\u001b[39;49m)\n",
      "File \u001b[0;32m~/miniconda3/envs/sudokutf/lib/python3.9/site-packages/pandas/core/generic.py:4088\u001b[0m, in \u001b[0;36mNDFrame._take_with_is_copy\u001b[0;34m(self, indices, axis)\u001b[0m\n\u001b[1;32m   4077\u001b[0m \u001b[39m@final\u001b[39m\n\u001b[1;32m   4078\u001b[0m \u001b[39mdef\u001b[39;00m \u001b[39m_take_with_is_copy\u001b[39m(\u001b[39mself\u001b[39m, indices, axis: Axis \u001b[39m=\u001b[39m \u001b[39m0\u001b[39m) \u001b[39m-\u001b[39m\u001b[39m>\u001b[39m Self:\n\u001b[1;32m   4079\u001b[0m \u001b[39m    \u001b[39m\u001b[39m\"\"\"\u001b[39;00m\n\u001b[1;32m   4080\u001b[0m \u001b[39m    Internal version of the `take` method that sets the `_is_copy`\u001b[39;00m\n\u001b[1;32m   4081\u001b[0m \u001b[39m    attribute to keep track of the parent dataframe (using in indexing\u001b[39;00m\n\u001b[0;32m   (...)\u001b[0m\n\u001b[1;32m   4086\u001b[0m \u001b[39m    See the docstring of `take` for full explanation of the parameters.\u001b[39;00m\n\u001b[1;32m   4087\u001b[0m \u001b[39m    \"\"\"\u001b[39;00m\n\u001b[0;32m-> 4088\u001b[0m     result \u001b[39m=\u001b[39m \u001b[39mself\u001b[39;49m\u001b[39m.\u001b[39;49mtake(indices\u001b[39m=\u001b[39;49mindices, axis\u001b[39m=\u001b[39;49maxis)\n\u001b[1;32m   4089\u001b[0m     \u001b[39m# Maybe set copy if we didn't actually change the index.\u001b[39;00m\n\u001b[1;32m   4090\u001b[0m     \u001b[39mif\u001b[39;00m \u001b[39mself\u001b[39m\u001b[39m.\u001b[39mndim \u001b[39m==\u001b[39m \u001b[39m2\u001b[39m \u001b[39mand\u001b[39;00m \u001b[39mnot\u001b[39;00m result\u001b[39m.\u001b[39m_get_axis(axis)\u001b[39m.\u001b[39mequals(\u001b[39mself\u001b[39m\u001b[39m.\u001b[39m_get_axis(axis)):\n",
      "File \u001b[0;32m~/miniconda3/envs/sudokutf/lib/python3.9/site-packages/pandas/core/generic.py:4068\u001b[0m, in \u001b[0;36mNDFrame.take\u001b[0;34m(self, indices, axis, **kwargs)\u001b[0m\n\u001b[1;32m   4063\u001b[0m     \u001b[39m# We can get here with a slice via DataFrame.__getitem__\u001b[39;00m\n\u001b[1;32m   4064\u001b[0m     indices \u001b[39m=\u001b[39m np\u001b[39m.\u001b[39marange(\n\u001b[1;32m   4065\u001b[0m         indices\u001b[39m.\u001b[39mstart, indices\u001b[39m.\u001b[39mstop, indices\u001b[39m.\u001b[39mstep, dtype\u001b[39m=\u001b[39mnp\u001b[39m.\u001b[39mintp\n\u001b[1;32m   4066\u001b[0m     )\n\u001b[0;32m-> 4068\u001b[0m new_data \u001b[39m=\u001b[39m \u001b[39mself\u001b[39;49m\u001b[39m.\u001b[39;49m_mgr\u001b[39m.\u001b[39;49mtake(\n\u001b[1;32m   4069\u001b[0m     indices,\n\u001b[1;32m   4070\u001b[0m     axis\u001b[39m=\u001b[39;49m\u001b[39mself\u001b[39;49m\u001b[39m.\u001b[39;49m_get_block_manager_axis(axis),\n\u001b[1;32m   4071\u001b[0m     verify\u001b[39m=\u001b[39;49m\u001b[39mTrue\u001b[39;49;00m,\n\u001b[1;32m   4072\u001b[0m )\n\u001b[1;32m   4073\u001b[0m \u001b[39mreturn\u001b[39;00m \u001b[39mself\u001b[39m\u001b[39m.\u001b[39m_constructor_from_mgr(new_data, axes\u001b[39m=\u001b[39mnew_data\u001b[39m.\u001b[39maxes)\u001b[39m.\u001b[39m__finalize__(\n\u001b[1;32m   4074\u001b[0m     \u001b[39mself\u001b[39m, method\u001b[39m=\u001b[39m\u001b[39m\"\u001b[39m\u001b[39mtake\u001b[39m\u001b[39m\"\u001b[39m\n\u001b[1;32m   4075\u001b[0m )\n",
      "File \u001b[0;32m~/miniconda3/envs/sudokutf/lib/python3.9/site-packages/pandas/core/internals/managers.py:877\u001b[0m, in \u001b[0;36mBaseBlockManager.take\u001b[0;34m(self, indexer, axis, verify)\u001b[0m\n\u001b[1;32m    874\u001b[0m indexer \u001b[39m=\u001b[39m maybe_convert_indices(indexer, n, verify\u001b[39m=\u001b[39mverify)\n\u001b[1;32m    876\u001b[0m new_labels \u001b[39m=\u001b[39m \u001b[39mself\u001b[39m\u001b[39m.\u001b[39maxes[axis]\u001b[39m.\u001b[39mtake(indexer)\n\u001b[0;32m--> 877\u001b[0m \u001b[39mreturn\u001b[39;00m \u001b[39mself\u001b[39;49m\u001b[39m.\u001b[39;49mreindex_indexer(\n\u001b[1;32m    878\u001b[0m     new_axis\u001b[39m=\u001b[39;49mnew_labels,\n\u001b[1;32m    879\u001b[0m     indexer\u001b[39m=\u001b[39;49mindexer,\n\u001b[1;32m    880\u001b[0m     axis\u001b[39m=\u001b[39;49maxis,\n\u001b[1;32m    881\u001b[0m     allow_dups\u001b[39m=\u001b[39;49m\u001b[39mTrue\u001b[39;49;00m,\n\u001b[1;32m    882\u001b[0m     copy\u001b[39m=\u001b[39;49m\u001b[39mNone\u001b[39;49;00m,\n\u001b[1;32m    883\u001b[0m )\n",
      "File \u001b[0;32m~/miniconda3/envs/sudokutf/lib/python3.9/site-packages/pandas/core/internals/managers.py:670\u001b[0m, in \u001b[0;36mBaseBlockManager.reindex_indexer\u001b[0;34m(self, new_axis, indexer, axis, fill_value, allow_dups, copy, only_slice, use_na_proxy)\u001b[0m\n\u001b[1;32m    663\u001b[0m     new_blocks \u001b[39m=\u001b[39m \u001b[39mself\u001b[39m\u001b[39m.\u001b[39m_slice_take_blocks_ax0(\n\u001b[1;32m    664\u001b[0m         indexer,\n\u001b[1;32m    665\u001b[0m         fill_value\u001b[39m=\u001b[39mfill_value,\n\u001b[1;32m    666\u001b[0m         only_slice\u001b[39m=\u001b[39monly_slice,\n\u001b[1;32m    667\u001b[0m         use_na_proxy\u001b[39m=\u001b[39muse_na_proxy,\n\u001b[1;32m    668\u001b[0m     )\n\u001b[1;32m    669\u001b[0m \u001b[39melse\u001b[39;00m:\n\u001b[0;32m--> 670\u001b[0m     new_blocks \u001b[39m=\u001b[39m [\n\u001b[1;32m    671\u001b[0m         blk\u001b[39m.\u001b[39mtake_nd(\n\u001b[1;32m    672\u001b[0m             indexer,\n\u001b[1;32m    673\u001b[0m             axis\u001b[39m=\u001b[39m\u001b[39m1\u001b[39m,\n\u001b[1;32m    674\u001b[0m             fill_value\u001b[39m=\u001b[39m(\n\u001b[1;32m    675\u001b[0m                 fill_value \u001b[39mif\u001b[39;00m fill_value \u001b[39mis\u001b[39;00m \u001b[39mnot\u001b[39;00m \u001b[39mNone\u001b[39;00m \u001b[39melse\u001b[39;00m blk\u001b[39m.\u001b[39mfill_value\n\u001b[1;32m    676\u001b[0m             ),\n\u001b[1;32m    677\u001b[0m         )\n\u001b[1;32m    678\u001b[0m         \u001b[39mfor\u001b[39;00m blk \u001b[39min\u001b[39;00m \u001b[39mself\u001b[39m\u001b[39m.\u001b[39mblocks\n\u001b[1;32m    679\u001b[0m     ]\n\u001b[1;32m    681\u001b[0m new_axes \u001b[39m=\u001b[39m \u001b[39mlist\u001b[39m(\u001b[39mself\u001b[39m\u001b[39m.\u001b[39maxes)\n\u001b[1;32m    682\u001b[0m new_axes[axis] \u001b[39m=\u001b[39m new_axis\n",
      "File \u001b[0;32m~/miniconda3/envs/sudokutf/lib/python3.9/site-packages/pandas/core/internals/managers.py:675\u001b[0m, in \u001b[0;36m<listcomp>\u001b[0;34m(.0)\u001b[0m\n\u001b[1;32m    663\u001b[0m     new_blocks \u001b[39m=\u001b[39m \u001b[39mself\u001b[39m\u001b[39m.\u001b[39m_slice_take_blocks_ax0(\n\u001b[1;32m    664\u001b[0m         indexer,\n\u001b[1;32m    665\u001b[0m         fill_value\u001b[39m=\u001b[39mfill_value,\n\u001b[1;32m    666\u001b[0m         only_slice\u001b[39m=\u001b[39monly_slice,\n\u001b[1;32m    667\u001b[0m         use_na_proxy\u001b[39m=\u001b[39muse_na_proxy,\n\u001b[1;32m    668\u001b[0m     )\n\u001b[1;32m    669\u001b[0m \u001b[39melse\u001b[39;00m:\n\u001b[1;32m    670\u001b[0m     new_blocks \u001b[39m=\u001b[39m [\n\u001b[1;32m    671\u001b[0m         blk\u001b[39m.\u001b[39mtake_nd(\n\u001b[1;32m    672\u001b[0m             indexer,\n\u001b[1;32m    673\u001b[0m             axis\u001b[39m=\u001b[39m\u001b[39m1\u001b[39m,\n\u001b[1;32m    674\u001b[0m             fill_value\u001b[39m=\u001b[39m(\n\u001b[0;32m--> 675\u001b[0m                 fill_value \u001b[39mif\u001b[39;00m fill_value \u001b[39mis\u001b[39;00m \u001b[39mnot\u001b[39;00m \u001b[39mNone\u001b[39;00m \u001b[39melse\u001b[39;00m blk\u001b[39m.\u001b[39;49mfill_value\n\u001b[1;32m    676\u001b[0m             ),\n\u001b[1;32m    677\u001b[0m         )\n\u001b[1;32m    678\u001b[0m         \u001b[39mfor\u001b[39;00m blk \u001b[39min\u001b[39;00m \u001b[39mself\u001b[39m\u001b[39m.\u001b[39mblocks\n\u001b[1;32m    679\u001b[0m     ]\n\u001b[1;32m    681\u001b[0m new_axes \u001b[39m=\u001b[39m \u001b[39mlist\u001b[39m(\u001b[39mself\u001b[39m\u001b[39m.\u001b[39maxes)\n\u001b[1;32m    682\u001b[0m new_axes[axis] \u001b[39m=\u001b[39m new_axis\n",
      "File \u001b[0;32mproperties.pyx:36\u001b[0m, in \u001b[0;36mpandas._libs.properties.CachedProperty.__get__\u001b[0;34m()\u001b[0m\n",
      "File \u001b[0;32m~/miniconda3/envs/sudokutf/lib/python3.9/site-packages/pandas/core/internals/blocks.py:226\u001b[0m, in \u001b[0;36mBlock.fill_value\u001b[0;34m(self)\u001b[0m\n\u001b[1;32m    222\u001b[0m \u001b[39m@final\u001b[39m\n\u001b[1;32m    223\u001b[0m \u001b[39mdef\u001b[39;00m \u001b[39mexternal_values\u001b[39m(\u001b[39mself\u001b[39m):\n\u001b[1;32m    224\u001b[0m     \u001b[39mreturn\u001b[39;00m external_values(\u001b[39mself\u001b[39m\u001b[39m.\u001b[39mvalues)\n\u001b[0;32m--> 226\u001b[0m \u001b[39m@final\u001b[39m\n\u001b[1;32m    227\u001b[0m \u001b[39m@cache_readonly\u001b[39m\n\u001b[1;32m    228\u001b[0m \u001b[39mdef\u001b[39;00m \u001b[39mfill_value\u001b[39m(\u001b[39mself\u001b[39m):\n\u001b[1;32m    229\u001b[0m     \u001b[39m# Used in reindex_indexer\u001b[39;00m\n\u001b[1;32m    230\u001b[0m     \u001b[39mreturn\u001b[39;00m na_value_for_dtype(\u001b[39mself\u001b[39m\u001b[39m.\u001b[39mdtype, compat\u001b[39m=\u001b[39m\u001b[39mFalse\u001b[39;00m)\n\u001b[1;32m    232\u001b[0m \u001b[39m@final\u001b[39m\n\u001b[1;32m    233\u001b[0m \u001b[39mdef\u001b[39;00m \u001b[39m_standardize_fill_value\u001b[39m(\u001b[39mself\u001b[39m, value):\n\u001b[1;32m    234\u001b[0m     \u001b[39m# if we are passed a scalar None, convert it here\u001b[39;00m\n",
      "\u001b[0;31mKeyboardInterrupt\u001b[0m: "
     ]
    }
   ],
   "source": [
    "## DO NOT RUN, IT TAKES A LONG TIME\n",
    "## The following code check given a time window, if any of the sensors was activated in the house, If yes, the subject was present in the house, else, the subject went outside\n",
    "for i in range(len(results)):\n",
    "    query_window = results[i]\n",
    "    ws, we = query_window['ts_off'], query_window['next_ts_on']\n",
    "    print(ws,we)\n",
    "    all_empty = True\n",
    "    for j in range(len(cleaned_data)):\n",
    "        df_in_question = cleaned_data[j]['filtered_df']\n",
    "        if cleaned_data[j]['sensor'] == 'HouseEntrance.csv':\n",
    "            continue\n",
    "        a_s = filter_sensors_by_window(df_in_question, ws, we)\n",
    "        if not a_s.empty:\n",
    "            all_empty = False\n",
    "\n",
    "    if all_empty:\n",
    "        print(f\"All a_s are empty for i = {i}, ws = {ws}, we = {we}\")"
   ]
  },
  {
   "cell_type": "code",
   "execution_count": 6,
   "metadata": {},
   "outputs": [
    {
     "name": "stdout",
     "output_type": "stream",
     "text": [
      "--------- 0 ---------- CoffeMachine.csv\n",
      "--------- 1 ---------- Dishes_Glasses.csv\n",
      "--------- 2 ---------- FoodStorageKitchen.csv\n",
      "--------- 3 ---------- FoodStorageLivingRoom.csv\n",
      "--------- 4 ---------- Freezer.csv\n",
      "--------- 5 ---------- HouseEntrance.csv\n",
      "--------- 6 ---------- Medicines.csv\n",
      "--------- 7 ---------- Microwave.csv\n",
      "--------- 8 ---------- MotionBedroom.csv\n",
      "--------- 9 ---------- MotionKitchen.csv\n",
      "--------- 10 ---------- MotionLivingRoomSofa.csv\n",
      "--------- 11 ---------- MotionLivingRoomTablet.csv\n",
      "--------- 12 ---------- MotionPrimaryBathroom.csv\n",
      "--------- 13 ---------- MotionSecondaryBathroom.csv\n",
      "--------- 14 ---------- PlugTvHall.csv\n",
      "--------- 15 ---------- Printer.csv\n",
      "--------- 16 ---------- Refrigerator.csv\n",
      "--------- 17 ---------- Shower_Hum_Temp_humidity.csv\n",
      "--------- 18 ---------- Shower_Hum_Temp_temp.csv\n",
      "--------- 19 ---------- Stove_Hum_Temp_humidity.csv\n",
      "--------- 20 ---------- Stove_Hum_Temp_temp.csv\n"
     ]
    }
   ],
   "source": [
    "specific_date = '2023-09-30'\n",
    "date_specific_data = []\n",
    "for i in range(len(cleaned_data)):\n",
    "    sensor_name = cleaned_data[i]['sensor']\n",
    "    print('---------',i,'----------', sensor_name)\n",
    "    sensor_data = cleaned_data[i]['filtered_df']\n",
    "    filtered_data = filter_data_for_date(sensor_data, specific_date)\n",
    "    date_specific_data.append({'sensor':sensor_name, 'data': filtered_data})\n",
    "    \n",
    "plot_data = prepare_plot_data(date_specific_data)"
   ]
  },
  {
   "cell_type": "code",
   "execution_count": 8,
   "metadata": {},
   "outputs": [],
   "source": [
    "# Define the color map\n",
    "color_map = {\n",
    "    'Shower_Hum_Temp_humidity.csv': 'red',\n",
    "    'Medicines.csv': 'blue',\n",
    "    'MotionSecondaryBathroom.csv': 'green',\n",
    "    'Refrigerator.csv': 'orange',\n",
    "    'MotionBedroom.csv': 'purple',\n",
    "    'Dishes_Glasses.csv': 'brown',\n",
    "    'HouseEntrance.csv': 'pink',\n",
    "    'Microwave.csv': 'gray',\n",
    "    'CoffeMachine_events.csv': 'olive',\n",
    "    'Stove_Hum_Temp_humidity.csv': 'cyan',\n",
    "    'PlugTvHall.csv': 'magenta',\n",
    "    'MotionPrimaryBathroom.csv': 'lime',\n",
    "    'printer_events.csv': 'navy',\n",
    "    'Printer.csv': 'teal',\n",
    "    'MotionKitchen.csv': 'maroon',\n",
    "    'MotionLivingRoomTablet.csv': 'darkgoldenrod',\n",
    "    'Freezer.csv': 'black',\n",
    "    'Stove_Hum_Temp_temp.csv': 'silver',\n",
    "    'FoodStorageKitchen.csv': 'goldenrod',\n",
    "    'Shower_Hum_Temp_temp.csv': 'coral',\n",
    "    'FoodStorageLivingRoom.csv': 'aqua',\n",
    "    'Microwave_events.csv': 'plum',\n",
    "    'PlugTvHall_events.csv': 'orchid',\n",
    "    'CoffeMachine.csv': 'tan',\n",
    "    'MotionLivingRoomSofa.csv': 'khaki'\n",
    "}"
   ]
  },
  {
   "cell_type": "code",
   "execution_count": 9,
   "metadata": {},
   "outputs": [
    {
     "data": {
      "application/vnd.plotly.v1+json": {
       "config": {
        "plotlyServerURL": "https://plot.ly"
       },
       "data": [
        {
         "line": {
          "color": "purple",
          "width": 1
         },
         "marker": {
          "color": "purple",
          "size": 8
         },
         "mode": "markers+lines",
         "name": "MotionBedroom.csv",
         "showlegend": false,
         "type": "scatter",
         "x": [
          "2023-09-30T00:00:49.893000",
          "2023-09-30T00:02:01.914000"
         ],
         "y": [
          "MotionBedroom.csv",
          "MotionBedroom.csv"
         ]
        },
        {
         "line": {
          "color": "magenta",
          "width": 1
         },
         "marker": {
          "color": "magenta",
          "size": 8
         },
         "mode": "markers+lines",
         "name": "PlugTvHall.csv",
         "showlegend": false,
         "type": "scatter",
         "x": [
          "2023-09-30T00:11:46.347000",
          "2023-09-30T00:30:16.395000"
         ],
         "y": [
          "PlugTvHall.csv",
          "PlugTvHall.csv"
         ]
        },
        {
         "line": {
          "color": "khaki",
          "width": 1
         },
         "marker": {
          "color": "khaki",
          "size": 8
         },
         "mode": "markers+lines",
         "name": "MotionLivingRoomSofa.csv",
         "showlegend": false,
         "type": "scatter",
         "x": [
          "2023-09-30T00:32:58.182000",
          "2023-09-30T00:33:58.175000"
         ],
         "y": [
          "MotionLivingRoomSofa.csv",
          "MotionLivingRoomSofa.csv"
         ]
        },
        {
         "line": {
          "color": "purple",
          "width": 1
         },
         "marker": {
          "color": "purple",
          "size": 8
         },
         "mode": "markers+lines",
         "name": "MotionBedroom.csv",
         "showlegend": false,
         "type": "scatter",
         "x": [
          "2023-09-30T00:33:22.244000",
          "2023-09-30T00:35:38.998000"
         ],
         "y": [
          "MotionBedroom.csv",
          "MotionBedroom.csv"
         ]
        },
        {
         "line": {
          "color": "magenta",
          "width": 1
         },
         "marker": {
          "color": "magenta",
          "size": 8
         },
         "mode": "markers+lines",
         "name": "PlugTvHall.csv",
         "showlegend": false,
         "type": "scatter",
         "x": [
          "2023-09-30T00:50:48.349000",
          "2023-09-30T00:51:18.357000"
         ],
         "y": [
          "PlugTvHall.csv",
          "PlugTvHall.csv"
         ]
        },
        {
         "line": {
          "color": "purple",
          "width": 1
         },
         "marker": {
          "color": "purple",
          "size": 8
         },
         "mode": "markers+lines",
         "name": "MotionBedroom.csv",
         "showlegend": false,
         "type": "scatter",
         "x": [
          "2023-09-30T00:57:46.503000",
          "2023-09-30T00:58:56.861000"
         ],
         "y": [
          "MotionBedroom.csv",
          "MotionBedroom.csv"
         ]
        },
        {
         "line": {
          "color": "magenta",
          "width": 1
         },
         "marker": {
          "color": "magenta",
          "size": 8
         },
         "mode": "markers+lines",
         "name": "PlugTvHall.csv",
         "showlegend": false,
         "type": "scatter",
         "x": [
          "2023-09-30T01:03:51.344000",
          "2023-09-30T01:22:21.304000"
         ],
         "y": [
          "PlugTvHall.csv",
          "PlugTvHall.csv"
         ]
        },
        {
         "line": {
          "color": "purple",
          "width": 1
         },
         "marker": {
          "color": "purple",
          "size": 8
         },
         "mode": "markers+lines",
         "name": "MotionBedroom.csv",
         "showlegend": false,
         "type": "scatter",
         "x": [
          "2023-09-30T01:24:35.514000",
          "2023-09-30T01:25:37.951000"
         ],
         "y": [
          "MotionBedroom.csv",
          "MotionBedroom.csv"
         ]
        },
        {
         "line": {
          "color": "magenta",
          "width": 1
         },
         "marker": {
          "color": "magenta",
          "size": 8
         },
         "mode": "markers+lines",
         "name": "PlugTvHall.csv",
         "showlegend": false,
         "type": "scatter",
         "x": [
          "2023-09-30T01:34:51.344000",
          "2023-09-30T01:39:21.359000"
         ],
         "y": [
          "PlugTvHall.csv",
          "PlugTvHall.csv"
         ]
        },
        {
         "line": {
          "color": "purple",
          "width": 1
         },
         "marker": {
          "color": "purple",
          "size": 8
         },
         "mode": "markers+lines",
         "name": "MotionBedroom.csv",
         "showlegend": false,
         "type": "scatter",
         "x": [
          "2023-09-30T01:40:09.005000",
          "2023-09-30T01:41:36.465000"
         ],
         "y": [
          "MotionBedroom.csv",
          "MotionBedroom.csv"
         ]
        },
        {
         "line": {
          "color": "khaki",
          "width": 1
         },
         "marker": {
          "color": "khaki",
          "size": 8
         },
         "mode": "markers+lines",
         "name": "MotionLivingRoomSofa.csv",
         "showlegend": false,
         "type": "scatter",
         "x": [
          "2023-09-30T01:40:58.862000",
          "2023-09-30T01:41:58.856000"
         ],
         "y": [
          "MotionLivingRoomSofa.csv",
          "MotionLivingRoomSofa.csv"
         ]
        },
        {
         "line": {
          "color": "magenta",
          "width": 1
         },
         "marker": {
          "color": "magenta",
          "size": 8
         },
         "mode": "markers+lines",
         "name": "PlugTvHall.csv",
         "showlegend": false,
         "type": "scatter",
         "x": [
          "2023-09-30T01:44:51.344000",
          "2023-09-30T01:45:21.606000"
         ],
         "y": [
          "PlugTvHall.csv",
          "PlugTvHall.csv"
         ]
        },
        {
         "line": {
          "color": "purple",
          "width": 1
         },
         "marker": {
          "color": "purple",
          "size": 8
         },
         "mode": "markers+lines",
         "name": "MotionBedroom.csv",
         "showlegend": false,
         "type": "scatter",
         "x": [
          "2023-09-30T01:51:12.770000",
          "2023-09-30T01:52:15.222000"
         ],
         "y": [
          "MotionBedroom.csv",
          "MotionBedroom.csv"
         ]
        },
        {
         "line": {
          "color": "magenta",
          "width": 1
         },
         "marker": {
          "color": "magenta",
          "size": 8
         },
         "mode": "markers+lines",
         "name": "PlugTvHall.csv",
         "showlegend": false,
         "type": "scatter",
         "x": [
          "2023-09-30T02:02:21.379000",
          "2023-09-30T02:02:51.338000"
         ],
         "y": [
          "PlugTvHall.csv",
          "PlugTvHall.csv"
         ]
        },
        {
         "line": {
          "color": "magenta",
          "width": 1
         },
         "marker": {
          "color": "magenta",
          "size": 8
         },
         "mode": "markers+lines",
         "name": "PlugTvHall.csv",
         "showlegend": false,
         "type": "scatter",
         "x": [
          "2023-09-30T02:17:52.343000",
          "2023-09-30T02:18:22.351000"
         ],
         "y": [
          "PlugTvHall.csv",
          "PlugTvHall.csv"
         ]
        },
        {
         "line": {
          "color": "magenta",
          "width": 1
         },
         "marker": {
          "color": "magenta",
          "size": 8
         },
         "mode": "markers+lines",
         "name": "PlugTvHall.csv",
         "showlegend": false,
         "type": "scatter",
         "x": [
          "2023-09-30T02:18:52.417000",
          "2023-09-30T02:38:52.357000"
         ],
         "y": [
          "PlugTvHall.csv",
          "PlugTvHall.csv"
         ]
        },
        {
         "line": {
          "color": "khaki",
          "width": 1
         },
         "marker": {
          "color": "khaki",
          "size": 8
         },
         "mode": "markers+lines",
         "name": "MotionLivingRoomSofa.csv",
         "showlegend": false,
         "type": "scatter",
         "x": [
          "2023-09-30T02:32:15.205000",
          "2023-09-30T02:33:15.197000"
         ],
         "y": [
          "MotionLivingRoomSofa.csv",
          "MotionLivingRoomSofa.csv"
         ]
        },
        {
         "line": {
          "color": "maroon",
          "width": 1
         },
         "marker": {
          "color": "maroon",
          "size": 8
         },
         "mode": "markers+lines",
         "name": "MotionKitchen.csv",
         "showlegend": false,
         "type": "scatter",
         "x": [
          "2023-09-30T02:32:19.670000",
          "2023-09-30T02:33:19.671000"
         ],
         "y": [
          "MotionKitchen.csv",
          "MotionKitchen.csv"
         ]
        },
        {
         "line": {
          "color": "maroon",
          "width": 1
         },
         "marker": {
          "color": "maroon",
          "size": 8
         },
         "mode": "markers+lines",
         "name": "MotionKitchen.csv",
         "showlegend": false,
         "type": "scatter",
         "x": [
          "2023-09-30T02:33:28.675000",
          "2023-09-30T02:34:28.663000"
         ],
         "y": [
          "MotionKitchen.csv",
          "MotionKitchen.csv"
         ]
        },
        {
         "line": {
          "color": "khaki",
          "width": 1
         },
         "marker": {
          "color": "khaki",
          "size": 8
         },
         "mode": "markers+lines",
         "name": "MotionLivingRoomSofa.csv",
         "showlegend": false,
         "type": "scatter",
         "x": [
          "2023-09-30T02:34:04.384000",
          "2023-09-30T02:35:04.400000"
         ],
         "y": [
          "MotionLivingRoomSofa.csv",
          "MotionLivingRoomSofa.csv"
         ]
        },
        {
         "line": {
          "color": "purple",
          "width": 1
         },
         "marker": {
          "color": "purple",
          "size": 8
         },
         "mode": "markers+lines",
         "name": "MotionBedroom.csv",
         "showlegend": false,
         "type": "scatter",
         "x": [
          "2023-09-30T02:34:09.838000",
          "2023-09-30T02:38:46.236000"
         ],
         "y": [
          "MotionBedroom.csv",
          "MotionBedroom.csv"
         ]
        },
        {
         "line": {
          "color": "magenta",
          "width": 1
         },
         "marker": {
          "color": "magenta",
          "size": 8
         },
         "mode": "markers+lines",
         "name": "PlugTvHall.csv",
         "showlegend": false,
         "type": "scatter",
         "x": [
          "2023-09-30T02:39:22.468000",
          "2023-09-30T02:44:52.366000"
         ],
         "y": [
          "PlugTvHall.csv",
          "PlugTvHall.csv"
         ]
        },
        {
         "line": {
          "color": "purple",
          "width": 1
         },
         "marker": {
          "color": "purple",
          "size": 8
         },
         "mode": "markers+lines",
         "name": "MotionBedroom.csv",
         "showlegend": false,
         "type": "scatter",
         "x": [
          "2023-09-30T02:50:39.979000",
          "2023-09-30T02:51:47.038000"
         ],
         "y": [
          "MotionBedroom.csv",
          "MotionBedroom.csv"
         ]
        },
        {
         "line": {
          "color": "khaki",
          "width": 1
         },
         "marker": {
          "color": "khaki",
          "size": 8
         },
         "mode": "markers+lines",
         "name": "MotionLivingRoomSofa.csv",
         "showlegend": false,
         "type": "scatter",
         "x": [
          "2023-09-30T02:50:52.288000",
          "2023-09-30T02:51:52.292000"
         ],
         "y": [
          "MotionLivingRoomSofa.csv",
          "MotionLivingRoomSofa.csv"
         ]
        },
        {
         "line": {
          "color": "khaki",
          "width": 1
         },
         "marker": {
          "color": "khaki",
          "size": 8
         },
         "mode": "markers+lines",
         "name": "MotionLivingRoomSofa.csv",
         "showlegend": false,
         "type": "scatter",
         "x": [
          "2023-09-30T03:14:32.598000",
          "2023-09-30T03:15:32.592000"
         ],
         "y": [
          "MotionLivingRoomSofa.csv",
          "MotionLivingRoomSofa.csv"
         ]
        },
        {
         "line": {
          "color": "khaki",
          "width": 1
         },
         "marker": {
          "color": "khaki",
          "size": 8
         },
         "mode": "markers+lines",
         "name": "MotionLivingRoomSofa.csv",
         "showlegend": false,
         "type": "scatter",
         "x": [
          "2023-09-30T03:15:59.390000",
          "2023-09-30T03:16:59.401000"
         ],
         "y": [
          "MotionLivingRoomSofa.csv",
          "MotionLivingRoomSofa.csv"
         ]
        },
        {
         "line": {
          "color": "khaki",
          "width": 1
         },
         "marker": {
          "color": "khaki",
          "size": 8
         },
         "mode": "markers+lines",
         "name": "MotionLivingRoomSofa.csv",
         "showlegend": false,
         "type": "scatter",
         "x": [
          "2023-09-30T03:20:42.097000",
          "2023-09-30T03:21:42.091000"
         ],
         "y": [
          "MotionLivingRoomSofa.csv",
          "MotionLivingRoomSofa.csv"
         ]
        },
        {
         "line": {
          "color": "magenta",
          "width": 1
         },
         "marker": {
          "color": "magenta",
          "size": 8
         },
         "mode": "markers+lines",
         "name": "PlugTvHall.csv",
         "showlegend": false,
         "type": "scatter",
         "x": [
          "2023-09-30T03:21:22.387000",
          "2023-09-30T03:25:22.419000"
         ],
         "y": [
          "PlugTvHall.csv",
          "PlugTvHall.csv"
         ]
        },
        {
         "line": {
          "color": "purple",
          "width": 1
         },
         "marker": {
          "color": "purple",
          "size": 8
         },
         "mode": "markers+lines",
         "name": "MotionBedroom.csv",
         "showlegend": false,
         "type": "scatter",
         "x": [
          "2023-09-30T03:23:55.296000",
          "2023-09-30T03:24:57.961000"
         ],
         "y": [
          "MotionBedroom.csv",
          "MotionBedroom.csv"
         ]
        },
        {
         "line": {
          "color": "purple",
          "width": 1
         },
         "marker": {
          "color": "purple",
          "size": 8
         },
         "mode": "markers+lines",
         "name": "MotionBedroom.csv",
         "showlegend": false,
         "type": "scatter",
         "x": [
          "2023-09-30T03:30:07.057000",
          "2023-09-30T03:31:15.586000"
         ],
         "y": [
          "MotionBedroom.csv",
          "MotionBedroom.csv"
         ]
        },
        {
         "line": {
          "color": "purple",
          "width": 1
         },
         "marker": {
          "color": "purple",
          "size": 8
         },
         "mode": "markers+lines",
         "name": "MotionBedroom.csv",
         "showlegend": false,
         "type": "scatter",
         "x": [
          "2023-09-30T03:32:01.152000",
          "2023-09-30T03:33:03.815000"
         ],
         "y": [
          "MotionBedroom.csv",
          "MotionBedroom.csv"
         ]
        },
        {
         "line": {
          "color": "purple",
          "width": 1
         },
         "marker": {
          "color": "purple",
          "size": 8
         },
         "mode": "markers+lines",
         "name": "MotionBedroom.csv",
         "showlegend": false,
         "type": "scatter",
         "x": [
          "2023-09-30T03:35:44.041000",
          "2023-09-30T03:37:06.372000"
         ],
         "y": [
          "MotionBedroom.csv",
          "MotionBedroom.csv"
         ]
        },
        {
         "line": {
          "color": "magenta",
          "width": 1
         },
         "marker": {
          "color": "magenta",
          "size": 8
         },
         "mode": "markers+lines",
         "name": "PlugTvHall.csv",
         "showlegend": false,
         "type": "scatter",
         "x": [
          "2023-09-30T03:53:22.395000",
          "2023-09-30T04:03:22.373000"
         ],
         "y": [
          "PlugTvHall.csv",
          "PlugTvHall.csv"
         ]
        },
        {
         "line": {
          "color": "magenta",
          "width": 1
         },
         "marker": {
          "color": "magenta",
          "size": 8
         },
         "mode": "markers+lines",
         "name": "PlugTvHall.csv",
         "showlegend": false,
         "type": "scatter",
         "x": [
          "2023-09-30T04:03:52.340000",
          "2023-09-30T04:04:22.479000"
         ],
         "y": [
          "PlugTvHall.csv",
          "PlugTvHall.csv"
         ]
        },
        {
         "line": {
          "color": "magenta",
          "width": 1
         },
         "marker": {
          "color": "magenta",
          "size": 8
         },
         "mode": "markers+lines",
         "name": "PlugTvHall.csv",
         "showlegend": false,
         "type": "scatter",
         "x": [
          "2023-09-30T04:08:22.345000",
          "2023-09-30T04:08:52.445000"
         ],
         "y": [
          "PlugTvHall.csv",
          "PlugTvHall.csv"
         ]
        },
        {
         "line": {
          "color": "khaki",
          "width": 1
         },
         "marker": {
          "color": "khaki",
          "size": 8
         },
         "mode": "markers+lines",
         "name": "MotionLivingRoomSofa.csv",
         "showlegend": false,
         "type": "scatter",
         "x": [
          "2023-09-30T04:09:45.048000",
          "2023-09-30T04:10:45.068000"
         ],
         "y": [
          "MotionLivingRoomSofa.csv",
          "MotionLivingRoomSofa.csv"
         ]
        },
        {
         "line": {
          "color": "khaki",
          "width": 1
         },
         "marker": {
          "color": "khaki",
          "size": 8
         },
         "mode": "markers+lines",
         "name": "MotionLivingRoomSofa.csv",
         "showlegend": false,
         "type": "scatter",
         "x": [
          "2023-09-30T04:10:57.324000",
          "2023-09-30T04:11:57.318000"
         ],
         "y": [
          "MotionLivingRoomSofa.csv",
          "MotionLivingRoomSofa.csv"
         ]
        },
        {
         "line": {
          "color": "khaki",
          "width": 1
         },
         "marker": {
          "color": "khaki",
          "size": 8
         },
         "mode": "markers+lines",
         "name": "MotionLivingRoomSofa.csv",
         "showlegend": false,
         "type": "scatter",
         "x": [
          "2023-09-30T04:11:59.977000",
          "2023-09-30T04:12:59.992000"
         ],
         "y": [
          "MotionLivingRoomSofa.csv",
          "MotionLivingRoomSofa.csv"
         ]
        },
        {
         "line": {
          "color": "khaki",
          "width": 1
         },
         "marker": {
          "color": "khaki",
          "size": 8
         },
         "mode": "markers+lines",
         "name": "MotionLivingRoomSofa.csv",
         "showlegend": false,
         "type": "scatter",
         "x": [
          "2023-09-30T04:13:48.749000",
          "2023-09-30T04:14:48.736000"
         ],
         "y": [
          "MotionLivingRoomSofa.csv",
          "MotionLivingRoomSofa.csv"
         ]
        },
        {
         "line": {
          "color": "purple",
          "width": 1
         },
         "marker": {
          "color": "purple",
          "size": 8
         },
         "mode": "markers+lines",
         "name": "MotionBedroom.csv",
         "showlegend": false,
         "type": "scatter",
         "x": [
          "2023-09-30T04:14:51.497000",
          "2023-09-30T04:16:01.885000"
         ],
         "y": [
          "MotionBedroom.csv",
          "MotionBedroom.csv"
         ]
        },
        {
         "line": {
          "color": "magenta",
          "width": 1
         },
         "marker": {
          "color": "magenta",
          "size": 8
         },
         "mode": "markers+lines",
         "name": "PlugTvHall.csv",
         "showlegend": false,
         "type": "scatter",
         "x": [
          "2023-09-30T04:18:55.120000",
          "2023-09-30T04:23:25.356000"
         ],
         "y": [
          "PlugTvHall.csv",
          "PlugTvHall.csv"
         ]
        },
        {
         "line": {
          "color": "purple",
          "width": 1
         },
         "marker": {
          "color": "purple",
          "size": 8
         },
         "mode": "markers+lines",
         "name": "MotionBedroom.csv",
         "showlegend": false,
         "type": "scatter",
         "x": [
          "2023-09-30T04:32:14.563000",
          "2023-09-30T04:33:23.018000"
         ],
         "y": [
          "MotionBedroom.csv",
          "MotionBedroom.csv"
         ]
        },
        {
         "line": {
          "color": "purple",
          "width": 1
         },
         "marker": {
          "color": "purple",
          "size": 8
         },
         "mode": "markers+lines",
         "name": "MotionBedroom.csv",
         "showlegend": false,
         "type": "scatter",
         "x": [
          "2023-09-30T05:07:39.780000",
          "2023-09-30T05:09:21.985000"
         ],
         "y": [
          "MotionBedroom.csv",
          "MotionBedroom.csv"
         ]
        },
        {
         "line": {
          "color": "khaki",
          "width": 1
         },
         "marker": {
          "color": "khaki",
          "size": 8
         },
         "mode": "markers+lines",
         "name": "MotionLivingRoomSofa.csv",
         "showlegend": false,
         "type": "scatter",
         "x": [
          "2023-09-30T05:10:58.925000",
          "2023-09-30T05:11:58.924000"
         ],
         "y": [
          "MotionLivingRoomSofa.csv",
          "MotionLivingRoomSofa.csv"
         ]
        },
        {
         "line": {
          "color": "khaki",
          "width": 1
         },
         "marker": {
          "color": "khaki",
          "size": 8
         },
         "mode": "markers+lines",
         "name": "MotionLivingRoomSofa.csv",
         "showlegend": false,
         "type": "scatter",
         "x": [
          "2023-09-30T05:14:18.747000",
          "2023-09-30T05:15:18.745000"
         ],
         "y": [
          "MotionLivingRoomSofa.csv",
          "MotionLivingRoomSofa.csv"
         ]
        },
        {
         "line": {
          "color": "maroon",
          "width": 1
         },
         "marker": {
          "color": "maroon",
          "size": 8
         },
         "mode": "markers+lines",
         "name": "MotionKitchen.csv",
         "showlegend": false,
         "type": "scatter",
         "x": [
          "2023-09-30T05:14:26.792000",
          "2023-09-30T05:15:26.812000"
         ],
         "y": [
          "MotionKitchen.csv",
          "MotionKitchen.csv"
         ]
        },
        {
         "line": {
          "color": "khaki",
          "width": 1
         },
         "marker": {
          "color": "khaki",
          "size": 8
         },
         "mode": "markers+lines",
         "name": "MotionLivingRoomSofa.csv",
         "showlegend": false,
         "type": "scatter",
         "x": [
          "2023-09-30T05:15:33.012000",
          "2023-09-30T05:16:33.008000"
         ],
         "y": [
          "MotionLivingRoomSofa.csv",
          "MotionLivingRoomSofa.csv"
         ]
        },
        {
         "line": {
          "color": "khaki",
          "width": 1
         },
         "marker": {
          "color": "khaki",
          "size": 8
         },
         "mode": "markers+lines",
         "name": "MotionLivingRoomSofa.csv",
         "showlegend": false,
         "type": "scatter",
         "x": [
          "2023-09-30T05:16:49.174000",
          "2023-09-30T05:17:49.169000"
         ],
         "y": [
          "MotionLivingRoomSofa.csv",
          "MotionLivingRoomSofa.csv"
         ]
        },
        {
         "line": {
          "color": "khaki",
          "width": 1
         },
         "marker": {
          "color": "khaki",
          "size": 8
         },
         "mode": "markers+lines",
         "name": "MotionLivingRoomSofa.csv",
         "showlegend": false,
         "type": "scatter",
         "x": [
          "2023-09-30T05:18:15.457000",
          "2023-09-30T05:20:04.356000"
         ],
         "y": [
          "MotionLivingRoomSofa.csv",
          "MotionLivingRoomSofa.csv"
         ]
        },
        {
         "line": {
          "color": "magenta",
          "width": 1
         },
         "marker": {
          "color": "magenta",
          "size": 8
         },
         "mode": "markers+lines",
         "name": "PlugTvHall.csv",
         "showlegend": false,
         "type": "scatter",
         "x": [
          "2023-09-30T05:19:25.353000",
          "2023-09-30T05:33:25.388000"
         ],
         "y": [
          "PlugTvHall.csv",
          "PlugTvHall.csv"
         ]
        },
        {
         "line": {
          "color": "purple",
          "width": 1
         },
         "marker": {
          "color": "purple",
          "size": 8
         },
         "mode": "markers+lines",
         "name": "MotionBedroom.csv",
         "showlegend": false,
         "type": "scatter",
         "x": [
          "2023-09-30T05:26:56.707000",
          "2023-09-30T05:28:13.996000"
         ],
         "y": [
          "MotionBedroom.csv",
          "MotionBedroom.csv"
         ]
        },
        {
         "line": {
          "color": "purple",
          "width": 1
         },
         "marker": {
          "color": "purple",
          "size": 8
         },
         "mode": "markers+lines",
         "name": "MotionBedroom.csv",
         "showlegend": false,
         "type": "scatter",
         "x": [
          "2023-09-30T05:34:06.975000",
          "2023-09-30T05:35:53.028000"
         ],
         "y": [
          "MotionBedroom.csv",
          "MotionBedroom.csv"
         ]
        },
        {
         "line": {
          "color": "magenta",
          "width": 1
         },
         "marker": {
          "color": "magenta",
          "size": 8
         },
         "mode": "markers+lines",
         "name": "PlugTvHall.csv",
         "showlegend": false,
         "type": "scatter",
         "x": [
          "2023-09-30T05:36:25.381000",
          "2023-09-30T05:41:55.397000"
         ],
         "y": [
          "PlugTvHall.csv",
          "PlugTvHall.csv"
         ]
        },
        {
         "line": {
          "color": "purple",
          "width": 1
         },
         "marker": {
          "color": "purple",
          "size": 8
         },
         "mode": "markers+lines",
         "name": "MotionBedroom.csv",
         "showlegend": false,
         "type": "scatter",
         "x": [
          "2023-09-30T05:43:00.155000",
          "2023-09-30T05:44:02.929000"
         ],
         "y": [
          "MotionBedroom.csv",
          "MotionBedroom.csv"
         ]
        },
        {
         "line": {
          "color": "purple",
          "width": 1
         },
         "marker": {
          "color": "purple",
          "size": 8
         },
         "mode": "markers+lines",
         "name": "MotionBedroom.csv",
         "showlegend": false,
         "type": "scatter",
         "x": [
          "2023-09-30T05:55:44.701000",
          "2023-09-30T05:57:55.277000"
         ],
         "y": [
          "MotionBedroom.csv",
          "MotionBedroom.csv"
         ]
        },
        {
         "line": {
          "color": "khaki",
          "width": 1
         },
         "marker": {
          "color": "khaki",
          "size": 8
         },
         "mode": "markers+lines",
         "name": "MotionLivingRoomSofa.csv",
         "showlegend": false,
         "type": "scatter",
         "x": [
          "2023-09-30T05:57:34.762000",
          "2023-09-30T05:58:34.757000"
         ],
         "y": [
          "MotionLivingRoomSofa.csv",
          "MotionLivingRoomSofa.csv"
         ]
        },
        {
         "line": {
          "color": "khaki",
          "width": 1
         },
         "marker": {
          "color": "khaki",
          "size": 8
         },
         "mode": "markers+lines",
         "name": "MotionLivingRoomSofa.csv",
         "showlegend": false,
         "type": "scatter",
         "x": [
          "2023-09-30T06:00:07.057000",
          "2023-09-30T06:02:30.716000"
         ],
         "y": [
          "MotionLivingRoomSofa.csv",
          "MotionLivingRoomSofa.csv"
         ]
        },
        {
         "line": {
          "color": "magenta",
          "width": 1
         },
         "marker": {
          "color": "magenta",
          "size": 8
         },
         "mode": "markers+lines",
         "name": "PlugTvHall.csv",
         "showlegend": false,
         "type": "scatter",
         "x": [
          "2023-09-30T06:00:25.428000",
          "2023-09-30T06:00:55.391000"
         ],
         "y": [
          "PlugTvHall.csv",
          "PlugTvHall.csv"
         ]
        },
        {
         "line": {
          "color": "magenta",
          "width": 1
         },
         "marker": {
          "color": "magenta",
          "size": 8
         },
         "mode": "markers+lines",
         "name": "PlugTvHall.csv",
         "showlegend": false,
         "type": "scatter",
         "x": [
          "2023-09-30T06:04:25.368000",
          "2023-09-30T06:04:55.360000"
         ],
         "y": [
          "PlugTvHall.csv",
          "PlugTvHall.csv"
         ]
        },
        {
         "line": {
          "color": "purple",
          "width": 1
         },
         "marker": {
          "color": "purple",
          "size": 8
         },
         "mode": "markers+lines",
         "name": "MotionBedroom.csv",
         "showlegend": false,
         "type": "scatter",
         "x": [
          "2023-09-30T06:08:46.311000",
          "2023-09-30T06:09:48.742000"
         ],
         "y": [
          "MotionBedroom.csv",
          "MotionBedroom.csv"
         ]
        },
        {
         "line": {
          "color": "khaki",
          "width": 1
         },
         "marker": {
          "color": "khaki",
          "size": 8
         },
         "mode": "markers+lines",
         "name": "MotionLivingRoomSofa.csv",
         "showlegend": false,
         "type": "scatter",
         "x": [
          "2023-09-30T06:09:34.980000",
          "2023-09-30T06:10:34.991000"
         ],
         "y": [
          "MotionLivingRoomSofa.csv",
          "MotionLivingRoomSofa.csv"
         ]
        },
        {
         "line": {
          "color": "purple",
          "width": 1
         },
         "marker": {
          "color": "purple",
          "size": 8
         },
         "mode": "markers+lines",
         "name": "MotionBedroom.csv",
         "showlegend": false,
         "type": "scatter",
         "x": [
          "2023-09-30T06:09:58.168000",
          "2023-09-30T06:12:25.632000"
         ],
         "y": [
          "MotionBedroom.csv",
          "MotionBedroom.csv"
         ]
        },
        {
         "line": {
          "color": "khaki",
          "width": 1
         },
         "marker": {
          "color": "khaki",
          "size": 8
         },
         "mode": "markers+lines",
         "name": "MotionLivingRoomSofa.csv",
         "showlegend": false,
         "type": "scatter",
         "x": [
          "2023-09-30T06:11:14.358000",
          "2023-09-30T06:12:48.115000"
         ],
         "y": [
          "MotionLivingRoomSofa.csv",
          "MotionLivingRoomSofa.csv"
         ]
        },
        {
         "line": {
          "color": "purple",
          "width": 1
         },
         "marker": {
          "color": "purple",
          "size": 8
         },
         "mode": "markers+lines",
         "name": "MotionBedroom.csv",
         "showlegend": false,
         "type": "scatter",
         "x": [
          "2023-09-30T06:14:47.868000",
          "2023-09-30T06:20:25.507000"
         ],
         "y": [
          "MotionBedroom.csv",
          "MotionBedroom.csv"
         ]
        },
        {
         "line": {
          "color": "pink",
          "width": 1
         },
         "marker": {
          "color": "pink",
          "size": 8
         },
         "mode": "markers+lines",
         "name": "HouseEntrance.csv",
         "showlegend": false,
         "type": "scatter",
         "x": [
          "2023-09-30T06:28:56.256000",
          "2023-09-30T06:29:02.942000"
         ],
         "y": [
          "HouseEntrance.csv",
          "HouseEntrance.csv"
         ]
        },
        {
         "line": {
          "color": "khaki",
          "width": 1
         },
         "marker": {
          "color": "khaki",
          "size": 8
         },
         "mode": "markers+lines",
         "name": "MotionLivingRoomSofa.csv",
         "showlegend": false,
         "type": "scatter",
         "x": [
          "2023-09-30T06:30:07.518000",
          "2023-09-30T06:32:32.829000"
         ],
         "y": [
          "MotionLivingRoomSofa.csv",
          "MotionLivingRoomSofa.csv"
         ]
        },
        {
         "line": {
          "color": "purple",
          "width": 1
         },
         "marker": {
          "color": "purple",
          "size": 8
         },
         "mode": "markers+lines",
         "name": "MotionBedroom.csv",
         "showlegend": false,
         "type": "scatter",
         "x": [
          "2023-09-30T06:31:16.123000",
          "2023-09-30T06:32:49.240000"
         ],
         "y": [
          "MotionBedroom.csv",
          "MotionBedroom.csv"
         ]
        },
        {
         "line": {
          "color": "khaki",
          "width": 1
         },
         "marker": {
          "color": "khaki",
          "size": 8
         },
         "mode": "markers+lines",
         "name": "MotionLivingRoomSofa.csv",
         "showlegend": false,
         "type": "scatter",
         "x": [
          "2023-09-30T06:32:49.952000",
          "2023-09-30T06:35:56.798000"
         ],
         "y": [
          "MotionLivingRoomSofa.csv",
          "MotionLivingRoomSofa.csv"
         ]
        },
        {
         "line": {
          "color": "darkgoldenrod",
          "width": 1
         },
         "marker": {
          "color": "darkgoldenrod",
          "size": 8
         },
         "mode": "markers+lines",
         "name": "MotionLivingRoomTablet.csv",
         "showlegend": false,
         "type": "scatter",
         "x": [
          "2023-09-30T06:34:06.851000",
          "2023-09-30T06:34:38.843000"
         ],
         "y": [
          "MotionLivingRoomTablet.csv",
          "MotionLivingRoomTablet.csv"
         ]
        },
        {
         "line": {
          "color": "maroon",
          "width": 1
         },
         "marker": {
          "color": "maroon",
          "size": 8
         },
         "mode": "markers+lines",
         "name": "MotionKitchen.csv",
         "showlegend": false,
         "type": "scatter",
         "x": [
          "2023-09-30T06:34:30.852000",
          "2023-09-30T07:12:41.905000"
         ],
         "y": [
          "MotionKitchen.csv",
          "MotionKitchen.csv"
         ]
        },
        {
         "line": {
          "color": "purple",
          "width": 1
         },
         "marker": {
          "color": "purple",
          "size": 8
         },
         "mode": "markers+lines",
         "name": "MotionBedroom.csv",
         "showlegend": false,
         "type": "scatter",
         "x": [
          "2023-09-30T06:34:35.652000",
          "2023-09-30T06:36:01.224000"
         ],
         "y": [
          "MotionBedroom.csv",
          "MotionBedroom.csv"
         ]
        },
        {
         "line": {
          "color": "orange",
          "width": 1
         },
         "marker": {
          "color": "orange",
          "size": 8
         },
         "mode": "markers+lines",
         "name": "Refrigerator.csv",
         "showlegend": false,
         "type": "scatter",
         "x": [
          "2023-09-30T06:35:21.884000",
          "2023-09-30T06:35:47.403000"
         ],
         "y": [
          "Refrigerator.csv",
          "Refrigerator.csv"
         ]
        },
        {
         "line": {
          "color": "orange",
          "width": 1
         },
         "marker": {
          "color": "orange",
          "size": 8
         },
         "mode": "markers+lines",
         "name": "Refrigerator.csv",
         "showlegend": false,
         "type": "scatter",
         "x": [
          "2023-09-30T06:36:03.760000",
          "2023-09-30T06:36:18.597000"
         ],
         "y": [
          "Refrigerator.csv",
          "Refrigerator.csv"
         ]
        },
        {
         "line": {
          "color": "orange",
          "width": 1
         },
         "marker": {
          "color": "orange",
          "size": 8
         },
         "mode": "markers+lines",
         "name": "Refrigerator.csv",
         "showlegend": false,
         "type": "scatter",
         "x": [
          "2023-09-30T06:37:25.400000",
          "2023-09-30T06:37:34.932000"
         ],
         "y": [
          "Refrigerator.csv",
          "Refrigerator.csv"
         ]
        },
        {
         "line": {
          "color": "khaki",
          "width": 1
         },
         "marker": {
          "color": "khaki",
          "size": 8
         },
         "mode": "markers+lines",
         "name": "MotionLivingRoomSofa.csv",
         "showlegend": false,
         "type": "scatter",
         "x": [
          "2023-09-30T06:40:36.270000",
          "2023-09-30T06:41:36.259000"
         ],
         "y": [
          "MotionLivingRoomSofa.csv",
          "MotionLivingRoomSofa.csv"
         ]
        },
        {
         "line": {
          "color": "brown",
          "width": 1
         },
         "marker": {
          "color": "brown",
          "size": 8
         },
         "mode": "markers+lines",
         "name": "Dishes_Glasses.csv",
         "showlegend": false,
         "type": "scatter",
         "x": [
          "2023-09-30T06:41:22.243000",
          "2023-09-30T06:41:26.672000"
         ],
         "y": [
          "Dishes_Glasses.csv",
          "Dishes_Glasses.csv"
         ]
        },
        {
         "line": {
          "color": "brown",
          "width": 1
         },
         "marker": {
          "color": "brown",
          "size": 8
         },
         "mode": "markers+lines",
         "name": "Dishes_Glasses.csv",
         "showlegend": false,
         "type": "scatter",
         "x": [
          "2023-09-30T06:41:30.483000",
          "2023-09-30T06:41:32.981000"
         ],
         "y": [
          "Dishes_Glasses.csv",
          "Dishes_Glasses.csv"
         ]
        },
        {
         "line": {
          "color": "magenta",
          "width": 1
         },
         "marker": {
          "color": "magenta",
          "size": 8
         },
         "mode": "markers+lines",
         "name": "PlugTvHall.csv",
         "showlegend": false,
         "type": "scatter",
         "x": [
          "2023-09-30T06:43:55.411000",
          "2023-09-30T06:44:25.400000"
         ],
         "y": [
          "PlugTvHall.csv",
          "PlugTvHall.csv"
         ]
        },
        {
         "line": {
          "color": "khaki",
          "width": 1
         },
         "marker": {
          "color": "khaki",
          "size": 8
         },
         "mode": "markers+lines",
         "name": "MotionLivingRoomSofa.csv",
         "showlegend": false,
         "type": "scatter",
         "x": [
          "2023-09-30T06:45:03.101000",
          "2023-09-30T06:46:55.732000"
         ],
         "y": [
          "MotionLivingRoomSofa.csv",
          "MotionLivingRoomSofa.csv"
         ]
        },
        {
         "line": {
          "color": "magenta",
          "width": 1
         },
         "marker": {
          "color": "magenta",
          "size": 8
         },
         "mode": "markers+lines",
         "name": "PlugTvHall.csv",
         "showlegend": false,
         "type": "scatter",
         "x": [
          "2023-09-30T06:45:25.363000",
          "2023-09-30T06:45:55.432000"
         ],
         "y": [
          "PlugTvHall.csv",
          "PlugTvHall.csv"
         ]
        },
        {
         "line": {
          "color": "darkgoldenrod",
          "width": 1
         },
         "marker": {
          "color": "darkgoldenrod",
          "size": 8
         },
         "mode": "markers+lines",
         "name": "MotionLivingRoomTablet.csv",
         "showlegend": false,
         "type": "scatter",
         "x": [
          "2023-09-30T06:45:55.366000",
          "2023-09-30T06:46:27.367000"
         ],
         "y": [
          "MotionLivingRoomTablet.csv",
          "MotionLivingRoomTablet.csv"
         ]
        },
        {
         "line": {
          "color": "brown",
          "width": 1
         },
         "marker": {
          "color": "brown",
          "size": 8
         },
         "mode": "markers+lines",
         "name": "Dishes_Glasses.csv",
         "showlegend": false,
         "type": "scatter",
         "x": [
          "2023-09-30T06:47:47.839000",
          "2023-09-30T06:48:07.775000"
         ],
         "y": [
          "Dishes_Glasses.csv",
          "Dishes_Glasses.csv"
         ]
        },
        {
         "line": {
          "color": "khaki",
          "width": 1
         },
         "marker": {
          "color": "khaki",
          "size": 8
         },
         "mode": "markers+lines",
         "name": "MotionLivingRoomSofa.csv",
         "showlegend": false,
         "type": "scatter",
         "x": [
          "2023-09-30T06:47:49.485000",
          "2023-09-30T06:51:26.034000"
         ],
         "y": [
          "MotionLivingRoomSofa.csv",
          "MotionLivingRoomSofa.csv"
         ]
        },
        {
         "line": {
          "color": "purple",
          "width": 1
         },
         "marker": {
          "color": "purple",
          "size": 8
         },
         "mode": "markers+lines",
         "name": "MotionBedroom.csv",
         "showlegend": false,
         "type": "scatter",
         "x": [
          "2023-09-30T06:47:51.702000",
          "2023-09-30T06:51:47.424000"
         ],
         "y": [
          "MotionBedroom.csv",
          "MotionBedroom.csv"
         ]
        },
        {
         "line": {
          "color": "khaki",
          "width": 1
         },
         "marker": {
          "color": "khaki",
          "size": 8
         },
         "mode": "markers+lines",
         "name": "MotionLivingRoomSofa.csv",
         "showlegend": false,
         "type": "scatter",
         "x": [
          "2023-09-30T06:52:21.125000",
          "2023-09-30T06:53:57.435000"
         ],
         "y": [
          "MotionLivingRoomSofa.csv",
          "MotionLivingRoomSofa.csv"
         ]
        },
        {
         "line": {
          "color": "purple",
          "width": 1
         },
         "marker": {
          "color": "purple",
          "size": 8
         },
         "mode": "markers+lines",
         "name": "MotionBedroom.csv",
         "showlegend": false,
         "type": "scatter",
         "x": [
          "2023-09-30T06:52:24.130000",
          "2023-09-30T06:54:03.059000"
         ],
         "y": [
          "MotionBedroom.csv",
          "MotionBedroom.csv"
         ]
        },
        {
         "line": {
          "color": "pink",
          "width": 1
         },
         "marker": {
          "color": "pink",
          "size": 8
         },
         "mode": "markers+lines",
         "name": "HouseEntrance.csv",
         "showlegend": false,
         "type": "scatter",
         "x": [
          "2023-09-30T06:53:18.257000",
          "2023-09-30T06:53:24.927000"
         ],
         "y": [
          "HouseEntrance.csv",
          "HouseEntrance.csv"
         ]
        },
        {
         "line": {
          "color": "brown",
          "width": 1
         },
         "marker": {
          "color": "brown",
          "size": 8
         },
         "mode": "markers+lines",
         "name": "Dishes_Glasses.csv",
         "showlegend": false,
         "type": "scatter",
         "x": [
          "2023-09-30T07:11:12.945000",
          "2023-09-30T07:11:15.980000"
         ],
         "y": [
          "Dishes_Glasses.csv",
          "Dishes_Glasses.csv"
         ]
        },
        {
         "line": {
          "color": "khaki",
          "width": 1
         },
         "marker": {
          "color": "khaki",
          "size": 8
         },
         "mode": "markers+lines",
         "name": "MotionLivingRoomSofa.csv",
         "showlegend": false,
         "type": "scatter",
         "x": [
          "2023-09-30T07:12:29.736000",
          "2023-09-30T07:13:29.732000"
         ],
         "y": [
          "MotionLivingRoomSofa.csv",
          "MotionLivingRoomSofa.csv"
         ]
        },
        {
         "line": {
          "color": "purple",
          "width": 1
         },
         "marker": {
          "color": "purple",
          "size": 8
         },
         "mode": "markers+lines",
         "name": "MotionBedroom.csv",
         "showlegend": false,
         "type": "scatter",
         "x": [
          "2023-09-30T07:12:31.915000",
          "2023-09-30T07:13:35.565000"
         ],
         "y": [
          "MotionBedroom.csv",
          "MotionBedroom.csv"
         ]
        },
        {
         "line": {
          "color": "khaki",
          "width": 1
         },
         "marker": {
          "color": "khaki",
          "size": 8
         },
         "mode": "markers+lines",
         "name": "MotionLivingRoomSofa.csv",
         "showlegend": false,
         "type": "scatter",
         "x": [
          "2023-09-30T07:14:03.954000",
          "2023-09-30T07:15:03.960000"
         ],
         "y": [
          "MotionLivingRoomSofa.csv",
          "MotionLivingRoomSofa.csv"
         ]
        },
        {
         "line": {
          "color": "purple",
          "width": 1
         },
         "marker": {
          "color": "purple",
          "size": 8
         },
         "mode": "markers+lines",
         "name": "MotionBedroom.csv",
         "showlegend": false,
         "type": "scatter",
         "x": [
          "2023-09-30T07:14:06.372000",
          "2023-09-30T07:33:43.064000"
         ],
         "y": [
          "MotionBedroom.csv",
          "MotionBedroom.csv"
         ]
        },
        {
         "line": {
          "color": "khaki",
          "width": 1
         },
         "marker": {
          "color": "khaki",
          "size": 8
         },
         "mode": "markers+lines",
         "name": "MotionLivingRoomSofa.csv",
         "showlegend": false,
         "type": "scatter",
         "x": [
          "2023-09-30T07:15:31.991000",
          "2023-09-30T07:16:31.988000"
         ],
         "y": [
          "MotionLivingRoomSofa.csv",
          "MotionLivingRoomSofa.csv"
         ]
        },
        {
         "line": {
          "color": "khaki",
          "width": 1
         },
         "marker": {
          "color": "khaki",
          "size": 8
         },
         "mode": "markers+lines",
         "name": "MotionLivingRoomSofa.csv",
         "showlegend": false,
         "type": "scatter",
         "x": [
          "2023-09-30T07:22:52.503000",
          "2023-09-30T07:24:35.583000"
         ],
         "y": [
          "MotionLivingRoomSofa.csv",
          "MotionLivingRoomSofa.csv"
         ]
        },
        {
         "line": {
          "color": "khaki",
          "width": 1
         },
         "marker": {
          "color": "khaki",
          "size": 8
         },
         "mode": "markers+lines",
         "name": "MotionLivingRoomSofa.csv",
         "showlegend": false,
         "type": "scatter",
         "x": [
          "2023-09-30T07:32:38.357000",
          "2023-09-30T07:33:38.351000"
         ],
         "y": [
          "MotionLivingRoomSofa.csv",
          "MotionLivingRoomSofa.csv"
         ]
        },
        {
         "line": {
          "color": "purple",
          "width": 1
         },
         "marker": {
          "color": "purple",
          "size": 8
         },
         "mode": "markers+lines",
         "name": "MotionBedroom.csv",
         "showlegend": false,
         "type": "scatter",
         "x": [
          "2023-09-30T07:34:44.264000",
          "2023-09-30T07:43:48.867000"
         ],
         "y": [
          "MotionBedroom.csv",
          "MotionBedroom.csv"
         ]
        },
        {
         "line": {
          "color": "khaki",
          "width": 1
         },
         "marker": {
          "color": "khaki",
          "size": 8
         },
         "mode": "markers+lines",
         "name": "MotionLivingRoomSofa.csv",
         "showlegend": false,
         "type": "scatter",
         "x": [
          "2023-09-30T07:34:54.054000",
          "2023-09-30T07:37:28.173000"
         ],
         "y": [
          "MotionLivingRoomSofa.csv",
          "MotionLivingRoomSofa.csv"
         ]
        },
        {
         "line": {
          "color": "khaki",
          "width": 1
         },
         "marker": {
          "color": "khaki",
          "size": 8
         },
         "mode": "markers+lines",
         "name": "MotionLivingRoomSofa.csv",
         "showlegend": false,
         "type": "scatter",
         "x": [
          "2023-09-30T07:42:38.580000",
          "2023-09-30T07:46:07.456000"
         ],
         "y": [
          "MotionLivingRoomSofa.csv",
          "MotionLivingRoomSofa.csv"
         ]
        },
        {
         "line": {
          "color": "magenta",
          "width": 1
         },
         "marker": {
          "color": "magenta",
          "size": 8
         },
         "mode": "markers+lines",
         "name": "PlugTvHall.csv",
         "showlegend": false,
         "type": "scatter",
         "x": [
          "2023-09-30T07:43:56.506000",
          "2023-09-30T07:44:26.438000"
         ],
         "y": [
          "PlugTvHall.csv",
          "PlugTvHall.csv"
         ]
        },
        {
         "line": {
          "color": "khaki",
          "width": 1
         },
         "marker": {
          "color": "khaki",
          "size": 8
         },
         "mode": "markers+lines",
         "name": "MotionLivingRoomSofa.csv",
         "showlegend": false,
         "type": "scatter",
         "x": [
          "2023-09-30T07:46:20.600000",
          "2023-09-30T07:47:20.596000"
         ],
         "y": [
          "MotionLivingRoomSofa.csv",
          "MotionLivingRoomSofa.csv"
         ]
        },
        {
         "line": {
          "color": "khaki",
          "width": 1
         },
         "marker": {
          "color": "khaki",
          "size": 8
         },
         "mode": "markers+lines",
         "name": "MotionLivingRoomSofa.csv",
         "showlegend": false,
         "type": "scatter",
         "x": [
          "2023-09-30T07:47:47.770000",
          "2023-09-30T07:52:02.604000"
         ],
         "y": [
          "MotionLivingRoomSofa.csv",
          "MotionLivingRoomSofa.csv"
         ]
        },
        {
         "line": {
          "color": "darkgoldenrod",
          "width": 1
         },
         "marker": {
          "color": "darkgoldenrod",
          "size": 8
         },
         "mode": "markers+lines",
         "name": "MotionLivingRoomTablet.csv",
         "showlegend": false,
         "type": "scatter",
         "x": [
          "2023-09-30T07:48:23.561000",
          "2023-09-30T07:48:55.566000"
         ],
         "y": [
          "MotionLivingRoomTablet.csv",
          "MotionLivingRoomTablet.csv"
         ]
        },
        {
         "line": {
          "color": "maroon",
          "width": 1
         },
         "marker": {
          "color": "maroon",
          "size": 8
         },
         "mode": "markers+lines",
         "name": "MotionKitchen.csv",
         "showlegend": false,
         "type": "scatter",
         "x": [
          "2023-09-30T07:48:39.742000",
          "2023-09-30T07:49:39.705000"
         ],
         "y": [
          "MotionKitchen.csv",
          "MotionKitchen.csv"
         ]
        },
        {
         "line": {
          "color": "magenta",
          "width": 1
         },
         "marker": {
          "color": "magenta",
          "size": 8
         },
         "mode": "markers+lines",
         "name": "PlugTvHall.csv",
         "showlegend": false,
         "type": "scatter",
         "x": [
          "2023-09-30T07:49:56.361000",
          "2023-09-30T07:50:26.315000"
         ],
         "y": [
          "PlugTvHall.csv",
          "PlugTvHall.csv"
         ]
        },
        {
         "line": {
          "color": "darkgoldenrod",
          "width": 1
         },
         "marker": {
          "color": "darkgoldenrod",
          "size": 8
         },
         "mode": "markers+lines",
         "name": "MotionLivingRoomTablet.csv",
         "showlegend": false,
         "type": "scatter",
         "x": [
          "2023-09-30T07:51:32.016000",
          "2023-09-30T07:52:33.994000"
         ],
         "y": [
          "MotionLivingRoomTablet.csv",
          "MotionLivingRoomTablet.csv"
         ]
        },
        {
         "line": {
          "color": "khaki",
          "width": 1
         },
         "marker": {
          "color": "khaki",
          "size": 8
         },
         "mode": "markers+lines",
         "name": "MotionLivingRoomSofa.csv",
         "showlegend": false,
         "type": "scatter",
         "x": [
          "2023-09-30T07:52:27.192000",
          "2023-09-30T07:53:27.220000"
         ],
         "y": [
          "MotionLivingRoomSofa.csv",
          "MotionLivingRoomSofa.csv"
         ]
        },
        {
         "line": {
          "color": "darkgoldenrod",
          "width": 1
         },
         "marker": {
          "color": "darkgoldenrod",
          "size": 8
         },
         "mode": "markers+lines",
         "name": "MotionLivingRoomTablet.csv",
         "showlegend": false,
         "type": "scatter",
         "x": [
          "2023-09-30T07:52:34.863000",
          "2023-09-30T07:53:06.894000"
         ],
         "y": [
          "MotionLivingRoomTablet.csv",
          "MotionLivingRoomTablet.csv"
         ]
        },
        {
         "line": {
          "color": "aqua",
          "width": 1
         },
         "marker": {
          "color": "aqua",
          "size": 8
         },
         "mode": "markers+lines",
         "name": "FoodStorageLivingRoom.csv",
         "showlegend": false,
         "type": "scatter",
         "x": [
          "2023-09-30T07:53:30.460000",
          "2023-09-30T07:53:36.356000"
         ],
         "y": [
          "FoodStorageLivingRoom.csv",
          "FoodStorageLivingRoom.csv"
         ]
        },
        {
         "line": {
          "color": "darkgoldenrod",
          "width": 1
         },
         "marker": {
          "color": "darkgoldenrod",
          "size": 8
         },
         "mode": "markers+lines",
         "name": "MotionLivingRoomTablet.csv",
         "showlegend": false,
         "type": "scatter",
         "x": [
          "2023-09-30T07:54:57.575000",
          "2023-09-30T07:55:29.567000"
         ],
         "y": [
          "MotionLivingRoomTablet.csv",
          "MotionLivingRoomTablet.csv"
         ]
        },
        {
         "line": {
          "color": "khaki",
          "width": 1
         },
         "marker": {
          "color": "khaki",
          "size": 8
         },
         "mode": "markers+lines",
         "name": "MotionLivingRoomSofa.csv",
         "showlegend": false,
         "type": "scatter",
         "x": [
          "2023-09-30T07:55:04.786000",
          "2023-09-30T07:59:11.802000"
         ],
         "y": [
          "MotionLivingRoomSofa.csv",
          "MotionLivingRoomSofa.csv"
         ]
        },
        {
         "line": {
          "color": "darkgoldenrod",
          "width": 1
         },
         "marker": {
          "color": "darkgoldenrod",
          "size": 8
         },
         "mode": "markers+lines",
         "name": "MotionLivingRoomTablet.csv",
         "showlegend": false,
         "type": "scatter",
         "x": [
          "2023-09-30T07:57:46.342000",
          "2023-09-30T07:58:18.345000"
         ],
         "y": [
          "MotionLivingRoomTablet.csv",
          "MotionLivingRoomTablet.csv"
         ]
        },
        {
         "line": {
          "color": "darkgoldenrod",
          "width": 1
         },
         "marker": {
          "color": "darkgoldenrod",
          "size": 8
         },
         "mode": "markers+lines",
         "name": "MotionLivingRoomTablet.csv",
         "showlegend": false,
         "type": "scatter",
         "x": [
          "2023-09-30T07:59:03.679000",
          "2023-09-30T07:59:35.668000"
         ],
         "y": [
          "MotionLivingRoomTablet.csv",
          "MotionLivingRoomTablet.csv"
         ]
        },
        {
         "line": {
          "color": "maroon",
          "width": 1
         },
         "marker": {
          "color": "maroon",
          "size": 8
         },
         "mode": "markers+lines",
         "name": "MotionKitchen.csv",
         "showlegend": false,
         "type": "scatter",
         "x": [
          "2023-09-30T07:59:42.680000",
          "2023-09-30T08:02:14.638000"
         ],
         "y": [
          "MotionKitchen.csv",
          "MotionKitchen.csv"
         ]
        },
        {
         "line": {
          "color": "pink",
          "width": 1
         },
         "marker": {
          "color": "pink",
          "size": 8
         },
         "mode": "markers+lines",
         "name": "HouseEntrance.csv",
         "showlegend": false,
         "type": "scatter",
         "x": [
          "2023-09-30T08:02:53.100000",
          "2023-09-30T08:03:16.724000"
         ],
         "y": [
          "HouseEntrance.csv",
          "HouseEntrance.csv"
         ]
        },
        {
         "line": {
          "color": "khaki",
          "width": 1
         },
         "marker": {
          "color": "khaki",
          "size": 8
         },
         "mode": "markers+lines",
         "name": "MotionLivingRoomSofa.csv",
         "showlegend": false,
         "type": "scatter",
         "x": [
          "2023-09-30T08:05:17.080000",
          "2023-09-30T08:06:17.076000"
         ],
         "y": [
          "MotionLivingRoomSofa.csv",
          "MotionLivingRoomSofa.csv"
         ]
        },
        {
         "line": {
          "color": "purple",
          "width": 1
         },
         "marker": {
          "color": "purple",
          "size": 8
         },
         "mode": "markers+lines",
         "name": "MotionBedroom.csv",
         "showlegend": false,
         "type": "scatter",
         "x": [
          "2023-09-30T08:05:19.103000",
          "2023-09-30T08:06:38.706000"
         ],
         "y": [
          "MotionBedroom.csv",
          "MotionBedroom.csv"
         ]
        },
        {
         "line": {
          "color": "khaki",
          "width": 1
         },
         "marker": {
          "color": "khaki",
          "size": 8
         },
         "mode": "markers+lines",
         "name": "MotionLivingRoomSofa.csv",
         "showlegend": false,
         "type": "scatter",
         "x": [
          "2023-09-30T08:06:22.632000",
          "2023-09-30T08:09:41.758000"
         ],
         "y": [
          "MotionLivingRoomSofa.csv",
          "MotionLivingRoomSofa.csv"
         ]
        },
        {
         "line": {
          "color": "maroon",
          "width": 1
         },
         "marker": {
          "color": "maroon",
          "size": 8
         },
         "mode": "markers+lines",
         "name": "MotionKitchen.csv",
         "showlegend": false,
         "type": "scatter",
         "x": [
          "2023-09-30T08:09:55.168000",
          "2023-09-30T08:11:27.335000"
         ],
         "y": [
          "MotionKitchen.csv",
          "MotionKitchen.csv"
         ]
        },
        {
         "line": {
          "color": "pink",
          "width": 1
         },
         "marker": {
          "color": "pink",
          "size": 8
         },
         "mode": "markers+lines",
         "name": "HouseEntrance.csv",
         "showlegend": false,
         "type": "scatter",
         "x": [
          "2023-09-30T08:11:53.132000",
          "2023-09-30T08:12:04.518000"
         ],
         "y": [
          "HouseEntrance.csv",
          "HouseEntrance.csv"
         ]
        },
        {
         "line": {
          "color": "khaki",
          "width": 1
         },
         "marker": {
          "color": "khaki",
          "size": 8
         },
         "mode": "markers+lines",
         "name": "MotionLivingRoomSofa.csv",
         "showlegend": false,
         "type": "scatter",
         "x": [
          "2023-09-30T08:13:55.676000",
          "2023-09-30T08:16:54.484000"
         ],
         "y": [
          "MotionLivingRoomSofa.csv",
          "MotionLivingRoomSofa.csv"
         ]
        },
        {
         "line": {
          "color": "purple",
          "width": 1
         },
         "marker": {
          "color": "purple",
          "size": 8
         },
         "mode": "markers+lines",
         "name": "MotionBedroom.csv",
         "showlegend": false,
         "type": "scatter",
         "x": [
          "2023-09-30T08:13:57.699000",
          "2023-09-30T08:15:49.167000"
         ],
         "y": [
          "MotionBedroom.csv",
          "MotionBedroom.csv"
         ]
        },
        {
         "line": {
          "color": "khaki",
          "width": 1
         },
         "marker": {
          "color": "khaki",
          "size": 8
         },
         "mode": "markers+lines",
         "name": "MotionLivingRoomSofa.csv",
         "showlegend": false,
         "type": "scatter",
         "x": [
          "2023-09-30T08:19:11.162000",
          "2023-09-30T08:21:01.677000"
         ],
         "y": [
          "MotionLivingRoomSofa.csv",
          "MotionLivingRoomSofa.csv"
         ]
        },
        {
         "line": {
          "color": "darkgoldenrod",
          "width": 1
         },
         "marker": {
          "color": "darkgoldenrod",
          "size": 8
         },
         "mode": "markers+lines",
         "name": "MotionLivingRoomTablet.csv",
         "showlegend": false,
         "type": "scatter",
         "x": [
          "2023-09-30T08:19:36.244000",
          "2023-09-30T08:20:08.243000"
         ],
         "y": [
          "MotionLivingRoomTablet.csv",
          "MotionLivingRoomTablet.csv"
         ]
        },
        {
         "line": {
          "color": "khaki",
          "width": 1
         },
         "marker": {
          "color": "khaki",
          "size": 8
         },
         "mode": "markers+lines",
         "name": "MotionLivingRoomSofa.csv",
         "showlegend": false,
         "type": "scatter",
         "x": [
          "2023-09-30T08:21:05.724000",
          "2023-09-30T08:23:19.876000"
         ],
         "y": [
          "MotionLivingRoomSofa.csv",
          "MotionLivingRoomSofa.csv"
         ]
        },
        {
         "line": {
          "color": "maroon",
          "width": 1
         },
         "marker": {
          "color": "maroon",
          "size": 8
         },
         "mode": "markers+lines",
         "name": "MotionKitchen.csv",
         "showlegend": false,
         "type": "scatter",
         "x": [
          "2023-09-30T08:22:12.510000",
          "2023-09-30T08:23:42.448000"
         ],
         "y": [
          "MotionKitchen.csv",
          "MotionKitchen.csv"
         ]
        },
        {
         "line": {
          "color": "darkgoldenrod",
          "width": 1
         },
         "marker": {
          "color": "darkgoldenrod",
          "size": 8
         },
         "mode": "markers+lines",
         "name": "MotionLivingRoomTablet.csv",
         "showlegend": false,
         "type": "scatter",
         "x": [
          "2023-09-30T08:22:17.401000",
          "2023-09-30T08:22:49.408000"
         ],
         "y": [
          "MotionLivingRoomTablet.csv",
          "MotionLivingRoomTablet.csv"
         ]
        },
        {
         "line": {
          "color": "khaki",
          "width": 1
         },
         "marker": {
          "color": "khaki",
          "size": 8
         },
         "mode": "markers+lines",
         "name": "MotionLivingRoomSofa.csv",
         "showlegend": false,
         "type": "scatter",
         "x": [
          "2023-09-30T08:28:12.175000",
          "2023-09-30T08:29:12.142000"
         ],
         "y": [
          "MotionLivingRoomSofa.csv",
          "MotionLivingRoomSofa.csv"
         ]
        },
        {
         "line": {
          "color": "khaki",
          "width": 1
         },
         "marker": {
          "color": "khaki",
          "size": 8
         },
         "mode": "markers+lines",
         "name": "MotionLivingRoomSofa.csv",
         "showlegend": false,
         "type": "scatter",
         "x": [
          "2023-09-30T08:31:24.604000",
          "2023-09-30T08:33:25.964000"
         ],
         "y": [
          "MotionLivingRoomSofa.csv",
          "MotionLivingRoomSofa.csv"
         ]
        },
        {
         "line": {
          "color": "khaki",
          "width": 1
         },
         "marker": {
          "color": "khaki",
          "size": 8
         },
         "mode": "markers+lines",
         "name": "MotionLivingRoomSofa.csv",
         "showlegend": false,
         "type": "scatter",
         "x": [
          "2023-09-30T08:35:25.251000",
          "2023-09-30T08:37:47.638000"
         ],
         "y": [
          "MotionLivingRoomSofa.csv",
          "MotionLivingRoomSofa.csv"
         ]
        },
        {
         "line": {
          "color": "magenta",
          "width": 1
         },
         "marker": {
          "color": "magenta",
          "size": 8
         },
         "mode": "markers+lines",
         "name": "PlugTvHall.csv",
         "showlegend": false,
         "type": "scatter",
         "x": [
          "2023-09-30T08:44:56.696000",
          "2023-09-30T08:46:26.403000"
         ],
         "y": [
          "PlugTvHall.csv",
          "PlugTvHall.csv"
         ]
        },
        {
         "line": {
          "color": "khaki",
          "width": 1
         },
         "marker": {
          "color": "khaki",
          "size": 8
         },
         "mode": "markers+lines",
         "name": "MotionLivingRoomSofa.csv",
         "showlegend": false,
         "type": "scatter",
         "x": [
          "2023-09-30T08:51:03.738000",
          "2023-09-30T08:52:03.729000"
         ],
         "y": [
          "MotionLivingRoomSofa.csv",
          "MotionLivingRoomSofa.csv"
         ]
        },
        {
         "line": {
          "color": "khaki",
          "width": 1
         },
         "marker": {
          "color": "khaki",
          "size": 8
         },
         "mode": "markers+lines",
         "name": "MotionLivingRoomSofa.csv",
         "showlegend": false,
         "type": "scatter",
         "x": [
          "2023-09-30T09:00:56.008000",
          "2023-09-30T09:02:26.786000"
         ],
         "y": [
          "MotionLivingRoomSofa.csv",
          "MotionLivingRoomSofa.csv"
         ]
        },
        {
         "line": {
          "color": "maroon",
          "width": 1
         },
         "marker": {
          "color": "maroon",
          "size": 8
         },
         "mode": "markers+lines",
         "name": "MotionKitchen.csv",
         "showlegend": false,
         "type": "scatter",
         "x": [
          "2023-09-30T09:01:06.827000",
          "2023-09-30T09:02:06.828000"
         ],
         "y": [
          "MotionKitchen.csv",
          "MotionKitchen.csv"
         ]
        },
        {
         "line": {
          "color": "khaki",
          "width": 1
         },
         "marker": {
          "color": "khaki",
          "size": 8
         },
         "mode": "markers+lines",
         "name": "MotionLivingRoomSofa.csv",
         "showlegend": false,
         "type": "scatter",
         "x": [
          "2023-09-30T09:03:48.796000",
          "2023-09-30T09:04:48.804000"
         ],
         "y": [
          "MotionLivingRoomSofa.csv",
          "MotionLivingRoomSofa.csv"
         ]
        },
        {
         "line": {
          "color": "khaki",
          "width": 1
         },
         "marker": {
          "color": "khaki",
          "size": 8
         },
         "mode": "markers+lines",
         "name": "MotionLivingRoomSofa.csv",
         "showlegend": false,
         "type": "scatter",
         "x": [
          "2023-09-30T09:20:37.095000",
          "2023-09-30T09:22:26.944000"
         ],
         "y": [
          "MotionLivingRoomSofa.csv",
          "MotionLivingRoomSofa.csv"
         ]
        },
        {
         "line": {
          "color": "maroon",
          "width": 1
         },
         "marker": {
          "color": "maroon",
          "size": 8
         },
         "mode": "markers+lines",
         "name": "MotionKitchen.csv",
         "showlegend": false,
         "type": "scatter",
         "x": [
          "2023-09-30T09:21:05.841000",
          "2023-09-30T09:22:05.836000"
         ],
         "y": [
          "MotionKitchen.csv",
          "MotionKitchen.csv"
         ]
        },
        {
         "line": {
          "color": "maroon",
          "width": 1
         },
         "marker": {
          "color": "maroon",
          "size": 8
         },
         "mode": "markers+lines",
         "name": "MotionKitchen.csv",
         "showlegend": false,
         "type": "scatter",
         "x": [
          "2023-09-30T09:22:33.006000",
          "2023-09-30T09:23:32.999000"
         ],
         "y": [
          "MotionKitchen.csv",
          "MotionKitchen.csv"
         ]
        },
        {
         "line": {
          "color": "maroon",
          "width": 1
         },
         "marker": {
          "color": "maroon",
          "size": 8
         },
         "mode": "markers+lines",
         "name": "MotionKitchen.csv",
         "showlegend": false,
         "type": "scatter",
         "x": [
          "2023-09-30T09:24:25.994000",
          "2023-09-30T09:25:25.995000"
         ],
         "y": [
          "MotionKitchen.csv",
          "MotionKitchen.csv"
         ]
        },
        {
         "line": {
          "color": "maroon",
          "width": 1
         },
         "marker": {
          "color": "maroon",
          "size": 8
         },
         "mode": "markers+lines",
         "name": "MotionKitchen.csv",
         "showlegend": false,
         "type": "scatter",
         "x": [
          "2023-09-30T09:25:29.426000",
          "2023-09-30T09:27:48.334000"
         ],
         "y": [
          "MotionKitchen.csv",
          "MotionKitchen.csv"
         ]
        },
        {
         "line": {
          "color": "khaki",
          "width": 1
         },
         "marker": {
          "color": "khaki",
          "size": 8
         },
         "mode": "markers+lines",
         "name": "MotionLivingRoomSofa.csv",
         "showlegend": false,
         "type": "scatter",
         "x": [
          "2023-09-30T09:29:16.917000",
          "2023-09-30T09:30:16.912000"
         ],
         "y": [
          "MotionLivingRoomSofa.csv",
          "MotionLivingRoomSofa.csv"
         ]
        },
        {
         "line": {
          "color": "khaki",
          "width": 1
         },
         "marker": {
          "color": "khaki",
          "size": 8
         },
         "mode": "markers+lines",
         "name": "MotionLivingRoomSofa.csv",
         "showlegend": false,
         "type": "scatter",
         "x": [
          "2023-09-30T09:37:34.129000",
          "2023-09-30T09:38:34.129000"
         ],
         "y": [
          "MotionLivingRoomSofa.csv",
          "MotionLivingRoomSofa.csv"
         ]
        },
        {
         "line": {
          "color": "purple",
          "width": 1
         },
         "marker": {
          "color": "purple",
          "size": 8
         },
         "mode": "markers+lines",
         "name": "MotionBedroom.csv",
         "showlegend": false,
         "type": "scatter",
         "x": [
          "2023-09-30T09:37:38.235000",
          "2023-09-30T09:39:02.418000"
         ],
         "y": [
          "MotionBedroom.csv",
          "MotionBedroom.csv"
         ]
        },
        {
         "line": {
          "color": "khaki",
          "width": 1
         },
         "marker": {
          "color": "khaki",
          "size": 8
         },
         "mode": "markers+lines",
         "name": "MotionLivingRoomSofa.csv",
         "showlegend": false,
         "type": "scatter",
         "x": [
          "2023-09-30T09:42:06.553000",
          "2023-09-30T09:43:06.535000"
         ],
         "y": [
          "MotionLivingRoomSofa.csv",
          "MotionLivingRoomSofa.csv"
         ]
        },
        {
         "line": {
          "color": "purple",
          "width": 1
         },
         "marker": {
          "color": "purple",
          "size": 8
         },
         "mode": "markers+lines",
         "name": "MotionBedroom.csv",
         "showlegend": false,
         "type": "scatter",
         "x": [
          "2023-09-30T09:42:08.905000",
          "2023-09-30T09:43:15.280000"
         ],
         "y": [
          "MotionBedroom.csv",
          "MotionBedroom.csv"
         ]
        },
        {
         "line": {
          "color": "khaki",
          "width": 1
         },
         "marker": {
          "color": "khaki",
          "size": 8
         },
         "mode": "markers+lines",
         "name": "MotionLivingRoomSofa.csv",
         "showlegend": false,
         "type": "scatter",
         "x": [
          "2023-09-30T09:45:59.973000",
          "2023-09-30T09:46:59.973000"
         ],
         "y": [
          "MotionLivingRoomSofa.csv",
          "MotionLivingRoomSofa.csv"
         ]
        },
        {
         "line": {
          "color": "purple",
          "width": 1
         },
         "marker": {
          "color": "purple",
          "size": 8
         },
         "mode": "markers+lines",
         "name": "MotionBedroom.csv",
         "showlegend": false,
         "type": "scatter",
         "x": [
          "2023-09-30T09:46:02.092000",
          "2023-09-30T09:47:14.077000"
         ],
         "y": [
          "MotionBedroom.csv",
          "MotionBedroom.csv"
         ]
        },
        {
         "line": {
          "color": "khaki",
          "width": 1
         },
         "marker": {
          "color": "khaki",
          "size": 8
         },
         "mode": "markers+lines",
         "name": "MotionLivingRoomSofa.csv",
         "showlegend": false,
         "type": "scatter",
         "x": [
          "2023-09-30T09:48:56.182000",
          "2023-09-30T09:49:56.172000"
         ],
         "y": [
          "MotionLivingRoomSofa.csv",
          "MotionLivingRoomSofa.csv"
         ]
        },
        {
         "line": {
          "color": "purple",
          "width": 1
         },
         "marker": {
          "color": "purple",
          "size": 8
         },
         "mode": "markers+lines",
         "name": "MotionBedroom.csv",
         "showlegend": false,
         "type": "scatter",
         "x": [
          "2023-09-30T09:48:58.373000",
          "2023-09-30T09:50:11.475000"
         ],
         "y": [
          "MotionBedroom.csv",
          "MotionBedroom.csv"
         ]
        },
        {
         "line": {
          "color": "magenta",
          "width": 1
         },
         "marker": {
          "color": "magenta",
          "size": 8
         },
         "mode": "markers+lines",
         "name": "PlugTvHall.csv",
         "showlegend": false,
         "type": "scatter",
         "x": [
          "2023-09-30T09:51:31.873000",
          "2023-09-30T09:52:01.369000"
         ],
         "y": [
          "PlugTvHall.csv",
          "PlugTvHall.csv"
         ]
        },
        {
         "line": {
          "color": "magenta",
          "width": 1
         },
         "marker": {
          "color": "magenta",
          "size": 8
         },
         "mode": "markers+lines",
         "name": "PlugTvHall.csv",
         "showlegend": false,
         "type": "scatter",
         "x": [
          "2023-09-30T09:54:01.447000",
          "2023-09-30T09:54:31.353000"
         ],
         "y": [
          "PlugTvHall.csv",
          "PlugTvHall.csv"
         ]
        },
        {
         "line": {
          "color": "khaki",
          "width": 1
         },
         "marker": {
          "color": "khaki",
          "size": 8
         },
         "mode": "markers+lines",
         "name": "MotionLivingRoomSofa.csv",
         "showlegend": false,
         "type": "scatter",
         "x": [
          "2023-09-30T09:55:33.965000",
          "2023-09-30T09:57:07.228000"
         ],
         "y": [
          "MotionLivingRoomSofa.csv",
          "MotionLivingRoomSofa.csv"
         ]
        },
        {
         "line": {
          "color": "purple",
          "width": 1
         },
         "marker": {
          "color": "purple",
          "size": 8
         },
         "mode": "markers+lines",
         "name": "MotionBedroom.csv",
         "showlegend": false,
         "type": "scatter",
         "x": [
          "2023-09-30T09:55:36.656000",
          "2023-09-30T09:57:10.584000"
         ],
         "y": [
          "MotionBedroom.csv",
          "MotionBedroom.csv"
         ]
        },
        {
         "line": {
          "color": "khaki",
          "width": 1
         },
         "marker": {
          "color": "khaki",
          "size": 8
         },
         "mode": "markers+lines",
         "name": "MotionLivingRoomSofa.csv",
         "showlegend": false,
         "type": "scatter",
         "x": [
          "2023-09-30T10:01:49.176000",
          "2023-09-30T10:03:31.491000"
         ],
         "y": [
          "MotionLivingRoomSofa.csv",
          "MotionLivingRoomSofa.csv"
         ]
        },
        {
         "line": {
          "color": "purple",
          "width": 1
         },
         "marker": {
          "color": "purple",
          "size": 8
         },
         "mode": "markers+lines",
         "name": "MotionBedroom.csv",
         "showlegend": false,
         "type": "scatter",
         "x": [
          "2023-09-30T10:01:51.440000",
          "2023-09-30T10:03:34.334000"
         ],
         "y": [
          "MotionBedroom.csv",
          "MotionBedroom.csv"
         ]
        },
        {
         "line": {
          "color": "khaki",
          "width": 1
         },
         "marker": {
          "color": "khaki",
          "size": 8
         },
         "mode": "markers+lines",
         "name": "MotionLivingRoomSofa.csv",
         "showlegend": false,
         "type": "scatter",
         "x": [
          "2023-09-30T10:05:18.523000",
          "2023-09-30T10:06:18.526000"
         ],
         "y": [
          "MotionLivingRoomSofa.csv",
          "MotionLivingRoomSofa.csv"
         ]
        },
        {
         "line": {
          "color": "purple",
          "width": 1
         },
         "marker": {
          "color": "purple",
          "size": 8
         },
         "mode": "markers+lines",
         "name": "MotionBedroom.csv",
         "showlegend": false,
         "type": "scatter",
         "x": [
          "2023-09-30T10:05:21.037000",
          "2023-09-30T10:06:47.642000"
         ],
         "y": [
          "MotionBedroom.csv",
          "MotionBedroom.csv"
         ]
        },
        {
         "line": {
          "color": "maroon",
          "width": 1
         },
         "marker": {
          "color": "maroon",
          "size": 8
         },
         "mode": "markers+lines",
         "name": "MotionKitchen.csv",
         "showlegend": false,
         "type": "scatter",
         "x": [
          "2023-09-30T10:06:08.067000",
          "2023-09-30T10:07:37.925000"
         ],
         "y": [
          "MotionKitchen.csv",
          "MotionKitchen.csv"
         ]
        },
        {
         "line": {
          "color": "khaki",
          "width": 1
         },
         "marker": {
          "color": "khaki",
          "size": 8
         },
         "mode": "markers+lines",
         "name": "MotionLivingRoomSofa.csv",
         "showlegend": false,
         "type": "scatter",
         "x": [
          "2023-09-30T10:07:50.468000",
          "2023-09-30T10:08:50.461000"
         ],
         "y": [
          "MotionLivingRoomSofa.csv",
          "MotionLivingRoomSofa.csv"
         ]
        },
        {
         "line": {
          "color": "purple",
          "width": 1
         },
         "marker": {
          "color": "purple",
          "size": 8
         },
         "mode": "markers+lines",
         "name": "MotionBedroom.csv",
         "showlegend": false,
         "type": "scatter",
         "x": [
          "2023-09-30T10:07:52.155000",
          "2023-09-30T10:08:54.871000"
         ],
         "y": [
          "MotionBedroom.csv",
          "MotionBedroom.csv"
         ]
        },
        {
         "line": {
          "color": "khaki",
          "width": 1
         },
         "marker": {
          "color": "khaki",
          "size": 8
         },
         "mode": "markers+lines",
         "name": "MotionLivingRoomSofa.csv",
         "showlegend": false,
         "type": "scatter",
         "x": [
          "2023-09-30T10:09:58.069000",
          "2023-09-30T10:10:58.063000"
         ],
         "y": [
          "MotionLivingRoomSofa.csv",
          "MotionLivingRoomSofa.csv"
         ]
        },
        {
         "line": {
          "color": "purple",
          "width": 1
         },
         "marker": {
          "color": "purple",
          "size": 8
         },
         "mode": "markers+lines",
         "name": "MotionBedroom.csv",
         "showlegend": false,
         "type": "scatter",
         "x": [
          "2023-09-30T10:09:59.967000",
          "2023-09-30T10:11:18.039000"
         ],
         "y": [
          "MotionBedroom.csv",
          "MotionBedroom.csv"
         ]
        },
        {
         "line": {
          "color": "khaki",
          "width": 1
         },
         "marker": {
          "color": "khaki",
          "size": 8
         },
         "mode": "markers+lines",
         "name": "MotionLivingRoomSofa.csv",
         "showlegend": false,
         "type": "scatter",
         "x": [
          "2023-09-30T10:12:00.380000",
          "2023-09-30T10:14:23.829000"
         ],
         "y": [
          "MotionLivingRoomSofa.csv",
          "MotionLivingRoomSofa.csv"
         ]
        },
        {
         "line": {
          "color": "purple",
          "width": 1
         },
         "marker": {
          "color": "purple",
          "size": 8
         },
         "mode": "markers+lines",
         "name": "MotionBedroom.csv",
         "showlegend": false,
         "type": "scatter",
         "x": [
          "2023-09-30T10:12:02.230000",
          "2023-09-30T10:14:27.204000"
         ],
         "y": [
          "MotionBedroom.csv",
          "MotionBedroom.csv"
         ]
        },
        {
         "line": {
          "color": "maroon",
          "width": 1
         },
         "marker": {
          "color": "maroon",
          "size": 8
         },
         "mode": "markers+lines",
         "name": "MotionKitchen.csv",
         "showlegend": false,
         "type": "scatter",
         "x": [
          "2023-09-30T10:14:42.791000",
          "2023-09-30T10:17:27.775000"
         ],
         "y": [
          "MotionKitchen.csv",
          "MotionKitchen.csv"
         ]
        },
        {
         "line": {
          "color": "khaki",
          "width": 1
         },
         "marker": {
          "color": "khaki",
          "size": 8
         },
         "mode": "markers+lines",
         "name": "MotionLivingRoomSofa.csv",
         "showlegend": false,
         "type": "scatter",
         "x": [
          "2023-09-30T10:16:47.267000",
          "2023-09-30T10:18:23.704000"
         ],
         "y": [
          "MotionLivingRoomSofa.csv",
          "MotionLivingRoomSofa.csv"
         ]
        },
        {
         "line": {
          "color": "purple",
          "width": 1
         },
         "marker": {
          "color": "purple",
          "size": 8
         },
         "mode": "markers+lines",
         "name": "MotionBedroom.csv",
         "showlegend": false,
         "type": "scatter",
         "x": [
          "2023-09-30T10:16:48.868000",
          "2023-09-30T10:18:26.637000"
         ],
         "y": [
          "MotionBedroom.csv",
          "MotionBedroom.csv"
         ]
        },
        {
         "line": {
          "color": "maroon",
          "width": 1
         },
         "marker": {
          "color": "maroon",
          "size": 8
         },
         "mode": "markers+lines",
         "name": "MotionKitchen.csv",
         "showlegend": false,
         "type": "scatter",
         "x": [
          "2023-09-30T10:17:43.685000",
          "2023-09-30T10:18:43.670000"
         ],
         "y": [
          "MotionKitchen.csv",
          "MotionKitchen.csv"
         ]
        },
        {
         "line": {
          "color": "maroon",
          "width": 1
         },
         "marker": {
          "color": "maroon",
          "size": 8
         },
         "mode": "markers+lines",
         "name": "MotionKitchen.csv",
         "showlegend": false,
         "type": "scatter",
         "x": [
          "2023-09-30T10:20:22.220000",
          "2023-09-30T10:21:22.234000"
         ],
         "y": [
          "MotionKitchen.csv",
          "MotionKitchen.csv"
         ]
        },
        {
         "line": {
          "color": "pink",
          "width": 1
         },
         "marker": {
          "color": "pink",
          "size": 8
         },
         "mode": "markers+lines",
         "name": "HouseEntrance.csv",
         "showlegend": false,
         "type": "scatter",
         "x": [
          "2023-09-30T10:20:37.309000",
          "2023-09-30T10:20:41.537000"
         ],
         "y": [
          "HouseEntrance.csv",
          "HouseEntrance.csv"
         ]
        },
        {
         "line": {
          "color": "magenta",
          "width": 1
         },
         "marker": {
          "color": "magenta",
          "size": 8
         },
         "mode": "markers+lines",
         "name": "PlugTvHall.csv",
         "showlegend": false,
         "type": "scatter",
         "x": [
          "2023-09-30T10:21:31.363000",
          "2023-09-30T10:22:01.365000"
         ],
         "y": [
          "PlugTvHall.csv",
          "PlugTvHall.csv"
         ]
        },
        {
         "line": {
          "color": "pink",
          "width": 1
         },
         "marker": {
          "color": "pink",
          "size": 8
         },
         "mode": "markers+lines",
         "name": "HouseEntrance.csv",
         "showlegend": false,
         "type": "scatter",
         "x": [
          "2023-09-30T10:22:29.036000",
          "2023-09-30T10:22:34.556000"
         ],
         "y": [
          "HouseEntrance.csv",
          "HouseEntrance.csv"
         ]
        },
        {
         "line": {
          "color": "khaki",
          "width": 1
         },
         "marker": {
          "color": "khaki",
          "size": 8
         },
         "mode": "markers+lines",
         "name": "MotionLivingRoomSofa.csv",
         "showlegend": false,
         "type": "scatter",
         "x": [
          "2023-09-30T10:22:44.614000",
          "2023-09-30T10:26:12.150000"
         ],
         "y": [
          "MotionLivingRoomSofa.csv",
          "MotionLivingRoomSofa.csv"
         ]
        },
        {
         "line": {
          "color": "purple",
          "width": 1
         },
         "marker": {
          "color": "purple",
          "size": 8
         },
         "mode": "markers+lines",
         "name": "MotionBedroom.csv",
         "showlegend": false,
         "type": "scatter",
         "x": [
          "2023-09-30T10:22:46.259000",
          "2023-09-30T10:24:23.496000"
         ],
         "y": [
          "MotionBedroom.csv",
          "MotionBedroom.csv"
         ]
        },
        {
         "line": {
          "color": "magenta",
          "width": 1
         },
         "marker": {
          "color": "magenta",
          "size": 8
         },
         "mode": "markers+lines",
         "name": "PlugTvHall.csv",
         "showlegend": false,
         "type": "scatter",
         "x": [
          "2023-09-30T10:23:01.352000",
          "2023-09-30T10:26:01.371000"
         ],
         "y": [
          "PlugTvHall.csv",
          "PlugTvHall.csv"
         ]
        },
        {
         "line": {
          "color": "pink",
          "width": 1
         },
         "marker": {
          "color": "pink",
          "size": 8
         },
         "mode": "markers+lines",
         "name": "HouseEntrance.csv",
         "showlegend": false,
         "type": "scatter",
         "x": [
          "2023-09-30T10:23:15.362000",
          "2023-09-30T10:28:50.202000"
         ],
         "y": [
          "HouseEntrance.csv",
          "HouseEntrance.csv"
         ]
        },
        {
         "line": {
          "color": "darkgoldenrod",
          "width": 1
         },
         "marker": {
          "color": "darkgoldenrod",
          "size": 8
         },
         "mode": "markers+lines",
         "name": "MotionLivingRoomTablet.csv",
         "showlegend": false,
         "type": "scatter",
         "x": [
          "2023-09-30T10:23:29.783000",
          "2023-09-30T10:24:01.784000"
         ],
         "y": [
          "MotionLivingRoomTablet.csv",
          "MotionLivingRoomTablet.csv"
         ]
        },
        {
         "line": {
          "color": "purple",
          "width": 1
         },
         "marker": {
          "color": "purple",
          "size": 8
         },
         "mode": "markers+lines",
         "name": "MotionBedroom.csv",
         "showlegend": false,
         "type": "scatter",
         "x": [
          "2023-09-30T10:24:42.274000",
          "2023-09-30T10:26:15.284000"
         ],
         "y": [
          "MotionBedroom.csv",
          "MotionBedroom.csv"
         ]
        },
        {
         "line": {
          "color": "khaki",
          "width": 1
         },
         "marker": {
          "color": "khaki",
          "size": 8
         },
         "mode": "markers+lines",
         "name": "MotionLivingRoomSofa.csv",
         "showlegend": false,
         "type": "scatter",
         "x": [
          "2023-09-30T10:26:35.421000",
          "2023-09-30T10:28:12.721000"
         ],
         "y": [
          "MotionLivingRoomSofa.csv",
          "MotionLivingRoomSofa.csv"
         ]
        },
        {
         "line": {
          "color": "purple",
          "width": 1
         },
         "marker": {
          "color": "purple",
          "size": 8
         },
         "mode": "markers+lines",
         "name": "MotionBedroom.csv",
         "showlegend": false,
         "type": "scatter",
         "x": [
          "2023-09-30T10:26:39.763000",
          "2023-09-30T10:31:22.805000"
         ],
         "y": [
          "MotionBedroom.csv",
          "MotionBedroom.csv"
         ]
        },
        {
         "line": {
          "color": "maroon",
          "width": 1
         },
         "marker": {
          "color": "maroon",
          "size": 8
         },
         "mode": "markers+lines",
         "name": "MotionKitchen.csv",
         "showlegend": false,
         "type": "scatter",
         "x": [
          "2023-09-30T10:29:07.832000",
          "2023-09-30T10:30:07.832000"
         ],
         "y": [
          "MotionKitchen.csv",
          "MotionKitchen.csv"
         ]
        },
        {
         "line": {
          "color": "khaki",
          "width": 1
         },
         "marker": {
          "color": "khaki",
          "size": 8
         },
         "mode": "markers+lines",
         "name": "MotionLivingRoomSofa.csv",
         "showlegend": false,
         "type": "scatter",
         "x": [
          "2023-09-30T10:30:19.905000",
          "2023-09-30T10:31:19.920000"
         ],
         "y": [
          "MotionLivingRoomSofa.csv",
          "MotionLivingRoomSofa.csv"
         ]
        },
        {
         "line": {
          "color": "maroon",
          "width": 1
         },
         "marker": {
          "color": "maroon",
          "size": 8
         },
         "mode": "markers+lines",
         "name": "MotionKitchen.csv",
         "showlegend": false,
         "type": "scatter",
         "x": [
          "2023-09-30T10:31:01.893000",
          "2023-09-30T10:33:26.587000"
         ],
         "y": [
          "MotionKitchen.csv",
          "MotionKitchen.csv"
         ]
        },
        {
         "line": {
          "color": "aqua",
          "width": 1
         },
         "marker": {
          "color": "aqua",
          "size": 8
         },
         "mode": "markers+lines",
         "name": "FoodStorageLivingRoom.csv",
         "showlegend": false,
         "type": "scatter",
         "x": [
          "2023-09-30T10:31:42.618000",
          "2023-09-30T10:33:11.898000"
         ],
         "y": [
          "FoodStorageLivingRoom.csv",
          "FoodStorageLivingRoom.csv"
         ]
        },
        {
         "line": {
          "color": "goldenrod",
          "width": 1
         },
         "marker": {
          "color": "goldenrod",
          "size": 8
         },
         "mode": "markers+lines",
         "name": "FoodStorageKitchen.csv",
         "showlegend": false,
         "type": "scatter",
         "x": [
          "2023-09-30T10:32:02.783000",
          "2023-09-30T10:32:05.791000"
         ],
         "y": [
          "FoodStorageKitchen.csv",
          "FoodStorageKitchen.csv"
         ]
        },
        {
         "line": {
          "color": "darkgoldenrod",
          "width": 1
         },
         "marker": {
          "color": "darkgoldenrod",
          "size": 8
         },
         "mode": "markers+lines",
         "name": "MotionLivingRoomTablet.csv",
         "showlegend": false,
         "type": "scatter",
         "x": [
          "2023-09-30T10:32:49.767000",
          "2023-09-30T10:33:21.764000"
         ],
         "y": [
          "MotionLivingRoomTablet.csv",
          "MotionLivingRoomTablet.csv"
         ]
        },
        {
         "line": {
          "color": "aqua",
          "width": 1
         },
         "marker": {
          "color": "aqua",
          "size": 8
         },
         "mode": "markers+lines",
         "name": "FoodStorageLivingRoom.csv",
         "showlegend": false,
         "type": "scatter",
         "x": [
          "2023-09-30T10:33:12.381000",
          "2023-09-30T10:33:13.687000"
         ],
         "y": [
          "FoodStorageLivingRoom.csv",
          "FoodStorageLivingRoom.csv"
         ]
        },
        {
         "line": {
          "color": "pink",
          "width": 1
         },
         "marker": {
          "color": "pink",
          "size": 8
         },
         "mode": "markers+lines",
         "name": "HouseEntrance.csv",
         "showlegend": false,
         "type": "scatter",
         "x": [
          "2023-09-30T10:33:19.668000",
          "2023-09-30T10:33:56.661000"
         ],
         "y": [
          "HouseEntrance.csv",
          "HouseEntrance.csv"
         ]
        },
        {
         "line": {
          "color": "pink",
          "width": 1
         },
         "marker": {
          "color": "pink",
          "size": 8
         },
         "mode": "markers+lines",
         "name": "HouseEntrance.csv",
         "showlegend": false,
         "type": "scatter",
         "x": [
          "2023-09-30T10:34:28.003000",
          "2023-09-30T10:35:11.544000"
         ],
         "y": [
          "HouseEntrance.csv",
          "HouseEntrance.csv"
         ]
        },
        {
         "line": {
          "color": "khaki",
          "width": 1
         },
         "marker": {
          "color": "khaki",
          "size": 8
         },
         "mode": "markers+lines",
         "name": "MotionLivingRoomSofa.csv",
         "showlegend": false,
         "type": "scatter",
         "x": [
          "2023-09-30T10:34:45.004000",
          "2023-09-30T10:35:44.999000"
         ],
         "y": [
          "MotionLivingRoomSofa.csv",
          "MotionLivingRoomSofa.csv"
         ]
        },
        {
         "line": {
          "color": "darkgoldenrod",
          "width": 1
         },
         "marker": {
          "color": "darkgoldenrod",
          "size": 8
         },
         "mode": "markers+lines",
         "name": "MotionLivingRoomTablet.csv",
         "showlegend": false,
         "type": "scatter",
         "x": [
          "2023-09-30T10:35:51.472000",
          "2023-09-30T10:36:23.490000"
         ],
         "y": [
          "MotionLivingRoomTablet.csv",
          "MotionLivingRoomTablet.csv"
         ]
        },
        {
         "line": {
          "color": "darkgoldenrod",
          "width": 1
         },
         "marker": {
          "color": "darkgoldenrod",
          "size": 8
         },
         "mode": "markers+lines",
         "name": "MotionLivingRoomTablet.csv",
         "showlegend": false,
         "type": "scatter",
         "x": [
          "2023-09-30T10:36:47.793000",
          "2023-09-30T10:37:19.773000"
         ],
         "y": [
          "MotionLivingRoomTablet.csv",
          "MotionLivingRoomTablet.csv"
         ]
        },
        {
         "line": {
          "color": "khaki",
          "width": 1
         },
         "marker": {
          "color": "khaki",
          "size": 8
         },
         "mode": "markers+lines",
         "name": "MotionLivingRoomSofa.csv",
         "showlegend": false,
         "type": "scatter",
         "x": [
          "2023-09-30T10:37:15.559000",
          "2023-09-30T10:38:15.558000"
         ],
         "y": [
          "MotionLivingRoomSofa.csv",
          "MotionLivingRoomSofa.csv"
         ]
        },
        {
         "line": {
          "color": "purple",
          "width": 1
         },
         "marker": {
          "color": "purple",
          "size": 8
         },
         "mode": "markers+lines",
         "name": "MotionBedroom.csv",
         "showlegend": false,
         "type": "scatter",
         "x": [
          "2023-09-30T10:37:19.866000",
          "2023-09-30T10:39:21.663000"
         ],
         "y": [
          "MotionBedroom.csv",
          "MotionBedroom.csv"
         ]
        },
        {
         "line": {
          "color": "khaki",
          "width": 1
         },
         "marker": {
          "color": "khaki",
          "size": 8
         },
         "mode": "markers+lines",
         "name": "MotionLivingRoomSofa.csv",
         "showlegend": false,
         "type": "scatter",
         "x": [
          "2023-09-30T10:38:24.399000",
          "2023-09-30T10:39:24.407000"
         ],
         "y": [
          "MotionLivingRoomSofa.csv",
          "MotionLivingRoomSofa.csv"
         ]
        },
        {
         "line": {
          "color": "magenta",
          "width": 1
         },
         "marker": {
          "color": "magenta",
          "size": 8
         },
         "mode": "markers+lines",
         "name": "PlugTvHall.csv",
         "showlegend": false,
         "type": "scatter",
         "x": [
          "2023-09-30T10:55:31.433000",
          "2023-09-30T11:31:01.563000"
         ],
         "y": [
          "PlugTvHall.csv",
          "PlugTvHall.csv"
         ]
        },
        {
         "line": {
          "color": "pink",
          "width": 1
         },
         "marker": {
          "color": "pink",
          "size": 8
         },
         "mode": "markers+lines",
         "name": "HouseEntrance.csv",
         "showlegend": false,
         "type": "scatter",
         "x": [
          "2023-09-30T12:01:53.131000",
          "2023-09-30T12:02:13.080000"
         ],
         "y": [
          "HouseEntrance.csv",
          "HouseEntrance.csv"
         ]
        },
        {
         "line": {
          "color": "khaki",
          "width": 1
         },
         "marker": {
          "color": "khaki",
          "size": 8
         },
         "mode": "markers+lines",
         "name": "MotionLivingRoomSofa.csv",
         "showlegend": false,
         "type": "scatter",
         "x": [
          "2023-09-30T12:02:53.428000",
          "2023-09-30T12:03:53.436000"
         ],
         "y": [
          "MotionLivingRoomSofa.csv",
          "MotionLivingRoomSofa.csv"
         ]
        },
        {
         "line": {
          "color": "purple",
          "width": 1
         },
         "marker": {
          "color": "purple",
          "size": 8
         },
         "mode": "markers+lines",
         "name": "MotionBedroom.csv",
         "showlegend": false,
         "type": "scatter",
         "x": [
          "2023-09-30T12:02:56.097000",
          "2023-09-30T12:04:15.419000"
         ],
         "y": [
          "MotionBedroom.csv",
          "MotionBedroom.csv"
         ]
        },
        {
         "line": {
          "color": "maroon",
          "width": 1
         },
         "marker": {
          "color": "maroon",
          "size": 8
         },
         "mode": "markers+lines",
         "name": "MotionKitchen.csv",
         "showlegend": false,
         "type": "scatter",
         "x": [
          "2023-09-30T12:04:41.255000",
          "2023-09-30T12:09:19.645000"
         ],
         "y": [
          "MotionKitchen.csv",
          "MotionKitchen.csv"
         ]
        },
        {
         "line": {
          "color": "orange",
          "width": 1
         },
         "marker": {
          "color": "orange",
          "size": 8
         },
         "mode": "markers+lines",
         "name": "Refrigerator.csv",
         "showlegend": false,
         "type": "scatter",
         "x": [
          "2023-09-30T12:05:03.112000",
          "2023-09-30T12:06:19.253000"
         ],
         "y": [
          "Refrigerator.csv",
          "Refrigerator.csv"
         ]
        },
        {
         "line": {
          "color": "orange",
          "width": 1
         },
         "marker": {
          "color": "orange",
          "size": 8
         },
         "mode": "markers+lines",
         "name": "Refrigerator.csv",
         "showlegend": false,
         "type": "scatter",
         "x": [
          "2023-09-30T12:07:24.704000",
          "2023-09-30T12:07:31.009000"
         ],
         "y": [
          "Refrigerator.csv",
          "Refrigerator.csv"
         ]
        },
        {
         "line": {
          "color": "gray",
          "width": 1
         },
         "marker": {
          "color": "gray",
          "size": 8
         },
         "mode": "markers+lines",
         "name": "Microwave.csv",
         "showlegend": false,
         "type": "scatter",
         "x": [
          "2023-09-30T12:08:11.450000",
          "2023-09-30T12:08:42.253000"
         ],
         "y": [
          "Microwave.csv",
          "Microwave.csv"
         ]
        },
        {
         "line": {
          "color": "gray",
          "width": 1
         },
         "marker": {
          "color": "gray",
          "size": 8
         },
         "mode": "markers+lines",
         "name": "Microwave.csv",
         "showlegend": false,
         "type": "scatter",
         "x": [
          "2023-09-30T12:09:13.265000",
          "2023-09-30T12:09:43.660000"
         ],
         "y": [
          "Microwave.csv",
          "Microwave.csv"
         ]
        },
        {
         "line": {
          "color": "maroon",
          "width": 1
         },
         "marker": {
          "color": "maroon",
          "size": 8
         },
         "mode": "markers+lines",
         "name": "MotionKitchen.csv",
         "showlegend": false,
         "type": "scatter",
         "x": [
          "2023-09-30T12:09:25.610000",
          "2023-09-30T12:11:49.357000"
         ],
         "y": [
          "MotionKitchen.csv",
          "MotionKitchen.csv"
         ]
        },
        {
         "line": {
          "color": "orange",
          "width": 1
         },
         "marker": {
          "color": "orange",
          "size": 8
         },
         "mode": "markers+lines",
         "name": "Refrigerator.csv",
         "showlegend": false,
         "type": "scatter",
         "x": [
          "2023-09-30T12:09:54.216000",
          "2023-09-30T12:10:05.173000"
         ],
         "y": [
          "Refrigerator.csv",
          "Refrigerator.csv"
         ]
        },
        {
         "line": {
          "color": "maroon",
          "width": 1
         },
         "marker": {
          "color": "maroon",
          "size": 8
         },
         "mode": "markers+lines",
         "name": "MotionKitchen.csv",
         "showlegend": false,
         "type": "scatter",
         "x": [
          "2023-09-30T12:12:15.247000",
          "2023-09-30T12:21:38.361000"
         ],
         "y": [
          "MotionKitchen.csv",
          "MotionKitchen.csv"
         ]
        },
        {
         "line": {
          "color": "orange",
          "width": 1
         },
         "marker": {
          "color": "orange",
          "size": 8
         },
         "mode": "markers+lines",
         "name": "Refrigerator.csv",
         "showlegend": false,
         "type": "scatter",
         "x": [
          "2023-09-30T12:13:10.518000",
          "2023-09-30T12:13:17.187000"
         ],
         "y": [
          "Refrigerator.csv",
          "Refrigerator.csv"
         ]
        },
        {
         "line": {
          "color": "orange",
          "width": 1
         },
         "marker": {
          "color": "orange",
          "size": 8
         },
         "mode": "markers+lines",
         "name": "Refrigerator.csv",
         "showlegend": false,
         "type": "scatter",
         "x": [
          "2023-09-30T12:19:48.836000",
          "2023-09-30T12:19:54.285000"
         ],
         "y": [
          "Refrigerator.csv",
          "Refrigerator.csv"
         ]
        },
        {
         "line": {
          "color": "maroon",
          "width": 1
         },
         "marker": {
          "color": "maroon",
          "size": 8
         },
         "mode": "markers+lines",
         "name": "MotionKitchen.csv",
         "showlegend": false,
         "type": "scatter",
         "x": [
          "2023-09-30T12:21:39.641000",
          "2023-09-30T12:22:39.666000"
         ],
         "y": [
          "MotionKitchen.csv",
          "MotionKitchen.csv"
         ]
        },
        {
         "line": {
          "color": "orange",
          "width": 1
         },
         "marker": {
          "color": "orange",
          "size": 8
         },
         "mode": "markers+lines",
         "name": "Refrigerator.csv",
         "showlegend": false,
         "type": "scatter",
         "x": [
          "2023-09-30T12:21:51.185000",
          "2023-09-30T12:22:04.686000"
         ],
         "y": [
          "Refrigerator.csv",
          "Refrigerator.csv"
         ]
        },
        {
         "line": {
          "color": "maroon",
          "width": 1
         },
         "marker": {
          "color": "maroon",
          "size": 8
         },
         "mode": "markers+lines",
         "name": "MotionKitchen.csv",
         "showlegend": false,
         "type": "scatter",
         "x": [
          "2023-09-30T12:22:42.884000",
          "2023-09-30T12:25:53.922000"
         ],
         "y": [
          "MotionKitchen.csv",
          "MotionKitchen.csv"
         ]
        },
        {
         "line": {
          "color": "brown",
          "width": 1
         },
         "marker": {
          "color": "brown",
          "size": 8
         },
         "mode": "markers+lines",
         "name": "Dishes_Glasses.csv",
         "showlegend": false,
         "type": "scatter",
         "x": [
          "2023-09-30T12:22:43.607000",
          "2023-09-30T12:22:48.802000"
         ],
         "y": [
          "Dishes_Glasses.csv",
          "Dishes_Glasses.csv"
         ]
        },
        {
         "line": {
          "color": "orange",
          "width": 1
         },
         "marker": {
          "color": "orange",
          "size": 8
         },
         "mode": "markers+lines",
         "name": "Refrigerator.csv",
         "showlegend": false,
         "type": "scatter",
         "x": [
          "2023-09-30T12:23:11.886000",
          "2023-09-30T12:23:23.090000"
         ],
         "y": [
          "Refrigerator.csv",
          "Refrigerator.csv"
         ]
        },
        {
         "line": {
          "color": "orange",
          "width": 1
         },
         "marker": {
          "color": "orange",
          "size": 8
         },
         "mode": "markers+lines",
         "name": "Refrigerator.csv",
         "showlegend": false,
         "type": "scatter",
         "x": [
          "2023-09-30T12:24:01.220000",
          "2023-09-30T12:24:16.937000"
         ],
         "y": [
          "Refrigerator.csv",
          "Refrigerator.csv"
         ]
        },
        {
         "line": {
          "color": "orange",
          "width": 1
         },
         "marker": {
          "color": "orange",
          "size": 8
         },
         "mode": "markers+lines",
         "name": "Refrigerator.csv",
         "showlegend": false,
         "type": "scatter",
         "x": [
          "2023-09-30T12:24:54.772000",
          "2023-09-30T12:25:11.023000"
         ],
         "y": [
          "Refrigerator.csv",
          "Refrigerator.csv"
         ]
        },
        {
         "line": {
          "color": "khaki",
          "width": 1
         },
         "marker": {
          "color": "khaki",
          "size": 8
         },
         "mode": "markers+lines",
         "name": "MotionLivingRoomSofa.csv",
         "showlegend": false,
         "type": "scatter",
         "x": [
          "2023-09-30T12:25:17.929000",
          "2023-09-30T12:26:17.956000"
         ],
         "y": [
          "MotionLivingRoomSofa.csv",
          "MotionLivingRoomSofa.csv"
         ]
        },
        {
         "line": {
          "color": "khaki",
          "width": 1
         },
         "marker": {
          "color": "khaki",
          "size": 8
         },
         "mode": "markers+lines",
         "name": "MotionLivingRoomSofa.csv",
         "showlegend": false,
         "type": "scatter",
         "x": [
          "2023-09-30T12:27:19.946000",
          "2023-09-30T12:28:19.912000"
         ],
         "y": [
          "MotionLivingRoomSofa.csv",
          "MotionLivingRoomSofa.csv"
         ]
        },
        {
         "line": {
          "color": "maroon",
          "width": 1
         },
         "marker": {
          "color": "maroon",
          "size": 8
         },
         "mode": "markers+lines",
         "name": "MotionKitchen.csv",
         "showlegend": false,
         "type": "scatter",
         "x": [
          "2023-09-30T12:27:28.883000",
          "2023-09-30T12:30:17.590000"
         ],
         "y": [
          "MotionKitchen.csv",
          "MotionKitchen.csv"
         ]
        },
        {
         "line": {
          "color": "orange",
          "width": 1
         },
         "marker": {
          "color": "orange",
          "size": 8
         },
         "mode": "markers+lines",
         "name": "Refrigerator.csv",
         "showlegend": false,
         "type": "scatter",
         "x": [
          "2023-09-30T12:28:05.065000",
          "2023-09-30T12:28:10.293000"
         ],
         "y": [
          "Refrigerator.csv",
          "Refrigerator.csv"
         ]
        },
        {
         "line": {
          "color": "orange",
          "width": 1
         },
         "marker": {
          "color": "orange",
          "size": 8
         },
         "mode": "markers+lines",
         "name": "Refrigerator.csv",
         "showlegend": false,
         "type": "scatter",
         "x": [
          "2023-09-30T12:28:34.182000",
          "2023-09-30T12:28:42.853000"
         ],
         "y": [
          "Refrigerator.csv",
          "Refrigerator.csv"
         ]
        },
        {
         "line": {
          "color": "maroon",
          "width": 1
         },
         "marker": {
          "color": "maroon",
          "size": 8
         },
         "mode": "markers+lines",
         "name": "MotionKitchen.csv",
         "showlegend": false,
         "type": "scatter",
         "x": [
          "2023-09-30T12:30:32.618000",
          "2023-09-30T12:31:32.619000"
         ],
         "y": [
          "MotionKitchen.csv",
          "MotionKitchen.csv"
         ]
        },
        {
         "line": {
          "color": "maroon",
          "width": 1
         },
         "marker": {
          "color": "maroon",
          "size": 8
         },
         "mode": "markers+lines",
         "name": "MotionKitchen.csv",
         "showlegend": false,
         "type": "scatter",
         "x": [
          "2023-09-30T12:50:46.250000",
          "2023-09-30T12:52:47.196000"
         ],
         "y": [
          "MotionKitchen.csv",
          "MotionKitchen.csv"
         ]
        },
        {
         "line": {
          "color": "maroon",
          "width": 1
         },
         "marker": {
          "color": "maroon",
          "size": 8
         },
         "mode": "markers+lines",
         "name": "MotionKitchen.csv",
         "showlegend": false,
         "type": "scatter",
         "x": [
          "2023-09-30T12:54:18.296000",
          "2023-09-30T12:55:18.296000"
         ],
         "y": [
          "MotionKitchen.csv",
          "MotionKitchen.csv"
         ]
        },
        {
         "line": {
          "color": "orange",
          "width": 1
         },
         "marker": {
          "color": "orange",
          "size": 8
         },
         "mode": "markers+lines",
         "name": "Refrigerator.csv",
         "showlegend": false,
         "type": "scatter",
         "x": [
          "2023-09-30T12:54:19.727000",
          "2023-09-30T12:54:26.178000"
         ],
         "y": [
          "Refrigerator.csv",
          "Refrigerator.csv"
         ]
        },
        {
         "line": {
          "color": "maroon",
          "width": 1
         },
         "marker": {
          "color": "maroon",
          "size": 8
         },
         "mode": "markers+lines",
         "name": "MotionKitchen.csv",
         "showlegend": false,
         "type": "scatter",
         "x": [
          "2023-09-30T12:55:38.208000",
          "2023-09-30T12:57:11.317000"
         ],
         "y": [
          "MotionKitchen.csv",
          "MotionKitchen.csv"
         ]
        },
        {
         "line": {
          "color": "maroon",
          "width": 1
         },
         "marker": {
          "color": "maroon",
          "size": 8
         },
         "mode": "markers+lines",
         "name": "MotionKitchen.csv",
         "showlegend": false,
         "type": "scatter",
         "x": [
          "2023-09-30T13:24:34.011000",
          "2023-09-30T13:26:34.028000"
         ],
         "y": [
          "MotionKitchen.csv",
          "MotionKitchen.csv"
         ]
        },
        {
         "line": {
          "color": "orange",
          "width": 1
         },
         "marker": {
          "color": "orange",
          "size": 8
         },
         "mode": "markers+lines",
         "name": "Refrigerator.csv",
         "showlegend": false,
         "type": "scatter",
         "x": [
          "2023-09-30T13:25:12.216000",
          "2023-09-30T13:25:15.598000"
         ],
         "y": [
          "Refrigerator.csv",
          "Refrigerator.csv"
         ]
        },
        {
         "line": {
          "color": "maroon",
          "width": 1
         },
         "marker": {
          "color": "maroon",
          "size": 8
         },
         "mode": "markers+lines",
         "name": "MotionKitchen.csv",
         "showlegend": false,
         "type": "scatter",
         "x": [
          "2023-09-30T13:26:44.341000",
          "2023-09-30T13:27:44.345000"
         ],
         "y": [
          "MotionKitchen.csv",
          "MotionKitchen.csv"
         ]
        },
        {
         "line": {
          "color": "brown",
          "width": 1
         },
         "marker": {
          "color": "brown",
          "size": 8
         },
         "mode": "markers+lines",
         "name": "Dishes_Glasses.csv",
         "showlegend": false,
         "type": "scatter",
         "x": [
          "2023-09-30T13:26:45.865000",
          "2023-09-30T13:26:49.068000"
         ],
         "y": [
          "Dishes_Glasses.csv",
          "Dishes_Glasses.csv"
         ]
        },
        {
         "line": {
          "color": "tan",
          "width": 1
         },
         "marker": {
          "color": "tan",
          "size": 8
         },
         "mode": "markers+lines",
         "name": "CoffeMachine.csv",
         "showlegend": false,
         "type": "scatter",
         "x": [
          "2023-09-30T13:27:11.655000",
          "2023-09-30T13:27:41.598000"
         ],
         "y": [
          "CoffeMachine.csv",
          "CoffeMachine.csv"
         ]
        },
        {
         "line": {
          "color": "maroon",
          "width": 1
         },
         "marker": {
          "color": "maroon",
          "size": 8
         },
         "mode": "markers+lines",
         "name": "MotionKitchen.csv",
         "showlegend": false,
         "type": "scatter",
         "x": [
          "2023-09-30T13:45:55.672000",
          "2023-09-30T13:46:55.659000"
         ],
         "y": [
          "MotionKitchen.csv",
          "MotionKitchen.csv"
         ]
        },
        {
         "line": {
          "color": "khaki",
          "width": 1
         },
         "marker": {
          "color": "khaki",
          "size": 8
         },
         "mode": "markers+lines",
         "name": "MotionLivingRoomSofa.csv",
         "showlegend": false,
         "type": "scatter",
         "x": [
          "2023-09-30T13:47:19.643000",
          "2023-09-30T13:50:33.298000"
         ],
         "y": [
          "MotionLivingRoomSofa.csv",
          "MotionLivingRoomSofa.csv"
         ]
        },
        {
         "line": {
          "color": "purple",
          "width": 1
         },
         "marker": {
          "color": "purple",
          "size": 8
         },
         "mode": "markers+lines",
         "name": "MotionBedroom.csv",
         "showlegend": false,
         "type": "scatter",
         "x": [
          "2023-09-30T13:47:21.698000",
          "2023-09-30T13:48:24.433000"
         ],
         "y": [
          "MotionBedroom.csv",
          "MotionBedroom.csv"
         ]
        },
        {
         "line": {
          "color": "purple",
          "width": 1
         },
         "marker": {
          "color": "purple",
          "size": 8
         },
         "mode": "markers+lines",
         "name": "MotionBedroom.csv",
         "showlegend": false,
         "type": "scatter",
         "x": [
          "2023-09-30T13:49:07.430000",
          "2023-09-30T13:50:36.117000"
         ],
         "y": [
          "MotionBedroom.csv",
          "MotionBedroom.csv"
         ]
        },
        {
         "line": {
          "color": "maroon",
          "width": 1
         },
         "marker": {
          "color": "maroon",
          "size": 8
         },
         "mode": "markers+lines",
         "name": "MotionKitchen.csv",
         "showlegend": false,
         "type": "scatter",
         "x": [
          "2023-09-30T13:50:15.029000",
          "2023-09-30T13:51:15.027000"
         ],
         "y": [
          "MotionKitchen.csv",
          "MotionKitchen.csv"
         ]
        },
        {
         "line": {
          "color": "khaki",
          "width": 1
         },
         "marker": {
          "color": "khaki",
          "size": 8
         },
         "mode": "markers+lines",
         "name": "MotionLivingRoomSofa.csv",
         "showlegend": false,
         "type": "scatter",
         "x": [
          "2023-09-30T13:52:25.049000",
          "2023-09-30T13:53:25.052000"
         ],
         "y": [
          "MotionLivingRoomSofa.csv",
          "MotionLivingRoomSofa.csv"
         ]
        },
        {
         "line": {
          "color": "khaki",
          "width": 1
         },
         "marker": {
          "color": "khaki",
          "size": 8
         },
         "mode": "markers+lines",
         "name": "MotionLivingRoomSofa.csv",
         "showlegend": false,
         "type": "scatter",
         "x": [
          "2023-09-30T14:16:14.837000",
          "2023-09-30T14:17:14.839000"
         ],
         "y": [
          "MotionLivingRoomSofa.csv",
          "MotionLivingRoomSofa.csv"
         ]
        },
        {
         "line": {
          "color": "khaki",
          "width": 1
         },
         "marker": {
          "color": "khaki",
          "size": 8
         },
         "mode": "markers+lines",
         "name": "MotionLivingRoomSofa.csv",
         "showlegend": false,
         "type": "scatter",
         "x": [
          "2023-09-30T14:52:08.891000",
          "2023-09-30T14:53:08.884000"
         ],
         "y": [
          "MotionLivingRoomSofa.csv",
          "MotionLivingRoomSofa.csv"
         ]
        },
        {
         "line": {
          "color": "khaki",
          "width": 1
         },
         "marker": {
          "color": "khaki",
          "size": 8
         },
         "mode": "markers+lines",
         "name": "MotionLivingRoomSofa.csv",
         "showlegend": false,
         "type": "scatter",
         "x": [
          "2023-09-30T14:53:36.430000",
          "2023-09-30T14:54:36.423000"
         ],
         "y": [
          "MotionLivingRoomSofa.csv",
          "MotionLivingRoomSofa.csv"
         ]
        },
        {
         "line": {
          "color": "magenta",
          "width": 1
         },
         "marker": {
          "color": "magenta",
          "size": 8
         },
         "mode": "markers+lines",
         "name": "PlugTvHall.csv",
         "showlegend": false,
         "type": "scatter",
         "x": [
          "2023-09-30T14:53:56.432000",
          "2023-09-30T14:54:26.412000"
         ],
         "y": [
          "PlugTvHall.csv",
          "PlugTvHall.csv"
         ]
        },
        {
         "line": {
          "color": "pink",
          "width": 1
         },
         "marker": {
          "color": "pink",
          "size": 8
         },
         "mode": "markers+lines",
         "name": "HouseEntrance.csv",
         "showlegend": false,
         "type": "scatter",
         "x": [
          "2023-09-30T14:54:09.592000",
          "2023-09-30T14:54:16.641000"
         ],
         "y": [
          "HouseEntrance.csv",
          "HouseEntrance.csv"
         ]
        },
        {
         "line": {
          "color": "magenta",
          "width": 1
         },
         "marker": {
          "color": "magenta",
          "size": 8
         },
         "mode": "markers+lines",
         "name": "PlugTvHall.csv",
         "showlegend": false,
         "type": "scatter",
         "x": [
          "2023-09-30T14:58:57.375000",
          "2023-09-30T15:12:27.502000"
         ],
         "y": [
          "PlugTvHall.csv",
          "PlugTvHall.csv"
         ]
        },
        {
         "line": {
          "color": "magenta",
          "width": 1
         },
         "marker": {
          "color": "magenta",
          "size": 8
         },
         "mode": "markers+lines",
         "name": "PlugTvHall.csv",
         "showlegend": false,
         "type": "scatter",
         "x": [
          "2023-09-30T15:54:58.403000",
          "2023-09-30T16:27:47.335000"
         ],
         "y": [
          "PlugTvHall.csv",
          "PlugTvHall.csv"
         ]
        },
        {
         "line": {
          "color": "magenta",
          "width": 1
         },
         "marker": {
          "color": "magenta",
          "size": 8
         },
         "mode": "markers+lines",
         "name": "PlugTvHall.csv",
         "showlegend": false,
         "type": "scatter",
         "x": [
          "2023-09-30T16:36:17.429000",
          "2023-09-30T16:48:47.317000"
         ],
         "y": [
          "PlugTvHall.csv",
          "PlugTvHall.csv"
         ]
        },
        {
         "line": {
          "color": "pink",
          "width": 1
         },
         "marker": {
          "color": "pink",
          "size": 8
         },
         "mode": "markers+lines",
         "name": "HouseEntrance.csv",
         "showlegend": false,
         "type": "scatter",
         "x": [
          "2023-09-30T16:37:08.080000",
          "2023-09-30T16:37:16.125000"
         ],
         "y": [
          "HouseEntrance.csv",
          "HouseEntrance.csv"
         ]
        },
        {
         "line": {
          "color": "khaki",
          "width": 1
         },
         "marker": {
          "color": "khaki",
          "size": 8
         },
         "mode": "markers+lines",
         "name": "MotionLivingRoomSofa.csv",
         "showlegend": false,
         "type": "scatter",
         "x": [
          "2023-09-30T16:37:15.552000",
          "2023-09-30T16:39:50.924000"
         ],
         "y": [
          "MotionLivingRoomSofa.csv",
          "MotionLivingRoomSofa.csv"
         ]
        },
        {
         "line": {
          "color": "darkgoldenrod",
          "width": 1
         },
         "marker": {
          "color": "darkgoldenrod",
          "size": 8
         },
         "mode": "markers+lines",
         "name": "MotionLivingRoomTablet.csv",
         "showlegend": false,
         "type": "scatter",
         "x": [
          "2023-09-30T16:37:18.491000",
          "2023-09-30T16:37:50.518000"
         ],
         "y": [
          "MotionLivingRoomTablet.csv",
          "MotionLivingRoomTablet.csv"
         ]
        },
        {
         "line": {
          "color": "darkgoldenrod",
          "width": 1
         },
         "marker": {
          "color": "darkgoldenrod",
          "size": 8
         },
         "mode": "markers+lines",
         "name": "MotionLivingRoomTablet.csv",
         "showlegend": false,
         "type": "scatter",
         "x": [
          "2023-09-30T16:38:52.496000",
          "2023-09-30T16:39:24.470000"
         ],
         "y": [
          "MotionLivingRoomTablet.csv",
          "MotionLivingRoomTablet.csv"
         ]
        },
        {
         "line": {
          "color": "khaki",
          "width": 1
         },
         "marker": {
          "color": "khaki",
          "size": 8
         },
         "mode": "markers+lines",
         "name": "MotionLivingRoomSofa.csv",
         "showlegend": false,
         "type": "scatter",
         "x": [
          "2023-09-30T16:39:55.351000",
          "2023-09-30T16:40:55.338000"
         ],
         "y": [
          "MotionLivingRoomSofa.csv",
          "MotionLivingRoomSofa.csv"
         ]
        },
        {
         "line": {
          "color": "purple",
          "width": 1
         },
         "marker": {
          "color": "purple",
          "size": 8
         },
         "mode": "markers+lines",
         "name": "MotionBedroom.csv",
         "showlegend": false,
         "type": "scatter",
         "x": [
          "2023-09-30T16:39:57.701000",
          "2023-09-30T16:41:00.442000"
         ],
         "y": [
          "MotionBedroom.csv",
          "MotionBedroom.csv"
         ]
        },
        {
         "line": {
          "color": "purple",
          "width": 1
         },
         "marker": {
          "color": "purple",
          "size": 8
         },
         "mode": "markers+lines",
         "name": "MotionBedroom.csv",
         "showlegend": false,
         "type": "scatter",
         "x": [
          "2023-09-30T16:46:30.709000",
          "2023-09-30T16:51:13.336000"
         ],
         "y": [
          "MotionBedroom.csv",
          "MotionBedroom.csv"
         ]
        },
        {
         "line": {
          "color": "khaki",
          "width": 1
         },
         "marker": {
          "color": "khaki",
          "size": 8
         },
         "mode": "markers+lines",
         "name": "MotionLivingRoomSofa.csv",
         "showlegend": false,
         "type": "scatter",
         "x": [
          "2023-09-30T16:50:17.747000",
          "2023-09-30T16:51:17.763000"
         ],
         "y": [
          "MotionLivingRoomSofa.csv",
          "MotionLivingRoomSofa.csv"
         ]
        },
        {
         "line": {
          "color": "pink",
          "width": 1
         },
         "marker": {
          "color": "pink",
          "size": 8
         },
         "mode": "markers+lines",
         "name": "HouseEntrance.csv",
         "showlegend": false,
         "type": "scatter",
         "x": [
          "2023-09-30T16:51:12.896000",
          "2023-09-30T16:51:22.032000"
         ],
         "y": [
          "HouseEntrance.csv",
          "HouseEntrance.csv"
         ]
        },
        {
         "line": {
          "color": "khaki",
          "width": 1
         },
         "marker": {
          "color": "khaki",
          "size": 8
         },
         "mode": "markers+lines",
         "name": "MotionLivingRoomSofa.csv",
         "showlegend": false,
         "type": "scatter",
         "x": [
          "2023-09-30T17:37:51.094000",
          "2023-09-30T17:38:51.089000"
         ],
         "y": [
          "MotionLivingRoomSofa.csv",
          "MotionLivingRoomSofa.csv"
         ]
        },
        {
         "line": {
          "color": "magenta",
          "width": 1
         },
         "marker": {
          "color": "magenta",
          "size": 8
         },
         "mode": "markers+lines",
         "name": "PlugTvHall.csv",
         "showlegend": false,
         "type": "scatter",
         "x": [
          "2023-09-30T18:04:17.375000",
          "2023-09-30T18:04:47.373000"
         ],
         "y": [
          "PlugTvHall.csv",
          "PlugTvHall.csv"
         ]
        },
        {
         "line": {
          "color": "magenta",
          "width": 1
         },
         "marker": {
          "color": "magenta",
          "size": 8
         },
         "mode": "markers+lines",
         "name": "PlugTvHall.csv",
         "showlegend": false,
         "type": "scatter",
         "x": [
          "2023-09-30T18:13:17.485000",
          "2023-09-30T18:13:47.570000"
         ],
         "y": [
          "PlugTvHall.csv",
          "PlugTvHall.csv"
         ]
        },
        {
         "line": {
          "color": "khaki",
          "width": 1
         },
         "marker": {
          "color": "khaki",
          "size": 8
         },
         "mode": "markers+lines",
         "name": "MotionLivingRoomSofa.csv",
         "showlegend": false,
         "type": "scatter",
         "x": [
          "2023-09-30T18:37:46.089000",
          "2023-09-30T18:38:46.081000"
         ],
         "y": [
          "MotionLivingRoomSofa.csv",
          "MotionLivingRoomSofa.csv"
         ]
        },
        {
         "line": {
          "color": "khaki",
          "width": 1
         },
         "marker": {
          "color": "khaki",
          "size": 8
         },
         "mode": "markers+lines",
         "name": "MotionLivingRoomSofa.csv",
         "showlegend": false,
         "type": "scatter",
         "x": [
          "2023-09-30T18:46:24.998000",
          "2023-09-30T18:47:24.989000"
         ],
         "y": [
          "MotionLivingRoomSofa.csv",
          "MotionLivingRoomSofa.csv"
         ]
        },
        {
         "line": {
          "color": "magenta",
          "width": 1
         },
         "marker": {
          "color": "magenta",
          "size": 8
         },
         "mode": "markers+lines",
         "name": "PlugTvHall.csv",
         "showlegend": false,
         "type": "scatter",
         "x": [
          "2023-09-30T18:55:17.389000",
          "2023-09-30T19:05:17.474000"
         ],
         "y": [
          "PlugTvHall.csv",
          "PlugTvHall.csv"
         ]
        },
        {
         "line": {
          "color": "magenta",
          "width": 1
         },
         "marker": {
          "color": "magenta",
          "size": 8
         },
         "mode": "markers+lines",
         "name": "PlugTvHall.csv",
         "showlegend": false,
         "type": "scatter",
         "x": [
          "2023-09-30T19:08:47.450000",
          "2023-09-30T19:14:48.404000"
         ],
         "y": [
          "PlugTvHall.csv",
          "PlugTvHall.csv"
         ]
        },
        {
         "line": {
          "color": "magenta",
          "width": 1
         },
         "marker": {
          "color": "magenta",
          "size": 8
         },
         "mode": "markers+lines",
         "name": "PlugTvHall.csv",
         "showlegend": false,
         "type": "scatter",
         "x": [
          "2023-09-30T19:40:18.349000",
          "2023-09-30T19:44:18.502000"
         ],
         "y": [
          "PlugTvHall.csv",
          "PlugTvHall.csv"
         ]
        },
        {
         "line": {
          "color": "khaki",
          "width": 1
         },
         "marker": {
          "color": "khaki",
          "size": 8
         },
         "mode": "markers+lines",
         "name": "MotionLivingRoomSofa.csv",
         "showlegend": false,
         "type": "scatter",
         "x": [
          "2023-09-30T20:19:20.001000",
          "2023-09-30T20:20:19.970000"
         ],
         "y": [
          "MotionLivingRoomSofa.csv",
          "MotionLivingRoomSofa.csv"
         ]
        },
        {
         "line": {
          "color": "magenta",
          "width": 1
         },
         "marker": {
          "color": "magenta",
          "size": 8
         },
         "mode": "markers+lines",
         "name": "PlugTvHall.csv",
         "showlegend": false,
         "type": "scatter",
         "x": [
          "2023-09-30T20:19:48.491000",
          "2023-09-30T20:20:18.414000"
         ],
         "y": [
          "PlugTvHall.csv",
          "PlugTvHall.csv"
         ]
        },
        {
         "line": {
          "color": "magenta",
          "width": 1
         },
         "marker": {
          "color": "magenta",
          "size": 8
         },
         "mode": "markers+lines",
         "name": "PlugTvHall.csv",
         "showlegend": false,
         "type": "scatter",
         "x": [
          "2023-09-30T20:22:48.349000",
          "2023-09-30T20:23:18.365000"
         ],
         "y": [
          "PlugTvHall.csv",
          "PlugTvHall.csv"
         ]
        },
        {
         "line": {
          "color": "khaki",
          "width": 1
         },
         "marker": {
          "color": "khaki",
          "size": 8
         },
         "mode": "markers+lines",
         "name": "MotionLivingRoomSofa.csv",
         "showlegend": false,
         "type": "scatter",
         "x": [
          "2023-09-30T20:51:58.261000",
          "2023-09-30T20:52:58.253000"
         ],
         "y": [
          "MotionLivingRoomSofa.csv",
          "MotionLivingRoomSofa.csv"
         ]
        },
        {
         "line": {
          "color": "pink",
          "width": 1
         },
         "marker": {
          "color": "pink",
          "size": 8
         },
         "mode": "markers+lines",
         "name": "HouseEntrance.csv",
         "showlegend": false,
         "type": "scatter",
         "x": [
          "2023-09-30T20:59:27.247000",
          "2023-09-30T20:59:51.007000"
         ],
         "y": [
          "HouseEntrance.csv",
          "HouseEntrance.csv"
         ]
        },
        {
         "line": {
          "color": "magenta",
          "width": 1
         },
         "marker": {
          "color": "magenta",
          "size": 8
         },
         "mode": "markers+lines",
         "name": "PlugTvHall.csv",
         "showlegend": false,
         "type": "scatter",
         "x": [
          "2023-09-30T21:04:48.366000",
          "2023-09-30T21:05:18.343000"
         ],
         "y": [
          "PlugTvHall.csv",
          "PlugTvHall.csv"
         ]
        },
        {
         "line": {
          "color": "pink",
          "width": 1
         },
         "marker": {
          "color": "pink",
          "size": 8
         },
         "mode": "markers+lines",
         "name": "HouseEntrance.csv",
         "showlegend": false,
         "type": "scatter",
         "x": [
          "2023-09-30T21:15:13.351000",
          "2023-09-30T21:15:43.235000"
         ],
         "y": [
          "HouseEntrance.csv",
          "HouseEntrance.csv"
         ]
        },
        {
         "line": {
          "color": "khaki",
          "width": 1
         },
         "marker": {
          "color": "khaki",
          "size": 8
         },
         "mode": "markers+lines",
         "name": "MotionLivingRoomSofa.csv",
         "showlegend": false,
         "type": "scatter",
         "x": [
          "2023-09-30T21:15:56.128000",
          "2023-09-30T21:17:51.195000"
         ],
         "y": [
          "MotionLivingRoomSofa.csv",
          "MotionLivingRoomSofa.csv"
         ]
        },
        {
         "line": {
          "color": "purple",
          "width": 1
         },
         "marker": {
          "color": "purple",
          "size": 8
         },
         "mode": "markers+lines",
         "name": "MotionBedroom.csv",
         "showlegend": false,
         "type": "scatter",
         "x": [
          "2023-09-30T21:16:02.546000",
          "2023-09-30T21:17:54.690000"
         ],
         "y": [
          "MotionBedroom.csv",
          "MotionBedroom.csv"
         ]
        },
        {
         "line": {
          "color": "purple",
          "width": 1
         },
         "marker": {
          "color": "purple",
          "size": 8
         },
         "mode": "markers+lines",
         "name": "MotionBedroom.csv",
         "showlegend": false,
         "type": "scatter",
         "x": [
          "2023-09-30T21:19:03.425000",
          "2023-09-30T21:26:15.898000"
         ],
         "y": [
          "MotionBedroom.csv",
          "MotionBedroom.csv"
         ]
        },
        {
         "line": {
          "color": "khaki",
          "width": 1
         },
         "marker": {
          "color": "khaki",
          "size": 8
         },
         "mode": "markers+lines",
         "name": "MotionLivingRoomSofa.csv",
         "showlegend": false,
         "type": "scatter",
         "x": [
          "2023-09-30T21:19:34.800000",
          "2023-09-30T21:20:34.796000"
         ],
         "y": [
          "MotionLivingRoomSofa.csv",
          "MotionLivingRoomSofa.csv"
         ]
        },
        {
         "line": {
          "color": "khaki",
          "width": 1
         },
         "marker": {
          "color": "khaki",
          "size": 8
         },
         "mode": "markers+lines",
         "name": "MotionLivingRoomSofa.csv",
         "showlegend": false,
         "type": "scatter",
         "x": [
          "2023-09-30T21:25:13.244000",
          "2023-09-30T21:26:13.270000"
         ],
         "y": [
          "MotionLivingRoomSofa.csv",
          "MotionLivingRoomSofa.csv"
         ]
        },
        {
         "line": {
          "color": "blue",
          "width": 1
         },
         "marker": {
          "color": "blue",
          "size": 8
         },
         "mode": "markers+lines",
         "name": "Medicines.csv",
         "showlegend": false,
         "type": "scatter",
         "x": [
          "2023-09-30T21:28:08.593000",
          "2023-09-30T21:28:32.057000"
         ],
         "y": [
          "Medicines.csv",
          "Medicines.csv"
         ]
        },
        {
         "line": {
          "color": "maroon",
          "width": 1
         },
         "marker": {
          "color": "maroon",
          "size": 8
         },
         "mode": "markers+lines",
         "name": "MotionKitchen.csv",
         "showlegend": false,
         "type": "scatter",
         "x": [
          "2023-09-30T21:29:38.589000",
          "2023-09-30T21:32:28.830000"
         ],
         "y": [
          "MotionKitchen.csv",
          "MotionKitchen.csv"
         ]
        },
        {
         "line": {
          "color": "orange",
          "width": 1
         },
         "marker": {
          "color": "orange",
          "size": 8
         },
         "mode": "markers+lines",
         "name": "Refrigerator.csv",
         "showlegend": false,
         "type": "scatter",
         "x": [
          "2023-09-30T21:29:44.302000",
          "2023-09-30T21:29:52.446000"
         ],
         "y": [
          "Refrigerator.csv",
          "Refrigerator.csv"
         ]
        },
        {
         "line": {
          "color": "purple",
          "width": 1
         },
         "marker": {
          "color": "purple",
          "size": 8
         },
         "mode": "markers+lines",
         "name": "MotionBedroom.csv",
         "showlegend": false,
         "type": "scatter",
         "x": [
          "2023-09-30T21:30:19.578000",
          "2023-09-30T21:32:18.287000"
         ],
         "y": [
          "MotionBedroom.csv",
          "MotionBedroom.csv"
         ]
        },
        {
         "line": {
          "color": "khaki",
          "width": 1
         },
         "marker": {
          "color": "khaki",
          "size": 8
         },
         "mode": "markers+lines",
         "name": "MotionLivingRoomSofa.csv",
         "showlegend": false,
         "type": "scatter",
         "x": [
          "2023-09-30T21:32:13.279000",
          "2023-09-30T21:33:13.279000"
         ],
         "y": [
          "MotionLivingRoomSofa.csv",
          "MotionLivingRoomSofa.csv"
         ]
        },
        {
         "line": {
          "color": "purple",
          "width": 1
         },
         "marker": {
          "color": "purple",
          "size": 8
         },
         "mode": "markers+lines",
         "name": "MotionBedroom.csv",
         "showlegend": false,
         "type": "scatter",
         "x": [
          "2023-09-30T21:32:25.753000",
          "2023-09-30T21:34:57.253000"
         ],
         "y": [
          "MotionBedroom.csv",
          "MotionBedroom.csv"
         ]
        },
        {
         "line": {
          "color": "maroon",
          "width": 1
         },
         "marker": {
          "color": "maroon",
          "size": 8
         },
         "mode": "markers+lines",
         "name": "MotionKitchen.csv",
         "showlegend": false,
         "type": "scatter",
         "x": [
          "2023-09-30T21:33:04.193000",
          "2023-09-30T21:36:26.027000"
         ],
         "y": [
          "MotionKitchen.csv",
          "MotionKitchen.csv"
         ]
        },
        {
         "line": {
          "color": "orange",
          "width": 1
         },
         "marker": {
          "color": "orange",
          "size": 8
         },
         "mode": "markers+lines",
         "name": "Refrigerator.csv",
         "showlegend": false,
         "type": "scatter",
         "x": [
          "2023-09-30T21:34:11.453000",
          "2023-09-30T21:34:16.822000"
         ],
         "y": [
          "Refrigerator.csv",
          "Refrigerator.csv"
         ]
        },
        {
         "line": {
          "color": "maroon",
          "width": 1
         },
         "marker": {
          "color": "maroon",
          "size": 8
         },
         "mode": "markers+lines",
         "name": "MotionKitchen.csv",
         "showlegend": false,
         "type": "scatter",
         "x": [
          "2023-09-30T21:37:59.998000",
          "2023-09-30T21:41:42.272000"
         ],
         "y": [
          "MotionKitchen.csv",
          "MotionKitchen.csv"
         ]
        },
        {
         "line": {
          "color": "orange",
          "width": 1
         },
         "marker": {
          "color": "orange",
          "size": 8
         },
         "mode": "markers+lines",
         "name": "Refrigerator.csv",
         "showlegend": false,
         "type": "scatter",
         "x": [
          "2023-09-30T21:40:13.422000",
          "2023-09-30T21:40:18.712000"
         ],
         "y": [
          "Refrigerator.csv",
          "Refrigerator.csv"
         ]
        },
        {
         "line": {
          "color": "maroon",
          "width": 1
         },
         "marker": {
          "color": "maroon",
          "size": 8
         },
         "mode": "markers+lines",
         "name": "MotionKitchen.csv",
         "showlegend": false,
         "type": "scatter",
         "x": [
          "2023-09-30T21:42:04.906000",
          "2023-09-30T21:48:57.034000"
         ],
         "y": [
          "MotionKitchen.csv",
          "MotionKitchen.csv"
         ]
        },
        {
         "line": {
          "color": "orange",
          "width": 1
         },
         "marker": {
          "color": "orange",
          "size": 8
         },
         "mode": "markers+lines",
         "name": "Refrigerator.csv",
         "showlegend": false,
         "type": "scatter",
         "x": [
          "2023-09-30T21:43:49.483000",
          "2023-09-30T21:44:56.581000"
         ],
         "y": [
          "Refrigerator.csv",
          "Refrigerator.csv"
         ]
        },
        {
         "line": {
          "color": "orange",
          "width": 1
         },
         "marker": {
          "color": "orange",
          "size": 8
         },
         "mode": "markers+lines",
         "name": "Refrigerator.csv",
         "showlegend": false,
         "type": "scatter",
         "x": [
          "2023-09-30T21:46:33.054000",
          "2023-09-30T21:46:37.813000"
         ],
         "y": [
          "Refrigerator.csv",
          "Refrigerator.csv"
         ]
        },
        {
         "line": {
          "color": "orange",
          "width": 1
         },
         "marker": {
          "color": "orange",
          "size": 8
         },
         "mode": "markers+lines",
         "name": "Refrigerator.csv",
         "showlegend": false,
         "type": "scatter",
         "x": [
          "2023-09-30T21:47:59.351000",
          "2023-09-30T21:48:03.825000"
         ],
         "y": [
          "Refrigerator.csv",
          "Refrigerator.csv"
         ]
        },
        {
         "line": {
          "color": "maroon",
          "width": 1
         },
         "marker": {
          "color": "maroon",
          "size": 8
         },
         "mode": "markers+lines",
         "name": "MotionKitchen.csv",
         "showlegend": false,
         "type": "scatter",
         "x": [
          "2023-09-30T21:49:02.295000",
          "2023-09-30T21:52:01.184000"
         ],
         "y": [
          "MotionKitchen.csv",
          "MotionKitchen.csv"
         ]
        },
        {
         "line": {
          "color": "khaki",
          "width": 1
         },
         "marker": {
          "color": "khaki",
          "size": 8
         },
         "mode": "markers+lines",
         "name": "MotionLivingRoomSofa.csv",
         "showlegend": false,
         "type": "scatter",
         "x": [
          "2023-09-30T21:52:05.726000",
          "2023-09-30T21:53:36.346000"
         ],
         "y": [
          "MotionLivingRoomSofa.csv",
          "MotionLivingRoomSofa.csv"
         ]
        },
        {
         "line": {
          "color": "darkgoldenrod",
          "width": 1
         },
         "marker": {
          "color": "darkgoldenrod",
          "size": 8
         },
         "mode": "markers+lines",
         "name": "MotionLivingRoomTablet.csv",
         "showlegend": false,
         "type": "scatter",
         "x": [
          "2023-09-30T21:52:08.856000",
          "2023-09-30T21:52:40.842000"
         ],
         "y": [
          "MotionLivingRoomTablet.csv",
          "MotionLivingRoomTablet.csv"
         ]
        },
        {
         "line": {
          "color": "purple",
          "width": 1
         },
         "marker": {
          "color": "purple",
          "size": 8
         },
         "mode": "markers+lines",
         "name": "MotionBedroom.csv",
         "showlegend": false,
         "type": "scatter",
         "x": [
          "2023-09-30T21:52:39.177000",
          "2023-09-30T21:53:44.778000"
         ],
         "y": [
          "MotionBedroom.csv",
          "MotionBedroom.csv"
         ]
        },
        {
         "line": {
          "color": "purple",
          "width": 1
         },
         "marker": {
          "color": "purple",
          "size": 8
         },
         "mode": "markers+lines",
         "name": "MotionBedroom.csv",
         "showlegend": false,
         "type": "scatter",
         "x": [
          "2023-09-30T21:56:24.354000",
          "2023-09-30T21:57:26.883000"
         ],
         "y": [
          "MotionBedroom.csv",
          "MotionBedroom.csv"
         ]
        },
        {
         "line": {
          "color": "purple",
          "width": 1
         },
         "marker": {
          "color": "purple",
          "size": 8
         },
         "mode": "markers+lines",
         "name": "MotionBedroom.csv",
         "showlegend": false,
         "type": "scatter",
         "x": [
          "2023-09-30T21:59:07.882000",
          "2023-09-30T22:03:42.848000"
         ],
         "y": [
          "MotionBedroom.csv",
          "MotionBedroom.csv"
         ]
        },
        {
         "line": {
          "color": "khaki",
          "width": 1
         },
         "marker": {
          "color": "khaki",
          "size": 8
         },
         "mode": "markers+lines",
         "name": "MotionLivingRoomSofa.csv",
         "showlegend": false,
         "type": "scatter",
         "x": [
          "2023-09-30T21:59:56.473000",
          "2023-09-30T22:00:56.468000"
         ],
         "y": [
          "MotionLivingRoomSofa.csv",
          "MotionLivingRoomSofa.csv"
         ]
        },
        {
         "line": {
          "color": "purple",
          "width": 1
         },
         "marker": {
          "color": "purple",
          "size": 8
         },
         "mode": "markers+lines",
         "name": "MotionBedroom.csv",
         "showlegend": false,
         "type": "scatter",
         "x": [
          "2023-09-30T22:06:16.228000",
          "2023-09-30T22:07:18.753000"
         ],
         "y": [
          "MotionBedroom.csv",
          "MotionBedroom.csv"
         ]
        },
        {
         "line": {
          "color": "purple",
          "width": 1
         },
         "marker": {
          "color": "purple",
          "size": 8
         },
         "mode": "markers+lines",
         "name": "MotionBedroom.csv",
         "showlegend": false,
         "type": "scatter",
         "x": [
          "2023-09-30T22:40:03.232000",
          "2023-09-30T22:41:18.563000"
         ],
         "y": [
          "MotionBedroom.csv",
          "MotionBedroom.csv"
         ]
        },
        {
         "line": {
          "color": "purple",
          "width": 1
         },
         "marker": {
          "color": "purple",
          "size": 8
         },
         "mode": "markers+lines",
         "name": "MotionBedroom.csv",
         "showlegend": false,
         "type": "scatter",
         "x": [
          "2023-09-30T23:04:21.251000",
          "2023-09-30T23:05:30.875000"
         ],
         "y": [
          "MotionBedroom.csv",
          "MotionBedroom.csv"
         ]
        },
        {
         "line": {
          "color": "purple",
          "width": 1
         },
         "marker": {
          "color": "purple",
          "size": 8
         },
         "mode": "markers+lines",
         "name": "MotionBedroom.csv",
         "showlegend": false,
         "type": "scatter",
         "x": [
          "2023-09-30T23:24:01.410000",
          "2023-09-30T23:26:42.519000"
         ],
         "y": [
          "MotionBedroom.csv",
          "MotionBedroom.csv"
         ]
        },
        {
         "line": {
          "color": "purple",
          "width": 1
         },
         "marker": {
          "color": "purple",
          "size": 8
         },
         "mode": "markers+lines",
         "name": "MotionBedroom.csv",
         "showlegend": false,
         "type": "scatter",
         "x": [
          "2023-09-30T23:34:54.212000",
          "2023-09-30T23:36:03.193000"
         ],
         "y": [
          "MotionBedroom.csv",
          "MotionBedroom.csv"
         ]
        },
        {
         "line": {
          "color": "purple",
          "width": 1
         },
         "marker": {
          "color": "purple",
          "size": 8
         },
         "mode": "markers+lines",
         "name": "MotionBedroom.csv",
         "showlegend": false,
         "type": "scatter",
         "x": [
          "2023-09-30T23:36:43.883000",
          "2023-09-30T23:39:45.492000"
         ],
         "y": [
          "MotionBedroom.csv",
          "MotionBedroom.csv"
         ]
        },
        {
         "line": {
          "color": "purple",
          "width": 1
         },
         "marker": {
          "color": "purple",
          "size": 8
         },
         "mode": "markers+lines",
         "name": "MotionBedroom.csv",
         "showlegend": false,
         "type": "scatter",
         "x": [
          "2023-09-30T23:40:04.706000",
          "2023-09-30T23:41:37.812000"
         ],
         "y": [
          "MotionBedroom.csv",
          "MotionBedroom.csv"
         ]
        },
        {
         "line": {
          "color": "purple",
          "width": 1
         },
         "marker": {
          "color": "purple",
          "size": 8
         },
         "mode": "markers+lines",
         "name": "MotionBedroom.csv",
         "showlegend": false,
         "type": "scatter",
         "x": [
          "2023-09-30T23:42:47.374000",
          "2023-09-30T23:44:36.773000"
         ],
         "y": [
          "MotionBedroom.csv",
          "MotionBedroom.csv"
         ]
        },
        {
         "line": {
          "color": "purple",
          "width": 1
         },
         "marker": {
          "color": "purple",
          "size": 8
         },
         "mode": "markers+lines",
         "name": "MotionBedroom.csv",
         "showlegend": false,
         "type": "scatter",
         "x": [
          "2023-09-30T23:45:45.968000",
          "2023-09-30T23:46:52.630000"
         ],
         "y": [
          "MotionBedroom.csv",
          "MotionBedroom.csv"
         ]
        }
       ],
       "layout": {
        "showlegend": false,
        "template": {
         "data": {
          "bar": [
           {
            "error_x": {
             "color": "#2a3f5f"
            },
            "error_y": {
             "color": "#2a3f5f"
            },
            "marker": {
             "line": {
              "color": "#E5ECF6",
              "width": 0.5
             },
             "pattern": {
              "fillmode": "overlay",
              "size": 10,
              "solidity": 0.2
             }
            },
            "type": "bar"
           }
          ],
          "barpolar": [
           {
            "marker": {
             "line": {
              "color": "#E5ECF6",
              "width": 0.5
             },
             "pattern": {
              "fillmode": "overlay",
              "size": 10,
              "solidity": 0.2
             }
            },
            "type": "barpolar"
           }
          ],
          "carpet": [
           {
            "aaxis": {
             "endlinecolor": "#2a3f5f",
             "gridcolor": "white",
             "linecolor": "white",
             "minorgridcolor": "white",
             "startlinecolor": "#2a3f5f"
            },
            "baxis": {
             "endlinecolor": "#2a3f5f",
             "gridcolor": "white",
             "linecolor": "white",
             "minorgridcolor": "white",
             "startlinecolor": "#2a3f5f"
            },
            "type": "carpet"
           }
          ],
          "choropleth": [
           {
            "colorbar": {
             "outlinewidth": 0,
             "ticks": ""
            },
            "type": "choropleth"
           }
          ],
          "contour": [
           {
            "colorbar": {
             "outlinewidth": 0,
             "ticks": ""
            },
            "colorscale": [
             [
              0,
              "#0d0887"
             ],
             [
              0.1111111111111111,
              "#46039f"
             ],
             [
              0.2222222222222222,
              "#7201a8"
             ],
             [
              0.3333333333333333,
              "#9c179e"
             ],
             [
              0.4444444444444444,
              "#bd3786"
             ],
             [
              0.5555555555555556,
              "#d8576b"
             ],
             [
              0.6666666666666666,
              "#ed7953"
             ],
             [
              0.7777777777777778,
              "#fb9f3a"
             ],
             [
              0.8888888888888888,
              "#fdca26"
             ],
             [
              1,
              "#f0f921"
             ]
            ],
            "type": "contour"
           }
          ],
          "contourcarpet": [
           {
            "colorbar": {
             "outlinewidth": 0,
             "ticks": ""
            },
            "type": "contourcarpet"
           }
          ],
          "heatmap": [
           {
            "colorbar": {
             "outlinewidth": 0,
             "ticks": ""
            },
            "colorscale": [
             [
              0,
              "#0d0887"
             ],
             [
              0.1111111111111111,
              "#46039f"
             ],
             [
              0.2222222222222222,
              "#7201a8"
             ],
             [
              0.3333333333333333,
              "#9c179e"
             ],
             [
              0.4444444444444444,
              "#bd3786"
             ],
             [
              0.5555555555555556,
              "#d8576b"
             ],
             [
              0.6666666666666666,
              "#ed7953"
             ],
             [
              0.7777777777777778,
              "#fb9f3a"
             ],
             [
              0.8888888888888888,
              "#fdca26"
             ],
             [
              1,
              "#f0f921"
             ]
            ],
            "type": "heatmap"
           }
          ],
          "heatmapgl": [
           {
            "colorbar": {
             "outlinewidth": 0,
             "ticks": ""
            },
            "colorscale": [
             [
              0,
              "#0d0887"
             ],
             [
              0.1111111111111111,
              "#46039f"
             ],
             [
              0.2222222222222222,
              "#7201a8"
             ],
             [
              0.3333333333333333,
              "#9c179e"
             ],
             [
              0.4444444444444444,
              "#bd3786"
             ],
             [
              0.5555555555555556,
              "#d8576b"
             ],
             [
              0.6666666666666666,
              "#ed7953"
             ],
             [
              0.7777777777777778,
              "#fb9f3a"
             ],
             [
              0.8888888888888888,
              "#fdca26"
             ],
             [
              1,
              "#f0f921"
             ]
            ],
            "type": "heatmapgl"
           }
          ],
          "histogram": [
           {
            "marker": {
             "pattern": {
              "fillmode": "overlay",
              "size": 10,
              "solidity": 0.2
             }
            },
            "type": "histogram"
           }
          ],
          "histogram2d": [
           {
            "colorbar": {
             "outlinewidth": 0,
             "ticks": ""
            },
            "colorscale": [
             [
              0,
              "#0d0887"
             ],
             [
              0.1111111111111111,
              "#46039f"
             ],
             [
              0.2222222222222222,
              "#7201a8"
             ],
             [
              0.3333333333333333,
              "#9c179e"
             ],
             [
              0.4444444444444444,
              "#bd3786"
             ],
             [
              0.5555555555555556,
              "#d8576b"
             ],
             [
              0.6666666666666666,
              "#ed7953"
             ],
             [
              0.7777777777777778,
              "#fb9f3a"
             ],
             [
              0.8888888888888888,
              "#fdca26"
             ],
             [
              1,
              "#f0f921"
             ]
            ],
            "type": "histogram2d"
           }
          ],
          "histogram2dcontour": [
           {
            "colorbar": {
             "outlinewidth": 0,
             "ticks": ""
            },
            "colorscale": [
             [
              0,
              "#0d0887"
             ],
             [
              0.1111111111111111,
              "#46039f"
             ],
             [
              0.2222222222222222,
              "#7201a8"
             ],
             [
              0.3333333333333333,
              "#9c179e"
             ],
             [
              0.4444444444444444,
              "#bd3786"
             ],
             [
              0.5555555555555556,
              "#d8576b"
             ],
             [
              0.6666666666666666,
              "#ed7953"
             ],
             [
              0.7777777777777778,
              "#fb9f3a"
             ],
             [
              0.8888888888888888,
              "#fdca26"
             ],
             [
              1,
              "#f0f921"
             ]
            ],
            "type": "histogram2dcontour"
           }
          ],
          "mesh3d": [
           {
            "colorbar": {
             "outlinewidth": 0,
             "ticks": ""
            },
            "type": "mesh3d"
           }
          ],
          "parcoords": [
           {
            "line": {
             "colorbar": {
              "outlinewidth": 0,
              "ticks": ""
             }
            },
            "type": "parcoords"
           }
          ],
          "pie": [
           {
            "automargin": true,
            "type": "pie"
           }
          ],
          "scatter": [
           {
            "fillpattern": {
             "fillmode": "overlay",
             "size": 10,
             "solidity": 0.2
            },
            "type": "scatter"
           }
          ],
          "scatter3d": [
           {
            "line": {
             "colorbar": {
              "outlinewidth": 0,
              "ticks": ""
             }
            },
            "marker": {
             "colorbar": {
              "outlinewidth": 0,
              "ticks": ""
             }
            },
            "type": "scatter3d"
           }
          ],
          "scattercarpet": [
           {
            "marker": {
             "colorbar": {
              "outlinewidth": 0,
              "ticks": ""
             }
            },
            "type": "scattercarpet"
           }
          ],
          "scattergeo": [
           {
            "marker": {
             "colorbar": {
              "outlinewidth": 0,
              "ticks": ""
             }
            },
            "type": "scattergeo"
           }
          ],
          "scattergl": [
           {
            "marker": {
             "colorbar": {
              "outlinewidth": 0,
              "ticks": ""
             }
            },
            "type": "scattergl"
           }
          ],
          "scattermapbox": [
           {
            "marker": {
             "colorbar": {
              "outlinewidth": 0,
              "ticks": ""
             }
            },
            "type": "scattermapbox"
           }
          ],
          "scatterpolar": [
           {
            "marker": {
             "colorbar": {
              "outlinewidth": 0,
              "ticks": ""
             }
            },
            "type": "scatterpolar"
           }
          ],
          "scatterpolargl": [
           {
            "marker": {
             "colorbar": {
              "outlinewidth": 0,
              "ticks": ""
             }
            },
            "type": "scatterpolargl"
           }
          ],
          "scatterternary": [
           {
            "marker": {
             "colorbar": {
              "outlinewidth": 0,
              "ticks": ""
             }
            },
            "type": "scatterternary"
           }
          ],
          "surface": [
           {
            "colorbar": {
             "outlinewidth": 0,
             "ticks": ""
            },
            "colorscale": [
             [
              0,
              "#0d0887"
             ],
             [
              0.1111111111111111,
              "#46039f"
             ],
             [
              0.2222222222222222,
              "#7201a8"
             ],
             [
              0.3333333333333333,
              "#9c179e"
             ],
             [
              0.4444444444444444,
              "#bd3786"
             ],
             [
              0.5555555555555556,
              "#d8576b"
             ],
             [
              0.6666666666666666,
              "#ed7953"
             ],
             [
              0.7777777777777778,
              "#fb9f3a"
             ],
             [
              0.8888888888888888,
              "#fdca26"
             ],
             [
              1,
              "#f0f921"
             ]
            ],
            "type": "surface"
           }
          ],
          "table": [
           {
            "cells": {
             "fill": {
              "color": "#EBF0F8"
             },
             "line": {
              "color": "white"
             }
            },
            "header": {
             "fill": {
              "color": "#C8D4E3"
             },
             "line": {
              "color": "white"
             }
            },
            "type": "table"
           }
          ]
         },
         "layout": {
          "annotationdefaults": {
           "arrowcolor": "#2a3f5f",
           "arrowhead": 0,
           "arrowwidth": 1
          },
          "autotypenumbers": "strict",
          "coloraxis": {
           "colorbar": {
            "outlinewidth": 0,
            "ticks": ""
           }
          },
          "colorscale": {
           "diverging": [
            [
             0,
             "#8e0152"
            ],
            [
             0.1,
             "#c51b7d"
            ],
            [
             0.2,
             "#de77ae"
            ],
            [
             0.3,
             "#f1b6da"
            ],
            [
             0.4,
             "#fde0ef"
            ],
            [
             0.5,
             "#f7f7f7"
            ],
            [
             0.6,
             "#e6f5d0"
            ],
            [
             0.7,
             "#b8e186"
            ],
            [
             0.8,
             "#7fbc41"
            ],
            [
             0.9,
             "#4d9221"
            ],
            [
             1,
             "#276419"
            ]
           ],
           "sequential": [
            [
             0,
             "#0d0887"
            ],
            [
             0.1111111111111111,
             "#46039f"
            ],
            [
             0.2222222222222222,
             "#7201a8"
            ],
            [
             0.3333333333333333,
             "#9c179e"
            ],
            [
             0.4444444444444444,
             "#bd3786"
            ],
            [
             0.5555555555555556,
             "#d8576b"
            ],
            [
             0.6666666666666666,
             "#ed7953"
            ],
            [
             0.7777777777777778,
             "#fb9f3a"
            ],
            [
             0.8888888888888888,
             "#fdca26"
            ],
            [
             1,
             "#f0f921"
            ]
           ],
           "sequentialminus": [
            [
             0,
             "#0d0887"
            ],
            [
             0.1111111111111111,
             "#46039f"
            ],
            [
             0.2222222222222222,
             "#7201a8"
            ],
            [
             0.3333333333333333,
             "#9c179e"
            ],
            [
             0.4444444444444444,
             "#bd3786"
            ],
            [
             0.5555555555555556,
             "#d8576b"
            ],
            [
             0.6666666666666666,
             "#ed7953"
            ],
            [
             0.7777777777777778,
             "#fb9f3a"
            ],
            [
             0.8888888888888888,
             "#fdca26"
            ],
            [
             1,
             "#f0f921"
            ]
           ]
          },
          "colorway": [
           "#636efa",
           "#EF553B",
           "#00cc96",
           "#ab63fa",
           "#FFA15A",
           "#19d3f3",
           "#FF6692",
           "#B6E880",
           "#FF97FF",
           "#FECB52"
          ],
          "font": {
           "color": "#2a3f5f"
          },
          "geo": {
           "bgcolor": "white",
           "lakecolor": "white",
           "landcolor": "#E5ECF6",
           "showlakes": true,
           "showland": true,
           "subunitcolor": "white"
          },
          "hoverlabel": {
           "align": "left"
          },
          "hovermode": "closest",
          "mapbox": {
           "style": "light"
          },
          "paper_bgcolor": "white",
          "plot_bgcolor": "#E5ECF6",
          "polar": {
           "angularaxis": {
            "gridcolor": "white",
            "linecolor": "white",
            "ticks": ""
           },
           "bgcolor": "#E5ECF6",
           "radialaxis": {
            "gridcolor": "white",
            "linecolor": "white",
            "ticks": ""
           }
          },
          "scene": {
           "xaxis": {
            "backgroundcolor": "#E5ECF6",
            "gridcolor": "white",
            "gridwidth": 2,
            "linecolor": "white",
            "showbackground": true,
            "ticks": "",
            "zerolinecolor": "white"
           },
           "yaxis": {
            "backgroundcolor": "#E5ECF6",
            "gridcolor": "white",
            "gridwidth": 2,
            "linecolor": "white",
            "showbackground": true,
            "ticks": "",
            "zerolinecolor": "white"
           },
           "zaxis": {
            "backgroundcolor": "#E5ECF6",
            "gridcolor": "white",
            "gridwidth": 2,
            "linecolor": "white",
            "showbackground": true,
            "ticks": "",
            "zerolinecolor": "white"
           }
          },
          "shapedefaults": {
           "line": {
            "color": "#2a3f5f"
           }
          },
          "ternary": {
           "aaxis": {
            "gridcolor": "white",
            "linecolor": "white",
            "ticks": ""
           },
           "baxis": {
            "gridcolor": "white",
            "linecolor": "white",
            "ticks": ""
           },
           "bgcolor": "#E5ECF6",
           "caxis": {
            "gridcolor": "white",
            "linecolor": "white",
            "ticks": ""
           }
          },
          "title": {
           "x": 0.05
          },
          "xaxis": {
           "automargin": true,
           "gridcolor": "white",
           "linecolor": "white",
           "ticks": "",
           "title": {
            "standoff": 15
           },
           "zerolinecolor": "white",
           "zerolinewidth": 2
          },
          "yaxis": {
           "automargin": true,
           "gridcolor": "white",
           "linecolor": "white",
           "ticks": "",
           "title": {
            "standoff": 15
           },
           "zerolinecolor": "white",
           "zerolinewidth": 2
          }
         }
        },
        "title": {
         "text": "Sensor Activity Over Time of Day"
        },
        "xaxis": {
         "tickformat": "%H:%M:%S",
         "title": {
          "text": "Time of Day"
         }
        },
        "yaxis": {
         "categoryorder": "total ascending",
         "title": {
          "text": "Sensor"
         }
        }
       }
      }
     },
     "metadata": {},
     "output_type": "display_data"
    }
   ],
   "source": [
    "\n",
    "df = pd.DataFrame(plot_data)\n",
    "df['start_time'] = pd.to_datetime(df['start_time'])\n",
    "df['end_time'] = pd.to_datetime(df['end_time'])\n",
    "\n",
    "df['start_time_of_day'] = df['start_time'].dt.time # I will not use it\n",
    "df['end_time_of_day'] = df['end_time'].dt.time # I will not use it because a sensor activation may go beyond a day, so date changes, so it is better to keep only start-time\n",
    "\n",
    "# Sort the DataFrame by both start_time and end_time\n",
    "df = df.sort_values(by=['start_time', 'end_time'])\n",
    "\n",
    "# Initialize the plot\n",
    "fig = go.Figure()\n",
    "\n",
    "# Add points to the plot\n",
    "for _, row in df.iterrows():\n",
    "    sensor = row['sensor']\n",
    "    color = color_map.get(sensor, 'black')\n",
    "    # Plot the start and end time points\n",
    "    fig.add_trace(go.Scatter(\n",
    "        x=[row['start_time'], row['end_time']],\n",
    "        y=[row['sensor'], row['sensor']],\n",
    "        mode='markers+lines',\n",
    "        marker=dict(size=8, color=color),\n",
    "        line=dict(width=1, color=color),\n",
    "        name=row['sensor'],\n",
    "        showlegend=False\n",
    "    ))\n",
    "\n",
    "# Update layout\n",
    "fig.update_layout(\n",
    "    title=\"Sensor Activity Over Time of Day\",\n",
    "    xaxis_title='Time of Day',\n",
    "    yaxis_title='Sensor',\n",
    "    xaxis=dict(tickformat='%H:%M:%S', title='Time of Day'),\n",
    "    yaxis=dict(title='Sensor', categoryorder='total ascending'),\n",
    "    showlegend=False\n",
    ")\n",
    "\n",
    "# Show plot\n",
    "fig.show()\n"
   ]
  },
  {
   "cell_type": "code",
   "execution_count": 131,
   "metadata": {},
   "outputs": [],
   "source": [
    "path = '/home/hubble/work/serenade/data/subject_3/environmentals/Stove_Hum_Temp_humidity.csv'\n",
    "df_shower_humidity = pd.read_csv(path)\n",
    "df_shower_humidity['ts'] = pd.to_datetime(df_shower_humidity['ts'], unit='ms')\n",
    "\n",
    "df_shower_humidity = df_shower_humidity.dropna(subset=['ts'])\n",
    "df_shower_humidity = df_shower_humidity[~df_shower_humidity['sensor_status'].isin(['unavailable', 'unknown'])]\n",
    "df_shower_humidity['sensor_status'] = pd.to_numeric(df_shower_humidity['sensor_status'], errors='coerce')\n",
    "\n",
    "peaks, df_shower_humidity = detect_peaks(df_shower_humidity, 'sensor_status', prominence_value = 3)\n",
    "df_shower_humidity = df_shower_humidity.rename(columns={'sensor_status': 'sensor_values', 'peak_detected': 'sensor_status'})\n",
    "# plot_data_with_peaks(df_shower_humidity, 'ts', 'sensor_values', peaks)\n",
    "\n",
    "filtered_df = filter_on_off_consecutive(df_shower_humidity)\n",
    "filtered_df = filtered_df.reset_index()\n",
    "filtered_df = process_sensor_data(filtered_df)"
   ]
  },
  {
   "cell_type": "code",
   "execution_count": 132,
   "metadata": {},
   "outputs": [],
   "source": [
    "path = '/home/hubble/work/serenade/data/subject_1/environmentals/Shower_Hum_Temp_temp.csv'\n",
    "df_shower_humidity = pd.read_csv(path)\n",
    "df_shower_humidity['ts'] = pd.to_datetime(df_shower_humidity['ts'], unit='ms')\n",
    "\n",
    "df_shower_humidity = df_shower_humidity.dropna(subset=['ts'])\n",
    "df_shower_humidity = df_shower_humidity[~df_shower_humidity['sensor_status'].isin(['unavailable', 'unknown'])]\n",
    "df_shower_humidity['sensor_status'] = pd.to_numeric(df_shower_humidity['sensor_status'], errors='coerce')\n",
    "\n",
    "peaks, df_shower_humidity = detect_peaks(df_shower_humidity, 'sensor_status', prominence_value = 1)\n",
    "# print(peaks)\n",
    "# plot_data_with_peaks(df_shower_humidity, 'ts', 'sensor_status', peaks)"
   ]
  },
  {
   "cell_type": "code",
   "execution_count": 133,
   "metadata": {},
   "outputs": [],
   "source": [
    "path = '/home/hubble/work/serenade/data/subject_2/environmentals/Hum_Temp_Bath_temp.csv'\n",
    "df_shower_humidity = pd.read_csv(path)\n",
    "df_shower_humidity['ts'] = pd.to_datetime(df_shower_humidity['ts'], unit='ms')\n",
    "\n",
    "df_shower_humidity = df_shower_humidity.dropna(subset=['ts'])\n",
    "df_shower_humidity = df_shower_humidity[~df_shower_humidity['sensor_status'].isin(['unavailable', 'unknown'])]\n",
    "df_shower_humidity['sensor_status'] = pd.to_numeric(df_shower_humidity['sensor_status'], errors='coerce')\n",
    "\n",
    "peaks, df_shower_humidity = detect_peaks(df_shower_humidity, 'sensor_status', prominence_value = 0.8)\n",
    "# plot_data_with_peaks(df_shower_humidity, 'ts', 'sensor_status', peaks)"
   ]
  },
  {
   "cell_type": "code",
   "execution_count": 125,
   "metadata": {},
   "outputs": [],
   "source": [
    "# Step 1: Read the file HomeEntrance.csv\n",
    "# Step 2: Identify the current door close time and the next door open time\n",
    "# Step 3: If no sensor is activated within the window obtained from Step 2, the person is 'probably outside the home'\n",
    "# Note: The time duration between the current door close and the next door open event is crucial. If the duration is very short, it is possible that the subject opened the door just to attend to a visitor.\n"
   ]
  },
  {
   "cell_type": "code",
   "execution_count": 10,
   "metadata": {},
   "outputs": [
    {
     "name": "stdout",
     "output_type": "stream",
     "text": [
      "--------- 0 ---------- CoffeMachine.csv\n",
      "--------- 1 ---------- Dishes_Glasses.csv\n",
      "--------- 2 ---------- FoodStorageKitchen.csv\n",
      "--------- 3 ---------- FoodStorageLivingRoom.csv\n",
      "--------- 4 ---------- Freezer.csv\n",
      "--------- 5 ---------- HouseEntrance.csv\n",
      "--------- 6 ---------- Medicines.csv\n",
      "--------- 7 ---------- Microwave.csv\n",
      "--------- 8 ---------- MotionBedroom.csv\n",
      "--------- 9 ---------- MotionKitchen.csv\n",
      "--------- 10 ---------- MotionLivingRoomSofa.csv\n",
      "--------- 11 ---------- MotionLivingRoomTablet.csv\n",
      "--------- 12 ---------- MotionPrimaryBathroom.csv\n",
      "--------- 13 ---------- MotionSecondaryBathroom.csv\n",
      "--------- 14 ---------- PlugTvHall.csv\n",
      "--------- 15 ---------- Printer.csv\n",
      "--------- 16 ---------- Refrigerator.csv\n",
      "--------- 17 ---------- Shower_Hum_Temp_humidity.csv\n",
      "--------- 18 ---------- Shower_Hum_Temp_temp.csv\n",
      "--------- 19 ---------- Stove_Hum_Temp_humidity.csv\n",
      "--------- 20 ---------- Stove_Hum_Temp_temp.csv\n"
     ]
    }
   ],
   "source": [
    "for i in range(len(cleaned_data)):\n",
    "    sensor_name = cleaned_data[i]['sensor']\n",
    "    print('---------',i,'----------', sensor_name)"
   ]
  },
  {
   "cell_type": "code",
   "execution_count": 12,
   "metadata": {},
   "outputs": [
    {
     "name": "stdout",
     "output_type": "stream",
     "text": [
      "-------> 2023-09-25\n",
      "-------> 2023-09-26\n",
      "-------> 2023-09-27\n",
      "-------> 2023-09-28\n",
      "-------> 2023-09-29\n",
      "-------> 2023-09-30\n",
      "-------> 2023-10-01\n",
      "-------> 2023-10-02\n",
      "-------> 2023-10-03\n",
      "-------> 2023-10-04\n"
     ]
    }
   ],
   "source": [
    "## Howmany times a device was interacted by the subject on a given date\n",
    "## When there is no food preparation in the house\n",
    "## Pick a date and count the out-events\n",
    "\n",
    "house_entrance_df = cleaned_data[5] ## maindoor of the house\n",
    "temp_df = house_entrance_df['filtered_df'].copy()\n",
    "## Extract the unique dates\n",
    "temp_df['date'] = temp_df['ts_on'].dt.date\n",
    "dates = temp_df['date'].unique()\n",
    "\n",
    "for i in range(10):#len(dates)):\n",
    "    date = dates[i]\n",
    "    print('------->',date)\n",
    "    first_rows = temp_df.groupby('date').first().reset_index() # Pick the first row of each unique date\n",
    "    last_rows = temp_df.groupby('date').last().reset_index() # Pick the last row of each unique date\n",
    "    # select the date specific data\n",
    "    first_row = first_rows[first_rows['date'] == date] \n",
    "    last_row = last_rows[last_rows['date'] == date]\n",
    "    current_off_time = first_row['ts_off'].iloc[0]\n",
    "    next_on_time = last_row['ts_on'].iloc[0]\n",
    "    time_difference = next_on_time - current_off_time\n",
    "    sensor_and_activation = []\n",
    "    for j in range(len(cleaned_data)):\n",
    "        if j == -5:\n",
    "            continue\n",
    "        sensor = cleaned_data[j]['sensor']\n",
    "        current_data = cleaned_data[j]['filtered_df']\n",
    "        if current_off_time.date() == next_on_time.date():\n",
    "            # If date is same for both values of window\n",
    "            filtered_data = filter_data_for_date(current_data, current_off_time.date())\n",
    "        else:\n",
    "            # If date is different for both values of window\n",
    "            # In this case concat the data for both dates\n",
    "            filtered_data_current_date = filter_data_for_date(current_data, current_off_time.date())\n",
    "            filtered_data_next_date = filter_data_for_date(current_data, next_on_time.date())\n",
    "            filtered_data = pd.concat([filtered_data_current_date, filtered_data_next_date], ignore_index=True)\n",
    "        # print(sensor, len(filtered_data))\n",
    "        sensor_and_activation.append({'senosr':sensor, 'activation_count':len(filtered_data)})\n",
    "\n",
    "    # Extract sensor names and their activation counts and plot it\n",
    "    sensors = [item['senosr'] for item in sensor_and_activation]\n",
    "    activation_counts = [item['activation_count'] for item in sensor_and_activation]\n",
    "\n",
    "#     fig = go.Figure(data=[go.Bar(x=sensors, y=activation_counts)])\n",
    "#     fig.update_layout(\n",
    "#         title='Sensor Activation Counts',\n",
    "#         xaxis_title='Sensors',\n",
    "#         yaxis_title='Activation Count',\n",
    "#         xaxis_tickangle=-90,\n",
    "#         template='plotly_white'\n",
    "#     )\n",
    "\n",
    "#     fig.add_annotation(\n",
    "#     xref='paper', yref='paper',  # Use paper coordinates (relative to the plotting area)\n",
    "#     x=0.5, y=1.5,  # Position the annotation\n",
    "#     text=f\"Date: {date}\",  # Text to display\n",
    "#     showarrow=False,  # No arrow for the annotation\n",
    "#     font=dict(size=14, color=\"black\"),\n",
    "#     align=\"center\"\n",
    "# )\n",
    "#     fig.show()\n",
    "\n"
   ]
  },
  {
   "cell_type": "code",
   "execution_count": 129,
   "metadata": {},
   "outputs": [],
   "source": [
    "## howmany time the subject was outside or probably outside of house?\n",
    "\n",
    "house_entrance_df = cleaned_data[5]\n",
    "for i in range(1,len(house_entrance_df['filtered_df'])):\n",
    "    current_off_time = house_entrance_df['filtered_df'].iloc[i-1]['ts_off']\n",
    "    next_on_time = house_entrance_df['filtered_df'].iloc[i]['ts_on']\n",
    "    time_difference = next_on_time - current_off_time\n",
    "    # print_statement = f\"The following sensors were activated between {next_on_time}-{current_off_time} = {time_difference}------>\"\n",
    "    # print(print_statement)\n",
    "\n",
    "    activated_sensors = []\n",
    "    for j in range(len(cleaned_data)):\n",
    "        if j == 5:\n",
    "            continue        \n",
    "        sensor = cleaned_data[j]['sensor']\n",
    "        current_data = cleaned_data[j]['filtered_df']\n",
    "        if current_off_time.date() == next_on_time.date():\n",
    "            # If date is same for both values of window\n",
    "            filtered_data = filter_data_for_date(current_data, current_off_time.date())\n",
    "        else:\n",
    "            # If date is different for both values of window\n",
    "            # In this case concat the data for both dates\n",
    "            filtered_data_current_date = filter_data_for_date(current_data, current_off_time.date())\n",
    "            filtered_data_next_date = filter_data_for_date(current_data, next_on_time.date())\n",
    "            filtered_data = pd.concat([filtered_data_current_date, filtered_data_next_date], ignore_index=True)\n",
    "\n",
    "        # activated_sensors.append({'sensor':sensor, 'filtered_data':filtered_data})\n",
    "        filtered = filter_sensors_by_window(filtered_data, current_off_time, next_on_time)\n",
    "        # print(filtered)\n",
    "        if not filtered.empty:\n",
    "            activated_sensors.append({'sensor':sensor, 'relevent_row':filtered})#,'filtered_data':filtered_data})\n",
    "\n",
    "    if len(activated_sensors) == 0:\n",
    "        print_statement = f\"No sensors were activated between {next_on_time}-{current_off_time} = {time_difference}------>\"\n",
    "        print(print_statement)   \n",
    "    "
   ]
  },
  {
   "cell_type": "code",
   "execution_count": null,
   "metadata": {},
   "outputs": [],
   "source": []
  },
  {
   "cell_type": "code",
   "execution_count": 170,
   "metadata": {},
   "outputs": [
    {
     "name": "stdout",
     "output_type": "stream",
     "text": [
      "CoffeMachine.csv\n",
      "Dishes_Glasses.csv\n",
      "FoodStorageKitchen.csv\n",
      "FoodStorageLivingRoom.csv\n",
      "Freezer.csv\n",
      "HouseEntrance.csv\n",
      "Medicines.csv\n",
      "Microwave.csv\n",
      "MotionBedroom.csv\n",
      "MotionKitchen.csv\n",
      "MotionLivingRoomSofa.csv\n",
      "MotionLivingRoomTablet.csv\n",
      "MotionPrimaryBathroom.csv\n",
      "MotionSecondaryBathroom.csv\n",
      "PlugTvHall.csv\n",
      "Printer.csv\n",
      "Refrigerator.csv\n",
      "Shower_Hum_Temp_humidity.csv\n",
      "Shower_Hum_Temp_temp.csv\n",
      "Stove_Hum_Temp_humidity.csv\n",
      "Stove_Hum_Temp_temp.csv\n"
     ]
    }
   ],
   "source": [
    "house_entrance_df = cleaned_data[5]\n",
    "ws = pd.to_datetime('2023-09-25 12:49:18.709000')\n",
    "we = ws + pd.Timedelta(minutes=10)\n",
    "a = []\n",
    "for i in range(len(cleaned_data)):\n",
    "    sensor_name = cleaned_data[i]['sensor']\n",
    "    sensor_df = cleaned_data[i]['filtered_df']\n",
    "    print(sensor_name)#,'\\n', sensor_df.head())\n",
    "    subset_df = sensor_df[(sensor_df['ts_on'] <= we) & (sensor_df['ts_off'] >= ws)]\n",
    "\n",
    "    time_series = pd.date_range(start=ws, end=we, freq='T')\n",
    "    vector = np.zeros(len(time_series))\n",
    "\n",
    "    for j, current_time in enumerate(time_series):\n",
    "        for _, row in subset_df.iterrows():\n",
    "            if row['ts_on'] <= current_time < row['ts_off']:\n",
    "                vector[j] = 1\n",
    "                break\n",
    "    \n",
    "    a.append({sensor_name:vector})"
   ]
  },
  {
   "cell_type": "code",
   "execution_count": 181,
   "metadata": {},
   "outputs": [
    {
     "name": "stdout",
     "output_type": "stream",
     "text": [
      "Unique CSV files across all folders:\n",
      "CoffeMachine.csv\n",
      "CoffeMachine_events.csv\n",
      "Cookware.csv\n",
      "Dishes.csv\n",
      "Dishes_Glasses.csv\n",
      "Dishes_Silverware.csv\n",
      "FoodStorage.csv\n",
      "FoodStorageKitchen.csv\n",
      "FoodStorageLivingRoom.csv\n",
      "Freezer.csv\n",
      "HouseEntrance.csv\n",
      "Hum_Temp_Bath_humidity.csv\n",
      "Hum_Temp_Bath_temp.csv\n",
      "Hum_Temp_Stove_humidity.csv\n",
      "Hum_Temp_Stove_temp.csv\n",
      "Medicines.csv\n",
      "Microwave.csv\n",
      "Microwave_events.csv\n",
      "MotionBathroom.csv\n",
      "MotionBedroom.csv\n",
      "MotionDiningTable.csv\n",
      "MotionGuestRoom.csv\n",
      "MotionKitchen.csv\n",
      "MotionLivingRoomSofa.csv\n",
      "MotionLivingRoomTablet.csv\n",
      "MotionLivingroom.csv\n",
      "MotionOffice.csv\n",
      "MotionOtherRoom.csv\n",
      "MotionOtherroom.csv\n",
      "MotionPrimaryBathroom.csv\n",
      "MotionSecondaryBathroom.csv\n",
      "PlugTvHall.csv\n",
      "PlugTvHall_events.csv\n",
      "PlugTvKitchen.csv\n",
      "Printer.csv\n",
      "Refrigerator.csv\n",
      "Shower_Hum_Temp_humidity.csv\n",
      "Shower_Hum_Temp_temp.csv\n",
      "Silverware.csv\n",
      "Stove_Hum_Temp_humidity.csv\n",
      "Stove_Hum_Temp_temp.csv\n",
      "WashingMachine.csv\n",
      "printer_events.csv\n",
      "washingMachine_events.csv\n"
     ]
    }
   ],
   "source": [
    "import os\n",
    "\n",
    "# Define the base directory\n",
    "base_dir = '/home/hubble/work/serenade/data'\n",
    "\n",
    "# Initialize a set to collect unique filenames\n",
    "unique_files = set()\n",
    "\n",
    "# Traverse the base directory\n",
    "for subject_folder in os.listdir(base_dir):\n",
    "    subject_path = os.path.join(base_dir, subject_folder)\n",
    "    \n",
    "    # Check if it's a directory (i.e., a subject folder)\n",
    "    if os.path.isdir(subject_path):\n",
    "        # Look for the 'environmentals' folder inside the subject folder\n",
    "        environmentals_path = os.path.join(subject_path, 'environmentals')\n",
    "        \n",
    "        if os.path.isdir(environmentals_path):\n",
    "            # List all CSV files in the 'environmentals' folder\n",
    "            for file_name in os.listdir(environmentals_path):\n",
    "                if file_name.endswith('.csv'):\n",
    "                    # Add to the set of unique files\n",
    "                    unique_files.add(file_name)\n",
    "\n",
    "# Print the unique filenames\n",
    "print(\"Unique CSV files across all folders:\")\n",
    "for file_name in sorted(unique_files):\n",
    "    print(file_name)\n"
   ]
  },
  {
   "cell_type": "code",
   "execution_count": 198,
   "metadata": {},
   "outputs": [
    {
     "name": "stdout",
     "output_type": "stream",
     "text": [
      "11 \t Stove_Hum_Temp_temp.csv\n",
      "12 \t Printer.csv\n",
      "13 \t PlugTvHall.csv\n",
      "15 \t HouseEntrance.csv\n",
      "18 \t MotionKitchen.csv\n",
      "21 \t MotionSecondaryBathroom.csv\n",
      "22 \t MotionBedroom.csv\n",
      "23 \t Shower_Hum_Temp_humidity.csv\n",
      "24 \t MotionLivingRoomSofa.csv\n",
      "25 \t Medicines.csv\n",
      "27 \t FoodStorageKitchen.csv\n",
      "29 \t Freezer.csv\n",
      "30 \t FoodStorageLivingRoom.csv\n",
      "31 \t Shower_Hum_Temp_temp.csv\n",
      "34 \t Stove_Hum_Temp_humidity.csv\n",
      "35 \t CoffeMachine.csv\n",
      "36 \t Dishes_Glasses.csv\n",
      "38 \t MotionLivingRoomTablet.csv\n",
      "39 \t MotionPrimaryBathroom.csv\n",
      "40 \t Refrigerator.csv\n",
      "42 \t Microwave.csv\n"
     ]
    }
   ],
   "source": [
    "data_path = '/home/hubble/work/serenade/data'\n",
    "subjects = ['subject_1','subject_2','subject_3','subject_4','subject_5','subject_7','subject_8']\n",
    "\n",
    "unwanted_values = ['unavailable', 'unknown']\n",
    "skip_substrings = ['event', 'HousejkjlEntrance']\n",
    "\n",
    "sensor_files = list(unique_files)\n",
    "for i  in range(2,3):#len(subjects)):\n",
    "    subject_i = subjects[i]\n",
    "    subject_data_path = os.path.join(data_path,subject_i,'environmentals')\n",
    "    \n",
    "    for j in range(len(sensor_files)):\n",
    "        sensor = sensor_files[j]\n",
    "        if any(substring in sensor for substring in skip_substrings):\n",
    "            # print(j, '\\t', sensor, '--XXXXX--')\n",
    "            continue\n",
    "        else:\n",
    "            file_path = os.path.join(subject_data_path,sensor)\n",
    "            try:\n",
    "                # Attempt to read the CSV file\n",
    "                df_sensor = pd.read_csv(file_path)\n",
    "                # print(\"File read successfully.\")\n",
    "            except FileNotFoundError:\n",
    "                # Handle the case where the file does not exist\n",
    "                # print(f\"File not found: {file_path}\")\n",
    "                df_sensor = pd.DataFrame()  # Create an empty DataFrame or handle as needed\n",
    "            except Exception as e:\n",
    "                # Handle other potential exceptions\n",
    "                # print(f\"An error occurred: {e}\")\n",
    "                df_sensor = pd.DataFrame()  # Create an empty DataFrame or handle as needed\n",
    "            \n",
    "            if not df_sensor.empty:\n",
    "                print(j, '\\t', sensor)\n",
    "    \n",
    "\n"
   ]
  },
  {
   "cell_type": "code",
   "execution_count": 186,
   "metadata": {},
   "outputs": [
    {
     "data": {
      "text/plain": [
       "{'CoffeMachine.csv',\n",
       " 'CoffeMachine_events.csv',\n",
       " 'Cookware.csv',\n",
       " 'Dishes.csv',\n",
       " 'Dishes_Glasses.csv',\n",
       " 'Dishes_Silverware.csv',\n",
       " 'FoodStorage.csv',\n",
       " 'FoodStorageKitchen.csv',\n",
       " 'FoodStorageLivingRoom.csv',\n",
       " 'Freezer.csv',\n",
       " 'HouseEntrance.csv',\n",
       " 'Hum_Temp_Bath_humidity.csv',\n",
       " 'Hum_Temp_Bath_temp.csv',\n",
       " 'Hum_Temp_Stove_humidity.csv',\n",
       " 'Hum_Temp_Stove_temp.csv',\n",
       " 'Medicines.csv',\n",
       " 'Microwave.csv',\n",
       " 'Microwave_events.csv',\n",
       " 'MotionBathroom.csv',\n",
       " 'MotionBedroom.csv',\n",
       " 'MotionDiningTable.csv',\n",
       " 'MotionGuestRoom.csv',\n",
       " 'MotionKitchen.csv',\n",
       " 'MotionLivingRoomSofa.csv',\n",
       " 'MotionLivingRoomTablet.csv',\n",
       " 'MotionLivingroom.csv',\n",
       " 'MotionOffice.csv',\n",
       " 'MotionOtherRoom.csv',\n",
       " 'MotionOtherroom.csv',\n",
       " 'MotionPrimaryBathroom.csv',\n",
       " 'MotionSecondaryBathroom.csv',\n",
       " 'PlugTvHall.csv',\n",
       " 'PlugTvHall_events.csv',\n",
       " 'PlugTvKitchen.csv',\n",
       " 'Printer.csv',\n",
       " 'Refrigerator.csv',\n",
       " 'Shower_Hum_Temp_humidity.csv',\n",
       " 'Shower_Hum_Temp_temp.csv',\n",
       " 'Silverware.csv',\n",
       " 'Stove_Hum_Temp_humidity.csv',\n",
       " 'Stove_Hum_Temp_temp.csv',\n",
       " 'WashingMachine.csv',\n",
       " 'printer_events.csv',\n",
       " 'washingMachine_events.csv'}"
      ]
     },
     "execution_count": 186,
     "metadata": {},
     "output_type": "execute_result"
    }
   ],
   "source": [
    "unique_files"
   ]
  },
  {
   "cell_type": "code",
   "execution_count": null,
   "metadata": {},
   "outputs": [],
   "source": [
    "# data =pd.read_csv('/home/hubble/work/serenade/data/subject_3/environmentals/Shower_Hum_Temp_humidity.csv')\n",
    "# df = pd.DataFrame(data)\n",
    "# for size in [5, 15,  30, 60, 120, 150, 180, 210, 240, 270, 300]:\n",
    "#     plot_tsne(size, df)"
   ]
  },
  {
   "cell_type": "code",
   "execution_count": null,
   "metadata": {},
   "outputs": [],
   "source": [
    "# path_subject_3 = '/home/hubble/work/serenade/data/subject_3/environmentals/'\n",
    "# skip_substrings = ['event', 'houseentrance']\n",
    "# formatted_sensors_data = []\n",
    "# sensors_data = sorted(os.listdir(path_subject_3))\n",
    "# for i in range(len(sensors_data)):\n",
    "#     sensor_name = sensors_data[i].lower()\n",
    "#     if any(substring in sensor_name for substring in skip_substrings):\n",
    "#         print(sensor_name, '----XXXX')\n",
    "#         continue\n",
    "#     else:\n",
    "#         # read the csv file and remove bad values\n",
    "#         # format it correctly\n",
    "#         df_cleaned, arr_cleaned = remove_unknown_unavailable(os.path.join(path_subject_3,sensors_data[i]))\n",
    "#         print(sensor_name)\n",
    "#         print(df_cleaned)\n",
    "#         df_processed = process_sensor_data(df_cleaned)  \n",
    "#         formatted_sensors_data.append({'sensor_name':sensor_name, 'df_processed':df_processed})\n",
    "#         print('-------------------')"
   ]
  }
 ],
 "metadata": {
  "kernelspec": {
   "display_name": "sudokutf",
   "language": "python",
   "name": "python3"
  },
  "language_info": {
   "codemirror_mode": {
    "name": "ipython",
    "version": 3
   },
   "file_extension": ".py",
   "mimetype": "text/x-python",
   "name": "python",
   "nbconvert_exporter": "python",
   "pygments_lexer": "ipython3",
   "version": "3.9.18"
  }
 },
 "nbformat": 4,
 "nbformat_minor": 2
}
