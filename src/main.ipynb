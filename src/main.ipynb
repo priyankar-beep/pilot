{
 "cells": [
  {
   "cell_type": "code",
   "execution_count": 1,
   "metadata": {},
   "outputs": [],
   "source": [
    "import pandas as pd, numpy as np, os\n",
    "pd.options.mode.chained_assignment = None  # default='warn'\n",
    "import seaborn as sns\n",
    "import matplotlib.pyplot as plt\n",
    "import plotly.express as px\n",
    "import plotly.graph_objects as go\n",
    "from datetime import datetime\n",
    "from scipy.signal import find_peaks\n",
    "from sklearn.manifold import TSNE"
   ]
  },
  {
   "cell_type": "code",
   "execution_count": 16,
   "metadata": {},
   "outputs": [],
   "source": [
    "def remove_unknown_unavailable(data_path):\n",
    "    df = pd.read_csv(data_path)\n",
    "    unwanted_values = ['unavailable', 'unknown']\n",
    "    df.replace(unwanted_values, np.nan, inplace=True)\n",
    "    df_cleaned = df.dropna().copy()\n",
    "    \n",
    "    for i in reversed(list(df_cleaned.index)[1:]):\n",
    "        # Compare the current row's sensor status with the previous row's sensor status\n",
    "        if df_cleaned.loc[i].sensor_status == df_cleaned.iloc[df_cleaned.index.get_loc(i)-1].sensor_status:\n",
    "            # Drop the current row if the statuses match\n",
    "            df_cleaned.drop([i], inplace=True)\n",
    "            \n",
    "    np_array = np.array(df_cleaned, dtype='object')\n",
    "    return df_cleaned, np_array\n",
    "\n",
    "def get_available_months_years(np_array, column_number_with_time = 2):\n",
    "    timestamps = np_array[:, column_number_with_time].astype(int)\n",
    "    datetime_values = [datetime.fromtimestamp(ts / 1000) for ts in timestamps]\n",
    "    dates = pd.to_datetime(datetime_values)\n",
    "    periods = dates.to_period('M')\n",
    "    unique_periods = np.unique(periods)\n",
    "    return unique_periods\n",
    "\n",
    "def extract_monthly_data(np_array, target_month = '2024-03'):\n",
    "    df = pd.DataFrame(np_array, columns=['sensor_id', 'value', 'timestamp', 'subject_id'])\n",
    "    df['timestamp'] = pd.to_datetime(df['timestamp'].astype(int), unit='ms')\n",
    "    target_period = pd.Period(target_month, freq='M')\n",
    "    df.set_index('timestamp', inplace=True)\n",
    "    filtered_df = df[df.index.to_period('M') == target_period]\n",
    "    indices = filtered_df.index\n",
    "    filtered_np_array = filtered_df.reset_index().values\n",
    "    return filtered_df, indices, filtered_np_array\n",
    "\n",
    "def filter_on_off_consecutive(df):\n",
    "    valid_indices = []\n",
    "    for i in range(len(df) - 1):\n",
    "        if df.loc[i, 'sensor_status'] == 'on' and df.loc[i + 1, 'sensor_status'] == 'off':\n",
    "            valid_indices.append(i)\n",
    "            valid_indices.append(i + 1)\n",
    "\n",
    "    filtered_df = df.iloc[valid_indices]\n",
    "\n",
    "    return filtered_df\n",
    "\n",
    "def process_sensor_data(df):\n",
    "    unique_statuses = df['sensor_status'].unique()\n",
    "    valid_statuses = {'on', 'off'}\n",
    "    \n",
    "    if not set(unique_statuses).issubset(valid_statuses):\n",
    "        # If there are other statuses present, return the original DataFrame\n",
    "        print(\"Sensor status contains values other than 'on' and 'off'. Returning original DataFrame.\")\n",
    "        df['ts'] = pd.to_datetime(df['ts'], unit='ms')\n",
    "        df['ts'] = df['ts'].dt.strftime('%Y-%m-%d %H:%M:%S.%f')\n",
    "        return df\n",
    "    # Check if the first row's sensor_status is 'off', and remove it if true because I want to start my analysis from ON\n",
    "    if df.iloc[0]['sensor_status'] == 'off':\n",
    "        df = df.iloc[1:].reset_index(drop=True)\n",
    "\n",
    "    # Create masks for filtering 'on' and 'off' statuses\n",
    "    mask_on = df['sensor_status'] == 'on'\n",
    "    mask_off = df['sensor_status'] == 'off'\n",
    "\n",
    "    # Separate DataFrames for 'on' and 'off' statuses\n",
    "    df_on = df[mask_on].copy()\n",
    "    df_off = df[mask_off].copy()\n",
    "\n",
    "    # Rename timestamp columns\n",
    "    df_on.rename(columns={'ts': 'ts_on'}, inplace=True)\n",
    "    df_off.rename(columns={'ts': 'ts_off'}, inplace=True)\n",
    "\n",
    "    # Reset index for merging\n",
    "    df_on.reset_index(drop=True, inplace=True)\n",
    "    df_off.reset_index(drop=True, inplace=True)\n",
    "\n",
    "    # concatenate 'on' and 'off' DataFrames based on index\n",
    "    df_conc = pd.merge(df_on, df_off[['ts_off']], left_index=True, right_index=True)\n",
    "\n",
    "    # Calculate duration\n",
    "    df_conc['duration_ms'] = df_conc['ts_off'] - df_conc['ts_on']\n",
    "\n",
    "    # Convert timestamps to datetime\n",
    "    df_conc['ts_on'] = pd.to_datetime(df_conc['ts_on'], unit='ms')\n",
    "    df_conc['ts_off'] = pd.to_datetime(df_conc['ts_off'], unit='ms')\n",
    "    \n",
    "    # Reorder columns\n",
    "    df_conc = df_conc[['sensor_id', 'subject_id', 'sensor_status', 'ts_on', 'ts_off', 'duration_ms']]\n",
    "    \n",
    "    return df_conc\n",
    "\n",
    "def time_current_off_and_next_on(df):\n",
    "    results = []\n",
    "    for i in range(len(df)-1):\n",
    "        ts_off = df.loc[i, 'ts_off']\n",
    "        next_ts_on = df.loc[i + 1, 'ts_on']\n",
    "        results.append({'ts_off': ts_off, 'next_ts_on': next_ts_on, 'difference': np.abs(next_ts_on - ts_off)})\n",
    "    return results\n",
    "\n",
    "def detect_peaks(df, value_col, prominence_value):\n",
    "    peaks, properties = find_peaks(df[value_col], prominence=prominence_value)\n",
    "    # print(f\"Number of peaks found: {len(peaks)}\")\n",
    "\n",
    "    # peak_indicator = np.zeros(len(df), dtype=int)\n",
    "    # peak_indicator[peaks] = 1\n",
    "\n",
    "    peak_indicator = ['off'] * len(df)\n",
    "    for peak in peaks:\n",
    "        if peak < len(peak_indicator):\n",
    "            peak_indicator[peak] = 'on'\n",
    "    df['peak_detected'] = peak_indicator\n",
    "\n",
    "    return peaks,df\n",
    "\n",
    "def plot_data_with_peaks(df, time_col, value_col, peaks):\n",
    "    df[time_col] = pd.to_datetime(df[time_col], unit='ms')\n",
    "    df_peaks = df.iloc[peaks]    \n",
    "    fig = px.line(df, x=time_col, y=value_col, title='Data with Peaks')\n",
    "    fig.add_trace(\n",
    "        go.Scatter(\n",
    "            x=df_peaks[time_col],\n",
    "            y=df_peaks[value_col],\n",
    "            mode='markers',\n",
    "            name='Peaks',\n",
    "            marker=dict(color='red', size=10, symbol='x')\n",
    "        )\n",
    "    )\n",
    "    fig.update_layout(\n",
    "        xaxis_title='Timestamp',\n",
    "        yaxis_title='Value',\n",
    "        legend_title='Legend',\n",
    "        template='plotly_white'\n",
    "    )\n",
    "    fig.update_yaxes(range=[df[value_col].min() - 1, df[value_col].max() + 1])\n",
    "    fig.show()\n",
    "\n",
    "\n",
    "def filter_sensors_by_window(df, start_time, end_time):\n",
    "    # Convert 'ts_on' and 'ts_off' to datetime if they aren't already\n",
    "    df['ts_on'] = pd.to_datetime(df['ts_on'])\n",
    "    df['ts_off'] = pd.to_datetime(df['ts_off'])\n",
    "    \n",
    "    # Convert start_time and end_time to datetime\n",
    "    start_time = pd.to_datetime(start_time)\n",
    "    end_time = pd.to_datetime(end_time)\n",
    "    \n",
    "    # Filter rows where the sensor was active in the window\n",
    "    active_sensors = df[((df['ts_on'] <= end_time) & (df['ts_off'] >= start_time))]\n",
    "    \n",
    "    return active_sensors\n",
    "\n",
    "def filter_data_for_date(df, date_str):\n",
    "    date = pd.to_datetime(date_str)\n",
    "    filtered_df = df[(df['ts_on'].dt.date == date.date()) | (df['ts_off'].dt.date == date.date())]\n",
    "    # filtered_df = df.loc[(df['ts_on'].dt.date == date) | (df['ts_off'].dt.date == date)]\n",
    "\n",
    "    if filtered_df.empty:\n",
    "        # print(f\"No data found for the date: {date_str}\")\n",
    "        return filtered_df\n",
    "    else:\n",
    "        return filtered_df\n",
    "    \n",
    "def prepare_plot_data(date_specific_data):\n",
    "    plot_data = []\n",
    "    \n",
    "    for entry in date_specific_data:\n",
    "        sensor_name = entry['sensor']\n",
    "        sensor_data = entry['data']\n",
    "        \n",
    "        if not sensor_data.empty:\n",
    "            # Extracting the active periods\n",
    "            for index, row in sensor_data.iterrows():\n",
    "                plot_data.append({\n",
    "                    'sensor': sensor_name,\n",
    "                    'start_time': row['ts_on'],\n",
    "                    'end_time': row['ts_off']\n",
    "                })\n",
    "    \n",
    "    return pd.DataFrame(plot_data)\n",
    "\n",
    "def plot_tsne(sample_size, data):\n",
    "    # Aggregate data into samples\n",
    "    aggregated_data = []\n",
    "    for i in range(0, len(data), sample_size):\n",
    "        sample = data[i:i+sample_size]\n",
    "        if len(sample) == sample_size:\n",
    "            aggregated_data.append(sample['sensor_status'].values)\n",
    "    aggregated_data = np.array(aggregated_data)\n",
    "    \n",
    "    # Apply t-SNE\n",
    "    tsne = TSNE(n_components=2, perplexity=5, random_state=0)\n",
    "    tsne_results = tsne.fit_transform(aggregated_data)\n",
    "    \n",
    "    # Plot the t-SNE results\n",
    "    plt.figure(figsize=(12, 8))\n",
    "    plt.scatter(tsne_results[:, 0], tsne_results[:, 1], cmap='viridis', alpha=0.6)\n",
    "    plt.colorbar(label='Sensor Status')\n",
    "    plt.xlabel('t-SNE Feature 1')\n",
    "    plt.ylabel('t-SNE Feature 2')\n",
    "    plt.title(f't-SNE Plot with Sample Size {sample_size}')\n",
    "    plt.show()\n",
    "\n",
    "def remove_unknown_unavailable_v2(df):\n",
    "    unwanted_values = ['unavailable', 'unknown']\n",
    "    df.replace(unwanted_values, np.nan, inplace=True)\n",
    "    df_cleaned = df.dropna().copy()\n",
    "    \n",
    "    for i in reversed(list(df_cleaned.index)[1:]):\n",
    "        # Compare the current row's sensor status with the previous row's sensor status\n",
    "        if df_cleaned.loc[i].sensor_status == df_cleaned.iloc[df_cleaned.index.get_loc(i)-1].sensor_status:\n",
    "            # Drop the current row if the statuses match\n",
    "            df_cleaned.drop([i], inplace=True)\n",
    "            \n",
    "    np_array = np.array(df_cleaned, dtype='object')\n",
    "    return df_cleaned, np_array"
   ]
  },
  {
   "cell_type": "code",
   "execution_count": null,
   "metadata": {},
   "outputs": [],
   "source": [
    "# data_path = '/home/hubble/work/serenade/data/subject_3/environmentals/Stove_Hum_Temp_temp.csv'\n",
    "# cleaned_df, cleaned_array = remove_unknown_unavailable(data_path)\n",
    "# available_months = get_available_months_years(cleaned_array, column_number_with_time = 2)\n",
    "# target_month = '2024-03'\n",
    "# df_month,indices, array_month = extract_monthly_data(cleaned_array, target_month)\n",
    "# timestamps = array_month[:, 0]\n",
    "# values = array_month[:, 2].astype(float)"
   ]
  },
  {
   "cell_type": "markdown",
   "metadata": {},
   "source": [
    "# Prepare the clean data <sensor_name and dataframe pair>"
   ]
  },
  {
   "cell_type": "code",
   "execution_count": 3,
   "metadata": {},
   "outputs": [
    {
     "name": "stdout",
     "output_type": "stream",
     "text": [
      "0 \t CoffeMachine.csv\n",
      "1 \t CoffeMachine_events.csv --XXXXX--\n",
      "2 \t Dishes_Glasses.csv\n",
      "3 \t FoodStorageKitchen.csv\n",
      "4 \t FoodStorageLivingRoom.csv\n",
      "5 \t Freezer.csv\n",
      "6 \t HouseEntrance.csv\n",
      "7 \t Medicines.csv\n",
      "8 \t Microwave.csv\n",
      "9 \t Microwave_events.csv --XXXXX--\n",
      "10 \t MotionBedroom.csv\n",
      "11 \t MotionKitchen.csv\n",
      "12 \t MotionLivingRoomSofa.csv\n",
      "13 \t MotionLivingRoomTablet.csv\n",
      "14 \t MotionPrimaryBathroom.csv\n",
      "15 \t MotionSecondaryBathroom.csv\n",
      "16 \t PlugTvHall.csv\n",
      "17 \t PlugTvHall_events.csv --XXXXX--\n",
      "18 \t Printer.csv\n",
      "19 \t Refrigerator.csv\n",
      "20 \t Shower_Hum_Temp_humidity.csv\n",
      "21 \t Shower_Hum_Temp_temp.csv\n",
      "22 \t Stove_Hum_Temp_humidity.csv\n",
      "23 \t Stove_Hum_Temp_temp.csv\n",
      "24 \t printer_events.csv --XXXXX--\n"
     ]
    }
   ],
   "source": [
    "path = '/home/hubble/work/serenade/data/subject_3/environmentals/' ## Subject 3\n",
    "files = sorted(os.listdir(path))\n",
    "unwanted_values = ['unavailable', 'unknown']\n",
    "skip_substrings = ['event', 'HousejkjlEntrance']\n",
    "cleaned_data = []\n",
    "for i in range(len(files)):\n",
    "    file_name = files[i]\n",
    "    sensor_df = pd.read_csv(os.path.join(path, file_name))\n",
    "    sensor_df.replace(unwanted_values, np.nan, inplace=True)\n",
    "    df_cleaned = sensor_df.dropna().copy()\n",
    "    dtyp = sensor_df['sensor_status'].dtype\n",
    "    \n",
    "    if dtyp == 'float64':\n",
    "        if any(substring in file_name for substring in skip_substrings):\n",
    "            print(i, '\\t', file_name, '--XXXXX--')\n",
    "            continue\n",
    "        else:\n",
    "            sensor_df = sensor_df.dropna(subset=['ts'])\n",
    "            sensor_df = sensor_df[~sensor_df['sensor_status'].isin(['unavailable', 'unknown'])]\n",
    "            sensor_df['sensor_status'] = pd.to_numeric(sensor_df['sensor_status'], errors='coerce')\n",
    "            peaks, df_shower_humidity = detect_peaks(sensor_df, 'sensor_status', prominence_value = 2)\n",
    "            sensor_df = sensor_df.rename(columns={'sensor_status': 'sensor_values', 'peak_detected': 'sensor_status'})\n",
    "            print(i, '\\t', file_name)\n",
    "            # plot_data_with_peaks(sensor_df, 'ts', 'sensor_values', peaks)\n",
    "            filtered_df = filter_on_off_consecutive(sensor_df)\n",
    "            filtered_df = filtered_df.reset_index()\n",
    "            filtered_df = process_sensor_data(filtered_df)\n",
    "            cleaned_data.append({'sensor':file_name, 'filtered_df':filtered_df, 'sensor_df':sensor_df})\n",
    "    else:\n",
    "\n",
    "        if any(substring in file_name for substring in skip_substrings):\n",
    "            print(i, '\\t', file_name, '--XXXXX--')\n",
    "            continue\n",
    "        \n",
    "        else:\n",
    "            sensor_df, _ = remove_unknown_unavailable(os.path.join(path,file_name))\n",
    "            filtered_df = process_sensor_data(sensor_df)\n",
    "            cleaned_data.append({'sensor':file_name, 'filtered_df':filtered_df, 'sensor_df':sensor_df})\n",
    "            print(i, '\\t', file_name)"
   ]
  },
  {
   "cell_type": "code",
   "execution_count": 4,
   "metadata": {},
   "outputs": [
    {
     "name": "stdout",
     "output_type": "stream",
     "text": [
      "<class 'list'>\n"
     ]
    }
   ],
   "source": [
    "## Code in this cell, is used to prepare the input for the problem \"how many times did the subject go out of the home?\"\n",
    "data_path = '/home/hubble/work/serenade/data/subject_3/environmentals/HouseEntrance.csv'\n",
    "df_cleaned, arr_cleaned = remove_unknown_unavailable(data_path)\n",
    "df_processed = process_sensor_data(df_cleaned)\n",
    "results = time_current_off_and_next_on(df_processed)\n",
    "print(type(results))"
   ]
  },
  {
   "cell_type": "code",
   "execution_count": 5,
   "metadata": {},
   "outputs": [
    {
     "data": {
      "text/plain": [
       "[{'ts_off': Timestamp('2023-09-25 11:40:09.375000'),\n",
       "  'next_ts_on': Timestamp('2023-09-25 11:47:21.478000'),\n",
       "  'difference': Timedelta('0 days 00:07:12.103000')},\n",
       " {'ts_off': Timestamp('2023-09-25 11:47:27.901000'),\n",
       "  'next_ts_on': Timestamp('2023-09-25 11:56:59.998000'),\n",
       "  'difference': Timedelta('0 days 00:09:32.097000')},\n",
       " {'ts_off': Timestamp('2023-09-25 11:57:05.648000'),\n",
       "  'next_ts_on': Timestamp('2023-09-25 12:57:53.875000'),\n",
       "  'difference': Timedelta('0 days 01:00:48.227000')},\n",
       " {'ts_off': Timestamp('2023-09-25 12:58:00.813000'),\n",
       "  'next_ts_on': Timestamp('2023-09-25 13:07:58.134000'),\n",
       "  'difference': Timedelta('0 days 00:09:57.321000')},\n",
       " {'ts_off': Timestamp('2023-09-25 13:08:40.649000'),\n",
       "  'next_ts_on': Timestamp('2023-09-25 14:40:31.118000'),\n",
       "  'difference': Timedelta('0 days 01:31:50.469000')},\n",
       " {'ts_off': Timestamp('2023-09-25 14:40:38.863000'),\n",
       "  'next_ts_on': Timestamp('2023-09-25 16:06:28.598000'),\n",
       "  'difference': Timedelta('0 days 01:25:49.735000')},\n",
       " {'ts_off': Timestamp('2023-09-25 16:06:43.620000'),\n",
       "  'next_ts_on': Timestamp('2023-09-25 16:43:14.699000'),\n",
       "  'difference': Timedelta('0 days 00:36:31.079000')},\n",
       " {'ts_off': Timestamp('2023-09-25 16:44:27.051000'),\n",
       "  'next_ts_on': Timestamp('2023-09-25 21:40:23.297000'),\n",
       "  'difference': Timedelta('0 days 04:55:56.246000')},\n",
       " {'ts_off': Timestamp('2023-09-25 21:41:00.652000'),\n",
       "  'next_ts_on': Timestamp('2023-09-25 21:42:08.793000'),\n",
       "  'difference': Timedelta('0 days 00:01:08.141000')},\n",
       " {'ts_off': Timestamp('2023-09-25 21:42:25.132000'),\n",
       "  'next_ts_on': Timestamp('2023-09-25 21:51:19.537000'),\n",
       "  'difference': Timedelta('0 days 00:08:54.405000')},\n",
       " {'ts_off': Timestamp('2023-09-25 21:51:25.525000'),\n",
       "  'next_ts_on': Timestamp('2023-09-26 06:29:36.415000'),\n",
       "  'difference': Timedelta('0 days 08:38:10.890000')},\n",
       " {'ts_off': Timestamp('2023-09-26 06:29:45.283000'),\n",
       "  'next_ts_on': Timestamp('2023-09-26 07:23:35.962000'),\n",
       "  'difference': Timedelta('0 days 00:53:50.679000')},\n",
       " {'ts_off': Timestamp('2023-09-26 07:25:40.537000'),\n",
       "  'next_ts_on': Timestamp('2023-09-26 10:27:21.065000'),\n",
       "  'difference': Timedelta('0 days 03:01:40.528000')},\n",
       " {'ts_off': Timestamp('2023-09-26 10:28:51.025000'),\n",
       "  'next_ts_on': Timestamp('2023-09-26 10:28:58.097000'),\n",
       "  'difference': Timedelta('0 days 00:00:07.072000')},\n",
       " {'ts_off': Timestamp('2023-09-26 10:29:27.178000'),\n",
       "  'next_ts_on': Timestamp('2023-09-26 11:23:24.717000'),\n",
       "  'difference': Timedelta('0 days 00:53:57.539000')},\n",
       " {'ts_off': Timestamp('2023-09-26 11:23:34.680000'),\n",
       "  'next_ts_on': Timestamp('2023-09-26 14:28:20.807000'),\n",
       "  'difference': Timedelta('0 days 03:04:46.127000')},\n",
       " {'ts_off': Timestamp('2023-09-26 14:28:29.010000'),\n",
       "  'next_ts_on': Timestamp('2023-09-26 14:29:29.024000'),\n",
       "  'difference': Timedelta('0 days 00:01:00.014000')},\n",
       " {'ts_off': Timestamp('2023-09-26 14:30:17.472000'),\n",
       "  'next_ts_on': Timestamp('2023-09-26 20:37:21.707000'),\n",
       "  'difference': Timedelta('0 days 06:07:04.235000')},\n",
       " {'ts_off': Timestamp('2023-09-26 20:37:33.330000'),\n",
       "  'next_ts_on': Timestamp('2023-09-27 06:52:00.564000'),\n",
       "  'difference': Timedelta('0 days 10:14:27.234000')},\n",
       " {'ts_off': Timestamp('2023-09-27 06:52:07.932000'),\n",
       "  'next_ts_on': Timestamp('2023-09-27 08:07:47.127000'),\n",
       "  'difference': Timedelta('0 days 01:15:39.195000')},\n",
       " {'ts_off': Timestamp('2023-09-27 08:08:00.749000'),\n",
       "  'next_ts_on': Timestamp('2023-09-27 12:59:14.304000'),\n",
       "  'difference': Timedelta('0 days 04:51:13.555000')},\n",
       " {'ts_off': Timestamp('2023-09-27 12:59:20.207000'),\n",
       "  'next_ts_on': Timestamp('2023-09-27 12:59:32.141000'),\n",
       "  'difference': Timedelta('0 days 00:00:11.934000')},\n",
       " {'ts_off': Timestamp('2023-09-27 13:02:28.482000'),\n",
       "  'next_ts_on': Timestamp('2023-09-27 14:55:30.438000'),\n",
       "  'difference': Timedelta('0 days 01:53:01.956000')},\n",
       " {'ts_off': Timestamp('2023-09-27 14:55:36.439000'),\n",
       "  'next_ts_on': Timestamp('2023-09-27 14:58:17.067000'),\n",
       "  'difference': Timedelta('0 days 00:02:40.628000')},\n",
       " {'ts_off': Timestamp('2023-09-27 15:01:09.972000'),\n",
       "  'next_ts_on': Timestamp('2023-09-27 15:07:45.336000'),\n",
       "  'difference': Timedelta('0 days 00:06:35.364000')},\n",
       " {'ts_off': Timestamp('2023-09-27 15:07:51.926000'),\n",
       "  'next_ts_on': Timestamp('2023-09-27 15:16:15.361000'),\n",
       "  'difference': Timedelta('0 days 00:08:23.435000')},\n",
       " {'ts_off': Timestamp('2023-09-27 15:16:34.623000'),\n",
       "  'next_ts_on': Timestamp('2023-09-27 16:30:30.604000'),\n",
       "  'difference': Timedelta('0 days 01:13:55.981000')},\n",
       " {'ts_off': Timestamp('2023-09-27 16:30:52.990000'),\n",
       "  'next_ts_on': Timestamp('2023-09-27 17:22:31.826000'),\n",
       "  'difference': Timedelta('0 days 00:51:38.836000')},\n",
       " {'ts_off': Timestamp('2023-09-27 17:27:25.612000'),\n",
       "  'next_ts_on': Timestamp('2023-09-27 18:39:07.829000'),\n",
       "  'difference': Timedelta('0 days 01:11:42.217000')},\n",
       " {'ts_off': Timestamp('2023-09-27 18:40:09.971000'),\n",
       "  'next_ts_on': Timestamp('2023-09-27 18:44:01.873000'),\n",
       "  'difference': Timedelta('0 days 00:03:51.902000')},\n",
       " {'ts_off': Timestamp('2023-09-27 18:44:43.483000'),\n",
       "  'next_ts_on': Timestamp('2023-09-28 06:39:59.182000'),\n",
       "  'difference': Timedelta('0 days 11:55:15.699000')},\n",
       " {'ts_off': Timestamp('2023-09-28 06:41:19.887000'),\n",
       "  'next_ts_on': Timestamp('2023-09-28 06:41:36.640000'),\n",
       "  'difference': Timedelta('0 days 00:00:16.753000')},\n",
       " {'ts_off': Timestamp('2023-09-28 06:41:52.059000'),\n",
       "  'next_ts_on': Timestamp('2023-09-28 08:25:35.505000'),\n",
       "  'difference': Timedelta('0 days 01:43:43.446000')},\n",
       " {'ts_off': Timestamp('2023-09-28 08:25:45.361000'),\n",
       "  'next_ts_on': Timestamp('2023-09-28 08:42:58.240000'),\n",
       "  'difference': Timedelta('0 days 00:17:12.879000')},\n",
       " {'ts_off': Timestamp('2023-09-28 08:43:18.253000'),\n",
       "  'next_ts_on': Timestamp('2023-09-28 08:43:20.752000'),\n",
       "  'difference': Timedelta('0 days 00:00:02.499000')},\n",
       " {'ts_off': Timestamp('2023-09-28 08:43:55.827000'),\n",
       "  'next_ts_on': Timestamp('2023-09-28 10:20:39.016000'),\n",
       "  'difference': Timedelta('0 days 01:36:43.189000')},\n",
       " {'ts_off': Timestamp('2023-09-28 10:22:22.482000'),\n",
       "  'next_ts_on': Timestamp('2023-09-28 10:26:40.353000'),\n",
       "  'difference': Timedelta('0 days 00:04:17.871000')},\n",
       " {'ts_off': Timestamp('2023-09-28 10:27:54.907000'),\n",
       "  'next_ts_on': Timestamp('2023-09-28 10:43:17.553000'),\n",
       "  'difference': Timedelta('0 days 00:15:22.646000')},\n",
       " {'ts_off': Timestamp('2023-09-28 10:43:24.133000'),\n",
       "  'next_ts_on': Timestamp('2023-09-28 14:17:48.362000'),\n",
       "  'difference': Timedelta('0 days 03:34:24.229000')},\n",
       " {'ts_off': Timestamp('2023-09-28 14:18:45.037000'),\n",
       "  'next_ts_on': Timestamp('2023-09-28 14:35:53.524000'),\n",
       "  'difference': Timedelta('0 days 00:17:08.487000')},\n",
       " {'ts_off': Timestamp('2023-09-28 14:36:16.782000'),\n",
       "  'next_ts_on': Timestamp('2023-09-28 15:41:33.519000'),\n",
       "  'difference': Timedelta('0 days 01:05:16.737000')},\n",
       " {'ts_off': Timestamp('2023-09-28 15:41:40.528000'),\n",
       "  'next_ts_on': Timestamp('2023-09-28 15:42:12.356000'),\n",
       "  'difference': Timedelta('0 days 00:00:31.828000')},\n",
       " {'ts_off': Timestamp('2023-09-28 15:42:41.441000'),\n",
       "  'next_ts_on': Timestamp('2023-09-28 18:09:52.106000'),\n",
       "  'difference': Timedelta('0 days 02:27:10.665000')},\n",
       " {'ts_off': Timestamp('2023-09-28 18:10:00.427000'),\n",
       "  'next_ts_on': Timestamp('2023-09-29 06:39:22.739000'),\n",
       "  'difference': Timedelta('0 days 12:29:22.312000')},\n",
       " {'ts_off': Timestamp('2023-09-29 06:39:31.519000'),\n",
       "  'next_ts_on': Timestamp('2023-09-29 07:38:10.227000'),\n",
       "  'difference': Timedelta('0 days 00:58:38.708000')},\n",
       " {'ts_off': Timestamp('2023-09-29 07:38:55.396000'),\n",
       "  'next_ts_on': Timestamp('2023-09-29 11:12:41.511000'),\n",
       "  'difference': Timedelta('0 days 03:33:46.115000')},\n",
       " {'ts_off': Timestamp('2023-09-29 11:12:47.860000'),\n",
       "  'next_ts_on': Timestamp('2023-09-29 11:13:21.518000'),\n",
       "  'difference': Timedelta('0 days 00:00:33.658000')},\n",
       " {'ts_off': Timestamp('2023-09-29 11:13:53.588000'),\n",
       "  'next_ts_on': Timestamp('2023-09-29 12:47:22.027000'),\n",
       "  'difference': Timedelta('0 days 01:33:28.439000')},\n",
       " {'ts_off': Timestamp('2023-09-29 12:47:31.636000'),\n",
       "  'next_ts_on': Timestamp('2023-09-29 14:26:46.748000'),\n",
       "  'difference': Timedelta('0 days 01:39:15.112000')},\n",
       " {'ts_off': Timestamp('2023-09-29 14:27:11.528000'),\n",
       "  'next_ts_on': Timestamp('2023-09-29 14:54:49.785000'),\n",
       "  'difference': Timedelta('0 days 00:27:38.257000')},\n",
       " {'ts_off': Timestamp('2023-09-29 14:55:15.364000'),\n",
       "  'next_ts_on': Timestamp('2023-09-29 15:52:17.039000'),\n",
       "  'difference': Timedelta('0 days 00:57:01.675000')},\n",
       " {'ts_off': Timestamp('2023-09-29 15:52:28.680000'),\n",
       "  'next_ts_on': Timestamp('2023-09-30 06:28:56.256000'),\n",
       "  'difference': Timedelta('0 days 14:36:27.576000')},\n",
       " {'ts_off': Timestamp('2023-09-30 06:29:02.942000'),\n",
       "  'next_ts_on': Timestamp('2023-09-30 06:53:18.257000'),\n",
       "  'difference': Timedelta('0 days 00:24:15.315000')},\n",
       " {'ts_off': Timestamp('2023-09-30 06:53:24.927000'),\n",
       "  'next_ts_on': Timestamp('2023-09-30 08:02:53.100000'),\n",
       "  'difference': Timedelta('0 days 01:09:28.173000')},\n",
       " {'ts_off': Timestamp('2023-09-30 08:03:16.724000'),\n",
       "  'next_ts_on': Timestamp('2023-09-30 08:11:53.132000'),\n",
       "  'difference': Timedelta('0 days 00:08:36.408000')},\n",
       " {'ts_off': Timestamp('2023-09-30 08:12:04.518000'),\n",
       "  'next_ts_on': Timestamp('2023-09-30 10:20:37.309000'),\n",
       "  'difference': Timedelta('0 days 02:08:32.791000')},\n",
       " {'ts_off': Timestamp('2023-09-30 10:20:41.537000'),\n",
       "  'next_ts_on': Timestamp('2023-09-30 10:22:29.036000'),\n",
       "  'difference': Timedelta('0 days 00:01:47.499000')},\n",
       " {'ts_off': Timestamp('2023-09-30 10:22:34.556000'),\n",
       "  'next_ts_on': Timestamp('2023-09-30 10:23:15.362000'),\n",
       "  'difference': Timedelta('0 days 00:00:40.806000')},\n",
       " {'ts_off': Timestamp('2023-09-30 10:28:50.202000'),\n",
       "  'next_ts_on': Timestamp('2023-09-30 10:33:19.668000'),\n",
       "  'difference': Timedelta('0 days 00:04:29.466000')},\n",
       " {'ts_off': Timestamp('2023-09-30 10:33:56.661000'),\n",
       "  'next_ts_on': Timestamp('2023-09-30 10:34:28.003000'),\n",
       "  'difference': Timedelta('0 days 00:00:31.342000')},\n",
       " {'ts_off': Timestamp('2023-09-30 10:35:11.544000'),\n",
       "  'next_ts_on': Timestamp('2023-09-30 12:01:53.131000'),\n",
       "  'difference': Timedelta('0 days 01:26:41.587000')},\n",
       " {'ts_off': Timestamp('2023-09-30 12:02:13.080000'),\n",
       "  'next_ts_on': Timestamp('2023-09-30 14:54:09.592000'),\n",
       "  'difference': Timedelta('0 days 02:51:56.512000')},\n",
       " {'ts_off': Timestamp('2023-09-30 14:54:16.641000'),\n",
       "  'next_ts_on': Timestamp('2023-09-30 16:37:08.080000'),\n",
       "  'difference': Timedelta('0 days 01:42:51.439000')},\n",
       " {'ts_off': Timestamp('2023-09-30 16:37:16.125000'),\n",
       "  'next_ts_on': Timestamp('2023-09-30 16:51:12.896000'),\n",
       "  'difference': Timedelta('0 days 00:13:56.771000')},\n",
       " {'ts_off': Timestamp('2023-09-30 16:51:22.032000'),\n",
       "  'next_ts_on': Timestamp('2023-09-30 20:59:27.247000'),\n",
       "  'difference': Timedelta('0 days 04:08:05.215000')},\n",
       " {'ts_off': Timestamp('2023-09-30 20:59:51.007000'),\n",
       "  'next_ts_on': Timestamp('2023-09-30 21:15:13.351000'),\n",
       "  'difference': Timedelta('0 days 00:15:22.344000')},\n",
       " {'ts_off': Timestamp('2023-09-30 21:15:43.235000'),\n",
       "  'next_ts_on': Timestamp('2023-10-01 07:06:13.036000'),\n",
       "  'difference': Timedelta('0 days 09:50:29.801000')},\n",
       " {'ts_off': Timestamp('2023-10-01 07:06:22.785000'),\n",
       "  'next_ts_on': Timestamp('2023-10-01 08:52:40.036000'),\n",
       "  'difference': Timedelta('0 days 01:46:17.251000')},\n",
       " {'ts_off': Timestamp('2023-10-01 08:53:01.924000'),\n",
       "  'next_ts_on': Timestamp('2023-10-01 09:03:00.768000'),\n",
       "  'difference': Timedelta('0 days 00:09:58.844000')},\n",
       " {'ts_off': Timestamp('2023-10-01 09:04:49.527000'),\n",
       "  'next_ts_on': Timestamp('2023-10-01 14:06:50.880000'),\n",
       "  'difference': Timedelta('0 days 05:02:01.353000')},\n",
       " {'ts_off': Timestamp('2023-10-01 14:06:58.550000'),\n",
       "  'next_ts_on': Timestamp('2023-10-01 14:25:46.522000'),\n",
       "  'difference': Timedelta('0 days 00:18:47.972000')},\n",
       " {'ts_off': Timestamp('2023-10-01 14:26:08.045000'),\n",
       "  'next_ts_on': Timestamp('2023-10-01 21:01:21.453000'),\n",
       "  'difference': Timedelta('0 days 06:35:13.408000')},\n",
       " {'ts_off': Timestamp('2023-10-01 21:01:29.453000'),\n",
       "  'next_ts_on': Timestamp('2023-10-01 21:11:57.446000'),\n",
       "  'difference': Timedelta('0 days 00:10:27.993000')},\n",
       " {'ts_off': Timestamp('2023-10-01 21:12:14.074000'),\n",
       "  'next_ts_on': Timestamp('2023-10-02 06:49:06.324000'),\n",
       "  'difference': Timedelta('0 days 09:36:52.250000')},\n",
       " {'ts_off': Timestamp('2023-10-02 06:49:13.187000'),\n",
       "  'next_ts_on': Timestamp('2023-10-02 08:40:35.682000'),\n",
       "  'difference': Timedelta('0 days 01:51:22.495000')},\n",
       " {'ts_off': Timestamp('2023-10-02 08:43:48.889000'),\n",
       "  'next_ts_on': Timestamp('2023-10-02 09:20:50.051000'),\n",
       "  'difference': Timedelta('0 days 00:37:01.162000')},\n",
       " {'ts_off': Timestamp('2023-10-02 09:20:57.801000'),\n",
       "  'next_ts_on': Timestamp('2023-10-02 10:34:49.560000'),\n",
       "  'difference': Timedelta('0 days 01:13:51.759000')},\n",
       " {'ts_off': Timestamp('2023-10-02 10:35:03.704000'),\n",
       "  'next_ts_on': Timestamp('2023-10-02 10:57:04.751000'),\n",
       "  'difference': Timedelta('0 days 00:22:01.047000')},\n",
       " {'ts_off': Timestamp('2023-10-02 10:57:11.173000'),\n",
       "  'next_ts_on': Timestamp('2023-10-02 11:08:31.072000'),\n",
       "  'difference': Timedelta('0 days 00:11:19.899000')},\n",
       " {'ts_off': Timestamp('2023-10-02 11:08:36.120000'),\n",
       "  'next_ts_on': Timestamp('2023-10-02 13:09:02.115000'),\n",
       "  'difference': Timedelta('0 days 02:00:25.995000')},\n",
       " {'ts_off': Timestamp('2023-10-02 13:09:07.194000'),\n",
       "  'next_ts_on': Timestamp('2023-10-02 14:49:38.109000'),\n",
       "  'difference': Timedelta('0 days 01:40:30.915000')},\n",
       " {'ts_off': Timestamp('2023-10-02 14:57:44.614000'),\n",
       "  'next_ts_on': Timestamp('2023-10-02 16:10:29.564000'),\n",
       "  'difference': Timedelta('0 days 01:12:44.950000')},\n",
       " {'ts_off': Timestamp('2023-10-02 16:10:37.932000'),\n",
       "  'next_ts_on': Timestamp('2023-10-02 17:17:31.868000'),\n",
       "  'difference': Timedelta('0 days 01:06:53.936000')},\n",
       " {'ts_off': Timestamp('2023-10-02 17:17:37.022000'),\n",
       "  'next_ts_on': Timestamp('2023-10-03 06:33:57.585000'),\n",
       "  'difference': Timedelta('0 days 13:16:20.563000')},\n",
       " {'ts_off': Timestamp('2023-10-03 06:34:22.932000'),\n",
       "  'next_ts_on': Timestamp('2023-10-03 08:07:54.795000'),\n",
       "  'difference': Timedelta('0 days 01:33:31.863000')},\n",
       " {'ts_off': Timestamp('2023-10-03 08:08:06.746000'),\n",
       "  'next_ts_on': Timestamp('2023-10-03 08:52:07.666000'),\n",
       "  'difference': Timedelta('0 days 00:44:00.920000')},\n",
       " {'ts_off': Timestamp('2023-10-03 08:52:14.756000'),\n",
       "  'next_ts_on': Timestamp('2023-10-03 09:45:07.277000'),\n",
       "  'difference': Timedelta('0 days 00:52:52.521000')},\n",
       " {'ts_off': Timestamp('2023-10-03 09:45:44.966000'),\n",
       "  'next_ts_on': Timestamp('2023-10-03 09:52:47.326000'),\n",
       "  'difference': Timedelta('0 days 00:07:02.360000')},\n",
       " {'ts_off': Timestamp('2023-10-03 09:52:53.090000'),\n",
       "  'next_ts_on': Timestamp('2023-10-03 10:27:29.359000'),\n",
       "  'difference': Timedelta('0 days 00:34:36.269000')},\n",
       " {'ts_off': Timestamp('2023-10-03 10:27:37.315000'),\n",
       "  'next_ts_on': Timestamp('2023-10-03 13:07:35.142000'),\n",
       "  'difference': Timedelta('0 days 02:39:57.827000')},\n",
       " {'ts_off': Timestamp('2023-10-03 13:07:45.182000'),\n",
       "  'next_ts_on': Timestamp('2023-10-03 13:46:56.996000'),\n",
       "  'difference': Timedelta('0 days 00:39:11.814000')},\n",
       " {'ts_off': Timestamp('2023-10-03 13:47:03.220000'),\n",
       "  'next_ts_on': Timestamp('2023-10-03 14:27:42.213000'),\n",
       "  'difference': Timedelta('0 days 00:40:38.993000')},\n",
       " {'ts_off': Timestamp('2023-10-03 14:27:49.536000'),\n",
       "  'next_ts_on': Timestamp('2023-10-03 16:01:03.603000'),\n",
       "  'difference': Timedelta('0 days 01:33:14.067000')},\n",
       " {'ts_off': Timestamp('2023-10-03 16:01:11.216000'),\n",
       "  'next_ts_on': Timestamp('2023-10-03 17:13:57.604000'),\n",
       "  'difference': Timedelta('0 days 01:12:46.388000')},\n",
       " {'ts_off': Timestamp('2023-10-03 17:14:15.207000'),\n",
       "  'next_ts_on': Timestamp('2023-10-04 06:34:48.042000'),\n",
       "  'difference': Timedelta('0 days 13:20:32.835000')},\n",
       " {'ts_off': Timestamp('2023-10-04 06:34:55.747000'),\n",
       "  'next_ts_on': Timestamp('2023-10-04 07:58:55.503000'),\n",
       "  'difference': Timedelta('0 days 01:23:59.756000')},\n",
       " {'ts_off': Timestamp('2023-10-04 08:03:12.628000'),\n",
       "  'next_ts_on': Timestamp('2023-10-04 09:15:23.505000'),\n",
       "  'difference': Timedelta('0 days 01:12:10.877000')},\n",
       " {'ts_off': Timestamp('2023-10-04 09:15:30.072000'),\n",
       "  'next_ts_on': Timestamp('2023-10-04 11:37:26.267000'),\n",
       "  'difference': Timedelta('0 days 02:21:56.195000')},\n",
       " {'ts_off': Timestamp('2023-10-04 11:37:35.691000'),\n",
       "  'next_ts_on': Timestamp('2023-10-04 13:17:45.141000'),\n",
       "  'difference': Timedelta('0 days 01:40:09.450000')},\n",
       " {'ts_off': Timestamp('2023-10-04 13:18:05.598000'),\n",
       "  'next_ts_on': Timestamp('2023-10-04 13:18:15.524000'),\n",
       "  'difference': Timedelta('0 days 00:00:09.926000')},\n",
       " {'ts_off': Timestamp('2023-10-04 13:18:55.941000'),\n",
       "  'next_ts_on': Timestamp('2023-10-04 13:27:31.652000'),\n",
       "  'difference': Timedelta('0 days 00:08:35.711000')},\n",
       " {'ts_off': Timestamp('2023-10-04 13:27:36.639000'),\n",
       "  'next_ts_on': Timestamp('2023-10-04 13:30:36.146000'),\n",
       "  'difference': Timedelta('0 days 00:02:59.507000')},\n",
       " {'ts_off': Timestamp('2023-10-04 13:30:42.781000'),\n",
       "  'next_ts_on': Timestamp('2023-10-04 16:52:25.522000'),\n",
       "  'difference': Timedelta('0 days 03:21:42.741000')},\n",
       " {'ts_off': Timestamp('2023-10-04 16:53:07.133000'),\n",
       "  'next_ts_on': Timestamp('2023-10-04 16:58:14.664000'),\n",
       "  'difference': Timedelta('0 days 00:05:07.531000')},\n",
       " {'ts_off': Timestamp('2023-10-04 16:58:36.324000'),\n",
       "  'next_ts_on': Timestamp('2023-10-04 18:18:40.450000'),\n",
       "  'difference': Timedelta('0 days 01:20:04.126000')},\n",
       " {'ts_off': Timestamp('2023-10-04 18:19:14.818000'),\n",
       "  'next_ts_on': Timestamp('2023-10-04 18:48:27.436000'),\n",
       "  'difference': Timedelta('0 days 00:29:12.618000')},\n",
       " {'ts_off': Timestamp('2023-10-04 18:49:10.701000'),\n",
       "  'next_ts_on': Timestamp('2023-10-04 21:51:51.091000'),\n",
       "  'difference': Timedelta('0 days 03:02:40.390000')},\n",
       " {'ts_off': Timestamp('2023-10-04 21:53:05.939000'),\n",
       "  'next_ts_on': Timestamp('2023-10-04 21:53:08.606000'),\n",
       "  'difference': Timedelta('0 days 00:00:02.667000')},\n",
       " {'ts_off': Timestamp('2023-10-04 21:53:21.863000'),\n",
       "  'next_ts_on': Timestamp('2023-10-04 22:12:38.781000'),\n",
       "  'difference': Timedelta('0 days 00:19:16.918000')},\n",
       " {'ts_off': Timestamp('2023-10-04 22:13:35.310000'),\n",
       "  'next_ts_on': Timestamp('2023-10-05 06:52:55.871000'),\n",
       "  'difference': Timedelta('0 days 08:39:20.561000')},\n",
       " {'ts_off': Timestamp('2023-10-05 06:53:03.667000'),\n",
       "  'next_ts_on': Timestamp('2023-10-05 08:14:36.398000'),\n",
       "  'difference': Timedelta('0 days 01:21:32.731000')},\n",
       " {'ts_off': Timestamp('2023-10-05 08:15:43.899000'),\n",
       "  'next_ts_on': Timestamp('2023-10-05 08:26:34.383000'),\n",
       "  'difference': Timedelta('0 days 00:10:50.484000')},\n",
       " {'ts_off': Timestamp('2023-10-05 08:26:39.567000'),\n",
       "  'next_ts_on': Timestamp('2023-10-05 10:30:34.810000'),\n",
       "  'difference': Timedelta('0 days 02:03:55.243000')},\n",
       " {'ts_off': Timestamp('2023-10-05 10:31:00.833000'),\n",
       "  'next_ts_on': Timestamp('2023-10-05 11:01:58.575000'),\n",
       "  'difference': Timedelta('0 days 00:30:57.742000')},\n",
       " {'ts_off': Timestamp('2023-10-05 11:02:08.342000'),\n",
       "  'next_ts_on': Timestamp('2023-10-05 14:26:13.772000'),\n",
       "  'difference': Timedelta('0 days 03:24:05.430000')},\n",
       " {'ts_off': Timestamp('2023-10-05 14:26:38.528000'),\n",
       "  'next_ts_on': Timestamp('2023-10-05 15:56:11.690000'),\n",
       "  'difference': Timedelta('0 days 01:29:33.162000')},\n",
       " {'ts_off': Timestamp('2023-10-05 16:02:17.065000'),\n",
       "  'next_ts_on': Timestamp('2023-10-05 16:33:24.511000'),\n",
       "  'difference': Timedelta('0 days 00:31:07.446000')},\n",
       " {'ts_off': Timestamp('2023-10-05 16:33:35.531000'),\n",
       "  'next_ts_on': Timestamp('2023-10-05 16:33:36.444000'),\n",
       "  'difference': Timedelta('0 days 00:00:00.913000')},\n",
       " {'ts_off': Timestamp('2023-10-05 16:33:56.509000'),\n",
       "  'next_ts_on': Timestamp('2023-10-05 22:44:03.151000'),\n",
       "  'difference': Timedelta('0 days 06:10:06.642000')},\n",
       " {'ts_off': Timestamp('2023-10-05 22:44:14.790000'),\n",
       "  'next_ts_on': Timestamp('2023-10-06 06:49:21.115000'),\n",
       "  'difference': Timedelta('0 days 08:05:06.325000')},\n",
       " {'ts_off': Timestamp('2023-10-06 06:49:29.920000'),\n",
       "  'next_ts_on': Timestamp('2023-10-06 06:49:33.238000'),\n",
       "  'difference': Timedelta('0 days 00:00:03.318000')},\n",
       " {'ts_off': Timestamp('2023-10-06 06:49:49.544000'),\n",
       "  'next_ts_on': Timestamp('2023-10-06 07:55:17.549000'),\n",
       "  'difference': Timedelta('0 days 01:05:28.005000')},\n",
       " {'ts_off': Timestamp('2023-10-06 07:55:42.050000'),\n",
       "  'next_ts_on': Timestamp('2023-10-06 08:04:25.343000'),\n",
       "  'difference': Timedelta('0 days 00:08:43.293000')},\n",
       " {'ts_off': Timestamp('2023-10-06 08:04:28.865000'),\n",
       "  'next_ts_on': Timestamp('2023-10-06 08:53:54.091000'),\n",
       "  'difference': Timedelta('0 days 00:49:25.226000')},\n",
       " {'ts_off': Timestamp('2023-10-06 08:54:37.258000'),\n",
       "  'next_ts_on': Timestamp('2023-10-06 10:43:05.867000'),\n",
       "  'difference': Timedelta('0 days 01:48:28.609000')},\n",
       " {'ts_off': Timestamp('2023-10-06 10:43:12.283000'),\n",
       "  'next_ts_on': Timestamp('2023-10-06 11:10:58.824000'),\n",
       "  'difference': Timedelta('0 days 00:27:46.541000')},\n",
       " {'ts_off': Timestamp('2023-10-06 11:11:08.319000'),\n",
       "  'next_ts_on': Timestamp('2023-10-06 12:39:18.092000'),\n",
       "  'difference': Timedelta('0 days 01:28:09.773000')},\n",
       " {'ts_off': Timestamp('2023-10-06 12:39:43.131000'),\n",
       "  'next_ts_on': Timestamp('2023-10-07 06:28:38.016000'),\n",
       "  'difference': Timedelta('0 days 17:48:54.885000')},\n",
       " {'ts_off': Timestamp('2023-10-07 06:28:44.601000'),\n",
       "  'next_ts_on': Timestamp('2023-10-07 07:55:54.039000'),\n",
       "  'difference': Timedelta('0 days 01:27:09.438000')},\n",
       " {'ts_off': Timestamp('2023-10-07 07:56:06.293000'),\n",
       "  'next_ts_on': Timestamp('2023-10-07 08:10:22.984000'),\n",
       "  'difference': Timedelta('0 days 00:14:16.691000')},\n",
       " {'ts_off': Timestamp('2023-10-07 08:10:49.689000'),\n",
       "  'next_ts_on': Timestamp('2023-10-07 08:22:16.560000'),\n",
       "  'difference': Timedelta('0 days 00:11:26.871000')},\n",
       " {'ts_off': Timestamp('2023-10-07 08:22:26.726000'),\n",
       "  'next_ts_on': Timestamp('2023-10-07 08:49:48.511000'),\n",
       "  'difference': Timedelta('0 days 00:27:21.785000')},\n",
       " {'ts_off': Timestamp('2023-10-07 08:50:01.344000'),\n",
       "  'next_ts_on': Timestamp('2023-10-07 10:12:55.679000'),\n",
       "  'difference': Timedelta('0 days 01:22:54.335000')},\n",
       " {'ts_off': Timestamp('2023-10-07 10:13:01.230000'),\n",
       "  'next_ts_on': Timestamp('2023-10-08 22:15:14.339000'),\n",
       "  'difference': Timedelta('1 days 12:02:13.109000')},\n",
       " {'ts_off': Timestamp('2023-10-08 22:15:40.756000'),\n",
       "  'next_ts_on': Timestamp('2023-10-09 06:32:36.734000'),\n",
       "  'difference': Timedelta('0 days 08:16:55.978000')},\n",
       " {'ts_off': Timestamp('2023-10-09 06:32:47.703000'),\n",
       "  'next_ts_on': Timestamp('2023-10-09 07:58:51.433000'),\n",
       "  'difference': Timedelta('0 days 01:26:03.730000')},\n",
       " {'ts_off': Timestamp('2023-10-09 07:59:03.066000'),\n",
       "  'next_ts_on': Timestamp('2023-10-09 11:01:42.930000'),\n",
       "  'difference': Timedelta('0 days 03:02:39.864000')},\n",
       " {'ts_off': Timestamp('2023-10-09 11:01:49.362000'),\n",
       "  'next_ts_on': Timestamp('2023-10-09 11:26:32.877000'),\n",
       "  'difference': Timedelta('0 days 00:24:43.515000')},\n",
       " {'ts_off': Timestamp('2023-10-09 11:26:39.509000'),\n",
       "  'next_ts_on': Timestamp('2023-10-09 12:39:02.325000'),\n",
       "  'difference': Timedelta('0 days 01:12:22.816000')},\n",
       " {'ts_off': Timestamp('2023-10-09 12:39:24.195000'),\n",
       "  'next_ts_on': Timestamp('2023-10-09 12:39:25.215000'),\n",
       "  'difference': Timedelta('0 days 00:00:01.020000')},\n",
       " {'ts_off': Timestamp('2023-10-09 12:40:04.885000'),\n",
       "  'next_ts_on': Timestamp('2023-10-09 14:18:02.094000'),\n",
       "  'difference': Timedelta('0 days 01:37:57.209000')},\n",
       " {'ts_off': Timestamp('2023-10-09 14:18:12.999000'),\n",
       "  'next_ts_on': Timestamp('2023-10-09 15:21:09.650000'),\n",
       "  'difference': Timedelta('0 days 01:02:56.651000')},\n",
       " {'ts_off': Timestamp('2023-10-09 15:21:17.438000'),\n",
       "  'next_ts_on': Timestamp('2023-10-09 16:53:14.063000'),\n",
       "  'difference': Timedelta('0 days 01:31:56.625000')},\n",
       " {'ts_off': Timestamp('2023-10-09 16:54:11.571000'),\n",
       "  'next_ts_on': Timestamp('2023-10-10 07:22:32.078000'),\n",
       "  'difference': Timedelta('0 days 14:28:20.507000')},\n",
       " {'ts_off': Timestamp('2023-10-10 07:23:25.524000'),\n",
       "  'next_ts_on': Timestamp('2023-10-10 07:23:37.916000'),\n",
       "  'difference': Timedelta('0 days 00:00:12.392000')},\n",
       " {'ts_off': Timestamp('2023-10-10 07:24:17.854000'),\n",
       "  'next_ts_on': Timestamp('2023-10-10 09:01:57.339000'),\n",
       "  'difference': Timedelta('0 days 01:37:39.485000')},\n",
       " {'ts_off': Timestamp('2023-10-10 09:02:33.997000'),\n",
       "  'next_ts_on': Timestamp('2023-10-10 14:41:32.198000'),\n",
       "  'difference': Timedelta('0 days 05:38:58.201000')},\n",
       " {'ts_off': Timestamp('2023-10-10 14:42:24.508000'),\n",
       "  'next_ts_on': Timestamp('2023-10-10 16:16:59.236000'),\n",
       "  'difference': Timedelta('0 days 01:34:34.728000')},\n",
       " {'ts_off': Timestamp('2023-10-10 16:17:07.594000'),\n",
       "  'next_ts_on': Timestamp('2023-10-11 06:50:29.595000'),\n",
       "  'difference': Timedelta('0 days 14:33:22.001000')},\n",
       " {'ts_off': Timestamp('2023-10-11 06:50:37.369000'),\n",
       "  'next_ts_on': Timestamp('2023-10-11 08:43:32.626000'),\n",
       "  'difference': Timedelta('0 days 01:52:55.257000')},\n",
       " {'ts_off': Timestamp('2023-10-11 08:43:41.470000'),\n",
       "  'next_ts_on': Timestamp('2023-10-11 15:14:22.905000'),\n",
       "  'difference': Timedelta('0 days 06:30:41.435000')},\n",
       " {'ts_off': Timestamp('2023-10-11 15:14:55.662000'),\n",
       "  'next_ts_on': Timestamp('2023-10-11 15:22:22.587000'),\n",
       "  'difference': Timedelta('0 days 00:07:26.925000')},\n",
       " {'ts_off': Timestamp('2023-10-11 15:22:55.214000'),\n",
       "  'next_ts_on': Timestamp('2023-10-11 16:55:05.523000'),\n",
       "  'difference': Timedelta('0 days 01:32:10.309000')},\n",
       " {'ts_off': Timestamp('2023-10-11 16:55:16.833000'),\n",
       "  'next_ts_on': Timestamp('2023-10-12 06:24:24.670000'),\n",
       "  'difference': Timedelta('0 days 13:29:07.837000')},\n",
       " {'ts_off': Timestamp('2023-10-12 06:24:40.458000'),\n",
       "  'next_ts_on': Timestamp('2023-10-12 07:57:00.202000'),\n",
       "  'difference': Timedelta('0 days 01:32:19.744000')},\n",
       " {'ts_off': Timestamp('2023-10-12 07:57:08.891000'),\n",
       "  'next_ts_on': Timestamp('2023-10-12 08:45:36.879000'),\n",
       "  'difference': Timedelta('0 days 00:48:27.988000')},\n",
       " {'ts_off': Timestamp('2023-10-12 08:45:43.464000'),\n",
       "  'next_ts_on': Timestamp('2023-10-12 08:46:32.310000'),\n",
       "  'difference': Timedelta('0 days 00:00:48.846000')},\n",
       " {'ts_off': Timestamp('2023-10-12 08:47:09.793000'),\n",
       "  'next_ts_on': Timestamp('2023-10-12 10:32:12.100000'),\n",
       "  'difference': Timedelta('0 days 01:45:02.307000')},\n",
       " {'ts_off': Timestamp('2023-10-12 10:32:19.720000'),\n",
       "  'next_ts_on': Timestamp('2023-10-12 13:31:57.699000'),\n",
       "  'difference': Timedelta('0 days 02:59:37.979000')},\n",
       " {'ts_off': Timestamp('2023-10-12 13:32:04.999000'),\n",
       "  'next_ts_on': Timestamp('2023-10-12 14:58:09.835000'),\n",
       "  'difference': Timedelta('0 days 01:26:04.836000')},\n",
       " {'ts_off': Timestamp('2023-10-12 14:58:31.723000'),\n",
       "  'next_ts_on': Timestamp('2023-10-12 15:01:30.342000'),\n",
       "  'difference': Timedelta('0 days 00:02:58.619000')},\n",
       " {'ts_off': Timestamp('2023-10-12 15:01:38.175000'),\n",
       "  'next_ts_on': Timestamp('2023-10-12 15:07:14.927000'),\n",
       "  'difference': Timedelta('0 days 00:05:36.752000')},\n",
       " {'ts_off': Timestamp('2023-10-12 15:07:27.375000'),\n",
       "  'next_ts_on': Timestamp('2023-10-12 15:07:29.270000'),\n",
       "  'difference': Timedelta('0 days 00:00:01.895000')},\n",
       " {'ts_off': Timestamp('2023-10-12 15:08:05.606000'),\n",
       "  'next_ts_on': Timestamp('2023-10-12 15:49:45.821000'),\n",
       "  'difference': Timedelta('0 days 00:41:40.215000')},\n",
       " {'ts_off': Timestamp('2023-10-12 15:55:15.629000'),\n",
       "  'next_ts_on': Timestamp('2023-10-12 16:07:09.575000'),\n",
       "  'difference': Timedelta('0 days 00:11:53.946000')},\n",
       " {'ts_off': Timestamp('2023-10-12 16:07:17.775000'),\n",
       "  'next_ts_on': Timestamp('2023-10-12 16:31:50.567000'),\n",
       "  'difference': Timedelta('0 days 00:24:32.792000')},\n",
       " {'ts_off': Timestamp('2023-10-12 16:31:57.942000'),\n",
       "  'next_ts_on': Timestamp('2023-10-12 17:02:25.890000'),\n",
       "  'difference': Timedelta('0 days 00:30:27.948000')},\n",
       " {'ts_off': Timestamp('2023-10-12 17:02:41.373000'),\n",
       "  'next_ts_on': Timestamp('2023-10-12 20:17:47.528000'),\n",
       "  'difference': Timedelta('0 days 03:15:06.155000')},\n",
       " {'ts_off': Timestamp('2023-10-12 20:17:55.038000'),\n",
       "  'next_ts_on': Timestamp('2023-10-12 20:24:44.766000'),\n",
       "  'difference': Timedelta('0 days 00:06:49.728000')},\n",
       " {'ts_off': Timestamp('2023-10-12 20:26:19.480000'),\n",
       "  'next_ts_on': Timestamp('2023-10-12 20:29:10.836000'),\n",
       "  'difference': Timedelta('0 days 00:02:51.356000')},\n",
       " {'ts_off': Timestamp('2023-10-12 20:33:12.180000'),\n",
       "  'next_ts_on': Timestamp('2023-10-13 06:48:58.952000'),\n",
       "  'difference': Timedelta('0 days 10:15:46.772000')},\n",
       " {'ts_off': Timestamp('2023-10-13 06:49:19.978000'),\n",
       "  'next_ts_on': Timestamp('2023-10-13 08:35:54.462000'),\n",
       "  'difference': Timedelta('0 days 01:46:34.484000')},\n",
       " {'ts_off': Timestamp('2023-10-13 08:36:31.701000'),\n",
       "  'next_ts_on': Timestamp('2023-10-13 09:30:53.114000'),\n",
       "  'difference': Timedelta('0 days 00:54:21.413000')},\n",
       " {'ts_off': Timestamp('2023-10-13 09:30:59.978000'),\n",
       "  'next_ts_on': Timestamp('2023-10-13 09:55:27.292000'),\n",
       "  'difference': Timedelta('0 days 00:24:27.314000')},\n",
       " {'ts_off': Timestamp('2023-10-13 09:55:53.392000'),\n",
       "  'next_ts_on': Timestamp('2023-10-13 10:21:57.809000'),\n",
       "  'difference': Timedelta('0 days 00:26:04.417000')},\n",
       " {'ts_off': Timestamp('2023-10-13 10:24:00.168000'),\n",
       "  'next_ts_on': Timestamp('2023-10-13 10:30:46.320000'),\n",
       "  'difference': Timedelta('0 days 00:06:46.152000')},\n",
       " {'ts_off': Timestamp('2023-10-13 10:30:57.235000'),\n",
       "  'next_ts_on': Timestamp('2023-10-13 10:36:04.132000'),\n",
       "  'difference': Timedelta('0 days 00:05:06.897000')},\n",
       " {'ts_off': Timestamp('2023-10-13 10:36:44.983000'),\n",
       "  'next_ts_on': Timestamp('2023-10-13 10:36:46.964000'),\n",
       "  'difference': Timedelta('0 days 00:00:01.981000')},\n",
       " {'ts_off': Timestamp('2023-10-13 10:36:53.410000'),\n",
       "  'next_ts_on': Timestamp('2023-10-13 14:13:24.746000'),\n",
       "  'difference': Timedelta('0 days 03:36:31.336000')},\n",
       " {'ts_off': Timestamp('2023-10-13 14:13:41.558000'),\n",
       "  'next_ts_on': Timestamp('2023-10-13 15:20:40.943000'),\n",
       "  'difference': Timedelta('0 days 01:06:59.385000')},\n",
       " {'ts_off': Timestamp('2023-10-13 15:24:43.039000'),\n",
       "  'next_ts_on': Timestamp('2023-10-13 15:24:43.451000'),\n",
       "  'difference': Timedelta('0 days 00:00:00.412000')},\n",
       " {'ts_off': Timestamp('2023-10-13 15:24:43.664000'),\n",
       "  'next_ts_on': Timestamp('2023-10-13 16:18:53.838000'),\n",
       "  'difference': Timedelta('0 days 00:54:10.174000')},\n",
       " {'ts_off': Timestamp('2023-10-13 16:19:04.598000'),\n",
       "  'next_ts_on': Timestamp('2023-10-13 19:00:33.814000'),\n",
       "  'difference': Timedelta('0 days 02:41:29.216000')},\n",
       " {'ts_off': Timestamp('2023-10-13 19:01:47.540000'),\n",
       "  'next_ts_on': Timestamp('2023-10-13 21:22:38.813000'),\n",
       "  'difference': Timedelta('0 days 02:20:51.273000')},\n",
       " {'ts_off': Timestamp('2023-10-13 21:23:18.666000'),\n",
       "  'next_ts_on': Timestamp('2023-10-13 21:33:35.988000'),\n",
       "  'difference': Timedelta('0 days 00:10:17.322000')},\n",
       " {'ts_off': Timestamp('2023-10-13 21:34:51.168000'),\n",
       "  'next_ts_on': Timestamp('2023-10-14 06:27:30.899000'),\n",
       "  'difference': Timedelta('0 days 08:52:39.731000')},\n",
       " {'ts_off': Timestamp('2023-10-14 06:28:03.216000'),\n",
       "  'next_ts_on': Timestamp('2023-10-14 06:42:50.578000'),\n",
       "  'difference': Timedelta('0 days 00:14:47.362000')},\n",
       " {'ts_off': Timestamp('2023-10-14 06:42:59.381000'),\n",
       "  'next_ts_on': Timestamp('2023-10-14 07:31:58.779000'),\n",
       "  'difference': Timedelta('0 days 00:48:59.398000')},\n",
       " {'ts_off': Timestamp('2023-10-14 07:32:15.799000'),\n",
       "  'next_ts_on': Timestamp('2023-10-14 07:32:18.799000'),\n",
       "  'difference': Timedelta('0 days 00:00:03')},\n",
       " {'ts_off': Timestamp('2023-10-14 07:32:22.299000'),\n",
       "  'next_ts_on': Timestamp('2023-10-14 07:42:12.542000'),\n",
       "  'difference': Timedelta('0 days 00:09:50.243000')},\n",
       " {'ts_off': Timestamp('2023-10-14 07:42:24.338000'),\n",
       "  'next_ts_on': Timestamp('2023-10-14 08:04:42.645000'),\n",
       "  'difference': Timedelta('0 days 00:22:18.307000')},\n",
       " {'ts_off': Timestamp('2023-10-14 08:04:55.664000'),\n",
       "  'next_ts_on': Timestamp('2023-10-14 09:50:39.018000'),\n",
       "  'difference': Timedelta('0 days 01:45:43.354000')},\n",
       " {'ts_off': Timestamp('2023-10-14 09:52:57.811000'),\n",
       "  'next_ts_on': Timestamp('2023-10-14 10:02:57.287000'),\n",
       "  'difference': Timedelta('0 days 00:09:59.476000')},\n",
       " {'ts_off': Timestamp('2023-10-14 10:03:03.622000'),\n",
       "  'next_ts_on': Timestamp('2023-10-14 10:18:57.833000'),\n",
       "  'difference': Timedelta('0 days 00:15:54.211000')},\n",
       " {'ts_off': Timestamp('2023-10-14 10:19:02.007000'),\n",
       "  'next_ts_on': Timestamp('2023-10-14 10:20:58.417000'),\n",
       "  'difference': Timedelta('0 days 00:01:56.410000')},\n",
       " {'ts_off': Timestamp('2023-10-14 10:21:04.317000'),\n",
       "  'next_ts_on': Timestamp('2023-10-14 10:30:43.607000'),\n",
       "  'difference': Timedelta('0 days 00:09:39.290000')},\n",
       " {'ts_off': Timestamp('2023-10-14 10:30:48.623000'),\n",
       "  'next_ts_on': Timestamp('2023-10-14 13:07:51.477000'),\n",
       "  'difference': Timedelta('0 days 02:37:02.854000')},\n",
       " {'ts_off': Timestamp('2023-10-14 13:09:53.337000'),\n",
       "  'next_ts_on': Timestamp('2023-10-14 16:20:41.311000'),\n",
       "  'difference': Timedelta('0 days 03:10:47.974000')},\n",
       " {'ts_off': Timestamp('2023-10-14 16:21:21.892000'),\n",
       "  'next_ts_on': Timestamp('2023-10-14 17:05:22.953000'),\n",
       "  'difference': Timedelta('0 days 00:44:01.061000')},\n",
       " {'ts_off': Timestamp('2023-10-14 17:05:39.666000'),\n",
       "  'next_ts_on': Timestamp('2023-10-15 06:39:47.856000'),\n",
       "  'difference': Timedelta('0 days 13:34:08.190000')},\n",
       " {'ts_off': Timestamp('2023-10-15 06:39:58.997000'),\n",
       "  'next_ts_on': Timestamp('2023-10-15 06:45:35.267000'),\n",
       "  'difference': Timedelta('0 days 00:05:36.270000')},\n",
       " {'ts_off': Timestamp('2023-10-15 06:46:49.650000'),\n",
       "  'next_ts_on': Timestamp('2023-10-15 07:20:08.468000'),\n",
       "  'difference': Timedelta('0 days 00:33:18.818000')},\n",
       " {'ts_off': Timestamp('2023-10-15 07:20:16.295000'),\n",
       "  'next_ts_on': Timestamp('2023-10-15 09:35:29.670000'),\n",
       "  'difference': Timedelta('0 days 02:15:13.375000')},\n",
       " {'ts_off': Timestamp('2023-10-15 09:37:16.814000'),\n",
       "  'next_ts_on': Timestamp('2023-10-15 11:10:07.305000'),\n",
       "  'difference': Timedelta('0 days 01:32:50.491000')},\n",
       " {'ts_off': Timestamp('2023-10-15 11:10:40.467000'),\n",
       "  'next_ts_on': Timestamp('2023-10-15 15:03:23.425000'),\n",
       "  'difference': Timedelta('0 days 03:52:42.958000')},\n",
       " {'ts_off': Timestamp('2023-10-15 15:04:32.948000'),\n",
       "  'next_ts_on': Timestamp('2023-10-15 15:47:39.326000'),\n",
       "  'difference': Timedelta('0 days 00:43:06.378000')},\n",
       " {'ts_off': Timestamp('2023-10-15 15:47:59.724000'),\n",
       "  'next_ts_on': Timestamp('2023-10-16 06:42:38.775000'),\n",
       "  'difference': Timedelta('0 days 14:54:39.051000')},\n",
       " {'ts_off': Timestamp('2023-10-16 06:42:44.772000'),\n",
       "  'next_ts_on': Timestamp('2023-10-16 08:33:57.997000'),\n",
       "  'difference': Timedelta('0 days 01:51:13.225000')},\n",
       " {'ts_off': Timestamp('2023-10-16 08:34:25.509000'),\n",
       "  'next_ts_on': Timestamp('2023-10-16 09:06:51.305000'),\n",
       "  'difference': Timedelta('0 days 00:32:25.796000')},\n",
       " {'ts_off': Timestamp('2023-10-16 09:07:01.881000'),\n",
       "  'next_ts_on': Timestamp('2023-10-16 09:31:26.506000'),\n",
       "  'difference': Timedelta('0 days 00:24:24.625000')},\n",
       " {'ts_off': Timestamp('2023-10-16 09:32:02.073000'),\n",
       "  'next_ts_on': Timestamp('2023-10-16 14:51:22.624000'),\n",
       "  'difference': Timedelta('0 days 05:19:20.551000')},\n",
       " {'ts_off': Timestamp('2023-10-16 14:51:38.799000'),\n",
       "  'next_ts_on': Timestamp('2023-10-16 15:21:01.493000'),\n",
       "  'difference': Timedelta('0 days 00:29:22.694000')},\n",
       " {'ts_off': Timestamp('2023-10-16 15:21:33.099000'),\n",
       "  'next_ts_on': Timestamp('2023-10-16 16:37:05.954000'),\n",
       "  'difference': Timedelta('0 days 01:15:32.855000')},\n",
       " {'ts_off': Timestamp('2023-10-16 16:37:18.322000'),\n",
       "  'next_ts_on': Timestamp('2023-10-17 06:25:01.122000'),\n",
       "  'difference': Timedelta('0 days 13:47:42.800000')},\n",
       " {'ts_off': Timestamp('2023-10-17 06:25:15.293000'),\n",
       "  'next_ts_on': Timestamp('2023-10-17 08:52:57.461000'),\n",
       "  'difference': Timedelta('0 days 02:27:42.168000')},\n",
       " {'ts_off': Timestamp('2023-10-17 08:53:25.992000'),\n",
       "  'next_ts_on': Timestamp('2023-10-17 15:18:27.745000'),\n",
       "  'difference': Timedelta('0 days 06:25:01.753000')},\n",
       " {'ts_off': Timestamp('2023-10-17 15:18:42.410000'),\n",
       "  'next_ts_on': Timestamp('2023-10-17 16:56:56.808000'),\n",
       "  'difference': Timedelta('0 days 01:38:14.398000')},\n",
       " {'ts_off': Timestamp('2023-10-17 16:57:08.764000'),\n",
       "  'next_ts_on': Timestamp('2023-10-18 06:43:08.913000'),\n",
       "  'difference': Timedelta('0 days 13:46:00.149000')},\n",
       " {'ts_off': Timestamp('2023-10-18 06:43:18.091000'),\n",
       "  'next_ts_on': Timestamp('2023-10-18 08:14:09.844000'),\n",
       "  'difference': Timedelta('0 days 01:30:51.753000')},\n",
       " {'ts_off': Timestamp('2023-10-18 08:14:20.997000'),\n",
       "  'next_ts_on': Timestamp('2023-10-18 09:33:23.686000'),\n",
       "  'difference': Timedelta('0 days 01:19:02.689000')},\n",
       " {'ts_off': Timestamp('2023-10-18 09:33:59.273000'),\n",
       "  'next_ts_on': Timestamp('2023-10-18 09:36:42.809000'),\n",
       "  'difference': Timedelta('0 days 00:02:43.536000')},\n",
       " {'ts_off': Timestamp('2023-10-18 09:36:56.172000'),\n",
       "  'next_ts_on': Timestamp('2023-10-18 10:47:18.472000'),\n",
       "  'difference': Timedelta('0 days 01:10:22.300000')},\n",
       " {'ts_off': Timestamp('2023-10-18 10:47:26.609000'),\n",
       "  'next_ts_on': Timestamp('2023-10-18 10:48:13.070000'),\n",
       "  'difference': Timedelta('0 days 00:00:46.461000')},\n",
       " {'ts_off': Timestamp('2023-10-18 10:48:34.326000'),\n",
       "  'next_ts_on': Timestamp('2023-10-18 10:50:19.772000'),\n",
       "  'difference': Timedelta('0 days 00:01:45.446000')},\n",
       " {'ts_off': Timestamp('2023-10-18 10:50:27.928000'),\n",
       "  'next_ts_on': Timestamp('2023-10-18 11:34:56.554000'),\n",
       "  'difference': Timedelta('0 days 00:44:28.626000')},\n",
       " {'ts_off': Timestamp('2023-10-18 11:35:21.359000'),\n",
       "  'next_ts_on': Timestamp('2023-10-18 11:35:36.270000'),\n",
       "  'difference': Timedelta('0 days 00:00:14.911000')},\n",
       " {'ts_off': Timestamp('2023-10-18 11:35:45.481000'),\n",
       "  'next_ts_on': Timestamp('2023-10-18 13:16:30.959000'),\n",
       "  'difference': Timedelta('0 days 01:40:45.478000')},\n",
       " {'ts_off': Timestamp('2023-10-18 13:16:37.752000'),\n",
       "  'next_ts_on': Timestamp('2023-10-18 13:17:00.944000'),\n",
       "  'difference': Timedelta('0 days 00:00:23.192000')},\n",
       " {'ts_off': Timestamp('2023-10-18 13:17:26.102000'),\n",
       "  'next_ts_on': Timestamp('2023-10-18 13:59:09.970000'),\n",
       "  'difference': Timedelta('0 days 00:41:43.868000')},\n",
       " {'ts_off': Timestamp('2023-10-18 14:00:19.948000'),\n",
       "  'next_ts_on': Timestamp('2023-10-18 14:10:26.760000'),\n",
       "  'difference': Timedelta('0 days 00:10:06.812000')},\n",
       " {'ts_off': Timestamp('2023-10-18 14:10:34.123000'),\n",
       "  'next_ts_on': Timestamp('2023-10-18 15:35:09.563000'),\n",
       "  'difference': Timedelta('0 days 01:24:35.440000')},\n",
       " {'ts_off': Timestamp('2023-10-18 15:35:53.629000'),\n",
       "  'next_ts_on': Timestamp('2023-10-18 16:26:54.753000'),\n",
       "  'difference': Timedelta('0 days 00:51:01.124000')},\n",
       " {'ts_off': Timestamp('2023-10-18 16:27:04.901000'),\n",
       "  'next_ts_on': Timestamp('2023-10-19 06:38:44.210000'),\n",
       "  'difference': Timedelta('0 days 14:11:39.309000')},\n",
       " {'ts_off': Timestamp('2023-10-19 06:38:52.689000'),\n",
       "  'next_ts_on': Timestamp('2023-10-19 08:20:22.190000'),\n",
       "  'difference': Timedelta('0 days 01:41:29.501000')},\n",
       " {'ts_off': Timestamp('2023-10-19 08:20:30.870000'),\n",
       "  'next_ts_on': Timestamp('2023-10-19 08:20:32.234000'),\n",
       "  'difference': Timedelta('0 days 00:00:01.364000')},\n",
       " {'ts_off': Timestamp('2023-10-19 08:36:34.809000'),\n",
       "  'next_ts_on': Timestamp('2023-10-19 08:47:20.538000'),\n",
       "  'difference': Timedelta('0 days 00:10:45.729000')},\n",
       " {'ts_off': Timestamp('2023-10-19 08:47:27.117000'),\n",
       "  'next_ts_on': Timestamp('2023-10-20 12:45:05.998000'),\n",
       "  'difference': Timedelta('1 days 03:57:38.881000')},\n",
       " {'ts_off': Timestamp('2023-10-20 12:45:14.701000'),\n",
       "  'next_ts_on': Timestamp('2023-10-20 14:03:50.730000'),\n",
       "  'difference': Timedelta('0 days 01:18:36.029000')},\n",
       " {'ts_off': Timestamp('2023-10-20 14:04:11.687000'),\n",
       "  'next_ts_on': Timestamp('2023-10-20 14:04:12.835000'),\n",
       "  'difference': Timedelta('0 days 00:00:01.148000')},\n",
       " {'ts_off': Timestamp('2023-10-20 14:09:50.544000'),\n",
       "  'next_ts_on': Timestamp('2023-10-20 14:53:22.449000'),\n",
       "  'difference': Timedelta('0 days 00:43:31.905000')},\n",
       " {'ts_off': Timestamp('2023-10-20 14:53:47.426000'),\n",
       "  'next_ts_on': Timestamp('2023-10-20 14:53:48.780000'),\n",
       "  'difference': Timedelta('0 days 00:00:01.354000')},\n",
       " {'ts_off': Timestamp('2023-10-20 14:54:42.547000'),\n",
       "  'next_ts_on': Timestamp('2023-10-20 14:54:43.278000'),\n",
       "  'difference': Timedelta('0 days 00:00:00.731000')},\n",
       " {'ts_off': Timestamp('2023-10-20 14:54:43.896000'),\n",
       "  'next_ts_on': Timestamp('2023-10-21 06:27:24.590000'),\n",
       "  'difference': Timedelta('0 days 15:32:40.694000')},\n",
       " {'ts_off': Timestamp('2023-10-21 06:27:31.780000'),\n",
       "  'next_ts_on': Timestamp('2023-10-21 06:30:20.887000'),\n",
       "  'difference': Timedelta('0 days 00:02:49.107000')},\n",
       " {'ts_off': Timestamp('2023-10-21 06:30:24.930000'),\n",
       "  'next_ts_on': Timestamp('2023-10-21 06:35:41.521000'),\n",
       "  'difference': Timedelta('0 days 00:05:16.591000')},\n",
       " {'ts_off': Timestamp('2023-10-21 06:35:48.545000'),\n",
       "  'next_ts_on': Timestamp('2023-10-21 07:06:38.615000'),\n",
       "  'difference': Timedelta('0 days 00:30:50.070000')},\n",
       " {'ts_off': Timestamp('2023-10-21 07:06:47.915000'),\n",
       "  'next_ts_on': Timestamp('2023-10-21 07:09:09.180000'),\n",
       "  'difference': Timedelta('0 days 00:02:21.265000')},\n",
       " {'ts_off': Timestamp('2023-10-21 07:09:29.604000'),\n",
       "  'next_ts_on': Timestamp('2023-10-21 08:13:02.407000'),\n",
       "  'difference': Timedelta('0 days 01:03:32.803000')},\n",
       " {'ts_off': Timestamp('2023-10-21 08:13:35.956000'),\n",
       "  'next_ts_on': Timestamp('2023-10-21 08:23:02.172000'),\n",
       "  'difference': Timedelta('0 days 00:09:26.216000')},\n",
       " {'ts_off': Timestamp('2023-10-21 08:23:13.330000'),\n",
       "  'next_ts_on': Timestamp('2023-10-21 08:47:56.424000'),\n",
       "  'difference': Timedelta('0 days 00:24:43.094000')},\n",
       " {'ts_off': Timestamp('2023-10-21 08:48:06.495000'),\n",
       "  'next_ts_on': Timestamp('2023-10-21 09:03:21.188000'),\n",
       "  'difference': Timedelta('0 days 00:15:14.693000')},\n",
       " {'ts_off': Timestamp('2023-10-21 09:03:45.150000'),\n",
       "  'next_ts_on': Timestamp('2023-10-21 10:41:14.472000'),\n",
       "  'difference': Timedelta('0 days 01:37:29.322000')},\n",
       " {'ts_off': Timestamp('2023-10-21 10:41:20.467000'),\n",
       "  'next_ts_on': Timestamp('2023-10-21 10:43:34.928000'),\n",
       "  'difference': Timedelta('0 days 00:02:14.461000')},\n",
       " {'ts_off': Timestamp('2023-10-21 10:52:47.203000'),\n",
       "  'next_ts_on': Timestamp('2023-10-21 10:52:47.995000'),\n",
       "  'difference': Timedelta('0 days 00:00:00.792000')},\n",
       " {'ts_off': Timestamp('2023-10-21 11:04:18.714000'),\n",
       "  'next_ts_on': Timestamp('2023-10-21 13:39:05.925000'),\n",
       "  'difference': Timedelta('0 days 02:34:47.211000')},\n",
       " {'ts_off': Timestamp('2023-10-21 13:41:40.199000'),\n",
       "  'next_ts_on': Timestamp('2023-10-21 15:23:30.310000'),\n",
       "  'difference': Timedelta('0 days 01:41:50.111000')},\n",
       " {'ts_off': Timestamp('2023-10-21 15:27:06.566000'),\n",
       "  'next_ts_on': Timestamp('2023-10-21 15:27:07.401000'),\n",
       "  'difference': Timedelta('0 days 00:00:00.835000')},\n",
       " {'ts_off': Timestamp('2023-10-21 15:27:25'),\n",
       "  'next_ts_on': Timestamp('2023-10-21 15:32:53.909000'),\n",
       "  'difference': Timedelta('0 days 00:05:28.909000')},\n",
       " {'ts_off': Timestamp('2023-10-21 15:32:57.894000'),\n",
       "  'next_ts_on': Timestamp('2023-10-21 16:35:14.426000'),\n",
       "  'difference': Timedelta('0 days 01:02:16.532000')},\n",
       " {'ts_off': Timestamp('2023-10-21 16:35:21.174000'),\n",
       "  'next_ts_on': Timestamp('2023-10-21 21:40:08.361000'),\n",
       "  'difference': Timedelta('0 days 05:04:47.187000')},\n",
       " {'ts_off': Timestamp('2023-10-21 21:40:43.576000'),\n",
       "  'next_ts_on': Timestamp('2023-10-22 07:06:57.478000'),\n",
       "  'difference': Timedelta('0 days 09:26:13.902000')},\n",
       " {'ts_off': Timestamp('2023-10-22 07:07:04.543000'),\n",
       "  'next_ts_on': Timestamp('2023-10-22 08:25:17.411000'),\n",
       "  'difference': Timedelta('0 days 01:18:12.868000')},\n",
       " {'ts_off': Timestamp('2023-10-22 08:27:43.476000'),\n",
       "  'next_ts_on': Timestamp('2023-10-22 08:36:15.920000'),\n",
       "  'difference': Timedelta('0 days 00:08:32.444000')},\n",
       " {'ts_off': Timestamp('2023-10-22 08:36:21.628000'),\n",
       "  'next_ts_on': Timestamp('2023-10-22 10:27:39.476000'),\n",
       "  'difference': Timedelta('0 days 01:51:17.848000')},\n",
       " {'ts_off': Timestamp('2023-10-22 10:27:53.353000'),\n",
       "  'next_ts_on': Timestamp('2023-10-22 14:16:34.859000'),\n",
       "  'difference': Timedelta('0 days 03:48:41.506000')},\n",
       " {'ts_off': Timestamp('2023-10-22 14:17:02.680000'),\n",
       "  'next_ts_on': Timestamp('2023-10-22 14:17:09.072000'),\n",
       "  'difference': Timedelta('0 days 00:00:06.392000')},\n",
       " {'ts_off': Timestamp('2023-10-22 14:17:40.988000'),\n",
       "  'next_ts_on': Timestamp('2023-10-22 15:42:13.360000'),\n",
       "  'difference': Timedelta('0 days 01:24:32.372000')},\n",
       " {'ts_off': Timestamp('2023-10-22 15:42:46.950000'),\n",
       "  'next_ts_on': Timestamp('2023-10-22 20:36:51.644000'),\n",
       "  'difference': Timedelta('0 days 04:54:04.694000')},\n",
       " {'ts_off': Timestamp('2023-10-22 20:40:53.530000'),\n",
       "  'next_ts_on': Timestamp('2023-10-23 06:37:17.318000'),\n",
       "  'difference': Timedelta('0 days 09:56:23.788000')},\n",
       " {'ts_off': Timestamp('2023-10-23 06:37:24.321000'),\n",
       "  'next_ts_on': Timestamp('2023-10-23 07:43:16.598000'),\n",
       "  'difference': Timedelta('0 days 01:05:52.277000')},\n",
       " {'ts_off': Timestamp('2023-10-23 07:43:24.866000'),\n",
       "  'next_ts_on': Timestamp('2023-10-23 08:04:19.015000'),\n",
       "  'difference': Timedelta('0 days 00:20:54.149000')},\n",
       " {'ts_off': Timestamp('2023-10-23 08:04:25.328000'),\n",
       "  'next_ts_on': Timestamp('2023-10-23 09:12:31.760000'),\n",
       "  'difference': Timedelta('0 days 01:08:06.432000')},\n",
       " {'ts_off': Timestamp('2023-10-23 09:12:47.144000'),\n",
       "  'next_ts_on': Timestamp('2023-10-23 10:59:31'),\n",
       "  'difference': Timedelta('0 days 01:46:43.856000')},\n",
       " {'ts_off': Timestamp('2023-10-23 11:00:11.449000'),\n",
       "  'next_ts_on': Timestamp('2023-10-23 13:14:27.531000'),\n",
       "  'difference': Timedelta('0 days 02:14:16.082000')},\n",
       " {'ts_off': Timestamp('2023-10-23 13:14:34.277000'),\n",
       "  'next_ts_on': Timestamp('2023-10-23 13:15:20.185000'),\n",
       "  'difference': Timedelta('0 days 00:00:45.908000')},\n",
       " {'ts_off': Timestamp('2023-10-23 13:15:42.035000'),\n",
       "  'next_ts_on': Timestamp('2023-10-23 14:54:42.499000'),\n",
       "  'difference': Timedelta('0 days 01:39:00.464000')},\n",
       " {'ts_off': Timestamp('2023-10-23 14:55:28.369000'),\n",
       "  'next_ts_on': Timestamp('2023-10-23 15:36:25.483000'),\n",
       "  'difference': Timedelta('0 days 00:40:57.114000')},\n",
       " {'ts_off': Timestamp('2023-10-23 15:36:33.032000'),\n",
       "  'next_ts_on': Timestamp('2023-10-24 07:04:54.223000'),\n",
       "  'difference': Timedelta('0 days 15:28:21.191000')},\n",
       " {'ts_off': Timestamp('2023-10-24 07:05:01.402000'),\n",
       "  'next_ts_on': Timestamp('2023-10-24 07:13:56.425000'),\n",
       "  'difference': Timedelta('0 days 00:08:55.023000')},\n",
       " {'ts_off': Timestamp('2023-10-24 07:15:02.857000'),\n",
       "  'next_ts_on': Timestamp('2023-10-24 08:17:16.198000'),\n",
       "  'difference': Timedelta('0 days 01:02:13.341000')},\n",
       " {'ts_off': Timestamp('2023-10-24 08:20:01.001000'),\n",
       "  'next_ts_on': Timestamp('2023-10-24 08:27:03.108000'),\n",
       "  'difference': Timedelta('0 days 00:07:02.107000')},\n",
       " {'ts_off': Timestamp('2023-10-24 08:27:09.201000'),\n",
       "  'next_ts_on': Timestamp('2023-10-24 08:28:45.511000'),\n",
       "  'difference': Timedelta('0 days 00:01:36.310000')},\n",
       " {'ts_off': Timestamp('2023-10-24 08:28:52.257000'),\n",
       "  'next_ts_on': Timestamp('2023-10-24 13:12:12.213000'),\n",
       "  'difference': Timedelta('0 days 04:43:19.956000')},\n",
       " {'ts_off': Timestamp('2023-10-24 13:30:47.149000'),\n",
       "  'next_ts_on': Timestamp('2023-10-24 14:45:23.958000'),\n",
       "  'difference': Timedelta('0 days 01:14:36.809000')},\n",
       " {'ts_off': Timestamp('2023-10-24 14:45:31.447000'),\n",
       "  'next_ts_on': Timestamp('2023-10-24 15:38:08.707000'),\n",
       "  'difference': Timedelta('0 days 00:52:37.260000')},\n",
       " {'ts_off': Timestamp('2023-10-24 15:38:17.844000'),\n",
       "  'next_ts_on': Timestamp('2023-10-24 15:38:19.233000'),\n",
       "  'difference': Timedelta('0 days 00:00:01.389000')},\n",
       " {'ts_off': Timestamp('2023-10-24 15:39:53.865000'),\n",
       "  'next_ts_on': Timestamp('2023-10-24 16:18:58.110000'),\n",
       "  'difference': Timedelta('0 days 00:39:04.245000')},\n",
       " {'ts_off': Timestamp('2023-10-24 16:21:42.456000'),\n",
       "  'next_ts_on': Timestamp('2023-10-24 16:27:38.354000'),\n",
       "  'difference': Timedelta('0 days 00:05:55.898000')},\n",
       " {'ts_off': Timestamp('2023-10-24 16:27:47.905000'),\n",
       "  'next_ts_on': Timestamp('2023-10-26 06:13:06.388000'),\n",
       "  'difference': Timedelta('1 days 13:45:18.483000')},\n",
       " {'ts_off': Timestamp('2023-10-26 06:13:13.209000'),\n",
       "  'next_ts_on': Timestamp('2023-10-26 06:19:09.390000'),\n",
       "  'difference': Timedelta('0 days 00:05:56.181000')},\n",
       " {'ts_off': Timestamp('2023-10-26 06:20:23.621000'),\n",
       "  'next_ts_on': Timestamp('2023-10-26 07:59:11.388000'),\n",
       "  'difference': Timedelta('0 days 01:38:47.767000')},\n",
       " {'ts_off': Timestamp('2023-10-26 07:59:55.716000'),\n",
       "  'next_ts_on': Timestamp('2023-10-26 08:39:54.115000'),\n",
       "  'difference': Timedelta('0 days 00:39:58.399000')},\n",
       " {'ts_off': Timestamp('2023-10-26 08:40:01.808000'),\n",
       "  'next_ts_on': Timestamp('2023-10-26 08:40:41.164000'),\n",
       "  'difference': Timedelta('0 days 00:00:39.356000')},\n",
       " {'ts_off': Timestamp('2023-10-26 08:40:46.995000'),\n",
       "  'next_ts_on': Timestamp('2023-10-26 08:41:12.337000'),\n",
       "  'difference': Timedelta('0 days 00:00:25.342000')},\n",
       " {'ts_off': Timestamp('2023-10-26 08:43:09.988000'),\n",
       "  'next_ts_on': Timestamp('2023-10-26 10:30:00.104000'),\n",
       "  'difference': Timedelta('0 days 01:46:50.116000')},\n",
       " {'ts_off': Timestamp('2023-10-26 10:30:08.164000'),\n",
       "  'next_ts_on': Timestamp('2023-10-26 10:43:20.920000'),\n",
       "  'difference': Timedelta('0 days 00:13:12.756000')},\n",
       " {'ts_off': Timestamp('2023-10-26 10:43:27.329000'),\n",
       "  'next_ts_on': Timestamp('2023-10-26 11:01:37.003000'),\n",
       "  'difference': Timedelta('0 days 00:18:09.674000')},\n",
       " {'ts_off': Timestamp('2023-10-26 11:01:43.106000'),\n",
       "  'next_ts_on': Timestamp('2023-10-26 15:29:04.967000'),\n",
       "  'difference': Timedelta('0 days 04:27:21.861000')},\n",
       " {'ts_off': Timestamp('2023-10-26 15:29:29.150000'),\n",
       "  'next_ts_on': Timestamp('2023-10-26 15:54:02.925000'),\n",
       "  'difference': Timedelta('0 days 00:24:33.775000')},\n",
       " {'ts_off': Timestamp('2023-10-26 15:55:33.760000'),\n",
       "  'next_ts_on': Timestamp('2023-10-26 15:55:52.826000'),\n",
       "  'difference': Timedelta('0 days 00:00:19.066000')},\n",
       " {'ts_off': Timestamp('2023-10-26 15:56:06.194000'),\n",
       "  'next_ts_on': Timestamp('2023-10-26 15:57:17.481000'),\n",
       "  'difference': Timedelta('0 days 00:01:11.287000')},\n",
       " {'ts_off': Timestamp('2023-10-26 15:57:34.772000'),\n",
       "  'next_ts_on': Timestamp('2023-10-26 21:15:58.550000'),\n",
       "  'difference': Timedelta('0 days 05:18:23.778000')},\n",
       " {'ts_off': Timestamp('2023-10-26 21:17:23.347000'),\n",
       "  'next_ts_on': Timestamp('2023-10-27 07:00:56.487000'),\n",
       "  'difference': Timedelta('0 days 09:43:33.140000')},\n",
       " {'ts_off': Timestamp('2023-10-27 07:01:03.452000'),\n",
       "  'next_ts_on': Timestamp('2023-10-27 07:49:48.130000'),\n",
       "  'difference': Timedelta('0 days 00:48:44.678000')},\n",
       " {'ts_off': Timestamp('2023-10-27 07:50:12.147000'),\n",
       "  'next_ts_on': Timestamp('2023-10-27 08:17:30.227000'),\n",
       "  'difference': Timedelta('0 days 00:27:18.080000')},\n",
       " {'ts_off': Timestamp('2023-10-27 08:17:33.816000'),\n",
       "  'next_ts_on': Timestamp('2023-10-27 08:19:24.541000'),\n",
       "  'difference': Timedelta('0 days 00:01:50.725000')},\n",
       " {'ts_off': Timestamp('2023-10-27 08:19:31.383000'),\n",
       "  'next_ts_on': Timestamp('2023-10-27 09:21:13.772000'),\n",
       "  'difference': Timedelta('0 days 01:01:42.389000')},\n",
       " {'ts_off': Timestamp('2023-10-27 09:21:18.794000'),\n",
       "  'next_ts_on': Timestamp('2023-10-27 09:55:13.492000'),\n",
       "  'difference': Timedelta('0 days 00:33:54.698000')},\n",
       " {'ts_off': Timestamp('2023-10-27 09:55:20.613000'),\n",
       "  'next_ts_on': Timestamp('2023-10-27 09:58:34.148000'),\n",
       "  'difference': Timedelta('0 days 00:03:13.535000')},\n",
       " {'ts_off': Timestamp('2023-10-27 10:05:39.428000'),\n",
       "  'next_ts_on': Timestamp('2023-10-27 11:02:43.402000'),\n",
       "  'difference': Timedelta('0 days 00:57:03.974000')},\n",
       " {'ts_off': Timestamp('2023-10-27 11:03:09.662000'),\n",
       "  'next_ts_on': Timestamp('2023-10-27 11:20:10.354000'),\n",
       "  'difference': Timedelta('0 days 00:17:00.692000')},\n",
       " {'ts_off': Timestamp('2023-10-27 11:21:12.469000'),\n",
       "  'next_ts_on': Timestamp('2023-10-27 13:53:27.966000'),\n",
       "  'difference': Timedelta('0 days 02:32:15.497000')},\n",
       " {'ts_off': Timestamp('2023-10-27 13:53:37.258000'),\n",
       "  'next_ts_on': Timestamp('2023-10-27 14:22:27.182000'),\n",
       "  'difference': Timedelta('0 days 00:28:49.924000')},\n",
       " {'ts_off': Timestamp('2023-10-27 14:22:44.065000'),\n",
       "  'next_ts_on': Timestamp('2023-10-27 16:20:28.533000'),\n",
       "  'difference': Timedelta('0 days 01:57:44.468000')},\n",
       " {'ts_off': Timestamp('2023-10-27 16:20:34.677000'),\n",
       "  'next_ts_on': Timestamp('2023-10-27 17:11:37.860000'),\n",
       "  'difference': Timedelta('0 days 00:51:03.183000')},\n",
       " {'ts_off': Timestamp('2023-10-27 17:11:49.338000'),\n",
       "  'next_ts_on': Timestamp('2023-10-28 06:27:53.481000'),\n",
       "  'difference': Timedelta('0 days 13:16:04.143000')},\n",
       " {'ts_off': Timestamp('2023-10-28 06:28:23.800000'),\n",
       "  'next_ts_on': Timestamp('2023-10-28 06:28:58.719000'),\n",
       "  'difference': Timedelta('0 days 00:00:34.919000')},\n",
       " {'ts_off': Timestamp('2023-10-28 06:29:02.881000'),\n",
       "  'next_ts_on': Timestamp('2023-10-28 06:37:37.791000'),\n",
       "  'difference': Timedelta('0 days 00:08:34.910000')},\n",
       " {'ts_off': Timestamp('2023-10-28 06:38:52.592000'),\n",
       "  'next_ts_on': Timestamp('2023-10-28 07:10:54.724000'),\n",
       "  'difference': Timedelta('0 days 00:32:02.132000')},\n",
       " {'ts_off': Timestamp('2023-10-28 07:11:15.724000'),\n",
       "  'next_ts_on': Timestamp('2023-10-28 08:15:20.449000'),\n",
       "  'difference': Timedelta('0 days 01:04:04.725000')},\n",
       " {'ts_off': Timestamp('2023-10-28 08:15:36.611000'),\n",
       "  'next_ts_on': Timestamp('2023-10-28 08:24:28.695000'),\n",
       "  'difference': Timedelta('0 days 00:08:52.084000')},\n",
       " {'ts_off': Timestamp('2023-10-28 08:24:38.431000'),\n",
       "  'next_ts_on': Timestamp('2023-10-28 08:49:38.903000'),\n",
       "  'difference': Timedelta('0 days 00:25:00.472000')},\n",
       " {'ts_off': Timestamp('2023-10-28 08:49:49.173000'),\n",
       "  'next_ts_on': Timestamp('2023-10-28 10:29:14.350000'),\n",
       "  'difference': Timedelta('0 days 01:39:25.177000')},\n",
       " {'ts_off': Timestamp('2023-10-28 10:29:19.243000'),\n",
       "  'next_ts_on': Timestamp('2023-10-28 10:31:12.887000'),\n",
       "  'difference': Timedelta('0 days 00:01:53.644000')},\n",
       " {'ts_off': Timestamp('2023-10-28 10:31:20.464000'),\n",
       "  'next_ts_on': Timestamp('2023-10-28 10:37:27.842000'),\n",
       "  'difference': Timedelta('0 days 00:06:07.378000')},\n",
       " {'ts_off': Timestamp('2023-10-28 10:37:35.720000'),\n",
       "  'next_ts_on': Timestamp('2023-10-28 10:44:52.332000'),\n",
       "  'difference': Timedelta('0 days 00:07:16.612000')},\n",
       " {'ts_off': Timestamp('2023-10-28 10:44:56.419000'),\n",
       "  'next_ts_on': Timestamp('2023-10-28 11:41:04.089000'),\n",
       "  'difference': Timedelta('0 days 00:56:07.670000')},\n",
       " {'ts_off': Timestamp('2023-10-28 11:41:10.092000'),\n",
       "  'next_ts_on': Timestamp('2023-10-28 12:11:28.117000'),\n",
       "  'difference': Timedelta('0 days 00:30:18.025000')},\n",
       " {'ts_off': Timestamp('2023-10-28 12:11:33.871000'),\n",
       "  'next_ts_on': Timestamp('2023-10-28 13:49:20.461000'),\n",
       "  'difference': Timedelta('0 days 01:37:46.590000')},\n",
       " {'ts_off': Timestamp('2023-10-28 13:49:25.588000'),\n",
       "  'next_ts_on': Timestamp('2023-10-28 14:29:23.882000'),\n",
       "  'difference': Timedelta('0 days 00:39:58.294000')},\n",
       " {'ts_off': Timestamp('2023-10-28 14:29:38.632000'),\n",
       "  'next_ts_on': Timestamp('2023-10-28 15:26:42.934000'),\n",
       "  'difference': Timedelta('0 days 00:57:04.302000')},\n",
       " {'ts_off': Timestamp('2023-10-28 15:26:57.069000'),\n",
       "  'next_ts_on': Timestamp('2023-10-28 15:28:47.617000'),\n",
       "  'difference': Timedelta('0 days 00:01:50.548000')},\n",
       " {'ts_off': Timestamp('2023-10-28 15:29:17.975000'),\n",
       "  'next_ts_on': Timestamp('2023-10-28 19:21:42.631000'),\n",
       "  'difference': Timedelta('0 days 03:52:24.656000')},\n",
       " {'ts_off': Timestamp('2023-10-28 19:22:15.302000'),\n",
       "  'next_ts_on': Timestamp('2023-10-28 19:30:26.389000'),\n",
       "  'difference': Timedelta('0 days 00:08:11.087000')},\n",
       " {'ts_off': Timestamp('2023-10-28 19:30:33.536000'),\n",
       "  'next_ts_on': Timestamp('2023-10-29 06:45:20.349000'),\n",
       "  'difference': Timedelta('0 days 11:14:46.813000')},\n",
       " {'ts_off': Timestamp('2023-10-29 06:45:26.659000'),\n",
       "  'next_ts_on': Timestamp('2023-10-29 06:49:30.581000'),\n",
       "  'difference': Timedelta('0 days 00:04:03.922000')},\n",
       " {'ts_off': Timestamp('2023-10-29 06:59:39.621000'),\n",
       "  'next_ts_on': Timestamp('2023-10-29 07:26:22.993000'),\n",
       "  'difference': Timedelta('0 days 00:26:43.372000')},\n",
       " {'ts_off': Timestamp('2023-10-29 07:26:40.642000'),\n",
       "  'next_ts_on': Timestamp('2023-10-29 10:16:49.309000'),\n",
       "  'difference': Timedelta('0 days 02:50:08.667000')},\n",
       " {'ts_off': Timestamp('2023-10-29 10:18:15.702000'),\n",
       "  'next_ts_on': Timestamp('2023-10-29 15:30:21.726000'),\n",
       "  'difference': Timedelta('0 days 05:12:06.024000')},\n",
       " {'ts_off': Timestamp('2023-10-29 15:30:30.634000'),\n",
       "  'next_ts_on': Timestamp('2023-10-29 15:32:39.329000'),\n",
       "  'difference': Timedelta('0 days 00:02:08.695000')},\n",
       " {'ts_off': Timestamp('2023-10-29 15:33:13.233000'),\n",
       "  'next_ts_on': Timestamp('2023-10-29 16:17:10.255000'),\n",
       "  'difference': Timedelta('0 days 00:43:57.022000')},\n",
       " {'ts_off': Timestamp('2023-10-29 16:17:53.967000'),\n",
       "  'next_ts_on': Timestamp('2023-10-29 16:26:06.179000'),\n",
       "  'difference': Timedelta('0 days 00:08:12.212000')},\n",
       " {'ts_off': Timestamp('2023-10-29 16:26:14.314000'),\n",
       "  'next_ts_on': Timestamp('2023-10-29 16:26:25.601000'),\n",
       "  'difference': Timedelta('0 days 00:00:11.287000')},\n",
       " {'ts_off': Timestamp('2023-10-29 16:26:56.006000'),\n",
       "  'next_ts_on': Timestamp('2023-10-30 07:16:41.201000'),\n",
       "  'difference': Timedelta('0 days 14:49:45.195000')},\n",
       " {'ts_off': Timestamp('2023-10-30 07:16:48.118000'),\n",
       "  'next_ts_on': Timestamp('2023-10-30 08:56:36.299000'),\n",
       "  'difference': Timedelta('0 days 01:39:48.181000')},\n",
       " {'ts_off': Timestamp('2023-10-30 08:58:39.641000'),\n",
       "  'next_ts_on': Timestamp('2023-10-30 09:47:41.484000'),\n",
       "  'difference': Timedelta('0 days 00:49:01.843000')},\n",
       " {'ts_off': Timestamp('2023-10-30 09:47:54.322000'),\n",
       "  'next_ts_on': Timestamp('2023-10-30 11:12:44.877000'),\n",
       "  'difference': Timedelta('0 days 01:24:50.555000')},\n",
       " {'ts_off': Timestamp('2023-10-30 11:12:57.225000'),\n",
       "  'next_ts_on': Timestamp('2023-10-30 11:53:39.963000'),\n",
       "  'difference': Timedelta('0 days 00:40:42.738000')},\n",
       " {'ts_off': Timestamp('2023-10-30 11:53:47.834000'),\n",
       "  'next_ts_on': Timestamp('2023-10-30 12:36:29.999000'),\n",
       "  'difference': Timedelta('0 days 00:42:42.165000')},\n",
       " {'ts_off': Timestamp('2023-10-30 12:36:58.141000'),\n",
       "  'next_ts_on': Timestamp('2023-10-30 12:51:43.567000'),\n",
       "  'difference': Timedelta('0 days 00:14:45.426000')},\n",
       " {'ts_off': Timestamp('2023-10-30 12:51:53.150000'),\n",
       "  'next_ts_on': Timestamp('2023-10-30 14:21:44.855000'),\n",
       "  'difference': Timedelta('0 days 01:29:51.705000')},\n",
       " {'ts_off': Timestamp('2023-10-30 14:21:51.218000'),\n",
       "  'next_ts_on': Timestamp('2023-10-30 14:55:01.037000'),\n",
       "  'difference': Timedelta('0 days 00:33:09.819000')},\n",
       " {'ts_off': Timestamp('2023-10-30 14:55:08.702000'),\n",
       "  'next_ts_on': Timestamp('2023-10-30 17:06:49.435000'),\n",
       "  'difference': Timedelta('0 days 02:11:40.733000')},\n",
       " {'ts_off': Timestamp('2023-10-30 17:07:53.329000'),\n",
       "  'next_ts_on': Timestamp('2023-10-30 17:28:49.349000'),\n",
       "  'difference': Timedelta('0 days 00:20:56.020000')},\n",
       " {'ts_off': Timestamp('2023-10-30 17:29:13.040000'),\n",
       "  'next_ts_on': Timestamp('2023-10-31 07:36:28.808000'),\n",
       "  'difference': Timedelta('0 days 14:07:15.768000')},\n",
       " {'ts_off': Timestamp('2023-10-31 07:36:37.652000'),\n",
       "  'next_ts_on': Timestamp('2023-10-31 09:23:58.712000'),\n",
       "  'difference': Timedelta('0 days 01:47:21.060000')},\n",
       " {'ts_off': Timestamp('2023-10-31 09:25:50.800000'),\n",
       "  'next_ts_on': Timestamp('2023-10-31 13:04:37.138000'),\n",
       "  'difference': Timedelta('0 days 03:38:46.338000')},\n",
       " {'ts_off': Timestamp('2023-10-31 13:04:50.124000'),\n",
       "  'next_ts_on': Timestamp('2023-10-31 13:16:56.269000'),\n",
       "  'difference': Timedelta('0 days 00:12:06.145000')},\n",
       " {'ts_off': Timestamp('2023-10-31 13:17:26.380000'),\n",
       "  'next_ts_on': Timestamp('2023-10-31 13:44:50.712000'),\n",
       "  'difference': Timedelta('0 days 00:27:24.332000')},\n",
       " {'ts_off': Timestamp('2023-10-31 13:44:58.168000'),\n",
       "  'next_ts_on': Timestamp('2023-10-31 17:32:01.269000'),\n",
       "  'difference': Timedelta('0 days 03:47:03.101000')},\n",
       " {'ts_off': Timestamp('2023-10-31 17:39:03.731000'),\n",
       "  'next_ts_on': Timestamp('2023-10-31 18:30:34.215000'),\n",
       "  'difference': Timedelta('0 days 00:51:30.484000')},\n",
       " {'ts_off': Timestamp('2023-10-31 18:30:43.590000'),\n",
       "  'next_ts_on': Timestamp('2023-10-31 22:22:41.607000'),\n",
       "  'difference': Timedelta('0 days 03:51:58.017000')},\n",
       " {'ts_off': Timestamp('2023-10-31 22:22:48.083000'),\n",
       "  'next_ts_on': Timestamp('2023-10-31 22:29:48.607000'),\n",
       "  'difference': Timedelta('0 days 00:07:00.524000')},\n",
       " {'ts_off': Timestamp('2023-10-31 22:29:54.141000'),\n",
       "  'next_ts_on': Timestamp('2023-11-01 07:39:27.998000'),\n",
       "  'difference': Timedelta('0 days 09:09:33.857000')},\n",
       " {'ts_off': Timestamp('2023-11-01 07:39:34.397000'),\n",
       "  'next_ts_on': Timestamp('2023-11-01 07:39:58.971000'),\n",
       "  'difference': Timedelta('0 days 00:00:24.574000')},\n",
       " {'ts_off': Timestamp('2023-11-01 07:40:33.301000'),\n",
       "  'next_ts_on': Timestamp('2023-11-01 09:59:54.167000'),\n",
       "  'difference': Timedelta('0 days 02:19:20.866000')},\n",
       " {'ts_off': Timestamp('2023-11-01 10:00:03.535000'),\n",
       "  'next_ts_on': Timestamp('2023-11-01 10:18:46.923000'),\n",
       "  'difference': Timedelta('0 days 00:18:43.388000')},\n",
       " {'ts_off': Timestamp('2023-11-01 10:18:55.051000'),\n",
       "  'next_ts_on': Timestamp('2023-11-01 10:39:39.645000'),\n",
       "  'difference': Timedelta('0 days 00:20:44.594000')},\n",
       " {'ts_off': Timestamp('2023-11-01 10:39:43.887000'),\n",
       "  'next_ts_on': Timestamp('2023-11-01 14:07:01.742000'),\n",
       "  'difference': Timedelta('0 days 03:27:17.855000')},\n",
       " {'ts_off': Timestamp('2023-11-01 14:07:10.232000'),\n",
       "  'next_ts_on': Timestamp('2023-11-01 16:38:11.801000'),\n",
       "  'difference': Timedelta('0 days 02:31:01.569000')},\n",
       " {'ts_off': Timestamp('2023-11-01 16:43:58.569000'),\n",
       "  'next_ts_on': Timestamp('2023-11-01 18:44:31.926000'),\n",
       "  'difference': Timedelta('0 days 02:00:33.357000')},\n",
       " {'ts_off': Timestamp('2023-11-01 18:44:44.870000'),\n",
       "  'next_ts_on': Timestamp('2023-11-02 07:30:49.673000'),\n",
       "  'difference': Timedelta('0 days 12:46:04.803000')},\n",
       " {'ts_off': Timestamp('2023-11-02 07:31:26.527000'),\n",
       "  'next_ts_on': Timestamp('2023-11-02 08:42:55.868000'),\n",
       "  'difference': Timedelta('0 days 01:11:29.341000')},\n",
       " {'ts_off': Timestamp('2023-11-02 08:46:35.073000'),\n",
       "  'next_ts_on': Timestamp('2023-11-02 09:33:16.793000'),\n",
       "  'difference': Timedelta('0 days 00:46:41.720000')},\n",
       " {'ts_off': Timestamp('2023-11-02 09:33:29.973000'),\n",
       "  'next_ts_on': Timestamp('2023-11-02 09:44:06.383000'),\n",
       "  'difference': Timedelta('0 days 00:10:36.410000')},\n",
       " {'ts_off': Timestamp('2023-11-02 09:44:13.821000'),\n",
       "  'next_ts_on': Timestamp('2023-11-02 11:43:11.941000'),\n",
       "  'difference': Timedelta('0 days 01:58:58.120000')},\n",
       " {'ts_off': Timestamp('2023-11-02 11:44:15.537000'),\n",
       "  'next_ts_on': Timestamp('2023-11-02 13:44:34.476000'),\n",
       "  'difference': Timedelta('0 days 02:00:18.939000')},\n",
       " {'ts_off': Timestamp('2023-11-02 13:44:56.766000'),\n",
       "  'next_ts_on': Timestamp('2023-11-02 13:48:03.283000'),\n",
       "  'difference': Timedelta('0 days 00:03:06.517000')},\n",
       " {'ts_off': Timestamp('2023-11-02 13:48:20.821000'),\n",
       "  'next_ts_on': Timestamp('2023-11-02 14:28:56.884000'),\n",
       "  'difference': Timedelta('0 days 00:40:36.063000')},\n",
       " {'ts_off': Timestamp('2023-11-02 14:33:50.208000'),\n",
       "  'next_ts_on': Timestamp('2023-11-02 14:35:00.858000'),\n",
       "  'difference': Timedelta('0 days 00:01:10.650000')},\n",
       " {'ts_off': Timestamp('2023-11-02 14:35:24.077000'),\n",
       "  'next_ts_on': Timestamp('2023-11-02 15:21:05.137000'),\n",
       "  'difference': Timedelta('0 days 00:45:41.060000')},\n",
       " {'ts_off': Timestamp('2023-11-02 15:23:20.114000'),\n",
       "  'next_ts_on': Timestamp('2023-11-02 22:48:59.391000'),\n",
       "  'difference': Timedelta('0 days 07:25:39.277000')},\n",
       " {'ts_off': Timestamp('2023-11-02 22:49:14.676000'),\n",
       "  'next_ts_on': Timestamp('2023-11-02 23:01:10.192000'),\n",
       "  'difference': Timedelta('0 days 00:11:55.516000')},\n",
       " {'ts_off': Timestamp('2023-11-02 23:01:31.721000'),\n",
       "  'next_ts_on': Timestamp('2023-11-03 07:32:36.911000'),\n",
       "  'difference': Timedelta('0 days 08:31:05.190000')},\n",
       " {'ts_off': Timestamp('2023-11-03 07:32:47.758000'),\n",
       "  'next_ts_on': Timestamp('2023-11-03 07:33:45.701000'),\n",
       "  'difference': Timedelta('0 days 00:00:57.943000')},\n",
       " {'ts_off': Timestamp('2023-11-03 07:33:50.501000'),\n",
       "  'next_ts_on': Timestamp('2023-11-03 07:41:47.987000'),\n",
       "  'difference': Timedelta('0 days 00:07:57.486000')},\n",
       " {'ts_off': Timestamp('2023-11-03 07:41:55.691000'),\n",
       "  'next_ts_on': Timestamp('2023-11-03 07:42:17.651000'),\n",
       "  'difference': Timedelta('0 days 00:00:21.960000')},\n",
       " {'ts_off': Timestamp('2023-11-03 07:42:36.378000'),\n",
       "  'next_ts_on': Timestamp('2023-11-03 08:43:12.173000'),\n",
       "  'difference': Timedelta('0 days 01:00:35.795000')},\n",
       " {'ts_off': Timestamp('2023-11-03 08:43:26.623000'),\n",
       "  'next_ts_on': Timestamp('2023-11-03 09:18:24.657000'),\n",
       "  'difference': Timedelta('0 days 00:34:58.034000')},\n",
       " {'ts_off': Timestamp('2023-11-03 09:19:16.646000'),\n",
       "  'next_ts_on': Timestamp('2023-11-03 09:19:17.937000'),\n",
       "  'difference': Timedelta('0 days 00:00:01.291000')},\n",
       " {'ts_off': Timestamp('2023-11-03 09:19:37.713000'),\n",
       "  'next_ts_on': Timestamp('2023-11-03 09:28:35.873000'),\n",
       "  'difference': Timedelta('0 days 00:08:58.160000')},\n",
       " {'ts_off': Timestamp('2023-11-03 09:28:54.929000'),\n",
       "  'next_ts_on': Timestamp('2023-11-03 09:39:31.523000'),\n",
       "  'difference': Timedelta('0 days 00:10:36.594000')},\n",
       " {'ts_off': Timestamp('2023-11-03 09:39:40.744000'),\n",
       "  'next_ts_on': Timestamp('2023-11-03 09:49:52.044000'),\n",
       "  'difference': Timedelta('0 days 00:10:11.300000')},\n",
       " {'ts_off': Timestamp('2023-11-03 09:50:05.654000'),\n",
       "  'next_ts_on': Timestamp('2023-11-03 09:50:06.611000'),\n",
       "  'difference': Timedelta('0 days 00:00:00.957000')},\n",
       " {'ts_off': Timestamp('2023-11-03 10:00:22.933000'),\n",
       "  'next_ts_on': Timestamp('2023-11-03 12:05:24.047000'),\n",
       "  'difference': Timedelta('0 days 02:05:01.114000')},\n",
       " {'ts_off': Timestamp('2023-11-03 12:05:33.625000'),\n",
       "  'next_ts_on': Timestamp('2023-11-03 12:07:52.888000'),\n",
       "  'difference': Timedelta('0 days 00:02:19.263000')},\n",
       " {'ts_off': Timestamp('2023-11-03 12:08:01.812000'),\n",
       "  'next_ts_on': Timestamp('2023-11-03 12:19:59.679000'),\n",
       "  'difference': Timedelta('0 days 00:11:57.867000')},\n",
       " {'ts_off': Timestamp('2023-11-03 12:20:05.354000'),\n",
       "  'next_ts_on': Timestamp('2023-11-03 13:42:15.185000'),\n",
       "  'difference': Timedelta('0 days 01:22:09.831000')},\n",
       " {'ts_off': Timestamp('2023-11-03 13:42:43.027000'),\n",
       "  'next_ts_on': Timestamp('2023-11-03 14:58:55.672000'),\n",
       "  'difference': Timedelta('0 days 01:16:12.645000')},\n",
       " {'ts_off': Timestamp('2023-11-03 15:04:51.650000'),\n",
       "  'next_ts_on': Timestamp('2023-11-03 16:04:26.787000'),\n",
       "  'difference': Timedelta('0 days 00:59:35.137000')},\n",
       " {'ts_off': Timestamp('2023-11-03 16:04:41.213000'),\n",
       "  'next_ts_on': Timestamp('2023-11-03 22:04:32.286000'),\n",
       "  'difference': Timedelta('0 days 05:59:51.073000')},\n",
       " {'ts_off': Timestamp('2023-11-03 22:05:01.173000'),\n",
       "  'next_ts_on': Timestamp('2023-11-03 22:16:36.906000'),\n",
       "  'difference': Timedelta('0 days 00:11:35.733000')},\n",
       " {'ts_off': Timestamp('2023-11-03 22:17:01.604000'),\n",
       "  'next_ts_on': Timestamp('2023-11-04 23:19:46.395000'),\n",
       "  'difference': Timedelta('1 days 01:02:44.791000')},\n",
       " {'ts_off': Timestamp('2023-11-04 23:20:10.894000'),\n",
       "  'next_ts_on': Timestamp('2023-11-04 23:20:11.688000'),\n",
       "  'difference': Timedelta('0 days 00:00:00.794000')},\n",
       " {'ts_off': Timestamp('2023-11-04 23:21:14.224000'),\n",
       "  'next_ts_on': Timestamp('2023-11-05 08:37:33.460000'),\n",
       "  'difference': Timedelta('0 days 09:16:19.236000')},\n",
       " {'ts_off': Timestamp('2023-11-05 08:38:02.758000'),\n",
       "  'next_ts_on': Timestamp('2023-11-05 12:19:59.148000'),\n",
       "  'difference': Timedelta('0 days 03:41:56.390000')},\n",
       " {'ts_off': Timestamp('2023-11-05 12:20:11.061000'),\n",
       "  'next_ts_on': Timestamp('2023-11-05 16:06:31.775000'),\n",
       "  'difference': Timedelta('0 days 03:46:20.714000')},\n",
       " {'ts_off': Timestamp('2023-11-05 16:08:15.940000'),\n",
       "  'next_ts_on': Timestamp('2023-11-05 16:53:47.713000'),\n",
       "  'difference': Timedelta('0 days 00:45:31.773000')},\n",
       " {'ts_off': Timestamp('2023-11-05 16:54:25.239000'),\n",
       "  'next_ts_on': Timestamp('2023-11-06 07:37:07.979000'),\n",
       "  'difference': Timedelta('0 days 14:42:42.740000')},\n",
       " {'ts_off': Timestamp('2023-11-06 07:37:23.060000'),\n",
       "  'next_ts_on': Timestamp('2023-11-06 09:48:05.787000'),\n",
       "  'difference': Timedelta('0 days 02:10:42.727000')},\n",
       " {'ts_off': Timestamp('2023-11-06 09:48:12.692000'),\n",
       "  'next_ts_on': Timestamp('2023-11-06 09:51:01.539000'),\n",
       "  'difference': Timedelta('0 days 00:02:48.847000')},\n",
       " {'ts_off': Timestamp('2023-11-06 09:51:11.713000'),\n",
       "  'next_ts_on': Timestamp('2023-11-06 10:00:46.018000'),\n",
       "  'difference': Timedelta('0 days 00:09:34.305000')},\n",
       " {'ts_off': Timestamp('2023-11-06 10:00:50.740000'),\n",
       "  'next_ts_on': Timestamp('2023-11-06 14:56:43.895000'),\n",
       "  'difference': Timedelta('0 days 04:55:53.155000')},\n",
       " {'ts_off': Timestamp('2023-11-06 14:56:51.081000'),\n",
       "  'next_ts_on': Timestamp('2023-11-06 15:25:19.362000'),\n",
       "  'difference': Timedelta('0 days 00:28:28.281000')},\n",
       " {'ts_off': Timestamp('2023-11-06 15:25:26.367000'),\n",
       "  'next_ts_on': Timestamp('2023-11-06 15:40:40.774000'),\n",
       "  'difference': Timedelta('0 days 00:15:14.407000')},\n",
       " {'ts_off': Timestamp('2023-11-06 15:40:47.254000'),\n",
       "  'next_ts_on': Timestamp('2023-11-06 17:27:24.431000'),\n",
       "  'difference': Timedelta('0 days 01:46:37.177000')},\n",
       " {'ts_off': Timestamp('2023-11-06 17:29:42.996000'),\n",
       "  'next_ts_on': Timestamp('2023-11-06 18:18:18.989000'),\n",
       "  'difference': Timedelta('0 days 00:48:35.993000')},\n",
       " {'ts_off': Timestamp('2023-11-06 18:18:46.912000'),\n",
       "  'next_ts_on': Timestamp('2023-11-07 07:26:24.530000'),\n",
       "  'difference': Timedelta('0 days 13:07:37.618000')},\n",
       " {'ts_off': Timestamp('2023-11-07 07:26:31.785000'),\n",
       "  'next_ts_on': Timestamp('2023-11-07 09:24:59.140000'),\n",
       "  'difference': Timedelta('0 days 01:58:27.355000')},\n",
       " {'ts_off': Timestamp('2023-11-07 09:25:21.075000'),\n",
       "  'next_ts_on': Timestamp('2023-11-07 09:50:51.063000'),\n",
       "  'difference': Timedelta('0 days 00:25:29.988000')},\n",
       " {'ts_off': Timestamp('2023-11-07 09:50:59.175000'),\n",
       "  'next_ts_on': Timestamp('2023-11-07 11:51:59.243000'),\n",
       "  'difference': Timedelta('0 days 02:01:00.068000')},\n",
       " {'ts_off': Timestamp('2023-11-07 11:52:44.593000'),\n",
       "  'next_ts_on': Timestamp('2023-11-07 11:58:51.664000'),\n",
       "  'difference': Timedelta('0 days 00:06:07.071000')},\n",
       " {'ts_off': Timestamp('2023-11-07 11:58:56.744000'),\n",
       "  'next_ts_on': Timestamp('2023-11-07 15:56:03.190000'),\n",
       "  'difference': Timedelta('0 days 03:57:06.446000')},\n",
       " {'ts_off': Timestamp('2023-11-07 15:56:55.152000'),\n",
       "  'next_ts_on': Timestamp('2023-11-07 16:49:43.859000'),\n",
       "  'difference': Timedelta('0 days 00:52:48.707000')},\n",
       " {'ts_off': Timestamp('2023-11-07 16:50:03.803000'),\n",
       "  'next_ts_on': Timestamp('2023-11-07 17:36:09.758000'),\n",
       "  'difference': Timedelta('0 days 00:46:05.955000')},\n",
       " {'ts_off': Timestamp('2023-11-07 17:37:26.391000'),\n",
       "  'next_ts_on': Timestamp('2023-11-07 17:37:30.785000'),\n",
       "  'difference': Timedelta('0 days 00:00:04.394000')},\n",
       " {'ts_off': Timestamp('2023-11-07 17:37:45.357000'),\n",
       "  'next_ts_on': Timestamp('2023-11-07 22:39:54.151000'),\n",
       "  'difference': Timedelta('0 days 05:02:08.794000')},\n",
       " {'ts_off': Timestamp('2023-11-07 22:40:30.719000'),\n",
       "  'next_ts_on': Timestamp('2023-11-08 07:25:55.485000'),\n",
       "  'difference': Timedelta('0 days 08:45:24.766000')},\n",
       " {'ts_off': Timestamp('2023-11-08 07:26:03.462000'),\n",
       "  'next_ts_on': Timestamp('2023-11-08 07:52:38.740000'),\n",
       "  'difference': Timedelta('0 days 00:26:35.278000')},\n",
       " {'ts_off': Timestamp('2023-11-08 07:52:59.952000'),\n",
       "  'next_ts_on': Timestamp('2023-11-08 08:28:38.011000'),\n",
       "  'difference': Timedelta('0 days 00:35:38.059000')},\n",
       " {'ts_off': Timestamp('2023-11-08 08:28:54.128000'),\n",
       "  'next_ts_on': Timestamp('2023-11-08 08:28:56.252000'),\n",
       "  'difference': Timedelta('0 days 00:00:02.124000')},\n",
       " {'ts_off': Timestamp('2023-11-08 08:54:58.905000'),\n",
       "  'next_ts_on': Timestamp('2023-11-08 09:01:16.222000'),\n",
       "  'difference': Timedelta('0 days 00:06:17.317000')},\n",
       " {'ts_off': Timestamp('2023-11-08 09:01:22.160000'),\n",
       "  'next_ts_on': Timestamp('2023-11-08 09:27:02.427000'),\n",
       "  'difference': Timedelta('0 days 00:25:40.267000')},\n",
       " {'ts_off': Timestamp('2023-11-08 09:27:10.891000'),\n",
       "  'next_ts_on': Timestamp('2023-11-08 09:28:58.214000'),\n",
       "  'difference': Timedelta('0 days 00:01:47.323000')},\n",
       " {'ts_off': Timestamp('2023-11-08 09:29:04.173000'),\n",
       "  'next_ts_on': Timestamp('2023-11-08 09:37:53.780000'),\n",
       "  'difference': Timedelta('0 days 00:08:49.607000')},\n",
       " {'ts_off': Timestamp('2023-11-08 09:37:57.822000'),\n",
       "  'next_ts_on': Timestamp('2023-11-08 09:51:10.524000'),\n",
       "  'difference': Timedelta('0 days 00:13:12.702000')},\n",
       " {'ts_off': Timestamp('2023-11-08 09:51:17.031000'),\n",
       "  'next_ts_on': Timestamp('2023-11-08 09:57:20.473000'),\n",
       "  'difference': Timedelta('0 days 00:06:03.442000')},\n",
       " {'ts_off': Timestamp('2023-11-08 09:57:26.204000'),\n",
       "  'next_ts_on': Timestamp('2023-11-08 10:54:35.406000'),\n",
       "  'difference': Timedelta('0 days 00:57:09.202000')},\n",
       " {'ts_off': Timestamp('2023-11-08 10:54:42.365000'),\n",
       "  'next_ts_on': Timestamp('2023-11-08 11:00:41.063000'),\n",
       "  'difference': Timedelta('0 days 00:05:58.698000')},\n",
       " {'ts_off': Timestamp('2023-11-08 11:00:46.569000'),\n",
       "  'next_ts_on': Timestamp('2023-11-08 11:02:49.664000'),\n",
       "  'difference': Timedelta('0 days 00:02:03.095000')},\n",
       " {'ts_off': Timestamp('2023-11-08 11:04:41.100000'),\n",
       "  'next_ts_on': Timestamp('2023-11-08 11:09:11.389000'),\n",
       "  'difference': Timedelta('0 days 00:04:30.289000')},\n",
       " {'ts_off': Timestamp('2023-11-08 11:09:24.893000'),\n",
       "  'next_ts_on': Timestamp('2023-11-08 11:25:15.709000'),\n",
       "  'difference': Timedelta('0 days 00:15:50.816000')},\n",
       " {'ts_off': Timestamp('2023-11-08 11:25:22.458000'),\n",
       "  'next_ts_on': Timestamp('2023-11-08 14:03:31.147000'),\n",
       "  'difference': Timedelta('0 days 02:38:08.689000')},\n",
       " {'ts_off': Timestamp('2023-11-08 14:04:01.675000'),\n",
       "  'next_ts_on': Timestamp('2023-11-08 18:15:57.161000'),\n",
       "  'difference': Timedelta('0 days 04:11:55.486000')},\n",
       " {'ts_off': Timestamp('2023-11-08 18:16:08.825000'),\n",
       "  'next_ts_on': Timestamp('2023-11-09 07:36:45.752000'),\n",
       "  'difference': Timedelta('0 days 13:20:36.927000')},\n",
       " {'ts_off': Timestamp('2023-11-09 07:36:53.140000'),\n",
       "  'next_ts_on': Timestamp('2023-11-09 09:03:44.421000'),\n",
       "  'difference': Timedelta('0 days 01:26:51.281000')},\n",
       " {'ts_off': Timestamp('2023-11-09 09:04:03.917000'),\n",
       "  'next_ts_on': Timestamp('2023-11-09 09:43:46.238000'),\n",
       "  'difference': Timedelta('0 days 00:39:42.321000')},\n",
       " {'ts_off': Timestamp('2023-11-09 09:43:52.580000'),\n",
       "  'next_ts_on': Timestamp('2023-11-09 11:35:00.156000'),\n",
       "  'difference': Timedelta('0 days 01:51:07.576000')},\n",
       " {'ts_off': Timestamp('2023-11-09 11:35:11.372000'),\n",
       "  'next_ts_on': Timestamp('2023-11-09 15:38:25.679000'),\n",
       "  'difference': Timedelta('0 days 04:03:14.307000')},\n",
       " {'ts_off': Timestamp('2023-11-09 15:39:15.492000'),\n",
       "  'next_ts_on': Timestamp('2023-11-09 15:39:26.470000'),\n",
       "  'difference': Timedelta('0 days 00:00:10.978000')},\n",
       " {'ts_off': Timestamp('2023-11-09 15:39:45.331000'),\n",
       "  'next_ts_on': Timestamp('2023-11-09 15:40:23.196000'),\n",
       "  'difference': Timedelta('0 days 00:00:37.865000')},\n",
       " {'ts_off': Timestamp('2023-11-09 15:40:41.202000'),\n",
       "  'next_ts_on': Timestamp('2023-11-09 15:43:09.402000'),\n",
       "  'difference': Timedelta('0 days 00:02:28.200000')},\n",
       " {'ts_off': Timestamp('2023-11-09 15:43:24.842000'),\n",
       "  'next_ts_on': Timestamp('2023-11-09 16:59:44.456000'),\n",
       "  'difference': Timedelta('0 days 01:16:19.614000')},\n",
       " {'ts_off': Timestamp('2023-11-09 17:02:31.740000'),\n",
       "  'next_ts_on': Timestamp('2023-11-09 17:38:58.428000'),\n",
       "  'difference': Timedelta('0 days 00:36:26.688000')},\n",
       " {'ts_off': Timestamp('2023-11-09 17:39:28.971000'),\n",
       "  'next_ts_on': Timestamp('2023-11-10 07:30:22.291000'),\n",
       "  'difference': Timedelta('0 days 13:50:53.320000')},\n",
       " {'ts_off': Timestamp('2023-11-10 07:30:28.480000'),\n",
       "  'next_ts_on': Timestamp('2023-11-10 07:32:02.513000'),\n",
       "  'difference': Timedelta('0 days 00:01:34.033000')},\n",
       " {'ts_off': Timestamp('2023-11-10 07:32:08.930000'),\n",
       "  'next_ts_on': Timestamp('2023-11-10 07:43:19.624000'),\n",
       "  'difference': Timedelta('0 days 00:11:10.694000')},\n",
       " {'ts_off': Timestamp('2023-11-10 07:43:29.278000'),\n",
       "  'next_ts_on': Timestamp('2023-11-10 07:51:04.970000'),\n",
       "  'difference': Timedelta('0 days 00:07:35.692000')},\n",
       " {'ts_off': Timestamp('2023-11-10 07:51:16.673000'),\n",
       "  'next_ts_on': Timestamp('2023-11-10 08:03:56.691000'),\n",
       "  'difference': Timedelta('0 days 00:12:40.018000')},\n",
       " {'ts_off': Timestamp('2023-11-10 08:04:03.495000'),\n",
       "  'next_ts_on': Timestamp('2023-11-10 08:41:01.487000'),\n",
       "  'difference': Timedelta('0 days 00:36:57.992000')},\n",
       " {'ts_off': Timestamp('2023-11-10 08:41:13.968000'),\n",
       "  'next_ts_on': Timestamp('2023-11-10 08:49:05.727000'),\n",
       "  'difference': Timedelta('0 days 00:07:51.759000')},\n",
       " {'ts_off': Timestamp('2023-11-10 08:49:17.076000'),\n",
       "  'next_ts_on': Timestamp('2023-11-10 08:58:16.078000'),\n",
       "  'difference': Timedelta('0 days 00:08:59.002000')},\n",
       " {'ts_off': Timestamp('2023-11-10 08:58:27.560000'),\n",
       "  'next_ts_on': Timestamp('2023-11-10 09:05:23.945000'),\n",
       "  'difference': Timedelta('0 days 00:06:56.385000')},\n",
       " {'ts_off': Timestamp('2023-11-10 09:05:54.437000'),\n",
       "  'next_ts_on': Timestamp('2023-11-10 10:16:55.978000'),\n",
       "  'difference': Timedelta('0 days 01:11:01.541000')},\n",
       " {'ts_off': Timestamp('2023-11-10 10:18:55.467000'),\n",
       "  'next_ts_on': Timestamp('2023-11-10 10:23:19.003000'),\n",
       "  'difference': Timedelta('0 days 00:04:23.536000')},\n",
       " {'ts_off': Timestamp('2023-11-10 10:23:25.373000'),\n",
       "  'next_ts_on': Timestamp('2023-11-10 13:11:47.872000'),\n",
       "  'difference': Timedelta('0 days 02:48:22.499000')},\n",
       " {'ts_off': Timestamp('2023-11-10 13:16:33.508000'),\n",
       "  'next_ts_on': Timestamp('2023-11-10 15:27:07.898000'),\n",
       "  'difference': Timedelta('0 days 02:10:34.390000')},\n",
       " {'ts_off': Timestamp('2023-11-10 15:27:38.885000'),\n",
       "  'next_ts_on': Timestamp('2023-11-10 15:49:21.347000'),\n",
       "  'difference': Timedelta('0 days 00:21:42.462000')},\n",
       " {'ts_off': Timestamp('2023-11-10 15:49:28.871000'),\n",
       "  'next_ts_on': Timestamp('2023-11-10 21:38:33.258000'),\n",
       "  'difference': Timedelta('0 days 05:49:04.387000')},\n",
       " {'ts_off': Timestamp('2023-11-10 21:38:50.915000'),\n",
       "  'next_ts_on': Timestamp('2023-11-11 07:50:15.411000'),\n",
       "  'difference': Timedelta('0 days 10:11:24.496000')},\n",
       " {'ts_off': Timestamp('2023-11-11 07:50:24.485000'),\n",
       "  'next_ts_on': Timestamp('2023-11-11 09:42:12.975000'),\n",
       "  'difference': Timedelta('0 days 01:51:48.490000')},\n",
       " {'ts_off': Timestamp('2023-11-11 09:42:23.892000'),\n",
       "  'next_ts_on': Timestamp('2023-11-11 11:29:41.187000'),\n",
       "  'difference': Timedelta('0 days 01:47:17.295000')},\n",
       " {'ts_off': Timestamp('2023-11-11 11:29:49.217000'),\n",
       "  'next_ts_on': Timestamp('2023-11-11 11:29:53.140000'),\n",
       "  'difference': Timedelta('0 days 00:00:03.923000')},\n",
       " {'ts_off': Timestamp('2023-11-11 11:30:11.310000'),\n",
       "  'next_ts_on': Timestamp('2023-11-11 15:33:27.803000'),\n",
       "  'difference': Timedelta('0 days 04:03:16.493000')},\n",
       " {'ts_off': Timestamp('2023-11-11 15:33:38.319000'),\n",
       "  'next_ts_on': Timestamp('2023-11-11 18:04:25.654000'),\n",
       "  'difference': Timedelta('0 days 02:30:47.335000')},\n",
       " {'ts_off': Timestamp('2023-11-11 18:04:33.688000'),\n",
       "  'next_ts_on': Timestamp('2023-11-11 18:51:22.587000'),\n",
       "  'difference': Timedelta('0 days 00:46:48.899000')},\n",
       " {'ts_off': Timestamp('2023-11-11 18:52:56.015000'),\n",
       "  'next_ts_on': Timestamp('2023-11-12 07:47:59.102000'),\n",
       "  'difference': Timedelta('0 days 12:55:03.087000')},\n",
       " {'ts_off': Timestamp('2023-11-12 07:48:05.726000'),\n",
       "  'next_ts_on': Timestamp('2023-11-12 10:00:02.984000'),\n",
       "  'difference': Timedelta('0 days 02:11:57.258000')},\n",
       " {'ts_off': Timestamp('2023-11-12 10:00:26.143000'),\n",
       "  'next_ts_on': Timestamp('2023-11-12 14:09:40.609000'),\n",
       "  'difference': Timedelta('0 days 04:09:14.466000')},\n",
       " {'ts_off': Timestamp('2023-11-12 14:10:08.292000'),\n",
       "  'next_ts_on': Timestamp('2023-11-12 15:40:54.846000'),\n",
       "  'difference': Timedelta('0 days 01:30:46.554000')},\n",
       " {'ts_off': Timestamp('2023-11-12 15:41:03.324000'),\n",
       "  'next_ts_on': Timestamp('2023-11-12 17:58:10.450000'),\n",
       "  'difference': Timedelta('0 days 02:17:07.126000')},\n",
       " {'ts_off': Timestamp('2023-11-12 17:58:19.785000'),\n",
       "  'next_ts_on': Timestamp('2023-11-12 17:58:50.355000'),\n",
       "  'difference': Timedelta('0 days 00:00:30.570000')},\n",
       " {'ts_off': Timestamp('2023-11-12 17:58:57.606000'),\n",
       "  'next_ts_on': Timestamp('2023-11-12 17:59:42.769000'),\n",
       "  'difference': Timedelta('0 days 00:00:45.163000')},\n",
       " {'ts_off': Timestamp('2023-11-12 17:59:49.095000'),\n",
       "  'next_ts_on': Timestamp('2023-11-12 17:59:49.800000'),\n",
       "  'difference': Timedelta('0 days 00:00:00.705000')},\n",
       " {'ts_off': Timestamp('2023-11-12 18:00:20.396000'),\n",
       "  'next_ts_on': Timestamp('2023-11-12 22:10:02.931000'),\n",
       "  'difference': Timedelta('0 days 04:09:42.535000')},\n",
       " {'ts_off': Timestamp('2023-11-12 22:11:34.989000'),\n",
       "  'next_ts_on': Timestamp('2023-11-12 22:29:06.164000'),\n",
       "  'difference': Timedelta('0 days 00:17:31.175000')},\n",
       " {'ts_off': Timestamp('2023-11-12 22:29:31.003000'),\n",
       "  'next_ts_on': Timestamp('2023-11-13 07:57:01.906000'),\n",
       "  'difference': Timedelta('0 days 09:27:30.903000')},\n",
       " {'ts_off': Timestamp('2023-11-13 07:57:09.871000'),\n",
       "  'next_ts_on': Timestamp('2023-11-13 10:11:21.949000'),\n",
       "  'difference': Timedelta('0 days 02:14:12.078000')},\n",
       " {'ts_off': Timestamp('2023-11-13 10:15:33.959000'),\n",
       "  'next_ts_on': Timestamp('2023-11-13 10:21:16.424000'),\n",
       "  'difference': Timedelta('0 days 00:05:42.465000')},\n",
       " {'ts_off': Timestamp('2023-11-13 10:21:29.965000'),\n",
       "  'next_ts_on': Timestamp('2023-11-13 11:59:47.665000'),\n",
       "  'difference': Timedelta('0 days 01:38:17.700000')},\n",
       " {'ts_off': Timestamp('2023-11-13 11:59:58.176000'),\n",
       "  'next_ts_on': Timestamp('2023-11-13 13:03:56.482000'),\n",
       "  'difference': Timedelta('0 days 01:03:58.306000')},\n",
       " {'ts_off': Timestamp('2023-11-13 13:06:37.983000'),\n",
       "  'next_ts_on': Timestamp('2023-11-13 15:48:24.726000'),\n",
       "  'difference': Timedelta('0 days 02:41:46.743000')},\n",
       " {'ts_off': Timestamp('2023-11-13 15:48:31.896000'),\n",
       "  'next_ts_on': Timestamp('2023-11-13 17:19:23.352000'),\n",
       "  'difference': Timedelta('0 days 01:30:51.456000')},\n",
       " {'ts_off': Timestamp('2023-11-13 17:19:31.691000'),\n",
       "  'next_ts_on': Timestamp('2023-11-13 18:26:04.250000'),\n",
       "  'difference': Timedelta('0 days 01:06:32.559000')},\n",
       " {'ts_off': Timestamp('2023-11-13 18:26:11.156000'),\n",
       "  'next_ts_on': Timestamp('2023-11-13 21:05:37.086000'),\n",
       "  'difference': Timedelta('0 days 02:39:25.930000')},\n",
       " {'ts_off': Timestamp('2023-11-13 21:06:07.718000'),\n",
       "  'next_ts_on': Timestamp('2023-11-13 21:09:26.066000'),\n",
       "  'difference': Timedelta('0 days 00:03:18.348000')},\n",
       " {'ts_off': Timestamp('2023-11-13 21:09:40.314000'),\n",
       "  'next_ts_on': Timestamp('2023-11-13 21:15:28.153000'),\n",
       "  'difference': Timedelta('0 days 00:05:47.839000')},\n",
       " {'ts_off': Timestamp('2023-11-13 21:15:49.157000'),\n",
       "  'next_ts_on': Timestamp('2023-11-13 21:38:52.532000'),\n",
       "  'difference': Timedelta('0 days 00:23:03.375000')},\n",
       " {'ts_off': Timestamp('2023-11-13 21:39:45.829000'),\n",
       "  'next_ts_on': Timestamp('2023-11-17 22:58:03.586000'),\n",
       "  'difference': Timedelta('4 days 01:18:17.757000')},\n",
       " {'ts_off': Timestamp('2023-11-17 22:58:35.623000'),\n",
       "  'next_ts_on': Timestamp('2023-11-18 08:03:46.026000'),\n",
       "  'difference': Timedelta('0 days 09:05:10.403000')},\n",
       " {'ts_off': Timestamp('2023-11-18 08:03:59.893000'),\n",
       "  'next_ts_on': Timestamp('2023-11-18 09:47:40.549000'),\n",
       "  'difference': Timedelta('0 days 01:43:40.656000')},\n",
       " {'ts_off': Timestamp('2023-11-18 09:48:00.143000'),\n",
       "  'next_ts_on': Timestamp('2023-11-18 09:53:11.051000'),\n",
       "  'difference': Timedelta('0 days 00:05:10.908000')},\n",
       " {'ts_off': Timestamp('2023-11-18 09:53:18.219000'),\n",
       "  'next_ts_on': Timestamp('2023-11-18 16:37:58.433000'),\n",
       "  'difference': Timedelta('0 days 06:44:40.214000')},\n",
       " {'ts_off': Timestamp('2023-11-18 16:38:40.025000'),\n",
       "  'next_ts_on': Timestamp('2023-11-18 17:04:09.821000'),\n",
       "  'difference': Timedelta('0 days 00:25:29.796000')},\n",
       " {'ts_off': Timestamp('2023-11-18 17:04:16.182000'),\n",
       "  'next_ts_on': Timestamp('2023-11-18 20:26:47.987000'),\n",
       "  'difference': Timedelta('0 days 03:22:31.805000')},\n",
       " {'ts_off': Timestamp('2023-11-18 20:27:44.355000'),\n",
       "  'next_ts_on': Timestamp('2023-11-18 20:44:00.014000'),\n",
       "  'difference': Timedelta('0 days 00:16:15.659000')},\n",
       " {'ts_off': Timestamp('2023-11-18 20:44:06.523000'),\n",
       "  'next_ts_on': Timestamp('2023-11-19 08:25:01.755000'),\n",
       "  'difference': Timedelta('0 days 11:40:55.232000')},\n",
       " {'ts_off': Timestamp('2023-11-19 08:25:10.617000'),\n",
       "  'next_ts_on': Timestamp('2023-11-19 11:16:25.192000'),\n",
       "  'difference': Timedelta('0 days 02:51:14.575000')},\n",
       " {'ts_off': Timestamp('2023-11-19 11:16:36.345000'),\n",
       "  'next_ts_on': Timestamp('2023-11-19 15:40:28.034000'),\n",
       "  'difference': Timedelta('0 days 04:23:51.689000')},\n",
       " {'ts_off': Timestamp('2023-11-19 15:41:04.286000'),\n",
       "  'next_ts_on': Timestamp('2023-11-19 19:12:56.614000'),\n",
       "  'difference': Timedelta('0 days 03:31:52.328000')},\n",
       " {'ts_off': Timestamp('2023-11-19 19:13:08.744000'),\n",
       "  'next_ts_on': Timestamp('2023-11-20 07:59:14.781000'),\n",
       "  'difference': Timedelta('0 days 12:46:06.037000')},\n",
       " {'ts_off': Timestamp('2023-11-20 08:00:07.753000'),\n",
       "  'next_ts_on': Timestamp('2023-11-20 09:06:22.657000'),\n",
       "  'difference': Timedelta('0 days 01:06:14.904000')},\n",
       " {'ts_off': Timestamp('2023-11-20 09:06:38.782000'),\n",
       "  'next_ts_on': Timestamp('2023-11-20 09:12:08.722000'),\n",
       "  'difference': Timedelta('0 days 00:05:29.940000')},\n",
       " {'ts_off': Timestamp('2023-11-20 09:12:15.318000'),\n",
       "  'next_ts_on': Timestamp('2023-11-20 12:06:18.636000'),\n",
       "  'difference': Timedelta('0 days 02:54:03.318000')},\n",
       " {'ts_off': Timestamp('2023-11-20 12:06:36.470000'),\n",
       "  'next_ts_on': Timestamp('2023-11-20 12:06:36.674000'),\n",
       "  'difference': Timedelta('0 days 00:00:00.204000')},\n",
       " {'ts_off': Timestamp('2023-11-20 12:06:39.262000'),\n",
       "  'next_ts_on': Timestamp('2023-11-20 12:06:39.729000'),\n",
       "  'difference': Timedelta('0 days 00:00:00.467000')},\n",
       " {'ts_off': Timestamp('2023-11-20 12:16:42.802000'),\n",
       "  'next_ts_on': Timestamp('2023-11-20 12:16:43.833000'),\n",
       "  'difference': Timedelta('0 days 00:00:01.031000')},\n",
       " {'ts_off': Timestamp('2023-11-20 12:16:50.615000'),\n",
       "  'next_ts_on': Timestamp('2023-11-20 15:25:01.074000'),\n",
       "  'difference': Timedelta('0 days 03:08:10.459000')},\n",
       " {'ts_off': Timestamp('2023-11-20 15:25:14.323000'),\n",
       "  'next_ts_on': Timestamp('2023-11-20 17:10:40.707000'),\n",
       "  'difference': Timedelta('0 days 01:45:26.384000')},\n",
       " {'ts_off': Timestamp('2023-11-20 17:11:20.856000'),\n",
       "  'next_ts_on': Timestamp('2023-11-21 07:31:21.699000'),\n",
       "  'difference': Timedelta('0 days 14:20:00.843000')},\n",
       " {'ts_off': Timestamp('2023-11-21 07:31:30.372000'),\n",
       "  'next_ts_on': Timestamp('2023-11-21 07:31:32.403000'),\n",
       "  'difference': Timedelta('0 days 00:00:02.031000')},\n",
       " {'ts_off': Timestamp('2023-11-21 07:33:09.181000'),\n",
       "  'next_ts_on': Timestamp('2023-11-21 07:49:04.453000'),\n",
       "  'difference': Timedelta('0 days 00:15:55.272000')},\n",
       " {'ts_off': Timestamp('2023-11-21 07:49:12.476000'),\n",
       "  'next_ts_on': Timestamp('2023-11-21 08:47:36.722000'),\n",
       "  'difference': Timedelta('0 days 00:58:24.246000')},\n",
       " {'ts_off': Timestamp('2023-11-21 08:47:45.821000'),\n",
       "  'next_ts_on': Timestamp('2023-11-21 10:01:35.174000'),\n",
       "  'difference': Timedelta('0 days 01:13:49.353000')},\n",
       " {'ts_off': Timestamp('2023-11-21 10:01:40.236000'),\n",
       "  'next_ts_on': Timestamp('2023-11-21 10:04:08.503000'),\n",
       "  'difference': Timedelta('0 days 00:02:28.267000')},\n",
       " {'ts_off': Timestamp('2023-11-21 10:04:14.627000'),\n",
       "  'next_ts_on': Timestamp('2023-11-21 10:11:47.198000'),\n",
       "  'difference': Timedelta('0 days 00:07:32.571000')},\n",
       " {'ts_off': Timestamp('2023-11-21 10:11:56.838000'),\n",
       "  'next_ts_on': Timestamp('2023-11-21 11:19:10.985000'),\n",
       "  'difference': Timedelta('0 days 01:07:14.147000')},\n",
       " {'ts_off': Timestamp('2023-11-21 11:19:17.870000'),\n",
       "  'next_ts_on': Timestamp('2023-11-21 11:22:09.843000'),\n",
       "  'difference': Timedelta('0 days 00:02:51.973000')},\n",
       " {'ts_off': Timestamp('2023-11-21 11:22:27.527000'),\n",
       "  'next_ts_on': Timestamp('2023-11-21 12:21:06.374000'),\n",
       "  'difference': Timedelta('0 days 00:58:38.847000')},\n",
       " {'ts_off': Timestamp('2023-11-21 12:22:28.120000'),\n",
       "  'next_ts_on': Timestamp('2023-11-21 16:03:02.483000'),\n",
       "  'difference': Timedelta('0 days 03:40:34.363000')},\n",
       " {'ts_off': Timestamp('2023-11-21 16:03:10.589000'),\n",
       "  'next_ts_on': Timestamp('2023-11-21 16:31:00.823000'),\n",
       "  'difference': Timedelta('0 days 00:27:50.234000')},\n",
       " {'ts_off': Timestamp('2023-11-21 16:31:31.679000'),\n",
       "  'next_ts_on': Timestamp('2023-11-21 17:07:07.338000'),\n",
       "  'difference': Timedelta('0 days 00:35:35.659000')},\n",
       " {'ts_off': Timestamp('2023-11-21 17:07:20.064000'),\n",
       "  'next_ts_on': Timestamp('2023-11-21 23:19:38.518000'),\n",
       "  'difference': Timedelta('0 days 06:12:18.454000')},\n",
       " {'ts_off': Timestamp('2023-11-21 23:19:57.528000'),\n",
       "  'next_ts_on': Timestamp('2023-11-22 08:01:38.496000'),\n",
       "  'difference': Timedelta('0 days 08:41:40.968000')},\n",
       " {'ts_off': Timestamp('2023-11-22 08:01:56.335000'),\n",
       "  'next_ts_on': Timestamp('2023-11-22 09:39:12.661000'),\n",
       "  'difference': Timedelta('0 days 01:37:16.326000')},\n",
       " {'ts_off': Timestamp('2023-11-22 09:39:18.779000'),\n",
       "  'next_ts_on': Timestamp('2023-11-22 10:20:03.441000'),\n",
       "  'difference': Timedelta('0 days 00:40:44.662000')},\n",
       " {'ts_off': Timestamp('2023-11-22 10:20:09.251000'),\n",
       "  'next_ts_on': Timestamp('2023-11-22 10:21:21.978000'),\n",
       "  'difference': Timedelta('0 days 00:01:12.727000')},\n",
       " {'ts_off': Timestamp('2023-11-22 10:21:26.731000'),\n",
       "  'next_ts_on': Timestamp('2023-11-22 10:21:44.053000'),\n",
       "  'difference': Timedelta('0 days 00:00:17.322000')},\n",
       " {'ts_off': Timestamp('2023-11-22 10:21:49.480000'),\n",
       "  'next_ts_on': Timestamp('2023-11-22 13:32:54.695000'),\n",
       "  'difference': Timedelta('0 days 03:11:05.215000')},\n",
       " {'ts_off': Timestamp('2023-11-22 13:33:15.147000'),\n",
       "  'next_ts_on': Timestamp('2023-11-22 15:10:23.320000'),\n",
       "  'difference': Timedelta('0 days 01:37:08.173000')},\n",
       " {'ts_off': Timestamp('2023-11-22 15:10:31.680000'),\n",
       "  'next_ts_on': Timestamp('2023-11-22 16:27:05.842000'),\n",
       "  'difference': Timedelta('0 days 01:16:34.162000')},\n",
       " {'ts_off': Timestamp('2023-11-22 16:27:17.034000'),\n",
       "  'next_ts_on': Timestamp('2023-11-22 18:31:32.762000'),\n",
       "  'difference': Timedelta('0 days 02:04:15.728000')},\n",
       " {'ts_off': Timestamp('2023-11-22 18:31:38.781000'),\n",
       "  'next_ts_on': Timestamp('2023-11-22 22:04:40.173000'),\n",
       "  'difference': Timedelta('0 days 03:33:01.392000')},\n",
       " {'ts_off': Timestamp('2023-11-22 22:05:45.976000'),\n",
       "  'next_ts_on': Timestamp('2023-11-22 22:20:06.539000'),\n",
       "  'difference': Timedelta('0 days 00:14:20.563000')},\n",
       " {'ts_off': Timestamp('2023-11-22 22:20:12.982000'),\n",
       "  'next_ts_on': Timestamp('2023-11-23 07:56:11.464000'),\n",
       "  'difference': Timedelta('0 days 09:35:58.482000')},\n",
       " {'ts_off': Timestamp('2023-11-23 07:56:19.199000'),\n",
       "  'next_ts_on': Timestamp('2023-11-23 09:25:34.331000'),\n",
       "  'difference': Timedelta('0 days 01:29:15.132000')},\n",
       " {'ts_off': Timestamp('2023-11-23 09:25:43.305000'),\n",
       "  'next_ts_on': Timestamp('2023-11-23 09:41:08.651000'),\n",
       "  'difference': Timedelta('0 days 00:15:25.346000')},\n",
       " {'ts_off': Timestamp('2023-11-23 09:41:28.616000'),\n",
       "  'next_ts_on': Timestamp('2023-11-23 11:25:46.100000'),\n",
       "  'difference': Timedelta('0 days 01:44:17.484000')},\n",
       " {'ts_off': Timestamp('2023-11-23 11:26:00.858000'),\n",
       "  'next_ts_on': Timestamp('2023-11-23 16:24:45.689000'),\n",
       "  'difference': Timedelta('0 days 04:58:44.831000')},\n",
       " {'ts_off': Timestamp('2023-11-23 16:24:54.258000'),\n",
       "  'next_ts_on': Timestamp('2023-11-23 17:17:09.403000'),\n",
       "  'difference': Timedelta('0 days 00:52:15.145000')},\n",
       " {'ts_off': Timestamp('2023-11-23 17:17:22.775000'),\n",
       "  'next_ts_on': Timestamp('2023-11-23 18:10:29.099000'),\n",
       "  'difference': Timedelta('0 days 00:53:06.324000')},\n",
       " {'ts_off': Timestamp('2023-11-23 18:10:35.324000'),\n",
       "  'next_ts_on': Timestamp('2023-11-23 20:39:17.150000'),\n",
       "  'difference': Timedelta('0 days 02:28:41.826000')},\n",
       " {'ts_off': Timestamp('2023-11-23 20:39:25.496000'),\n",
       "  'next_ts_on': Timestamp('2023-11-23 21:12:40.764000'),\n",
       "  'difference': Timedelta('0 days 00:33:15.268000')},\n",
       " {'ts_off': Timestamp('2023-11-23 21:17:11.130000'),\n",
       "  'next_ts_on': Timestamp('2023-11-23 21:25:35.822000'),\n",
       "  'difference': Timedelta('0 days 00:08:24.692000')},\n",
       " {'ts_off': Timestamp('2023-11-23 21:26:03.548000'),\n",
       "  'next_ts_on': Timestamp('2023-11-24 07:29:03.510000'),\n",
       "  'difference': Timedelta('0 days 10:02:59.962000')},\n",
       " {'ts_off': Timestamp('2023-11-24 07:29:11.227000'),\n",
       "  'next_ts_on': Timestamp('2023-11-24 07:30:21.378000'),\n",
       "  'difference': Timedelta('0 days 00:01:10.151000')},\n",
       " {'ts_off': Timestamp('2023-11-24 07:30:26.436000'),\n",
       "  'next_ts_on': Timestamp('2023-11-24 07:45:51.712000'),\n",
       "  'difference': Timedelta('0 days 00:15:25.276000')},\n",
       " {'ts_off': Timestamp('2023-11-24 07:45:57.236000'),\n",
       "  'next_ts_on': Timestamp('2023-11-24 08:04:07.616000'),\n",
       "  'difference': Timedelta('0 days 00:18:10.380000')},\n",
       " {'ts_off': Timestamp('2023-11-24 08:04:16.673000'),\n",
       "  'next_ts_on': Timestamp('2023-11-24 08:50:39.871000'),\n",
       "  'difference': Timedelta('0 days 00:46:23.198000')},\n",
       " {'ts_off': Timestamp('2023-11-24 08:51:08.711000'),\n",
       "  'next_ts_on': Timestamp('2023-11-24 08:58:09.768000'),\n",
       "  'difference': Timedelta('0 days 00:07:01.057000')},\n",
       " {'ts_off': Timestamp('2023-11-24 08:58:22.017000'),\n",
       "  'next_ts_on': Timestamp('2023-11-24 09:08:21.194000'),\n",
       "  'difference': Timedelta('0 days 00:09:59.177000')},\n",
       " {'ts_off': Timestamp('2023-11-24 09:08:31.362000'),\n",
       "  'next_ts_on': Timestamp('2023-11-24 09:18:09.790000'),\n",
       "  'difference': Timedelta('0 days 00:09:38.428000')},\n",
       " {'ts_off': Timestamp('2023-11-24 09:18:17.651000'),\n",
       "  'next_ts_on': Timestamp('2023-11-24 09:52:43.078000'),\n",
       "  'difference': Timedelta('0 days 00:34:25.427000')},\n",
       " {'ts_off': Timestamp('2023-11-24 09:54:56.669000'),\n",
       "  'next_ts_on': Timestamp('2023-11-24 10:11:38.661000'),\n",
       "  'difference': Timedelta('0 days 00:16:41.992000')},\n",
       " {'ts_off': Timestamp('2023-11-24 10:11:45.868000'),\n",
       "  'next_ts_on': Timestamp('2023-11-24 10:41:13.882000'),\n",
       "  'difference': Timedelta('0 days 00:29:28.014000')},\n",
       " {'ts_off': Timestamp('2023-11-24 10:41:35.438000'),\n",
       "  'next_ts_on': Timestamp('2023-11-24 10:41:36.432000'),\n",
       "  'difference': Timedelta('0 days 00:00:00.994000')},\n",
       " {'ts_off': Timestamp('2023-11-24 11:11:49.882000'),\n",
       "  'next_ts_on': Timestamp('2023-11-24 14:04:41.341000'),\n",
       "  'difference': Timedelta('0 days 02:52:51.459000')},\n",
       " {'ts_off': Timestamp('2023-11-24 14:04:51.319000'),\n",
       "  'next_ts_on': Timestamp('2023-11-24 14:59:51.104000'),\n",
       "  'difference': Timedelta('0 days 00:54:59.785000')},\n",
       " {'ts_off': Timestamp('2023-11-24 15:00:54.247000'),\n",
       "  'next_ts_on': Timestamp('2023-11-24 15:46:13.216000'),\n",
       "  'difference': Timedelta('0 days 00:45:18.969000')},\n",
       " {'ts_off': Timestamp('2023-11-24 15:46:30.201000'),\n",
       "  'next_ts_on': Timestamp('2023-11-24 17:02:36.654000'),\n",
       "  'difference': Timedelta('0 days 01:16:06.453000')},\n",
       " {'ts_off': Timestamp('2023-11-24 17:02:47.784000'),\n",
       "  'next_ts_on': Timestamp('2023-11-24 19:17:35.456000'),\n",
       "  'difference': Timedelta('0 days 02:14:47.672000')},\n",
       " {'ts_off': Timestamp('2023-11-24 19:19:09.486000'),\n",
       "  'next_ts_on': Timestamp('2023-11-24 22:57:29.719000'),\n",
       "  'difference': Timedelta('0 days 03:38:20.233000')},\n",
       " {'ts_off': Timestamp('2023-11-24 22:58:00.799000'),\n",
       "  'next_ts_on': Timestamp('2023-11-24 23:01:29.543000'),\n",
       "  'difference': Timedelta('0 days 00:03:28.744000')},\n",
       " {'ts_off': Timestamp('2023-11-24 23:01:41.473000'),\n",
       "  'next_ts_on': Timestamp('2023-11-25 08:06:09.504000'),\n",
       "  'difference': Timedelta('0 days 09:04:28.031000')},\n",
       " {'ts_off': Timestamp('2023-11-25 08:06:18.393000'),\n",
       "  'next_ts_on': Timestamp('2023-11-25 08:06:45.345000'),\n",
       "  'difference': Timedelta('0 days 00:00:26.952000')},\n",
       " {'ts_off': Timestamp('2023-11-25 08:06:56.316000'),\n",
       "  'next_ts_on': Timestamp('2023-11-25 10:00:00.958000'),\n",
       "  'difference': Timedelta('0 days 01:53:04.642000')},\n",
       " {'ts_off': Timestamp('2023-11-25 10:00:51.255000'),\n",
       "  'next_ts_on': Timestamp('2023-11-25 16:32:09.274000'),\n",
       "  'difference': Timedelta('0 days 06:31:18.019000')},\n",
       " {'ts_off': Timestamp('2023-11-25 16:32:16.044000'),\n",
       "  'next_ts_on': Timestamp('2023-11-25 16:32:21.855000'),\n",
       "  'difference': Timedelta('0 days 00:00:05.811000')},\n",
       " {'ts_off': Timestamp('2023-11-25 16:32:54.570000'),\n",
       "  'next_ts_on': Timestamp('2023-11-25 16:58:50.892000'),\n",
       "  'difference': Timedelta('0 days 00:25:56.322000')},\n",
       " {'ts_off': Timestamp('2023-11-25 16:59:01.308000'),\n",
       "  'next_ts_on': Timestamp('2023-11-26 08:15:41.945000'),\n",
       "  'difference': Timedelta('0 days 15:16:40.637000')},\n",
       " {'ts_off': Timestamp('2023-11-26 08:15:49.196000'),\n",
       "  'next_ts_on': Timestamp('2023-11-26 10:13:38.023000'),\n",
       "  'difference': Timedelta('0 days 01:57:48.827000')},\n",
       " {'ts_off': Timestamp('2023-11-26 10:13:46.123000'),\n",
       "  'next_ts_on': Timestamp('2023-11-26 15:29:21.300000'),\n",
       "  'difference': Timedelta('0 days 05:15:35.177000')},\n",
       " {'ts_off': Timestamp('2023-11-26 15:29:28.872000'),\n",
       "  'next_ts_on': Timestamp('2023-11-26 16:05:10.483000'),\n",
       "  'difference': Timedelta('0 days 00:35:41.611000')},\n",
       " {'ts_off': Timestamp('2023-11-26 16:06:14.162000'),\n",
       "  'next_ts_on': Timestamp('2023-11-27 07:43:41.526000'),\n",
       "  'difference': Timedelta('0 days 15:37:27.364000')},\n",
       " {'ts_off': Timestamp('2023-11-27 07:43:50.084000'),\n",
       "  'next_ts_on': Timestamp('2023-11-27 09:58:16.009000'),\n",
       "  'difference': Timedelta('0 days 02:14:25.925000')},\n",
       " {'ts_off': Timestamp('2023-11-27 09:58:24.711000'),\n",
       "  'next_ts_on': Timestamp('2023-11-27 15:56:36.701000'),\n",
       "  'difference': Timedelta('0 days 05:58:11.990000')},\n",
       " {'ts_off': Timestamp('2023-11-27 15:57:12.273000'),\n",
       "  'next_ts_on': Timestamp('2023-11-27 16:12:08.246000'),\n",
       "  'difference': Timedelta('0 days 00:14:55.973000')},\n",
       " {'ts_off': Timestamp('2023-11-27 16:13:53.755000'),\n",
       "  'next_ts_on': Timestamp('2023-11-27 16:15:17.054000'),\n",
       "  'difference': Timedelta('0 days 00:01:23.299000')},\n",
       " {'ts_off': Timestamp('2023-11-27 16:15:35.236000'),\n",
       "  'next_ts_on': Timestamp('2023-11-27 17:13:59.271000'),\n",
       "  'difference': Timedelta('0 days 00:58:24.035000')},\n",
       " {'ts_off': Timestamp('2023-11-27 17:14:11.013000'),\n",
       "  'next_ts_on': Timestamp('2023-11-28 07:29:40.641000'),\n",
       "  'difference': Timedelta('0 days 14:15:29.628000')},\n",
       " {'ts_off': Timestamp('2023-11-28 07:29:48.719000'),\n",
       "  'next_ts_on': Timestamp('2023-11-28 07:30:42.939000'),\n",
       "  'difference': Timedelta('0 days 00:00:54.220000')},\n",
       " {'ts_off': Timestamp('2023-11-28 07:30:57.882000'),\n",
       "  'next_ts_on': Timestamp('2023-11-28 07:49:19.736000'),\n",
       "  'difference': Timedelta('0 days 00:18:21.854000')},\n",
       " {'ts_off': Timestamp('2023-11-28 07:49:25.178000'),\n",
       "  'next_ts_on': Timestamp('2023-11-28 09:40:50.704000'),\n",
       "  'difference': Timedelta('0 days 01:51:25.526000')},\n",
       " {'ts_off': Timestamp('2023-11-28 09:40:57.452000'),\n",
       "  'next_ts_on': Timestamp('2023-11-28 09:42:48.324000'),\n",
       "  'difference': Timedelta('0 days 00:01:50.872000')},\n",
       " {'ts_off': Timestamp('2023-11-28 09:42:56.072000'),\n",
       "  'next_ts_on': Timestamp('2023-11-28 09:47:47.165000'),\n",
       "  'difference': Timedelta('0 days 00:04:51.093000')},\n",
       " {'ts_off': Timestamp('2023-11-28 09:47:51.662000'),\n",
       "  'next_ts_on': Timestamp('2023-11-28 10:01:39.779000'),\n",
       "  'difference': Timedelta('0 days 00:13:48.117000')},\n",
       " {'ts_off': Timestamp('2023-11-28 10:01:46.479000'),\n",
       "  'next_ts_on': Timestamp('2023-11-28 10:06:56.478000'),\n",
       "  'difference': Timedelta('0 days 00:05:09.999000')},\n",
       " {'ts_off': Timestamp('2023-11-28 10:07:02.949000'),\n",
       "  'next_ts_on': Timestamp('2023-11-28 14:14:16.485000'),\n",
       "  'difference': Timedelta('0 days 04:07:13.536000')},\n",
       " {'ts_off': Timestamp('2023-11-28 14:14:24.914000'),\n",
       "  'next_ts_on': Timestamp('2023-11-28 16:13:20.478000'),\n",
       "  'difference': Timedelta('0 days 01:58:55.564000')},\n",
       " {'ts_off': Timestamp('2023-11-28 16:13:40.383000'),\n",
       "  'next_ts_on': Timestamp('2023-11-28 17:11:06.314000'),\n",
       "  'difference': Timedelta('0 days 00:57:25.931000')},\n",
       " {'ts_off': Timestamp('2023-11-28 17:18:21.131000'),\n",
       "  'next_ts_on': Timestamp('2023-11-28 17:28:13.731000'),\n",
       "  'difference': Timedelta('0 days 00:09:52.600000')},\n",
       " {'ts_off': Timestamp('2023-11-28 17:28:45.964000'),\n",
       "  'next_ts_on': Timestamp('2023-11-29 07:48:41.365000'),\n",
       "  'difference': Timedelta('0 days 14:19:55.401000')},\n",
       " {'ts_off': Timestamp('2023-11-29 07:48:50.413000'),\n",
       "  'next_ts_on': Timestamp('2023-11-29 10:02:52.941000'),\n",
       "  'difference': Timedelta('0 days 02:14:02.528000')},\n",
       " {'ts_off': Timestamp('2023-11-29 10:03:01.209000'),\n",
       "  'next_ts_on': Timestamp('2023-11-29 15:27:11.045000'),\n",
       "  'difference': Timedelta('0 days 05:24:09.836000')},\n",
       " {'ts_off': Timestamp('2023-11-29 15:27:51.741000'),\n",
       "  'next_ts_on': Timestamp('2023-11-29 15:28:04.641000'),\n",
       "  'difference': Timedelta('0 days 00:00:12.900000')},\n",
       " {'ts_off': Timestamp('2023-11-29 15:28:22.040000'),\n",
       "  'next_ts_on': Timestamp('2023-11-29 15:33:08.588000'),\n",
       "  'difference': Timedelta('0 days 00:04:46.548000')},\n",
       " {'ts_off': Timestamp('2023-11-29 15:39:54.984000'),\n",
       "  'next_ts_on': Timestamp('2023-11-29 15:39:59.493000'),\n",
       "  'difference': Timedelta('0 days 00:00:04.509000')},\n",
       " {'ts_off': Timestamp('2023-11-29 15:40:14.054000'),\n",
       "  'next_ts_on': Timestamp('2023-11-29 15:55:50.152000'),\n",
       "  'difference': Timedelta('0 days 00:15:36.098000')},\n",
       " {'ts_off': Timestamp('2023-11-29 15:56:15.946000'),\n",
       "  'next_ts_on': Timestamp('2023-11-29 17:03:54.237000'),\n",
       "  'difference': Timedelta('0 days 01:07:38.291000')},\n",
       " {'ts_off': Timestamp('2023-11-29 17:04:08.011000'),\n",
       "  'next_ts_on': Timestamp('2023-11-30 08:13:15.729000'),\n",
       "  'difference': Timedelta('0 days 15:09:07.718000')},\n",
       " {'ts_off': Timestamp('2023-11-30 08:13:45.754000'),\n",
       "  'next_ts_on': Timestamp('2023-11-30 08:18:21.769000'),\n",
       "  'difference': Timedelta('0 days 00:04:36.015000')},\n",
       " {'ts_off': Timestamp('2023-11-30 08:22:56.185000'),\n",
       "  'next_ts_on': Timestamp('2023-11-30 10:16:58.316000'),\n",
       "  'difference': Timedelta('0 days 01:54:02.131000')},\n",
       " {'ts_off': Timestamp('2023-11-30 10:21:24.164000'),\n",
       "  'next_ts_on': Timestamp('2023-11-30 13:18:45.922000'),\n",
       "  'difference': Timedelta('0 days 02:57:21.758000')},\n",
       " {'ts_off': Timestamp('2023-11-30 13:18:56.414000'),\n",
       "  'next_ts_on': Timestamp('2023-11-30 15:06:36.408000'),\n",
       "  'difference': Timedelta('0 days 01:47:39.994000')},\n",
       " {'ts_off': Timestamp('2023-11-30 15:06:45.152000'),\n",
       "  'next_ts_on': Timestamp('2023-11-30 17:42:41.815000'),\n",
       "  'difference': Timedelta('0 days 02:35:56.663000')},\n",
       " {'ts_off': Timestamp('2023-11-30 17:43:09.306000'),\n",
       "  'next_ts_on': Timestamp('2023-11-30 17:43:10.519000'),\n",
       "  'difference': Timedelta('0 days 00:00:01.213000')},\n",
       " {'ts_off': Timestamp('2023-11-30 17:46:20.105000'),\n",
       "  'next_ts_on': Timestamp('2023-12-01 07:28:17.116000'),\n",
       "  'difference': Timedelta('0 days 13:41:57.011000')},\n",
       " {'ts_off': Timestamp('2023-12-01 07:28:33.170000'),\n",
       "  'next_ts_on': Timestamp('2023-12-01 07:30:07.144000'),\n",
       "  'difference': Timedelta('0 days 00:01:33.974000')},\n",
       " {'ts_off': Timestamp('2023-12-01 07:30:12.467000'),\n",
       "  'next_ts_on': Timestamp('2023-12-01 07:45:19.607000'),\n",
       "  'difference': Timedelta('0 days 00:15:07.140000')},\n",
       " {'ts_off': Timestamp('2023-12-01 07:45:43.948000'),\n",
       "  'next_ts_on': Timestamp('2023-12-01 07:48:42.442000'),\n",
       "  'difference': Timedelta('0 days 00:02:58.494000')},\n",
       " {'ts_off': Timestamp('2023-12-01 07:48:49.137000'),\n",
       "  'next_ts_on': Timestamp('2023-12-01 07:49:20.126000'),\n",
       "  'difference': Timedelta('0 days 00:00:30.989000')},\n",
       " {'ts_off': Timestamp('2023-12-01 07:49:30.779000'),\n",
       "  'next_ts_on': Timestamp('2023-12-01 09:16:05.045000'),\n",
       "  'difference': Timedelta('0 days 01:26:34.266000')},\n",
       " {'ts_off': Timestamp('2023-12-01 09:22:21.965000'),\n",
       "  'next_ts_on': Timestamp('2023-12-01 09:22:24.123000'),\n",
       "  'difference': Timedelta('0 days 00:00:02.158000')},\n",
       " {'ts_off': Timestamp('2023-12-01 09:29:32.009000'),\n",
       "  'next_ts_on': Timestamp('2023-12-01 09:47:11.551000'),\n",
       "  'difference': Timedelta('0 days 00:17:39.542000')},\n",
       " {'ts_off': Timestamp('2023-12-01 09:47:20.794000'),\n",
       "  'next_ts_on': Timestamp('2023-12-01 10:17:28.387000'),\n",
       "  'difference': Timedelta('0 days 00:30:07.593000')},\n",
       " {'ts_off': Timestamp('2023-12-01 10:24:00.865000'),\n",
       "  'next_ts_on': Timestamp('2023-12-01 10:26:28.832000'),\n",
       "  'difference': Timedelta('0 days 00:02:27.967000')},\n",
       " {'ts_off': Timestamp('2023-12-01 10:26:36.325000'),\n",
       "  'next_ts_on': Timestamp('2023-12-01 10:40:02.489000'),\n",
       "  'difference': Timedelta('0 days 00:13:26.164000')},\n",
       " {'ts_off': Timestamp('2023-12-01 10:40:26.444000'),\n",
       "  'next_ts_on': Timestamp('2023-12-01 11:55:43.023000'),\n",
       "  'difference': Timedelta('0 days 01:15:16.579000')},\n",
       " {'ts_off': Timestamp('2023-12-01 11:55:54.394000'),\n",
       "  'next_ts_on': Timestamp('2023-12-01 11:59:59.108000'),\n",
       "  'difference': Timedelta('0 days 00:04:04.714000')},\n",
       " {'ts_off': Timestamp('2023-12-01 12:00:08.162000'),\n",
       "  'next_ts_on': Timestamp('2023-12-01 16:33:48.752000'),\n",
       "  'difference': Timedelta('0 days 04:33:40.590000')},\n",
       " {'ts_off': Timestamp('2023-12-01 16:38:57.490000'),\n",
       "  'next_ts_on': Timestamp('2023-12-01 16:39:00.510000'),\n",
       "  'difference': Timedelta('0 days 00:00:03.020000')},\n",
       " {'ts_off': Timestamp('2023-12-01 16:39:32.613000'),\n",
       "  'next_ts_on': Timestamp('2023-12-01 16:40:21.270000'),\n",
       "  'difference': Timedelta('0 days 00:00:48.657000')},\n",
       " {'ts_off': Timestamp('2023-12-01 16:40:40.620000'),\n",
       "  'next_ts_on': Timestamp('2023-12-01 17:52:29.175000'),\n",
       "  'difference': Timedelta('0 days 01:11:48.555000')},\n",
       " {'ts_off': Timestamp('2023-12-01 17:53:18.801000'),\n",
       "  'next_ts_on': Timestamp('2023-12-01 17:53:19.526000'),\n",
       "  'difference': Timedelta('0 days 00:00:00.725000')},\n",
       " {'ts_off': Timestamp('2023-12-01 17:53:59.371000'),\n",
       "  'next_ts_on': Timestamp('2023-12-01 19:09:49.256000'),\n",
       "  'difference': Timedelta('0 days 01:15:49.885000')},\n",
       " {'ts_off': Timestamp('2023-12-01 19:13:06.159000'),\n",
       "  'next_ts_on': Timestamp('2023-12-01 19:14:23.346000'),\n",
       "  'difference': Timedelta('0 days 00:01:17.187000')},\n",
       " {'ts_off': Timestamp('2023-12-01 19:14:38.210000'),\n",
       "  'next_ts_on': Timestamp('2023-12-01 22:43:21.904000'),\n",
       "  'difference': Timedelta('0 days 03:28:43.694000')},\n",
       " {'ts_off': Timestamp('2023-12-01 22:44:00.960000'),\n",
       "  'next_ts_on': Timestamp('2023-12-01 22:51:33.901000'),\n",
       "  'difference': Timedelta('0 days 00:07:32.941000')},\n",
       " {'ts_off': Timestamp('2023-12-01 22:51:56.391000'),\n",
       "  'next_ts_on': Timestamp('2023-12-02 08:08:46.324000'),\n",
       "  'difference': Timedelta('0 days 09:16:49.933000')},\n",
       " {'ts_off': Timestamp('2023-12-02 08:08:55.763000'),\n",
       "  'next_ts_on': Timestamp('2023-12-02 08:11:14.223000'),\n",
       "  'difference': Timedelta('0 days 00:02:18.460000')},\n",
       " {'ts_off': Timestamp('2023-12-02 08:11:46.010000'),\n",
       "  'next_ts_on': Timestamp('2023-12-02 09:49:24.737000'),\n",
       "  'difference': Timedelta('0 days 01:37:38.727000')},\n",
       " {'ts_off': Timestamp('2023-12-02 09:49:31.498000'),\n",
       "  'next_ts_on': Timestamp('2023-12-02 09:50:08.896000'),\n",
       "  'difference': Timedelta('0 days 00:00:37.398000')},\n",
       " {'ts_off': Timestamp('2023-12-02 10:07:23.333000'),\n",
       "  'next_ts_on': Timestamp('2023-12-02 11:05:11.255000'),\n",
       "  'difference': Timedelta('0 days 00:57:47.922000')},\n",
       " {'ts_off': Timestamp('2023-12-02 11:05:18.635000'),\n",
       "  'next_ts_on': Timestamp('2023-12-02 17:12:47.453000'),\n",
       "  'difference': Timedelta('0 days 06:07:28.818000')},\n",
       " {'ts_off': Timestamp('2023-12-02 17:13:14.305000'),\n",
       "  'next_ts_on': Timestamp('2023-12-02 17:13:24.235000'),\n",
       "  'difference': Timedelta('0 days 00:00:09.930000')},\n",
       " {'ts_off': Timestamp('2023-12-02 17:15:14.521000'),\n",
       "  'next_ts_on': Timestamp('2023-12-02 18:06:52.110000'),\n",
       "  'difference': Timedelta('0 days 00:51:37.589000')},\n",
       " {'ts_off': Timestamp('2023-12-02 18:07:01.857000'),\n",
       "  'next_ts_on': Timestamp('2023-12-03 07:37:06.524000'),\n",
       "  'difference': Timedelta('0 days 13:30:04.667000')},\n",
       " {'ts_off': Timestamp('2023-12-03 07:37:18.138000'),\n",
       "  'next_ts_on': Timestamp('2023-12-03 07:51:04.445000'),\n",
       "  'difference': Timedelta('0 days 00:13:46.307000')},\n",
       " {'ts_off': Timestamp('2023-12-03 07:51:13.751000'),\n",
       "  'next_ts_on': Timestamp('2023-12-03 12:03:53.408000'),\n",
       "  'difference': Timedelta('0 days 04:12:39.657000')},\n",
       " {'ts_off': Timestamp('2023-12-03 12:04:02.010000'),\n",
       "  'next_ts_on': Timestamp('2023-12-03 16:27:00.342000'),\n",
       "  'difference': Timedelta('0 days 04:22:58.332000')},\n",
       " {'ts_off': Timestamp('2023-12-03 16:27:07.311000'),\n",
       "  'next_ts_on': Timestamp('2023-12-03 17:18:51.400000'),\n",
       "  'difference': Timedelta('0 days 00:51:44.089000')},\n",
       " {'ts_off': Timestamp('2023-12-03 17:18:58.938000'),\n",
       "  'next_ts_on': Timestamp('2023-12-03 17:19:53.685000'),\n",
       "  'difference': Timedelta('0 days 00:00:54.747000')},\n",
       " {'ts_off': Timestamp('2023-12-03 17:20:08.528000'),\n",
       "  'next_ts_on': Timestamp('2023-12-03 17:40:20.711000'),\n",
       "  'difference': Timedelta('0 days 00:20:12.183000')},\n",
       " {'ts_off': Timestamp('2023-12-03 17:40:26.616000'),\n",
       "  'next_ts_on': Timestamp('2023-12-03 17:41:34.210000'),\n",
       "  'difference': Timedelta('0 days 00:01:07.594000')},\n",
       " {'ts_off': Timestamp('2023-12-03 17:41:41.826000'),\n",
       "  'next_ts_on': Timestamp('2023-12-03 17:44:01.330000'),\n",
       "  'difference': Timedelta('0 days 00:02:19.504000')},\n",
       " {'ts_off': Timestamp('2023-12-03 17:44:08.989000'),\n",
       "  'next_ts_on': Timestamp('2023-12-04 07:16:44.412000'),\n",
       "  'difference': Timedelta('0 days 13:32:35.423000')},\n",
       " {'ts_off': Timestamp('2023-12-04 07:16:53.518000'),\n",
       "  'next_ts_on': Timestamp('2023-12-04 07:50:16.014000'),\n",
       "  'difference': Timedelta('0 days 00:33:22.496000')},\n",
       " {'ts_off': Timestamp('2023-12-04 07:50:28.476000'),\n",
       "  'next_ts_on': Timestamp('2023-12-04 15:38:16.816000'),\n",
       "  'difference': Timedelta('0 days 07:47:48.340000')},\n",
       " {'ts_off': Timestamp('2023-12-04 15:38:34.031000'),\n",
       "  'next_ts_on': Timestamp('2023-12-04 17:27:10.829000'),\n",
       "  'difference': Timedelta('0 days 01:48:36.798000')},\n",
       " {'ts_off': Timestamp('2023-12-04 17:27:41.544000'),\n",
       "  'next_ts_on': Timestamp('2023-12-05 07:28:27.906000'),\n",
       "  'difference': Timedelta('0 days 14:00:46.362000')},\n",
       " {'ts_off': Timestamp('2023-12-05 07:28:35.164000'),\n",
       "  'next_ts_on': Timestamp('2023-12-05 07:43:59.703000'),\n",
       "  'difference': Timedelta('0 days 00:15:24.539000')},\n",
       " {'ts_off': Timestamp('2023-12-05 07:44:19.300000'),\n",
       "  'next_ts_on': Timestamp('2023-12-05 07:52:04.450000'),\n",
       "  'difference': Timedelta('0 days 00:07:45.150000')},\n",
       " {'ts_off': Timestamp('2023-12-05 07:52:16.060000'),\n",
       "  'next_ts_on': Timestamp('2023-12-05 09:09:41.818000'),\n",
       "  'difference': Timedelta('0 days 01:17:25.758000')},\n",
       " {'ts_off': Timestamp('2023-12-05 09:09:48.778000'),\n",
       "  'next_ts_on': Timestamp('2023-12-05 09:20:02.453000'),\n",
       "  'difference': Timedelta('0 days 00:10:13.675000')},\n",
       " {'ts_off': Timestamp('2023-12-05 09:20:33.209000'),\n",
       "  'next_ts_on': Timestamp('2023-12-05 09:39:26.263000'),\n",
       "  'difference': Timedelta('0 days 00:18:53.054000')},\n",
       " {'ts_off': Timestamp('2023-12-05 09:39:31.192000'),\n",
       "  'next_ts_on': Timestamp('2023-12-05 09:41:14.130000'),\n",
       "  'difference': Timedelta('0 days 00:01:42.938000')},\n",
       " {'ts_off': Timestamp('2023-12-05 09:41:19.054000'),\n",
       "  'next_ts_on': Timestamp('2023-12-05 09:54:26.978000'),\n",
       "  'difference': Timedelta('0 days 00:13:07.924000')},\n",
       " {'ts_off': Timestamp('2023-12-05 09:54:54.113000'),\n",
       "  'next_ts_on': Timestamp('2023-12-05 10:43:18.930000'),\n",
       "  'difference': Timedelta('0 days 00:48:24.817000')},\n",
       " {'ts_off': Timestamp('2023-12-05 10:43:27.634000'),\n",
       "  'next_ts_on': Timestamp('2023-12-05 10:51:06.907000'),\n",
       "  'difference': Timedelta('0 days 00:07:39.273000')},\n",
       " {'ts_off': Timestamp('2023-12-05 10:51:14.801000'),\n",
       "  'next_ts_on': Timestamp('2023-12-05 11:13:42.397000'),\n",
       "  'difference': Timedelta('0 days 00:22:27.596000')},\n",
       " {'ts_off': Timestamp('2023-12-05 11:13:55.693000'),\n",
       "  'next_ts_on': Timestamp('2023-12-05 17:45:46.239000'),\n",
       "  'difference': Timedelta('0 days 06:31:50.546000')},\n",
       " {'ts_off': Timestamp('2023-12-05 17:45:55.483000'),\n",
       "  'next_ts_on': Timestamp('2023-12-05 22:56:20.593000'),\n",
       "  'difference': Timedelta('0 days 05:10:25.110000')},\n",
       " {'ts_off': Timestamp('2023-12-05 22:56:27.484000'),\n",
       "  'next_ts_on': Timestamp('2023-12-06 07:34:30.101000'),\n",
       "  'difference': Timedelta('0 days 08:38:02.617000')},\n",
       " {'ts_off': Timestamp('2023-12-06 07:34:37.886000'),\n",
       "  'next_ts_on': Timestamp('2023-12-06 10:18:07.109000'),\n",
       "  'difference': Timedelta('0 days 02:43:29.223000')},\n",
       " {'ts_off': Timestamp('2023-12-06 10:18:16.202000'),\n",
       "  'next_ts_on': Timestamp('2023-12-06 17:01:23.542000'),\n",
       "  'difference': Timedelta('0 days 06:43:07.340000')},\n",
       " {'ts_off': Timestamp('2023-12-06 17:01:30.797000'),\n",
       "  'next_ts_on': Timestamp('2023-12-06 17:36:51.080000'),\n",
       "  'difference': Timedelta('0 days 00:35:20.283000')},\n",
       " {'ts_off': Timestamp('2023-12-06 17:36:59.251000'),\n",
       "  'next_ts_on': Timestamp('2023-12-07 08:05:01.013000'),\n",
       "  'difference': Timedelta('0 days 14:28:01.762000')},\n",
       " {'ts_off': Timestamp('2023-12-07 08:05:10.684000'),\n",
       "  'next_ts_on': Timestamp('2023-12-07 09:27:35.762000'),\n",
       "  'difference': Timedelta('0 days 01:22:25.078000')},\n",
       " {'ts_off': Timestamp('2023-12-07 09:27:51.438000'),\n",
       "  'next_ts_on': Timestamp('2023-12-07 12:32:51.528000'),\n",
       "  'difference': Timedelta('0 days 03:05:00.090000')},\n",
       " {'ts_off': Timestamp('2023-12-07 12:33:00.044000'),\n",
       "  'next_ts_on': Timestamp('2023-12-07 12:33:34.870000'),\n",
       "  'difference': Timedelta('0 days 00:00:34.826000')},\n",
       " {'ts_off': Timestamp('2023-12-07 12:34:22.725000'),\n",
       "  'next_ts_on': Timestamp('2023-12-07 13:35:37.918000'),\n",
       "  'difference': Timedelta('0 days 01:01:15.193000')},\n",
       " {'ts_off': Timestamp('2023-12-07 13:36:47.233000'),\n",
       "  'next_ts_on': Timestamp('2023-12-07 15:50:58.258000'),\n",
       "  'difference': Timedelta('0 days 02:14:11.025000')},\n",
       " {'ts_off': Timestamp('2023-12-07 15:51:04.541000'),\n",
       "  'next_ts_on': Timestamp('2023-12-07 21:38:14.236000'),\n",
       "  'difference': Timedelta('0 days 05:47:09.695000')},\n",
       " {'ts_off': Timestamp('2023-12-07 21:38:40.906000'),\n",
       "  'next_ts_on': Timestamp('2023-12-07 21:46:30.664000'),\n",
       "  'difference': Timedelta('0 days 00:07:49.758000')},\n",
       " {'ts_off': Timestamp('2023-12-07 21:46:37.067000'),\n",
       "  'next_ts_on': Timestamp('2023-12-08 07:54:47.640000'),\n",
       "  'difference': Timedelta('0 days 10:08:10.573000')},\n",
       " {'ts_off': Timestamp('2023-12-08 07:54:55.653000'),\n",
       "  'next_ts_on': Timestamp('2023-12-08 09:47:34.124000'),\n",
       "  'difference': Timedelta('0 days 01:52:38.471000')},\n",
       " {'ts_off': Timestamp('2023-12-08 09:48:06.242000'),\n",
       "  'next_ts_on': Timestamp('2023-12-08 15:04:26.367000'),\n",
       "  'difference': Timedelta('0 days 05:16:20.125000')},\n",
       " {'ts_off': Timestamp('2023-12-08 15:04:34.126000'),\n",
       "  'next_ts_on': Timestamp('2023-12-08 15:04:40.046000'),\n",
       "  'difference': Timedelta('0 days 00:00:05.920000')},\n",
       " {'ts_off': Timestamp('2023-12-08 15:05:05.194000'),\n",
       "  'next_ts_on': Timestamp('2023-12-08 15:58:23.214000'),\n",
       "  'difference': Timedelta('0 days 00:53:18.020000')},\n",
       " {'ts_off': Timestamp('2023-12-08 16:00:58.372000'),\n",
       "  'next_ts_on': Timestamp('2023-12-08 19:07:29.488000'),\n",
       "  'difference': Timedelta('0 days 03:06:31.116000')},\n",
       " {'ts_off': Timestamp('2023-12-08 19:11:01.251000'),\n",
       "  'next_ts_on': Timestamp('2023-12-08 22:43:17.362000'),\n",
       "  'difference': Timedelta('0 days 03:32:16.111000')},\n",
       " {'ts_off': Timestamp('2023-12-08 22:44:50.656000'),\n",
       "  'next_ts_on': Timestamp('2023-12-08 23:00:49.549000'),\n",
       "  'difference': Timedelta('0 days 00:15:58.893000')},\n",
       " {'ts_off': Timestamp('2023-12-08 23:00:55.209000'),\n",
       "  'next_ts_on': Timestamp('2023-12-09 07:28:20.866000'),\n",
       "  'difference': Timedelta('0 days 08:27:25.657000')},\n",
       " {'ts_off': Timestamp('2023-12-09 07:28:29.692000'),\n",
       "  'next_ts_on': Timestamp('2023-12-09 07:30:16.321000'),\n",
       "  'difference': Timedelta('0 days 00:01:46.629000')},\n",
       " {'ts_off': Timestamp('2023-12-09 07:30:21.793000'),\n",
       "  'next_ts_on': Timestamp('2023-12-09 07:44:54.406000'),\n",
       "  'difference': Timedelta('0 days 00:14:32.613000')},\n",
       " {'ts_off': Timestamp('2023-12-09 07:45:01.180000'),\n",
       "  'next_ts_on': Timestamp('2023-12-09 08:56:05.648000'),\n",
       "  'difference': Timedelta('0 days 01:11:04.468000')},\n",
       " {'ts_off': Timestamp('2023-12-09 08:56:14.142000'),\n",
       "  'next_ts_on': Timestamp('2023-12-09 09:13:06.927000'),\n",
       "  'difference': Timedelta('0 days 00:16:52.785000')},\n",
       " {'ts_off': Timestamp('2023-12-09 09:13:20.537000'),\n",
       "  'next_ts_on': Timestamp('2023-12-09 09:21:28.397000'),\n",
       "  'difference': Timedelta('0 days 00:08:07.860000')},\n",
       " {'ts_off': Timestamp('2023-12-09 09:21:36.096000'),\n",
       "  'next_ts_on': Timestamp('2023-12-09 09:37:48.473000'),\n",
       "  'difference': Timedelta('0 days 00:16:12.377000')},\n",
       " {'ts_off': Timestamp('2023-12-09 09:37:57.196000'),\n",
       "  'next_ts_on': Timestamp('2023-12-09 10:09:04.261000'),\n",
       "  'difference': Timedelta('0 days 00:31:07.065000')},\n",
       " {'ts_off': Timestamp('2023-12-09 10:09:08.355000'),\n",
       "  'next_ts_on': Timestamp('2023-12-09 10:10:59.935000'),\n",
       "  'difference': Timedelta('0 days 00:01:51.580000')},\n",
       " {'ts_off': Timestamp('2023-12-09 10:11:05.343000'),\n",
       "  'next_ts_on': Timestamp('2023-12-09 10:20:18.484000'),\n",
       "  'difference': Timedelta('0 days 00:09:13.141000')},\n",
       " {'ts_off': Timestamp('2023-12-09 10:20:23.930000'),\n",
       "  'next_ts_on': Timestamp('2023-12-09 11:12:04.634000'),\n",
       "  'difference': Timedelta('0 days 00:51:40.704000')},\n",
       " {'ts_off': Timestamp('2023-12-09 11:12:38.648000'),\n",
       "  'next_ts_on': Timestamp('2023-12-09 11:30:23.557000'),\n",
       "  'difference': Timedelta('0 days 00:17:44.909000')},\n",
       " {'ts_off': Timestamp('2023-12-09 11:30:42.596000'),\n",
       "  'next_ts_on': Timestamp('2023-12-09 13:24:04.052000'),\n",
       "  'difference': Timedelta('0 days 01:53:21.456000')},\n",
       " {'ts_off': Timestamp('2023-12-09 13:24:50.239000'),\n",
       "  'next_ts_on': Timestamp('2023-12-09 14:54:28.541000'),\n",
       "  'difference': Timedelta('0 days 01:29:38.302000')},\n",
       " {'ts_off': Timestamp('2023-12-09 14:54:34.190000'),\n",
       "  'next_ts_on': Timestamp('2023-12-09 15:36:29.324000'),\n",
       "  'difference': Timedelta('0 days 00:41:55.134000')},\n",
       " {'ts_off': Timestamp('2023-12-09 15:42:54.001000'),\n",
       "  'next_ts_on': Timestamp('2023-12-09 15:44:33.911000'),\n",
       "  'difference': Timedelta('0 days 00:01:39.910000')},\n",
       " {'ts_off': Timestamp('2023-12-09 15:45:03.279000'),\n",
       "  'next_ts_on': Timestamp('2023-12-09 16:32:32.034000'),\n",
       "  'difference': Timedelta('0 days 00:47:28.755000')},\n",
       " {'ts_off': Timestamp('2023-12-09 16:32:46.866000'),\n",
       "  'next_ts_on': Timestamp('2023-12-10 08:18:46.948000'),\n",
       "  'difference': Timedelta('0 days 15:46:00.082000')},\n",
       " {'ts_off': Timestamp('2023-12-10 08:18:54.412000'),\n",
       "  'next_ts_on': Timestamp('2023-12-10 10:16:20.408000'),\n",
       "  'difference': Timedelta('0 days 01:57:25.996000')},\n",
       " {'ts_off': Timestamp('2023-12-10 10:16:41.685000'),\n",
       "  'next_ts_on': Timestamp('2023-12-10 16:00:00.604000'),\n",
       "  'difference': Timedelta('0 days 05:43:18.919000')},\n",
       " {'ts_off': Timestamp('2023-12-10 16:01:25.485000'),\n",
       "  'next_ts_on': Timestamp('2023-12-10 17:05:58.613000'),\n",
       "  'difference': Timedelta('0 days 01:04:33.128000')},\n",
       " {'ts_off': Timestamp('2023-12-10 17:06:08.698000'),\n",
       "  'next_ts_on': Timestamp('2023-12-10 18:36:41.070000'),\n",
       "  'difference': Timedelta('0 days 01:30:32.372000')},\n",
       " {'ts_off': Timestamp('2023-12-10 18:36:52.979000'),\n",
       "  'next_ts_on': Timestamp('2023-12-10 22:15:28.261000'),\n",
       "  'difference': Timedelta('0 days 03:38:35.282000')},\n",
       " {'ts_off': Timestamp('2023-12-10 22:15:58.539000'),\n",
       "  'next_ts_on': Timestamp('2023-12-10 22:23:01.605000'),\n",
       "  'difference': Timedelta('0 days 00:07:03.066000')},\n",
       " {'ts_off': Timestamp('2023-12-10 22:27:25.646000'),\n",
       "  'next_ts_on': Timestamp('2023-12-11 07:35:26.862000'),\n",
       "  'difference': Timedelta('0 days 09:08:01.216000')},\n",
       " {'ts_off': Timestamp('2023-12-11 07:35:34.220000'),\n",
       "  'next_ts_on': Timestamp('2023-12-11 07:35:35.930000'),\n",
       "  'difference': Timedelta('0 days 00:00:01.710000')},\n",
       " {'ts_off': Timestamp('2023-12-11 07:35:58.939000'),\n",
       "  'next_ts_on': Timestamp('2023-12-11 10:07:07.715000'),\n",
       "  'difference': Timedelta('0 days 02:31:08.776000')},\n",
       " {'ts_off': Timestamp('2023-12-11 10:08:35.113000'),\n",
       "  'next_ts_on': Timestamp('2023-12-11 15:39:48.088000'),\n",
       "  'difference': Timedelta('0 days 05:31:12.975000')},\n",
       " {'ts_off': Timestamp('2023-12-11 15:39:53.830000'),\n",
       "  'next_ts_on': Timestamp('2023-12-11 15:40:00.476000'),\n",
       "  'difference': Timedelta('0 days 00:00:06.646000')},\n",
       " {'ts_off': Timestamp('2023-12-11 15:40:10.045000'),\n",
       "  'next_ts_on': Timestamp('2023-12-11 17:17:09.171000'),\n",
       "  'difference': Timedelta('0 days 01:36:59.126000')},\n",
       " {'ts_off': Timestamp('2023-12-11 17:17:19.032000'),\n",
       "  'next_ts_on': Timestamp('2023-12-11 17:25:33.889000'),\n",
       "  'difference': Timedelta('0 days 00:08:14.857000')},\n",
       " {'ts_off': Timestamp('2023-12-11 17:25:41.995000'),\n",
       "  'next_ts_on': Timestamp('2023-12-11 18:24:53.489000'),\n",
       "  'difference': Timedelta('0 days 00:59:11.494000')},\n",
       " {'ts_off': Timestamp('2023-12-11 18:25:00.739000'),\n",
       "  'next_ts_on': Timestamp('2023-12-12 07:24:08.109000'),\n",
       "  'difference': Timedelta('0 days 12:59:07.370000')},\n",
       " {'ts_off': Timestamp('2023-12-12 07:24:15.944000'),\n",
       "  'next_ts_on': Timestamp('2023-12-12 07:28:46.619000'),\n",
       "  'difference': Timedelta('0 days 00:04:30.675000')},\n",
       " {'ts_off': Timestamp('2023-12-12 07:28:51.780000'),\n",
       "  'next_ts_on': Timestamp('2023-12-12 07:46:03.333000'),\n",
       "  'difference': Timedelta('0 days 00:17:11.553000')},\n",
       " {'ts_off': Timestamp('2023-12-12 07:46:09.062000'),\n",
       "  'next_ts_on': Timestamp('2023-12-12 08:12:23.508000'),\n",
       "  'difference': Timedelta('0 days 00:26:14.446000')},\n",
       " {'ts_off': Timestamp('2023-12-12 08:12:34.363000'),\n",
       "  'next_ts_on': Timestamp('2023-12-12 08:32:38.631000'),\n",
       "  'difference': Timedelta('0 days 00:20:04.268000')},\n",
       " {'ts_off': Timestamp('2023-12-12 08:32:48.799000'),\n",
       "  'next_ts_on': Timestamp('2023-12-12 08:53:32.569000'),\n",
       "  'difference': Timedelta('0 days 00:20:43.770000')},\n",
       " {'ts_off': Timestamp('2023-12-12 08:54:04.034000'),\n",
       "  'next_ts_on': Timestamp('2023-12-12 15:37:33'),\n",
       "  'difference': Timedelta('0 days 06:43:28.966000')},\n",
       " {'ts_off': Timestamp('2023-12-12 15:37:43'),\n",
       "  'next_ts_on': Timestamp('2023-12-12 16:46:57'),\n",
       "  'difference': Timedelta('0 days 01:09:14')},\n",
       " {'ts_off': Timestamp('2023-12-12 16:47:18'),\n",
       "  'next_ts_on': Timestamp('2023-12-13 08:14:33'),\n",
       "  'difference': Timedelta('0 days 15:27:15')},\n",
       " {'ts_off': Timestamp('2023-12-13 08:14:42'),\n",
       "  'next_ts_on': Timestamp('2023-12-13 08:16:33'),\n",
       "  'difference': Timedelta('0 days 00:01:51')},\n",
       " {'ts_off': Timestamp('2023-12-13 08:16:44'),\n",
       "  'next_ts_on': Timestamp('2023-12-13 08:18:36'),\n",
       "  'difference': Timedelta('0 days 00:01:52')},\n",
       " {'ts_off': Timestamp('2023-12-13 08:19:27'),\n",
       "  'next_ts_on': Timestamp('2023-12-13 09:16:29'),\n",
       "  'difference': Timedelta('0 days 00:57:02')},\n",
       " {'ts_off': Timestamp('2023-12-13 09:16:48'),\n",
       "  'next_ts_on': Timestamp('2023-12-13 09:16:49'),\n",
       "  'difference': Timedelta('0 days 00:00:01')},\n",
       " {'ts_off': Timestamp('2023-12-13 09:18:23'),\n",
       "  'next_ts_on': Timestamp('2023-12-13 09:34:42'),\n",
       "  'difference': Timedelta('0 days 00:16:19')},\n",
       " {'ts_off': Timestamp('2023-12-13 09:34:48'),\n",
       "  'next_ts_on': Timestamp('2023-12-13 09:34:57'),\n",
       "  'difference': Timedelta('0 days 00:00:09')},\n",
       " {'ts_off': Timestamp('2023-12-13 09:35:06'),\n",
       "  'next_ts_on': Timestamp('2023-12-13 12:12:47'),\n",
       "  'difference': Timedelta('0 days 02:37:41')},\n",
       " {'ts_off': Timestamp('2023-12-13 12:13:09'),\n",
       "  'next_ts_on': Timestamp('2023-12-13 14:00:30'),\n",
       "  'difference': Timedelta('0 days 01:47:21')},\n",
       " {'ts_off': Timestamp('2023-12-13 14:00:38'),\n",
       "  'next_ts_on': Timestamp('2023-12-13 15:54:39'),\n",
       "  'difference': Timedelta('0 days 01:54:01')},\n",
       " {'ts_off': Timestamp('2023-12-13 15:55:01'),\n",
       "  'next_ts_on': Timestamp('2023-12-14 07:30:28'),\n",
       "  'difference': Timedelta('0 days 15:35:27')},\n",
       " {'ts_off': Timestamp('2023-12-14 07:30:38'),\n",
       "  'next_ts_on': Timestamp('2023-12-14 07:31:20'),\n",
       "  'difference': Timedelta('0 days 00:00:42')},\n",
       " {'ts_off': Timestamp('2023-12-14 07:32:10'),\n",
       "  'next_ts_on': Timestamp('2023-12-14 08:46:29'),\n",
       "  'difference': Timedelta('0 days 01:14:19')},\n",
       " {'ts_off': Timestamp('2023-12-14 08:46:58'),\n",
       "  'next_ts_on': Timestamp('2023-12-14 09:36:42'),\n",
       "  'difference': Timedelta('0 days 00:49:44')},\n",
       " {'ts_off': Timestamp('2023-12-14 09:36:49'),\n",
       "  'next_ts_on': Timestamp('2023-12-14 11:26:47'),\n",
       "  'difference': Timedelta('0 days 01:49:58')},\n",
       " {'ts_off': Timestamp('2023-12-14 11:26:55'),\n",
       "  'next_ts_on': Timestamp('2023-12-14 14:11:17'),\n",
       "  'difference': Timedelta('0 days 02:44:22')},\n",
       " {'ts_off': Timestamp('2023-12-14 14:11:23'),\n",
       "  'next_ts_on': Timestamp('2023-12-14 14:12:02'),\n",
       "  'difference': Timedelta('0 days 00:00:39')},\n",
       " {'ts_off': Timestamp('2023-12-14 14:12:27'),\n",
       "  'next_ts_on': Timestamp('2023-12-14 14:42:08'),\n",
       "  'difference': Timedelta('0 days 00:29:41')},\n",
       " {'ts_off': Timestamp('2023-12-14 14:43:52'),\n",
       "  'next_ts_on': Timestamp('2023-12-14 15:59:49'),\n",
       "  'difference': Timedelta('0 days 01:15:57')},\n",
       " {'ts_off': Timestamp('2023-12-14 16:00:15'),\n",
       "  'next_ts_on': Timestamp('2023-12-14 16:20:16'),\n",
       "  'difference': Timedelta('0 days 00:20:01')},\n",
       " {'ts_off': Timestamp('2023-12-14 16:20:52'),\n",
       "  'next_ts_on': Timestamp('2023-12-14 17:51:48'),\n",
       "  'difference': Timedelta('0 days 01:30:56')},\n",
       " {'ts_off': Timestamp('2023-12-14 17:53:14'),\n",
       "  'next_ts_on': Timestamp('2023-12-14 21:13:22'),\n",
       "  'difference': Timedelta('0 days 03:20:08')},\n",
       " {'ts_off': Timestamp('2023-12-14 21:13:31'),\n",
       "  'next_ts_on': Timestamp('2023-12-14 21:20:30'),\n",
       "  'difference': Timedelta('0 days 00:06:59')},\n",
       " {'ts_off': Timestamp('2023-12-14 21:20:58'),\n",
       "  'next_ts_on': Timestamp('2023-12-15 07:32:49'),\n",
       "  'difference': Timedelta('0 days 10:11:51')},\n",
       " {'ts_off': Timestamp('2023-12-15 07:32:56'),\n",
       "  'next_ts_on': Timestamp('2023-12-15 07:35:28'),\n",
       "  'difference': Timedelta('0 days 00:02:32')},\n",
       " {'ts_off': Timestamp('2023-12-15 07:35:33'),\n",
       "  'next_ts_on': Timestamp('2023-12-15 07:50:48'),\n",
       "  'difference': Timedelta('0 days 00:15:15')},\n",
       " {'ts_off': Timestamp('2023-12-15 07:50:52'),\n",
       "  'next_ts_on': Timestamp('2023-12-15 08:11:00'),\n",
       "  'difference': Timedelta('0 days 00:20:08')},\n",
       " {'ts_off': Timestamp('2023-12-15 08:11:08'),\n",
       "  'next_ts_on': Timestamp('2023-12-15 08:48:57'),\n",
       "  'difference': Timedelta('0 days 00:37:49')},\n",
       " {'ts_off': Timestamp('2023-12-15 08:49:16'),\n",
       "  'next_ts_on': Timestamp('2023-12-15 08:55:52'),\n",
       "  'difference': Timedelta('0 days 00:06:36')},\n",
       " {'ts_off': Timestamp('2023-12-15 08:56:23'),\n",
       "  'next_ts_on': Timestamp('2023-12-15 09:05:05'),\n",
       "  'difference': Timedelta('0 days 00:08:42')},\n",
       " {'ts_off': Timestamp('2023-12-15 09:05:14'),\n",
       "  'next_ts_on': Timestamp('2023-12-15 09:15:11'),\n",
       "  'difference': Timedelta('0 days 00:09:57')},\n",
       " {'ts_off': Timestamp('2023-12-15 09:15:20'),\n",
       "  'next_ts_on': Timestamp('2023-12-15 09:25:47'),\n",
       "  'difference': Timedelta('0 days 00:10:27')},\n",
       " {'ts_off': Timestamp('2023-12-15 09:26:07'),\n",
       "  'next_ts_on': Timestamp('2023-12-15 10:08:58'),\n",
       "  'difference': Timedelta('0 days 00:42:51')},\n",
       " {'ts_off': Timestamp('2023-12-15 10:09:03'),\n",
       "  'next_ts_on': Timestamp('2023-12-15 10:10:48'),\n",
       "  'difference': Timedelta('0 days 00:01:45')},\n",
       " {'ts_off': Timestamp('2023-12-15 10:10:52'),\n",
       "  'next_ts_on': Timestamp('2023-12-15 10:17:09'),\n",
       "  'difference': Timedelta('0 days 00:06:17')},\n",
       " {'ts_off': Timestamp('2023-12-15 10:17:13'),\n",
       "  'next_ts_on': Timestamp('2023-12-15 11:22:16'),\n",
       "  'difference': Timedelta('0 days 01:05:03')},\n",
       " {'ts_off': Timestamp('2023-12-15 11:22:38'),\n",
       "  'next_ts_on': Timestamp('2023-12-15 14:00:14'),\n",
       "  'difference': Timedelta('0 days 02:37:36')},\n",
       " {'ts_off': Timestamp('2023-12-15 14:00:30'),\n",
       "  'next_ts_on': Timestamp('2023-12-15 15:28:18'),\n",
       "  'difference': Timedelta('0 days 01:27:48')},\n",
       " {'ts_off': Timestamp('2023-12-15 15:28:51'),\n",
       "  'next_ts_on': Timestamp('2023-12-15 17:30:02'),\n",
       "  'difference': Timedelta('0 days 02:01:11')},\n",
       " {'ts_off': Timestamp('2023-12-15 17:30:11'),\n",
       "  'next_ts_on': Timestamp('2023-12-15 21:19:56'),\n",
       "  'difference': Timedelta('0 days 03:49:45')},\n",
       " {'ts_off': Timestamp('2023-12-15 21:21:23'),\n",
       "  'next_ts_on': Timestamp('2023-12-15 21:30:42'),\n",
       "  'difference': Timedelta('0 days 00:09:19')},\n",
       " {'ts_off': Timestamp('2023-12-15 21:31:05'),\n",
       "  'next_ts_on': Timestamp('2023-12-16 08:06:50'),\n",
       "  'difference': Timedelta('0 days 10:35:45')},\n",
       " {'ts_off': Timestamp('2023-12-16 08:07:17'),\n",
       "  'next_ts_on': Timestamp('2023-12-16 10:46:47'),\n",
       "  'difference': Timedelta('0 days 02:39:30')},\n",
       " {'ts_off': Timestamp('2023-12-16 10:47:44'),\n",
       "  'next_ts_on': Timestamp('2023-12-16 12:03:18'),\n",
       "  'difference': Timedelta('0 days 01:15:34')},\n",
       " {'ts_off': Timestamp('2023-12-16 12:03:43'),\n",
       "  'next_ts_on': Timestamp('2023-12-16 13:15:54'),\n",
       "  'difference': Timedelta('0 days 01:12:11')},\n",
       " {'ts_off': Timestamp('2023-12-16 13:16:02'),\n",
       "  'next_ts_on': Timestamp('2023-12-16 15:06:37'),\n",
       "  'difference': Timedelta('0 days 01:50:35')},\n",
       " {'ts_off': Timestamp('2023-12-16 15:06:46'),\n",
       "  'next_ts_on': Timestamp('2023-12-16 16:25:26'),\n",
       "  'difference': Timedelta('0 days 01:18:40')},\n",
       " {'ts_off': Timestamp('2023-12-16 16:26:46'),\n",
       "  'next_ts_on': Timestamp('2023-12-16 16:44:56'),\n",
       "  'difference': Timedelta('0 days 00:18:10')},\n",
       " {'ts_off': Timestamp('2023-12-16 16:45:04'),\n",
       "  'next_ts_on': Timestamp('2023-12-16 17:48:32'),\n",
       "  'difference': Timedelta('0 days 01:03:28')},\n",
       " {'ts_off': Timestamp('2023-12-16 17:48:41'),\n",
       "  'next_ts_on': Timestamp('2023-12-16 22:18:35'),\n",
       "  'difference': Timedelta('0 days 04:29:54')},\n",
       " {'ts_off': Timestamp('2023-12-16 22:19:41'),\n",
       "  'next_ts_on': Timestamp('2023-12-16 22:26:06'),\n",
       "  'difference': Timedelta('0 days 00:06:25')},\n",
       " {'ts_off': Timestamp('2023-12-16 22:26:13'),\n",
       "  'next_ts_on': Timestamp('2023-12-17 08:14:08'),\n",
       "  'difference': Timedelta('0 days 09:47:55')},\n",
       " {'ts_off': Timestamp('2023-12-17 08:14:16'),\n",
       "  'next_ts_on': Timestamp('2023-12-17 09:24:47'),\n",
       "  'difference': Timedelta('0 days 01:10:31')},\n",
       " {'ts_off': Timestamp('2023-12-17 09:24:55'),\n",
       "  'next_ts_on': Timestamp('2023-12-17 13:43:08'),\n",
       "  'difference': Timedelta('0 days 04:18:13')},\n",
       " {'ts_off': Timestamp('2023-12-17 13:43:21'),\n",
       "  'next_ts_on': Timestamp('2023-12-17 15:44:41'),\n",
       "  'difference': Timedelta('0 days 02:01:20')},\n",
       " {'ts_off': Timestamp('2023-12-17 15:44:47'),\n",
       "  'next_ts_on': Timestamp('2023-12-17 16:03:20'),\n",
       "  'difference': Timedelta('0 days 00:18:33')},\n",
       " {'ts_off': Timestamp('2023-12-17 16:03:27'),\n",
       "  'next_ts_on': Timestamp('2023-12-17 16:31:23'),\n",
       "  'difference': Timedelta('0 days 00:27:56')},\n",
       " {'ts_off': Timestamp('2023-12-17 16:31:35'),\n",
       "  'next_ts_on': Timestamp('2023-12-18 07:52:53'),\n",
       "  'difference': Timedelta('0 days 15:21:18')},\n",
       " {'ts_off': Timestamp('2023-12-18 07:53:01'),\n",
       "  'next_ts_on': Timestamp('2023-12-18 09:26:21'),\n",
       "  'difference': Timedelta('0 days 01:33:20')},\n",
       " {'ts_off': Timestamp('2023-12-18 09:26:30'),\n",
       "  'next_ts_on': Timestamp('2023-12-18 10:21:24'),\n",
       "  'difference': Timedelta('0 days 00:54:54')},\n",
       " {'ts_off': Timestamp('2023-12-18 10:21:32'),\n",
       "  'next_ts_on': Timestamp('2023-12-18 11:41:55'),\n",
       "  'difference': Timedelta('0 days 01:20:23')},\n",
       " {'ts_off': Timestamp('2023-12-18 11:42:34'),\n",
       "  'next_ts_on': Timestamp('2023-12-18 16:07:48'),\n",
       "  'difference': Timedelta('0 days 04:25:14')},\n",
       " {'ts_off': Timestamp('2023-12-18 16:07:57'),\n",
       "  'next_ts_on': Timestamp('2023-12-18 17:27:35'),\n",
       "  'difference': Timedelta('0 days 01:19:38')},\n",
       " {'ts_off': Timestamp('2023-12-18 17:28:16'),\n",
       "  'next_ts_on': Timestamp('2023-12-19 07:25:51'),\n",
       "  'difference': Timedelta('0 days 13:57:35')},\n",
       " {'ts_off': Timestamp('2023-12-19 07:25:57'),\n",
       "  'next_ts_on': Timestamp('2023-12-19 07:26:55'),\n",
       "  'difference': Timedelta('0 days 00:00:58')},\n",
       " {'ts_off': Timestamp('2023-12-19 07:26:59'),\n",
       "  'next_ts_on': Timestamp('2023-12-19 07:43:48'),\n",
       "  'difference': Timedelta('0 days 00:16:49')},\n",
       " {'ts_off': Timestamp('2023-12-19 07:43:54'),\n",
       "  'next_ts_on': Timestamp('2023-12-19 08:06:22'),\n",
       "  'difference': Timedelta('0 days 00:22:28')},\n",
       " {'ts_off': Timestamp('2023-12-19 08:06:29'),\n",
       "  'next_ts_on': Timestamp('2023-12-19 08:18:26'),\n",
       "  'difference': Timedelta('0 days 00:11:57')},\n",
       " {'ts_off': Timestamp('2023-12-19 08:18:44'),\n",
       "  'next_ts_on': Timestamp('2023-12-19 08:46:01'),\n",
       "  'difference': Timedelta('0 days 00:27:17')},\n",
       " {'ts_off': Timestamp('2023-12-19 08:46:43'),\n",
       "  'next_ts_on': Timestamp('2023-12-19 09:11:03'),\n",
       "  'difference': Timedelta('0 days 00:24:20')},\n",
       " {'ts_off': Timestamp('2023-12-19 09:11:08'),\n",
       "  'next_ts_on': Timestamp('2023-12-19 09:54:16'),\n",
       "  'difference': Timedelta('0 days 00:43:08')},\n",
       " {'ts_off': Timestamp('2023-12-19 09:54:23'),\n",
       "  'next_ts_on': Timestamp('2023-12-19 09:56:14'),\n",
       "  'difference': Timedelta('0 days 00:01:51')},\n",
       " {'ts_off': Timestamp('2023-12-19 09:56:20'),\n",
       "  'next_ts_on': Timestamp('2023-12-19 10:09:00'),\n",
       "  'difference': Timedelta('0 days 00:12:40')},\n",
       " {'ts_off': Timestamp('2023-12-19 10:09:07'),\n",
       "  'next_ts_on': Timestamp('2023-12-19 10:13:48'),\n",
       "  'difference': Timedelta('0 days 00:04:41')},\n",
       " {'ts_off': Timestamp('2023-12-19 10:14:09'),\n",
       "  'next_ts_on': Timestamp('2023-12-19 11:21:16'),\n",
       "  'difference': Timedelta('0 days 01:07:07')},\n",
       " {'ts_off': Timestamp('2023-12-19 11:22:01'),\n",
       "  'next_ts_on': Timestamp('2023-12-19 11:30:07'),\n",
       "  'difference': Timedelta('0 days 00:08:06')},\n",
       " {'ts_off': Timestamp('2023-12-19 11:30:27'),\n",
       "  'next_ts_on': Timestamp('2023-12-19 11:37:55'),\n",
       "  'difference': Timedelta('0 days 00:07:28')},\n",
       " {'ts_off': Timestamp('2023-12-19 11:38:09'),\n",
       "  'next_ts_on': Timestamp('2023-12-19 11:51:17'),\n",
       "  'difference': Timedelta('0 days 00:13:08')},\n",
       " {'ts_off': Timestamp('2023-12-19 11:51:23'),\n",
       "  'next_ts_on': Timestamp('2023-12-19 15:33:59'),\n",
       "  'difference': Timedelta('0 days 03:42:36')},\n",
       " {'ts_off': Timestamp('2023-12-19 15:35:50'),\n",
       "  'next_ts_on': Timestamp('2023-12-19 15:35:59'),\n",
       "  'difference': Timedelta('0 days 00:00:09')},\n",
       " {'ts_off': Timestamp('2023-12-19 15:36:17'),\n",
       "  'next_ts_on': Timestamp('2023-12-19 16:35:44'),\n",
       "  'difference': Timedelta('0 days 00:59:27')},\n",
       " {'ts_off': Timestamp('2023-12-19 16:36:09'),\n",
       "  'next_ts_on': Timestamp('2023-12-19 17:09:40'),\n",
       "  'difference': Timedelta('0 days 00:33:31')},\n",
       " {'ts_off': Timestamp('2023-12-19 17:10:00'),\n",
       "  'next_ts_on': Timestamp('2023-12-19 17:14:30'),\n",
       "  'difference': Timedelta('0 days 00:04:30')},\n",
       " {'ts_off': Timestamp('2023-12-19 17:14:37'),\n",
       "  'next_ts_on': Timestamp('2023-12-19 18:24:32'),\n",
       "  'difference': Timedelta('0 days 01:09:55')},\n",
       " {'ts_off': Timestamp('2023-12-19 18:24:46'),\n",
       "  'next_ts_on': Timestamp('2023-12-19 21:35:37'),\n",
       "  'difference': Timedelta('0 days 03:10:51')},\n",
       " {'ts_off': Timestamp('2023-12-19 21:35:48'),\n",
       "  'next_ts_on': Timestamp('2023-12-20 07:32:30'),\n",
       "  'difference': Timedelta('0 days 09:56:42')},\n",
       " {'ts_off': Timestamp('2023-12-20 07:32:38'),\n",
       "  'next_ts_on': Timestamp('2023-12-20 09:40:46'),\n",
       "  'difference': Timedelta('0 days 02:08:08')},\n",
       " {'ts_off': Timestamp('2023-12-20 09:40:55'),\n",
       "  'next_ts_on': Timestamp('2023-12-20 10:16:01'),\n",
       "  'difference': Timedelta('0 days 00:35:06')},\n",
       " {'ts_off': Timestamp('2023-12-20 10:16:08'),\n",
       "  'next_ts_on': Timestamp('2023-12-20 10:47:17'),\n",
       "  'difference': Timedelta('0 days 00:31:09')},\n",
       " {'ts_off': Timestamp('2023-12-20 10:47:24'),\n",
       "  'next_ts_on': Timestamp('2023-12-20 10:54:46'),\n",
       "  'difference': Timedelta('0 days 00:07:22')},\n",
       " {'ts_off': Timestamp('2023-12-20 10:54:54'),\n",
       "  'next_ts_on': Timestamp('2023-12-20 10:57:26'),\n",
       "  'difference': Timedelta('0 days 00:02:32')},\n",
       " {'ts_off': Timestamp('2023-12-20 10:57:34'),\n",
       "  'next_ts_on': Timestamp('2023-12-20 15:05:43'),\n",
       "  'difference': Timedelta('0 days 04:08:09')},\n",
       " {'ts_off': Timestamp('2023-12-20 15:06:14'),\n",
       "  'next_ts_on': Timestamp('2023-12-20 16:22:35'),\n",
       "  'difference': Timedelta('0 days 01:16:21')},\n",
       " {'ts_off': Timestamp('2023-12-20 16:23:10'),\n",
       "  'next_ts_on': Timestamp('2023-12-20 17:01:24'),\n",
       "  'difference': Timedelta('0 days 00:38:14')},\n",
       " {'ts_off': Timestamp('2023-12-20 17:03:14'),\n",
       "  'next_ts_on': Timestamp('2023-12-20 17:44:12'),\n",
       "  'difference': Timedelta('0 days 00:40:58')},\n",
       " {'ts_off': Timestamp('2023-12-20 17:44:41'),\n",
       "  'next_ts_on': Timestamp('2023-12-21 08:09:14'),\n",
       "  'difference': Timedelta('0 days 14:24:33')},\n",
       " {'ts_off': Timestamp('2023-12-21 08:09:21'),\n",
       "  'next_ts_on': Timestamp('2023-12-21 09:28:17'),\n",
       "  'difference': Timedelta('0 days 01:18:56')},\n",
       " {'ts_off': Timestamp('2023-12-21 09:29:14'),\n",
       "  'next_ts_on': Timestamp('2023-12-21 09:34:04'),\n",
       "  'difference': Timedelta('0 days 00:04:50')},\n",
       " {'ts_off': Timestamp('2023-12-21 09:35:12'),\n",
       "  'next_ts_on': Timestamp('2023-12-21 11:22:51'),\n",
       "  'difference': Timedelta('0 days 01:47:39')},\n",
       " {'ts_off': Timestamp('2023-12-21 11:22:59'),\n",
       "  'next_ts_on': Timestamp('2023-12-21 11:47:00'),\n",
       "  'difference': Timedelta('0 days 00:24:01')},\n",
       " {'ts_off': Timestamp('2023-12-21 11:47:06'),\n",
       "  'next_ts_on': Timestamp('2023-12-21 11:48:27'),\n",
       "  'difference': Timedelta('0 days 00:01:21')},\n",
       " {'ts_off': Timestamp('2023-12-21 11:48:32'),\n",
       "  'next_ts_on': Timestamp('2023-12-21 14:05:51'),\n",
       "  'difference': Timedelta('0 days 02:17:19')},\n",
       " {'ts_off': Timestamp('2023-12-21 14:06:05'),\n",
       "  'next_ts_on': Timestamp('2023-12-21 15:00:47'),\n",
       "  'difference': Timedelta('0 days 00:54:42')},\n",
       " {'ts_off': Timestamp('2023-12-21 15:01:02'),\n",
       "  'next_ts_on': Timestamp('2023-12-21 16:45:51'),\n",
       "  'difference': Timedelta('0 days 01:44:49')},\n",
       " {'ts_off': Timestamp('2023-12-21 16:47:09'),\n",
       "  'next_ts_on': Timestamp('2023-12-21 18:03:09'),\n",
       "  'difference': Timedelta('0 days 01:16:00')},\n",
       " {'ts_off': Timestamp('2023-12-21 18:03:18'),\n",
       "  'next_ts_on': Timestamp('2023-12-21 22:09:27'),\n",
       "  'difference': Timedelta('0 days 04:06:09')},\n",
       " {'ts_off': Timestamp('2023-12-21 22:09:35'),\n",
       "  'next_ts_on': Timestamp('2023-12-21 22:18:07'),\n",
       "  'difference': Timedelta('0 days 00:08:32')},\n",
       " {'ts_off': Timestamp('2023-12-21 22:18:15'),\n",
       "  'next_ts_on': Timestamp('2023-12-22 07:37:56'),\n",
       "  'difference': Timedelta('0 days 09:19:41')},\n",
       " {'ts_off': Timestamp('2023-12-22 07:40:46'),\n",
       "  'next_ts_on': Timestamp('2023-12-22 07:58:54'),\n",
       "  'difference': Timedelta('0 days 00:18:08')},\n",
       " {'ts_off': Timestamp('2023-12-22 07:59:08'),\n",
       "  'next_ts_on': Timestamp('2023-12-22 07:59:11'),\n",
       "  'difference': Timedelta('0 days 00:00:03')},\n",
       " {'ts_off': Timestamp('2023-12-22 07:59:45'),\n",
       "  'next_ts_on': Timestamp('2023-12-22 08:00:12'),\n",
       "  'difference': Timedelta('0 days 00:00:27')},\n",
       " {'ts_off': Timestamp('2023-12-22 08:00:43'),\n",
       "  'next_ts_on': Timestamp('2023-12-22 09:25:11'),\n",
       "  'difference': Timedelta('0 days 01:24:28')},\n",
       " {'ts_off': Timestamp('2023-12-22 09:25:19'),\n",
       "  'next_ts_on': Timestamp('2023-12-22 11:32:54'),\n",
       "  'difference': Timedelta('0 days 02:07:35')},\n",
       " {'ts_off': Timestamp('2023-12-22 11:33:38'),\n",
       "  'next_ts_on': Timestamp('2023-12-22 12:37:18'),\n",
       "  'difference': Timedelta('0 days 01:03:40')},\n",
       " {'ts_off': Timestamp('2023-12-22 12:37:29'),\n",
       "  'next_ts_on': Timestamp('2023-12-22 13:32:28'),\n",
       "  'difference': Timedelta('0 days 00:54:59')},\n",
       " {'ts_off': Timestamp('2023-12-22 13:33:19'),\n",
       "  'next_ts_on': Timestamp('2023-12-22 14:00:12'),\n",
       "  'difference': Timedelta('0 days 00:26:53')},\n",
       " {'ts_off': Timestamp('2023-12-22 14:00:24'),\n",
       "  'next_ts_on': Timestamp('2023-12-22 15:05:36'),\n",
       "  'difference': Timedelta('0 days 01:05:12')},\n",
       " {'ts_off': Timestamp('2023-12-22 15:05:44'),\n",
       "  'next_ts_on': Timestamp('2023-12-22 15:06:34'),\n",
       "  'difference': Timedelta('0 days 00:00:50')},\n",
       " {'ts_off': Timestamp('2023-12-22 15:07:42'),\n",
       "  'next_ts_on': Timestamp('2023-12-22 15:43:51'),\n",
       "  'difference': Timedelta('0 days 00:36:09')},\n",
       " {'ts_off': Timestamp('2023-12-22 15:47:05'),\n",
       "  'next_ts_on': Timestamp('2023-12-22 16:37:20'),\n",
       "  'difference': Timedelta('0 days 00:50:15')},\n",
       " {'ts_off': Timestamp('2023-12-22 16:37:33'),\n",
       "  'next_ts_on': Timestamp('2023-12-22 19:25:33'),\n",
       "  'difference': Timedelta('0 days 02:48:00')},\n",
       " {'ts_off': Timestamp('2023-12-22 19:26:36'),\n",
       "  'next_ts_on': Timestamp('2023-12-22 22:17:55'),\n",
       "  'difference': Timedelta('0 days 02:51:19')},\n",
       " {'ts_off': Timestamp('2023-12-22 22:18:16'),\n",
       "  'next_ts_on': Timestamp('2023-12-22 22:28:28'),\n",
       "  'difference': Timedelta('0 days 00:10:12')},\n",
       " {'ts_off': Timestamp('2023-12-22 22:28:36'),\n",
       "  'next_ts_on': Timestamp('2023-12-23 07:25:51'),\n",
       "  'difference': Timedelta('0 days 08:57:15')},\n",
       " {'ts_off': Timestamp('2023-12-23 07:25:58'),\n",
       "  'next_ts_on': Timestamp('2023-12-23 07:27:05'),\n",
       "  'difference': Timedelta('0 days 00:01:07')},\n",
       " {'ts_off': Timestamp('2023-12-23 07:27:09'),\n",
       "  'next_ts_on': Timestamp('2023-12-23 07:42:36'),\n",
       "  'difference': Timedelta('0 days 00:15:27')},\n",
       " {'ts_off': Timestamp('2023-12-23 07:42:43'),\n",
       "  'next_ts_on': Timestamp('2023-12-23 08:14:03'),\n",
       "  'difference': Timedelta('0 days 00:31:20')},\n",
       " {'ts_off': Timestamp('2023-12-23 08:14:07'),\n",
       "  'next_ts_on': Timestamp('2023-12-23 08:14:16'),\n",
       "  'difference': Timedelta('0 days 00:00:09')},\n",
       " {'ts_off': Timestamp('2023-12-23 08:15:35'),\n",
       "  'next_ts_on': Timestamp('2023-12-23 08:51:09'),\n",
       "  'difference': Timedelta('0 days 00:35:34')},\n",
       " {'ts_off': Timestamp('2023-12-23 08:51:20'),\n",
       "  'next_ts_on': Timestamp('2023-12-23 08:58:31'),\n",
       "  'difference': Timedelta('0 days 00:07:11')},\n",
       " {'ts_off': Timestamp('2023-12-23 08:58:39'),\n",
       "  'next_ts_on': Timestamp('2023-12-23 09:07:17'),\n",
       "  'difference': Timedelta('0 days 00:08:38')},\n",
       " {'ts_off': Timestamp('2023-12-23 09:07:25'),\n",
       "  'next_ts_on': Timestamp('2023-12-23 10:02:39'),\n",
       "  'difference': Timedelta('0 days 00:55:14')},\n",
       " {'ts_off': Timestamp('2023-12-23 10:02:44'),\n",
       "  'next_ts_on': Timestamp('2023-12-23 10:04:28'),\n",
       "  'difference': Timedelta('0 days 00:01:44')},\n",
       " {'ts_off': Timestamp('2023-12-23 10:04:32'),\n",
       "  'next_ts_on': Timestamp('2023-12-23 10:14:06'),\n",
       "  'difference': Timedelta('0 days 00:09:34')},\n",
       " {'ts_off': Timestamp('2023-12-23 10:14:16'),\n",
       "  'next_ts_on': Timestamp('2023-12-23 10:54:52'),\n",
       "  'difference': Timedelta('0 days 00:40:36')},\n",
       " {'ts_off': Timestamp('2023-12-23 10:56:50'),\n",
       "  'next_ts_on': Timestamp('2023-12-23 14:01:36'),\n",
       "  'difference': Timedelta('0 days 03:04:46')},\n",
       " {'ts_off': Timestamp('2023-12-23 14:01:53'),\n",
       "  'next_ts_on': Timestamp('2023-12-23 14:41:07'),\n",
       "  'difference': Timedelta('0 days 00:39:14')},\n",
       " {'ts_off': Timestamp('2023-12-23 14:41:18'),\n",
       "  'next_ts_on': Timestamp('2023-12-23 15:43:55'),\n",
       "  'difference': Timedelta('0 days 01:02:37')},\n",
       " {'ts_off': Timestamp('2023-12-23 15:44:03'),\n",
       "  'next_ts_on': Timestamp('2023-12-23 17:18:05'),\n",
       "  'difference': Timedelta('0 days 01:34:02')},\n",
       " {'ts_off': Timestamp('2023-12-23 17:18:17'),\n",
       "  'next_ts_on': Timestamp('2023-12-23 20:01:13'),\n",
       "  'difference': Timedelta('0 days 02:42:56')},\n",
       " {'ts_off': Timestamp('2023-12-23 20:01:19'),\n",
       "  'next_ts_on': Timestamp('2023-12-23 22:27:44'),\n",
       "  'difference': Timedelta('0 days 02:26:25')},\n",
       " {'ts_off': Timestamp('2023-12-23 22:28:00'),\n",
       "  'next_ts_on': Timestamp('2023-12-23 22:38:06'),\n",
       "  'difference': Timedelta('0 days 00:10:06')},\n",
       " {'ts_off': Timestamp('2023-12-23 22:38:12'),\n",
       "  'next_ts_on': Timestamp('2023-12-24 08:18:55'),\n",
       "  'difference': Timedelta('0 days 09:40:43')},\n",
       " {'ts_off': Timestamp('2023-12-24 08:19:04'),\n",
       "  'next_ts_on': Timestamp('2023-12-24 10:21:56'),\n",
       "  'difference': Timedelta('0 days 02:02:52')},\n",
       " {'ts_off': Timestamp('2023-12-24 10:22:05'),\n",
       "  'next_ts_on': Timestamp('2023-12-24 16:34:19'),\n",
       "  'difference': Timedelta('0 days 06:12:14')},\n",
       " {'ts_off': Timestamp('2023-12-24 16:35:28'),\n",
       "  'next_ts_on': Timestamp('2023-12-24 17:28:40'),\n",
       "  'difference': Timedelta('0 days 00:53:12')},\n",
       " {'ts_off': Timestamp('2023-12-24 17:29:10'),\n",
       "  'next_ts_on': Timestamp('2023-12-24 17:49:15'),\n",
       "  'difference': Timedelta('0 days 00:20:05')},\n",
       " {'ts_off': Timestamp('2023-12-24 17:49:46'),\n",
       "  'next_ts_on': Timestamp('2023-12-24 17:51:24'),\n",
       "  'difference': Timedelta('0 days 00:01:38')},\n",
       " {'ts_off': Timestamp('2023-12-24 17:51:30'),\n",
       "  'next_ts_on': Timestamp('2023-12-24 19:02:41'),\n",
       "  'difference': Timedelta('0 days 01:11:11')},\n",
       " {'ts_off': Timestamp('2023-12-24 19:02:53'),\n",
       "  'next_ts_on': Timestamp('2023-12-24 19:04:52'),\n",
       "  'difference': Timedelta('0 days 00:01:59')},\n",
       " {'ts_off': Timestamp('2023-12-24 19:04:58'),\n",
       "  'next_ts_on': Timestamp('2023-12-24 19:05:10'),\n",
       "  'difference': Timedelta('0 days 00:00:12')},\n",
       " {'ts_off': Timestamp('2023-12-24 19:05:40'),\n",
       "  'next_ts_on': Timestamp('2023-12-24 19:52:53'),\n",
       "  'difference': Timedelta('0 days 00:47:13')},\n",
       " {'ts_off': Timestamp('2023-12-24 19:53:15'),\n",
       "  'next_ts_on': Timestamp('2023-12-24 23:21:14'),\n",
       "  'difference': Timedelta('0 days 03:27:59')},\n",
       " {'ts_off': Timestamp('2023-12-24 23:21:35'),\n",
       "  'next_ts_on': Timestamp('2023-12-24 23:26:19'),\n",
       "  'difference': Timedelta('0 days 00:04:44')},\n",
       " {'ts_off': Timestamp('2023-12-24 23:26:29'),\n",
       "  'next_ts_on': Timestamp('2023-12-24 23:33:03'),\n",
       "  'difference': Timedelta('0 days 00:06:34')},\n",
       " {'ts_off': Timestamp('2023-12-24 23:33:09'),\n",
       "  'next_ts_on': Timestamp('2023-12-25 08:10:25'),\n",
       "  'difference': Timedelta('0 days 08:37:16')},\n",
       " {'ts_off': Timestamp('2023-12-25 08:10:40'),\n",
       "  'next_ts_on': Timestamp('2023-12-25 09:22:54'),\n",
       "  'difference': Timedelta('0 days 01:12:14')},\n",
       " {'ts_off': Timestamp('2023-12-25 09:23:03'),\n",
       "  'next_ts_on': Timestamp('2023-12-25 12:05:06'),\n",
       "  'difference': Timedelta('0 days 02:42:03')},\n",
       " {'ts_off': Timestamp('2023-12-25 12:05:18'),\n",
       "  'next_ts_on': Timestamp('2023-12-25 19:08:05'),\n",
       "  'difference': Timedelta('0 days 07:02:47')},\n",
       " {'ts_off': Timestamp('2023-12-25 19:08:17'),\n",
       "  'next_ts_on': Timestamp('2023-12-26 07:24:08'),\n",
       "  'difference': Timedelta('0 days 12:15:51')},\n",
       " {'ts_off': Timestamp('2023-12-26 07:24:18'),\n",
       "  'next_ts_on': Timestamp('2023-12-26 07:25:33'),\n",
       "  'difference': Timedelta('0 days 00:01:15')},\n",
       " {'ts_off': Timestamp('2023-12-26 07:25:43'),\n",
       "  'next_ts_on': Timestamp('2023-12-26 07:44:42'),\n",
       "  'difference': Timedelta('0 days 00:18:59')},\n",
       " {'ts_off': Timestamp('2023-12-26 07:44:50'),\n",
       "  'next_ts_on': Timestamp('2023-12-26 09:17:27'),\n",
       "  'difference': Timedelta('0 days 01:32:37')},\n",
       " {'ts_off': Timestamp('2023-12-26 09:18:12'),\n",
       "  'next_ts_on': Timestamp('2023-12-26 09:41:05'),\n",
       "  'difference': Timedelta('0 days 00:22:53')},\n",
       " {'ts_off': Timestamp('2023-12-26 09:41:16'),\n",
       "  'next_ts_on': Timestamp('2023-12-26 10:01:34'),\n",
       "  'difference': Timedelta('0 days 00:20:18')},\n",
       " {'ts_off': Timestamp('2023-12-26 10:01:39'),\n",
       "  'next_ts_on': Timestamp('2023-12-26 10:03:31'),\n",
       "  'difference': Timedelta('0 days 00:01:52')},\n",
       " {'ts_off': Timestamp('2023-12-26 10:03:38'),\n",
       "  'next_ts_on': Timestamp('2023-12-26 10:14:06'),\n",
       "  'difference': Timedelta('0 days 00:10:28')},\n",
       " {'ts_off': Timestamp('2023-12-26 10:14:11'),\n",
       "  'next_ts_on': Timestamp('2023-12-26 10:23:02'),\n",
       "  'difference': Timedelta('0 days 00:08:51')},\n",
       " {'ts_off': Timestamp('2023-12-26 10:23:13'),\n",
       "  'next_ts_on': Timestamp('2023-12-26 11:18:58'),\n",
       "  'difference': Timedelta('0 days 00:55:45')},\n",
       " {'ts_off': Timestamp('2023-12-26 11:19:08'),\n",
       "  'next_ts_on': Timestamp('2023-12-26 11:21:40'),\n",
       "  'difference': Timedelta('0 days 00:02:32')},\n",
       " {'ts_off': Timestamp('2023-12-26 11:21:50'),\n",
       "  'next_ts_on': Timestamp('2023-12-26 13:54:14'),\n",
       "  'difference': Timedelta('0 days 02:32:24')},\n",
       " {'ts_off': Timestamp('2023-12-26 13:54:26'),\n",
       "  'next_ts_on': Timestamp('2023-12-26 14:06:54'),\n",
       "  'difference': Timedelta('0 days 00:12:28')},\n",
       " {'ts_off': Timestamp('2023-12-26 14:07:00'),\n",
       "  'next_ts_on': Timestamp('2023-12-26 15:24:48'),\n",
       "  'difference': Timedelta('0 days 01:17:48')},\n",
       " {'ts_off': Timestamp('2023-12-26 15:25:04'),\n",
       "  'next_ts_on': Timestamp('2023-12-26 15:40:13'),\n",
       "  'difference': Timedelta('0 days 00:15:09')},\n",
       " {'ts_off': Timestamp('2023-12-26 15:40:20'),\n",
       "  'next_ts_on': Timestamp('2023-12-26 15:41:36'),\n",
       "  'difference': Timedelta('0 days 00:01:16')},\n",
       " {'ts_off': Timestamp('2023-12-26 15:42:06'),\n",
       "  'next_ts_on': Timestamp('2023-12-26 16:49:33'),\n",
       "  'difference': Timedelta('0 days 01:07:27')},\n",
       " {'ts_off': Timestamp('2023-12-26 16:49:42'),\n",
       "  'next_ts_on': Timestamp('2023-12-26 22:24:26'),\n",
       "  'difference': Timedelta('0 days 05:34:44')},\n",
       " {'ts_off': Timestamp('2023-12-26 22:24:34'),\n",
       "  'next_ts_on': Timestamp('2023-12-26 22:37:51'),\n",
       "  'difference': Timedelta('0 days 00:13:17')},\n",
       " {'ts_off': Timestamp('2023-12-26 22:38:10'),\n",
       "  'next_ts_on': Timestamp('2023-12-27 07:56:51'),\n",
       "  'difference': Timedelta('0 days 09:18:41')},\n",
       " {'ts_off': Timestamp('2023-12-27 07:57:09'),\n",
       "  'next_ts_on': Timestamp('2023-12-27 07:57:16'),\n",
       "  'difference': Timedelta('0 days 00:00:07')},\n",
       " {'ts_off': Timestamp('2023-12-27 07:57:48'),\n",
       "  'next_ts_on': Timestamp('2023-12-27 07:57:53'),\n",
       "  'difference': Timedelta('0 days 00:00:05')},\n",
       " {'ts_off': Timestamp('2023-12-27 07:58:13'),\n",
       "  'next_ts_on': Timestamp('2023-12-27 11:36:41'),\n",
       "  'difference': Timedelta('0 days 03:38:28')},\n",
       " {'ts_off': Timestamp('2023-12-27 11:37:12'),\n",
       "  'next_ts_on': Timestamp('2023-12-27 16:04:39'),\n",
       "  'difference': Timedelta('0 days 04:27:27')},\n",
       " {'ts_off': Timestamp('2023-12-27 16:04:49'),\n",
       "  'next_ts_on': Timestamp('2023-12-27 17:06:25'),\n",
       "  'difference': Timedelta('0 days 01:01:36')},\n",
       " {'ts_off': Timestamp('2023-12-27 17:07:02'),\n",
       "  'next_ts_on': Timestamp('2023-12-27 17:29:32'),\n",
       "  'difference': Timedelta('0 days 00:22:30')},\n",
       " {'ts_off': Timestamp('2023-12-27 17:29:41'),\n",
       "  'next_ts_on': Timestamp('2023-12-27 19:48:21'),\n",
       "  'difference': Timedelta('0 days 02:18:40')},\n",
       " {'ts_off': Timestamp('2023-12-27 19:48:28'),\n",
       "  'next_ts_on': Timestamp('2023-12-27 19:48:55'),\n",
       "  'difference': Timedelta('0 days 00:00:27')},\n",
       " {'ts_off': Timestamp('2023-12-27 19:49:03'),\n",
       "  'next_ts_on': Timestamp('2023-12-27 19:57:33'),\n",
       "  'difference': Timedelta('0 days 00:08:30')},\n",
       " {'ts_off': Timestamp('2023-12-27 19:58:27'),\n",
       "  'next_ts_on': Timestamp('2023-12-28 08:21:27'),\n",
       "  'difference': Timedelta('0 days 12:23:00')},\n",
       " {'ts_off': Timestamp('2023-12-28 08:21:34'),\n",
       "  'next_ts_on': Timestamp('2023-12-28 09:52:56'),\n",
       "  'difference': Timedelta('0 days 01:31:22')},\n",
       " {'ts_off': Timestamp('2023-12-28 09:54:07'),\n",
       "  'next_ts_on': Timestamp('2023-12-28 10:41:28'),\n",
       "  'difference': Timedelta('0 days 00:47:21')},\n",
       " {'ts_off': Timestamp('2023-12-28 10:41:47'),\n",
       "  'next_ts_on': Timestamp('2023-12-28 11:22:09'),\n",
       "  'difference': Timedelta('0 days 00:40:22')},\n",
       " {'ts_off': Timestamp('2023-12-28 11:22:20'),\n",
       "  'next_ts_on': Timestamp('2023-12-28 15:25:13'),\n",
       "  'difference': Timedelta('0 days 04:02:53')},\n",
       " {'ts_off': Timestamp('2023-12-28 15:25:26'),\n",
       "  'next_ts_on': Timestamp('2023-12-28 16:05:26'),\n",
       "  'difference': Timedelta('0 days 00:40:00')},\n",
       " {'ts_off': Timestamp('2023-12-28 16:06:17'),\n",
       "  'next_ts_on': Timestamp('2023-12-28 17:08:32'),\n",
       "  'difference': Timedelta('0 days 01:02:15')},\n",
       " {'ts_off': Timestamp('2023-12-28 17:08:39'),\n",
       "  'next_ts_on': Timestamp('2023-12-28 19:57:00'),\n",
       "  'difference': Timedelta('0 days 02:48:21')},\n",
       " {'ts_off': Timestamp('2023-12-28 19:57:07'),\n",
       "  'next_ts_on': Timestamp('2023-12-28 22:49:49'),\n",
       "  'difference': Timedelta('0 days 02:52:42')},\n",
       " {'ts_off': Timestamp('2023-12-28 22:50:03'),\n",
       "  'next_ts_on': Timestamp('2023-12-28 22:59:56'),\n",
       "  'difference': Timedelta('0 days 00:09:53')},\n",
       " {'ts_off': Timestamp('2023-12-28 23:00:04'),\n",
       "  'next_ts_on': Timestamp('2023-12-29 07:31:11'),\n",
       "  'difference': Timedelta('0 days 08:31:07')},\n",
       " {'ts_off': Timestamp('2023-12-29 07:31:21'),\n",
       "  'next_ts_on': Timestamp('2023-12-29 09:27:05'),\n",
       "  'difference': Timedelta('0 days 01:55:44')},\n",
       " {'ts_off': Timestamp('2023-12-29 09:27:18'),\n",
       "  'next_ts_on': Timestamp('2023-12-29 11:18:18'),\n",
       "  'difference': Timedelta('0 days 01:51:00')},\n",
       " {'ts_off': Timestamp('2023-12-29 11:18:35'),\n",
       "  'next_ts_on': Timestamp('2023-12-29 12:02:13'),\n",
       "  'difference': Timedelta('0 days 00:43:38')},\n",
       " {'ts_off': Timestamp('2023-12-29 12:02:28'),\n",
       "  'next_ts_on': Timestamp('2023-12-29 14:06:48'),\n",
       "  'difference': Timedelta('0 days 02:04:20')},\n",
       " {'ts_off': Timestamp('2023-12-29 14:07:49'),\n",
       "  'next_ts_on': Timestamp('2023-12-29 14:13:38'),\n",
       "  'difference': Timedelta('0 days 00:05:49')},\n",
       " {'ts_off': Timestamp('2023-12-29 14:13:55'),\n",
       "  'next_ts_on': Timestamp('2023-12-29 15:37:44'),\n",
       "  'difference': Timedelta('0 days 01:23:49')},\n",
       " {'ts_off': Timestamp('2023-12-29 15:37:56'),\n",
       "  'next_ts_on': Timestamp('2023-12-29 15:38:22'),\n",
       "  'difference': Timedelta('0 days 00:00:26')},\n",
       " {'ts_off': Timestamp('2023-12-29 15:39:03'),\n",
       "  'next_ts_on': Timestamp('2023-12-29 16:44:20'),\n",
       "  'difference': Timedelta('0 days 01:05:17')},\n",
       " {'ts_off': Timestamp('2023-12-29 16:44:26'),\n",
       "  'next_ts_on': Timestamp('2023-12-29 16:54:07'),\n",
       "  'difference': Timedelta('0 days 00:09:41')},\n",
       " {'ts_off': Timestamp('2023-12-29 16:54:19'),\n",
       "  'next_ts_on': Timestamp('2023-12-30 07:20:23'),\n",
       "  'difference': Timedelta('0 days 14:26:04')},\n",
       " {'ts_off': Timestamp('2023-12-30 07:20:30'),\n",
       "  'next_ts_on': Timestamp('2023-12-30 07:21:29'),\n",
       "  'difference': Timedelta('0 days 00:00:59')},\n",
       " {'ts_off': Timestamp('2023-12-30 07:21:34'),\n",
       "  'next_ts_on': Timestamp('2023-12-30 07:37:51'),\n",
       "  'difference': Timedelta('0 days 00:16:17')},\n",
       " {'ts_off': Timestamp('2023-12-30 07:37:57'),\n",
       "  'next_ts_on': Timestamp('2023-12-30 09:07:08'),\n",
       "  'difference': Timedelta('0 days 01:29:11')},\n",
       " {'ts_off': Timestamp('2023-12-30 09:07:19'),\n",
       "  'next_ts_on': Timestamp('2023-12-30 09:07:31'),\n",
       "  'difference': Timedelta('0 days 00:00:12')},\n",
       " {'ts_off': Timestamp('2023-12-30 09:07:54'),\n",
       "  'next_ts_on': Timestamp('2023-12-30 09:09:51'),\n",
       "  'difference': Timedelta('0 days 00:01:57')},\n",
       " {'ts_off': Timestamp('2023-12-30 09:10:13'),\n",
       "  'next_ts_on': Timestamp('2023-12-30 09:25:34'),\n",
       "  'difference': Timedelta('0 days 00:15:21')},\n",
       " {'ts_off': Timestamp('2023-12-30 09:25:53'),\n",
       "  'next_ts_on': Timestamp('2023-12-30 09:35:18'),\n",
       "  'difference': Timedelta('0 days 00:09:25')},\n",
       " {'ts_off': Timestamp('2023-12-30 09:35:28'),\n",
       "  'next_ts_on': Timestamp('2023-12-30 09:46:01'),\n",
       "  'difference': Timedelta('0 days 00:10:33')},\n",
       " {'ts_off': Timestamp('2023-12-30 09:46:09'),\n",
       "  'next_ts_on': Timestamp('2023-12-30 10:17:46'),\n",
       "  'difference': Timedelta('0 days 00:31:37')},\n",
       " {'ts_off': Timestamp('2023-12-30 10:17:50'),\n",
       "  'next_ts_on': Timestamp('2023-12-30 10:19:26'),\n",
       "  'difference': Timedelta('0 days 00:01:36')},\n",
       " {'ts_off': Timestamp('2023-12-30 10:19:32'),\n",
       "  'next_ts_on': Timestamp('2023-12-30 10:26:21'),\n",
       "  'difference': Timedelta('0 days 00:06:49')},\n",
       " {'ts_off': Timestamp('2023-12-30 10:26:25'),\n",
       "  'next_ts_on': Timestamp('2023-12-30 11:17:42'),\n",
       "  'difference': Timedelta('0 days 00:51:17')},\n",
       " {'ts_off': Timestamp('2023-12-30 11:18:00'),\n",
       "  'next_ts_on': Timestamp('2023-12-30 11:19:51'),\n",
       "  'difference': Timedelta('0 days 00:01:51')},\n",
       " {'ts_off': Timestamp('2023-12-30 11:19:58'),\n",
       "  'next_ts_on': Timestamp('2023-12-30 11:24:23'),\n",
       "  'difference': Timedelta('0 days 00:04:25')},\n",
       " {'ts_off': Timestamp('2023-12-30 11:24:30'),\n",
       "  'next_ts_on': Timestamp('2023-12-30 12:03:22'),\n",
       "  'difference': Timedelta('0 days 00:38:52')},\n",
       " {'ts_off': Timestamp('2023-12-30 12:03:42'),\n",
       "  'next_ts_on': Timestamp('2023-12-30 12:11:50'),\n",
       "  'difference': Timedelta('0 days 00:08:08')},\n",
       " {'ts_off': Timestamp('2023-12-30 12:13:48'),\n",
       "  'next_ts_on': Timestamp('2023-12-30 16:41:26'),\n",
       "  'difference': Timedelta('0 days 04:27:38')},\n",
       " {'ts_off': Timestamp('2023-12-30 16:41:39'),\n",
       "  'next_ts_on': Timestamp('2023-12-30 16:41:45'),\n",
       "  'difference': Timedelta('0 days 00:00:06')},\n",
       " {'ts_off': Timestamp('2023-12-30 16:41:58'),\n",
       "  'next_ts_on': Timestamp('2023-12-30 17:22:27'),\n",
       "  'difference': Timedelta('0 days 00:40:29')},\n",
       " {'ts_off': Timestamp('2023-12-30 17:22:36'),\n",
       "  'next_ts_on': Timestamp('2023-12-30 21:59:57'),\n",
       "  'difference': Timedelta('0 days 04:37:21')},\n",
       " {'ts_off': Timestamp('2023-12-30 22:00:27'),\n",
       "  'next_ts_on': Timestamp('2023-12-30 22:10:12'),\n",
       "  'difference': Timedelta('0 days 00:09:45')},\n",
       " {'ts_off': Timestamp('2023-12-30 22:10:20'),\n",
       "  'next_ts_on': Timestamp('2023-12-31 07:56:52'),\n",
       "  'difference': Timedelta('0 days 09:46:32')},\n",
       " {'ts_off': Timestamp('2023-12-31 07:57:01'),\n",
       "  'next_ts_on': Timestamp('2023-12-31 07:57:34'),\n",
       "  'difference': Timedelta('0 days 00:00:33')},\n",
       " {'ts_off': Timestamp('2023-12-31 07:58:25'),\n",
       "  'next_ts_on': Timestamp('2023-12-31 09:45:46'),\n",
       "  'difference': Timedelta('0 days 01:47:21')},\n",
       " {'ts_off': Timestamp('2023-12-31 09:45:54'),\n",
       "  'next_ts_on': Timestamp('2023-12-31 09:45:55'),\n",
       "  'difference': Timedelta('0 days 00:00:01')},\n",
       " {'ts_off': Timestamp('2023-12-31 09:47:16'),\n",
       "  'next_ts_on': Timestamp('2023-12-31 15:17:17'),\n",
       "  'difference': Timedelta('0 days 05:30:01')},\n",
       " {'ts_off': Timestamp('2023-12-31 15:17:26'),\n",
       "  'next_ts_on': Timestamp('2023-12-31 16:19:25'),\n",
       "  'difference': Timedelta('0 days 01:01:59')},\n",
       " {'ts_off': Timestamp('2023-12-31 16:23:46'),\n",
       "  'next_ts_on': Timestamp('2023-12-31 18:28:34'),\n",
       "  'difference': Timedelta('0 days 02:04:48')},\n",
       " {'ts_off': Timestamp('2023-12-31 18:29:15'),\n",
       "  'next_ts_on': Timestamp('2024-01-01 00:40:33'),\n",
       "  'difference': Timedelta('0 days 06:11:18')},\n",
       " {'ts_off': Timestamp('2024-01-01 00:40:43'),\n",
       "  'next_ts_on': Timestamp('2024-01-01 08:23:38'),\n",
       "  'difference': Timedelta('0 days 07:42:55')},\n",
       " {'ts_off': Timestamp('2024-01-01 08:23:45'),\n",
       "  'next_ts_on': Timestamp('2024-01-01 11:10:35'),\n",
       "  'difference': Timedelta('0 days 02:46:50')},\n",
       " {'ts_off': Timestamp('2024-01-01 11:10:41'),\n",
       "  'next_ts_on': Timestamp('2024-01-01 15:50:37'),\n",
       "  'difference': Timedelta('0 days 04:39:56')},\n",
       " {'ts_off': Timestamp('2024-01-01 15:50:52'),\n",
       "  'next_ts_on': Timestamp('2024-01-01 16:42:07'),\n",
       "  'difference': Timedelta('0 days 00:51:15')},\n",
       " {'ts_off': Timestamp('2024-01-01 16:42:15'),\n",
       "  'next_ts_on': Timestamp('2024-01-02 08:12:56'),\n",
       "  'difference': Timedelta('0 days 15:30:41')},\n",
       " {'ts_off': Timestamp('2024-01-02 08:13:05'),\n",
       "  'next_ts_on': Timestamp('2024-01-02 09:43:45'),\n",
       "  'difference': Timedelta('0 days 01:30:40')},\n",
       " {'ts_off': Timestamp('2024-01-02 09:44:11'),\n",
       "  'next_ts_on': Timestamp('2024-01-02 10:32:32'),\n",
       "  'difference': Timedelta('0 days 00:48:21')},\n",
       " {'ts_off': Timestamp('2024-01-02 10:32:45'),\n",
       "  'next_ts_on': Timestamp('2024-01-02 13:45:06'),\n",
       "  'difference': Timedelta('0 days 03:12:21')},\n",
       " {'ts_off': Timestamp('2024-01-02 13:45:12'),\n",
       "  'next_ts_on': Timestamp('2024-01-02 13:59:43'),\n",
       "  'difference': Timedelta('0 days 00:14:31')},\n",
       " {'ts_off': Timestamp('2024-01-02 14:01:08'),\n",
       "  'next_ts_on': Timestamp('2024-01-02 14:10:31'),\n",
       "  'difference': Timedelta('0 days 00:09:23')},\n",
       " {'ts_off': Timestamp('2024-01-02 14:10:42'),\n",
       "  'next_ts_on': Timestamp('2024-01-02 15:28:33'),\n",
       "  'difference': Timedelta('0 days 01:17:51')},\n",
       " {'ts_off': Timestamp('2024-01-02 15:28:42'),\n",
       "  'next_ts_on': Timestamp('2024-01-02 16:07:54'),\n",
       "  'difference': Timedelta('0 days 00:39:12')},\n",
       " {'ts_off': Timestamp('2024-01-02 16:13:09'),\n",
       "  'next_ts_on': Timestamp('2024-01-02 16:29:11'),\n",
       "  'difference': Timedelta('0 days 00:16:02')},\n",
       " {'ts_off': Timestamp('2024-01-02 16:29:30'),\n",
       "  'next_ts_on': Timestamp('2024-01-03 08:05:30'),\n",
       "  'difference': Timedelta('0 days 15:36:00')},\n",
       " {'ts_off': Timestamp('2024-01-03 08:05:40'),\n",
       "  'next_ts_on': Timestamp('2024-01-03 10:39:35'),\n",
       "  'difference': Timedelta('0 days 02:33:55')},\n",
       " {'ts_off': Timestamp('2024-01-03 10:39:44'),\n",
       "  'next_ts_on': Timestamp('2024-01-03 16:19:41'),\n",
       "  'difference': Timedelta('0 days 05:39:57')},\n",
       " {'ts_off': Timestamp('2024-01-03 16:19:53'),\n",
       "  'next_ts_on': Timestamp('2024-01-03 17:29:13'),\n",
       "  'difference': Timedelta('0 days 01:09:20')},\n",
       " {'ts_off': Timestamp('2024-01-03 17:29:26'),\n",
       "  'next_ts_on': Timestamp('2024-01-04 08:23:32'),\n",
       "  'difference': Timedelta('0 days 14:54:06')},\n",
       " {'ts_off': Timestamp('2024-01-04 08:24:07'),\n",
       "  'next_ts_on': Timestamp('2024-01-04 09:50:14'),\n",
       "  'difference': Timedelta('0 days 01:26:07')},\n",
       " {'ts_off': Timestamp('2024-01-04 09:50:58'),\n",
       "  'next_ts_on': Timestamp('2024-01-04 10:22:22'),\n",
       "  'difference': Timedelta('0 days 00:31:24')},\n",
       " {'ts_off': Timestamp('2024-01-04 10:22:30'),\n",
       "  'next_ts_on': Timestamp('2024-01-04 13:12:10'),\n",
       "  'difference': Timedelta('0 days 02:49:40')},\n",
       " {'ts_off': Timestamp('2024-01-04 13:12:20'),\n",
       "  'next_ts_on': Timestamp('2024-01-04 16:22:03'),\n",
       "  'difference': Timedelta('0 days 03:09:43')},\n",
       " {'ts_off': Timestamp('2024-01-04 16:22:55'),\n",
       "  'next_ts_on': Timestamp('2024-01-04 17:15:01'),\n",
       "  'difference': Timedelta('0 days 00:52:06')},\n",
       " {'ts_off': Timestamp('2024-01-04 17:15:18'),\n",
       "  'next_ts_on': Timestamp('2024-01-05 08:08:06'),\n",
       "  'difference': Timedelta('0 days 14:52:48')},\n",
       " {'ts_off': Timestamp('2024-01-05 08:08:15'),\n",
       "  'next_ts_on': Timestamp('2024-01-05 08:36:02'),\n",
       "  'difference': Timedelta('0 days 00:27:47')},\n",
       " {'ts_off': Timestamp('2024-01-05 08:40:00'),\n",
       "  'next_ts_on': Timestamp('2024-01-05 16:50:56'),\n",
       "  'difference': Timedelta('0 days 08:10:56')},\n",
       " {'ts_off': Timestamp('2024-01-05 17:01:38'),\n",
       "  'next_ts_on': Timestamp('2024-01-05 17:09:34'),\n",
       "  'difference': Timedelta('0 days 00:07:56')},\n",
       " {'ts_off': Timestamp('2024-01-05 17:11:25'),\n",
       "  'next_ts_on': Timestamp('2024-01-05 20:49:51'),\n",
       "  'difference': Timedelta('0 days 03:38:26')},\n",
       " {'ts_off': Timestamp('2024-01-05 20:56:55'),\n",
       "  'next_ts_on': Timestamp('2024-01-05 21:10:23'),\n",
       "  'difference': Timedelta('0 days 00:13:28')},\n",
       " {'ts_off': Timestamp('2024-01-05 21:12:36'),\n",
       "  'next_ts_on': Timestamp('2024-01-06 07:31:36'),\n",
       "  'difference': Timedelta('0 days 10:19:00')},\n",
       " ...]"
      ]
     },
     "execution_count": 5,
     "metadata": {},
     "output_type": "execute_result"
    }
   ],
   "source": [
    "results"
   ]
  },
  {
   "cell_type": "code",
   "execution_count": null,
   "metadata": {},
   "outputs": [],
   "source": [
    "## DO NOT RUN, IT TAKES A LONG TIME\n",
    "## The following code check given a time window, if any of the sensors was activated in the house, If yes, the subject was present in the house, else, the subject went outside\n",
    "for i in range(len(results)):\n",
    "    query_window = results[i]\n",
    "    ws, we = query_window['ts_off'], query_window['next_ts_on']\n",
    "    print(ws,we)\n",
    "    all_empty = True\n",
    "    for j in range(len(cleaned_data)):\n",
    "        df_in_question = cleaned_data[j]['filtered_df']\n",
    "        if cleaned_data[j]['sensor'] == 'HouseEntrance.csv':\n",
    "            continue\n",
    "        a_s = filter_sensors_by_window(df_in_question, ws, we)\n",
    "        if not a_s.empty:\n",
    "            all_empty = False\n",
    "\n",
    "    if all_empty:\n",
    "        print(f\"All a_s are empty for i = {i}, ws = {ws}, we = {we}\")"
   ]
  },
  {
   "cell_type": "markdown",
   "metadata": {},
   "source": [
    "# Extract data for specific date"
   ]
  },
  {
   "cell_type": "code",
   "execution_count": 6,
   "metadata": {},
   "outputs": [
    {
     "name": "stdout",
     "output_type": "stream",
     "text": [
      "--------- 0 ---------- CoffeMachine.csv\n",
      "--------- 1 ---------- Dishes_Glasses.csv\n",
      "--------- 2 ---------- FoodStorageKitchen.csv\n",
      "--------- 3 ---------- FoodStorageLivingRoom.csv\n",
      "--------- 4 ---------- Freezer.csv\n",
      "--------- 5 ---------- HouseEntrance.csv\n",
      "--------- 6 ---------- Medicines.csv\n",
      "--------- 7 ---------- Microwave.csv\n",
      "--------- 8 ---------- MotionBedroom.csv\n",
      "--------- 9 ---------- MotionKitchen.csv\n",
      "--------- 10 ---------- MotionLivingRoomSofa.csv\n",
      "--------- 11 ---------- MotionLivingRoomTablet.csv\n",
      "--------- 12 ---------- MotionPrimaryBathroom.csv\n",
      "--------- 13 ---------- MotionSecondaryBathroom.csv\n",
      "--------- 14 ---------- PlugTvHall.csv\n",
      "--------- 15 ---------- Printer.csv\n",
      "--------- 16 ---------- Refrigerator.csv\n",
      "--------- 17 ---------- Shower_Hum_Temp_humidity.csv\n",
      "--------- 18 ---------- Shower_Hum_Temp_temp.csv\n",
      "--------- 19 ---------- Stove_Hum_Temp_humidity.csv\n",
      "--------- 20 ---------- Stove_Hum_Temp_temp.csv\n"
     ]
    }
   ],
   "source": [
    "specific_date = '2023-09-30'\n",
    "date_specific_data = []\n",
    "for i in range(len(cleaned_data)):\n",
    "    sensor_name = cleaned_data[i]['sensor']\n",
    "    print('---------',i,'----------', sensor_name)\n",
    "    sensor_data = cleaned_data[i]['filtered_df']\n",
    "    filtered_data = filter_data_for_date(sensor_data, specific_date)\n",
    "    date_specific_data.append({'sensor':sensor_name, 'data': filtered_data})\n",
    "    \n",
    "plot_data = prepare_plot_data(date_specific_data)"
   ]
  },
  {
   "cell_type": "markdown",
   "metadata": {},
   "source": [
    "# Define color for each sensor"
   ]
  },
  {
   "cell_type": "code",
   "execution_count": 7,
   "metadata": {},
   "outputs": [],
   "source": [
    "# Define the color map\n",
    "color_map = {\n",
    "    'Shower_Hum_Temp_humidity.csv': 'red',\n",
    "    'Medicines.csv': 'blue',\n",
    "    'MotionSecondaryBathroom.csv': 'green',\n",
    "    'Refrigerator.csv': 'orange',\n",
    "    'MotionBedroom.csv': 'purple',\n",
    "    'Dishes_Glasses.csv': 'brown',\n",
    "    'HouseEntrance.csv': 'pink',\n",
    "    'Microwave.csv': 'gray',\n",
    "    'CoffeMachine_events.csv': 'olive',\n",
    "    'Stove_Hum_Temp_humidity.csv': 'cyan',\n",
    "    'PlugTvHall.csv': 'magenta',\n",
    "    'MotionPrimaryBathroom.csv': 'lime',\n",
    "    'printer_events.csv': 'navy',\n",
    "    'Printer.csv': 'teal',\n",
    "    'MotionKitchen.csv': 'maroon',\n",
    "    'MotionLivingRoomTablet.csv': 'darkgoldenrod',\n",
    "    'Freezer.csv': 'black',\n",
    "    'Stove_Hum_Temp_temp.csv': 'silver',\n",
    "    'FoodStorageKitchen.csv': 'goldenrod',\n",
    "    'Shower_Hum_Temp_temp.csv': 'coral',\n",
    "    'FoodStorageLivingRoom.csv': 'aqua',\n",
    "    'Microwave_events.csv': 'plum',\n",
    "    'PlugTvHall_events.csv': 'orchid',\n",
    "    'CoffeMachine.csv': 'tan',\n",
    "    'MotionLivingRoomSofa.csv': 'khaki'\n",
    "}"
   ]
  },
  {
   "cell_type": "markdown",
   "metadata": {},
   "source": [
    "# Plot the graph for a specific date"
   ]
  },
  {
   "cell_type": "code",
   "execution_count": 8,
   "metadata": {},
   "outputs": [
    {
     "data": {
      "application/vnd.plotly.v1+json": {
       "config": {
        "plotlyServerURL": "https://plot.ly"
       },
       "data": [
        {
         "line": {
          "color": "purple",
          "width": 1
         },
         "marker": {
          "color": "purple",
          "size": 8
         },
         "mode": "markers+lines",
         "name": "MotionBedroom.csv",
         "showlegend": false,
         "type": "scatter",
         "x": [
          "2023-09-30T00:00:49.893000",
          "2023-09-30T00:02:01.914000"
         ],
         "y": [
          "MotionBedroom.csv",
          "MotionBedroom.csv"
         ]
        },
        {
         "line": {
          "color": "magenta",
          "width": 1
         },
         "marker": {
          "color": "magenta",
          "size": 8
         },
         "mode": "markers+lines",
         "name": "PlugTvHall.csv",
         "showlegend": false,
         "type": "scatter",
         "x": [
          "2023-09-30T00:11:46.347000",
          "2023-09-30T00:30:16.395000"
         ],
         "y": [
          "PlugTvHall.csv",
          "PlugTvHall.csv"
         ]
        },
        {
         "line": {
          "color": "khaki",
          "width": 1
         },
         "marker": {
          "color": "khaki",
          "size": 8
         },
         "mode": "markers+lines",
         "name": "MotionLivingRoomSofa.csv",
         "showlegend": false,
         "type": "scatter",
         "x": [
          "2023-09-30T00:32:58.182000",
          "2023-09-30T00:33:58.175000"
         ],
         "y": [
          "MotionLivingRoomSofa.csv",
          "MotionLivingRoomSofa.csv"
         ]
        },
        {
         "line": {
          "color": "purple",
          "width": 1
         },
         "marker": {
          "color": "purple",
          "size": 8
         },
         "mode": "markers+lines",
         "name": "MotionBedroom.csv",
         "showlegend": false,
         "type": "scatter",
         "x": [
          "2023-09-30T00:33:22.244000",
          "2023-09-30T00:35:38.998000"
         ],
         "y": [
          "MotionBedroom.csv",
          "MotionBedroom.csv"
         ]
        },
        {
         "line": {
          "color": "magenta",
          "width": 1
         },
         "marker": {
          "color": "magenta",
          "size": 8
         },
         "mode": "markers+lines",
         "name": "PlugTvHall.csv",
         "showlegend": false,
         "type": "scatter",
         "x": [
          "2023-09-30T00:50:48.349000",
          "2023-09-30T00:51:18.357000"
         ],
         "y": [
          "PlugTvHall.csv",
          "PlugTvHall.csv"
         ]
        },
        {
         "line": {
          "color": "purple",
          "width": 1
         },
         "marker": {
          "color": "purple",
          "size": 8
         },
         "mode": "markers+lines",
         "name": "MotionBedroom.csv",
         "showlegend": false,
         "type": "scatter",
         "x": [
          "2023-09-30T00:57:46.503000",
          "2023-09-30T00:58:56.861000"
         ],
         "y": [
          "MotionBedroom.csv",
          "MotionBedroom.csv"
         ]
        },
        {
         "line": {
          "color": "magenta",
          "width": 1
         },
         "marker": {
          "color": "magenta",
          "size": 8
         },
         "mode": "markers+lines",
         "name": "PlugTvHall.csv",
         "showlegend": false,
         "type": "scatter",
         "x": [
          "2023-09-30T01:03:51.344000",
          "2023-09-30T01:22:21.304000"
         ],
         "y": [
          "PlugTvHall.csv",
          "PlugTvHall.csv"
         ]
        },
        {
         "line": {
          "color": "purple",
          "width": 1
         },
         "marker": {
          "color": "purple",
          "size": 8
         },
         "mode": "markers+lines",
         "name": "MotionBedroom.csv",
         "showlegend": false,
         "type": "scatter",
         "x": [
          "2023-09-30T01:24:35.514000",
          "2023-09-30T01:25:37.951000"
         ],
         "y": [
          "MotionBedroom.csv",
          "MotionBedroom.csv"
         ]
        },
        {
         "line": {
          "color": "magenta",
          "width": 1
         },
         "marker": {
          "color": "magenta",
          "size": 8
         },
         "mode": "markers+lines",
         "name": "PlugTvHall.csv",
         "showlegend": false,
         "type": "scatter",
         "x": [
          "2023-09-30T01:34:51.344000",
          "2023-09-30T01:39:21.359000"
         ],
         "y": [
          "PlugTvHall.csv",
          "PlugTvHall.csv"
         ]
        },
        {
         "line": {
          "color": "purple",
          "width": 1
         },
         "marker": {
          "color": "purple",
          "size": 8
         },
         "mode": "markers+lines",
         "name": "MotionBedroom.csv",
         "showlegend": false,
         "type": "scatter",
         "x": [
          "2023-09-30T01:40:09.005000",
          "2023-09-30T01:41:36.465000"
         ],
         "y": [
          "MotionBedroom.csv",
          "MotionBedroom.csv"
         ]
        },
        {
         "line": {
          "color": "khaki",
          "width": 1
         },
         "marker": {
          "color": "khaki",
          "size": 8
         },
         "mode": "markers+lines",
         "name": "MotionLivingRoomSofa.csv",
         "showlegend": false,
         "type": "scatter",
         "x": [
          "2023-09-30T01:40:58.862000",
          "2023-09-30T01:41:58.856000"
         ],
         "y": [
          "MotionLivingRoomSofa.csv",
          "MotionLivingRoomSofa.csv"
         ]
        },
        {
         "line": {
          "color": "magenta",
          "width": 1
         },
         "marker": {
          "color": "magenta",
          "size": 8
         },
         "mode": "markers+lines",
         "name": "PlugTvHall.csv",
         "showlegend": false,
         "type": "scatter",
         "x": [
          "2023-09-30T01:44:51.344000",
          "2023-09-30T01:45:21.606000"
         ],
         "y": [
          "PlugTvHall.csv",
          "PlugTvHall.csv"
         ]
        },
        {
         "line": {
          "color": "purple",
          "width": 1
         },
         "marker": {
          "color": "purple",
          "size": 8
         },
         "mode": "markers+lines",
         "name": "MotionBedroom.csv",
         "showlegend": false,
         "type": "scatter",
         "x": [
          "2023-09-30T01:51:12.770000",
          "2023-09-30T01:52:15.222000"
         ],
         "y": [
          "MotionBedroom.csv",
          "MotionBedroom.csv"
         ]
        },
        {
         "line": {
          "color": "magenta",
          "width": 1
         },
         "marker": {
          "color": "magenta",
          "size": 8
         },
         "mode": "markers+lines",
         "name": "PlugTvHall.csv",
         "showlegend": false,
         "type": "scatter",
         "x": [
          "2023-09-30T02:02:21.379000",
          "2023-09-30T02:02:51.338000"
         ],
         "y": [
          "PlugTvHall.csv",
          "PlugTvHall.csv"
         ]
        },
        {
         "line": {
          "color": "magenta",
          "width": 1
         },
         "marker": {
          "color": "magenta",
          "size": 8
         },
         "mode": "markers+lines",
         "name": "PlugTvHall.csv",
         "showlegend": false,
         "type": "scatter",
         "x": [
          "2023-09-30T02:17:52.343000",
          "2023-09-30T02:18:22.351000"
         ],
         "y": [
          "PlugTvHall.csv",
          "PlugTvHall.csv"
         ]
        },
        {
         "line": {
          "color": "magenta",
          "width": 1
         },
         "marker": {
          "color": "magenta",
          "size": 8
         },
         "mode": "markers+lines",
         "name": "PlugTvHall.csv",
         "showlegend": false,
         "type": "scatter",
         "x": [
          "2023-09-30T02:18:52.417000",
          "2023-09-30T02:38:52.357000"
         ],
         "y": [
          "PlugTvHall.csv",
          "PlugTvHall.csv"
         ]
        },
        {
         "line": {
          "color": "khaki",
          "width": 1
         },
         "marker": {
          "color": "khaki",
          "size": 8
         },
         "mode": "markers+lines",
         "name": "MotionLivingRoomSofa.csv",
         "showlegend": false,
         "type": "scatter",
         "x": [
          "2023-09-30T02:32:15.205000",
          "2023-09-30T02:33:15.197000"
         ],
         "y": [
          "MotionLivingRoomSofa.csv",
          "MotionLivingRoomSofa.csv"
         ]
        },
        {
         "line": {
          "color": "maroon",
          "width": 1
         },
         "marker": {
          "color": "maroon",
          "size": 8
         },
         "mode": "markers+lines",
         "name": "MotionKitchen.csv",
         "showlegend": false,
         "type": "scatter",
         "x": [
          "2023-09-30T02:32:19.670000",
          "2023-09-30T02:33:19.671000"
         ],
         "y": [
          "MotionKitchen.csv",
          "MotionKitchen.csv"
         ]
        },
        {
         "line": {
          "color": "maroon",
          "width": 1
         },
         "marker": {
          "color": "maroon",
          "size": 8
         },
         "mode": "markers+lines",
         "name": "MotionKitchen.csv",
         "showlegend": false,
         "type": "scatter",
         "x": [
          "2023-09-30T02:33:28.675000",
          "2023-09-30T02:34:28.663000"
         ],
         "y": [
          "MotionKitchen.csv",
          "MotionKitchen.csv"
         ]
        },
        {
         "line": {
          "color": "khaki",
          "width": 1
         },
         "marker": {
          "color": "khaki",
          "size": 8
         },
         "mode": "markers+lines",
         "name": "MotionLivingRoomSofa.csv",
         "showlegend": false,
         "type": "scatter",
         "x": [
          "2023-09-30T02:34:04.384000",
          "2023-09-30T02:35:04.400000"
         ],
         "y": [
          "MotionLivingRoomSofa.csv",
          "MotionLivingRoomSofa.csv"
         ]
        },
        {
         "line": {
          "color": "purple",
          "width": 1
         },
         "marker": {
          "color": "purple",
          "size": 8
         },
         "mode": "markers+lines",
         "name": "MotionBedroom.csv",
         "showlegend": false,
         "type": "scatter",
         "x": [
          "2023-09-30T02:34:09.838000",
          "2023-09-30T02:38:46.236000"
         ],
         "y": [
          "MotionBedroom.csv",
          "MotionBedroom.csv"
         ]
        },
        {
         "line": {
          "color": "magenta",
          "width": 1
         },
         "marker": {
          "color": "magenta",
          "size": 8
         },
         "mode": "markers+lines",
         "name": "PlugTvHall.csv",
         "showlegend": false,
         "type": "scatter",
         "x": [
          "2023-09-30T02:39:22.468000",
          "2023-09-30T02:44:52.366000"
         ],
         "y": [
          "PlugTvHall.csv",
          "PlugTvHall.csv"
         ]
        },
        {
         "line": {
          "color": "purple",
          "width": 1
         },
         "marker": {
          "color": "purple",
          "size": 8
         },
         "mode": "markers+lines",
         "name": "MotionBedroom.csv",
         "showlegend": false,
         "type": "scatter",
         "x": [
          "2023-09-30T02:50:39.979000",
          "2023-09-30T02:51:47.038000"
         ],
         "y": [
          "MotionBedroom.csv",
          "MotionBedroom.csv"
         ]
        },
        {
         "line": {
          "color": "khaki",
          "width": 1
         },
         "marker": {
          "color": "khaki",
          "size": 8
         },
         "mode": "markers+lines",
         "name": "MotionLivingRoomSofa.csv",
         "showlegend": false,
         "type": "scatter",
         "x": [
          "2023-09-30T02:50:52.288000",
          "2023-09-30T02:51:52.292000"
         ],
         "y": [
          "MotionLivingRoomSofa.csv",
          "MotionLivingRoomSofa.csv"
         ]
        },
        {
         "line": {
          "color": "khaki",
          "width": 1
         },
         "marker": {
          "color": "khaki",
          "size": 8
         },
         "mode": "markers+lines",
         "name": "MotionLivingRoomSofa.csv",
         "showlegend": false,
         "type": "scatter",
         "x": [
          "2023-09-30T03:14:32.598000",
          "2023-09-30T03:15:32.592000"
         ],
         "y": [
          "MotionLivingRoomSofa.csv",
          "MotionLivingRoomSofa.csv"
         ]
        },
        {
         "line": {
          "color": "khaki",
          "width": 1
         },
         "marker": {
          "color": "khaki",
          "size": 8
         },
         "mode": "markers+lines",
         "name": "MotionLivingRoomSofa.csv",
         "showlegend": false,
         "type": "scatter",
         "x": [
          "2023-09-30T03:15:59.390000",
          "2023-09-30T03:16:59.401000"
         ],
         "y": [
          "MotionLivingRoomSofa.csv",
          "MotionLivingRoomSofa.csv"
         ]
        },
        {
         "line": {
          "color": "khaki",
          "width": 1
         },
         "marker": {
          "color": "khaki",
          "size": 8
         },
         "mode": "markers+lines",
         "name": "MotionLivingRoomSofa.csv",
         "showlegend": false,
         "type": "scatter",
         "x": [
          "2023-09-30T03:20:42.097000",
          "2023-09-30T03:21:42.091000"
         ],
         "y": [
          "MotionLivingRoomSofa.csv",
          "MotionLivingRoomSofa.csv"
         ]
        },
        {
         "line": {
          "color": "magenta",
          "width": 1
         },
         "marker": {
          "color": "magenta",
          "size": 8
         },
         "mode": "markers+lines",
         "name": "PlugTvHall.csv",
         "showlegend": false,
         "type": "scatter",
         "x": [
          "2023-09-30T03:21:22.387000",
          "2023-09-30T03:25:22.419000"
         ],
         "y": [
          "PlugTvHall.csv",
          "PlugTvHall.csv"
         ]
        },
        {
         "line": {
          "color": "purple",
          "width": 1
         },
         "marker": {
          "color": "purple",
          "size": 8
         },
         "mode": "markers+lines",
         "name": "MotionBedroom.csv",
         "showlegend": false,
         "type": "scatter",
         "x": [
          "2023-09-30T03:23:55.296000",
          "2023-09-30T03:24:57.961000"
         ],
         "y": [
          "MotionBedroom.csv",
          "MotionBedroom.csv"
         ]
        },
        {
         "line": {
          "color": "purple",
          "width": 1
         },
         "marker": {
          "color": "purple",
          "size": 8
         },
         "mode": "markers+lines",
         "name": "MotionBedroom.csv",
         "showlegend": false,
         "type": "scatter",
         "x": [
          "2023-09-30T03:30:07.057000",
          "2023-09-30T03:31:15.586000"
         ],
         "y": [
          "MotionBedroom.csv",
          "MotionBedroom.csv"
         ]
        },
        {
         "line": {
          "color": "purple",
          "width": 1
         },
         "marker": {
          "color": "purple",
          "size": 8
         },
         "mode": "markers+lines",
         "name": "MotionBedroom.csv",
         "showlegend": false,
         "type": "scatter",
         "x": [
          "2023-09-30T03:32:01.152000",
          "2023-09-30T03:33:03.815000"
         ],
         "y": [
          "MotionBedroom.csv",
          "MotionBedroom.csv"
         ]
        },
        {
         "line": {
          "color": "purple",
          "width": 1
         },
         "marker": {
          "color": "purple",
          "size": 8
         },
         "mode": "markers+lines",
         "name": "MotionBedroom.csv",
         "showlegend": false,
         "type": "scatter",
         "x": [
          "2023-09-30T03:35:44.041000",
          "2023-09-30T03:37:06.372000"
         ],
         "y": [
          "MotionBedroom.csv",
          "MotionBedroom.csv"
         ]
        },
        {
         "line": {
          "color": "magenta",
          "width": 1
         },
         "marker": {
          "color": "magenta",
          "size": 8
         },
         "mode": "markers+lines",
         "name": "PlugTvHall.csv",
         "showlegend": false,
         "type": "scatter",
         "x": [
          "2023-09-30T03:53:22.395000",
          "2023-09-30T04:03:22.373000"
         ],
         "y": [
          "PlugTvHall.csv",
          "PlugTvHall.csv"
         ]
        },
        {
         "line": {
          "color": "magenta",
          "width": 1
         },
         "marker": {
          "color": "magenta",
          "size": 8
         },
         "mode": "markers+lines",
         "name": "PlugTvHall.csv",
         "showlegend": false,
         "type": "scatter",
         "x": [
          "2023-09-30T04:03:52.340000",
          "2023-09-30T04:04:22.479000"
         ],
         "y": [
          "PlugTvHall.csv",
          "PlugTvHall.csv"
         ]
        },
        {
         "line": {
          "color": "magenta",
          "width": 1
         },
         "marker": {
          "color": "magenta",
          "size": 8
         },
         "mode": "markers+lines",
         "name": "PlugTvHall.csv",
         "showlegend": false,
         "type": "scatter",
         "x": [
          "2023-09-30T04:08:22.345000",
          "2023-09-30T04:08:52.445000"
         ],
         "y": [
          "PlugTvHall.csv",
          "PlugTvHall.csv"
         ]
        },
        {
         "line": {
          "color": "khaki",
          "width": 1
         },
         "marker": {
          "color": "khaki",
          "size": 8
         },
         "mode": "markers+lines",
         "name": "MotionLivingRoomSofa.csv",
         "showlegend": false,
         "type": "scatter",
         "x": [
          "2023-09-30T04:09:45.048000",
          "2023-09-30T04:10:45.068000"
         ],
         "y": [
          "MotionLivingRoomSofa.csv",
          "MotionLivingRoomSofa.csv"
         ]
        },
        {
         "line": {
          "color": "khaki",
          "width": 1
         },
         "marker": {
          "color": "khaki",
          "size": 8
         },
         "mode": "markers+lines",
         "name": "MotionLivingRoomSofa.csv",
         "showlegend": false,
         "type": "scatter",
         "x": [
          "2023-09-30T04:10:57.324000",
          "2023-09-30T04:11:57.318000"
         ],
         "y": [
          "MotionLivingRoomSofa.csv",
          "MotionLivingRoomSofa.csv"
         ]
        },
        {
         "line": {
          "color": "khaki",
          "width": 1
         },
         "marker": {
          "color": "khaki",
          "size": 8
         },
         "mode": "markers+lines",
         "name": "MotionLivingRoomSofa.csv",
         "showlegend": false,
         "type": "scatter",
         "x": [
          "2023-09-30T04:11:59.977000",
          "2023-09-30T04:12:59.992000"
         ],
         "y": [
          "MotionLivingRoomSofa.csv",
          "MotionLivingRoomSofa.csv"
         ]
        },
        {
         "line": {
          "color": "khaki",
          "width": 1
         },
         "marker": {
          "color": "khaki",
          "size": 8
         },
         "mode": "markers+lines",
         "name": "MotionLivingRoomSofa.csv",
         "showlegend": false,
         "type": "scatter",
         "x": [
          "2023-09-30T04:13:48.749000",
          "2023-09-30T04:14:48.736000"
         ],
         "y": [
          "MotionLivingRoomSofa.csv",
          "MotionLivingRoomSofa.csv"
         ]
        },
        {
         "line": {
          "color": "purple",
          "width": 1
         },
         "marker": {
          "color": "purple",
          "size": 8
         },
         "mode": "markers+lines",
         "name": "MotionBedroom.csv",
         "showlegend": false,
         "type": "scatter",
         "x": [
          "2023-09-30T04:14:51.497000",
          "2023-09-30T04:16:01.885000"
         ],
         "y": [
          "MotionBedroom.csv",
          "MotionBedroom.csv"
         ]
        },
        {
         "line": {
          "color": "magenta",
          "width": 1
         },
         "marker": {
          "color": "magenta",
          "size": 8
         },
         "mode": "markers+lines",
         "name": "PlugTvHall.csv",
         "showlegend": false,
         "type": "scatter",
         "x": [
          "2023-09-30T04:18:55.120000",
          "2023-09-30T04:23:25.356000"
         ],
         "y": [
          "PlugTvHall.csv",
          "PlugTvHall.csv"
         ]
        },
        {
         "line": {
          "color": "purple",
          "width": 1
         },
         "marker": {
          "color": "purple",
          "size": 8
         },
         "mode": "markers+lines",
         "name": "MotionBedroom.csv",
         "showlegend": false,
         "type": "scatter",
         "x": [
          "2023-09-30T04:32:14.563000",
          "2023-09-30T04:33:23.018000"
         ],
         "y": [
          "MotionBedroom.csv",
          "MotionBedroom.csv"
         ]
        },
        {
         "line": {
          "color": "purple",
          "width": 1
         },
         "marker": {
          "color": "purple",
          "size": 8
         },
         "mode": "markers+lines",
         "name": "MotionBedroom.csv",
         "showlegend": false,
         "type": "scatter",
         "x": [
          "2023-09-30T05:07:39.780000",
          "2023-09-30T05:09:21.985000"
         ],
         "y": [
          "MotionBedroom.csv",
          "MotionBedroom.csv"
         ]
        },
        {
         "line": {
          "color": "khaki",
          "width": 1
         },
         "marker": {
          "color": "khaki",
          "size": 8
         },
         "mode": "markers+lines",
         "name": "MotionLivingRoomSofa.csv",
         "showlegend": false,
         "type": "scatter",
         "x": [
          "2023-09-30T05:10:58.925000",
          "2023-09-30T05:11:58.924000"
         ],
         "y": [
          "MotionLivingRoomSofa.csv",
          "MotionLivingRoomSofa.csv"
         ]
        },
        {
         "line": {
          "color": "khaki",
          "width": 1
         },
         "marker": {
          "color": "khaki",
          "size": 8
         },
         "mode": "markers+lines",
         "name": "MotionLivingRoomSofa.csv",
         "showlegend": false,
         "type": "scatter",
         "x": [
          "2023-09-30T05:14:18.747000",
          "2023-09-30T05:15:18.745000"
         ],
         "y": [
          "MotionLivingRoomSofa.csv",
          "MotionLivingRoomSofa.csv"
         ]
        },
        {
         "line": {
          "color": "maroon",
          "width": 1
         },
         "marker": {
          "color": "maroon",
          "size": 8
         },
         "mode": "markers+lines",
         "name": "MotionKitchen.csv",
         "showlegend": false,
         "type": "scatter",
         "x": [
          "2023-09-30T05:14:26.792000",
          "2023-09-30T05:15:26.812000"
         ],
         "y": [
          "MotionKitchen.csv",
          "MotionKitchen.csv"
         ]
        },
        {
         "line": {
          "color": "khaki",
          "width": 1
         },
         "marker": {
          "color": "khaki",
          "size": 8
         },
         "mode": "markers+lines",
         "name": "MotionLivingRoomSofa.csv",
         "showlegend": false,
         "type": "scatter",
         "x": [
          "2023-09-30T05:15:33.012000",
          "2023-09-30T05:16:33.008000"
         ],
         "y": [
          "MotionLivingRoomSofa.csv",
          "MotionLivingRoomSofa.csv"
         ]
        },
        {
         "line": {
          "color": "khaki",
          "width": 1
         },
         "marker": {
          "color": "khaki",
          "size": 8
         },
         "mode": "markers+lines",
         "name": "MotionLivingRoomSofa.csv",
         "showlegend": false,
         "type": "scatter",
         "x": [
          "2023-09-30T05:16:49.174000",
          "2023-09-30T05:17:49.169000"
         ],
         "y": [
          "MotionLivingRoomSofa.csv",
          "MotionLivingRoomSofa.csv"
         ]
        },
        {
         "line": {
          "color": "khaki",
          "width": 1
         },
         "marker": {
          "color": "khaki",
          "size": 8
         },
         "mode": "markers+lines",
         "name": "MotionLivingRoomSofa.csv",
         "showlegend": false,
         "type": "scatter",
         "x": [
          "2023-09-30T05:18:15.457000",
          "2023-09-30T05:20:04.356000"
         ],
         "y": [
          "MotionLivingRoomSofa.csv",
          "MotionLivingRoomSofa.csv"
         ]
        },
        {
         "line": {
          "color": "magenta",
          "width": 1
         },
         "marker": {
          "color": "magenta",
          "size": 8
         },
         "mode": "markers+lines",
         "name": "PlugTvHall.csv",
         "showlegend": false,
         "type": "scatter",
         "x": [
          "2023-09-30T05:19:25.353000",
          "2023-09-30T05:33:25.388000"
         ],
         "y": [
          "PlugTvHall.csv",
          "PlugTvHall.csv"
         ]
        },
        {
         "line": {
          "color": "purple",
          "width": 1
         },
         "marker": {
          "color": "purple",
          "size": 8
         },
         "mode": "markers+lines",
         "name": "MotionBedroom.csv",
         "showlegend": false,
         "type": "scatter",
         "x": [
          "2023-09-30T05:26:56.707000",
          "2023-09-30T05:28:13.996000"
         ],
         "y": [
          "MotionBedroom.csv",
          "MotionBedroom.csv"
         ]
        },
        {
         "line": {
          "color": "purple",
          "width": 1
         },
         "marker": {
          "color": "purple",
          "size": 8
         },
         "mode": "markers+lines",
         "name": "MotionBedroom.csv",
         "showlegend": false,
         "type": "scatter",
         "x": [
          "2023-09-30T05:34:06.975000",
          "2023-09-30T05:35:53.028000"
         ],
         "y": [
          "MotionBedroom.csv",
          "MotionBedroom.csv"
         ]
        },
        {
         "line": {
          "color": "magenta",
          "width": 1
         },
         "marker": {
          "color": "magenta",
          "size": 8
         },
         "mode": "markers+lines",
         "name": "PlugTvHall.csv",
         "showlegend": false,
         "type": "scatter",
         "x": [
          "2023-09-30T05:36:25.381000",
          "2023-09-30T05:41:55.397000"
         ],
         "y": [
          "PlugTvHall.csv",
          "PlugTvHall.csv"
         ]
        },
        {
         "line": {
          "color": "purple",
          "width": 1
         },
         "marker": {
          "color": "purple",
          "size": 8
         },
         "mode": "markers+lines",
         "name": "MotionBedroom.csv",
         "showlegend": false,
         "type": "scatter",
         "x": [
          "2023-09-30T05:43:00.155000",
          "2023-09-30T05:44:02.929000"
         ],
         "y": [
          "MotionBedroom.csv",
          "MotionBedroom.csv"
         ]
        },
        {
         "line": {
          "color": "purple",
          "width": 1
         },
         "marker": {
          "color": "purple",
          "size": 8
         },
         "mode": "markers+lines",
         "name": "MotionBedroom.csv",
         "showlegend": false,
         "type": "scatter",
         "x": [
          "2023-09-30T05:55:44.701000",
          "2023-09-30T05:57:55.277000"
         ],
         "y": [
          "MotionBedroom.csv",
          "MotionBedroom.csv"
         ]
        },
        {
         "line": {
          "color": "khaki",
          "width": 1
         },
         "marker": {
          "color": "khaki",
          "size": 8
         },
         "mode": "markers+lines",
         "name": "MotionLivingRoomSofa.csv",
         "showlegend": false,
         "type": "scatter",
         "x": [
          "2023-09-30T05:57:34.762000",
          "2023-09-30T05:58:34.757000"
         ],
         "y": [
          "MotionLivingRoomSofa.csv",
          "MotionLivingRoomSofa.csv"
         ]
        },
        {
         "line": {
          "color": "khaki",
          "width": 1
         },
         "marker": {
          "color": "khaki",
          "size": 8
         },
         "mode": "markers+lines",
         "name": "MotionLivingRoomSofa.csv",
         "showlegend": false,
         "type": "scatter",
         "x": [
          "2023-09-30T06:00:07.057000",
          "2023-09-30T06:02:30.716000"
         ],
         "y": [
          "MotionLivingRoomSofa.csv",
          "MotionLivingRoomSofa.csv"
         ]
        },
        {
         "line": {
          "color": "magenta",
          "width": 1
         },
         "marker": {
          "color": "magenta",
          "size": 8
         },
         "mode": "markers+lines",
         "name": "PlugTvHall.csv",
         "showlegend": false,
         "type": "scatter",
         "x": [
          "2023-09-30T06:00:25.428000",
          "2023-09-30T06:00:55.391000"
         ],
         "y": [
          "PlugTvHall.csv",
          "PlugTvHall.csv"
         ]
        },
        {
         "line": {
          "color": "magenta",
          "width": 1
         },
         "marker": {
          "color": "magenta",
          "size": 8
         },
         "mode": "markers+lines",
         "name": "PlugTvHall.csv",
         "showlegend": false,
         "type": "scatter",
         "x": [
          "2023-09-30T06:04:25.368000",
          "2023-09-30T06:04:55.360000"
         ],
         "y": [
          "PlugTvHall.csv",
          "PlugTvHall.csv"
         ]
        },
        {
         "line": {
          "color": "purple",
          "width": 1
         },
         "marker": {
          "color": "purple",
          "size": 8
         },
         "mode": "markers+lines",
         "name": "MotionBedroom.csv",
         "showlegend": false,
         "type": "scatter",
         "x": [
          "2023-09-30T06:08:46.311000",
          "2023-09-30T06:09:48.742000"
         ],
         "y": [
          "MotionBedroom.csv",
          "MotionBedroom.csv"
         ]
        },
        {
         "line": {
          "color": "khaki",
          "width": 1
         },
         "marker": {
          "color": "khaki",
          "size": 8
         },
         "mode": "markers+lines",
         "name": "MotionLivingRoomSofa.csv",
         "showlegend": false,
         "type": "scatter",
         "x": [
          "2023-09-30T06:09:34.980000",
          "2023-09-30T06:10:34.991000"
         ],
         "y": [
          "MotionLivingRoomSofa.csv",
          "MotionLivingRoomSofa.csv"
         ]
        },
        {
         "line": {
          "color": "purple",
          "width": 1
         },
         "marker": {
          "color": "purple",
          "size": 8
         },
         "mode": "markers+lines",
         "name": "MotionBedroom.csv",
         "showlegend": false,
         "type": "scatter",
         "x": [
          "2023-09-30T06:09:58.168000",
          "2023-09-30T06:12:25.632000"
         ],
         "y": [
          "MotionBedroom.csv",
          "MotionBedroom.csv"
         ]
        },
        {
         "line": {
          "color": "khaki",
          "width": 1
         },
         "marker": {
          "color": "khaki",
          "size": 8
         },
         "mode": "markers+lines",
         "name": "MotionLivingRoomSofa.csv",
         "showlegend": false,
         "type": "scatter",
         "x": [
          "2023-09-30T06:11:14.358000",
          "2023-09-30T06:12:48.115000"
         ],
         "y": [
          "MotionLivingRoomSofa.csv",
          "MotionLivingRoomSofa.csv"
         ]
        },
        {
         "line": {
          "color": "purple",
          "width": 1
         },
         "marker": {
          "color": "purple",
          "size": 8
         },
         "mode": "markers+lines",
         "name": "MotionBedroom.csv",
         "showlegend": false,
         "type": "scatter",
         "x": [
          "2023-09-30T06:14:47.868000",
          "2023-09-30T06:20:25.507000"
         ],
         "y": [
          "MotionBedroom.csv",
          "MotionBedroom.csv"
         ]
        },
        {
         "line": {
          "color": "pink",
          "width": 1
         },
         "marker": {
          "color": "pink",
          "size": 8
         },
         "mode": "markers+lines",
         "name": "HouseEntrance.csv",
         "showlegend": false,
         "type": "scatter",
         "x": [
          "2023-09-30T06:28:56.256000",
          "2023-09-30T06:29:02.942000"
         ],
         "y": [
          "HouseEntrance.csv",
          "HouseEntrance.csv"
         ]
        },
        {
         "line": {
          "color": "khaki",
          "width": 1
         },
         "marker": {
          "color": "khaki",
          "size": 8
         },
         "mode": "markers+lines",
         "name": "MotionLivingRoomSofa.csv",
         "showlegend": false,
         "type": "scatter",
         "x": [
          "2023-09-30T06:30:07.518000",
          "2023-09-30T06:32:32.829000"
         ],
         "y": [
          "MotionLivingRoomSofa.csv",
          "MotionLivingRoomSofa.csv"
         ]
        },
        {
         "line": {
          "color": "purple",
          "width": 1
         },
         "marker": {
          "color": "purple",
          "size": 8
         },
         "mode": "markers+lines",
         "name": "MotionBedroom.csv",
         "showlegend": false,
         "type": "scatter",
         "x": [
          "2023-09-30T06:31:16.123000",
          "2023-09-30T06:32:49.240000"
         ],
         "y": [
          "MotionBedroom.csv",
          "MotionBedroom.csv"
         ]
        },
        {
         "line": {
          "color": "khaki",
          "width": 1
         },
         "marker": {
          "color": "khaki",
          "size": 8
         },
         "mode": "markers+lines",
         "name": "MotionLivingRoomSofa.csv",
         "showlegend": false,
         "type": "scatter",
         "x": [
          "2023-09-30T06:32:49.952000",
          "2023-09-30T06:35:56.798000"
         ],
         "y": [
          "MotionLivingRoomSofa.csv",
          "MotionLivingRoomSofa.csv"
         ]
        },
        {
         "line": {
          "color": "darkgoldenrod",
          "width": 1
         },
         "marker": {
          "color": "darkgoldenrod",
          "size": 8
         },
         "mode": "markers+lines",
         "name": "MotionLivingRoomTablet.csv",
         "showlegend": false,
         "type": "scatter",
         "x": [
          "2023-09-30T06:34:06.851000",
          "2023-09-30T06:34:38.843000"
         ],
         "y": [
          "MotionLivingRoomTablet.csv",
          "MotionLivingRoomTablet.csv"
         ]
        },
        {
         "line": {
          "color": "maroon",
          "width": 1
         },
         "marker": {
          "color": "maroon",
          "size": 8
         },
         "mode": "markers+lines",
         "name": "MotionKitchen.csv",
         "showlegend": false,
         "type": "scatter",
         "x": [
          "2023-09-30T06:34:30.852000",
          "2023-09-30T07:12:41.905000"
         ],
         "y": [
          "MotionKitchen.csv",
          "MotionKitchen.csv"
         ]
        },
        {
         "line": {
          "color": "purple",
          "width": 1
         },
         "marker": {
          "color": "purple",
          "size": 8
         },
         "mode": "markers+lines",
         "name": "MotionBedroom.csv",
         "showlegend": false,
         "type": "scatter",
         "x": [
          "2023-09-30T06:34:35.652000",
          "2023-09-30T06:36:01.224000"
         ],
         "y": [
          "MotionBedroom.csv",
          "MotionBedroom.csv"
         ]
        },
        {
         "line": {
          "color": "orange",
          "width": 1
         },
         "marker": {
          "color": "orange",
          "size": 8
         },
         "mode": "markers+lines",
         "name": "Refrigerator.csv",
         "showlegend": false,
         "type": "scatter",
         "x": [
          "2023-09-30T06:35:21.884000",
          "2023-09-30T06:35:47.403000"
         ],
         "y": [
          "Refrigerator.csv",
          "Refrigerator.csv"
         ]
        },
        {
         "line": {
          "color": "orange",
          "width": 1
         },
         "marker": {
          "color": "orange",
          "size": 8
         },
         "mode": "markers+lines",
         "name": "Refrigerator.csv",
         "showlegend": false,
         "type": "scatter",
         "x": [
          "2023-09-30T06:36:03.760000",
          "2023-09-30T06:36:18.597000"
         ],
         "y": [
          "Refrigerator.csv",
          "Refrigerator.csv"
         ]
        },
        {
         "line": {
          "color": "orange",
          "width": 1
         },
         "marker": {
          "color": "orange",
          "size": 8
         },
         "mode": "markers+lines",
         "name": "Refrigerator.csv",
         "showlegend": false,
         "type": "scatter",
         "x": [
          "2023-09-30T06:37:25.400000",
          "2023-09-30T06:37:34.932000"
         ],
         "y": [
          "Refrigerator.csv",
          "Refrigerator.csv"
         ]
        },
        {
         "line": {
          "color": "khaki",
          "width": 1
         },
         "marker": {
          "color": "khaki",
          "size": 8
         },
         "mode": "markers+lines",
         "name": "MotionLivingRoomSofa.csv",
         "showlegend": false,
         "type": "scatter",
         "x": [
          "2023-09-30T06:40:36.270000",
          "2023-09-30T06:41:36.259000"
         ],
         "y": [
          "MotionLivingRoomSofa.csv",
          "MotionLivingRoomSofa.csv"
         ]
        },
        {
         "line": {
          "color": "brown",
          "width": 1
         },
         "marker": {
          "color": "brown",
          "size": 8
         },
         "mode": "markers+lines",
         "name": "Dishes_Glasses.csv",
         "showlegend": false,
         "type": "scatter",
         "x": [
          "2023-09-30T06:41:22.243000",
          "2023-09-30T06:41:26.672000"
         ],
         "y": [
          "Dishes_Glasses.csv",
          "Dishes_Glasses.csv"
         ]
        },
        {
         "line": {
          "color": "brown",
          "width": 1
         },
         "marker": {
          "color": "brown",
          "size": 8
         },
         "mode": "markers+lines",
         "name": "Dishes_Glasses.csv",
         "showlegend": false,
         "type": "scatter",
         "x": [
          "2023-09-30T06:41:30.483000",
          "2023-09-30T06:41:32.981000"
         ],
         "y": [
          "Dishes_Glasses.csv",
          "Dishes_Glasses.csv"
         ]
        },
        {
         "line": {
          "color": "magenta",
          "width": 1
         },
         "marker": {
          "color": "magenta",
          "size": 8
         },
         "mode": "markers+lines",
         "name": "PlugTvHall.csv",
         "showlegend": false,
         "type": "scatter",
         "x": [
          "2023-09-30T06:43:55.411000",
          "2023-09-30T06:44:25.400000"
         ],
         "y": [
          "PlugTvHall.csv",
          "PlugTvHall.csv"
         ]
        },
        {
         "line": {
          "color": "khaki",
          "width": 1
         },
         "marker": {
          "color": "khaki",
          "size": 8
         },
         "mode": "markers+lines",
         "name": "MotionLivingRoomSofa.csv",
         "showlegend": false,
         "type": "scatter",
         "x": [
          "2023-09-30T06:45:03.101000",
          "2023-09-30T06:46:55.732000"
         ],
         "y": [
          "MotionLivingRoomSofa.csv",
          "MotionLivingRoomSofa.csv"
         ]
        },
        {
         "line": {
          "color": "magenta",
          "width": 1
         },
         "marker": {
          "color": "magenta",
          "size": 8
         },
         "mode": "markers+lines",
         "name": "PlugTvHall.csv",
         "showlegend": false,
         "type": "scatter",
         "x": [
          "2023-09-30T06:45:25.363000",
          "2023-09-30T06:45:55.432000"
         ],
         "y": [
          "PlugTvHall.csv",
          "PlugTvHall.csv"
         ]
        },
        {
         "line": {
          "color": "darkgoldenrod",
          "width": 1
         },
         "marker": {
          "color": "darkgoldenrod",
          "size": 8
         },
         "mode": "markers+lines",
         "name": "MotionLivingRoomTablet.csv",
         "showlegend": false,
         "type": "scatter",
         "x": [
          "2023-09-30T06:45:55.366000",
          "2023-09-30T06:46:27.367000"
         ],
         "y": [
          "MotionLivingRoomTablet.csv",
          "MotionLivingRoomTablet.csv"
         ]
        },
        {
         "line": {
          "color": "brown",
          "width": 1
         },
         "marker": {
          "color": "brown",
          "size": 8
         },
         "mode": "markers+lines",
         "name": "Dishes_Glasses.csv",
         "showlegend": false,
         "type": "scatter",
         "x": [
          "2023-09-30T06:47:47.839000",
          "2023-09-30T06:48:07.775000"
         ],
         "y": [
          "Dishes_Glasses.csv",
          "Dishes_Glasses.csv"
         ]
        },
        {
         "line": {
          "color": "khaki",
          "width": 1
         },
         "marker": {
          "color": "khaki",
          "size": 8
         },
         "mode": "markers+lines",
         "name": "MotionLivingRoomSofa.csv",
         "showlegend": false,
         "type": "scatter",
         "x": [
          "2023-09-30T06:47:49.485000",
          "2023-09-30T06:51:26.034000"
         ],
         "y": [
          "MotionLivingRoomSofa.csv",
          "MotionLivingRoomSofa.csv"
         ]
        },
        {
         "line": {
          "color": "purple",
          "width": 1
         },
         "marker": {
          "color": "purple",
          "size": 8
         },
         "mode": "markers+lines",
         "name": "MotionBedroom.csv",
         "showlegend": false,
         "type": "scatter",
         "x": [
          "2023-09-30T06:47:51.702000",
          "2023-09-30T06:51:47.424000"
         ],
         "y": [
          "MotionBedroom.csv",
          "MotionBedroom.csv"
         ]
        },
        {
         "line": {
          "color": "khaki",
          "width": 1
         },
         "marker": {
          "color": "khaki",
          "size": 8
         },
         "mode": "markers+lines",
         "name": "MotionLivingRoomSofa.csv",
         "showlegend": false,
         "type": "scatter",
         "x": [
          "2023-09-30T06:52:21.125000",
          "2023-09-30T06:53:57.435000"
         ],
         "y": [
          "MotionLivingRoomSofa.csv",
          "MotionLivingRoomSofa.csv"
         ]
        },
        {
         "line": {
          "color": "purple",
          "width": 1
         },
         "marker": {
          "color": "purple",
          "size": 8
         },
         "mode": "markers+lines",
         "name": "MotionBedroom.csv",
         "showlegend": false,
         "type": "scatter",
         "x": [
          "2023-09-30T06:52:24.130000",
          "2023-09-30T06:54:03.059000"
         ],
         "y": [
          "MotionBedroom.csv",
          "MotionBedroom.csv"
         ]
        },
        {
         "line": {
          "color": "pink",
          "width": 1
         },
         "marker": {
          "color": "pink",
          "size": 8
         },
         "mode": "markers+lines",
         "name": "HouseEntrance.csv",
         "showlegend": false,
         "type": "scatter",
         "x": [
          "2023-09-30T06:53:18.257000",
          "2023-09-30T06:53:24.927000"
         ],
         "y": [
          "HouseEntrance.csv",
          "HouseEntrance.csv"
         ]
        },
        {
         "line": {
          "color": "brown",
          "width": 1
         },
         "marker": {
          "color": "brown",
          "size": 8
         },
         "mode": "markers+lines",
         "name": "Dishes_Glasses.csv",
         "showlegend": false,
         "type": "scatter",
         "x": [
          "2023-09-30T07:11:12.945000",
          "2023-09-30T07:11:15.980000"
         ],
         "y": [
          "Dishes_Glasses.csv",
          "Dishes_Glasses.csv"
         ]
        },
        {
         "line": {
          "color": "khaki",
          "width": 1
         },
         "marker": {
          "color": "khaki",
          "size": 8
         },
         "mode": "markers+lines",
         "name": "MotionLivingRoomSofa.csv",
         "showlegend": false,
         "type": "scatter",
         "x": [
          "2023-09-30T07:12:29.736000",
          "2023-09-30T07:13:29.732000"
         ],
         "y": [
          "MotionLivingRoomSofa.csv",
          "MotionLivingRoomSofa.csv"
         ]
        },
        {
         "line": {
          "color": "purple",
          "width": 1
         },
         "marker": {
          "color": "purple",
          "size": 8
         },
         "mode": "markers+lines",
         "name": "MotionBedroom.csv",
         "showlegend": false,
         "type": "scatter",
         "x": [
          "2023-09-30T07:12:31.915000",
          "2023-09-30T07:13:35.565000"
         ],
         "y": [
          "MotionBedroom.csv",
          "MotionBedroom.csv"
         ]
        },
        {
         "line": {
          "color": "khaki",
          "width": 1
         },
         "marker": {
          "color": "khaki",
          "size": 8
         },
         "mode": "markers+lines",
         "name": "MotionLivingRoomSofa.csv",
         "showlegend": false,
         "type": "scatter",
         "x": [
          "2023-09-30T07:14:03.954000",
          "2023-09-30T07:15:03.960000"
         ],
         "y": [
          "MotionLivingRoomSofa.csv",
          "MotionLivingRoomSofa.csv"
         ]
        },
        {
         "line": {
          "color": "purple",
          "width": 1
         },
         "marker": {
          "color": "purple",
          "size": 8
         },
         "mode": "markers+lines",
         "name": "MotionBedroom.csv",
         "showlegend": false,
         "type": "scatter",
         "x": [
          "2023-09-30T07:14:06.372000",
          "2023-09-30T07:33:43.064000"
         ],
         "y": [
          "MotionBedroom.csv",
          "MotionBedroom.csv"
         ]
        },
        {
         "line": {
          "color": "khaki",
          "width": 1
         },
         "marker": {
          "color": "khaki",
          "size": 8
         },
         "mode": "markers+lines",
         "name": "MotionLivingRoomSofa.csv",
         "showlegend": false,
         "type": "scatter",
         "x": [
          "2023-09-30T07:15:31.991000",
          "2023-09-30T07:16:31.988000"
         ],
         "y": [
          "MotionLivingRoomSofa.csv",
          "MotionLivingRoomSofa.csv"
         ]
        },
        {
         "line": {
          "color": "khaki",
          "width": 1
         },
         "marker": {
          "color": "khaki",
          "size": 8
         },
         "mode": "markers+lines",
         "name": "MotionLivingRoomSofa.csv",
         "showlegend": false,
         "type": "scatter",
         "x": [
          "2023-09-30T07:22:52.503000",
          "2023-09-30T07:24:35.583000"
         ],
         "y": [
          "MotionLivingRoomSofa.csv",
          "MotionLivingRoomSofa.csv"
         ]
        },
        {
         "line": {
          "color": "khaki",
          "width": 1
         },
         "marker": {
          "color": "khaki",
          "size": 8
         },
         "mode": "markers+lines",
         "name": "MotionLivingRoomSofa.csv",
         "showlegend": false,
         "type": "scatter",
         "x": [
          "2023-09-30T07:32:38.357000",
          "2023-09-30T07:33:38.351000"
         ],
         "y": [
          "MotionLivingRoomSofa.csv",
          "MotionLivingRoomSofa.csv"
         ]
        },
        {
         "line": {
          "color": "purple",
          "width": 1
         },
         "marker": {
          "color": "purple",
          "size": 8
         },
         "mode": "markers+lines",
         "name": "MotionBedroom.csv",
         "showlegend": false,
         "type": "scatter",
         "x": [
          "2023-09-30T07:34:44.264000",
          "2023-09-30T07:43:48.867000"
         ],
         "y": [
          "MotionBedroom.csv",
          "MotionBedroom.csv"
         ]
        },
        {
         "line": {
          "color": "khaki",
          "width": 1
         },
         "marker": {
          "color": "khaki",
          "size": 8
         },
         "mode": "markers+lines",
         "name": "MotionLivingRoomSofa.csv",
         "showlegend": false,
         "type": "scatter",
         "x": [
          "2023-09-30T07:34:54.054000",
          "2023-09-30T07:37:28.173000"
         ],
         "y": [
          "MotionLivingRoomSofa.csv",
          "MotionLivingRoomSofa.csv"
         ]
        },
        {
         "line": {
          "color": "khaki",
          "width": 1
         },
         "marker": {
          "color": "khaki",
          "size": 8
         },
         "mode": "markers+lines",
         "name": "MotionLivingRoomSofa.csv",
         "showlegend": false,
         "type": "scatter",
         "x": [
          "2023-09-30T07:42:38.580000",
          "2023-09-30T07:46:07.456000"
         ],
         "y": [
          "MotionLivingRoomSofa.csv",
          "MotionLivingRoomSofa.csv"
         ]
        },
        {
         "line": {
          "color": "magenta",
          "width": 1
         },
         "marker": {
          "color": "magenta",
          "size": 8
         },
         "mode": "markers+lines",
         "name": "PlugTvHall.csv",
         "showlegend": false,
         "type": "scatter",
         "x": [
          "2023-09-30T07:43:56.506000",
          "2023-09-30T07:44:26.438000"
         ],
         "y": [
          "PlugTvHall.csv",
          "PlugTvHall.csv"
         ]
        },
        {
         "line": {
          "color": "khaki",
          "width": 1
         },
         "marker": {
          "color": "khaki",
          "size": 8
         },
         "mode": "markers+lines",
         "name": "MotionLivingRoomSofa.csv",
         "showlegend": false,
         "type": "scatter",
         "x": [
          "2023-09-30T07:46:20.600000",
          "2023-09-30T07:47:20.596000"
         ],
         "y": [
          "MotionLivingRoomSofa.csv",
          "MotionLivingRoomSofa.csv"
         ]
        },
        {
         "line": {
          "color": "khaki",
          "width": 1
         },
         "marker": {
          "color": "khaki",
          "size": 8
         },
         "mode": "markers+lines",
         "name": "MotionLivingRoomSofa.csv",
         "showlegend": false,
         "type": "scatter",
         "x": [
          "2023-09-30T07:47:47.770000",
          "2023-09-30T07:52:02.604000"
         ],
         "y": [
          "MotionLivingRoomSofa.csv",
          "MotionLivingRoomSofa.csv"
         ]
        },
        {
         "line": {
          "color": "darkgoldenrod",
          "width": 1
         },
         "marker": {
          "color": "darkgoldenrod",
          "size": 8
         },
         "mode": "markers+lines",
         "name": "MotionLivingRoomTablet.csv",
         "showlegend": false,
         "type": "scatter",
         "x": [
          "2023-09-30T07:48:23.561000",
          "2023-09-30T07:48:55.566000"
         ],
         "y": [
          "MotionLivingRoomTablet.csv",
          "MotionLivingRoomTablet.csv"
         ]
        },
        {
         "line": {
          "color": "maroon",
          "width": 1
         },
         "marker": {
          "color": "maroon",
          "size": 8
         },
         "mode": "markers+lines",
         "name": "MotionKitchen.csv",
         "showlegend": false,
         "type": "scatter",
         "x": [
          "2023-09-30T07:48:39.742000",
          "2023-09-30T07:49:39.705000"
         ],
         "y": [
          "MotionKitchen.csv",
          "MotionKitchen.csv"
         ]
        },
        {
         "line": {
          "color": "magenta",
          "width": 1
         },
         "marker": {
          "color": "magenta",
          "size": 8
         },
         "mode": "markers+lines",
         "name": "PlugTvHall.csv",
         "showlegend": false,
         "type": "scatter",
         "x": [
          "2023-09-30T07:49:56.361000",
          "2023-09-30T07:50:26.315000"
         ],
         "y": [
          "PlugTvHall.csv",
          "PlugTvHall.csv"
         ]
        },
        {
         "line": {
          "color": "darkgoldenrod",
          "width": 1
         },
         "marker": {
          "color": "darkgoldenrod",
          "size": 8
         },
         "mode": "markers+lines",
         "name": "MotionLivingRoomTablet.csv",
         "showlegend": false,
         "type": "scatter",
         "x": [
          "2023-09-30T07:51:32.016000",
          "2023-09-30T07:52:33.994000"
         ],
         "y": [
          "MotionLivingRoomTablet.csv",
          "MotionLivingRoomTablet.csv"
         ]
        },
        {
         "line": {
          "color": "khaki",
          "width": 1
         },
         "marker": {
          "color": "khaki",
          "size": 8
         },
         "mode": "markers+lines",
         "name": "MotionLivingRoomSofa.csv",
         "showlegend": false,
         "type": "scatter",
         "x": [
          "2023-09-30T07:52:27.192000",
          "2023-09-30T07:53:27.220000"
         ],
         "y": [
          "MotionLivingRoomSofa.csv",
          "MotionLivingRoomSofa.csv"
         ]
        },
        {
         "line": {
          "color": "darkgoldenrod",
          "width": 1
         },
         "marker": {
          "color": "darkgoldenrod",
          "size": 8
         },
         "mode": "markers+lines",
         "name": "MotionLivingRoomTablet.csv",
         "showlegend": false,
         "type": "scatter",
         "x": [
          "2023-09-30T07:52:34.863000",
          "2023-09-30T07:53:06.894000"
         ],
         "y": [
          "MotionLivingRoomTablet.csv",
          "MotionLivingRoomTablet.csv"
         ]
        },
        {
         "line": {
          "color": "aqua",
          "width": 1
         },
         "marker": {
          "color": "aqua",
          "size": 8
         },
         "mode": "markers+lines",
         "name": "FoodStorageLivingRoom.csv",
         "showlegend": false,
         "type": "scatter",
         "x": [
          "2023-09-30T07:53:30.460000",
          "2023-09-30T07:53:36.356000"
         ],
         "y": [
          "FoodStorageLivingRoom.csv",
          "FoodStorageLivingRoom.csv"
         ]
        },
        {
         "line": {
          "color": "darkgoldenrod",
          "width": 1
         },
         "marker": {
          "color": "darkgoldenrod",
          "size": 8
         },
         "mode": "markers+lines",
         "name": "MotionLivingRoomTablet.csv",
         "showlegend": false,
         "type": "scatter",
         "x": [
          "2023-09-30T07:54:57.575000",
          "2023-09-30T07:55:29.567000"
         ],
         "y": [
          "MotionLivingRoomTablet.csv",
          "MotionLivingRoomTablet.csv"
         ]
        },
        {
         "line": {
          "color": "khaki",
          "width": 1
         },
         "marker": {
          "color": "khaki",
          "size": 8
         },
         "mode": "markers+lines",
         "name": "MotionLivingRoomSofa.csv",
         "showlegend": false,
         "type": "scatter",
         "x": [
          "2023-09-30T07:55:04.786000",
          "2023-09-30T07:59:11.802000"
         ],
         "y": [
          "MotionLivingRoomSofa.csv",
          "MotionLivingRoomSofa.csv"
         ]
        },
        {
         "line": {
          "color": "darkgoldenrod",
          "width": 1
         },
         "marker": {
          "color": "darkgoldenrod",
          "size": 8
         },
         "mode": "markers+lines",
         "name": "MotionLivingRoomTablet.csv",
         "showlegend": false,
         "type": "scatter",
         "x": [
          "2023-09-30T07:57:46.342000",
          "2023-09-30T07:58:18.345000"
         ],
         "y": [
          "MotionLivingRoomTablet.csv",
          "MotionLivingRoomTablet.csv"
         ]
        },
        {
         "line": {
          "color": "darkgoldenrod",
          "width": 1
         },
         "marker": {
          "color": "darkgoldenrod",
          "size": 8
         },
         "mode": "markers+lines",
         "name": "MotionLivingRoomTablet.csv",
         "showlegend": false,
         "type": "scatter",
         "x": [
          "2023-09-30T07:59:03.679000",
          "2023-09-30T07:59:35.668000"
         ],
         "y": [
          "MotionLivingRoomTablet.csv",
          "MotionLivingRoomTablet.csv"
         ]
        },
        {
         "line": {
          "color": "maroon",
          "width": 1
         },
         "marker": {
          "color": "maroon",
          "size": 8
         },
         "mode": "markers+lines",
         "name": "MotionKitchen.csv",
         "showlegend": false,
         "type": "scatter",
         "x": [
          "2023-09-30T07:59:42.680000",
          "2023-09-30T08:02:14.638000"
         ],
         "y": [
          "MotionKitchen.csv",
          "MotionKitchen.csv"
         ]
        },
        {
         "line": {
          "color": "pink",
          "width": 1
         },
         "marker": {
          "color": "pink",
          "size": 8
         },
         "mode": "markers+lines",
         "name": "HouseEntrance.csv",
         "showlegend": false,
         "type": "scatter",
         "x": [
          "2023-09-30T08:02:53.100000",
          "2023-09-30T08:03:16.724000"
         ],
         "y": [
          "HouseEntrance.csv",
          "HouseEntrance.csv"
         ]
        },
        {
         "line": {
          "color": "khaki",
          "width": 1
         },
         "marker": {
          "color": "khaki",
          "size": 8
         },
         "mode": "markers+lines",
         "name": "MotionLivingRoomSofa.csv",
         "showlegend": false,
         "type": "scatter",
         "x": [
          "2023-09-30T08:05:17.080000",
          "2023-09-30T08:06:17.076000"
         ],
         "y": [
          "MotionLivingRoomSofa.csv",
          "MotionLivingRoomSofa.csv"
         ]
        },
        {
         "line": {
          "color": "purple",
          "width": 1
         },
         "marker": {
          "color": "purple",
          "size": 8
         },
         "mode": "markers+lines",
         "name": "MotionBedroom.csv",
         "showlegend": false,
         "type": "scatter",
         "x": [
          "2023-09-30T08:05:19.103000",
          "2023-09-30T08:06:38.706000"
         ],
         "y": [
          "MotionBedroom.csv",
          "MotionBedroom.csv"
         ]
        },
        {
         "line": {
          "color": "khaki",
          "width": 1
         },
         "marker": {
          "color": "khaki",
          "size": 8
         },
         "mode": "markers+lines",
         "name": "MotionLivingRoomSofa.csv",
         "showlegend": false,
         "type": "scatter",
         "x": [
          "2023-09-30T08:06:22.632000",
          "2023-09-30T08:09:41.758000"
         ],
         "y": [
          "MotionLivingRoomSofa.csv",
          "MotionLivingRoomSofa.csv"
         ]
        },
        {
         "line": {
          "color": "maroon",
          "width": 1
         },
         "marker": {
          "color": "maroon",
          "size": 8
         },
         "mode": "markers+lines",
         "name": "MotionKitchen.csv",
         "showlegend": false,
         "type": "scatter",
         "x": [
          "2023-09-30T08:09:55.168000",
          "2023-09-30T08:11:27.335000"
         ],
         "y": [
          "MotionKitchen.csv",
          "MotionKitchen.csv"
         ]
        },
        {
         "line": {
          "color": "pink",
          "width": 1
         },
         "marker": {
          "color": "pink",
          "size": 8
         },
         "mode": "markers+lines",
         "name": "HouseEntrance.csv",
         "showlegend": false,
         "type": "scatter",
         "x": [
          "2023-09-30T08:11:53.132000",
          "2023-09-30T08:12:04.518000"
         ],
         "y": [
          "HouseEntrance.csv",
          "HouseEntrance.csv"
         ]
        },
        {
         "line": {
          "color": "khaki",
          "width": 1
         },
         "marker": {
          "color": "khaki",
          "size": 8
         },
         "mode": "markers+lines",
         "name": "MotionLivingRoomSofa.csv",
         "showlegend": false,
         "type": "scatter",
         "x": [
          "2023-09-30T08:13:55.676000",
          "2023-09-30T08:16:54.484000"
         ],
         "y": [
          "MotionLivingRoomSofa.csv",
          "MotionLivingRoomSofa.csv"
         ]
        },
        {
         "line": {
          "color": "purple",
          "width": 1
         },
         "marker": {
          "color": "purple",
          "size": 8
         },
         "mode": "markers+lines",
         "name": "MotionBedroom.csv",
         "showlegend": false,
         "type": "scatter",
         "x": [
          "2023-09-30T08:13:57.699000",
          "2023-09-30T08:15:49.167000"
         ],
         "y": [
          "MotionBedroom.csv",
          "MotionBedroom.csv"
         ]
        },
        {
         "line": {
          "color": "khaki",
          "width": 1
         },
         "marker": {
          "color": "khaki",
          "size": 8
         },
         "mode": "markers+lines",
         "name": "MotionLivingRoomSofa.csv",
         "showlegend": false,
         "type": "scatter",
         "x": [
          "2023-09-30T08:19:11.162000",
          "2023-09-30T08:21:01.677000"
         ],
         "y": [
          "MotionLivingRoomSofa.csv",
          "MotionLivingRoomSofa.csv"
         ]
        },
        {
         "line": {
          "color": "darkgoldenrod",
          "width": 1
         },
         "marker": {
          "color": "darkgoldenrod",
          "size": 8
         },
         "mode": "markers+lines",
         "name": "MotionLivingRoomTablet.csv",
         "showlegend": false,
         "type": "scatter",
         "x": [
          "2023-09-30T08:19:36.244000",
          "2023-09-30T08:20:08.243000"
         ],
         "y": [
          "MotionLivingRoomTablet.csv",
          "MotionLivingRoomTablet.csv"
         ]
        },
        {
         "line": {
          "color": "khaki",
          "width": 1
         },
         "marker": {
          "color": "khaki",
          "size": 8
         },
         "mode": "markers+lines",
         "name": "MotionLivingRoomSofa.csv",
         "showlegend": false,
         "type": "scatter",
         "x": [
          "2023-09-30T08:21:05.724000",
          "2023-09-30T08:23:19.876000"
         ],
         "y": [
          "MotionLivingRoomSofa.csv",
          "MotionLivingRoomSofa.csv"
         ]
        },
        {
         "line": {
          "color": "maroon",
          "width": 1
         },
         "marker": {
          "color": "maroon",
          "size": 8
         },
         "mode": "markers+lines",
         "name": "MotionKitchen.csv",
         "showlegend": false,
         "type": "scatter",
         "x": [
          "2023-09-30T08:22:12.510000",
          "2023-09-30T08:23:42.448000"
         ],
         "y": [
          "MotionKitchen.csv",
          "MotionKitchen.csv"
         ]
        },
        {
         "line": {
          "color": "darkgoldenrod",
          "width": 1
         },
         "marker": {
          "color": "darkgoldenrod",
          "size": 8
         },
         "mode": "markers+lines",
         "name": "MotionLivingRoomTablet.csv",
         "showlegend": false,
         "type": "scatter",
         "x": [
          "2023-09-30T08:22:17.401000",
          "2023-09-30T08:22:49.408000"
         ],
         "y": [
          "MotionLivingRoomTablet.csv",
          "MotionLivingRoomTablet.csv"
         ]
        },
        {
         "line": {
          "color": "khaki",
          "width": 1
         },
         "marker": {
          "color": "khaki",
          "size": 8
         },
         "mode": "markers+lines",
         "name": "MotionLivingRoomSofa.csv",
         "showlegend": false,
         "type": "scatter",
         "x": [
          "2023-09-30T08:28:12.175000",
          "2023-09-30T08:29:12.142000"
         ],
         "y": [
          "MotionLivingRoomSofa.csv",
          "MotionLivingRoomSofa.csv"
         ]
        },
        {
         "line": {
          "color": "khaki",
          "width": 1
         },
         "marker": {
          "color": "khaki",
          "size": 8
         },
         "mode": "markers+lines",
         "name": "MotionLivingRoomSofa.csv",
         "showlegend": false,
         "type": "scatter",
         "x": [
          "2023-09-30T08:31:24.604000",
          "2023-09-30T08:33:25.964000"
         ],
         "y": [
          "MotionLivingRoomSofa.csv",
          "MotionLivingRoomSofa.csv"
         ]
        },
        {
         "line": {
          "color": "khaki",
          "width": 1
         },
         "marker": {
          "color": "khaki",
          "size": 8
         },
         "mode": "markers+lines",
         "name": "MotionLivingRoomSofa.csv",
         "showlegend": false,
         "type": "scatter",
         "x": [
          "2023-09-30T08:35:25.251000",
          "2023-09-30T08:37:47.638000"
         ],
         "y": [
          "MotionLivingRoomSofa.csv",
          "MotionLivingRoomSofa.csv"
         ]
        },
        {
         "line": {
          "color": "magenta",
          "width": 1
         },
         "marker": {
          "color": "magenta",
          "size": 8
         },
         "mode": "markers+lines",
         "name": "PlugTvHall.csv",
         "showlegend": false,
         "type": "scatter",
         "x": [
          "2023-09-30T08:44:56.696000",
          "2023-09-30T08:46:26.403000"
         ],
         "y": [
          "PlugTvHall.csv",
          "PlugTvHall.csv"
         ]
        },
        {
         "line": {
          "color": "khaki",
          "width": 1
         },
         "marker": {
          "color": "khaki",
          "size": 8
         },
         "mode": "markers+lines",
         "name": "MotionLivingRoomSofa.csv",
         "showlegend": false,
         "type": "scatter",
         "x": [
          "2023-09-30T08:51:03.738000",
          "2023-09-30T08:52:03.729000"
         ],
         "y": [
          "MotionLivingRoomSofa.csv",
          "MotionLivingRoomSofa.csv"
         ]
        },
        {
         "line": {
          "color": "khaki",
          "width": 1
         },
         "marker": {
          "color": "khaki",
          "size": 8
         },
         "mode": "markers+lines",
         "name": "MotionLivingRoomSofa.csv",
         "showlegend": false,
         "type": "scatter",
         "x": [
          "2023-09-30T09:00:56.008000",
          "2023-09-30T09:02:26.786000"
         ],
         "y": [
          "MotionLivingRoomSofa.csv",
          "MotionLivingRoomSofa.csv"
         ]
        },
        {
         "line": {
          "color": "maroon",
          "width": 1
         },
         "marker": {
          "color": "maroon",
          "size": 8
         },
         "mode": "markers+lines",
         "name": "MotionKitchen.csv",
         "showlegend": false,
         "type": "scatter",
         "x": [
          "2023-09-30T09:01:06.827000",
          "2023-09-30T09:02:06.828000"
         ],
         "y": [
          "MotionKitchen.csv",
          "MotionKitchen.csv"
         ]
        },
        {
         "line": {
          "color": "khaki",
          "width": 1
         },
         "marker": {
          "color": "khaki",
          "size": 8
         },
         "mode": "markers+lines",
         "name": "MotionLivingRoomSofa.csv",
         "showlegend": false,
         "type": "scatter",
         "x": [
          "2023-09-30T09:03:48.796000",
          "2023-09-30T09:04:48.804000"
         ],
         "y": [
          "MotionLivingRoomSofa.csv",
          "MotionLivingRoomSofa.csv"
         ]
        },
        {
         "line": {
          "color": "khaki",
          "width": 1
         },
         "marker": {
          "color": "khaki",
          "size": 8
         },
         "mode": "markers+lines",
         "name": "MotionLivingRoomSofa.csv",
         "showlegend": false,
         "type": "scatter",
         "x": [
          "2023-09-30T09:20:37.095000",
          "2023-09-30T09:22:26.944000"
         ],
         "y": [
          "MotionLivingRoomSofa.csv",
          "MotionLivingRoomSofa.csv"
         ]
        },
        {
         "line": {
          "color": "maroon",
          "width": 1
         },
         "marker": {
          "color": "maroon",
          "size": 8
         },
         "mode": "markers+lines",
         "name": "MotionKitchen.csv",
         "showlegend": false,
         "type": "scatter",
         "x": [
          "2023-09-30T09:21:05.841000",
          "2023-09-30T09:22:05.836000"
         ],
         "y": [
          "MotionKitchen.csv",
          "MotionKitchen.csv"
         ]
        },
        {
         "line": {
          "color": "maroon",
          "width": 1
         },
         "marker": {
          "color": "maroon",
          "size": 8
         },
         "mode": "markers+lines",
         "name": "MotionKitchen.csv",
         "showlegend": false,
         "type": "scatter",
         "x": [
          "2023-09-30T09:22:33.006000",
          "2023-09-30T09:23:32.999000"
         ],
         "y": [
          "MotionKitchen.csv",
          "MotionKitchen.csv"
         ]
        },
        {
         "line": {
          "color": "maroon",
          "width": 1
         },
         "marker": {
          "color": "maroon",
          "size": 8
         },
         "mode": "markers+lines",
         "name": "MotionKitchen.csv",
         "showlegend": false,
         "type": "scatter",
         "x": [
          "2023-09-30T09:24:25.994000",
          "2023-09-30T09:25:25.995000"
         ],
         "y": [
          "MotionKitchen.csv",
          "MotionKitchen.csv"
         ]
        },
        {
         "line": {
          "color": "maroon",
          "width": 1
         },
         "marker": {
          "color": "maroon",
          "size": 8
         },
         "mode": "markers+lines",
         "name": "MotionKitchen.csv",
         "showlegend": false,
         "type": "scatter",
         "x": [
          "2023-09-30T09:25:29.426000",
          "2023-09-30T09:27:48.334000"
         ],
         "y": [
          "MotionKitchen.csv",
          "MotionKitchen.csv"
         ]
        },
        {
         "line": {
          "color": "khaki",
          "width": 1
         },
         "marker": {
          "color": "khaki",
          "size": 8
         },
         "mode": "markers+lines",
         "name": "MotionLivingRoomSofa.csv",
         "showlegend": false,
         "type": "scatter",
         "x": [
          "2023-09-30T09:29:16.917000",
          "2023-09-30T09:30:16.912000"
         ],
         "y": [
          "MotionLivingRoomSofa.csv",
          "MotionLivingRoomSofa.csv"
         ]
        },
        {
         "line": {
          "color": "khaki",
          "width": 1
         },
         "marker": {
          "color": "khaki",
          "size": 8
         },
         "mode": "markers+lines",
         "name": "MotionLivingRoomSofa.csv",
         "showlegend": false,
         "type": "scatter",
         "x": [
          "2023-09-30T09:37:34.129000",
          "2023-09-30T09:38:34.129000"
         ],
         "y": [
          "MotionLivingRoomSofa.csv",
          "MotionLivingRoomSofa.csv"
         ]
        },
        {
         "line": {
          "color": "purple",
          "width": 1
         },
         "marker": {
          "color": "purple",
          "size": 8
         },
         "mode": "markers+lines",
         "name": "MotionBedroom.csv",
         "showlegend": false,
         "type": "scatter",
         "x": [
          "2023-09-30T09:37:38.235000",
          "2023-09-30T09:39:02.418000"
         ],
         "y": [
          "MotionBedroom.csv",
          "MotionBedroom.csv"
         ]
        },
        {
         "line": {
          "color": "khaki",
          "width": 1
         },
         "marker": {
          "color": "khaki",
          "size": 8
         },
         "mode": "markers+lines",
         "name": "MotionLivingRoomSofa.csv",
         "showlegend": false,
         "type": "scatter",
         "x": [
          "2023-09-30T09:42:06.553000",
          "2023-09-30T09:43:06.535000"
         ],
         "y": [
          "MotionLivingRoomSofa.csv",
          "MotionLivingRoomSofa.csv"
         ]
        },
        {
         "line": {
          "color": "purple",
          "width": 1
         },
         "marker": {
          "color": "purple",
          "size": 8
         },
         "mode": "markers+lines",
         "name": "MotionBedroom.csv",
         "showlegend": false,
         "type": "scatter",
         "x": [
          "2023-09-30T09:42:08.905000",
          "2023-09-30T09:43:15.280000"
         ],
         "y": [
          "MotionBedroom.csv",
          "MotionBedroom.csv"
         ]
        },
        {
         "line": {
          "color": "khaki",
          "width": 1
         },
         "marker": {
          "color": "khaki",
          "size": 8
         },
         "mode": "markers+lines",
         "name": "MotionLivingRoomSofa.csv",
         "showlegend": false,
         "type": "scatter",
         "x": [
          "2023-09-30T09:45:59.973000",
          "2023-09-30T09:46:59.973000"
         ],
         "y": [
          "MotionLivingRoomSofa.csv",
          "MotionLivingRoomSofa.csv"
         ]
        },
        {
         "line": {
          "color": "purple",
          "width": 1
         },
         "marker": {
          "color": "purple",
          "size": 8
         },
         "mode": "markers+lines",
         "name": "MotionBedroom.csv",
         "showlegend": false,
         "type": "scatter",
         "x": [
          "2023-09-30T09:46:02.092000",
          "2023-09-30T09:47:14.077000"
         ],
         "y": [
          "MotionBedroom.csv",
          "MotionBedroom.csv"
         ]
        },
        {
         "line": {
          "color": "khaki",
          "width": 1
         },
         "marker": {
          "color": "khaki",
          "size": 8
         },
         "mode": "markers+lines",
         "name": "MotionLivingRoomSofa.csv",
         "showlegend": false,
         "type": "scatter",
         "x": [
          "2023-09-30T09:48:56.182000",
          "2023-09-30T09:49:56.172000"
         ],
         "y": [
          "MotionLivingRoomSofa.csv",
          "MotionLivingRoomSofa.csv"
         ]
        },
        {
         "line": {
          "color": "purple",
          "width": 1
         },
         "marker": {
          "color": "purple",
          "size": 8
         },
         "mode": "markers+lines",
         "name": "MotionBedroom.csv",
         "showlegend": false,
         "type": "scatter",
         "x": [
          "2023-09-30T09:48:58.373000",
          "2023-09-30T09:50:11.475000"
         ],
         "y": [
          "MotionBedroom.csv",
          "MotionBedroom.csv"
         ]
        },
        {
         "line": {
          "color": "magenta",
          "width": 1
         },
         "marker": {
          "color": "magenta",
          "size": 8
         },
         "mode": "markers+lines",
         "name": "PlugTvHall.csv",
         "showlegend": false,
         "type": "scatter",
         "x": [
          "2023-09-30T09:51:31.873000",
          "2023-09-30T09:52:01.369000"
         ],
         "y": [
          "PlugTvHall.csv",
          "PlugTvHall.csv"
         ]
        },
        {
         "line": {
          "color": "magenta",
          "width": 1
         },
         "marker": {
          "color": "magenta",
          "size": 8
         },
         "mode": "markers+lines",
         "name": "PlugTvHall.csv",
         "showlegend": false,
         "type": "scatter",
         "x": [
          "2023-09-30T09:54:01.447000",
          "2023-09-30T09:54:31.353000"
         ],
         "y": [
          "PlugTvHall.csv",
          "PlugTvHall.csv"
         ]
        },
        {
         "line": {
          "color": "khaki",
          "width": 1
         },
         "marker": {
          "color": "khaki",
          "size": 8
         },
         "mode": "markers+lines",
         "name": "MotionLivingRoomSofa.csv",
         "showlegend": false,
         "type": "scatter",
         "x": [
          "2023-09-30T09:55:33.965000",
          "2023-09-30T09:57:07.228000"
         ],
         "y": [
          "MotionLivingRoomSofa.csv",
          "MotionLivingRoomSofa.csv"
         ]
        },
        {
         "line": {
          "color": "purple",
          "width": 1
         },
         "marker": {
          "color": "purple",
          "size": 8
         },
         "mode": "markers+lines",
         "name": "MotionBedroom.csv",
         "showlegend": false,
         "type": "scatter",
         "x": [
          "2023-09-30T09:55:36.656000",
          "2023-09-30T09:57:10.584000"
         ],
         "y": [
          "MotionBedroom.csv",
          "MotionBedroom.csv"
         ]
        },
        {
         "line": {
          "color": "khaki",
          "width": 1
         },
         "marker": {
          "color": "khaki",
          "size": 8
         },
         "mode": "markers+lines",
         "name": "MotionLivingRoomSofa.csv",
         "showlegend": false,
         "type": "scatter",
         "x": [
          "2023-09-30T10:01:49.176000",
          "2023-09-30T10:03:31.491000"
         ],
         "y": [
          "MotionLivingRoomSofa.csv",
          "MotionLivingRoomSofa.csv"
         ]
        },
        {
         "line": {
          "color": "purple",
          "width": 1
         },
         "marker": {
          "color": "purple",
          "size": 8
         },
         "mode": "markers+lines",
         "name": "MotionBedroom.csv",
         "showlegend": false,
         "type": "scatter",
         "x": [
          "2023-09-30T10:01:51.440000",
          "2023-09-30T10:03:34.334000"
         ],
         "y": [
          "MotionBedroom.csv",
          "MotionBedroom.csv"
         ]
        },
        {
         "line": {
          "color": "khaki",
          "width": 1
         },
         "marker": {
          "color": "khaki",
          "size": 8
         },
         "mode": "markers+lines",
         "name": "MotionLivingRoomSofa.csv",
         "showlegend": false,
         "type": "scatter",
         "x": [
          "2023-09-30T10:05:18.523000",
          "2023-09-30T10:06:18.526000"
         ],
         "y": [
          "MotionLivingRoomSofa.csv",
          "MotionLivingRoomSofa.csv"
         ]
        },
        {
         "line": {
          "color": "purple",
          "width": 1
         },
         "marker": {
          "color": "purple",
          "size": 8
         },
         "mode": "markers+lines",
         "name": "MotionBedroom.csv",
         "showlegend": false,
         "type": "scatter",
         "x": [
          "2023-09-30T10:05:21.037000",
          "2023-09-30T10:06:47.642000"
         ],
         "y": [
          "MotionBedroom.csv",
          "MotionBedroom.csv"
         ]
        },
        {
         "line": {
          "color": "maroon",
          "width": 1
         },
         "marker": {
          "color": "maroon",
          "size": 8
         },
         "mode": "markers+lines",
         "name": "MotionKitchen.csv",
         "showlegend": false,
         "type": "scatter",
         "x": [
          "2023-09-30T10:06:08.067000",
          "2023-09-30T10:07:37.925000"
         ],
         "y": [
          "MotionKitchen.csv",
          "MotionKitchen.csv"
         ]
        },
        {
         "line": {
          "color": "khaki",
          "width": 1
         },
         "marker": {
          "color": "khaki",
          "size": 8
         },
         "mode": "markers+lines",
         "name": "MotionLivingRoomSofa.csv",
         "showlegend": false,
         "type": "scatter",
         "x": [
          "2023-09-30T10:07:50.468000",
          "2023-09-30T10:08:50.461000"
         ],
         "y": [
          "MotionLivingRoomSofa.csv",
          "MotionLivingRoomSofa.csv"
         ]
        },
        {
         "line": {
          "color": "purple",
          "width": 1
         },
         "marker": {
          "color": "purple",
          "size": 8
         },
         "mode": "markers+lines",
         "name": "MotionBedroom.csv",
         "showlegend": false,
         "type": "scatter",
         "x": [
          "2023-09-30T10:07:52.155000",
          "2023-09-30T10:08:54.871000"
         ],
         "y": [
          "MotionBedroom.csv",
          "MotionBedroom.csv"
         ]
        },
        {
         "line": {
          "color": "khaki",
          "width": 1
         },
         "marker": {
          "color": "khaki",
          "size": 8
         },
         "mode": "markers+lines",
         "name": "MotionLivingRoomSofa.csv",
         "showlegend": false,
         "type": "scatter",
         "x": [
          "2023-09-30T10:09:58.069000",
          "2023-09-30T10:10:58.063000"
         ],
         "y": [
          "MotionLivingRoomSofa.csv",
          "MotionLivingRoomSofa.csv"
         ]
        },
        {
         "line": {
          "color": "purple",
          "width": 1
         },
         "marker": {
          "color": "purple",
          "size": 8
         },
         "mode": "markers+lines",
         "name": "MotionBedroom.csv",
         "showlegend": false,
         "type": "scatter",
         "x": [
          "2023-09-30T10:09:59.967000",
          "2023-09-30T10:11:18.039000"
         ],
         "y": [
          "MotionBedroom.csv",
          "MotionBedroom.csv"
         ]
        },
        {
         "line": {
          "color": "khaki",
          "width": 1
         },
         "marker": {
          "color": "khaki",
          "size": 8
         },
         "mode": "markers+lines",
         "name": "MotionLivingRoomSofa.csv",
         "showlegend": false,
         "type": "scatter",
         "x": [
          "2023-09-30T10:12:00.380000",
          "2023-09-30T10:14:23.829000"
         ],
         "y": [
          "MotionLivingRoomSofa.csv",
          "MotionLivingRoomSofa.csv"
         ]
        },
        {
         "line": {
          "color": "purple",
          "width": 1
         },
         "marker": {
          "color": "purple",
          "size": 8
         },
         "mode": "markers+lines",
         "name": "MotionBedroom.csv",
         "showlegend": false,
         "type": "scatter",
         "x": [
          "2023-09-30T10:12:02.230000",
          "2023-09-30T10:14:27.204000"
         ],
         "y": [
          "MotionBedroom.csv",
          "MotionBedroom.csv"
         ]
        },
        {
         "line": {
          "color": "maroon",
          "width": 1
         },
         "marker": {
          "color": "maroon",
          "size": 8
         },
         "mode": "markers+lines",
         "name": "MotionKitchen.csv",
         "showlegend": false,
         "type": "scatter",
         "x": [
          "2023-09-30T10:14:42.791000",
          "2023-09-30T10:17:27.775000"
         ],
         "y": [
          "MotionKitchen.csv",
          "MotionKitchen.csv"
         ]
        },
        {
         "line": {
          "color": "khaki",
          "width": 1
         },
         "marker": {
          "color": "khaki",
          "size": 8
         },
         "mode": "markers+lines",
         "name": "MotionLivingRoomSofa.csv",
         "showlegend": false,
         "type": "scatter",
         "x": [
          "2023-09-30T10:16:47.267000",
          "2023-09-30T10:18:23.704000"
         ],
         "y": [
          "MotionLivingRoomSofa.csv",
          "MotionLivingRoomSofa.csv"
         ]
        },
        {
         "line": {
          "color": "purple",
          "width": 1
         },
         "marker": {
          "color": "purple",
          "size": 8
         },
         "mode": "markers+lines",
         "name": "MotionBedroom.csv",
         "showlegend": false,
         "type": "scatter",
         "x": [
          "2023-09-30T10:16:48.868000",
          "2023-09-30T10:18:26.637000"
         ],
         "y": [
          "MotionBedroom.csv",
          "MotionBedroom.csv"
         ]
        },
        {
         "line": {
          "color": "maroon",
          "width": 1
         },
         "marker": {
          "color": "maroon",
          "size": 8
         },
         "mode": "markers+lines",
         "name": "MotionKitchen.csv",
         "showlegend": false,
         "type": "scatter",
         "x": [
          "2023-09-30T10:17:43.685000",
          "2023-09-30T10:18:43.670000"
         ],
         "y": [
          "MotionKitchen.csv",
          "MotionKitchen.csv"
         ]
        },
        {
         "line": {
          "color": "maroon",
          "width": 1
         },
         "marker": {
          "color": "maroon",
          "size": 8
         },
         "mode": "markers+lines",
         "name": "MotionKitchen.csv",
         "showlegend": false,
         "type": "scatter",
         "x": [
          "2023-09-30T10:20:22.220000",
          "2023-09-30T10:21:22.234000"
         ],
         "y": [
          "MotionKitchen.csv",
          "MotionKitchen.csv"
         ]
        },
        {
         "line": {
          "color": "pink",
          "width": 1
         },
         "marker": {
          "color": "pink",
          "size": 8
         },
         "mode": "markers+lines",
         "name": "HouseEntrance.csv",
         "showlegend": false,
         "type": "scatter",
         "x": [
          "2023-09-30T10:20:37.309000",
          "2023-09-30T10:20:41.537000"
         ],
         "y": [
          "HouseEntrance.csv",
          "HouseEntrance.csv"
         ]
        },
        {
         "line": {
          "color": "magenta",
          "width": 1
         },
         "marker": {
          "color": "magenta",
          "size": 8
         },
         "mode": "markers+lines",
         "name": "PlugTvHall.csv",
         "showlegend": false,
         "type": "scatter",
         "x": [
          "2023-09-30T10:21:31.363000",
          "2023-09-30T10:22:01.365000"
         ],
         "y": [
          "PlugTvHall.csv",
          "PlugTvHall.csv"
         ]
        },
        {
         "line": {
          "color": "pink",
          "width": 1
         },
         "marker": {
          "color": "pink",
          "size": 8
         },
         "mode": "markers+lines",
         "name": "HouseEntrance.csv",
         "showlegend": false,
         "type": "scatter",
         "x": [
          "2023-09-30T10:22:29.036000",
          "2023-09-30T10:22:34.556000"
         ],
         "y": [
          "HouseEntrance.csv",
          "HouseEntrance.csv"
         ]
        },
        {
         "line": {
          "color": "khaki",
          "width": 1
         },
         "marker": {
          "color": "khaki",
          "size": 8
         },
         "mode": "markers+lines",
         "name": "MotionLivingRoomSofa.csv",
         "showlegend": false,
         "type": "scatter",
         "x": [
          "2023-09-30T10:22:44.614000",
          "2023-09-30T10:26:12.150000"
         ],
         "y": [
          "MotionLivingRoomSofa.csv",
          "MotionLivingRoomSofa.csv"
         ]
        },
        {
         "line": {
          "color": "purple",
          "width": 1
         },
         "marker": {
          "color": "purple",
          "size": 8
         },
         "mode": "markers+lines",
         "name": "MotionBedroom.csv",
         "showlegend": false,
         "type": "scatter",
         "x": [
          "2023-09-30T10:22:46.259000",
          "2023-09-30T10:24:23.496000"
         ],
         "y": [
          "MotionBedroom.csv",
          "MotionBedroom.csv"
         ]
        },
        {
         "line": {
          "color": "magenta",
          "width": 1
         },
         "marker": {
          "color": "magenta",
          "size": 8
         },
         "mode": "markers+lines",
         "name": "PlugTvHall.csv",
         "showlegend": false,
         "type": "scatter",
         "x": [
          "2023-09-30T10:23:01.352000",
          "2023-09-30T10:26:01.371000"
         ],
         "y": [
          "PlugTvHall.csv",
          "PlugTvHall.csv"
         ]
        },
        {
         "line": {
          "color": "pink",
          "width": 1
         },
         "marker": {
          "color": "pink",
          "size": 8
         },
         "mode": "markers+lines",
         "name": "HouseEntrance.csv",
         "showlegend": false,
         "type": "scatter",
         "x": [
          "2023-09-30T10:23:15.362000",
          "2023-09-30T10:28:50.202000"
         ],
         "y": [
          "HouseEntrance.csv",
          "HouseEntrance.csv"
         ]
        },
        {
         "line": {
          "color": "darkgoldenrod",
          "width": 1
         },
         "marker": {
          "color": "darkgoldenrod",
          "size": 8
         },
         "mode": "markers+lines",
         "name": "MotionLivingRoomTablet.csv",
         "showlegend": false,
         "type": "scatter",
         "x": [
          "2023-09-30T10:23:29.783000",
          "2023-09-30T10:24:01.784000"
         ],
         "y": [
          "MotionLivingRoomTablet.csv",
          "MotionLivingRoomTablet.csv"
         ]
        },
        {
         "line": {
          "color": "purple",
          "width": 1
         },
         "marker": {
          "color": "purple",
          "size": 8
         },
         "mode": "markers+lines",
         "name": "MotionBedroom.csv",
         "showlegend": false,
         "type": "scatter",
         "x": [
          "2023-09-30T10:24:42.274000",
          "2023-09-30T10:26:15.284000"
         ],
         "y": [
          "MotionBedroom.csv",
          "MotionBedroom.csv"
         ]
        },
        {
         "line": {
          "color": "khaki",
          "width": 1
         },
         "marker": {
          "color": "khaki",
          "size": 8
         },
         "mode": "markers+lines",
         "name": "MotionLivingRoomSofa.csv",
         "showlegend": false,
         "type": "scatter",
         "x": [
          "2023-09-30T10:26:35.421000",
          "2023-09-30T10:28:12.721000"
         ],
         "y": [
          "MotionLivingRoomSofa.csv",
          "MotionLivingRoomSofa.csv"
         ]
        },
        {
         "line": {
          "color": "purple",
          "width": 1
         },
         "marker": {
          "color": "purple",
          "size": 8
         },
         "mode": "markers+lines",
         "name": "MotionBedroom.csv",
         "showlegend": false,
         "type": "scatter",
         "x": [
          "2023-09-30T10:26:39.763000",
          "2023-09-30T10:31:22.805000"
         ],
         "y": [
          "MotionBedroom.csv",
          "MotionBedroom.csv"
         ]
        },
        {
         "line": {
          "color": "maroon",
          "width": 1
         },
         "marker": {
          "color": "maroon",
          "size": 8
         },
         "mode": "markers+lines",
         "name": "MotionKitchen.csv",
         "showlegend": false,
         "type": "scatter",
         "x": [
          "2023-09-30T10:29:07.832000",
          "2023-09-30T10:30:07.832000"
         ],
         "y": [
          "MotionKitchen.csv",
          "MotionKitchen.csv"
         ]
        },
        {
         "line": {
          "color": "khaki",
          "width": 1
         },
         "marker": {
          "color": "khaki",
          "size": 8
         },
         "mode": "markers+lines",
         "name": "MotionLivingRoomSofa.csv",
         "showlegend": false,
         "type": "scatter",
         "x": [
          "2023-09-30T10:30:19.905000",
          "2023-09-30T10:31:19.920000"
         ],
         "y": [
          "MotionLivingRoomSofa.csv",
          "MotionLivingRoomSofa.csv"
         ]
        },
        {
         "line": {
          "color": "maroon",
          "width": 1
         },
         "marker": {
          "color": "maroon",
          "size": 8
         },
         "mode": "markers+lines",
         "name": "MotionKitchen.csv",
         "showlegend": false,
         "type": "scatter",
         "x": [
          "2023-09-30T10:31:01.893000",
          "2023-09-30T10:33:26.587000"
         ],
         "y": [
          "MotionKitchen.csv",
          "MotionKitchen.csv"
         ]
        },
        {
         "line": {
          "color": "aqua",
          "width": 1
         },
         "marker": {
          "color": "aqua",
          "size": 8
         },
         "mode": "markers+lines",
         "name": "FoodStorageLivingRoom.csv",
         "showlegend": false,
         "type": "scatter",
         "x": [
          "2023-09-30T10:31:42.618000",
          "2023-09-30T10:33:11.898000"
         ],
         "y": [
          "FoodStorageLivingRoom.csv",
          "FoodStorageLivingRoom.csv"
         ]
        },
        {
         "line": {
          "color": "goldenrod",
          "width": 1
         },
         "marker": {
          "color": "goldenrod",
          "size": 8
         },
         "mode": "markers+lines",
         "name": "FoodStorageKitchen.csv",
         "showlegend": false,
         "type": "scatter",
         "x": [
          "2023-09-30T10:32:02.783000",
          "2023-09-30T10:32:05.791000"
         ],
         "y": [
          "FoodStorageKitchen.csv",
          "FoodStorageKitchen.csv"
         ]
        },
        {
         "line": {
          "color": "darkgoldenrod",
          "width": 1
         },
         "marker": {
          "color": "darkgoldenrod",
          "size": 8
         },
         "mode": "markers+lines",
         "name": "MotionLivingRoomTablet.csv",
         "showlegend": false,
         "type": "scatter",
         "x": [
          "2023-09-30T10:32:49.767000",
          "2023-09-30T10:33:21.764000"
         ],
         "y": [
          "MotionLivingRoomTablet.csv",
          "MotionLivingRoomTablet.csv"
         ]
        },
        {
         "line": {
          "color": "aqua",
          "width": 1
         },
         "marker": {
          "color": "aqua",
          "size": 8
         },
         "mode": "markers+lines",
         "name": "FoodStorageLivingRoom.csv",
         "showlegend": false,
         "type": "scatter",
         "x": [
          "2023-09-30T10:33:12.381000",
          "2023-09-30T10:33:13.687000"
         ],
         "y": [
          "FoodStorageLivingRoom.csv",
          "FoodStorageLivingRoom.csv"
         ]
        },
        {
         "line": {
          "color": "pink",
          "width": 1
         },
         "marker": {
          "color": "pink",
          "size": 8
         },
         "mode": "markers+lines",
         "name": "HouseEntrance.csv",
         "showlegend": false,
         "type": "scatter",
         "x": [
          "2023-09-30T10:33:19.668000",
          "2023-09-30T10:33:56.661000"
         ],
         "y": [
          "HouseEntrance.csv",
          "HouseEntrance.csv"
         ]
        },
        {
         "line": {
          "color": "pink",
          "width": 1
         },
         "marker": {
          "color": "pink",
          "size": 8
         },
         "mode": "markers+lines",
         "name": "HouseEntrance.csv",
         "showlegend": false,
         "type": "scatter",
         "x": [
          "2023-09-30T10:34:28.003000",
          "2023-09-30T10:35:11.544000"
         ],
         "y": [
          "HouseEntrance.csv",
          "HouseEntrance.csv"
         ]
        },
        {
         "line": {
          "color": "khaki",
          "width": 1
         },
         "marker": {
          "color": "khaki",
          "size": 8
         },
         "mode": "markers+lines",
         "name": "MotionLivingRoomSofa.csv",
         "showlegend": false,
         "type": "scatter",
         "x": [
          "2023-09-30T10:34:45.004000",
          "2023-09-30T10:35:44.999000"
         ],
         "y": [
          "MotionLivingRoomSofa.csv",
          "MotionLivingRoomSofa.csv"
         ]
        },
        {
         "line": {
          "color": "darkgoldenrod",
          "width": 1
         },
         "marker": {
          "color": "darkgoldenrod",
          "size": 8
         },
         "mode": "markers+lines",
         "name": "MotionLivingRoomTablet.csv",
         "showlegend": false,
         "type": "scatter",
         "x": [
          "2023-09-30T10:35:51.472000",
          "2023-09-30T10:36:23.490000"
         ],
         "y": [
          "MotionLivingRoomTablet.csv",
          "MotionLivingRoomTablet.csv"
         ]
        },
        {
         "line": {
          "color": "darkgoldenrod",
          "width": 1
         },
         "marker": {
          "color": "darkgoldenrod",
          "size": 8
         },
         "mode": "markers+lines",
         "name": "MotionLivingRoomTablet.csv",
         "showlegend": false,
         "type": "scatter",
         "x": [
          "2023-09-30T10:36:47.793000",
          "2023-09-30T10:37:19.773000"
         ],
         "y": [
          "MotionLivingRoomTablet.csv",
          "MotionLivingRoomTablet.csv"
         ]
        },
        {
         "line": {
          "color": "khaki",
          "width": 1
         },
         "marker": {
          "color": "khaki",
          "size": 8
         },
         "mode": "markers+lines",
         "name": "MotionLivingRoomSofa.csv",
         "showlegend": false,
         "type": "scatter",
         "x": [
          "2023-09-30T10:37:15.559000",
          "2023-09-30T10:38:15.558000"
         ],
         "y": [
          "MotionLivingRoomSofa.csv",
          "MotionLivingRoomSofa.csv"
         ]
        },
        {
         "line": {
          "color": "purple",
          "width": 1
         },
         "marker": {
          "color": "purple",
          "size": 8
         },
         "mode": "markers+lines",
         "name": "MotionBedroom.csv",
         "showlegend": false,
         "type": "scatter",
         "x": [
          "2023-09-30T10:37:19.866000",
          "2023-09-30T10:39:21.663000"
         ],
         "y": [
          "MotionBedroom.csv",
          "MotionBedroom.csv"
         ]
        },
        {
         "line": {
          "color": "khaki",
          "width": 1
         },
         "marker": {
          "color": "khaki",
          "size": 8
         },
         "mode": "markers+lines",
         "name": "MotionLivingRoomSofa.csv",
         "showlegend": false,
         "type": "scatter",
         "x": [
          "2023-09-30T10:38:24.399000",
          "2023-09-30T10:39:24.407000"
         ],
         "y": [
          "MotionLivingRoomSofa.csv",
          "MotionLivingRoomSofa.csv"
         ]
        },
        {
         "line": {
          "color": "magenta",
          "width": 1
         },
         "marker": {
          "color": "magenta",
          "size": 8
         },
         "mode": "markers+lines",
         "name": "PlugTvHall.csv",
         "showlegend": false,
         "type": "scatter",
         "x": [
          "2023-09-30T10:55:31.433000",
          "2023-09-30T11:31:01.563000"
         ],
         "y": [
          "PlugTvHall.csv",
          "PlugTvHall.csv"
         ]
        },
        {
         "line": {
          "color": "pink",
          "width": 1
         },
         "marker": {
          "color": "pink",
          "size": 8
         },
         "mode": "markers+lines",
         "name": "HouseEntrance.csv",
         "showlegend": false,
         "type": "scatter",
         "x": [
          "2023-09-30T12:01:53.131000",
          "2023-09-30T12:02:13.080000"
         ],
         "y": [
          "HouseEntrance.csv",
          "HouseEntrance.csv"
         ]
        },
        {
         "line": {
          "color": "khaki",
          "width": 1
         },
         "marker": {
          "color": "khaki",
          "size": 8
         },
         "mode": "markers+lines",
         "name": "MotionLivingRoomSofa.csv",
         "showlegend": false,
         "type": "scatter",
         "x": [
          "2023-09-30T12:02:53.428000",
          "2023-09-30T12:03:53.436000"
         ],
         "y": [
          "MotionLivingRoomSofa.csv",
          "MotionLivingRoomSofa.csv"
         ]
        },
        {
         "line": {
          "color": "purple",
          "width": 1
         },
         "marker": {
          "color": "purple",
          "size": 8
         },
         "mode": "markers+lines",
         "name": "MotionBedroom.csv",
         "showlegend": false,
         "type": "scatter",
         "x": [
          "2023-09-30T12:02:56.097000",
          "2023-09-30T12:04:15.419000"
         ],
         "y": [
          "MotionBedroom.csv",
          "MotionBedroom.csv"
         ]
        },
        {
         "line": {
          "color": "maroon",
          "width": 1
         },
         "marker": {
          "color": "maroon",
          "size": 8
         },
         "mode": "markers+lines",
         "name": "MotionKitchen.csv",
         "showlegend": false,
         "type": "scatter",
         "x": [
          "2023-09-30T12:04:41.255000",
          "2023-09-30T12:09:19.645000"
         ],
         "y": [
          "MotionKitchen.csv",
          "MotionKitchen.csv"
         ]
        },
        {
         "line": {
          "color": "orange",
          "width": 1
         },
         "marker": {
          "color": "orange",
          "size": 8
         },
         "mode": "markers+lines",
         "name": "Refrigerator.csv",
         "showlegend": false,
         "type": "scatter",
         "x": [
          "2023-09-30T12:05:03.112000",
          "2023-09-30T12:06:19.253000"
         ],
         "y": [
          "Refrigerator.csv",
          "Refrigerator.csv"
         ]
        },
        {
         "line": {
          "color": "orange",
          "width": 1
         },
         "marker": {
          "color": "orange",
          "size": 8
         },
         "mode": "markers+lines",
         "name": "Refrigerator.csv",
         "showlegend": false,
         "type": "scatter",
         "x": [
          "2023-09-30T12:07:24.704000",
          "2023-09-30T12:07:31.009000"
         ],
         "y": [
          "Refrigerator.csv",
          "Refrigerator.csv"
         ]
        },
        {
         "line": {
          "color": "gray",
          "width": 1
         },
         "marker": {
          "color": "gray",
          "size": 8
         },
         "mode": "markers+lines",
         "name": "Microwave.csv",
         "showlegend": false,
         "type": "scatter",
         "x": [
          "2023-09-30T12:08:11.450000",
          "2023-09-30T12:08:42.253000"
         ],
         "y": [
          "Microwave.csv",
          "Microwave.csv"
         ]
        },
        {
         "line": {
          "color": "gray",
          "width": 1
         },
         "marker": {
          "color": "gray",
          "size": 8
         },
         "mode": "markers+lines",
         "name": "Microwave.csv",
         "showlegend": false,
         "type": "scatter",
         "x": [
          "2023-09-30T12:09:13.265000",
          "2023-09-30T12:09:43.660000"
         ],
         "y": [
          "Microwave.csv",
          "Microwave.csv"
         ]
        },
        {
         "line": {
          "color": "maroon",
          "width": 1
         },
         "marker": {
          "color": "maroon",
          "size": 8
         },
         "mode": "markers+lines",
         "name": "MotionKitchen.csv",
         "showlegend": false,
         "type": "scatter",
         "x": [
          "2023-09-30T12:09:25.610000",
          "2023-09-30T12:11:49.357000"
         ],
         "y": [
          "MotionKitchen.csv",
          "MotionKitchen.csv"
         ]
        },
        {
         "line": {
          "color": "orange",
          "width": 1
         },
         "marker": {
          "color": "orange",
          "size": 8
         },
         "mode": "markers+lines",
         "name": "Refrigerator.csv",
         "showlegend": false,
         "type": "scatter",
         "x": [
          "2023-09-30T12:09:54.216000",
          "2023-09-30T12:10:05.173000"
         ],
         "y": [
          "Refrigerator.csv",
          "Refrigerator.csv"
         ]
        },
        {
         "line": {
          "color": "maroon",
          "width": 1
         },
         "marker": {
          "color": "maroon",
          "size": 8
         },
         "mode": "markers+lines",
         "name": "MotionKitchen.csv",
         "showlegend": false,
         "type": "scatter",
         "x": [
          "2023-09-30T12:12:15.247000",
          "2023-09-30T12:21:38.361000"
         ],
         "y": [
          "MotionKitchen.csv",
          "MotionKitchen.csv"
         ]
        },
        {
         "line": {
          "color": "orange",
          "width": 1
         },
         "marker": {
          "color": "orange",
          "size": 8
         },
         "mode": "markers+lines",
         "name": "Refrigerator.csv",
         "showlegend": false,
         "type": "scatter",
         "x": [
          "2023-09-30T12:13:10.518000",
          "2023-09-30T12:13:17.187000"
         ],
         "y": [
          "Refrigerator.csv",
          "Refrigerator.csv"
         ]
        },
        {
         "line": {
          "color": "orange",
          "width": 1
         },
         "marker": {
          "color": "orange",
          "size": 8
         },
         "mode": "markers+lines",
         "name": "Refrigerator.csv",
         "showlegend": false,
         "type": "scatter",
         "x": [
          "2023-09-30T12:19:48.836000",
          "2023-09-30T12:19:54.285000"
         ],
         "y": [
          "Refrigerator.csv",
          "Refrigerator.csv"
         ]
        },
        {
         "line": {
          "color": "maroon",
          "width": 1
         },
         "marker": {
          "color": "maroon",
          "size": 8
         },
         "mode": "markers+lines",
         "name": "MotionKitchen.csv",
         "showlegend": false,
         "type": "scatter",
         "x": [
          "2023-09-30T12:21:39.641000",
          "2023-09-30T12:22:39.666000"
         ],
         "y": [
          "MotionKitchen.csv",
          "MotionKitchen.csv"
         ]
        },
        {
         "line": {
          "color": "orange",
          "width": 1
         },
         "marker": {
          "color": "orange",
          "size": 8
         },
         "mode": "markers+lines",
         "name": "Refrigerator.csv",
         "showlegend": false,
         "type": "scatter",
         "x": [
          "2023-09-30T12:21:51.185000",
          "2023-09-30T12:22:04.686000"
         ],
         "y": [
          "Refrigerator.csv",
          "Refrigerator.csv"
         ]
        },
        {
         "line": {
          "color": "maroon",
          "width": 1
         },
         "marker": {
          "color": "maroon",
          "size": 8
         },
         "mode": "markers+lines",
         "name": "MotionKitchen.csv",
         "showlegend": false,
         "type": "scatter",
         "x": [
          "2023-09-30T12:22:42.884000",
          "2023-09-30T12:25:53.922000"
         ],
         "y": [
          "MotionKitchen.csv",
          "MotionKitchen.csv"
         ]
        },
        {
         "line": {
          "color": "brown",
          "width": 1
         },
         "marker": {
          "color": "brown",
          "size": 8
         },
         "mode": "markers+lines",
         "name": "Dishes_Glasses.csv",
         "showlegend": false,
         "type": "scatter",
         "x": [
          "2023-09-30T12:22:43.607000",
          "2023-09-30T12:22:48.802000"
         ],
         "y": [
          "Dishes_Glasses.csv",
          "Dishes_Glasses.csv"
         ]
        },
        {
         "line": {
          "color": "orange",
          "width": 1
         },
         "marker": {
          "color": "orange",
          "size": 8
         },
         "mode": "markers+lines",
         "name": "Refrigerator.csv",
         "showlegend": false,
         "type": "scatter",
         "x": [
          "2023-09-30T12:23:11.886000",
          "2023-09-30T12:23:23.090000"
         ],
         "y": [
          "Refrigerator.csv",
          "Refrigerator.csv"
         ]
        },
        {
         "line": {
          "color": "orange",
          "width": 1
         },
         "marker": {
          "color": "orange",
          "size": 8
         },
         "mode": "markers+lines",
         "name": "Refrigerator.csv",
         "showlegend": false,
         "type": "scatter",
         "x": [
          "2023-09-30T12:24:01.220000",
          "2023-09-30T12:24:16.937000"
         ],
         "y": [
          "Refrigerator.csv",
          "Refrigerator.csv"
         ]
        },
        {
         "line": {
          "color": "orange",
          "width": 1
         },
         "marker": {
          "color": "orange",
          "size": 8
         },
         "mode": "markers+lines",
         "name": "Refrigerator.csv",
         "showlegend": false,
         "type": "scatter",
         "x": [
          "2023-09-30T12:24:54.772000",
          "2023-09-30T12:25:11.023000"
         ],
         "y": [
          "Refrigerator.csv",
          "Refrigerator.csv"
         ]
        },
        {
         "line": {
          "color": "khaki",
          "width": 1
         },
         "marker": {
          "color": "khaki",
          "size": 8
         },
         "mode": "markers+lines",
         "name": "MotionLivingRoomSofa.csv",
         "showlegend": false,
         "type": "scatter",
         "x": [
          "2023-09-30T12:25:17.929000",
          "2023-09-30T12:26:17.956000"
         ],
         "y": [
          "MotionLivingRoomSofa.csv",
          "MotionLivingRoomSofa.csv"
         ]
        },
        {
         "line": {
          "color": "khaki",
          "width": 1
         },
         "marker": {
          "color": "khaki",
          "size": 8
         },
         "mode": "markers+lines",
         "name": "MotionLivingRoomSofa.csv",
         "showlegend": false,
         "type": "scatter",
         "x": [
          "2023-09-30T12:27:19.946000",
          "2023-09-30T12:28:19.912000"
         ],
         "y": [
          "MotionLivingRoomSofa.csv",
          "MotionLivingRoomSofa.csv"
         ]
        },
        {
         "line": {
          "color": "maroon",
          "width": 1
         },
         "marker": {
          "color": "maroon",
          "size": 8
         },
         "mode": "markers+lines",
         "name": "MotionKitchen.csv",
         "showlegend": false,
         "type": "scatter",
         "x": [
          "2023-09-30T12:27:28.883000",
          "2023-09-30T12:30:17.590000"
         ],
         "y": [
          "MotionKitchen.csv",
          "MotionKitchen.csv"
         ]
        },
        {
         "line": {
          "color": "orange",
          "width": 1
         },
         "marker": {
          "color": "orange",
          "size": 8
         },
         "mode": "markers+lines",
         "name": "Refrigerator.csv",
         "showlegend": false,
         "type": "scatter",
         "x": [
          "2023-09-30T12:28:05.065000",
          "2023-09-30T12:28:10.293000"
         ],
         "y": [
          "Refrigerator.csv",
          "Refrigerator.csv"
         ]
        },
        {
         "line": {
          "color": "orange",
          "width": 1
         },
         "marker": {
          "color": "orange",
          "size": 8
         },
         "mode": "markers+lines",
         "name": "Refrigerator.csv",
         "showlegend": false,
         "type": "scatter",
         "x": [
          "2023-09-30T12:28:34.182000",
          "2023-09-30T12:28:42.853000"
         ],
         "y": [
          "Refrigerator.csv",
          "Refrigerator.csv"
         ]
        },
        {
         "line": {
          "color": "maroon",
          "width": 1
         },
         "marker": {
          "color": "maroon",
          "size": 8
         },
         "mode": "markers+lines",
         "name": "MotionKitchen.csv",
         "showlegend": false,
         "type": "scatter",
         "x": [
          "2023-09-30T12:30:32.618000",
          "2023-09-30T12:31:32.619000"
         ],
         "y": [
          "MotionKitchen.csv",
          "MotionKitchen.csv"
         ]
        },
        {
         "line": {
          "color": "maroon",
          "width": 1
         },
         "marker": {
          "color": "maroon",
          "size": 8
         },
         "mode": "markers+lines",
         "name": "MotionKitchen.csv",
         "showlegend": false,
         "type": "scatter",
         "x": [
          "2023-09-30T12:50:46.250000",
          "2023-09-30T12:52:47.196000"
         ],
         "y": [
          "MotionKitchen.csv",
          "MotionKitchen.csv"
         ]
        },
        {
         "line": {
          "color": "maroon",
          "width": 1
         },
         "marker": {
          "color": "maroon",
          "size": 8
         },
         "mode": "markers+lines",
         "name": "MotionKitchen.csv",
         "showlegend": false,
         "type": "scatter",
         "x": [
          "2023-09-30T12:54:18.296000",
          "2023-09-30T12:55:18.296000"
         ],
         "y": [
          "MotionKitchen.csv",
          "MotionKitchen.csv"
         ]
        },
        {
         "line": {
          "color": "orange",
          "width": 1
         },
         "marker": {
          "color": "orange",
          "size": 8
         },
         "mode": "markers+lines",
         "name": "Refrigerator.csv",
         "showlegend": false,
         "type": "scatter",
         "x": [
          "2023-09-30T12:54:19.727000",
          "2023-09-30T12:54:26.178000"
         ],
         "y": [
          "Refrigerator.csv",
          "Refrigerator.csv"
         ]
        },
        {
         "line": {
          "color": "maroon",
          "width": 1
         },
         "marker": {
          "color": "maroon",
          "size": 8
         },
         "mode": "markers+lines",
         "name": "MotionKitchen.csv",
         "showlegend": false,
         "type": "scatter",
         "x": [
          "2023-09-30T12:55:38.208000",
          "2023-09-30T12:57:11.317000"
         ],
         "y": [
          "MotionKitchen.csv",
          "MotionKitchen.csv"
         ]
        },
        {
         "line": {
          "color": "maroon",
          "width": 1
         },
         "marker": {
          "color": "maroon",
          "size": 8
         },
         "mode": "markers+lines",
         "name": "MotionKitchen.csv",
         "showlegend": false,
         "type": "scatter",
         "x": [
          "2023-09-30T13:24:34.011000",
          "2023-09-30T13:26:34.028000"
         ],
         "y": [
          "MotionKitchen.csv",
          "MotionKitchen.csv"
         ]
        },
        {
         "line": {
          "color": "orange",
          "width": 1
         },
         "marker": {
          "color": "orange",
          "size": 8
         },
         "mode": "markers+lines",
         "name": "Refrigerator.csv",
         "showlegend": false,
         "type": "scatter",
         "x": [
          "2023-09-30T13:25:12.216000",
          "2023-09-30T13:25:15.598000"
         ],
         "y": [
          "Refrigerator.csv",
          "Refrigerator.csv"
         ]
        },
        {
         "line": {
          "color": "maroon",
          "width": 1
         },
         "marker": {
          "color": "maroon",
          "size": 8
         },
         "mode": "markers+lines",
         "name": "MotionKitchen.csv",
         "showlegend": false,
         "type": "scatter",
         "x": [
          "2023-09-30T13:26:44.341000",
          "2023-09-30T13:27:44.345000"
         ],
         "y": [
          "MotionKitchen.csv",
          "MotionKitchen.csv"
         ]
        },
        {
         "line": {
          "color": "brown",
          "width": 1
         },
         "marker": {
          "color": "brown",
          "size": 8
         },
         "mode": "markers+lines",
         "name": "Dishes_Glasses.csv",
         "showlegend": false,
         "type": "scatter",
         "x": [
          "2023-09-30T13:26:45.865000",
          "2023-09-30T13:26:49.068000"
         ],
         "y": [
          "Dishes_Glasses.csv",
          "Dishes_Glasses.csv"
         ]
        },
        {
         "line": {
          "color": "tan",
          "width": 1
         },
         "marker": {
          "color": "tan",
          "size": 8
         },
         "mode": "markers+lines",
         "name": "CoffeMachine.csv",
         "showlegend": false,
         "type": "scatter",
         "x": [
          "2023-09-30T13:27:11.655000",
          "2023-09-30T13:27:41.598000"
         ],
         "y": [
          "CoffeMachine.csv",
          "CoffeMachine.csv"
         ]
        },
        {
         "line": {
          "color": "maroon",
          "width": 1
         },
         "marker": {
          "color": "maroon",
          "size": 8
         },
         "mode": "markers+lines",
         "name": "MotionKitchen.csv",
         "showlegend": false,
         "type": "scatter",
         "x": [
          "2023-09-30T13:45:55.672000",
          "2023-09-30T13:46:55.659000"
         ],
         "y": [
          "MotionKitchen.csv",
          "MotionKitchen.csv"
         ]
        },
        {
         "line": {
          "color": "khaki",
          "width": 1
         },
         "marker": {
          "color": "khaki",
          "size": 8
         },
         "mode": "markers+lines",
         "name": "MotionLivingRoomSofa.csv",
         "showlegend": false,
         "type": "scatter",
         "x": [
          "2023-09-30T13:47:19.643000",
          "2023-09-30T13:50:33.298000"
         ],
         "y": [
          "MotionLivingRoomSofa.csv",
          "MotionLivingRoomSofa.csv"
         ]
        },
        {
         "line": {
          "color": "purple",
          "width": 1
         },
         "marker": {
          "color": "purple",
          "size": 8
         },
         "mode": "markers+lines",
         "name": "MotionBedroom.csv",
         "showlegend": false,
         "type": "scatter",
         "x": [
          "2023-09-30T13:47:21.698000",
          "2023-09-30T13:48:24.433000"
         ],
         "y": [
          "MotionBedroom.csv",
          "MotionBedroom.csv"
         ]
        },
        {
         "line": {
          "color": "purple",
          "width": 1
         },
         "marker": {
          "color": "purple",
          "size": 8
         },
         "mode": "markers+lines",
         "name": "MotionBedroom.csv",
         "showlegend": false,
         "type": "scatter",
         "x": [
          "2023-09-30T13:49:07.430000",
          "2023-09-30T13:50:36.117000"
         ],
         "y": [
          "MotionBedroom.csv",
          "MotionBedroom.csv"
         ]
        },
        {
         "line": {
          "color": "maroon",
          "width": 1
         },
         "marker": {
          "color": "maroon",
          "size": 8
         },
         "mode": "markers+lines",
         "name": "MotionKitchen.csv",
         "showlegend": false,
         "type": "scatter",
         "x": [
          "2023-09-30T13:50:15.029000",
          "2023-09-30T13:51:15.027000"
         ],
         "y": [
          "MotionKitchen.csv",
          "MotionKitchen.csv"
         ]
        },
        {
         "line": {
          "color": "khaki",
          "width": 1
         },
         "marker": {
          "color": "khaki",
          "size": 8
         },
         "mode": "markers+lines",
         "name": "MotionLivingRoomSofa.csv",
         "showlegend": false,
         "type": "scatter",
         "x": [
          "2023-09-30T13:52:25.049000",
          "2023-09-30T13:53:25.052000"
         ],
         "y": [
          "MotionLivingRoomSofa.csv",
          "MotionLivingRoomSofa.csv"
         ]
        },
        {
         "line": {
          "color": "khaki",
          "width": 1
         },
         "marker": {
          "color": "khaki",
          "size": 8
         },
         "mode": "markers+lines",
         "name": "MotionLivingRoomSofa.csv",
         "showlegend": false,
         "type": "scatter",
         "x": [
          "2023-09-30T14:16:14.837000",
          "2023-09-30T14:17:14.839000"
         ],
         "y": [
          "MotionLivingRoomSofa.csv",
          "MotionLivingRoomSofa.csv"
         ]
        },
        {
         "line": {
          "color": "khaki",
          "width": 1
         },
         "marker": {
          "color": "khaki",
          "size": 8
         },
         "mode": "markers+lines",
         "name": "MotionLivingRoomSofa.csv",
         "showlegend": false,
         "type": "scatter",
         "x": [
          "2023-09-30T14:52:08.891000",
          "2023-09-30T14:53:08.884000"
         ],
         "y": [
          "MotionLivingRoomSofa.csv",
          "MotionLivingRoomSofa.csv"
         ]
        },
        {
         "line": {
          "color": "khaki",
          "width": 1
         },
         "marker": {
          "color": "khaki",
          "size": 8
         },
         "mode": "markers+lines",
         "name": "MotionLivingRoomSofa.csv",
         "showlegend": false,
         "type": "scatter",
         "x": [
          "2023-09-30T14:53:36.430000",
          "2023-09-30T14:54:36.423000"
         ],
         "y": [
          "MotionLivingRoomSofa.csv",
          "MotionLivingRoomSofa.csv"
         ]
        },
        {
         "line": {
          "color": "magenta",
          "width": 1
         },
         "marker": {
          "color": "magenta",
          "size": 8
         },
         "mode": "markers+lines",
         "name": "PlugTvHall.csv",
         "showlegend": false,
         "type": "scatter",
         "x": [
          "2023-09-30T14:53:56.432000",
          "2023-09-30T14:54:26.412000"
         ],
         "y": [
          "PlugTvHall.csv",
          "PlugTvHall.csv"
         ]
        },
        {
         "line": {
          "color": "pink",
          "width": 1
         },
         "marker": {
          "color": "pink",
          "size": 8
         },
         "mode": "markers+lines",
         "name": "HouseEntrance.csv",
         "showlegend": false,
         "type": "scatter",
         "x": [
          "2023-09-30T14:54:09.592000",
          "2023-09-30T14:54:16.641000"
         ],
         "y": [
          "HouseEntrance.csv",
          "HouseEntrance.csv"
         ]
        },
        {
         "line": {
          "color": "magenta",
          "width": 1
         },
         "marker": {
          "color": "magenta",
          "size": 8
         },
         "mode": "markers+lines",
         "name": "PlugTvHall.csv",
         "showlegend": false,
         "type": "scatter",
         "x": [
          "2023-09-30T14:58:57.375000",
          "2023-09-30T15:12:27.502000"
         ],
         "y": [
          "PlugTvHall.csv",
          "PlugTvHall.csv"
         ]
        },
        {
         "line": {
          "color": "magenta",
          "width": 1
         },
         "marker": {
          "color": "magenta",
          "size": 8
         },
         "mode": "markers+lines",
         "name": "PlugTvHall.csv",
         "showlegend": false,
         "type": "scatter",
         "x": [
          "2023-09-30T15:54:58.403000",
          "2023-09-30T16:27:47.335000"
         ],
         "y": [
          "PlugTvHall.csv",
          "PlugTvHall.csv"
         ]
        },
        {
         "line": {
          "color": "magenta",
          "width": 1
         },
         "marker": {
          "color": "magenta",
          "size": 8
         },
         "mode": "markers+lines",
         "name": "PlugTvHall.csv",
         "showlegend": false,
         "type": "scatter",
         "x": [
          "2023-09-30T16:36:17.429000",
          "2023-09-30T16:48:47.317000"
         ],
         "y": [
          "PlugTvHall.csv",
          "PlugTvHall.csv"
         ]
        },
        {
         "line": {
          "color": "pink",
          "width": 1
         },
         "marker": {
          "color": "pink",
          "size": 8
         },
         "mode": "markers+lines",
         "name": "HouseEntrance.csv",
         "showlegend": false,
         "type": "scatter",
         "x": [
          "2023-09-30T16:37:08.080000",
          "2023-09-30T16:37:16.125000"
         ],
         "y": [
          "HouseEntrance.csv",
          "HouseEntrance.csv"
         ]
        },
        {
         "line": {
          "color": "khaki",
          "width": 1
         },
         "marker": {
          "color": "khaki",
          "size": 8
         },
         "mode": "markers+lines",
         "name": "MotionLivingRoomSofa.csv",
         "showlegend": false,
         "type": "scatter",
         "x": [
          "2023-09-30T16:37:15.552000",
          "2023-09-30T16:39:50.924000"
         ],
         "y": [
          "MotionLivingRoomSofa.csv",
          "MotionLivingRoomSofa.csv"
         ]
        },
        {
         "line": {
          "color": "darkgoldenrod",
          "width": 1
         },
         "marker": {
          "color": "darkgoldenrod",
          "size": 8
         },
         "mode": "markers+lines",
         "name": "MotionLivingRoomTablet.csv",
         "showlegend": false,
         "type": "scatter",
         "x": [
          "2023-09-30T16:37:18.491000",
          "2023-09-30T16:37:50.518000"
         ],
         "y": [
          "MotionLivingRoomTablet.csv",
          "MotionLivingRoomTablet.csv"
         ]
        },
        {
         "line": {
          "color": "darkgoldenrod",
          "width": 1
         },
         "marker": {
          "color": "darkgoldenrod",
          "size": 8
         },
         "mode": "markers+lines",
         "name": "MotionLivingRoomTablet.csv",
         "showlegend": false,
         "type": "scatter",
         "x": [
          "2023-09-30T16:38:52.496000",
          "2023-09-30T16:39:24.470000"
         ],
         "y": [
          "MotionLivingRoomTablet.csv",
          "MotionLivingRoomTablet.csv"
         ]
        },
        {
         "line": {
          "color": "khaki",
          "width": 1
         },
         "marker": {
          "color": "khaki",
          "size": 8
         },
         "mode": "markers+lines",
         "name": "MotionLivingRoomSofa.csv",
         "showlegend": false,
         "type": "scatter",
         "x": [
          "2023-09-30T16:39:55.351000",
          "2023-09-30T16:40:55.338000"
         ],
         "y": [
          "MotionLivingRoomSofa.csv",
          "MotionLivingRoomSofa.csv"
         ]
        },
        {
         "line": {
          "color": "purple",
          "width": 1
         },
         "marker": {
          "color": "purple",
          "size": 8
         },
         "mode": "markers+lines",
         "name": "MotionBedroom.csv",
         "showlegend": false,
         "type": "scatter",
         "x": [
          "2023-09-30T16:39:57.701000",
          "2023-09-30T16:41:00.442000"
         ],
         "y": [
          "MotionBedroom.csv",
          "MotionBedroom.csv"
         ]
        },
        {
         "line": {
          "color": "purple",
          "width": 1
         },
         "marker": {
          "color": "purple",
          "size": 8
         },
         "mode": "markers+lines",
         "name": "MotionBedroom.csv",
         "showlegend": false,
         "type": "scatter",
         "x": [
          "2023-09-30T16:46:30.709000",
          "2023-09-30T16:51:13.336000"
         ],
         "y": [
          "MotionBedroom.csv",
          "MotionBedroom.csv"
         ]
        },
        {
         "line": {
          "color": "khaki",
          "width": 1
         },
         "marker": {
          "color": "khaki",
          "size": 8
         },
         "mode": "markers+lines",
         "name": "MotionLivingRoomSofa.csv",
         "showlegend": false,
         "type": "scatter",
         "x": [
          "2023-09-30T16:50:17.747000",
          "2023-09-30T16:51:17.763000"
         ],
         "y": [
          "MotionLivingRoomSofa.csv",
          "MotionLivingRoomSofa.csv"
         ]
        },
        {
         "line": {
          "color": "pink",
          "width": 1
         },
         "marker": {
          "color": "pink",
          "size": 8
         },
         "mode": "markers+lines",
         "name": "HouseEntrance.csv",
         "showlegend": false,
         "type": "scatter",
         "x": [
          "2023-09-30T16:51:12.896000",
          "2023-09-30T16:51:22.032000"
         ],
         "y": [
          "HouseEntrance.csv",
          "HouseEntrance.csv"
         ]
        },
        {
         "line": {
          "color": "khaki",
          "width": 1
         },
         "marker": {
          "color": "khaki",
          "size": 8
         },
         "mode": "markers+lines",
         "name": "MotionLivingRoomSofa.csv",
         "showlegend": false,
         "type": "scatter",
         "x": [
          "2023-09-30T17:37:51.094000",
          "2023-09-30T17:38:51.089000"
         ],
         "y": [
          "MotionLivingRoomSofa.csv",
          "MotionLivingRoomSofa.csv"
         ]
        },
        {
         "line": {
          "color": "magenta",
          "width": 1
         },
         "marker": {
          "color": "magenta",
          "size": 8
         },
         "mode": "markers+lines",
         "name": "PlugTvHall.csv",
         "showlegend": false,
         "type": "scatter",
         "x": [
          "2023-09-30T18:04:17.375000",
          "2023-09-30T18:04:47.373000"
         ],
         "y": [
          "PlugTvHall.csv",
          "PlugTvHall.csv"
         ]
        },
        {
         "line": {
          "color": "magenta",
          "width": 1
         },
         "marker": {
          "color": "magenta",
          "size": 8
         },
         "mode": "markers+lines",
         "name": "PlugTvHall.csv",
         "showlegend": false,
         "type": "scatter",
         "x": [
          "2023-09-30T18:13:17.485000",
          "2023-09-30T18:13:47.570000"
         ],
         "y": [
          "PlugTvHall.csv",
          "PlugTvHall.csv"
         ]
        },
        {
         "line": {
          "color": "khaki",
          "width": 1
         },
         "marker": {
          "color": "khaki",
          "size": 8
         },
         "mode": "markers+lines",
         "name": "MotionLivingRoomSofa.csv",
         "showlegend": false,
         "type": "scatter",
         "x": [
          "2023-09-30T18:37:46.089000",
          "2023-09-30T18:38:46.081000"
         ],
         "y": [
          "MotionLivingRoomSofa.csv",
          "MotionLivingRoomSofa.csv"
         ]
        },
        {
         "line": {
          "color": "khaki",
          "width": 1
         },
         "marker": {
          "color": "khaki",
          "size": 8
         },
         "mode": "markers+lines",
         "name": "MotionLivingRoomSofa.csv",
         "showlegend": false,
         "type": "scatter",
         "x": [
          "2023-09-30T18:46:24.998000",
          "2023-09-30T18:47:24.989000"
         ],
         "y": [
          "MotionLivingRoomSofa.csv",
          "MotionLivingRoomSofa.csv"
         ]
        },
        {
         "line": {
          "color": "magenta",
          "width": 1
         },
         "marker": {
          "color": "magenta",
          "size": 8
         },
         "mode": "markers+lines",
         "name": "PlugTvHall.csv",
         "showlegend": false,
         "type": "scatter",
         "x": [
          "2023-09-30T18:55:17.389000",
          "2023-09-30T19:05:17.474000"
         ],
         "y": [
          "PlugTvHall.csv",
          "PlugTvHall.csv"
         ]
        },
        {
         "line": {
          "color": "magenta",
          "width": 1
         },
         "marker": {
          "color": "magenta",
          "size": 8
         },
         "mode": "markers+lines",
         "name": "PlugTvHall.csv",
         "showlegend": false,
         "type": "scatter",
         "x": [
          "2023-09-30T19:08:47.450000",
          "2023-09-30T19:14:48.404000"
         ],
         "y": [
          "PlugTvHall.csv",
          "PlugTvHall.csv"
         ]
        },
        {
         "line": {
          "color": "magenta",
          "width": 1
         },
         "marker": {
          "color": "magenta",
          "size": 8
         },
         "mode": "markers+lines",
         "name": "PlugTvHall.csv",
         "showlegend": false,
         "type": "scatter",
         "x": [
          "2023-09-30T19:40:18.349000",
          "2023-09-30T19:44:18.502000"
         ],
         "y": [
          "PlugTvHall.csv",
          "PlugTvHall.csv"
         ]
        },
        {
         "line": {
          "color": "khaki",
          "width": 1
         },
         "marker": {
          "color": "khaki",
          "size": 8
         },
         "mode": "markers+lines",
         "name": "MotionLivingRoomSofa.csv",
         "showlegend": false,
         "type": "scatter",
         "x": [
          "2023-09-30T20:19:20.001000",
          "2023-09-30T20:20:19.970000"
         ],
         "y": [
          "MotionLivingRoomSofa.csv",
          "MotionLivingRoomSofa.csv"
         ]
        },
        {
         "line": {
          "color": "magenta",
          "width": 1
         },
         "marker": {
          "color": "magenta",
          "size": 8
         },
         "mode": "markers+lines",
         "name": "PlugTvHall.csv",
         "showlegend": false,
         "type": "scatter",
         "x": [
          "2023-09-30T20:19:48.491000",
          "2023-09-30T20:20:18.414000"
         ],
         "y": [
          "PlugTvHall.csv",
          "PlugTvHall.csv"
         ]
        },
        {
         "line": {
          "color": "magenta",
          "width": 1
         },
         "marker": {
          "color": "magenta",
          "size": 8
         },
         "mode": "markers+lines",
         "name": "PlugTvHall.csv",
         "showlegend": false,
         "type": "scatter",
         "x": [
          "2023-09-30T20:22:48.349000",
          "2023-09-30T20:23:18.365000"
         ],
         "y": [
          "PlugTvHall.csv",
          "PlugTvHall.csv"
         ]
        },
        {
         "line": {
          "color": "khaki",
          "width": 1
         },
         "marker": {
          "color": "khaki",
          "size": 8
         },
         "mode": "markers+lines",
         "name": "MotionLivingRoomSofa.csv",
         "showlegend": false,
         "type": "scatter",
         "x": [
          "2023-09-30T20:51:58.261000",
          "2023-09-30T20:52:58.253000"
         ],
         "y": [
          "MotionLivingRoomSofa.csv",
          "MotionLivingRoomSofa.csv"
         ]
        },
        {
         "line": {
          "color": "pink",
          "width": 1
         },
         "marker": {
          "color": "pink",
          "size": 8
         },
         "mode": "markers+lines",
         "name": "HouseEntrance.csv",
         "showlegend": false,
         "type": "scatter",
         "x": [
          "2023-09-30T20:59:27.247000",
          "2023-09-30T20:59:51.007000"
         ],
         "y": [
          "HouseEntrance.csv",
          "HouseEntrance.csv"
         ]
        },
        {
         "line": {
          "color": "magenta",
          "width": 1
         },
         "marker": {
          "color": "magenta",
          "size": 8
         },
         "mode": "markers+lines",
         "name": "PlugTvHall.csv",
         "showlegend": false,
         "type": "scatter",
         "x": [
          "2023-09-30T21:04:48.366000",
          "2023-09-30T21:05:18.343000"
         ],
         "y": [
          "PlugTvHall.csv",
          "PlugTvHall.csv"
         ]
        },
        {
         "line": {
          "color": "pink",
          "width": 1
         },
         "marker": {
          "color": "pink",
          "size": 8
         },
         "mode": "markers+lines",
         "name": "HouseEntrance.csv",
         "showlegend": false,
         "type": "scatter",
         "x": [
          "2023-09-30T21:15:13.351000",
          "2023-09-30T21:15:43.235000"
         ],
         "y": [
          "HouseEntrance.csv",
          "HouseEntrance.csv"
         ]
        },
        {
         "line": {
          "color": "khaki",
          "width": 1
         },
         "marker": {
          "color": "khaki",
          "size": 8
         },
         "mode": "markers+lines",
         "name": "MotionLivingRoomSofa.csv",
         "showlegend": false,
         "type": "scatter",
         "x": [
          "2023-09-30T21:15:56.128000",
          "2023-09-30T21:17:51.195000"
         ],
         "y": [
          "MotionLivingRoomSofa.csv",
          "MotionLivingRoomSofa.csv"
         ]
        },
        {
         "line": {
          "color": "purple",
          "width": 1
         },
         "marker": {
          "color": "purple",
          "size": 8
         },
         "mode": "markers+lines",
         "name": "MotionBedroom.csv",
         "showlegend": false,
         "type": "scatter",
         "x": [
          "2023-09-30T21:16:02.546000",
          "2023-09-30T21:17:54.690000"
         ],
         "y": [
          "MotionBedroom.csv",
          "MotionBedroom.csv"
         ]
        },
        {
         "line": {
          "color": "purple",
          "width": 1
         },
         "marker": {
          "color": "purple",
          "size": 8
         },
         "mode": "markers+lines",
         "name": "MotionBedroom.csv",
         "showlegend": false,
         "type": "scatter",
         "x": [
          "2023-09-30T21:19:03.425000",
          "2023-09-30T21:26:15.898000"
         ],
         "y": [
          "MotionBedroom.csv",
          "MotionBedroom.csv"
         ]
        },
        {
         "line": {
          "color": "khaki",
          "width": 1
         },
         "marker": {
          "color": "khaki",
          "size": 8
         },
         "mode": "markers+lines",
         "name": "MotionLivingRoomSofa.csv",
         "showlegend": false,
         "type": "scatter",
         "x": [
          "2023-09-30T21:19:34.800000",
          "2023-09-30T21:20:34.796000"
         ],
         "y": [
          "MotionLivingRoomSofa.csv",
          "MotionLivingRoomSofa.csv"
         ]
        },
        {
         "line": {
          "color": "khaki",
          "width": 1
         },
         "marker": {
          "color": "khaki",
          "size": 8
         },
         "mode": "markers+lines",
         "name": "MotionLivingRoomSofa.csv",
         "showlegend": false,
         "type": "scatter",
         "x": [
          "2023-09-30T21:25:13.244000",
          "2023-09-30T21:26:13.270000"
         ],
         "y": [
          "MotionLivingRoomSofa.csv",
          "MotionLivingRoomSofa.csv"
         ]
        },
        {
         "line": {
          "color": "blue",
          "width": 1
         },
         "marker": {
          "color": "blue",
          "size": 8
         },
         "mode": "markers+lines",
         "name": "Medicines.csv",
         "showlegend": false,
         "type": "scatter",
         "x": [
          "2023-09-30T21:28:08.593000",
          "2023-09-30T21:28:32.057000"
         ],
         "y": [
          "Medicines.csv",
          "Medicines.csv"
         ]
        },
        {
         "line": {
          "color": "maroon",
          "width": 1
         },
         "marker": {
          "color": "maroon",
          "size": 8
         },
         "mode": "markers+lines",
         "name": "MotionKitchen.csv",
         "showlegend": false,
         "type": "scatter",
         "x": [
          "2023-09-30T21:29:38.589000",
          "2023-09-30T21:32:28.830000"
         ],
         "y": [
          "MotionKitchen.csv",
          "MotionKitchen.csv"
         ]
        },
        {
         "line": {
          "color": "orange",
          "width": 1
         },
         "marker": {
          "color": "orange",
          "size": 8
         },
         "mode": "markers+lines",
         "name": "Refrigerator.csv",
         "showlegend": false,
         "type": "scatter",
         "x": [
          "2023-09-30T21:29:44.302000",
          "2023-09-30T21:29:52.446000"
         ],
         "y": [
          "Refrigerator.csv",
          "Refrigerator.csv"
         ]
        },
        {
         "line": {
          "color": "purple",
          "width": 1
         },
         "marker": {
          "color": "purple",
          "size": 8
         },
         "mode": "markers+lines",
         "name": "MotionBedroom.csv",
         "showlegend": false,
         "type": "scatter",
         "x": [
          "2023-09-30T21:30:19.578000",
          "2023-09-30T21:32:18.287000"
         ],
         "y": [
          "MotionBedroom.csv",
          "MotionBedroom.csv"
         ]
        },
        {
         "line": {
          "color": "khaki",
          "width": 1
         },
         "marker": {
          "color": "khaki",
          "size": 8
         },
         "mode": "markers+lines",
         "name": "MotionLivingRoomSofa.csv",
         "showlegend": false,
         "type": "scatter",
         "x": [
          "2023-09-30T21:32:13.279000",
          "2023-09-30T21:33:13.279000"
         ],
         "y": [
          "MotionLivingRoomSofa.csv",
          "MotionLivingRoomSofa.csv"
         ]
        },
        {
         "line": {
          "color": "purple",
          "width": 1
         },
         "marker": {
          "color": "purple",
          "size": 8
         },
         "mode": "markers+lines",
         "name": "MotionBedroom.csv",
         "showlegend": false,
         "type": "scatter",
         "x": [
          "2023-09-30T21:32:25.753000",
          "2023-09-30T21:34:57.253000"
         ],
         "y": [
          "MotionBedroom.csv",
          "MotionBedroom.csv"
         ]
        },
        {
         "line": {
          "color": "maroon",
          "width": 1
         },
         "marker": {
          "color": "maroon",
          "size": 8
         },
         "mode": "markers+lines",
         "name": "MotionKitchen.csv",
         "showlegend": false,
         "type": "scatter",
         "x": [
          "2023-09-30T21:33:04.193000",
          "2023-09-30T21:36:26.027000"
         ],
         "y": [
          "MotionKitchen.csv",
          "MotionKitchen.csv"
         ]
        },
        {
         "line": {
          "color": "orange",
          "width": 1
         },
         "marker": {
          "color": "orange",
          "size": 8
         },
         "mode": "markers+lines",
         "name": "Refrigerator.csv",
         "showlegend": false,
         "type": "scatter",
         "x": [
          "2023-09-30T21:34:11.453000",
          "2023-09-30T21:34:16.822000"
         ],
         "y": [
          "Refrigerator.csv",
          "Refrigerator.csv"
         ]
        },
        {
         "line": {
          "color": "maroon",
          "width": 1
         },
         "marker": {
          "color": "maroon",
          "size": 8
         },
         "mode": "markers+lines",
         "name": "MotionKitchen.csv",
         "showlegend": false,
         "type": "scatter",
         "x": [
          "2023-09-30T21:37:59.998000",
          "2023-09-30T21:41:42.272000"
         ],
         "y": [
          "MotionKitchen.csv",
          "MotionKitchen.csv"
         ]
        },
        {
         "line": {
          "color": "orange",
          "width": 1
         },
         "marker": {
          "color": "orange",
          "size": 8
         },
         "mode": "markers+lines",
         "name": "Refrigerator.csv",
         "showlegend": false,
         "type": "scatter",
         "x": [
          "2023-09-30T21:40:13.422000",
          "2023-09-30T21:40:18.712000"
         ],
         "y": [
          "Refrigerator.csv",
          "Refrigerator.csv"
         ]
        },
        {
         "line": {
          "color": "maroon",
          "width": 1
         },
         "marker": {
          "color": "maroon",
          "size": 8
         },
         "mode": "markers+lines",
         "name": "MotionKitchen.csv",
         "showlegend": false,
         "type": "scatter",
         "x": [
          "2023-09-30T21:42:04.906000",
          "2023-09-30T21:48:57.034000"
         ],
         "y": [
          "MotionKitchen.csv",
          "MotionKitchen.csv"
         ]
        },
        {
         "line": {
          "color": "orange",
          "width": 1
         },
         "marker": {
          "color": "orange",
          "size": 8
         },
         "mode": "markers+lines",
         "name": "Refrigerator.csv",
         "showlegend": false,
         "type": "scatter",
         "x": [
          "2023-09-30T21:43:49.483000",
          "2023-09-30T21:44:56.581000"
         ],
         "y": [
          "Refrigerator.csv",
          "Refrigerator.csv"
         ]
        },
        {
         "line": {
          "color": "orange",
          "width": 1
         },
         "marker": {
          "color": "orange",
          "size": 8
         },
         "mode": "markers+lines",
         "name": "Refrigerator.csv",
         "showlegend": false,
         "type": "scatter",
         "x": [
          "2023-09-30T21:46:33.054000",
          "2023-09-30T21:46:37.813000"
         ],
         "y": [
          "Refrigerator.csv",
          "Refrigerator.csv"
         ]
        },
        {
         "line": {
          "color": "orange",
          "width": 1
         },
         "marker": {
          "color": "orange",
          "size": 8
         },
         "mode": "markers+lines",
         "name": "Refrigerator.csv",
         "showlegend": false,
         "type": "scatter",
         "x": [
          "2023-09-30T21:47:59.351000",
          "2023-09-30T21:48:03.825000"
         ],
         "y": [
          "Refrigerator.csv",
          "Refrigerator.csv"
         ]
        },
        {
         "line": {
          "color": "maroon",
          "width": 1
         },
         "marker": {
          "color": "maroon",
          "size": 8
         },
         "mode": "markers+lines",
         "name": "MotionKitchen.csv",
         "showlegend": false,
         "type": "scatter",
         "x": [
          "2023-09-30T21:49:02.295000",
          "2023-09-30T21:52:01.184000"
         ],
         "y": [
          "MotionKitchen.csv",
          "MotionKitchen.csv"
         ]
        },
        {
         "line": {
          "color": "khaki",
          "width": 1
         },
         "marker": {
          "color": "khaki",
          "size": 8
         },
         "mode": "markers+lines",
         "name": "MotionLivingRoomSofa.csv",
         "showlegend": false,
         "type": "scatter",
         "x": [
          "2023-09-30T21:52:05.726000",
          "2023-09-30T21:53:36.346000"
         ],
         "y": [
          "MotionLivingRoomSofa.csv",
          "MotionLivingRoomSofa.csv"
         ]
        },
        {
         "line": {
          "color": "darkgoldenrod",
          "width": 1
         },
         "marker": {
          "color": "darkgoldenrod",
          "size": 8
         },
         "mode": "markers+lines",
         "name": "MotionLivingRoomTablet.csv",
         "showlegend": false,
         "type": "scatter",
         "x": [
          "2023-09-30T21:52:08.856000",
          "2023-09-30T21:52:40.842000"
         ],
         "y": [
          "MotionLivingRoomTablet.csv",
          "MotionLivingRoomTablet.csv"
         ]
        },
        {
         "line": {
          "color": "purple",
          "width": 1
         },
         "marker": {
          "color": "purple",
          "size": 8
         },
         "mode": "markers+lines",
         "name": "MotionBedroom.csv",
         "showlegend": false,
         "type": "scatter",
         "x": [
          "2023-09-30T21:52:39.177000",
          "2023-09-30T21:53:44.778000"
         ],
         "y": [
          "MotionBedroom.csv",
          "MotionBedroom.csv"
         ]
        },
        {
         "line": {
          "color": "purple",
          "width": 1
         },
         "marker": {
          "color": "purple",
          "size": 8
         },
         "mode": "markers+lines",
         "name": "MotionBedroom.csv",
         "showlegend": false,
         "type": "scatter",
         "x": [
          "2023-09-30T21:56:24.354000",
          "2023-09-30T21:57:26.883000"
         ],
         "y": [
          "MotionBedroom.csv",
          "MotionBedroom.csv"
         ]
        },
        {
         "line": {
          "color": "purple",
          "width": 1
         },
         "marker": {
          "color": "purple",
          "size": 8
         },
         "mode": "markers+lines",
         "name": "MotionBedroom.csv",
         "showlegend": false,
         "type": "scatter",
         "x": [
          "2023-09-30T21:59:07.882000",
          "2023-09-30T22:03:42.848000"
         ],
         "y": [
          "MotionBedroom.csv",
          "MotionBedroom.csv"
         ]
        },
        {
         "line": {
          "color": "khaki",
          "width": 1
         },
         "marker": {
          "color": "khaki",
          "size": 8
         },
         "mode": "markers+lines",
         "name": "MotionLivingRoomSofa.csv",
         "showlegend": false,
         "type": "scatter",
         "x": [
          "2023-09-30T21:59:56.473000",
          "2023-09-30T22:00:56.468000"
         ],
         "y": [
          "MotionLivingRoomSofa.csv",
          "MotionLivingRoomSofa.csv"
         ]
        },
        {
         "line": {
          "color": "purple",
          "width": 1
         },
         "marker": {
          "color": "purple",
          "size": 8
         },
         "mode": "markers+lines",
         "name": "MotionBedroom.csv",
         "showlegend": false,
         "type": "scatter",
         "x": [
          "2023-09-30T22:06:16.228000",
          "2023-09-30T22:07:18.753000"
         ],
         "y": [
          "MotionBedroom.csv",
          "MotionBedroom.csv"
         ]
        },
        {
         "line": {
          "color": "purple",
          "width": 1
         },
         "marker": {
          "color": "purple",
          "size": 8
         },
         "mode": "markers+lines",
         "name": "MotionBedroom.csv",
         "showlegend": false,
         "type": "scatter",
         "x": [
          "2023-09-30T22:40:03.232000",
          "2023-09-30T22:41:18.563000"
         ],
         "y": [
          "MotionBedroom.csv",
          "MotionBedroom.csv"
         ]
        },
        {
         "line": {
          "color": "purple",
          "width": 1
         },
         "marker": {
          "color": "purple",
          "size": 8
         },
         "mode": "markers+lines",
         "name": "MotionBedroom.csv",
         "showlegend": false,
         "type": "scatter",
         "x": [
          "2023-09-30T23:04:21.251000",
          "2023-09-30T23:05:30.875000"
         ],
         "y": [
          "MotionBedroom.csv",
          "MotionBedroom.csv"
         ]
        },
        {
         "line": {
          "color": "purple",
          "width": 1
         },
         "marker": {
          "color": "purple",
          "size": 8
         },
         "mode": "markers+lines",
         "name": "MotionBedroom.csv",
         "showlegend": false,
         "type": "scatter",
         "x": [
          "2023-09-30T23:24:01.410000",
          "2023-09-30T23:26:42.519000"
         ],
         "y": [
          "MotionBedroom.csv",
          "MotionBedroom.csv"
         ]
        },
        {
         "line": {
          "color": "purple",
          "width": 1
         },
         "marker": {
          "color": "purple",
          "size": 8
         },
         "mode": "markers+lines",
         "name": "MotionBedroom.csv",
         "showlegend": false,
         "type": "scatter",
         "x": [
          "2023-09-30T23:34:54.212000",
          "2023-09-30T23:36:03.193000"
         ],
         "y": [
          "MotionBedroom.csv",
          "MotionBedroom.csv"
         ]
        },
        {
         "line": {
          "color": "purple",
          "width": 1
         },
         "marker": {
          "color": "purple",
          "size": 8
         },
         "mode": "markers+lines",
         "name": "MotionBedroom.csv",
         "showlegend": false,
         "type": "scatter",
         "x": [
          "2023-09-30T23:36:43.883000",
          "2023-09-30T23:39:45.492000"
         ],
         "y": [
          "MotionBedroom.csv",
          "MotionBedroom.csv"
         ]
        },
        {
         "line": {
          "color": "purple",
          "width": 1
         },
         "marker": {
          "color": "purple",
          "size": 8
         },
         "mode": "markers+lines",
         "name": "MotionBedroom.csv",
         "showlegend": false,
         "type": "scatter",
         "x": [
          "2023-09-30T23:40:04.706000",
          "2023-09-30T23:41:37.812000"
         ],
         "y": [
          "MotionBedroom.csv",
          "MotionBedroom.csv"
         ]
        },
        {
         "line": {
          "color": "purple",
          "width": 1
         },
         "marker": {
          "color": "purple",
          "size": 8
         },
         "mode": "markers+lines",
         "name": "MotionBedroom.csv",
         "showlegend": false,
         "type": "scatter",
         "x": [
          "2023-09-30T23:42:47.374000",
          "2023-09-30T23:44:36.773000"
         ],
         "y": [
          "MotionBedroom.csv",
          "MotionBedroom.csv"
         ]
        },
        {
         "line": {
          "color": "purple",
          "width": 1
         },
         "marker": {
          "color": "purple",
          "size": 8
         },
         "mode": "markers+lines",
         "name": "MotionBedroom.csv",
         "showlegend": false,
         "type": "scatter",
         "x": [
          "2023-09-30T23:45:45.968000",
          "2023-09-30T23:46:52.630000"
         ],
         "y": [
          "MotionBedroom.csv",
          "MotionBedroom.csv"
         ]
        }
       ],
       "layout": {
        "showlegend": false,
        "template": {
         "data": {
          "bar": [
           {
            "error_x": {
             "color": "#2a3f5f"
            },
            "error_y": {
             "color": "#2a3f5f"
            },
            "marker": {
             "line": {
              "color": "#E5ECF6",
              "width": 0.5
             },
             "pattern": {
              "fillmode": "overlay",
              "size": 10,
              "solidity": 0.2
             }
            },
            "type": "bar"
           }
          ],
          "barpolar": [
           {
            "marker": {
             "line": {
              "color": "#E5ECF6",
              "width": 0.5
             },
             "pattern": {
              "fillmode": "overlay",
              "size": 10,
              "solidity": 0.2
             }
            },
            "type": "barpolar"
           }
          ],
          "carpet": [
           {
            "aaxis": {
             "endlinecolor": "#2a3f5f",
             "gridcolor": "white",
             "linecolor": "white",
             "minorgridcolor": "white",
             "startlinecolor": "#2a3f5f"
            },
            "baxis": {
             "endlinecolor": "#2a3f5f",
             "gridcolor": "white",
             "linecolor": "white",
             "minorgridcolor": "white",
             "startlinecolor": "#2a3f5f"
            },
            "type": "carpet"
           }
          ],
          "choropleth": [
           {
            "colorbar": {
             "outlinewidth": 0,
             "ticks": ""
            },
            "type": "choropleth"
           }
          ],
          "contour": [
           {
            "colorbar": {
             "outlinewidth": 0,
             "ticks": ""
            },
            "colorscale": [
             [
              0,
              "#0d0887"
             ],
             [
              0.1111111111111111,
              "#46039f"
             ],
             [
              0.2222222222222222,
              "#7201a8"
             ],
             [
              0.3333333333333333,
              "#9c179e"
             ],
             [
              0.4444444444444444,
              "#bd3786"
             ],
             [
              0.5555555555555556,
              "#d8576b"
             ],
             [
              0.6666666666666666,
              "#ed7953"
             ],
             [
              0.7777777777777778,
              "#fb9f3a"
             ],
             [
              0.8888888888888888,
              "#fdca26"
             ],
             [
              1,
              "#f0f921"
             ]
            ],
            "type": "contour"
           }
          ],
          "contourcarpet": [
           {
            "colorbar": {
             "outlinewidth": 0,
             "ticks": ""
            },
            "type": "contourcarpet"
           }
          ],
          "heatmap": [
           {
            "colorbar": {
             "outlinewidth": 0,
             "ticks": ""
            },
            "colorscale": [
             [
              0,
              "#0d0887"
             ],
             [
              0.1111111111111111,
              "#46039f"
             ],
             [
              0.2222222222222222,
              "#7201a8"
             ],
             [
              0.3333333333333333,
              "#9c179e"
             ],
             [
              0.4444444444444444,
              "#bd3786"
             ],
             [
              0.5555555555555556,
              "#d8576b"
             ],
             [
              0.6666666666666666,
              "#ed7953"
             ],
             [
              0.7777777777777778,
              "#fb9f3a"
             ],
             [
              0.8888888888888888,
              "#fdca26"
             ],
             [
              1,
              "#f0f921"
             ]
            ],
            "type": "heatmap"
           }
          ],
          "heatmapgl": [
           {
            "colorbar": {
             "outlinewidth": 0,
             "ticks": ""
            },
            "colorscale": [
             [
              0,
              "#0d0887"
             ],
             [
              0.1111111111111111,
              "#46039f"
             ],
             [
              0.2222222222222222,
              "#7201a8"
             ],
             [
              0.3333333333333333,
              "#9c179e"
             ],
             [
              0.4444444444444444,
              "#bd3786"
             ],
             [
              0.5555555555555556,
              "#d8576b"
             ],
             [
              0.6666666666666666,
              "#ed7953"
             ],
             [
              0.7777777777777778,
              "#fb9f3a"
             ],
             [
              0.8888888888888888,
              "#fdca26"
             ],
             [
              1,
              "#f0f921"
             ]
            ],
            "type": "heatmapgl"
           }
          ],
          "histogram": [
           {
            "marker": {
             "pattern": {
              "fillmode": "overlay",
              "size": 10,
              "solidity": 0.2
             }
            },
            "type": "histogram"
           }
          ],
          "histogram2d": [
           {
            "colorbar": {
             "outlinewidth": 0,
             "ticks": ""
            },
            "colorscale": [
             [
              0,
              "#0d0887"
             ],
             [
              0.1111111111111111,
              "#46039f"
             ],
             [
              0.2222222222222222,
              "#7201a8"
             ],
             [
              0.3333333333333333,
              "#9c179e"
             ],
             [
              0.4444444444444444,
              "#bd3786"
             ],
             [
              0.5555555555555556,
              "#d8576b"
             ],
             [
              0.6666666666666666,
              "#ed7953"
             ],
             [
              0.7777777777777778,
              "#fb9f3a"
             ],
             [
              0.8888888888888888,
              "#fdca26"
             ],
             [
              1,
              "#f0f921"
             ]
            ],
            "type": "histogram2d"
           }
          ],
          "histogram2dcontour": [
           {
            "colorbar": {
             "outlinewidth": 0,
             "ticks": ""
            },
            "colorscale": [
             [
              0,
              "#0d0887"
             ],
             [
              0.1111111111111111,
              "#46039f"
             ],
             [
              0.2222222222222222,
              "#7201a8"
             ],
             [
              0.3333333333333333,
              "#9c179e"
             ],
             [
              0.4444444444444444,
              "#bd3786"
             ],
             [
              0.5555555555555556,
              "#d8576b"
             ],
             [
              0.6666666666666666,
              "#ed7953"
             ],
             [
              0.7777777777777778,
              "#fb9f3a"
             ],
             [
              0.8888888888888888,
              "#fdca26"
             ],
             [
              1,
              "#f0f921"
             ]
            ],
            "type": "histogram2dcontour"
           }
          ],
          "mesh3d": [
           {
            "colorbar": {
             "outlinewidth": 0,
             "ticks": ""
            },
            "type": "mesh3d"
           }
          ],
          "parcoords": [
           {
            "line": {
             "colorbar": {
              "outlinewidth": 0,
              "ticks": ""
             }
            },
            "type": "parcoords"
           }
          ],
          "pie": [
           {
            "automargin": true,
            "type": "pie"
           }
          ],
          "scatter": [
           {
            "fillpattern": {
             "fillmode": "overlay",
             "size": 10,
             "solidity": 0.2
            },
            "type": "scatter"
           }
          ],
          "scatter3d": [
           {
            "line": {
             "colorbar": {
              "outlinewidth": 0,
              "ticks": ""
             }
            },
            "marker": {
             "colorbar": {
              "outlinewidth": 0,
              "ticks": ""
             }
            },
            "type": "scatter3d"
           }
          ],
          "scattercarpet": [
           {
            "marker": {
             "colorbar": {
              "outlinewidth": 0,
              "ticks": ""
             }
            },
            "type": "scattercarpet"
           }
          ],
          "scattergeo": [
           {
            "marker": {
             "colorbar": {
              "outlinewidth": 0,
              "ticks": ""
             }
            },
            "type": "scattergeo"
           }
          ],
          "scattergl": [
           {
            "marker": {
             "colorbar": {
              "outlinewidth": 0,
              "ticks": ""
             }
            },
            "type": "scattergl"
           }
          ],
          "scattermapbox": [
           {
            "marker": {
             "colorbar": {
              "outlinewidth": 0,
              "ticks": ""
             }
            },
            "type": "scattermapbox"
           }
          ],
          "scatterpolar": [
           {
            "marker": {
             "colorbar": {
              "outlinewidth": 0,
              "ticks": ""
             }
            },
            "type": "scatterpolar"
           }
          ],
          "scatterpolargl": [
           {
            "marker": {
             "colorbar": {
              "outlinewidth": 0,
              "ticks": ""
             }
            },
            "type": "scatterpolargl"
           }
          ],
          "scatterternary": [
           {
            "marker": {
             "colorbar": {
              "outlinewidth": 0,
              "ticks": ""
             }
            },
            "type": "scatterternary"
           }
          ],
          "surface": [
           {
            "colorbar": {
             "outlinewidth": 0,
             "ticks": ""
            },
            "colorscale": [
             [
              0,
              "#0d0887"
             ],
             [
              0.1111111111111111,
              "#46039f"
             ],
             [
              0.2222222222222222,
              "#7201a8"
             ],
             [
              0.3333333333333333,
              "#9c179e"
             ],
             [
              0.4444444444444444,
              "#bd3786"
             ],
             [
              0.5555555555555556,
              "#d8576b"
             ],
             [
              0.6666666666666666,
              "#ed7953"
             ],
             [
              0.7777777777777778,
              "#fb9f3a"
             ],
             [
              0.8888888888888888,
              "#fdca26"
             ],
             [
              1,
              "#f0f921"
             ]
            ],
            "type": "surface"
           }
          ],
          "table": [
           {
            "cells": {
             "fill": {
              "color": "#EBF0F8"
             },
             "line": {
              "color": "white"
             }
            },
            "header": {
             "fill": {
              "color": "#C8D4E3"
             },
             "line": {
              "color": "white"
             }
            },
            "type": "table"
           }
          ]
         },
         "layout": {
          "annotationdefaults": {
           "arrowcolor": "#2a3f5f",
           "arrowhead": 0,
           "arrowwidth": 1
          },
          "autotypenumbers": "strict",
          "coloraxis": {
           "colorbar": {
            "outlinewidth": 0,
            "ticks": ""
           }
          },
          "colorscale": {
           "diverging": [
            [
             0,
             "#8e0152"
            ],
            [
             0.1,
             "#c51b7d"
            ],
            [
             0.2,
             "#de77ae"
            ],
            [
             0.3,
             "#f1b6da"
            ],
            [
             0.4,
             "#fde0ef"
            ],
            [
             0.5,
             "#f7f7f7"
            ],
            [
             0.6,
             "#e6f5d0"
            ],
            [
             0.7,
             "#b8e186"
            ],
            [
             0.8,
             "#7fbc41"
            ],
            [
             0.9,
             "#4d9221"
            ],
            [
             1,
             "#276419"
            ]
           ],
           "sequential": [
            [
             0,
             "#0d0887"
            ],
            [
             0.1111111111111111,
             "#46039f"
            ],
            [
             0.2222222222222222,
             "#7201a8"
            ],
            [
             0.3333333333333333,
             "#9c179e"
            ],
            [
             0.4444444444444444,
             "#bd3786"
            ],
            [
             0.5555555555555556,
             "#d8576b"
            ],
            [
             0.6666666666666666,
             "#ed7953"
            ],
            [
             0.7777777777777778,
             "#fb9f3a"
            ],
            [
             0.8888888888888888,
             "#fdca26"
            ],
            [
             1,
             "#f0f921"
            ]
           ],
           "sequentialminus": [
            [
             0,
             "#0d0887"
            ],
            [
             0.1111111111111111,
             "#46039f"
            ],
            [
             0.2222222222222222,
             "#7201a8"
            ],
            [
             0.3333333333333333,
             "#9c179e"
            ],
            [
             0.4444444444444444,
             "#bd3786"
            ],
            [
             0.5555555555555556,
             "#d8576b"
            ],
            [
             0.6666666666666666,
             "#ed7953"
            ],
            [
             0.7777777777777778,
             "#fb9f3a"
            ],
            [
             0.8888888888888888,
             "#fdca26"
            ],
            [
             1,
             "#f0f921"
            ]
           ]
          },
          "colorway": [
           "#636efa",
           "#EF553B",
           "#00cc96",
           "#ab63fa",
           "#FFA15A",
           "#19d3f3",
           "#FF6692",
           "#B6E880",
           "#FF97FF",
           "#FECB52"
          ],
          "font": {
           "color": "#2a3f5f"
          },
          "geo": {
           "bgcolor": "white",
           "lakecolor": "white",
           "landcolor": "#E5ECF6",
           "showlakes": true,
           "showland": true,
           "subunitcolor": "white"
          },
          "hoverlabel": {
           "align": "left"
          },
          "hovermode": "closest",
          "mapbox": {
           "style": "light"
          },
          "paper_bgcolor": "white",
          "plot_bgcolor": "#E5ECF6",
          "polar": {
           "angularaxis": {
            "gridcolor": "white",
            "linecolor": "white",
            "ticks": ""
           },
           "bgcolor": "#E5ECF6",
           "radialaxis": {
            "gridcolor": "white",
            "linecolor": "white",
            "ticks": ""
           }
          },
          "scene": {
           "xaxis": {
            "backgroundcolor": "#E5ECF6",
            "gridcolor": "white",
            "gridwidth": 2,
            "linecolor": "white",
            "showbackground": true,
            "ticks": "",
            "zerolinecolor": "white"
           },
           "yaxis": {
            "backgroundcolor": "#E5ECF6",
            "gridcolor": "white",
            "gridwidth": 2,
            "linecolor": "white",
            "showbackground": true,
            "ticks": "",
            "zerolinecolor": "white"
           },
           "zaxis": {
            "backgroundcolor": "#E5ECF6",
            "gridcolor": "white",
            "gridwidth": 2,
            "linecolor": "white",
            "showbackground": true,
            "ticks": "",
            "zerolinecolor": "white"
           }
          },
          "shapedefaults": {
           "line": {
            "color": "#2a3f5f"
           }
          },
          "ternary": {
           "aaxis": {
            "gridcolor": "white",
            "linecolor": "white",
            "ticks": ""
           },
           "baxis": {
            "gridcolor": "white",
            "linecolor": "white",
            "ticks": ""
           },
           "bgcolor": "#E5ECF6",
           "caxis": {
            "gridcolor": "white",
            "linecolor": "white",
            "ticks": ""
           }
          },
          "title": {
           "x": 0.05
          },
          "xaxis": {
           "automargin": true,
           "gridcolor": "white",
           "linecolor": "white",
           "ticks": "",
           "title": {
            "standoff": 15
           },
           "zerolinecolor": "white",
           "zerolinewidth": 2
          },
          "yaxis": {
           "automargin": true,
           "gridcolor": "white",
           "linecolor": "white",
           "ticks": "",
           "title": {
            "standoff": 15
           },
           "zerolinecolor": "white",
           "zerolinewidth": 2
          }
         }
        },
        "title": {
         "text": "Sensor Activity Over Time of Day"
        },
        "xaxis": {
         "tickformat": "%H:%M:%S",
         "title": {
          "text": "Time of Day"
         }
        },
        "yaxis": {
         "categoryorder": "total ascending",
         "title": {
          "text": "Sensor"
         }
        }
       }
      }
     },
     "metadata": {},
     "output_type": "display_data"
    }
   ],
   "source": [
    "\n",
    "df = pd.DataFrame(plot_data)\n",
    "df['start_time'] = pd.to_datetime(df['start_time'])\n",
    "df['end_time'] = pd.to_datetime(df['end_time'])\n",
    "\n",
    "df['start_time_of_day'] = df['start_time'].dt.time # I will not use it\n",
    "df['end_time_of_day'] = df['end_time'].dt.time # I will not use it because a sensor activation may go beyond a day, so date changes, so it is better to keep only start-time\n",
    "\n",
    "# Sort the DataFrame by both start_time and end_time\n",
    "df = df.sort_values(by=['start_time', 'end_time'])\n",
    "\n",
    "# Initialize the plot\n",
    "fig = go.Figure()\n",
    "\n",
    "# Add points to the plot\n",
    "for _, row in df.iterrows():\n",
    "    sensor = row['sensor']\n",
    "    color = color_map.get(sensor, 'black')\n",
    "    # Plot the start and end time points\n",
    "    fig.add_trace(go.Scatter(\n",
    "        x=[row['start_time'], row['end_time']],\n",
    "        y=[row['sensor'], row['sensor']],\n",
    "        mode='markers+lines',\n",
    "        marker=dict(size=8, color=color),\n",
    "        line=dict(width=1, color=color),\n",
    "        name=row['sensor'],\n",
    "        showlegend=False\n",
    "    ))\n",
    "\n",
    "# Update layout\n",
    "fig.update_layout(\n",
    "    title=\"Sensor Activity Over Time of Day\",\n",
    "    xaxis_title='Time of Day',\n",
    "    yaxis_title='Sensor',\n",
    "    xaxis=dict(tickformat='%H:%M:%S', title='Time of Day'),\n",
    "    yaxis=dict(title='Sensor', categoryorder='total ascending'),\n",
    "    showlegend=False\n",
    ")\n",
    "\n",
    "# Show plot\n",
    "fig.show()"
   ]
  },
  {
   "cell_type": "markdown",
   "metadata": {},
   "source": [
    "# Subject 1 data for temperature sensor in bathroom"
   ]
  },
  {
   "cell_type": "code",
   "execution_count": null,
   "metadata": {},
   "outputs": [],
   "source": [
    "path = '/home/hubble/work/serenade/data/subject_1/environmentals/Shower_Hum_Temp_temp.csv'\n",
    "df_shower_humidity = pd.read_csv(path)\n",
    "df_shower_humidity['ts'] = pd.to_datetime(df_shower_humidity['ts'], unit='ms')\n",
    "\n",
    "df_shower_humidity = df_shower_humidity.dropna(subset=['ts'])\n",
    "df_shower_humidity = df_shower_humidity[~df_shower_humidity['sensor_status'].isin(['unavailable', 'unknown'])]\n",
    "df_shower_humidity['sensor_status'] = pd.to_numeric(df_shower_humidity['sensor_status'], errors='coerce')\n",
    "\n",
    "peaks, df_shower_humidity = detect_peaks(df_shower_humidity, 'sensor_status', prominence_value = 1)\n",
    "# print(peaks)\n",
    "# plot_data_with_peaks(df_shower_humidity, 'ts', 'sensor_status', peaks)"
   ]
  },
  {
   "cell_type": "markdown",
   "metadata": {},
   "source": [
    "# Subject 2 data for temperature sensor in bathroom"
   ]
  },
  {
   "cell_type": "code",
   "execution_count": null,
   "metadata": {},
   "outputs": [],
   "source": [
    "path = '/home/hubble/work/serenade/data/subject_2/environmentals/Hum_Temp_Bath_temp.csv'\n",
    "df_shower_humidity = pd.read_csv(path)\n",
    "df_shower_humidity['ts'] = pd.to_datetime(df_shower_humidity['ts'], unit='ms')\n",
    "\n",
    "df_shower_humidity = df_shower_humidity.dropna(subset=['ts'])\n",
    "df_shower_humidity = df_shower_humidity[~df_shower_humidity['sensor_status'].isin(['unavailable', 'unknown'])]\n",
    "df_shower_humidity['sensor_status'] = pd.to_numeric(df_shower_humidity['sensor_status'], errors='coerce')\n",
    "\n",
    "peaks, df_shower_humidity = detect_peaks(df_shower_humidity, 'sensor_status', prominence_value = 0.8)\n",
    "# plot_data_with_peaks(df_shower_humidity, 'ts', 'sensor_status', peaks)"
   ]
  },
  {
   "cell_type": "markdown",
   "metadata": {},
   "source": [
    "# Subject 3 data for humidity from stove"
   ]
  },
  {
   "cell_type": "code",
   "execution_count": null,
   "metadata": {},
   "outputs": [],
   "source": [
    "path = '/home/hubble/work/serenade/data/subject_3/environmentals/Stove_Hum_Temp_humidity.csv'\n",
    "df_shower_humidity = pd.read_csv(path)\n",
    "df_shower_humidity['ts'] = pd.to_datetime(df_shower_humidity['ts'], unit='ms')\n",
    "\n",
    "df_shower_humidity = df_shower_humidity.dropna(subset=['ts'])\n",
    "df_shower_humidity = df_shower_humidity[~df_shower_humidity['sensor_status'].isin(['unavailable', 'unknown'])]\n",
    "df_shower_humidity['sensor_status'] = pd.to_numeric(df_shower_humidity['sensor_status'], errors='coerce')\n",
    "\n",
    "peaks, df_shower_humidity = detect_peaks(df_shower_humidity, 'sensor_status', prominence_value = 3)\n",
    "df_shower_humidity = df_shower_humidity.rename(columns={'sensor_status': 'sensor_values', 'peak_detected': 'sensor_status'})\n",
    "# plot_data_with_peaks(df_shower_humidity, 'ts', 'sensor_values', peaks)\n",
    "\n",
    "filtered_df = filter_on_off_consecutive(df_shower_humidity)\n",
    "filtered_df = filtered_df.reset_index()\n",
    "filtered_df = process_sensor_data(filtered_df)"
   ]
  },
  {
   "cell_type": "code",
   "execution_count": null,
   "metadata": {},
   "outputs": [],
   "source": [
    "# Step 1: Read the file HomeEntrance.csv\n",
    "# Step 2: Identify the current door close time and the next door open time\n",
    "# Step 3: If no sensor is activated within the window obtained from Step 2, the person is 'probably outside the home'\n",
    "# Note: The time duration between the current door close and the next door open event is crucial. If the duration is very short, it is possible that the subject opened the door just to attend to a visitor."
   ]
  },
  {
   "cell_type": "markdown",
   "metadata": {},
   "source": [
    "# Names of the sensors installed for subject 3"
   ]
  },
  {
   "cell_type": "code",
   "execution_count": 9,
   "metadata": {},
   "outputs": [
    {
     "name": "stdout",
     "output_type": "stream",
     "text": [
      "--------- 0 ---------- CoffeMachine.csv\n",
      "--------- 1 ---------- Dishes_Glasses.csv\n",
      "--------- 2 ---------- FoodStorageKitchen.csv\n",
      "--------- 3 ---------- FoodStorageLivingRoom.csv\n",
      "--------- 4 ---------- Freezer.csv\n",
      "--------- 5 ---------- HouseEntrance.csv\n",
      "--------- 6 ---------- Medicines.csv\n",
      "--------- 7 ---------- Microwave.csv\n",
      "--------- 8 ---------- MotionBedroom.csv\n",
      "--------- 9 ---------- MotionKitchen.csv\n",
      "--------- 10 ---------- MotionLivingRoomSofa.csv\n",
      "--------- 11 ---------- MotionLivingRoomTablet.csv\n",
      "--------- 12 ---------- MotionPrimaryBathroom.csv\n",
      "--------- 13 ---------- MotionSecondaryBathroom.csv\n",
      "--------- 14 ---------- PlugTvHall.csv\n",
      "--------- 15 ---------- Printer.csv\n",
      "--------- 16 ---------- Refrigerator.csv\n",
      "--------- 17 ---------- Shower_Hum_Temp_humidity.csv\n",
      "--------- 18 ---------- Shower_Hum_Temp_temp.csv\n",
      "--------- 19 ---------- Stove_Hum_Temp_humidity.csv\n",
      "--------- 20 ---------- Stove_Hum_Temp_temp.csv\n"
     ]
    }
   ],
   "source": [
    "for i in range(len(cleaned_data)):\n",
    "    sensor_name = cleaned_data[i]['sensor']\n",
    "    print('---------',i,'----------', sensor_name)"
   ]
  },
  {
   "cell_type": "markdown",
   "metadata": {},
   "source": [
    "# Howmany times a device was interacted by the subject on a given date\n"
   ]
  },
  {
   "cell_type": "code",
   "execution_count": 12,
   "metadata": {},
   "outputs": [
    {
     "name": "stdout",
     "output_type": "stream",
     "text": [
      "-------> 2023-09-25\n"
     ]
    },
    {
     "data": {
      "application/vnd.plotly.v1+json": {
       "config": {
        "plotlyServerURL": "https://plot.ly"
       },
       "data": [
        {
         "type": "bar",
         "x": [
          "CoffeMachine.csv",
          "Dishes_Glasses.csv",
          "FoodStorageKitchen.csv",
          "FoodStorageLivingRoom.csv",
          "Freezer.csv",
          "HouseEntrance.csv",
          "Medicines.csv",
          "Microwave.csv",
          "MotionBedroom.csv",
          "MotionKitchen.csv",
          "MotionLivingRoomSofa.csv",
          "MotionLivingRoomTablet.csv",
          "MotionPrimaryBathroom.csv",
          "MotionSecondaryBathroom.csv",
          "PlugTvHall.csv",
          "Printer.csv",
          "Refrigerator.csv",
          "Shower_Hum_Temp_humidity.csv",
          "Shower_Hum_Temp_temp.csv",
          "Stove_Hum_Temp_humidity.csv",
          "Stove_Hum_Temp_temp.csv"
         ],
         "y": [
          1,
          5,
          0,
          6,
          6,
          11,
          2,
          0,
          27,
          51,
          60,
          65,
          0,
          0,
          18,
          0,
          22,
          0,
          0,
          0,
          0
         ]
        }
       ],
       "layout": {
        "annotations": [
         {
          "align": "center",
          "font": {
           "color": "black",
           "size": 14
          },
          "showarrow": false,
          "text": "Date: 2023-09-25",
          "x": 0.5,
          "xref": "paper",
          "y": 1.5,
          "yref": "paper"
         }
        ],
        "template": {
         "data": {
          "bar": [
           {
            "error_x": {
             "color": "#2a3f5f"
            },
            "error_y": {
             "color": "#2a3f5f"
            },
            "marker": {
             "line": {
              "color": "white",
              "width": 0.5
             },
             "pattern": {
              "fillmode": "overlay",
              "size": 10,
              "solidity": 0.2
             }
            },
            "type": "bar"
           }
          ],
          "barpolar": [
           {
            "marker": {
             "line": {
              "color": "white",
              "width": 0.5
             },
             "pattern": {
              "fillmode": "overlay",
              "size": 10,
              "solidity": 0.2
             }
            },
            "type": "barpolar"
           }
          ],
          "carpet": [
           {
            "aaxis": {
             "endlinecolor": "#2a3f5f",
             "gridcolor": "#C8D4E3",
             "linecolor": "#C8D4E3",
             "minorgridcolor": "#C8D4E3",
             "startlinecolor": "#2a3f5f"
            },
            "baxis": {
             "endlinecolor": "#2a3f5f",
             "gridcolor": "#C8D4E3",
             "linecolor": "#C8D4E3",
             "minorgridcolor": "#C8D4E3",
             "startlinecolor": "#2a3f5f"
            },
            "type": "carpet"
           }
          ],
          "choropleth": [
           {
            "colorbar": {
             "outlinewidth": 0,
             "ticks": ""
            },
            "type": "choropleth"
           }
          ],
          "contour": [
           {
            "colorbar": {
             "outlinewidth": 0,
             "ticks": ""
            },
            "colorscale": [
             [
              0,
              "#0d0887"
             ],
             [
              0.1111111111111111,
              "#46039f"
             ],
             [
              0.2222222222222222,
              "#7201a8"
             ],
             [
              0.3333333333333333,
              "#9c179e"
             ],
             [
              0.4444444444444444,
              "#bd3786"
             ],
             [
              0.5555555555555556,
              "#d8576b"
             ],
             [
              0.6666666666666666,
              "#ed7953"
             ],
             [
              0.7777777777777778,
              "#fb9f3a"
             ],
             [
              0.8888888888888888,
              "#fdca26"
             ],
             [
              1,
              "#f0f921"
             ]
            ],
            "type": "contour"
           }
          ],
          "contourcarpet": [
           {
            "colorbar": {
             "outlinewidth": 0,
             "ticks": ""
            },
            "type": "contourcarpet"
           }
          ],
          "heatmap": [
           {
            "colorbar": {
             "outlinewidth": 0,
             "ticks": ""
            },
            "colorscale": [
             [
              0,
              "#0d0887"
             ],
             [
              0.1111111111111111,
              "#46039f"
             ],
             [
              0.2222222222222222,
              "#7201a8"
             ],
             [
              0.3333333333333333,
              "#9c179e"
             ],
             [
              0.4444444444444444,
              "#bd3786"
             ],
             [
              0.5555555555555556,
              "#d8576b"
             ],
             [
              0.6666666666666666,
              "#ed7953"
             ],
             [
              0.7777777777777778,
              "#fb9f3a"
             ],
             [
              0.8888888888888888,
              "#fdca26"
             ],
             [
              1,
              "#f0f921"
             ]
            ],
            "type": "heatmap"
           }
          ],
          "heatmapgl": [
           {
            "colorbar": {
             "outlinewidth": 0,
             "ticks": ""
            },
            "colorscale": [
             [
              0,
              "#0d0887"
             ],
             [
              0.1111111111111111,
              "#46039f"
             ],
             [
              0.2222222222222222,
              "#7201a8"
             ],
             [
              0.3333333333333333,
              "#9c179e"
             ],
             [
              0.4444444444444444,
              "#bd3786"
             ],
             [
              0.5555555555555556,
              "#d8576b"
             ],
             [
              0.6666666666666666,
              "#ed7953"
             ],
             [
              0.7777777777777778,
              "#fb9f3a"
             ],
             [
              0.8888888888888888,
              "#fdca26"
             ],
             [
              1,
              "#f0f921"
             ]
            ],
            "type": "heatmapgl"
           }
          ],
          "histogram": [
           {
            "marker": {
             "pattern": {
              "fillmode": "overlay",
              "size": 10,
              "solidity": 0.2
             }
            },
            "type": "histogram"
           }
          ],
          "histogram2d": [
           {
            "colorbar": {
             "outlinewidth": 0,
             "ticks": ""
            },
            "colorscale": [
             [
              0,
              "#0d0887"
             ],
             [
              0.1111111111111111,
              "#46039f"
             ],
             [
              0.2222222222222222,
              "#7201a8"
             ],
             [
              0.3333333333333333,
              "#9c179e"
             ],
             [
              0.4444444444444444,
              "#bd3786"
             ],
             [
              0.5555555555555556,
              "#d8576b"
             ],
             [
              0.6666666666666666,
              "#ed7953"
             ],
             [
              0.7777777777777778,
              "#fb9f3a"
             ],
             [
              0.8888888888888888,
              "#fdca26"
             ],
             [
              1,
              "#f0f921"
             ]
            ],
            "type": "histogram2d"
           }
          ],
          "histogram2dcontour": [
           {
            "colorbar": {
             "outlinewidth": 0,
             "ticks": ""
            },
            "colorscale": [
             [
              0,
              "#0d0887"
             ],
             [
              0.1111111111111111,
              "#46039f"
             ],
             [
              0.2222222222222222,
              "#7201a8"
             ],
             [
              0.3333333333333333,
              "#9c179e"
             ],
             [
              0.4444444444444444,
              "#bd3786"
             ],
             [
              0.5555555555555556,
              "#d8576b"
             ],
             [
              0.6666666666666666,
              "#ed7953"
             ],
             [
              0.7777777777777778,
              "#fb9f3a"
             ],
             [
              0.8888888888888888,
              "#fdca26"
             ],
             [
              1,
              "#f0f921"
             ]
            ],
            "type": "histogram2dcontour"
           }
          ],
          "mesh3d": [
           {
            "colorbar": {
             "outlinewidth": 0,
             "ticks": ""
            },
            "type": "mesh3d"
           }
          ],
          "parcoords": [
           {
            "line": {
             "colorbar": {
              "outlinewidth": 0,
              "ticks": ""
             }
            },
            "type": "parcoords"
           }
          ],
          "pie": [
           {
            "automargin": true,
            "type": "pie"
           }
          ],
          "scatter": [
           {
            "fillpattern": {
             "fillmode": "overlay",
             "size": 10,
             "solidity": 0.2
            },
            "type": "scatter"
           }
          ],
          "scatter3d": [
           {
            "line": {
             "colorbar": {
              "outlinewidth": 0,
              "ticks": ""
             }
            },
            "marker": {
             "colorbar": {
              "outlinewidth": 0,
              "ticks": ""
             }
            },
            "type": "scatter3d"
           }
          ],
          "scattercarpet": [
           {
            "marker": {
             "colorbar": {
              "outlinewidth": 0,
              "ticks": ""
             }
            },
            "type": "scattercarpet"
           }
          ],
          "scattergeo": [
           {
            "marker": {
             "colorbar": {
              "outlinewidth": 0,
              "ticks": ""
             }
            },
            "type": "scattergeo"
           }
          ],
          "scattergl": [
           {
            "marker": {
             "colorbar": {
              "outlinewidth": 0,
              "ticks": ""
             }
            },
            "type": "scattergl"
           }
          ],
          "scattermapbox": [
           {
            "marker": {
             "colorbar": {
              "outlinewidth": 0,
              "ticks": ""
             }
            },
            "type": "scattermapbox"
           }
          ],
          "scatterpolar": [
           {
            "marker": {
             "colorbar": {
              "outlinewidth": 0,
              "ticks": ""
             }
            },
            "type": "scatterpolar"
           }
          ],
          "scatterpolargl": [
           {
            "marker": {
             "colorbar": {
              "outlinewidth": 0,
              "ticks": ""
             }
            },
            "type": "scatterpolargl"
           }
          ],
          "scatterternary": [
           {
            "marker": {
             "colorbar": {
              "outlinewidth": 0,
              "ticks": ""
             }
            },
            "type": "scatterternary"
           }
          ],
          "surface": [
           {
            "colorbar": {
             "outlinewidth": 0,
             "ticks": ""
            },
            "colorscale": [
             [
              0,
              "#0d0887"
             ],
             [
              0.1111111111111111,
              "#46039f"
             ],
             [
              0.2222222222222222,
              "#7201a8"
             ],
             [
              0.3333333333333333,
              "#9c179e"
             ],
             [
              0.4444444444444444,
              "#bd3786"
             ],
             [
              0.5555555555555556,
              "#d8576b"
             ],
             [
              0.6666666666666666,
              "#ed7953"
             ],
             [
              0.7777777777777778,
              "#fb9f3a"
             ],
             [
              0.8888888888888888,
              "#fdca26"
             ],
             [
              1,
              "#f0f921"
             ]
            ],
            "type": "surface"
           }
          ],
          "table": [
           {
            "cells": {
             "fill": {
              "color": "#EBF0F8"
             },
             "line": {
              "color": "white"
             }
            },
            "header": {
             "fill": {
              "color": "#C8D4E3"
             },
             "line": {
              "color": "white"
             }
            },
            "type": "table"
           }
          ]
         },
         "layout": {
          "annotationdefaults": {
           "arrowcolor": "#2a3f5f",
           "arrowhead": 0,
           "arrowwidth": 1
          },
          "autotypenumbers": "strict",
          "coloraxis": {
           "colorbar": {
            "outlinewidth": 0,
            "ticks": ""
           }
          },
          "colorscale": {
           "diverging": [
            [
             0,
             "#8e0152"
            ],
            [
             0.1,
             "#c51b7d"
            ],
            [
             0.2,
             "#de77ae"
            ],
            [
             0.3,
             "#f1b6da"
            ],
            [
             0.4,
             "#fde0ef"
            ],
            [
             0.5,
             "#f7f7f7"
            ],
            [
             0.6,
             "#e6f5d0"
            ],
            [
             0.7,
             "#b8e186"
            ],
            [
             0.8,
             "#7fbc41"
            ],
            [
             0.9,
             "#4d9221"
            ],
            [
             1,
             "#276419"
            ]
           ],
           "sequential": [
            [
             0,
             "#0d0887"
            ],
            [
             0.1111111111111111,
             "#46039f"
            ],
            [
             0.2222222222222222,
             "#7201a8"
            ],
            [
             0.3333333333333333,
             "#9c179e"
            ],
            [
             0.4444444444444444,
             "#bd3786"
            ],
            [
             0.5555555555555556,
             "#d8576b"
            ],
            [
             0.6666666666666666,
             "#ed7953"
            ],
            [
             0.7777777777777778,
             "#fb9f3a"
            ],
            [
             0.8888888888888888,
             "#fdca26"
            ],
            [
             1,
             "#f0f921"
            ]
           ],
           "sequentialminus": [
            [
             0,
             "#0d0887"
            ],
            [
             0.1111111111111111,
             "#46039f"
            ],
            [
             0.2222222222222222,
             "#7201a8"
            ],
            [
             0.3333333333333333,
             "#9c179e"
            ],
            [
             0.4444444444444444,
             "#bd3786"
            ],
            [
             0.5555555555555556,
             "#d8576b"
            ],
            [
             0.6666666666666666,
             "#ed7953"
            ],
            [
             0.7777777777777778,
             "#fb9f3a"
            ],
            [
             0.8888888888888888,
             "#fdca26"
            ],
            [
             1,
             "#f0f921"
            ]
           ]
          },
          "colorway": [
           "#636efa",
           "#EF553B",
           "#00cc96",
           "#ab63fa",
           "#FFA15A",
           "#19d3f3",
           "#FF6692",
           "#B6E880",
           "#FF97FF",
           "#FECB52"
          ],
          "font": {
           "color": "#2a3f5f"
          },
          "geo": {
           "bgcolor": "white",
           "lakecolor": "white",
           "landcolor": "white",
           "showlakes": true,
           "showland": true,
           "subunitcolor": "#C8D4E3"
          },
          "hoverlabel": {
           "align": "left"
          },
          "hovermode": "closest",
          "mapbox": {
           "style": "light"
          },
          "paper_bgcolor": "white",
          "plot_bgcolor": "white",
          "polar": {
           "angularaxis": {
            "gridcolor": "#EBF0F8",
            "linecolor": "#EBF0F8",
            "ticks": ""
           },
           "bgcolor": "white",
           "radialaxis": {
            "gridcolor": "#EBF0F8",
            "linecolor": "#EBF0F8",
            "ticks": ""
           }
          },
          "scene": {
           "xaxis": {
            "backgroundcolor": "white",
            "gridcolor": "#DFE8F3",
            "gridwidth": 2,
            "linecolor": "#EBF0F8",
            "showbackground": true,
            "ticks": "",
            "zerolinecolor": "#EBF0F8"
           },
           "yaxis": {
            "backgroundcolor": "white",
            "gridcolor": "#DFE8F3",
            "gridwidth": 2,
            "linecolor": "#EBF0F8",
            "showbackground": true,
            "ticks": "",
            "zerolinecolor": "#EBF0F8"
           },
           "zaxis": {
            "backgroundcolor": "white",
            "gridcolor": "#DFE8F3",
            "gridwidth": 2,
            "linecolor": "#EBF0F8",
            "showbackground": true,
            "ticks": "",
            "zerolinecolor": "#EBF0F8"
           }
          },
          "shapedefaults": {
           "line": {
            "color": "#2a3f5f"
           }
          },
          "ternary": {
           "aaxis": {
            "gridcolor": "#DFE8F3",
            "linecolor": "#A2B1C6",
            "ticks": ""
           },
           "baxis": {
            "gridcolor": "#DFE8F3",
            "linecolor": "#A2B1C6",
            "ticks": ""
           },
           "bgcolor": "white",
           "caxis": {
            "gridcolor": "#DFE8F3",
            "linecolor": "#A2B1C6",
            "ticks": ""
           }
          },
          "title": {
           "x": 0.05
          },
          "xaxis": {
           "automargin": true,
           "gridcolor": "#EBF0F8",
           "linecolor": "#EBF0F8",
           "ticks": "",
           "title": {
            "standoff": 15
           },
           "zerolinecolor": "#EBF0F8",
           "zerolinewidth": 2
          },
          "yaxis": {
           "automargin": true,
           "gridcolor": "#EBF0F8",
           "linecolor": "#EBF0F8",
           "ticks": "",
           "title": {
            "standoff": 15
           },
           "zerolinecolor": "#EBF0F8",
           "zerolinewidth": 2
          }
         }
        },
        "title": {
         "text": "Sensor Activation Counts"
        },
        "xaxis": {
         "tickangle": -90,
         "title": {
          "text": "Sensors"
         }
        },
        "yaxis": {
         "title": {
          "text": "Activation Count"
         }
        }
       }
      }
     },
     "metadata": {},
     "output_type": "display_data"
    },
    {
     "name": "stdout",
     "output_type": "stream",
     "text": [
      "-------> 2023-09-26\n"
     ]
    },
    {
     "data": {
      "application/vnd.plotly.v1+json": {
       "config": {
        "plotlyServerURL": "https://plot.ly"
       },
       "data": [
        {
         "type": "bar",
         "x": [
          "CoffeMachine.csv",
          "Dishes_Glasses.csv",
          "FoodStorageKitchen.csv",
          "FoodStorageLivingRoom.csv",
          "Freezer.csv",
          "HouseEntrance.csv",
          "Medicines.csv",
          "Microwave.csv",
          "MotionBedroom.csv",
          "MotionKitchen.csv",
          "MotionLivingRoomSofa.csv",
          "MotionLivingRoomTablet.csv",
          "MotionPrimaryBathroom.csv",
          "MotionSecondaryBathroom.csv",
          "PlugTvHall.csv",
          "Printer.csv",
          "Refrigerator.csv",
          "Shower_Hum_Temp_humidity.csv",
          "Shower_Hum_Temp_temp.csv",
          "Stove_Hum_Temp_humidity.csv",
          "Stove_Hum_Temp_temp.csv"
         ],
         "y": [
          1,
          2,
          2,
          3,
          1,
          8,
          3,
          2,
          61,
          35,
          59,
          141,
          0,
          0,
          41,
          0,
          11,
          0,
          0,
          0,
          0
         ]
        }
       ],
       "layout": {
        "annotations": [
         {
          "align": "center",
          "font": {
           "color": "black",
           "size": 14
          },
          "showarrow": false,
          "text": "Date: 2023-09-26",
          "x": 0.5,
          "xref": "paper",
          "y": 1.5,
          "yref": "paper"
         }
        ],
        "template": {
         "data": {
          "bar": [
           {
            "error_x": {
             "color": "#2a3f5f"
            },
            "error_y": {
             "color": "#2a3f5f"
            },
            "marker": {
             "line": {
              "color": "white",
              "width": 0.5
             },
             "pattern": {
              "fillmode": "overlay",
              "size": 10,
              "solidity": 0.2
             }
            },
            "type": "bar"
           }
          ],
          "barpolar": [
           {
            "marker": {
             "line": {
              "color": "white",
              "width": 0.5
             },
             "pattern": {
              "fillmode": "overlay",
              "size": 10,
              "solidity": 0.2
             }
            },
            "type": "barpolar"
           }
          ],
          "carpet": [
           {
            "aaxis": {
             "endlinecolor": "#2a3f5f",
             "gridcolor": "#C8D4E3",
             "linecolor": "#C8D4E3",
             "minorgridcolor": "#C8D4E3",
             "startlinecolor": "#2a3f5f"
            },
            "baxis": {
             "endlinecolor": "#2a3f5f",
             "gridcolor": "#C8D4E3",
             "linecolor": "#C8D4E3",
             "minorgridcolor": "#C8D4E3",
             "startlinecolor": "#2a3f5f"
            },
            "type": "carpet"
           }
          ],
          "choropleth": [
           {
            "colorbar": {
             "outlinewidth": 0,
             "ticks": ""
            },
            "type": "choropleth"
           }
          ],
          "contour": [
           {
            "colorbar": {
             "outlinewidth": 0,
             "ticks": ""
            },
            "colorscale": [
             [
              0,
              "#0d0887"
             ],
             [
              0.1111111111111111,
              "#46039f"
             ],
             [
              0.2222222222222222,
              "#7201a8"
             ],
             [
              0.3333333333333333,
              "#9c179e"
             ],
             [
              0.4444444444444444,
              "#bd3786"
             ],
             [
              0.5555555555555556,
              "#d8576b"
             ],
             [
              0.6666666666666666,
              "#ed7953"
             ],
             [
              0.7777777777777778,
              "#fb9f3a"
             ],
             [
              0.8888888888888888,
              "#fdca26"
             ],
             [
              1,
              "#f0f921"
             ]
            ],
            "type": "contour"
           }
          ],
          "contourcarpet": [
           {
            "colorbar": {
             "outlinewidth": 0,
             "ticks": ""
            },
            "type": "contourcarpet"
           }
          ],
          "heatmap": [
           {
            "colorbar": {
             "outlinewidth": 0,
             "ticks": ""
            },
            "colorscale": [
             [
              0,
              "#0d0887"
             ],
             [
              0.1111111111111111,
              "#46039f"
             ],
             [
              0.2222222222222222,
              "#7201a8"
             ],
             [
              0.3333333333333333,
              "#9c179e"
             ],
             [
              0.4444444444444444,
              "#bd3786"
             ],
             [
              0.5555555555555556,
              "#d8576b"
             ],
             [
              0.6666666666666666,
              "#ed7953"
             ],
             [
              0.7777777777777778,
              "#fb9f3a"
             ],
             [
              0.8888888888888888,
              "#fdca26"
             ],
             [
              1,
              "#f0f921"
             ]
            ],
            "type": "heatmap"
           }
          ],
          "heatmapgl": [
           {
            "colorbar": {
             "outlinewidth": 0,
             "ticks": ""
            },
            "colorscale": [
             [
              0,
              "#0d0887"
             ],
             [
              0.1111111111111111,
              "#46039f"
             ],
             [
              0.2222222222222222,
              "#7201a8"
             ],
             [
              0.3333333333333333,
              "#9c179e"
             ],
             [
              0.4444444444444444,
              "#bd3786"
             ],
             [
              0.5555555555555556,
              "#d8576b"
             ],
             [
              0.6666666666666666,
              "#ed7953"
             ],
             [
              0.7777777777777778,
              "#fb9f3a"
             ],
             [
              0.8888888888888888,
              "#fdca26"
             ],
             [
              1,
              "#f0f921"
             ]
            ],
            "type": "heatmapgl"
           }
          ],
          "histogram": [
           {
            "marker": {
             "pattern": {
              "fillmode": "overlay",
              "size": 10,
              "solidity": 0.2
             }
            },
            "type": "histogram"
           }
          ],
          "histogram2d": [
           {
            "colorbar": {
             "outlinewidth": 0,
             "ticks": ""
            },
            "colorscale": [
             [
              0,
              "#0d0887"
             ],
             [
              0.1111111111111111,
              "#46039f"
             ],
             [
              0.2222222222222222,
              "#7201a8"
             ],
             [
              0.3333333333333333,
              "#9c179e"
             ],
             [
              0.4444444444444444,
              "#bd3786"
             ],
             [
              0.5555555555555556,
              "#d8576b"
             ],
             [
              0.6666666666666666,
              "#ed7953"
             ],
             [
              0.7777777777777778,
              "#fb9f3a"
             ],
             [
              0.8888888888888888,
              "#fdca26"
             ],
             [
              1,
              "#f0f921"
             ]
            ],
            "type": "histogram2d"
           }
          ],
          "histogram2dcontour": [
           {
            "colorbar": {
             "outlinewidth": 0,
             "ticks": ""
            },
            "colorscale": [
             [
              0,
              "#0d0887"
             ],
             [
              0.1111111111111111,
              "#46039f"
             ],
             [
              0.2222222222222222,
              "#7201a8"
             ],
             [
              0.3333333333333333,
              "#9c179e"
             ],
             [
              0.4444444444444444,
              "#bd3786"
             ],
             [
              0.5555555555555556,
              "#d8576b"
             ],
             [
              0.6666666666666666,
              "#ed7953"
             ],
             [
              0.7777777777777778,
              "#fb9f3a"
             ],
             [
              0.8888888888888888,
              "#fdca26"
             ],
             [
              1,
              "#f0f921"
             ]
            ],
            "type": "histogram2dcontour"
           }
          ],
          "mesh3d": [
           {
            "colorbar": {
             "outlinewidth": 0,
             "ticks": ""
            },
            "type": "mesh3d"
           }
          ],
          "parcoords": [
           {
            "line": {
             "colorbar": {
              "outlinewidth": 0,
              "ticks": ""
             }
            },
            "type": "parcoords"
           }
          ],
          "pie": [
           {
            "automargin": true,
            "type": "pie"
           }
          ],
          "scatter": [
           {
            "fillpattern": {
             "fillmode": "overlay",
             "size": 10,
             "solidity": 0.2
            },
            "type": "scatter"
           }
          ],
          "scatter3d": [
           {
            "line": {
             "colorbar": {
              "outlinewidth": 0,
              "ticks": ""
             }
            },
            "marker": {
             "colorbar": {
              "outlinewidth": 0,
              "ticks": ""
             }
            },
            "type": "scatter3d"
           }
          ],
          "scattercarpet": [
           {
            "marker": {
             "colorbar": {
              "outlinewidth": 0,
              "ticks": ""
             }
            },
            "type": "scattercarpet"
           }
          ],
          "scattergeo": [
           {
            "marker": {
             "colorbar": {
              "outlinewidth": 0,
              "ticks": ""
             }
            },
            "type": "scattergeo"
           }
          ],
          "scattergl": [
           {
            "marker": {
             "colorbar": {
              "outlinewidth": 0,
              "ticks": ""
             }
            },
            "type": "scattergl"
           }
          ],
          "scattermapbox": [
           {
            "marker": {
             "colorbar": {
              "outlinewidth": 0,
              "ticks": ""
             }
            },
            "type": "scattermapbox"
           }
          ],
          "scatterpolar": [
           {
            "marker": {
             "colorbar": {
              "outlinewidth": 0,
              "ticks": ""
             }
            },
            "type": "scatterpolar"
           }
          ],
          "scatterpolargl": [
           {
            "marker": {
             "colorbar": {
              "outlinewidth": 0,
              "ticks": ""
             }
            },
            "type": "scatterpolargl"
           }
          ],
          "scatterternary": [
           {
            "marker": {
             "colorbar": {
              "outlinewidth": 0,
              "ticks": ""
             }
            },
            "type": "scatterternary"
           }
          ],
          "surface": [
           {
            "colorbar": {
             "outlinewidth": 0,
             "ticks": ""
            },
            "colorscale": [
             [
              0,
              "#0d0887"
             ],
             [
              0.1111111111111111,
              "#46039f"
             ],
             [
              0.2222222222222222,
              "#7201a8"
             ],
             [
              0.3333333333333333,
              "#9c179e"
             ],
             [
              0.4444444444444444,
              "#bd3786"
             ],
             [
              0.5555555555555556,
              "#d8576b"
             ],
             [
              0.6666666666666666,
              "#ed7953"
             ],
             [
              0.7777777777777778,
              "#fb9f3a"
             ],
             [
              0.8888888888888888,
              "#fdca26"
             ],
             [
              1,
              "#f0f921"
             ]
            ],
            "type": "surface"
           }
          ],
          "table": [
           {
            "cells": {
             "fill": {
              "color": "#EBF0F8"
             },
             "line": {
              "color": "white"
             }
            },
            "header": {
             "fill": {
              "color": "#C8D4E3"
             },
             "line": {
              "color": "white"
             }
            },
            "type": "table"
           }
          ]
         },
         "layout": {
          "annotationdefaults": {
           "arrowcolor": "#2a3f5f",
           "arrowhead": 0,
           "arrowwidth": 1
          },
          "autotypenumbers": "strict",
          "coloraxis": {
           "colorbar": {
            "outlinewidth": 0,
            "ticks": ""
           }
          },
          "colorscale": {
           "diverging": [
            [
             0,
             "#8e0152"
            ],
            [
             0.1,
             "#c51b7d"
            ],
            [
             0.2,
             "#de77ae"
            ],
            [
             0.3,
             "#f1b6da"
            ],
            [
             0.4,
             "#fde0ef"
            ],
            [
             0.5,
             "#f7f7f7"
            ],
            [
             0.6,
             "#e6f5d0"
            ],
            [
             0.7,
             "#b8e186"
            ],
            [
             0.8,
             "#7fbc41"
            ],
            [
             0.9,
             "#4d9221"
            ],
            [
             1,
             "#276419"
            ]
           ],
           "sequential": [
            [
             0,
             "#0d0887"
            ],
            [
             0.1111111111111111,
             "#46039f"
            ],
            [
             0.2222222222222222,
             "#7201a8"
            ],
            [
             0.3333333333333333,
             "#9c179e"
            ],
            [
             0.4444444444444444,
             "#bd3786"
            ],
            [
             0.5555555555555556,
             "#d8576b"
            ],
            [
             0.6666666666666666,
             "#ed7953"
            ],
            [
             0.7777777777777778,
             "#fb9f3a"
            ],
            [
             0.8888888888888888,
             "#fdca26"
            ],
            [
             1,
             "#f0f921"
            ]
           ],
           "sequentialminus": [
            [
             0,
             "#0d0887"
            ],
            [
             0.1111111111111111,
             "#46039f"
            ],
            [
             0.2222222222222222,
             "#7201a8"
            ],
            [
             0.3333333333333333,
             "#9c179e"
            ],
            [
             0.4444444444444444,
             "#bd3786"
            ],
            [
             0.5555555555555556,
             "#d8576b"
            ],
            [
             0.6666666666666666,
             "#ed7953"
            ],
            [
             0.7777777777777778,
             "#fb9f3a"
            ],
            [
             0.8888888888888888,
             "#fdca26"
            ],
            [
             1,
             "#f0f921"
            ]
           ]
          },
          "colorway": [
           "#636efa",
           "#EF553B",
           "#00cc96",
           "#ab63fa",
           "#FFA15A",
           "#19d3f3",
           "#FF6692",
           "#B6E880",
           "#FF97FF",
           "#FECB52"
          ],
          "font": {
           "color": "#2a3f5f"
          },
          "geo": {
           "bgcolor": "white",
           "lakecolor": "white",
           "landcolor": "white",
           "showlakes": true,
           "showland": true,
           "subunitcolor": "#C8D4E3"
          },
          "hoverlabel": {
           "align": "left"
          },
          "hovermode": "closest",
          "mapbox": {
           "style": "light"
          },
          "paper_bgcolor": "white",
          "plot_bgcolor": "white",
          "polar": {
           "angularaxis": {
            "gridcolor": "#EBF0F8",
            "linecolor": "#EBF0F8",
            "ticks": ""
           },
           "bgcolor": "white",
           "radialaxis": {
            "gridcolor": "#EBF0F8",
            "linecolor": "#EBF0F8",
            "ticks": ""
           }
          },
          "scene": {
           "xaxis": {
            "backgroundcolor": "white",
            "gridcolor": "#DFE8F3",
            "gridwidth": 2,
            "linecolor": "#EBF0F8",
            "showbackground": true,
            "ticks": "",
            "zerolinecolor": "#EBF0F8"
           },
           "yaxis": {
            "backgroundcolor": "white",
            "gridcolor": "#DFE8F3",
            "gridwidth": 2,
            "linecolor": "#EBF0F8",
            "showbackground": true,
            "ticks": "",
            "zerolinecolor": "#EBF0F8"
           },
           "zaxis": {
            "backgroundcolor": "white",
            "gridcolor": "#DFE8F3",
            "gridwidth": 2,
            "linecolor": "#EBF0F8",
            "showbackground": true,
            "ticks": "",
            "zerolinecolor": "#EBF0F8"
           }
          },
          "shapedefaults": {
           "line": {
            "color": "#2a3f5f"
           }
          },
          "ternary": {
           "aaxis": {
            "gridcolor": "#DFE8F3",
            "linecolor": "#A2B1C6",
            "ticks": ""
           },
           "baxis": {
            "gridcolor": "#DFE8F3",
            "linecolor": "#A2B1C6",
            "ticks": ""
           },
           "bgcolor": "white",
           "caxis": {
            "gridcolor": "#DFE8F3",
            "linecolor": "#A2B1C6",
            "ticks": ""
           }
          },
          "title": {
           "x": 0.05
          },
          "xaxis": {
           "automargin": true,
           "gridcolor": "#EBF0F8",
           "linecolor": "#EBF0F8",
           "ticks": "",
           "title": {
            "standoff": 15
           },
           "zerolinecolor": "#EBF0F8",
           "zerolinewidth": 2
          },
          "yaxis": {
           "automargin": true,
           "gridcolor": "#EBF0F8",
           "linecolor": "#EBF0F8",
           "ticks": "",
           "title": {
            "standoff": 15
           },
           "zerolinecolor": "#EBF0F8",
           "zerolinewidth": 2
          }
         }
        },
        "title": {
         "text": "Sensor Activation Counts"
        },
        "xaxis": {
         "tickangle": -90,
         "title": {
          "text": "Sensors"
         }
        },
        "yaxis": {
         "title": {
          "text": "Activation Count"
         }
        }
       }
      }
     },
     "metadata": {},
     "output_type": "display_data"
    },
    {
     "name": "stdout",
     "output_type": "stream",
     "text": [
      "-------> 2023-09-27\n"
     ]
    },
    {
     "data": {
      "application/vnd.plotly.v1+json": {
       "config": {
        "plotlyServerURL": "https://plot.ly"
       },
       "data": [
        {
         "type": "bar",
         "x": [
          "CoffeMachine.csv",
          "Dishes_Glasses.csv",
          "FoodStorageKitchen.csv",
          "FoodStorageLivingRoom.csv",
          "Freezer.csv",
          "HouseEntrance.csv",
          "Medicines.csv",
          "Microwave.csv",
          "MotionBedroom.csv",
          "MotionKitchen.csv",
          "MotionLivingRoomSofa.csv",
          "MotionLivingRoomTablet.csv",
          "MotionPrimaryBathroom.csv",
          "MotionSecondaryBathroom.csv",
          "PlugTvHall.csv",
          "Printer.csv",
          "Refrigerator.csv",
          "Shower_Hum_Temp_humidity.csv",
          "Shower_Hum_Temp_temp.csv",
          "Stove_Hum_Temp_humidity.csv",
          "Stove_Hum_Temp_temp.csv"
         ],
         "y": [
          3,
          7,
          2,
          4,
          1,
          12,
          3,
          1,
          49,
          49,
          91,
          56,
          0,
          0,
          23,
          0,
          23,
          0,
          0,
          0,
          0
         ]
        }
       ],
       "layout": {
        "annotations": [
         {
          "align": "center",
          "font": {
           "color": "black",
           "size": 14
          },
          "showarrow": false,
          "text": "Date: 2023-09-27",
          "x": 0.5,
          "xref": "paper",
          "y": 1.5,
          "yref": "paper"
         }
        ],
        "template": {
         "data": {
          "bar": [
           {
            "error_x": {
             "color": "#2a3f5f"
            },
            "error_y": {
             "color": "#2a3f5f"
            },
            "marker": {
             "line": {
              "color": "white",
              "width": 0.5
             },
             "pattern": {
              "fillmode": "overlay",
              "size": 10,
              "solidity": 0.2
             }
            },
            "type": "bar"
           }
          ],
          "barpolar": [
           {
            "marker": {
             "line": {
              "color": "white",
              "width": 0.5
             },
             "pattern": {
              "fillmode": "overlay",
              "size": 10,
              "solidity": 0.2
             }
            },
            "type": "barpolar"
           }
          ],
          "carpet": [
           {
            "aaxis": {
             "endlinecolor": "#2a3f5f",
             "gridcolor": "#C8D4E3",
             "linecolor": "#C8D4E3",
             "minorgridcolor": "#C8D4E3",
             "startlinecolor": "#2a3f5f"
            },
            "baxis": {
             "endlinecolor": "#2a3f5f",
             "gridcolor": "#C8D4E3",
             "linecolor": "#C8D4E3",
             "minorgridcolor": "#C8D4E3",
             "startlinecolor": "#2a3f5f"
            },
            "type": "carpet"
           }
          ],
          "choropleth": [
           {
            "colorbar": {
             "outlinewidth": 0,
             "ticks": ""
            },
            "type": "choropleth"
           }
          ],
          "contour": [
           {
            "colorbar": {
             "outlinewidth": 0,
             "ticks": ""
            },
            "colorscale": [
             [
              0,
              "#0d0887"
             ],
             [
              0.1111111111111111,
              "#46039f"
             ],
             [
              0.2222222222222222,
              "#7201a8"
             ],
             [
              0.3333333333333333,
              "#9c179e"
             ],
             [
              0.4444444444444444,
              "#bd3786"
             ],
             [
              0.5555555555555556,
              "#d8576b"
             ],
             [
              0.6666666666666666,
              "#ed7953"
             ],
             [
              0.7777777777777778,
              "#fb9f3a"
             ],
             [
              0.8888888888888888,
              "#fdca26"
             ],
             [
              1,
              "#f0f921"
             ]
            ],
            "type": "contour"
           }
          ],
          "contourcarpet": [
           {
            "colorbar": {
             "outlinewidth": 0,
             "ticks": ""
            },
            "type": "contourcarpet"
           }
          ],
          "heatmap": [
           {
            "colorbar": {
             "outlinewidth": 0,
             "ticks": ""
            },
            "colorscale": [
             [
              0,
              "#0d0887"
             ],
             [
              0.1111111111111111,
              "#46039f"
             ],
             [
              0.2222222222222222,
              "#7201a8"
             ],
             [
              0.3333333333333333,
              "#9c179e"
             ],
             [
              0.4444444444444444,
              "#bd3786"
             ],
             [
              0.5555555555555556,
              "#d8576b"
             ],
             [
              0.6666666666666666,
              "#ed7953"
             ],
             [
              0.7777777777777778,
              "#fb9f3a"
             ],
             [
              0.8888888888888888,
              "#fdca26"
             ],
             [
              1,
              "#f0f921"
             ]
            ],
            "type": "heatmap"
           }
          ],
          "heatmapgl": [
           {
            "colorbar": {
             "outlinewidth": 0,
             "ticks": ""
            },
            "colorscale": [
             [
              0,
              "#0d0887"
             ],
             [
              0.1111111111111111,
              "#46039f"
             ],
             [
              0.2222222222222222,
              "#7201a8"
             ],
             [
              0.3333333333333333,
              "#9c179e"
             ],
             [
              0.4444444444444444,
              "#bd3786"
             ],
             [
              0.5555555555555556,
              "#d8576b"
             ],
             [
              0.6666666666666666,
              "#ed7953"
             ],
             [
              0.7777777777777778,
              "#fb9f3a"
             ],
             [
              0.8888888888888888,
              "#fdca26"
             ],
             [
              1,
              "#f0f921"
             ]
            ],
            "type": "heatmapgl"
           }
          ],
          "histogram": [
           {
            "marker": {
             "pattern": {
              "fillmode": "overlay",
              "size": 10,
              "solidity": 0.2
             }
            },
            "type": "histogram"
           }
          ],
          "histogram2d": [
           {
            "colorbar": {
             "outlinewidth": 0,
             "ticks": ""
            },
            "colorscale": [
             [
              0,
              "#0d0887"
             ],
             [
              0.1111111111111111,
              "#46039f"
             ],
             [
              0.2222222222222222,
              "#7201a8"
             ],
             [
              0.3333333333333333,
              "#9c179e"
             ],
             [
              0.4444444444444444,
              "#bd3786"
             ],
             [
              0.5555555555555556,
              "#d8576b"
             ],
             [
              0.6666666666666666,
              "#ed7953"
             ],
             [
              0.7777777777777778,
              "#fb9f3a"
             ],
             [
              0.8888888888888888,
              "#fdca26"
             ],
             [
              1,
              "#f0f921"
             ]
            ],
            "type": "histogram2d"
           }
          ],
          "histogram2dcontour": [
           {
            "colorbar": {
             "outlinewidth": 0,
             "ticks": ""
            },
            "colorscale": [
             [
              0,
              "#0d0887"
             ],
             [
              0.1111111111111111,
              "#46039f"
             ],
             [
              0.2222222222222222,
              "#7201a8"
             ],
             [
              0.3333333333333333,
              "#9c179e"
             ],
             [
              0.4444444444444444,
              "#bd3786"
             ],
             [
              0.5555555555555556,
              "#d8576b"
             ],
             [
              0.6666666666666666,
              "#ed7953"
             ],
             [
              0.7777777777777778,
              "#fb9f3a"
             ],
             [
              0.8888888888888888,
              "#fdca26"
             ],
             [
              1,
              "#f0f921"
             ]
            ],
            "type": "histogram2dcontour"
           }
          ],
          "mesh3d": [
           {
            "colorbar": {
             "outlinewidth": 0,
             "ticks": ""
            },
            "type": "mesh3d"
           }
          ],
          "parcoords": [
           {
            "line": {
             "colorbar": {
              "outlinewidth": 0,
              "ticks": ""
             }
            },
            "type": "parcoords"
           }
          ],
          "pie": [
           {
            "automargin": true,
            "type": "pie"
           }
          ],
          "scatter": [
           {
            "fillpattern": {
             "fillmode": "overlay",
             "size": 10,
             "solidity": 0.2
            },
            "type": "scatter"
           }
          ],
          "scatter3d": [
           {
            "line": {
             "colorbar": {
              "outlinewidth": 0,
              "ticks": ""
             }
            },
            "marker": {
             "colorbar": {
              "outlinewidth": 0,
              "ticks": ""
             }
            },
            "type": "scatter3d"
           }
          ],
          "scattercarpet": [
           {
            "marker": {
             "colorbar": {
              "outlinewidth": 0,
              "ticks": ""
             }
            },
            "type": "scattercarpet"
           }
          ],
          "scattergeo": [
           {
            "marker": {
             "colorbar": {
              "outlinewidth": 0,
              "ticks": ""
             }
            },
            "type": "scattergeo"
           }
          ],
          "scattergl": [
           {
            "marker": {
             "colorbar": {
              "outlinewidth": 0,
              "ticks": ""
             }
            },
            "type": "scattergl"
           }
          ],
          "scattermapbox": [
           {
            "marker": {
             "colorbar": {
              "outlinewidth": 0,
              "ticks": ""
             }
            },
            "type": "scattermapbox"
           }
          ],
          "scatterpolar": [
           {
            "marker": {
             "colorbar": {
              "outlinewidth": 0,
              "ticks": ""
             }
            },
            "type": "scatterpolar"
           }
          ],
          "scatterpolargl": [
           {
            "marker": {
             "colorbar": {
              "outlinewidth": 0,
              "ticks": ""
             }
            },
            "type": "scatterpolargl"
           }
          ],
          "scatterternary": [
           {
            "marker": {
             "colorbar": {
              "outlinewidth": 0,
              "ticks": ""
             }
            },
            "type": "scatterternary"
           }
          ],
          "surface": [
           {
            "colorbar": {
             "outlinewidth": 0,
             "ticks": ""
            },
            "colorscale": [
             [
              0,
              "#0d0887"
             ],
             [
              0.1111111111111111,
              "#46039f"
             ],
             [
              0.2222222222222222,
              "#7201a8"
             ],
             [
              0.3333333333333333,
              "#9c179e"
             ],
             [
              0.4444444444444444,
              "#bd3786"
             ],
             [
              0.5555555555555556,
              "#d8576b"
             ],
             [
              0.6666666666666666,
              "#ed7953"
             ],
             [
              0.7777777777777778,
              "#fb9f3a"
             ],
             [
              0.8888888888888888,
              "#fdca26"
             ],
             [
              1,
              "#f0f921"
             ]
            ],
            "type": "surface"
           }
          ],
          "table": [
           {
            "cells": {
             "fill": {
              "color": "#EBF0F8"
             },
             "line": {
              "color": "white"
             }
            },
            "header": {
             "fill": {
              "color": "#C8D4E3"
             },
             "line": {
              "color": "white"
             }
            },
            "type": "table"
           }
          ]
         },
         "layout": {
          "annotationdefaults": {
           "arrowcolor": "#2a3f5f",
           "arrowhead": 0,
           "arrowwidth": 1
          },
          "autotypenumbers": "strict",
          "coloraxis": {
           "colorbar": {
            "outlinewidth": 0,
            "ticks": ""
           }
          },
          "colorscale": {
           "diverging": [
            [
             0,
             "#8e0152"
            ],
            [
             0.1,
             "#c51b7d"
            ],
            [
             0.2,
             "#de77ae"
            ],
            [
             0.3,
             "#f1b6da"
            ],
            [
             0.4,
             "#fde0ef"
            ],
            [
             0.5,
             "#f7f7f7"
            ],
            [
             0.6,
             "#e6f5d0"
            ],
            [
             0.7,
             "#b8e186"
            ],
            [
             0.8,
             "#7fbc41"
            ],
            [
             0.9,
             "#4d9221"
            ],
            [
             1,
             "#276419"
            ]
           ],
           "sequential": [
            [
             0,
             "#0d0887"
            ],
            [
             0.1111111111111111,
             "#46039f"
            ],
            [
             0.2222222222222222,
             "#7201a8"
            ],
            [
             0.3333333333333333,
             "#9c179e"
            ],
            [
             0.4444444444444444,
             "#bd3786"
            ],
            [
             0.5555555555555556,
             "#d8576b"
            ],
            [
             0.6666666666666666,
             "#ed7953"
            ],
            [
             0.7777777777777778,
             "#fb9f3a"
            ],
            [
             0.8888888888888888,
             "#fdca26"
            ],
            [
             1,
             "#f0f921"
            ]
           ],
           "sequentialminus": [
            [
             0,
             "#0d0887"
            ],
            [
             0.1111111111111111,
             "#46039f"
            ],
            [
             0.2222222222222222,
             "#7201a8"
            ],
            [
             0.3333333333333333,
             "#9c179e"
            ],
            [
             0.4444444444444444,
             "#bd3786"
            ],
            [
             0.5555555555555556,
             "#d8576b"
            ],
            [
             0.6666666666666666,
             "#ed7953"
            ],
            [
             0.7777777777777778,
             "#fb9f3a"
            ],
            [
             0.8888888888888888,
             "#fdca26"
            ],
            [
             1,
             "#f0f921"
            ]
           ]
          },
          "colorway": [
           "#636efa",
           "#EF553B",
           "#00cc96",
           "#ab63fa",
           "#FFA15A",
           "#19d3f3",
           "#FF6692",
           "#B6E880",
           "#FF97FF",
           "#FECB52"
          ],
          "font": {
           "color": "#2a3f5f"
          },
          "geo": {
           "bgcolor": "white",
           "lakecolor": "white",
           "landcolor": "white",
           "showlakes": true,
           "showland": true,
           "subunitcolor": "#C8D4E3"
          },
          "hoverlabel": {
           "align": "left"
          },
          "hovermode": "closest",
          "mapbox": {
           "style": "light"
          },
          "paper_bgcolor": "white",
          "plot_bgcolor": "white",
          "polar": {
           "angularaxis": {
            "gridcolor": "#EBF0F8",
            "linecolor": "#EBF0F8",
            "ticks": ""
           },
           "bgcolor": "white",
           "radialaxis": {
            "gridcolor": "#EBF0F8",
            "linecolor": "#EBF0F8",
            "ticks": ""
           }
          },
          "scene": {
           "xaxis": {
            "backgroundcolor": "white",
            "gridcolor": "#DFE8F3",
            "gridwidth": 2,
            "linecolor": "#EBF0F8",
            "showbackground": true,
            "ticks": "",
            "zerolinecolor": "#EBF0F8"
           },
           "yaxis": {
            "backgroundcolor": "white",
            "gridcolor": "#DFE8F3",
            "gridwidth": 2,
            "linecolor": "#EBF0F8",
            "showbackground": true,
            "ticks": "",
            "zerolinecolor": "#EBF0F8"
           },
           "zaxis": {
            "backgroundcolor": "white",
            "gridcolor": "#DFE8F3",
            "gridwidth": 2,
            "linecolor": "#EBF0F8",
            "showbackground": true,
            "ticks": "",
            "zerolinecolor": "#EBF0F8"
           }
          },
          "shapedefaults": {
           "line": {
            "color": "#2a3f5f"
           }
          },
          "ternary": {
           "aaxis": {
            "gridcolor": "#DFE8F3",
            "linecolor": "#A2B1C6",
            "ticks": ""
           },
           "baxis": {
            "gridcolor": "#DFE8F3",
            "linecolor": "#A2B1C6",
            "ticks": ""
           },
           "bgcolor": "white",
           "caxis": {
            "gridcolor": "#DFE8F3",
            "linecolor": "#A2B1C6",
            "ticks": ""
           }
          },
          "title": {
           "x": 0.05
          },
          "xaxis": {
           "automargin": true,
           "gridcolor": "#EBF0F8",
           "linecolor": "#EBF0F8",
           "ticks": "",
           "title": {
            "standoff": 15
           },
           "zerolinecolor": "#EBF0F8",
           "zerolinewidth": 2
          },
          "yaxis": {
           "automargin": true,
           "gridcolor": "#EBF0F8",
           "linecolor": "#EBF0F8",
           "ticks": "",
           "title": {
            "standoff": 15
           },
           "zerolinecolor": "#EBF0F8",
           "zerolinewidth": 2
          }
         }
        },
        "title": {
         "text": "Sensor Activation Counts"
        },
        "xaxis": {
         "tickangle": -90,
         "title": {
          "text": "Sensors"
         }
        },
        "yaxis": {
         "title": {
          "text": "Activation Count"
         }
        }
       }
      }
     },
     "metadata": {},
     "output_type": "display_data"
    }
   ],
   "source": [
    "## Howmany times a device was interacted by the subject on a given date\n",
    "## When there is no food preparation in the house\n",
    "## Pick a date and count the out-events\n",
    "\n",
    "house_entrance_df = cleaned_data[5] ## maindoor of the house\n",
    "temp_df = house_entrance_df['filtered_df'].copy()\n",
    "## Extract the unique dates\n",
    "temp_df['date'] = temp_df['ts_on'].dt.date\n",
    "dates = temp_df['date'].unique()\n",
    "\n",
    "for i in range(3):#len(dates)):\n",
    "    date = dates[i]\n",
    "    print('------->',date)\n",
    "    first_rows = temp_df.groupby('date').first().reset_index() # Pick the first row of each unique date\n",
    "    last_rows = temp_df.groupby('date').last().reset_index() # Pick the last row of each unique date\n",
    "    # select the date specific data\n",
    "    first_row = first_rows[first_rows['date'] == date] \n",
    "    last_row = last_rows[last_rows['date'] == date]\n",
    "    current_off_time = first_row['ts_off'].iloc[0]\n",
    "    next_on_time = last_row['ts_on'].iloc[0]\n",
    "    time_difference = next_on_time - current_off_time\n",
    "    sensor_and_activation = []\n",
    "    for j in range(len(cleaned_data)):\n",
    "        if j == -5:\n",
    "            continue\n",
    "        sensor = cleaned_data[j]['sensor']\n",
    "        current_data = cleaned_data[j]['filtered_df']\n",
    "        if current_off_time.date() == next_on_time.date():\n",
    "            # If date is same for both values of window\n",
    "            filtered_data = filter_data_for_date(current_data, current_off_time.date())\n",
    "        else:\n",
    "            # If date is different for both values of window\n",
    "            # In this case concat the data for both dates\n",
    "            filtered_data_current_date = filter_data_for_date(current_data, current_off_time.date())\n",
    "            filtered_data_next_date = filter_data_for_date(current_data, next_on_time.date())\n",
    "            filtered_data = pd.concat([filtered_data_current_date, filtered_data_next_date], ignore_index=True)\n",
    "        # print(sensor, len(filtered_data))\n",
    "        sensor_and_activation.append({'senosr':sensor, 'activation_count':len(filtered_data)})\n",
    "\n",
    "    # Extract sensor names and their activation counts and plot it\n",
    "    sensors = [item['senosr'] for item in sensor_and_activation]\n",
    "    activation_counts = [item['activation_count'] for item in sensor_and_activation]\n",
    "\n",
    "    fig = go.Figure(data=[go.Bar(x=sensors, y=activation_counts)])\n",
    "    fig.update_layout(\n",
    "        title='Sensor Activation Counts',\n",
    "        xaxis_title='Sensors',\n",
    "        yaxis_title='Activation Count',\n",
    "        xaxis_tickangle=-90,\n",
    "        template='plotly_white'\n",
    "    )\n",
    "\n",
    "    fig.add_annotation(\n",
    "    xref='paper', yref='paper',  # Use paper coordinates (relative to the plotting area)\n",
    "    x=0.5, y=1.5,  # Position the annotation\n",
    "    text=f\"Date: {date}\",  # Text to display\n",
    "    showarrow=False,  # No arrow for the annotation\n",
    "    font=dict(size=14, color=\"black\"),\n",
    "    align=\"center\"\n",
    ")\n",
    "    fig.show()\n",
    "\n"
   ]
  },
  {
   "cell_type": "markdown",
   "metadata": {},
   "source": [
    "# howmany times a subject was outside or probably outside of house?\n"
   ]
  },
  {
   "cell_type": "code",
   "execution_count": 13,
   "metadata": {},
   "outputs": [
    {
     "name": "stdout",
     "output_type": "stream",
     "text": [
      "No sensors were activated between 2023-09-27 12:59:32.141000-2023-09-27 12:59:20.207000 = 0 days 00:00:11.934000------>\n",
      "No sensors were activated between 2023-09-27 17:22:31.826000-2023-09-27 16:30:52.990000 = 0 days 00:51:38.836000------>\n",
      "No sensors were activated between 2023-09-28 06:41:36.640000-2023-09-28 06:41:19.887000 = 0 days 00:00:16.753000------>\n",
      "No sensors were activated between 2023-09-28 08:43:20.752000-2023-09-28 08:43:18.253000 = 0 days 00:00:02.499000------>\n",
      "No sensors were activated between 2023-09-29 11:13:21.518000-2023-09-29 11:12:47.860000 = 0 days 00:00:33.658000------>\n",
      "No sensors were activated between 2023-09-30 10:34:28.003000-2023-09-30 10:33:56.661000 = 0 days 00:00:31.342000------>\n",
      "No sensors were activated between 2023-10-03 09:52:47.326000-2023-10-03 09:45:44.966000 = 0 days 00:07:02.360000------>\n",
      "No sensors were activated between 2023-10-04 21:53:08.606000-2023-10-04 21:53:05.939000 = 0 days 00:00:02.667000------>\n",
      "No sensors were activated between 2023-10-04 22:12:38.781000-2023-10-04 21:53:21.863000 = 0 days 00:19:16.918000------>\n",
      "No sensors were activated between 2023-10-05 08:14:36.398000-2023-10-05 06:53:03.667000 = 0 days 01:21:32.731000------>\n",
      "No sensors were activated between 2023-10-05 11:01:58.575000-2023-10-05 10:31:00.833000 = 0 days 00:30:57.742000------>\n",
      "No sensors were activated between 2023-10-10 07:23:37.916000-2023-10-10 07:23:25.524000 = 0 days 00:00:12.392000------>\n",
      "No sensors were activated between 2023-10-12 20:24:44.766000-2023-10-12 20:17:55.038000 = 0 days 00:06:49.728000------>\n",
      "No sensors were activated between 2023-10-13 21:33:35.988000-2023-10-13 21:23:18.666000 = 0 days 00:10:17.322000------>\n",
      "No sensors were activated between 2023-10-15 15:47:39.326000-2023-10-15 15:04:32.948000 = 0 days 00:43:06.378000------>\n",
      "No sensors were activated between 2023-10-16 08:33:57.997000-2023-10-16 06:42:44.772000 = 0 days 01:51:13.225000------>\n",
      "No sensors were activated between 2023-10-16 09:31:26.506000-2023-10-16 09:07:01.881000 = 0 days 00:24:24.625000------>\n",
      "No sensors were activated between 2023-10-17 08:52:57.461000-2023-10-17 06:25:15.293000 = 0 days 02:27:42.168000------>\n",
      "No sensors were activated between 2023-10-18 10:48:13.070000-2023-10-18 10:47:26.609000 = 0 days 00:00:46.461000------>\n",
      "No sensors were activated between 2023-10-18 11:34:56.554000-2023-10-18 10:50:27.928000 = 0 days 00:44:28.626000------>\n",
      "No sensors were activated between 2023-10-18 11:35:36.270000-2023-10-18 11:35:21.359000 = 0 days 00:00:14.911000------>\n",
      "No sensors were activated between 2023-10-19 08:20:32.234000-2023-10-19 08:20:30.870000 = 0 days 00:00:01.364000------>\n",
      "No sensors were activated between 2023-10-20 14:53:22.449000-2023-10-20 14:09:50.544000 = 0 days 00:43:31.905000------>\n",
      "No sensors were activated between 2023-10-20 14:53:48.780000-2023-10-20 14:53:47.426000 = 0 days 00:00:01.354000------>\n",
      "No sensors were activated between 2023-10-21 15:23:30.310000-2023-10-21 13:41:40.199000 = 0 days 01:41:50.111000------>\n",
      "No sensors were activated between 2023-10-22 14:17:09.072000-2023-10-22 14:17:02.680000 = 0 days 00:00:06.392000------>\n",
      "No sensors were activated between 2023-10-22 15:42:13.360000-2023-10-22 14:17:40.988000 = 0 days 01:24:32.372000------>\n",
      "No sensors were activated between 2023-10-24 15:38:19.233000-2023-10-24 15:38:17.844000 = 0 days 00:00:01.389000------>\n",
      "No sensors were activated between 2023-10-26 08:41:12.337000-2023-10-26 08:40:46.995000 = 0 days 00:00:25.342000------>\n",
      "No sensors were activated between 2023-10-29 16:26:25.601000-2023-10-29 16:26:14.314000 = 0 days 00:00:11.287000------>\n",
      "No sensors were activated between 2023-10-30 08:56:36.299000-2023-10-30 07:16:48.118000 = 0 days 01:39:48.181000------>\n",
      "No sensors were activated between 2023-10-30 12:36:29.999000-2023-10-30 11:53:47.834000 = 0 days 00:42:42.165000------>\n",
      "No sensors were activated between 2023-10-30 17:06:49.435000-2023-10-30 14:55:08.702000 = 0 days 02:11:40.733000------>\n",
      "No sensors were activated between 2023-10-30 17:28:49.349000-2023-10-30 17:07:53.329000 = 0 days 00:20:56.020000------>\n",
      "No sensors were activated between 2023-11-02 08:42:55.868000-2023-11-02 07:31:26.527000 = 0 days 01:11:29.341000------>\n",
      "No sensors were activated between 2023-11-02 09:33:16.793000-2023-11-02 08:46:35.073000 = 0 days 00:46:41.720000------>\n",
      "No sensors were activated between 2023-11-02 09:44:06.383000-2023-11-02 09:33:29.973000 = 0 days 00:10:36.410000------>\n",
      "No sensors were activated between 2023-11-02 11:43:11.941000-2023-11-02 09:44:13.821000 = 0 days 01:58:58.120000------>\n",
      "No sensors were activated between 2023-11-02 13:48:03.283000-2023-11-02 13:44:56.766000 = 0 days 00:03:06.517000------>\n",
      "No sensors were activated between 2023-11-02 23:01:10.192000-2023-11-02 22:49:14.676000 = 0 days 00:11:55.516000------>\n",
      "No sensors were activated between 2023-11-03 07:32:36.911000-2023-11-02 23:01:31.721000 = 0 days 08:31:05.190000------>\n",
      "No sensors were activated between 2023-11-03 07:33:45.701000-2023-11-03 07:32:47.758000 = 0 days 00:00:57.943000------>\n",
      "No sensors were activated between 2023-11-03 07:41:47.987000-2023-11-03 07:33:50.501000 = 0 days 00:07:57.486000------>\n",
      "No sensors were activated between 2023-11-03 07:42:17.651000-2023-11-03 07:41:55.691000 = 0 days 00:00:21.960000------>\n",
      "No sensors were activated between 2023-11-03 22:16:36.906000-2023-11-03 22:05:01.173000 = 0 days 00:11:35.733000------>\n",
      "No sensors were activated between 2023-11-04 23:20:11.688000-2023-11-04 23:20:10.894000 = 0 days 00:00:00.794000------>\n",
      "No sensors were activated between 2023-11-05 16:53:47.713000-2023-11-05 16:08:15.940000 = 0 days 00:45:31.773000------>\n",
      "No sensors were activated between 2023-11-09 15:40:23.196000-2023-11-09 15:39:45.331000 = 0 days 00:00:37.865000------>\n",
      "No sensors were activated between 2023-11-09 15:43:09.402000-2023-11-09 15:40:41.202000 = 0 days 00:02:28.200000------>\n",
      "No sensors were activated between 2023-11-09 16:59:44.456000-2023-11-09 15:43:24.842000 = 0 days 01:16:19.614000------>\n",
      "No sensors were activated between 2023-11-10 15:27:07.898000-2023-11-10 13:16:33.508000 = 0 days 02:10:34.390000------>\n",
      "No sensors were activated between 2023-11-11 09:42:12.975000-2023-11-11 07:50:24.485000 = 0 days 01:51:48.490000------>\n",
      "No sensors were activated between 2023-11-12 10:00:02.984000-2023-11-12 07:48:05.726000 = 0 days 02:11:57.258000------>\n",
      "No sensors were activated between 2023-11-12 15:40:54.846000-2023-11-12 14:10:08.292000 = 0 days 01:30:46.554000------>\n",
      "No sensors were activated between 2023-11-12 17:58:50.355000-2023-11-12 17:58:19.785000 = 0 days 00:00:30.570000------>\n",
      "No sensors were activated between 2023-11-12 17:59:42.769000-2023-11-12 17:58:57.606000 = 0 days 00:00:45.163000------>\n",
      "No sensors were activated between 2023-11-12 17:59:49.800000-2023-11-12 17:59:49.095000 = 0 days 00:00:00.705000------>\n",
      "No sensors were activated between 2023-11-12 22:29:06.164000-2023-11-12 22:11:34.989000 = 0 days 00:17:31.175000------>\n",
      "No sensors were activated between 2023-11-13 10:11:21.949000-2023-11-13 07:57:09.871000 = 0 days 02:14:12.078000------>\n",
      "No sensors were activated between 2023-11-13 21:38:52.532000-2023-11-13 21:15:49.157000 = 0 days 00:23:03.375000------>\n",
      "No sensors were activated between 2023-11-19 11:16:25.192000-2023-11-19 08:25:10.617000 = 0 days 02:51:14.575000------>\n",
      "No sensors were activated between 2023-11-20 17:10:40.707000-2023-11-20 15:25:14.323000 = 0 days 01:45:26.384000------>\n",
      "No sensors were activated between 2023-11-21 07:31:32.403000-2023-11-21 07:31:30.372000 = 0 days 00:00:02.031000------>\n",
      "No sensors were activated between 2023-11-21 11:22:09.843000-2023-11-21 11:19:17.870000 = 0 days 00:02:51.973000------>\n",
      "No sensors were activated between 2023-11-21 12:21:06.374000-2023-11-21 11:22:27.527000 = 0 days 00:58:38.847000------>\n",
      "No sensors were activated between 2023-11-21 16:31:00.823000-2023-11-21 16:03:10.589000 = 0 days 00:27:50.234000------>\n",
      "No sensors were activated between 2023-11-21 23:19:38.518000-2023-11-21 17:07:20.064000 = 0 days 06:12:18.454000------>\n",
      "No sensors were activated between 2023-11-22 10:21:44.053000-2023-11-22 10:21:26.731000 = 0 days 00:00:17.322000------>\n",
      "No sensors were activated between 2023-11-22 16:27:05.842000-2023-11-22 15:10:31.680000 = 0 days 01:16:34.162000------>\n",
      "No sensors were activated between 2023-11-22 22:20:06.539000-2023-11-22 22:05:45.976000 = 0 days 00:14:20.563000------>\n",
      "No sensors were activated between 2023-11-23 17:17:09.403000-2023-11-23 16:24:54.258000 = 0 days 00:52:15.145000------>\n",
      "No sensors were activated between 2023-11-24 23:01:29.543000-2023-11-24 22:58:00.799000 = 0 days 00:03:28.744000------>\n",
      "No sensors were activated between 2023-11-27 16:15:17.054000-2023-11-27 16:13:53.755000 = 0 days 00:01:23.299000------>\n",
      "No sensors were activated between 2023-11-27 17:13:59.271000-2023-11-27 16:15:35.236000 = 0 days 00:58:24.035000------>\n",
      "No sensors were activated between 2023-11-28 17:11:06.314000-2023-11-28 16:13:40.383000 = 0 days 00:57:25.931000------>\n",
      "No sensors were activated between 2023-11-28 17:28:13.731000-2023-11-28 17:18:21.131000 = 0 days 00:09:52.600000------>\n",
      "No sensors were activated between 2023-11-29 10:02:52.941000-2023-11-29 07:48:50.413000 = 0 days 02:14:02.528000------>\n",
      "No sensors were activated between 2023-11-29 15:39:59.493000-2023-11-29 15:39:54.984000 = 0 days 00:00:04.509000------>\n",
      "No sensors were activated between 2023-11-29 15:55:50.152000-2023-11-29 15:40:14.054000 = 0 days 00:15:36.098000------>\n",
      "No sensors were activated between 2023-11-29 17:03:54.237000-2023-11-29 15:56:15.946000 = 0 days 01:07:38.291000------>\n",
      "No sensors were activated between 2023-11-30 17:42:41.815000-2023-11-30 15:06:45.152000 = 0 days 02:35:56.663000------>\n",
      "No sensors were activated between 2023-11-30 17:43:10.519000-2023-11-30 17:43:09.306000 = 0 days 00:00:01.213000------>\n",
      "No sensors were activated between 2023-12-01 16:40:21.270000-2023-12-01 16:39:32.613000 = 0 days 00:00:48.657000------>\n",
      "No sensors were activated between 2023-12-01 17:52:29.175000-2023-12-01 16:40:40.620000 = 0 days 01:11:48.555000------>\n",
      "No sensors were activated between 2023-12-01 17:53:19.526000-2023-12-01 17:53:18.801000 = 0 days 00:00:00.725000------>\n",
      "No sensors were activated between 2023-12-02 17:13:24.235000-2023-12-02 17:13:14.305000 = 0 days 00:00:09.930000------>\n",
      "No sensors were activated between 2023-12-02 18:06:52.110000-2023-12-02 17:15:14.521000 = 0 days 00:51:37.589000------>\n",
      "No sensors were activated between 2023-12-03 17:40:20.711000-2023-12-03 17:20:08.528000 = 0 days 00:20:12.183000------>\n",
      "No sensors were activated between 2023-12-05 11:13:42.397000-2023-12-05 10:51:14.801000 = 0 days 00:22:27.596000------>\n",
      "No sensors were activated between 2023-12-06 17:36:51.080000-2023-12-06 17:01:30.797000 = 0 days 00:35:20.283000------>\n",
      "No sensors were activated between 2023-12-07 09:27:35.762000-2023-12-07 08:05:10.684000 = 0 days 01:22:25.078000------>\n",
      "No sensors were activated between 2023-12-07 12:33:34.870000-2023-12-07 12:33:00.044000 = 0 days 00:00:34.826000------>\n",
      "No sensors were activated between 2023-12-09 10:10:59.935000-2023-12-09 10:09:08.355000 = 0 days 00:01:51.580000------>\n",
      "No sensors were activated between 2023-12-09 11:12:04.634000-2023-12-09 10:20:23.930000 = 0 days 00:51:40.704000------>\n",
      "No sensors were activated between 2023-12-09 13:24:04.052000-2023-12-09 11:30:42.596000 = 0 days 01:53:21.456000------>\n",
      "No sensors were activated between 2023-12-09 16:32:32.034000-2023-12-09 15:45:03.279000 = 0 days 00:47:28.755000------>\n",
      "No sensors were activated between 2023-12-11 07:35:35.930000-2023-12-11 07:35:34.220000 = 0 days 00:00:01.710000------>\n",
      "No sensors were activated between 2023-12-11 10:07:07.715000-2023-12-11 07:35:58.939000 = 0 days 02:31:08.776000------>\n",
      "No sensors were activated between 2023-12-11 18:24:53.489000-2023-12-11 17:25:41.995000 = 0 days 00:59:11.494000------>\n",
      "No sensors were activated between 2023-12-13 08:18:36-2023-12-13 08:16:44 = 0 days 00:01:52------>\n",
      "No sensors were activated between 2023-12-13 09:16:49-2023-12-13 09:16:48 = 0 days 00:00:01------>\n",
      "No sensors were activated between 2023-12-13 09:34:57-2023-12-13 09:34:48 = 0 days 00:00:09------>\n",
      "No sensors were activated between 2023-12-14 07:31:20-2023-12-14 07:30:38 = 0 days 00:00:42------>\n",
      "No sensors were activated between 2023-12-14 14:12:02-2023-12-14 14:11:23 = 0 days 00:00:39------>\n",
      "No sensors were activated between 2023-12-14 21:20:30-2023-12-14 21:13:31 = 0 days 00:06:59------>\n",
      "No sensors were activated between 2023-12-15 21:30:42-2023-12-15 21:21:23 = 0 days 00:09:19------>\n",
      "No sensors were activated between 2023-12-19 15:35:59-2023-12-19 15:35:50 = 0 days 00:00:09------>\n",
      "No sensors were activated between 2023-12-22 07:59:11-2023-12-22 07:59:08 = 0 days 00:00:03------>\n",
      "No sensors were activated between 2023-12-22 08:00:12-2023-12-22 07:59:45 = 0 days 00:00:27------>\n",
      "No sensors were activated between 2023-12-23 08:14:16-2023-12-23 08:14:07 = 0 days 00:00:09------>\n",
      "No sensors were activated between 2023-12-24 19:05:10-2023-12-24 19:04:58 = 0 days 00:00:12------>\n",
      "No sensors were activated between 2023-12-27 07:57:53-2023-12-27 07:57:48 = 0 days 00:00:05------>\n",
      "No sensors were activated between 2023-12-30 16:41:45-2023-12-30 16:41:39 = 0 days 00:00:06------>\n",
      "No sensors were activated between 2023-12-31 07:57:34-2023-12-31 07:57:01 = 0 days 00:00:33------>\n",
      "No sensors were activated between 2023-12-31 09:45:55-2023-12-31 09:45:54 = 0 days 00:00:01------>\n",
      "No sensors were activated between 2024-01-09 11:08:09-2024-01-09 09:44:23 = 0 days 01:23:46------>\n",
      "No sensors were activated between 2024-01-13 11:00:50-2024-01-13 11:00:36 = 0 days 00:00:14------>\n",
      "No sensors were activated between 2024-01-13 15:09:59-2024-01-13 15:09:09 = 0 days 00:00:50------>\n",
      "No sensors were activated between 2024-01-13 16:21:32-2024-01-13 15:11:18 = 0 days 01:10:14------>\n",
      "No sensors were activated between 2024-01-15 13:27:48-2024-01-15 13:27:32 = 0 days 00:00:16------>\n",
      "No sensors were activated between 2024-01-17 17:51:40-2024-01-17 17:51:39 = 0 days 00:00:01------>\n",
      "No sensors were activated between 2024-02-05 10:27:48-2024-02-05 07:44:38 = 0 days 02:43:10------>\n",
      "No sensors were activated between 2024-02-05 17:16:13-2024-02-05 15:56:12 = 0 days 01:20:01------>\n",
      "No sensors were activated between 2024-02-05 22:15:50-2024-02-05 22:05:23 = 0 days 00:10:27------>\n",
      "No sensors were activated between 2024-02-06 09:55:07-2024-02-06 08:11:54 = 0 days 01:43:13------>\n",
      "No sensors were activated between 2024-02-08 07:30:06-2024-02-08 07:30:02 = 0 days 00:00:04------>\n",
      "No sensors were activated between 2024-02-09 15:22:03-2024-02-09 14:32:33 = 0 days 00:49:30------>\n",
      "No sensors were activated between 2024-02-09 22:54:04-2024-02-09 22:51:46 = 0 days 00:02:18------>\n",
      "No sensors were activated between 2024-02-12 09:54:01-2024-02-12 09:53:21 = 0 days 00:00:40------>\n",
      "No sensors were activated between 2024-02-12 16:12:45-2024-02-12 16:12:31 = 0 days 00:00:14------>\n",
      "No sensors were activated between 2024-02-12 17:24:01-2024-02-12 17:24:00 = 0 days 00:00:01------>\n",
      "No sensors were activated between 2024-02-17 09:17:40-2024-02-17 09:17:39 = 0 days 00:00:01------>\n",
      "No sensors were activated between 2024-02-23 08:05:02-2024-02-23 08:04:56 = 0 days 00:00:06------>\n",
      "No sensors were activated between 2024-02-23 11:10:16-2024-02-23 11:10:15 = 0 days 00:00:01------>\n",
      "No sensors were activated between 2024-02-25 15:27:08-2024-02-25 15:26:27 = 0 days 00:00:41------>\n",
      "No sensors were activated between 2024-02-26 16:48:26-2024-02-26 16:23:19 = 0 days 00:25:07------>\n",
      "No sensors were activated between 2024-02-28 11:09:19-2024-02-28 10:35:39 = 0 days 00:33:40------>\n",
      "No sensors were activated between 2024-02-28 13:20:09-2024-02-28 13:20:08 = 0 days 00:00:01------>\n",
      "No sensors were activated between 2024-03-01 15:22:03-2024-03-01 15:22:02 = 0 days 00:00:01------>\n",
      "No sensors were activated between 2024-03-02 22:34:09-2024-03-02 22:25:59 = 0 days 00:08:10------>\n",
      "No sensors were activated between 2024-03-05 08:45:55-2024-03-05 07:58:02 = 0 days 00:47:53------>\n",
      "No sensors were activated between 2024-03-05 16:32:38-2024-03-05 15:42:22 = 0 days 00:50:16------>\n",
      "No sensors were activated between 2024-03-06 09:54:38-2024-03-06 09:54:25 = 0 days 00:00:13------>\n",
      "No sensors were activated between 2024-03-06 09:58:37-2024-03-06 09:56:06 = 0 days 00:02:31------>\n",
      "No sensors were activated between 2024-03-06 16:14:56-2024-03-06 09:59:18 = 0 days 06:15:38------>\n",
      "No sensors were activated between 2024-03-06 19:21:29-2024-03-06 16:42:24 = 0 days 02:39:05------>\n",
      "No sensors were activated between 2024-03-08 18:08:37-2024-03-08 18:07:43 = 0 days 00:00:54------>\n",
      "No sensors were activated between 2024-03-09 23:15:58-2024-03-09 23:15:57 = 0 days 00:00:01------>\n",
      "No sensors were activated between 2024-03-10 18:06:06-2024-03-10 18:06:05 = 0 days 00:00:01------>\n",
      "No sensors were activated between 2024-03-10 21:55:47-2024-03-10 21:48:40 = 0 days 00:07:07------>\n",
      "No sensors were activated between 2024-03-11 23:41:24-2024-03-11 23:32:36 = 0 days 00:08:48------>\n",
      "No sensors were activated between 2024-03-13 08:28:20-2024-03-13 07:59:18 = 0 days 00:29:02------>\n",
      "No sensors were activated between 2024-03-13 13:31:20-2024-03-13 13:08:00 = 0 days 00:23:20------>\n",
      "No sensors were activated between 2024-03-15 07:50:54-2024-03-15 07:50:38 = 0 days 00:00:16------>\n",
      "No sensors were activated between 2024-03-16 11:43:12-2024-03-16 11:31:38 = 0 days 00:11:34------>\n",
      "No sensors were activated between 2024-03-21 17:20:20-2024-03-21 17:20:12 = 0 days 00:00:08------>\n",
      "No sensors were activated between 2024-03-21 22:52:35-2024-03-21 17:20:45 = 0 days 05:31:50------>\n",
      "No sensors were activated between 2024-03-21 23:02:01-2024-03-21 22:58:08 = 0 days 00:03:53------>\n",
      "No sensors were activated between 2024-03-27 17:04:20-2024-03-27 16:17:50 = 0 days 00:46:30------>\n",
      "No sensors were activated between 2024-03-28 17:38:14-2024-03-28 17:27:19 = 0 days 00:10:55------>\n",
      "No sensors were activated between 2024-03-29 09:26:18-2024-03-29 09:26:10 = 0 days 00:00:08------>\n",
      "No sensors were activated between 2024-03-29 17:24:52-2024-03-29 17:24:51 = 0 days 00:00:01------>\n",
      "No sensors were activated between 2024-03-29 17:47:57-2024-03-29 17:25:54 = 0 days 00:22:03------>\n",
      "No sensors were activated between 2024-03-29 19:31:46-2024-03-29 19:29:23 = 0 days 00:02:23------>\n",
      "No sensors were activated between 2024-03-30 07:26:22-2024-03-30 07:26:06 = 0 days 00:00:16------>\n",
      "No sensors were activated between 2024-03-30 09:17:12-2024-03-30 09:17:10 = 0 days 00:00:02------>\n",
      "No sensors were activated between 2024-03-30 15:57:46-2024-03-30 15:57:25 = 0 days 00:00:21------>\n",
      "No sensors were activated between 2024-03-31 19:01:46-2024-03-31 18:35:57 = 0 days 00:25:49------>\n",
      "No sensors were activated between 2024-04-02 07:08:44-2024-04-02 07:08:25 = 0 days 00:00:19------>\n",
      "No sensors were activated between 2024-04-04 18:38:00-2024-04-04 18:21:11 = 0 days 00:16:49------>\n",
      "No sensors were activated between 2024-04-05 07:09:15-2024-04-05 07:09:01 = 0 days 00:00:14------>\n",
      "No sensors were activated between 2024-04-09 14:22:29-2024-04-09 14:21:39 = 0 days 00:00:50------>\n",
      "No sensors were activated between 2024-04-10 07:17:09-2024-04-10 07:17:08 = 0 days 00:00:01------>\n",
      "No sensors were activated between 2024-04-15 18:18:14-2024-04-15 15:38:30 = 0 days 02:39:44------>\n",
      "No sensors were activated between 2024-04-16 06:40:24-2024-04-16 06:40:03 = 0 days 00:00:21------>\n",
      "No sensors were activated between 2024-04-20 21:23:57-2024-04-20 21:19:52 = 0 days 00:04:05------>\n",
      "No sensors were activated between 2024-04-23 07:26:40-2024-04-23 07:26:39 = 0 days 00:00:01------>\n",
      "No sensors were activated between 2024-04-26 07:24:15-2024-04-26 07:23:30 = 0 days 00:00:45------>\n",
      "No sensors were activated between 2024-05-05 14:39:18-2024-05-05 14:38:52 = 0 days 00:00:26------>\n"
     ]
    }
   ],
   "source": [
    "\n",
    "house_entrance_df = cleaned_data[5]\n",
    "for i in range(1,len(house_entrance_df['filtered_df'])):\n",
    "    current_off_time = house_entrance_df['filtered_df'].iloc[i-1]['ts_off']\n",
    "    next_on_time = house_entrance_df['filtered_df'].iloc[i]['ts_on']\n",
    "    time_difference = next_on_time - current_off_time\n",
    "    # print_statement = f\"The following sensors were activated between {next_on_time}-{current_off_time} = {time_difference}------>\"\n",
    "    # print(print_statement)\n",
    "\n",
    "    activated_sensors = []\n",
    "    for j in range(len(cleaned_data)):\n",
    "        if j == 5:\n",
    "            continue        \n",
    "        sensor = cleaned_data[j]['sensor']\n",
    "        current_data = cleaned_data[j]['filtered_df']\n",
    "        if current_off_time.date() == next_on_time.date():\n",
    "            # If date is same for both values of window\n",
    "            filtered_data = filter_data_for_date(current_data, current_off_time.date())\n",
    "        else:\n",
    "            # If date is different for both values of window\n",
    "            # In this case concat the data for both dates\n",
    "            filtered_data_current_date = filter_data_for_date(current_data, current_off_time.date())\n",
    "            filtered_data_next_date = filter_data_for_date(current_data, next_on_time.date())\n",
    "            filtered_data = pd.concat([filtered_data_current_date, filtered_data_next_date], ignore_index=True)\n",
    "\n",
    "        filtered = filter_sensors_by_window(filtered_data, current_off_time, next_on_time)\n",
    "        if not filtered.empty:\n",
    "            activated_sensors.append({'sensor':sensor, 'relevent_row':filtered})#,'filtered_data':filtered_data})\n",
    "\n",
    "    if len(activated_sensors) == 0:\n",
    "        print_statement = f\"No sensors were activated between {next_on_time}-{current_off_time} = {time_difference}------>\"\n",
    "        print(print_statement)   \n",
    "    "
   ]
  },
  {
   "cell_type": "markdown",
   "metadata": {},
   "source": [
    "# Format to show activation of different sensors in a given window"
   ]
  },
  {
   "cell_type": "code",
   "execution_count": 14,
   "metadata": {},
   "outputs": [
    {
     "name": "stdout",
     "output_type": "stream",
     "text": [
      "CoffeMachine.csv\n",
      "Dishes_Glasses.csv\n",
      "FoodStorageKitchen.csv\n",
      "FoodStorageLivingRoom.csv\n",
      "Freezer.csv\n",
      "HouseEntrance.csv\n",
      "Medicines.csv\n",
      "Microwave.csv\n",
      "MotionBedroom.csv\n",
      "MotionKitchen.csv\n",
      "MotionLivingRoomSofa.csv\n",
      "MotionLivingRoomTablet.csv\n",
      "MotionPrimaryBathroom.csv\n",
      "MotionSecondaryBathroom.csv\n",
      "PlugTvHall.csv\n",
      "Printer.csv\n",
      "Refrigerator.csv\n",
      "Shower_Hum_Temp_humidity.csv\n",
      "Shower_Hum_Temp_temp.csv\n",
      "Stove_Hum_Temp_humidity.csv\n",
      "Stove_Hum_Temp_temp.csv\n"
     ]
    }
   ],
   "source": [
    "## Load the main door data\n",
    "house_entrance_df = cleaned_data[5]\n",
    "## Make a 10 minutes window\n",
    "ws = pd.to_datetime('2023-09-25 12:49:18.709000')\n",
    "we = ws + pd.Timedelta(minutes=10)\n",
    "\n",
    "## Make a vector of 0 and 1 when sensor was active in each one minute out of 10 minute\n",
    "a = []\n",
    "for i in range(len(cleaned_data)):\n",
    "    sensor_name = cleaned_data[i]['sensor']\n",
    "    sensor_df = cleaned_data[i]['filtered_df']\n",
    "    print(sensor_name)#,'\\n', sensor_df.head())\n",
    "    subset_df = sensor_df[(sensor_df['ts_on'] <= we) & (sensor_df['ts_off'] >= ws)]\n",
    "\n",
    "    time_series = pd.date_range(start=ws, end=we, freq='T')\n",
    "    vector = np.zeros(len(time_series))\n",
    "\n",
    "    for j, current_time in enumerate(time_series):\n",
    "        for _, row in subset_df.iterrows():\n",
    "            if row['ts_on'] <= current_time < row['ts_off']:\n",
    "                vector[j] = 1\n",
    "                break\n",
    "    \n",
    "    a.append({sensor_name:vector})"
   ]
  },
  {
   "cell_type": "markdown",
   "metadata": {},
   "source": [
    "# List of sensors across all the subject"
   ]
  },
  {
   "cell_type": "code",
   "execution_count": 17,
   "metadata": {},
   "outputs": [
    {
     "name": "stdout",
     "output_type": "stream",
     "text": [
      "44\n"
     ]
    }
   ],
   "source": [
    "sensor_files = [\n",
    "    \"CoffeMachine.csv\",\n",
    "    \"CoffeMachine_events.csv\",\n",
    "    \"Cookware.csv\",\n",
    "    \"Dishes.csv\",\n",
    "    \"Dishes_Glasses.csv\",\n",
    "    \"Dishes_Silverware.csv\",\n",
    "    \"FoodStorage.csv\",\n",
    "    \"FoodStorageKitchen.csv\",\n",
    "    \"FoodStorageLivingRoom.csv\",\n",
    "    \"Freezer.csv\",\n",
    "    \"HouseEntrance.csv\",\n",
    "    \"Hum_Temp_Bath_humidity.csv\",\n",
    "    \"Hum_Temp_Bath_temp.csv\",\n",
    "    \"Hum_Temp_Stove_humidity.csv\",\n",
    "    \"Hum_Temp_Stove_temp.csv\",\n",
    "    \"Medicines.csv\",\n",
    "    \"Microwave.csv\",\n",
    "    \"Microwave_events.csv\",\n",
    "    \"MotionBathroom.csv\",\n",
    "    \"MotionBedroom.csv\",\n",
    "    \"MotionDiningTable.csv\",\n",
    "    \"MotionGuestRoom.csv\",\n",
    "    \"MotionKitchen.csv\",\n",
    "    \"MotionLivingRoomSofa.csv\",\n",
    "    \"MotionLivingRoomTablet.csv\",\n",
    "    \"MotionLivingroom.csv\",\n",
    "    \"MotionOffice.csv\",\n",
    "    \"MotionOtherRoom.csv\",\n",
    "    \"MotionOtherroom.csv\",\n",
    "    \"MotionPrimaryBathroom.csv\",\n",
    "    \"MotionSecondaryBathroom.csv\",\n",
    "    \"PlugTvHall.csv\",\n",
    "    \"PlugTvHall_events.csv\",\n",
    "    \"PlugTvKitchen.csv\",\n",
    "    \"Printer.csv\",\n",
    "    \"Refrigerator.csv\",\n",
    "    \"Shower_Hum_Temp_humidity.csv\",\n",
    "    \"Shower_Hum_Temp_temp.csv\",\n",
    "    \"Silverware.csv\",\n",
    "    \"Stove_Hum_Temp_humidity.csv\",\n",
    "    \"Stove_Hum_Temp_temp.csv\",\n",
    "    \"WashingMachine.csv\",\n",
    "    \"printer_events.csv\",\n",
    "    \"washingMachine_events.csv\"\n",
    "]\n",
    "print(len(sensor_files))"
   ]
  },
  {
   "cell_type": "code",
   "execution_count": null,
   "metadata": {},
   "outputs": [],
   "source": []
  },
  {
   "cell_type": "markdown",
   "metadata": {},
   "source": [
    "# Prepare the cleaned data for all the subjects"
   ]
  },
  {
   "cell_type": "code",
   "execution_count": 18,
   "metadata": {},
   "outputs": [
    {
     "name": "stdout",
     "output_type": "stream",
     "text": [
      "--+--+--+--+--+--+--+--+--+--+--+--+--+--+--+--+--+--+--+--+\n",
      "/home/hubble/work/serenade/data/subject_1/environmentals\n",
      "4 \t Dishes_Glasses.csv \t object\n",
      "6 \t FoodStorage.csv \t object\n",
      "9 \t Freezer.csv \t object\n",
      "10 \t HouseEntrance.csv \t object\n",
      "16 \t Microwave.csv \t float64\n",
      "18 \t MotionBathroom.csv \t object\n",
      "19 \t MotionBedroom.csv \t object\n",
      "22 \t MotionKitchen.csv \t object\n",
      "25 \t MotionLivingroom.csv \t object\n",
      "31 \t PlugTvHall.csv \t float64\n",
      "35 \t Refrigerator.csv \t object\n",
      "36 \t Shower_Hum_Temp_humidity.csv \t float64\n",
      "37 \t Shower_Hum_Temp_temp.csv \t float64\n",
      "38 \t Silverware.csv \t object\n",
      "41 \t WashingMachine.csv \t float64\n",
      "--+--+--+--+--+--+--+--+--+--+--+--+--+--+--+--+--+--+--+--+\n",
      "/home/hubble/work/serenade/data/subject_2/environmentals\n",
      "5 \t Dishes_Silverware.csv \t object\n",
      "6 \t FoodStorage.csv \t object\n",
      "10 \t HouseEntrance.csv \t object\n",
      "11 \t Hum_Temp_Bath_humidity.csv \t float64\n",
      "12 \t Hum_Temp_Bath_temp.csv \t float64\n",
      "13 \t Hum_Temp_Stove_humidity.csv \t float64\n",
      "14 \t Hum_Temp_Stove_temp.csv \t float64\n",
      "15 \t Medicines.csv \t object\n",
      "18 \t MotionBathroom.csv \t object\n",
      "19 \t MotionBedroom.csv \t object\n",
      "22 \t MotionKitchen.csv \t object\n",
      "25 \t MotionLivingroom.csv \t object\n",
      "28 \t MotionOtherroom.csv \t object\n",
      "31 \t PlugTvHall.csv \t float64\n",
      "35 \t Refrigerator.csv \t object\n",
      "--+--+--+--+--+--+--+--+--+--+--+--+--+--+--+--+--+--+--+--+\n",
      "/home/hubble/work/serenade/data/subject_3/environmentals\n",
      "0 \t CoffeMachine.csv \t float64\n",
      "4 \t Dishes_Glasses.csv \t object\n",
      "7 \t FoodStorageKitchen.csv \t object\n",
      "8 \t FoodStorageLivingRoom.csv \t object\n",
      "9 \t Freezer.csv \t object\n",
      "10 \t HouseEntrance.csv \t object\n",
      "15 \t Medicines.csv \t object\n",
      "16 \t Microwave.csv \t float64\n",
      "19 \t MotionBedroom.csv \t object\n",
      "22 \t MotionKitchen.csv \t object\n",
      "23 \t MotionLivingRoomSofa.csv \t object\n",
      "24 \t MotionLivingRoomTablet.csv \t object\n",
      "29 \t MotionPrimaryBathroom.csv \t object\n",
      "30 \t MotionSecondaryBathroom.csv \t object\n",
      "31 \t PlugTvHall.csv \t float64\n",
      "34 \t Printer.csv \t float64\n",
      "35 \t Refrigerator.csv \t object\n",
      "36 \t Shower_Hum_Temp_humidity.csv \t float64\n",
      "37 \t Shower_Hum_Temp_temp.csv \t float64\n",
      "39 \t Stove_Hum_Temp_humidity.csv \t float64\n",
      "40 \t Stove_Hum_Temp_temp.csv \t float64\n",
      "--+--+--+--+--+--+--+--+--+--+--+--+--+--+--+--+--+--+--+--+\n",
      "/home/hubble/work/serenade/data/subject_4/environmentals\n",
      "2 \t Cookware.csv \t object\n",
      "4 \t Dishes_Glasses.csv \t object\n",
      "9 \t Freezer.csv \t object\n",
      "10 \t HouseEntrance.csv \t object\n",
      "16 \t Microwave.csv \t float64\n",
      "19 \t MotionBedroom.csv \t object\n",
      "22 \t MotionKitchen.csv \t object\n",
      "25 \t MotionLivingroom.csv \t object\n",
      "28 \t MotionOtherroom.csv \t object\n",
      "29 \t MotionPrimaryBathroom.csv \t object\n",
      "30 \t MotionSecondaryBathroom.csv \t object\n",
      "35 \t Refrigerator.csv \t object\n",
      "36 \t Shower_Hum_Temp_humidity.csv \t float64\n",
      "37 \t Shower_Hum_Temp_temp.csv \t float64\n",
      "38 \t Silverware.csv \t object\n",
      "39 \t Stove_Hum_Temp_humidity.csv \t float64\n",
      "40 \t Stove_Hum_Temp_temp.csv \t float64\n",
      "--+--+--+--+--+--+--+--+--+--+--+--+--+--+--+--+--+--+--+--+\n",
      "/home/hubble/work/serenade/data/subject_5/environmentals\n",
      "2 \t Cookware.csv \t object\n",
      "6 \t FoodStorage.csv \t object\n",
      "9 \t Freezer.csv \t object\n",
      "10 \t HouseEntrance.csv \t object\n",
      "15 \t Medicines.csv \t object\n",
      "16 \t Microwave.csv \t float64\n",
      "18 \t MotionBathroom.csv \t object\n",
      "19 \t MotionBedroom.csv \t object\n",
      "20 \t MotionDiningTable.csv \t object\n",
      "21 \t MotionGuestRoom.csv \t object\n",
      "22 \t MotionKitchen.csv \t object\n",
      "25 \t MotionLivingroom.csv \t object\n",
      "27 \t MotionOtherRoom.csv \t object\n",
      "31 \t PlugTvHall.csv \t float64\n",
      "35 \t Refrigerator.csv \t object\n",
      "36 \t Shower_Hum_Temp_humidity.csv \t float64\n",
      "37 \t Shower_Hum_Temp_temp.csv \t float64\n",
      "38 \t Silverware.csv \t object\n",
      "39 \t Stove_Hum_Temp_humidity.csv \t float64\n",
      "40 \t Stove_Hum_Temp_temp.csv \t float64\n",
      "--+--+--+--+--+--+--+--+--+--+--+--+--+--+--+--+--+--+--+--+\n",
      "/home/hubble/work/serenade/data/subject_7/environmentals\n",
      "3 \t Dishes.csv \t object\n",
      "6 \t FoodStorage.csv \t object\n",
      "9 \t Freezer.csv \t object\n",
      "10 \t HouseEntrance.csv \t object\n",
      "15 \t Medicines.csv \t object\n",
      "18 \t MotionBathroom.csv \t object\n",
      "19 \t MotionBedroom.csv \t object\n",
      "22 \t MotionKitchen.csv \t object\n",
      "25 \t MotionLivingroom.csv \t object\n",
      "31 \t PlugTvHall.csv \t float64\n",
      "33 \t PlugTvKitchen.csv \t float64\n",
      "35 \t Refrigerator.csv \t object\n",
      "36 \t Shower_Hum_Temp_humidity.csv \t float64\n",
      "37 \t Shower_Hum_Temp_temp.csv \t float64\n",
      "38 \t Silverware.csv \t object\n",
      "39 \t Stove_Hum_Temp_humidity.csv \t float64\n",
      "40 \t Stove_Hum_Temp_temp.csv \t float64\n",
      "--+--+--+--+--+--+--+--+--+--+--+--+--+--+--+--+--+--+--+--+\n",
      "/home/hubble/work/serenade/data/subject_8/environmentals\n",
      "0 \t CoffeMachine.csv \t float64\n",
      "2 \t Cookware.csv \t object\n",
      "3 \t Dishes.csv \t object\n",
      "9 \t Freezer.csv \t object\n",
      "19 \t MotionBedroom.csv \t object\n",
      "22 \t MotionKitchen.csv \t object\n",
      "25 \t MotionLivingroom.csv \t object\n",
      "26 \t MotionOffice.csv \t object\n",
      "29 \t MotionPrimaryBathroom.csv \t object\n",
      "30 \t MotionSecondaryBathroom.csv \t object\n",
      "31 \t PlugTvHall.csv \t float64\n",
      "35 \t Refrigerator.csv \t object\n",
      "36 \t Shower_Hum_Temp_humidity.csv \t float64\n",
      "37 \t Shower_Hum_Temp_temp.csv \t float64\n",
      "39 \t Stove_Hum_Temp_humidity.csv \t float64\n",
      "40 \t Stove_Hum_Temp_temp.csv \t float64\n"
     ]
    }
   ],
   "source": [
    "data_path = '/home/hubble/work/serenade/data'\n",
    "subjects = ['subject_1','subject_2','subject_3','subject_4','subject_5','subject_7','subject_8']\n",
    "unwanted_values = ['unavailable', 'unknown']\n",
    "skip_substrings = ['event', 'HousejkjlEntrance']\n",
    "\n",
    "subject_data = []\n",
    "for i  in range(len(subjects)):\n",
    "    subject_i = subjects[i]\n",
    "    subject_data_path = os.path.join(data_path,subject_i,'environmentals')\n",
    "    print('--+'*20)\n",
    "    print(subject_data_path)\n",
    "\n",
    "    cleaned_data = []\n",
    "    for j in range(len(sensor_files)):\n",
    "        file_name = sensor_files[j]\n",
    "        \n",
    "        if any(substring in file_name for substring in skip_substrings):\n",
    "            continue\n",
    "        else:\n",
    "            file_path = os.path.join(subject_data_path,file_name)\n",
    "            try:\n",
    "                sensor_df = pd.read_csv(file_path)\n",
    "                sensor_df = sensor_df[~sensor_df['sensor_status'].isin(['unavailable', 'unknown'])]\n",
    "                unique_values = set(sensor_df['sensor_status'].unique())\n",
    "                contains_on = 'on' in unique_values\n",
    "                contains_off = 'off' in unique_values\n",
    "\n",
    "                if contains_on or contains_off:\n",
    "                    pass\n",
    "                else:\n",
    "                    sensor_df['sensor_status'] = pd.to_numeric(sensor_df['sensor_status'], errors='coerce')\n",
    "\n",
    "                data_type = sensor_df['sensor_status'].dtype\n",
    "\n",
    "                if data_type == 'float64':\n",
    "                    print(j, '\\t', file_name, '\\t', data_type)\n",
    "\n",
    "                    sensor_df['sensor_status'] = pd.to_numeric(sensor_df['sensor_status'], errors='coerce')\n",
    "                    peaks, df_shower_humidity = detect_peaks(sensor_df, 'sensor_status', prominence_value = 2)\n",
    "                    sensor_df = sensor_df.rename(columns={'sensor_status': 'sensor_values', 'peak_detected': 'sensor_status'})\n",
    "                    filtered_df = filter_on_off_consecutive(sensor_df)\n",
    "                    filtered_df = filtered_df.reset_index()\n",
    "                    filtered_df = process_sensor_data(filtered_df)\n",
    "                    cleaned_data.append({'sensor':file_name, 'filtered_df':filtered_df, 'sensor_df':sensor_df})\n",
    "\n",
    "                else:\n",
    "                    print(j, '\\t', file_name, '\\t', data_type)\n",
    "                    sensor_df, _ = remove_unknown_unavailable_v2(sensor_df)\n",
    "                    filtered_df = process_sensor_data(sensor_df)\n",
    "                    cleaned_data.append({'sensor':file_name, 'filtered_df':filtered_df, 'sensor_df':sensor_df})\n",
    "\n",
    "            except FileNotFoundError:\n",
    "                sensor_df = pd.DataFrame()\n",
    "                cleaned_data.append({'sensor':file_name, 'filtered_df':pd.DataFrame(), 'sensor_df':pd.DataFrame()})\n",
    "            except Exception as e:\n",
    "                sensor_df = pd.DataFrame()\n",
    "                cleaned_data.append({'sensor':file_name, 'filtered_df':pd.DataFrame(), 'sensor_df':pd.DataFrame()})\n",
    "                    \n",
    "    subject_data.append(cleaned_data)\n"
   ]
  },
  {
   "cell_type": "code",
   "execution_count": 83,
   "metadata": {},
   "outputs": [
    {
     "data": {
      "text/html": [
       "<div>\n",
       "<style scoped>\n",
       "    .dataframe tbody tr th:only-of-type {\n",
       "        vertical-align: middle;\n",
       "    }\n",
       "\n",
       "    .dataframe tbody tr th {\n",
       "        vertical-align: top;\n",
       "    }\n",
       "\n",
       "    .dataframe thead th {\n",
       "        text-align: right;\n",
       "    }\n",
       "</style>\n",
       "<table border=\"1\" class=\"dataframe\">\n",
       "  <thead>\n",
       "    <tr style=\"text-align: right;\">\n",
       "      <th></th>\n",
       "    </tr>\n",
       "  </thead>\n",
       "  <tbody>\n",
       "  </tbody>\n",
       "</table>\n",
       "</div>"
      ],
      "text/plain": [
       "Empty DataFrame\n",
       "Columns: []\n",
       "Index: []"
      ]
     },
     "execution_count": 83,
     "metadata": {},
     "output_type": "execute_result"
    }
   ],
   "source": [
    "sensor_df"
   ]
  },
  {
   "cell_type": "markdown",
   "metadata": {},
   "source": [
    "# Make window for all subjects"
   ]
  },
  {
   "cell_type": "code",
   "execution_count": null,
   "metadata": {},
   "outputs": [],
   "source": [
    "initial_ws = pd.to_datetime('2023-10-11 16:18:35.414')\n",
    "window_duration = pd.Timedelta(minutes=15)\n",
    "number_of_windows_per_subject = 5  \n",
    "\n",
    "# Iterate over each subject\n",
    "for sb in range(len(subject_data)):\n",
    "    subject = subject_data[sb]\n",
    "    # print(f\"Processing subject {subject}\")\n",
    "    current_ws = initial_ws\n",
    "    \n",
    "    for _ in range(number_of_windows_per_subject):\n",
    "        we = current_ws + window_duration\n",
    "\n",
    "        # Store results for this window\n",
    "        window_results = []\n",
    "\n",
    "        # Iterate over each sensor for the current subject\n",
    "        for sensor_data in subject:\n",
    "            sensor_name = sensor_data['sensor']\n",
    "            sensor_df = sensor_data['filtered_df']\n",
    "            print(sensor_name)\n",
    "\n",
    "\n",
    "            if sensor_df.empty:\n",
    "                # If sensor_df is empty, append a vector of zeros\n",
    "                time_series = pd.date_range(start=current_ws, end=we, freq='T')\n",
    "                vector = np.ones(len(time_series)) * -99\n",
    "                window_results.append({sensor_name: vector})\n",
    "                # print(f\"Sensor {sensor_name} has no data in window from {current_ws} to {we}\")\n",
    "                continue\n",
    "\n",
    "            subset_df = sensor_df[(sensor_df['ts_on'] <= we) & (sensor_df['ts_off'] >= current_ws)]\n",
    "            time_series = pd.date_range(start=current_ws, end=we, freq='T')\n",
    "            vector = np.zeros(len(time_series))\n",
    "\n",
    "            if not subset_df.empty:\n",
    "                # Populate the vector with 1s where the sensor was active\n",
    "                for j, current_time in enumerate(time_series):\n",
    "                    if any((row['ts_on'] <= current_time < row['ts_off']) for _, row in subset_df.iterrows()):\n",
    "                        vector[j] = 1\n",
    "            else:\n",
    "                pass\n",
    "            window_results.append({sensor_name: vector})\n",
    "\n",
    "        print(f\"Window from {current_ws} to {we}:\")\n",
    "        for result in window_results:\n",
    "            print(result)\n",
    "\n",
    "        current_ws = we + pd.Timedelta(seconds=1)\n",
    "\n",
    "    print(f\"Finished processing subject\")\n"
   ]
  },
  {
   "cell_type": "code",
   "execution_count": 77,
   "metadata": {},
   "outputs": [],
   "source": [
    "def plot_duration_distribution(on_off_diff):\n",
    "    # Convert the list to a DataFrame\n",
    "    df = pd.DataFrame(on_off_diff, columns=['end_time', 'start_time', 'duration'])\n",
    "    \n",
    "    # Ensure the time columns are in datetime format\n",
    "    df['start_time'] = pd.to_datetime(df['start_time'])\n",
    "    df['end_time'] = pd.to_datetime(df['end_time'])\n",
    "    \n",
    "    # Calculate the duration in seconds and minutes\n",
    "    df['duration_seconds'] = (df['end_time'] - df['start_time']).dt.total_seconds()\n",
    "    df['duration_minutes'] = df['duration_seconds'] / 60\n",
    "    \n",
    "    # Create bins of five minutes up to 120 minutes, and include one bin for > 2 hours\n",
    "    bins = list(range(0, 120, 5)) + [float('inf')]\n",
    "    labels = [f\"{i}-{i+5} min\" for i in range(0, 115, 5)] + [\">120 min\"]\n",
    "    \n",
    "    # Bin the data\n",
    "    df['binned_duration'] = pd.cut(df['duration_minutes'], bins=bins, labels=labels, right=False)\n",
    "    \n",
    "    # Check for NaNs in the binned_duration\n",
    "    if df['binned_duration'].isna().any():\n",
    "        print(\"Some durations couldn't be binned. Please check the data.\")\n",
    "    \n",
    "    # Count the number of occurrences in each bin\n",
    "    bin_counts = df['binned_duration'].value_counts(sort=False).reset_index()\n",
    "    bin_counts.columns = ['binned_duration', 'count']\n",
    "    \n",
    "    # Plot using plotly\n",
    "    fig = px.bar(bin_counts, x='binned_duration', y='count', title='Distribution of Durations',\n",
    "                 labels={'binned_duration': 'Duration Bins', 'count': 'Count'})\n",
    "    fig.update_layout(xaxis_tickangle=-45)\n",
    "    fig.show()"
   ]
  },
  {
   "cell_type": "code",
   "execution_count": 79,
   "metadata": {},
   "outputs": [
    {
     "data": {
      "application/vnd.plotly.v1+json": {
       "config": {
        "plotlyServerURL": "https://plot.ly"
       },
       "data": [
        {
         "alignmentgroup": "True",
         "hovertemplate": "Duration Bins=%{x}<br>Count=%{y}<extra></extra>",
         "legendgroup": "",
         "marker": {
          "color": "#636efa",
          "pattern": {
           "shape": ""
          }
         },
         "name": "",
         "offsetgroup": "",
         "orientation": "v",
         "showlegend": false,
         "textposition": "auto",
         "type": "bar",
         "x": [
          "0-5 min",
          "5-10 min",
          "10-15 min",
          "15-20 min",
          "20-25 min",
          "25-30 min",
          "30-35 min",
          "35-40 min",
          "40-45 min",
          "45-50 min",
          "50-55 min",
          "55-60 min",
          "60-65 min",
          "65-70 min",
          "70-75 min",
          "75-80 min",
          "80-85 min",
          "85-90 min",
          "90-95 min",
          "95-100 min",
          "100-105 min",
          "105-110 min",
          "110-115 min",
          ">120 min"
         ],
         "xaxis": "x",
         "y": [
          358,
          84,
          47,
          43,
          31,
          19,
          24,
          19,
          25,
          33,
          28,
          28,
          22,
          17,
          20,
          20,
          21,
          19,
          14,
          9,
          17,
          17,
          11,
          438
         ],
         "yaxis": "y"
        }
       ],
       "layout": {
        "barmode": "relative",
        "legend": {
         "tracegroupgap": 0
        },
        "template": {
         "data": {
          "bar": [
           {
            "error_x": {
             "color": "#2a3f5f"
            },
            "error_y": {
             "color": "#2a3f5f"
            },
            "marker": {
             "line": {
              "color": "#E5ECF6",
              "width": 0.5
             },
             "pattern": {
              "fillmode": "overlay",
              "size": 10,
              "solidity": 0.2
             }
            },
            "type": "bar"
           }
          ],
          "barpolar": [
           {
            "marker": {
             "line": {
              "color": "#E5ECF6",
              "width": 0.5
             },
             "pattern": {
              "fillmode": "overlay",
              "size": 10,
              "solidity": 0.2
             }
            },
            "type": "barpolar"
           }
          ],
          "carpet": [
           {
            "aaxis": {
             "endlinecolor": "#2a3f5f",
             "gridcolor": "white",
             "linecolor": "white",
             "minorgridcolor": "white",
             "startlinecolor": "#2a3f5f"
            },
            "baxis": {
             "endlinecolor": "#2a3f5f",
             "gridcolor": "white",
             "linecolor": "white",
             "minorgridcolor": "white",
             "startlinecolor": "#2a3f5f"
            },
            "type": "carpet"
           }
          ],
          "choropleth": [
           {
            "colorbar": {
             "outlinewidth": 0,
             "ticks": ""
            },
            "type": "choropleth"
           }
          ],
          "contour": [
           {
            "colorbar": {
             "outlinewidth": 0,
             "ticks": ""
            },
            "colorscale": [
             [
              0,
              "#0d0887"
             ],
             [
              0.1111111111111111,
              "#46039f"
             ],
             [
              0.2222222222222222,
              "#7201a8"
             ],
             [
              0.3333333333333333,
              "#9c179e"
             ],
             [
              0.4444444444444444,
              "#bd3786"
             ],
             [
              0.5555555555555556,
              "#d8576b"
             ],
             [
              0.6666666666666666,
              "#ed7953"
             ],
             [
              0.7777777777777778,
              "#fb9f3a"
             ],
             [
              0.8888888888888888,
              "#fdca26"
             ],
             [
              1,
              "#f0f921"
             ]
            ],
            "type": "contour"
           }
          ],
          "contourcarpet": [
           {
            "colorbar": {
             "outlinewidth": 0,
             "ticks": ""
            },
            "type": "contourcarpet"
           }
          ],
          "heatmap": [
           {
            "colorbar": {
             "outlinewidth": 0,
             "ticks": ""
            },
            "colorscale": [
             [
              0,
              "#0d0887"
             ],
             [
              0.1111111111111111,
              "#46039f"
             ],
             [
              0.2222222222222222,
              "#7201a8"
             ],
             [
              0.3333333333333333,
              "#9c179e"
             ],
             [
              0.4444444444444444,
              "#bd3786"
             ],
             [
              0.5555555555555556,
              "#d8576b"
             ],
             [
              0.6666666666666666,
              "#ed7953"
             ],
             [
              0.7777777777777778,
              "#fb9f3a"
             ],
             [
              0.8888888888888888,
              "#fdca26"
             ],
             [
              1,
              "#f0f921"
             ]
            ],
            "type": "heatmap"
           }
          ],
          "heatmapgl": [
           {
            "colorbar": {
             "outlinewidth": 0,
             "ticks": ""
            },
            "colorscale": [
             [
              0,
              "#0d0887"
             ],
             [
              0.1111111111111111,
              "#46039f"
             ],
             [
              0.2222222222222222,
              "#7201a8"
             ],
             [
              0.3333333333333333,
              "#9c179e"
             ],
             [
              0.4444444444444444,
              "#bd3786"
             ],
             [
              0.5555555555555556,
              "#d8576b"
             ],
             [
              0.6666666666666666,
              "#ed7953"
             ],
             [
              0.7777777777777778,
              "#fb9f3a"
             ],
             [
              0.8888888888888888,
              "#fdca26"
             ],
             [
              1,
              "#f0f921"
             ]
            ],
            "type": "heatmapgl"
           }
          ],
          "histogram": [
           {
            "marker": {
             "pattern": {
              "fillmode": "overlay",
              "size": 10,
              "solidity": 0.2
             }
            },
            "type": "histogram"
           }
          ],
          "histogram2d": [
           {
            "colorbar": {
             "outlinewidth": 0,
             "ticks": ""
            },
            "colorscale": [
             [
              0,
              "#0d0887"
             ],
             [
              0.1111111111111111,
              "#46039f"
             ],
             [
              0.2222222222222222,
              "#7201a8"
             ],
             [
              0.3333333333333333,
              "#9c179e"
             ],
             [
              0.4444444444444444,
              "#bd3786"
             ],
             [
              0.5555555555555556,
              "#d8576b"
             ],
             [
              0.6666666666666666,
              "#ed7953"
             ],
             [
              0.7777777777777778,
              "#fb9f3a"
             ],
             [
              0.8888888888888888,
              "#fdca26"
             ],
             [
              1,
              "#f0f921"
             ]
            ],
            "type": "histogram2d"
           }
          ],
          "histogram2dcontour": [
           {
            "colorbar": {
             "outlinewidth": 0,
             "ticks": ""
            },
            "colorscale": [
             [
              0,
              "#0d0887"
             ],
             [
              0.1111111111111111,
              "#46039f"
             ],
             [
              0.2222222222222222,
              "#7201a8"
             ],
             [
              0.3333333333333333,
              "#9c179e"
             ],
             [
              0.4444444444444444,
              "#bd3786"
             ],
             [
              0.5555555555555556,
              "#d8576b"
             ],
             [
              0.6666666666666666,
              "#ed7953"
             ],
             [
              0.7777777777777778,
              "#fb9f3a"
             ],
             [
              0.8888888888888888,
              "#fdca26"
             ],
             [
              1,
              "#f0f921"
             ]
            ],
            "type": "histogram2dcontour"
           }
          ],
          "mesh3d": [
           {
            "colorbar": {
             "outlinewidth": 0,
             "ticks": ""
            },
            "type": "mesh3d"
           }
          ],
          "parcoords": [
           {
            "line": {
             "colorbar": {
              "outlinewidth": 0,
              "ticks": ""
             }
            },
            "type": "parcoords"
           }
          ],
          "pie": [
           {
            "automargin": true,
            "type": "pie"
           }
          ],
          "scatter": [
           {
            "fillpattern": {
             "fillmode": "overlay",
             "size": 10,
             "solidity": 0.2
            },
            "type": "scatter"
           }
          ],
          "scatter3d": [
           {
            "line": {
             "colorbar": {
              "outlinewidth": 0,
              "ticks": ""
             }
            },
            "marker": {
             "colorbar": {
              "outlinewidth": 0,
              "ticks": ""
             }
            },
            "type": "scatter3d"
           }
          ],
          "scattercarpet": [
           {
            "marker": {
             "colorbar": {
              "outlinewidth": 0,
              "ticks": ""
             }
            },
            "type": "scattercarpet"
           }
          ],
          "scattergeo": [
           {
            "marker": {
             "colorbar": {
              "outlinewidth": 0,
              "ticks": ""
             }
            },
            "type": "scattergeo"
           }
          ],
          "scattergl": [
           {
            "marker": {
             "colorbar": {
              "outlinewidth": 0,
              "ticks": ""
             }
            },
            "type": "scattergl"
           }
          ],
          "scattermapbox": [
           {
            "marker": {
             "colorbar": {
              "outlinewidth": 0,
              "ticks": ""
             }
            },
            "type": "scattermapbox"
           }
          ],
          "scatterpolar": [
           {
            "marker": {
             "colorbar": {
              "outlinewidth": 0,
              "ticks": ""
             }
            },
            "type": "scatterpolar"
           }
          ],
          "scatterpolargl": [
           {
            "marker": {
             "colorbar": {
              "outlinewidth": 0,
              "ticks": ""
             }
            },
            "type": "scatterpolargl"
           }
          ],
          "scatterternary": [
           {
            "marker": {
             "colorbar": {
              "outlinewidth": 0,
              "ticks": ""
             }
            },
            "type": "scatterternary"
           }
          ],
          "surface": [
           {
            "colorbar": {
             "outlinewidth": 0,
             "ticks": ""
            },
            "colorscale": [
             [
              0,
              "#0d0887"
             ],
             [
              0.1111111111111111,
              "#46039f"
             ],
             [
              0.2222222222222222,
              "#7201a8"
             ],
             [
              0.3333333333333333,
              "#9c179e"
             ],
             [
              0.4444444444444444,
              "#bd3786"
             ],
             [
              0.5555555555555556,
              "#d8576b"
             ],
             [
              0.6666666666666666,
              "#ed7953"
             ],
             [
              0.7777777777777778,
              "#fb9f3a"
             ],
             [
              0.8888888888888888,
              "#fdca26"
             ],
             [
              1,
              "#f0f921"
             ]
            ],
            "type": "surface"
           }
          ],
          "table": [
           {
            "cells": {
             "fill": {
              "color": "#EBF0F8"
             },
             "line": {
              "color": "white"
             }
            },
            "header": {
             "fill": {
              "color": "#C8D4E3"
             },
             "line": {
              "color": "white"
             }
            },
            "type": "table"
           }
          ]
         },
         "layout": {
          "annotationdefaults": {
           "arrowcolor": "#2a3f5f",
           "arrowhead": 0,
           "arrowwidth": 1
          },
          "autotypenumbers": "strict",
          "coloraxis": {
           "colorbar": {
            "outlinewidth": 0,
            "ticks": ""
           }
          },
          "colorscale": {
           "diverging": [
            [
             0,
             "#8e0152"
            ],
            [
             0.1,
             "#c51b7d"
            ],
            [
             0.2,
             "#de77ae"
            ],
            [
             0.3,
             "#f1b6da"
            ],
            [
             0.4,
             "#fde0ef"
            ],
            [
             0.5,
             "#f7f7f7"
            ],
            [
             0.6,
             "#e6f5d0"
            ],
            [
             0.7,
             "#b8e186"
            ],
            [
             0.8,
             "#7fbc41"
            ],
            [
             0.9,
             "#4d9221"
            ],
            [
             1,
             "#276419"
            ]
           ],
           "sequential": [
            [
             0,
             "#0d0887"
            ],
            [
             0.1111111111111111,
             "#46039f"
            ],
            [
             0.2222222222222222,
             "#7201a8"
            ],
            [
             0.3333333333333333,
             "#9c179e"
            ],
            [
             0.4444444444444444,
             "#bd3786"
            ],
            [
             0.5555555555555556,
             "#d8576b"
            ],
            [
             0.6666666666666666,
             "#ed7953"
            ],
            [
             0.7777777777777778,
             "#fb9f3a"
            ],
            [
             0.8888888888888888,
             "#fdca26"
            ],
            [
             1,
             "#f0f921"
            ]
           ],
           "sequentialminus": [
            [
             0,
             "#0d0887"
            ],
            [
             0.1111111111111111,
             "#46039f"
            ],
            [
             0.2222222222222222,
             "#7201a8"
            ],
            [
             0.3333333333333333,
             "#9c179e"
            ],
            [
             0.4444444444444444,
             "#bd3786"
            ],
            [
             0.5555555555555556,
             "#d8576b"
            ],
            [
             0.6666666666666666,
             "#ed7953"
            ],
            [
             0.7777777777777778,
             "#fb9f3a"
            ],
            [
             0.8888888888888888,
             "#fdca26"
            ],
            [
             1,
             "#f0f921"
            ]
           ]
          },
          "colorway": [
           "#636efa",
           "#EF553B",
           "#00cc96",
           "#ab63fa",
           "#FFA15A",
           "#19d3f3",
           "#FF6692",
           "#B6E880",
           "#FF97FF",
           "#FECB52"
          ],
          "font": {
           "color": "#2a3f5f"
          },
          "geo": {
           "bgcolor": "white",
           "lakecolor": "white",
           "landcolor": "#E5ECF6",
           "showlakes": true,
           "showland": true,
           "subunitcolor": "white"
          },
          "hoverlabel": {
           "align": "left"
          },
          "hovermode": "closest",
          "mapbox": {
           "style": "light"
          },
          "paper_bgcolor": "white",
          "plot_bgcolor": "#E5ECF6",
          "polar": {
           "angularaxis": {
            "gridcolor": "white",
            "linecolor": "white",
            "ticks": ""
           },
           "bgcolor": "#E5ECF6",
           "radialaxis": {
            "gridcolor": "white",
            "linecolor": "white",
            "ticks": ""
           }
          },
          "scene": {
           "xaxis": {
            "backgroundcolor": "#E5ECF6",
            "gridcolor": "white",
            "gridwidth": 2,
            "linecolor": "white",
            "showbackground": true,
            "ticks": "",
            "zerolinecolor": "white"
           },
           "yaxis": {
            "backgroundcolor": "#E5ECF6",
            "gridcolor": "white",
            "gridwidth": 2,
            "linecolor": "white",
            "showbackground": true,
            "ticks": "",
            "zerolinecolor": "white"
           },
           "zaxis": {
            "backgroundcolor": "#E5ECF6",
            "gridcolor": "white",
            "gridwidth": 2,
            "linecolor": "white",
            "showbackground": true,
            "ticks": "",
            "zerolinecolor": "white"
           }
          },
          "shapedefaults": {
           "line": {
            "color": "#2a3f5f"
           }
          },
          "ternary": {
           "aaxis": {
            "gridcolor": "white",
            "linecolor": "white",
            "ticks": ""
           },
           "baxis": {
            "gridcolor": "white",
            "linecolor": "white",
            "ticks": ""
           },
           "bgcolor": "#E5ECF6",
           "caxis": {
            "gridcolor": "white",
            "linecolor": "white",
            "ticks": ""
           }
          },
          "title": {
           "x": 0.05
          },
          "xaxis": {
           "automargin": true,
           "gridcolor": "white",
           "linecolor": "white",
           "ticks": "",
           "title": {
            "standoff": 15
           },
           "zerolinecolor": "white",
           "zerolinewidth": 2
          },
          "yaxis": {
           "automargin": true,
           "gridcolor": "white",
           "linecolor": "white",
           "ticks": "",
           "title": {
            "standoff": 15
           },
           "zerolinecolor": "white",
           "zerolinewidth": 2
          }
         }
        },
        "title": {
         "text": "Distribution of Durations"
        },
        "xaxis": {
         "anchor": "y",
         "domain": [
          0,
          1
         ],
         "tickangle": -45,
         "title": {
          "text": "Duration Bins"
         }
        },
        "yaxis": {
         "anchor": "x",
         "domain": [
          0,
          1
         ],
         "title": {
          "text": "Count"
         }
        }
       }
      }
     },
     "metadata": {},
     "output_type": "display_data"
    },
    {
     "data": {
      "application/vnd.plotly.v1+json": {
       "config": {
        "plotlyServerURL": "https://plot.ly"
       },
       "data": [
        {
         "alignmentgroup": "True",
         "hovertemplate": "Duration Bins=%{x}<br>Count=%{y}<extra></extra>",
         "legendgroup": "",
         "marker": {
          "color": "#636efa",
          "pattern": {
           "shape": ""
          }
         },
         "name": "",
         "offsetgroup": "",
         "orientation": "v",
         "showlegend": false,
         "textposition": "auto",
         "type": "bar",
         "x": [
          "0-5 min",
          "5-10 min",
          "10-15 min",
          "15-20 min",
          "20-25 min",
          "25-30 min",
          "30-35 min",
          "35-40 min",
          "40-45 min",
          "45-50 min",
          "50-55 min",
          "55-60 min",
          "60-65 min",
          "65-70 min",
          "70-75 min",
          "75-80 min",
          "80-85 min",
          "85-90 min",
          "90-95 min",
          "95-100 min",
          "100-105 min",
          "105-110 min",
          "110-115 min",
          ">120 min"
         ],
         "xaxis": "x",
         "y": [
          73,
          42,
          29,
          19,
          19,
          17,
          18,
          13,
          11,
          13,
          9,
          5,
          9,
          8,
          8,
          5,
          11,
          12,
          8,
          10,
          7,
          8,
          10,
          684
         ],
         "yaxis": "y"
        }
       ],
       "layout": {
        "barmode": "relative",
        "legend": {
         "tracegroupgap": 0
        },
        "template": {
         "data": {
          "bar": [
           {
            "error_x": {
             "color": "#2a3f5f"
            },
            "error_y": {
             "color": "#2a3f5f"
            },
            "marker": {
             "line": {
              "color": "#E5ECF6",
              "width": 0.5
             },
             "pattern": {
              "fillmode": "overlay",
              "size": 10,
              "solidity": 0.2
             }
            },
            "type": "bar"
           }
          ],
          "barpolar": [
           {
            "marker": {
             "line": {
              "color": "#E5ECF6",
              "width": 0.5
             },
             "pattern": {
              "fillmode": "overlay",
              "size": 10,
              "solidity": 0.2
             }
            },
            "type": "barpolar"
           }
          ],
          "carpet": [
           {
            "aaxis": {
             "endlinecolor": "#2a3f5f",
             "gridcolor": "white",
             "linecolor": "white",
             "minorgridcolor": "white",
             "startlinecolor": "#2a3f5f"
            },
            "baxis": {
             "endlinecolor": "#2a3f5f",
             "gridcolor": "white",
             "linecolor": "white",
             "minorgridcolor": "white",
             "startlinecolor": "#2a3f5f"
            },
            "type": "carpet"
           }
          ],
          "choropleth": [
           {
            "colorbar": {
             "outlinewidth": 0,
             "ticks": ""
            },
            "type": "choropleth"
           }
          ],
          "contour": [
           {
            "colorbar": {
             "outlinewidth": 0,
             "ticks": ""
            },
            "colorscale": [
             [
              0,
              "#0d0887"
             ],
             [
              0.1111111111111111,
              "#46039f"
             ],
             [
              0.2222222222222222,
              "#7201a8"
             ],
             [
              0.3333333333333333,
              "#9c179e"
             ],
             [
              0.4444444444444444,
              "#bd3786"
             ],
             [
              0.5555555555555556,
              "#d8576b"
             ],
             [
              0.6666666666666666,
              "#ed7953"
             ],
             [
              0.7777777777777778,
              "#fb9f3a"
             ],
             [
              0.8888888888888888,
              "#fdca26"
             ],
             [
              1,
              "#f0f921"
             ]
            ],
            "type": "contour"
           }
          ],
          "contourcarpet": [
           {
            "colorbar": {
             "outlinewidth": 0,
             "ticks": ""
            },
            "type": "contourcarpet"
           }
          ],
          "heatmap": [
           {
            "colorbar": {
             "outlinewidth": 0,
             "ticks": ""
            },
            "colorscale": [
             [
              0,
              "#0d0887"
             ],
             [
              0.1111111111111111,
              "#46039f"
             ],
             [
              0.2222222222222222,
              "#7201a8"
             ],
             [
              0.3333333333333333,
              "#9c179e"
             ],
             [
              0.4444444444444444,
              "#bd3786"
             ],
             [
              0.5555555555555556,
              "#d8576b"
             ],
             [
              0.6666666666666666,
              "#ed7953"
             ],
             [
              0.7777777777777778,
              "#fb9f3a"
             ],
             [
              0.8888888888888888,
              "#fdca26"
             ],
             [
              1,
              "#f0f921"
             ]
            ],
            "type": "heatmap"
           }
          ],
          "heatmapgl": [
           {
            "colorbar": {
             "outlinewidth": 0,
             "ticks": ""
            },
            "colorscale": [
             [
              0,
              "#0d0887"
             ],
             [
              0.1111111111111111,
              "#46039f"
             ],
             [
              0.2222222222222222,
              "#7201a8"
             ],
             [
              0.3333333333333333,
              "#9c179e"
             ],
             [
              0.4444444444444444,
              "#bd3786"
             ],
             [
              0.5555555555555556,
              "#d8576b"
             ],
             [
              0.6666666666666666,
              "#ed7953"
             ],
             [
              0.7777777777777778,
              "#fb9f3a"
             ],
             [
              0.8888888888888888,
              "#fdca26"
             ],
             [
              1,
              "#f0f921"
             ]
            ],
            "type": "heatmapgl"
           }
          ],
          "histogram": [
           {
            "marker": {
             "pattern": {
              "fillmode": "overlay",
              "size": 10,
              "solidity": 0.2
             }
            },
            "type": "histogram"
           }
          ],
          "histogram2d": [
           {
            "colorbar": {
             "outlinewidth": 0,
             "ticks": ""
            },
            "colorscale": [
             [
              0,
              "#0d0887"
             ],
             [
              0.1111111111111111,
              "#46039f"
             ],
             [
              0.2222222222222222,
              "#7201a8"
             ],
             [
              0.3333333333333333,
              "#9c179e"
             ],
             [
              0.4444444444444444,
              "#bd3786"
             ],
             [
              0.5555555555555556,
              "#d8576b"
             ],
             [
              0.6666666666666666,
              "#ed7953"
             ],
             [
              0.7777777777777778,
              "#fb9f3a"
             ],
             [
              0.8888888888888888,
              "#fdca26"
             ],
             [
              1,
              "#f0f921"
             ]
            ],
            "type": "histogram2d"
           }
          ],
          "histogram2dcontour": [
           {
            "colorbar": {
             "outlinewidth": 0,
             "ticks": ""
            },
            "colorscale": [
             [
              0,
              "#0d0887"
             ],
             [
              0.1111111111111111,
              "#46039f"
             ],
             [
              0.2222222222222222,
              "#7201a8"
             ],
             [
              0.3333333333333333,
              "#9c179e"
             ],
             [
              0.4444444444444444,
              "#bd3786"
             ],
             [
              0.5555555555555556,
              "#d8576b"
             ],
             [
              0.6666666666666666,
              "#ed7953"
             ],
             [
              0.7777777777777778,
              "#fb9f3a"
             ],
             [
              0.8888888888888888,
              "#fdca26"
             ],
             [
              1,
              "#f0f921"
             ]
            ],
            "type": "histogram2dcontour"
           }
          ],
          "mesh3d": [
           {
            "colorbar": {
             "outlinewidth": 0,
             "ticks": ""
            },
            "type": "mesh3d"
           }
          ],
          "parcoords": [
           {
            "line": {
             "colorbar": {
              "outlinewidth": 0,
              "ticks": ""
             }
            },
            "type": "parcoords"
           }
          ],
          "pie": [
           {
            "automargin": true,
            "type": "pie"
           }
          ],
          "scatter": [
           {
            "fillpattern": {
             "fillmode": "overlay",
             "size": 10,
             "solidity": 0.2
            },
            "type": "scatter"
           }
          ],
          "scatter3d": [
           {
            "line": {
             "colorbar": {
              "outlinewidth": 0,
              "ticks": ""
             }
            },
            "marker": {
             "colorbar": {
              "outlinewidth": 0,
              "ticks": ""
             }
            },
            "type": "scatter3d"
           }
          ],
          "scattercarpet": [
           {
            "marker": {
             "colorbar": {
              "outlinewidth": 0,
              "ticks": ""
             }
            },
            "type": "scattercarpet"
           }
          ],
          "scattergeo": [
           {
            "marker": {
             "colorbar": {
              "outlinewidth": 0,
              "ticks": ""
             }
            },
            "type": "scattergeo"
           }
          ],
          "scattergl": [
           {
            "marker": {
             "colorbar": {
              "outlinewidth": 0,
              "ticks": ""
             }
            },
            "type": "scattergl"
           }
          ],
          "scattermapbox": [
           {
            "marker": {
             "colorbar": {
              "outlinewidth": 0,
              "ticks": ""
             }
            },
            "type": "scattermapbox"
           }
          ],
          "scatterpolar": [
           {
            "marker": {
             "colorbar": {
              "outlinewidth": 0,
              "ticks": ""
             }
            },
            "type": "scatterpolar"
           }
          ],
          "scatterpolargl": [
           {
            "marker": {
             "colorbar": {
              "outlinewidth": 0,
              "ticks": ""
             }
            },
            "type": "scatterpolargl"
           }
          ],
          "scatterternary": [
           {
            "marker": {
             "colorbar": {
              "outlinewidth": 0,
              "ticks": ""
             }
            },
            "type": "scatterternary"
           }
          ],
          "surface": [
           {
            "colorbar": {
             "outlinewidth": 0,
             "ticks": ""
            },
            "colorscale": [
             [
              0,
              "#0d0887"
             ],
             [
              0.1111111111111111,
              "#46039f"
             ],
             [
              0.2222222222222222,
              "#7201a8"
             ],
             [
              0.3333333333333333,
              "#9c179e"
             ],
             [
              0.4444444444444444,
              "#bd3786"
             ],
             [
              0.5555555555555556,
              "#d8576b"
             ],
             [
              0.6666666666666666,
              "#ed7953"
             ],
             [
              0.7777777777777778,
              "#fb9f3a"
             ],
             [
              0.8888888888888888,
              "#fdca26"
             ],
             [
              1,
              "#f0f921"
             ]
            ],
            "type": "surface"
           }
          ],
          "table": [
           {
            "cells": {
             "fill": {
              "color": "#EBF0F8"
             },
             "line": {
              "color": "white"
             }
            },
            "header": {
             "fill": {
              "color": "#C8D4E3"
             },
             "line": {
              "color": "white"
             }
            },
            "type": "table"
           }
          ]
         },
         "layout": {
          "annotationdefaults": {
           "arrowcolor": "#2a3f5f",
           "arrowhead": 0,
           "arrowwidth": 1
          },
          "autotypenumbers": "strict",
          "coloraxis": {
           "colorbar": {
            "outlinewidth": 0,
            "ticks": ""
           }
          },
          "colorscale": {
           "diverging": [
            [
             0,
             "#8e0152"
            ],
            [
             0.1,
             "#c51b7d"
            ],
            [
             0.2,
             "#de77ae"
            ],
            [
             0.3,
             "#f1b6da"
            ],
            [
             0.4,
             "#fde0ef"
            ],
            [
             0.5,
             "#f7f7f7"
            ],
            [
             0.6,
             "#e6f5d0"
            ],
            [
             0.7,
             "#b8e186"
            ],
            [
             0.8,
             "#7fbc41"
            ],
            [
             0.9,
             "#4d9221"
            ],
            [
             1,
             "#276419"
            ]
           ],
           "sequential": [
            [
             0,
             "#0d0887"
            ],
            [
             0.1111111111111111,
             "#46039f"
            ],
            [
             0.2222222222222222,
             "#7201a8"
            ],
            [
             0.3333333333333333,
             "#9c179e"
            ],
            [
             0.4444444444444444,
             "#bd3786"
            ],
            [
             0.5555555555555556,
             "#d8576b"
            ],
            [
             0.6666666666666666,
             "#ed7953"
            ],
            [
             0.7777777777777778,
             "#fb9f3a"
            ],
            [
             0.8888888888888888,
             "#fdca26"
            ],
            [
             1,
             "#f0f921"
            ]
           ],
           "sequentialminus": [
            [
             0,
             "#0d0887"
            ],
            [
             0.1111111111111111,
             "#46039f"
            ],
            [
             0.2222222222222222,
             "#7201a8"
            ],
            [
             0.3333333333333333,
             "#9c179e"
            ],
            [
             0.4444444444444444,
             "#bd3786"
            ],
            [
             0.5555555555555556,
             "#d8576b"
            ],
            [
             0.6666666666666666,
             "#ed7953"
            ],
            [
             0.7777777777777778,
             "#fb9f3a"
            ],
            [
             0.8888888888888888,
             "#fdca26"
            ],
            [
             1,
             "#f0f921"
            ]
           ]
          },
          "colorway": [
           "#636efa",
           "#EF553B",
           "#00cc96",
           "#ab63fa",
           "#FFA15A",
           "#19d3f3",
           "#FF6692",
           "#B6E880",
           "#FF97FF",
           "#FECB52"
          ],
          "font": {
           "color": "#2a3f5f"
          },
          "geo": {
           "bgcolor": "white",
           "lakecolor": "white",
           "landcolor": "#E5ECF6",
           "showlakes": true,
           "showland": true,
           "subunitcolor": "white"
          },
          "hoverlabel": {
           "align": "left"
          },
          "hovermode": "closest",
          "mapbox": {
           "style": "light"
          },
          "paper_bgcolor": "white",
          "plot_bgcolor": "#E5ECF6",
          "polar": {
           "angularaxis": {
            "gridcolor": "white",
            "linecolor": "white",
            "ticks": ""
           },
           "bgcolor": "#E5ECF6",
           "radialaxis": {
            "gridcolor": "white",
            "linecolor": "white",
            "ticks": ""
           }
          },
          "scene": {
           "xaxis": {
            "backgroundcolor": "#E5ECF6",
            "gridcolor": "white",
            "gridwidth": 2,
            "linecolor": "white",
            "showbackground": true,
            "ticks": "",
            "zerolinecolor": "white"
           },
           "yaxis": {
            "backgroundcolor": "#E5ECF6",
            "gridcolor": "white",
            "gridwidth": 2,
            "linecolor": "white",
            "showbackground": true,
            "ticks": "",
            "zerolinecolor": "white"
           },
           "zaxis": {
            "backgroundcolor": "#E5ECF6",
            "gridcolor": "white",
            "gridwidth": 2,
            "linecolor": "white",
            "showbackground": true,
            "ticks": "",
            "zerolinecolor": "white"
           }
          },
          "shapedefaults": {
           "line": {
            "color": "#2a3f5f"
           }
          },
          "ternary": {
           "aaxis": {
            "gridcolor": "white",
            "linecolor": "white",
            "ticks": ""
           },
           "baxis": {
            "gridcolor": "white",
            "linecolor": "white",
            "ticks": ""
           },
           "bgcolor": "#E5ECF6",
           "caxis": {
            "gridcolor": "white",
            "linecolor": "white",
            "ticks": ""
           }
          },
          "title": {
           "x": 0.05
          },
          "xaxis": {
           "automargin": true,
           "gridcolor": "white",
           "linecolor": "white",
           "ticks": "",
           "title": {
            "standoff": 15
           },
           "zerolinecolor": "white",
           "zerolinewidth": 2
          },
          "yaxis": {
           "automargin": true,
           "gridcolor": "white",
           "linecolor": "white",
           "ticks": "",
           "title": {
            "standoff": 15
           },
           "zerolinecolor": "white",
           "zerolinewidth": 2
          }
         }
        },
        "title": {
         "text": "Distribution of Durations"
        },
        "xaxis": {
         "anchor": "y",
         "domain": [
          0,
          1
         ],
         "tickangle": -45,
         "title": {
          "text": "Duration Bins"
         }
        },
        "yaxis": {
         "anchor": "x",
         "domain": [
          0,
          1
         ],
         "title": {
          "text": "Count"
         }
        }
       }
      }
     },
     "metadata": {},
     "output_type": "display_data"
    },
    {
     "data": {
      "application/vnd.plotly.v1+json": {
       "config": {
        "plotlyServerURL": "https://plot.ly"
       },
       "data": [
        {
         "alignmentgroup": "True",
         "hovertemplate": "Duration Bins=%{x}<br>Count=%{y}<extra></extra>",
         "legendgroup": "",
         "marker": {
          "color": "#636efa",
          "pattern": {
           "shape": ""
          }
         },
         "name": "",
         "offsetgroup": "",
         "orientation": "v",
         "showlegend": false,
         "textposition": "auto",
         "type": "bar",
         "x": [
          "0-5 min",
          "5-10 min",
          "10-15 min",
          "15-20 min",
          "20-25 min",
          "25-30 min",
          "30-35 min",
          "35-40 min",
          "40-45 min",
          "45-50 min",
          "50-55 min",
          "55-60 min",
          "60-65 min",
          "65-70 min",
          "70-75 min",
          "75-80 min",
          "80-85 min",
          "85-90 min",
          "90-95 min",
          "95-100 min",
          "100-105 min",
          "105-110 min",
          "110-115 min",
          ">120 min"
         ],
         "xaxis": "x",
         "y": [
          348,
          158,
          100,
          87,
          64,
          48,
          59,
          48,
          56,
          47,
          51,
          41,
          40,
          40,
          43,
          42,
          29,
          34,
          29,
          27,
          28,
          24,
          23,
          585
         ],
         "yaxis": "y"
        }
       ],
       "layout": {
        "barmode": "relative",
        "legend": {
         "tracegroupgap": 0
        },
        "template": {
         "data": {
          "bar": [
           {
            "error_x": {
             "color": "#2a3f5f"
            },
            "error_y": {
             "color": "#2a3f5f"
            },
            "marker": {
             "line": {
              "color": "#E5ECF6",
              "width": 0.5
             },
             "pattern": {
              "fillmode": "overlay",
              "size": 10,
              "solidity": 0.2
             }
            },
            "type": "bar"
           }
          ],
          "barpolar": [
           {
            "marker": {
             "line": {
              "color": "#E5ECF6",
              "width": 0.5
             },
             "pattern": {
              "fillmode": "overlay",
              "size": 10,
              "solidity": 0.2
             }
            },
            "type": "barpolar"
           }
          ],
          "carpet": [
           {
            "aaxis": {
             "endlinecolor": "#2a3f5f",
             "gridcolor": "white",
             "linecolor": "white",
             "minorgridcolor": "white",
             "startlinecolor": "#2a3f5f"
            },
            "baxis": {
             "endlinecolor": "#2a3f5f",
             "gridcolor": "white",
             "linecolor": "white",
             "minorgridcolor": "white",
             "startlinecolor": "#2a3f5f"
            },
            "type": "carpet"
           }
          ],
          "choropleth": [
           {
            "colorbar": {
             "outlinewidth": 0,
             "ticks": ""
            },
            "type": "choropleth"
           }
          ],
          "contour": [
           {
            "colorbar": {
             "outlinewidth": 0,
             "ticks": ""
            },
            "colorscale": [
             [
              0,
              "#0d0887"
             ],
             [
              0.1111111111111111,
              "#46039f"
             ],
             [
              0.2222222222222222,
              "#7201a8"
             ],
             [
              0.3333333333333333,
              "#9c179e"
             ],
             [
              0.4444444444444444,
              "#bd3786"
             ],
             [
              0.5555555555555556,
              "#d8576b"
             ],
             [
              0.6666666666666666,
              "#ed7953"
             ],
             [
              0.7777777777777778,
              "#fb9f3a"
             ],
             [
              0.8888888888888888,
              "#fdca26"
             ],
             [
              1,
              "#f0f921"
             ]
            ],
            "type": "contour"
           }
          ],
          "contourcarpet": [
           {
            "colorbar": {
             "outlinewidth": 0,
             "ticks": ""
            },
            "type": "contourcarpet"
           }
          ],
          "heatmap": [
           {
            "colorbar": {
             "outlinewidth": 0,
             "ticks": ""
            },
            "colorscale": [
             [
              0,
              "#0d0887"
             ],
             [
              0.1111111111111111,
              "#46039f"
             ],
             [
              0.2222222222222222,
              "#7201a8"
             ],
             [
              0.3333333333333333,
              "#9c179e"
             ],
             [
              0.4444444444444444,
              "#bd3786"
             ],
             [
              0.5555555555555556,
              "#d8576b"
             ],
             [
              0.6666666666666666,
              "#ed7953"
             ],
             [
              0.7777777777777778,
              "#fb9f3a"
             ],
             [
              0.8888888888888888,
              "#fdca26"
             ],
             [
              1,
              "#f0f921"
             ]
            ],
            "type": "heatmap"
           }
          ],
          "heatmapgl": [
           {
            "colorbar": {
             "outlinewidth": 0,
             "ticks": ""
            },
            "colorscale": [
             [
              0,
              "#0d0887"
             ],
             [
              0.1111111111111111,
              "#46039f"
             ],
             [
              0.2222222222222222,
              "#7201a8"
             ],
             [
              0.3333333333333333,
              "#9c179e"
             ],
             [
              0.4444444444444444,
              "#bd3786"
             ],
             [
              0.5555555555555556,
              "#d8576b"
             ],
             [
              0.6666666666666666,
              "#ed7953"
             ],
             [
              0.7777777777777778,
              "#fb9f3a"
             ],
             [
              0.8888888888888888,
              "#fdca26"
             ],
             [
              1,
              "#f0f921"
             ]
            ],
            "type": "heatmapgl"
           }
          ],
          "histogram": [
           {
            "marker": {
             "pattern": {
              "fillmode": "overlay",
              "size": 10,
              "solidity": 0.2
             }
            },
            "type": "histogram"
           }
          ],
          "histogram2d": [
           {
            "colorbar": {
             "outlinewidth": 0,
             "ticks": ""
            },
            "colorscale": [
             [
              0,
              "#0d0887"
             ],
             [
              0.1111111111111111,
              "#46039f"
             ],
             [
              0.2222222222222222,
              "#7201a8"
             ],
             [
              0.3333333333333333,
              "#9c179e"
             ],
             [
              0.4444444444444444,
              "#bd3786"
             ],
             [
              0.5555555555555556,
              "#d8576b"
             ],
             [
              0.6666666666666666,
              "#ed7953"
             ],
             [
              0.7777777777777778,
              "#fb9f3a"
             ],
             [
              0.8888888888888888,
              "#fdca26"
             ],
             [
              1,
              "#f0f921"
             ]
            ],
            "type": "histogram2d"
           }
          ],
          "histogram2dcontour": [
           {
            "colorbar": {
             "outlinewidth": 0,
             "ticks": ""
            },
            "colorscale": [
             [
              0,
              "#0d0887"
             ],
             [
              0.1111111111111111,
              "#46039f"
             ],
             [
              0.2222222222222222,
              "#7201a8"
             ],
             [
              0.3333333333333333,
              "#9c179e"
             ],
             [
              0.4444444444444444,
              "#bd3786"
             ],
             [
              0.5555555555555556,
              "#d8576b"
             ],
             [
              0.6666666666666666,
              "#ed7953"
             ],
             [
              0.7777777777777778,
              "#fb9f3a"
             ],
             [
              0.8888888888888888,
              "#fdca26"
             ],
             [
              1,
              "#f0f921"
             ]
            ],
            "type": "histogram2dcontour"
           }
          ],
          "mesh3d": [
           {
            "colorbar": {
             "outlinewidth": 0,
             "ticks": ""
            },
            "type": "mesh3d"
           }
          ],
          "parcoords": [
           {
            "line": {
             "colorbar": {
              "outlinewidth": 0,
              "ticks": ""
             }
            },
            "type": "parcoords"
           }
          ],
          "pie": [
           {
            "automargin": true,
            "type": "pie"
           }
          ],
          "scatter": [
           {
            "fillpattern": {
             "fillmode": "overlay",
             "size": 10,
             "solidity": 0.2
            },
            "type": "scatter"
           }
          ],
          "scatter3d": [
           {
            "line": {
             "colorbar": {
              "outlinewidth": 0,
              "ticks": ""
             }
            },
            "marker": {
             "colorbar": {
              "outlinewidth": 0,
              "ticks": ""
             }
            },
            "type": "scatter3d"
           }
          ],
          "scattercarpet": [
           {
            "marker": {
             "colorbar": {
              "outlinewidth": 0,
              "ticks": ""
             }
            },
            "type": "scattercarpet"
           }
          ],
          "scattergeo": [
           {
            "marker": {
             "colorbar": {
              "outlinewidth": 0,
              "ticks": ""
             }
            },
            "type": "scattergeo"
           }
          ],
          "scattergl": [
           {
            "marker": {
             "colorbar": {
              "outlinewidth": 0,
              "ticks": ""
             }
            },
            "type": "scattergl"
           }
          ],
          "scattermapbox": [
           {
            "marker": {
             "colorbar": {
              "outlinewidth": 0,
              "ticks": ""
             }
            },
            "type": "scattermapbox"
           }
          ],
          "scatterpolar": [
           {
            "marker": {
             "colorbar": {
              "outlinewidth": 0,
              "ticks": ""
             }
            },
            "type": "scatterpolar"
           }
          ],
          "scatterpolargl": [
           {
            "marker": {
             "colorbar": {
              "outlinewidth": 0,
              "ticks": ""
             }
            },
            "type": "scatterpolargl"
           }
          ],
          "scatterternary": [
           {
            "marker": {
             "colorbar": {
              "outlinewidth": 0,
              "ticks": ""
             }
            },
            "type": "scatterternary"
           }
          ],
          "surface": [
           {
            "colorbar": {
             "outlinewidth": 0,
             "ticks": ""
            },
            "colorscale": [
             [
              0,
              "#0d0887"
             ],
             [
              0.1111111111111111,
              "#46039f"
             ],
             [
              0.2222222222222222,
              "#7201a8"
             ],
             [
              0.3333333333333333,
              "#9c179e"
             ],
             [
              0.4444444444444444,
              "#bd3786"
             ],
             [
              0.5555555555555556,
              "#d8576b"
             ],
             [
              0.6666666666666666,
              "#ed7953"
             ],
             [
              0.7777777777777778,
              "#fb9f3a"
             ],
             [
              0.8888888888888888,
              "#fdca26"
             ],
             [
              1,
              "#f0f921"
             ]
            ],
            "type": "surface"
           }
          ],
          "table": [
           {
            "cells": {
             "fill": {
              "color": "#EBF0F8"
             },
             "line": {
              "color": "white"
             }
            },
            "header": {
             "fill": {
              "color": "#C8D4E3"
             },
             "line": {
              "color": "white"
             }
            },
            "type": "table"
           }
          ]
         },
         "layout": {
          "annotationdefaults": {
           "arrowcolor": "#2a3f5f",
           "arrowhead": 0,
           "arrowwidth": 1
          },
          "autotypenumbers": "strict",
          "coloraxis": {
           "colorbar": {
            "outlinewidth": 0,
            "ticks": ""
           }
          },
          "colorscale": {
           "diverging": [
            [
             0,
             "#8e0152"
            ],
            [
             0.1,
             "#c51b7d"
            ],
            [
             0.2,
             "#de77ae"
            ],
            [
             0.3,
             "#f1b6da"
            ],
            [
             0.4,
             "#fde0ef"
            ],
            [
             0.5,
             "#f7f7f7"
            ],
            [
             0.6,
             "#e6f5d0"
            ],
            [
             0.7,
             "#b8e186"
            ],
            [
             0.8,
             "#7fbc41"
            ],
            [
             0.9,
             "#4d9221"
            ],
            [
             1,
             "#276419"
            ]
           ],
           "sequential": [
            [
             0,
             "#0d0887"
            ],
            [
             0.1111111111111111,
             "#46039f"
            ],
            [
             0.2222222222222222,
             "#7201a8"
            ],
            [
             0.3333333333333333,
             "#9c179e"
            ],
            [
             0.4444444444444444,
             "#bd3786"
            ],
            [
             0.5555555555555556,
             "#d8576b"
            ],
            [
             0.6666666666666666,
             "#ed7953"
            ],
            [
             0.7777777777777778,
             "#fb9f3a"
            ],
            [
             0.8888888888888888,
             "#fdca26"
            ],
            [
             1,
             "#f0f921"
            ]
           ],
           "sequentialminus": [
            [
             0,
             "#0d0887"
            ],
            [
             0.1111111111111111,
             "#46039f"
            ],
            [
             0.2222222222222222,
             "#7201a8"
            ],
            [
             0.3333333333333333,
             "#9c179e"
            ],
            [
             0.4444444444444444,
             "#bd3786"
            ],
            [
             0.5555555555555556,
             "#d8576b"
            ],
            [
             0.6666666666666666,
             "#ed7953"
            ],
            [
             0.7777777777777778,
             "#fb9f3a"
            ],
            [
             0.8888888888888888,
             "#fdca26"
            ],
            [
             1,
             "#f0f921"
            ]
           ]
          },
          "colorway": [
           "#636efa",
           "#EF553B",
           "#00cc96",
           "#ab63fa",
           "#FFA15A",
           "#19d3f3",
           "#FF6692",
           "#B6E880",
           "#FF97FF",
           "#FECB52"
          ],
          "font": {
           "color": "#2a3f5f"
          },
          "geo": {
           "bgcolor": "white",
           "lakecolor": "white",
           "landcolor": "#E5ECF6",
           "showlakes": true,
           "showland": true,
           "subunitcolor": "white"
          },
          "hoverlabel": {
           "align": "left"
          },
          "hovermode": "closest",
          "mapbox": {
           "style": "light"
          },
          "paper_bgcolor": "white",
          "plot_bgcolor": "#E5ECF6",
          "polar": {
           "angularaxis": {
            "gridcolor": "white",
            "linecolor": "white",
            "ticks": ""
           },
           "bgcolor": "#E5ECF6",
           "radialaxis": {
            "gridcolor": "white",
            "linecolor": "white",
            "ticks": ""
           }
          },
          "scene": {
           "xaxis": {
            "backgroundcolor": "#E5ECF6",
            "gridcolor": "white",
            "gridwidth": 2,
            "linecolor": "white",
            "showbackground": true,
            "ticks": "",
            "zerolinecolor": "white"
           },
           "yaxis": {
            "backgroundcolor": "#E5ECF6",
            "gridcolor": "white",
            "gridwidth": 2,
            "linecolor": "white",
            "showbackground": true,
            "ticks": "",
            "zerolinecolor": "white"
           },
           "zaxis": {
            "backgroundcolor": "#E5ECF6",
            "gridcolor": "white",
            "gridwidth": 2,
            "linecolor": "white",
            "showbackground": true,
            "ticks": "",
            "zerolinecolor": "white"
           }
          },
          "shapedefaults": {
           "line": {
            "color": "#2a3f5f"
           }
          },
          "ternary": {
           "aaxis": {
            "gridcolor": "white",
            "linecolor": "white",
            "ticks": ""
           },
           "baxis": {
            "gridcolor": "white",
            "linecolor": "white",
            "ticks": ""
           },
           "bgcolor": "#E5ECF6",
           "caxis": {
            "gridcolor": "white",
            "linecolor": "white",
            "ticks": ""
           }
          },
          "title": {
           "x": 0.05
          },
          "xaxis": {
           "automargin": true,
           "gridcolor": "white",
           "linecolor": "white",
           "ticks": "",
           "title": {
            "standoff": 15
           },
           "zerolinecolor": "white",
           "zerolinewidth": 2
          },
          "yaxis": {
           "automargin": true,
           "gridcolor": "white",
           "linecolor": "white",
           "ticks": "",
           "title": {
            "standoff": 15
           },
           "zerolinecolor": "white",
           "zerolinewidth": 2
          }
         }
        },
        "title": {
         "text": "Distribution of Durations"
        },
        "xaxis": {
         "anchor": "y",
         "domain": [
          0,
          1
         ],
         "tickangle": -45,
         "title": {
          "text": "Duration Bins"
         }
        },
        "yaxis": {
         "anchor": "x",
         "domain": [
          0,
          1
         ],
         "title": {
          "text": "Count"
         }
        }
       }
      }
     },
     "metadata": {},
     "output_type": "display_data"
    },
    {
     "data": {
      "application/vnd.plotly.v1+json": {
       "config": {
        "plotlyServerURL": "https://plot.ly"
       },
       "data": [
        {
         "alignmentgroup": "True",
         "hovertemplate": "Duration Bins=%{x}<br>Count=%{y}<extra></extra>",
         "legendgroup": "",
         "marker": {
          "color": "#636efa",
          "pattern": {
           "shape": ""
          }
         },
         "name": "",
         "offsetgroup": "",
         "orientation": "v",
         "showlegend": false,
         "textposition": "auto",
         "type": "bar",
         "x": [
          "0-5 min",
          "5-10 min",
          "10-15 min",
          "15-20 min",
          "20-25 min",
          "25-30 min",
          "30-35 min",
          "35-40 min",
          "40-45 min",
          "45-50 min",
          "50-55 min",
          "55-60 min",
          "60-65 min",
          "65-70 min",
          "70-75 min",
          "75-80 min",
          "80-85 min",
          "85-90 min",
          "90-95 min",
          "95-100 min",
          "100-105 min",
          "105-110 min",
          "110-115 min",
          ">120 min"
         ],
         "xaxis": "x",
         "y": [
          275,
          65,
          35,
          49,
          37,
          50,
          31,
          29,
          37,
          30,
          19,
          25,
          17,
          22,
          24,
          22,
          15,
          23,
          11,
          15,
          8,
          7,
          6,
          326
         ],
         "yaxis": "y"
        }
       ],
       "layout": {
        "barmode": "relative",
        "legend": {
         "tracegroupgap": 0
        },
        "template": {
         "data": {
          "bar": [
           {
            "error_x": {
             "color": "#2a3f5f"
            },
            "error_y": {
             "color": "#2a3f5f"
            },
            "marker": {
             "line": {
              "color": "#E5ECF6",
              "width": 0.5
             },
             "pattern": {
              "fillmode": "overlay",
              "size": 10,
              "solidity": 0.2
             }
            },
            "type": "bar"
           }
          ],
          "barpolar": [
           {
            "marker": {
             "line": {
              "color": "#E5ECF6",
              "width": 0.5
             },
             "pattern": {
              "fillmode": "overlay",
              "size": 10,
              "solidity": 0.2
             }
            },
            "type": "barpolar"
           }
          ],
          "carpet": [
           {
            "aaxis": {
             "endlinecolor": "#2a3f5f",
             "gridcolor": "white",
             "linecolor": "white",
             "minorgridcolor": "white",
             "startlinecolor": "#2a3f5f"
            },
            "baxis": {
             "endlinecolor": "#2a3f5f",
             "gridcolor": "white",
             "linecolor": "white",
             "minorgridcolor": "white",
             "startlinecolor": "#2a3f5f"
            },
            "type": "carpet"
           }
          ],
          "choropleth": [
           {
            "colorbar": {
             "outlinewidth": 0,
             "ticks": ""
            },
            "type": "choropleth"
           }
          ],
          "contour": [
           {
            "colorbar": {
             "outlinewidth": 0,
             "ticks": ""
            },
            "colorscale": [
             [
              0,
              "#0d0887"
             ],
             [
              0.1111111111111111,
              "#46039f"
             ],
             [
              0.2222222222222222,
              "#7201a8"
             ],
             [
              0.3333333333333333,
              "#9c179e"
             ],
             [
              0.4444444444444444,
              "#bd3786"
             ],
             [
              0.5555555555555556,
              "#d8576b"
             ],
             [
              0.6666666666666666,
              "#ed7953"
             ],
             [
              0.7777777777777778,
              "#fb9f3a"
             ],
             [
              0.8888888888888888,
              "#fdca26"
             ],
             [
              1,
              "#f0f921"
             ]
            ],
            "type": "contour"
           }
          ],
          "contourcarpet": [
           {
            "colorbar": {
             "outlinewidth": 0,
             "ticks": ""
            },
            "type": "contourcarpet"
           }
          ],
          "heatmap": [
           {
            "colorbar": {
             "outlinewidth": 0,
             "ticks": ""
            },
            "colorscale": [
             [
              0,
              "#0d0887"
             ],
             [
              0.1111111111111111,
              "#46039f"
             ],
             [
              0.2222222222222222,
              "#7201a8"
             ],
             [
              0.3333333333333333,
              "#9c179e"
             ],
             [
              0.4444444444444444,
              "#bd3786"
             ],
             [
              0.5555555555555556,
              "#d8576b"
             ],
             [
              0.6666666666666666,
              "#ed7953"
             ],
             [
              0.7777777777777778,
              "#fb9f3a"
             ],
             [
              0.8888888888888888,
              "#fdca26"
             ],
             [
              1,
              "#f0f921"
             ]
            ],
            "type": "heatmap"
           }
          ],
          "heatmapgl": [
           {
            "colorbar": {
             "outlinewidth": 0,
             "ticks": ""
            },
            "colorscale": [
             [
              0,
              "#0d0887"
             ],
             [
              0.1111111111111111,
              "#46039f"
             ],
             [
              0.2222222222222222,
              "#7201a8"
             ],
             [
              0.3333333333333333,
              "#9c179e"
             ],
             [
              0.4444444444444444,
              "#bd3786"
             ],
             [
              0.5555555555555556,
              "#d8576b"
             ],
             [
              0.6666666666666666,
              "#ed7953"
             ],
             [
              0.7777777777777778,
              "#fb9f3a"
             ],
             [
              0.8888888888888888,
              "#fdca26"
             ],
             [
              1,
              "#f0f921"
             ]
            ],
            "type": "heatmapgl"
           }
          ],
          "histogram": [
           {
            "marker": {
             "pattern": {
              "fillmode": "overlay",
              "size": 10,
              "solidity": 0.2
             }
            },
            "type": "histogram"
           }
          ],
          "histogram2d": [
           {
            "colorbar": {
             "outlinewidth": 0,
             "ticks": ""
            },
            "colorscale": [
             [
              0,
              "#0d0887"
             ],
             [
              0.1111111111111111,
              "#46039f"
             ],
             [
              0.2222222222222222,
              "#7201a8"
             ],
             [
              0.3333333333333333,
              "#9c179e"
             ],
             [
              0.4444444444444444,
              "#bd3786"
             ],
             [
              0.5555555555555556,
              "#d8576b"
             ],
             [
              0.6666666666666666,
              "#ed7953"
             ],
             [
              0.7777777777777778,
              "#fb9f3a"
             ],
             [
              0.8888888888888888,
              "#fdca26"
             ],
             [
              1,
              "#f0f921"
             ]
            ],
            "type": "histogram2d"
           }
          ],
          "histogram2dcontour": [
           {
            "colorbar": {
             "outlinewidth": 0,
             "ticks": ""
            },
            "colorscale": [
             [
              0,
              "#0d0887"
             ],
             [
              0.1111111111111111,
              "#46039f"
             ],
             [
              0.2222222222222222,
              "#7201a8"
             ],
             [
              0.3333333333333333,
              "#9c179e"
             ],
             [
              0.4444444444444444,
              "#bd3786"
             ],
             [
              0.5555555555555556,
              "#d8576b"
             ],
             [
              0.6666666666666666,
              "#ed7953"
             ],
             [
              0.7777777777777778,
              "#fb9f3a"
             ],
             [
              0.8888888888888888,
              "#fdca26"
             ],
             [
              1,
              "#f0f921"
             ]
            ],
            "type": "histogram2dcontour"
           }
          ],
          "mesh3d": [
           {
            "colorbar": {
             "outlinewidth": 0,
             "ticks": ""
            },
            "type": "mesh3d"
           }
          ],
          "parcoords": [
           {
            "line": {
             "colorbar": {
              "outlinewidth": 0,
              "ticks": ""
             }
            },
            "type": "parcoords"
           }
          ],
          "pie": [
           {
            "automargin": true,
            "type": "pie"
           }
          ],
          "scatter": [
           {
            "fillpattern": {
             "fillmode": "overlay",
             "size": 10,
             "solidity": 0.2
            },
            "type": "scatter"
           }
          ],
          "scatter3d": [
           {
            "line": {
             "colorbar": {
              "outlinewidth": 0,
              "ticks": ""
             }
            },
            "marker": {
             "colorbar": {
              "outlinewidth": 0,
              "ticks": ""
             }
            },
            "type": "scatter3d"
           }
          ],
          "scattercarpet": [
           {
            "marker": {
             "colorbar": {
              "outlinewidth": 0,
              "ticks": ""
             }
            },
            "type": "scattercarpet"
           }
          ],
          "scattergeo": [
           {
            "marker": {
             "colorbar": {
              "outlinewidth": 0,
              "ticks": ""
             }
            },
            "type": "scattergeo"
           }
          ],
          "scattergl": [
           {
            "marker": {
             "colorbar": {
              "outlinewidth": 0,
              "ticks": ""
             }
            },
            "type": "scattergl"
           }
          ],
          "scattermapbox": [
           {
            "marker": {
             "colorbar": {
              "outlinewidth": 0,
              "ticks": ""
             }
            },
            "type": "scattermapbox"
           }
          ],
          "scatterpolar": [
           {
            "marker": {
             "colorbar": {
              "outlinewidth": 0,
              "ticks": ""
             }
            },
            "type": "scatterpolar"
           }
          ],
          "scatterpolargl": [
           {
            "marker": {
             "colorbar": {
              "outlinewidth": 0,
              "ticks": ""
             }
            },
            "type": "scatterpolargl"
           }
          ],
          "scatterternary": [
           {
            "marker": {
             "colorbar": {
              "outlinewidth": 0,
              "ticks": ""
             }
            },
            "type": "scatterternary"
           }
          ],
          "surface": [
           {
            "colorbar": {
             "outlinewidth": 0,
             "ticks": ""
            },
            "colorscale": [
             [
              0,
              "#0d0887"
             ],
             [
              0.1111111111111111,
              "#46039f"
             ],
             [
              0.2222222222222222,
              "#7201a8"
             ],
             [
              0.3333333333333333,
              "#9c179e"
             ],
             [
              0.4444444444444444,
              "#bd3786"
             ],
             [
              0.5555555555555556,
              "#d8576b"
             ],
             [
              0.6666666666666666,
              "#ed7953"
             ],
             [
              0.7777777777777778,
              "#fb9f3a"
             ],
             [
              0.8888888888888888,
              "#fdca26"
             ],
             [
              1,
              "#f0f921"
             ]
            ],
            "type": "surface"
           }
          ],
          "table": [
           {
            "cells": {
             "fill": {
              "color": "#EBF0F8"
             },
             "line": {
              "color": "white"
             }
            },
            "header": {
             "fill": {
              "color": "#C8D4E3"
             },
             "line": {
              "color": "white"
             }
            },
            "type": "table"
           }
          ]
         },
         "layout": {
          "annotationdefaults": {
           "arrowcolor": "#2a3f5f",
           "arrowhead": 0,
           "arrowwidth": 1
          },
          "autotypenumbers": "strict",
          "coloraxis": {
           "colorbar": {
            "outlinewidth": 0,
            "ticks": ""
           }
          },
          "colorscale": {
           "diverging": [
            [
             0,
             "#8e0152"
            ],
            [
             0.1,
             "#c51b7d"
            ],
            [
             0.2,
             "#de77ae"
            ],
            [
             0.3,
             "#f1b6da"
            ],
            [
             0.4,
             "#fde0ef"
            ],
            [
             0.5,
             "#f7f7f7"
            ],
            [
             0.6,
             "#e6f5d0"
            ],
            [
             0.7,
             "#b8e186"
            ],
            [
             0.8,
             "#7fbc41"
            ],
            [
             0.9,
             "#4d9221"
            ],
            [
             1,
             "#276419"
            ]
           ],
           "sequential": [
            [
             0,
             "#0d0887"
            ],
            [
             0.1111111111111111,
             "#46039f"
            ],
            [
             0.2222222222222222,
             "#7201a8"
            ],
            [
             0.3333333333333333,
             "#9c179e"
            ],
            [
             0.4444444444444444,
             "#bd3786"
            ],
            [
             0.5555555555555556,
             "#d8576b"
            ],
            [
             0.6666666666666666,
             "#ed7953"
            ],
            [
             0.7777777777777778,
             "#fb9f3a"
            ],
            [
             0.8888888888888888,
             "#fdca26"
            ],
            [
             1,
             "#f0f921"
            ]
           ],
           "sequentialminus": [
            [
             0,
             "#0d0887"
            ],
            [
             0.1111111111111111,
             "#46039f"
            ],
            [
             0.2222222222222222,
             "#7201a8"
            ],
            [
             0.3333333333333333,
             "#9c179e"
            ],
            [
             0.4444444444444444,
             "#bd3786"
            ],
            [
             0.5555555555555556,
             "#d8576b"
            ],
            [
             0.6666666666666666,
             "#ed7953"
            ],
            [
             0.7777777777777778,
             "#fb9f3a"
            ],
            [
             0.8888888888888888,
             "#fdca26"
            ],
            [
             1,
             "#f0f921"
            ]
           ]
          },
          "colorway": [
           "#636efa",
           "#EF553B",
           "#00cc96",
           "#ab63fa",
           "#FFA15A",
           "#19d3f3",
           "#FF6692",
           "#B6E880",
           "#FF97FF",
           "#FECB52"
          ],
          "font": {
           "color": "#2a3f5f"
          },
          "geo": {
           "bgcolor": "white",
           "lakecolor": "white",
           "landcolor": "#E5ECF6",
           "showlakes": true,
           "showland": true,
           "subunitcolor": "white"
          },
          "hoverlabel": {
           "align": "left"
          },
          "hovermode": "closest",
          "mapbox": {
           "style": "light"
          },
          "paper_bgcolor": "white",
          "plot_bgcolor": "#E5ECF6",
          "polar": {
           "angularaxis": {
            "gridcolor": "white",
            "linecolor": "white",
            "ticks": ""
           },
           "bgcolor": "#E5ECF6",
           "radialaxis": {
            "gridcolor": "white",
            "linecolor": "white",
            "ticks": ""
           }
          },
          "scene": {
           "xaxis": {
            "backgroundcolor": "#E5ECF6",
            "gridcolor": "white",
            "gridwidth": 2,
            "linecolor": "white",
            "showbackground": true,
            "ticks": "",
            "zerolinecolor": "white"
           },
           "yaxis": {
            "backgroundcolor": "#E5ECF6",
            "gridcolor": "white",
            "gridwidth": 2,
            "linecolor": "white",
            "showbackground": true,
            "ticks": "",
            "zerolinecolor": "white"
           },
           "zaxis": {
            "backgroundcolor": "#E5ECF6",
            "gridcolor": "white",
            "gridwidth": 2,
            "linecolor": "white",
            "showbackground": true,
            "ticks": "",
            "zerolinecolor": "white"
           }
          },
          "shapedefaults": {
           "line": {
            "color": "#2a3f5f"
           }
          },
          "ternary": {
           "aaxis": {
            "gridcolor": "white",
            "linecolor": "white",
            "ticks": ""
           },
           "baxis": {
            "gridcolor": "white",
            "linecolor": "white",
            "ticks": ""
           },
           "bgcolor": "#E5ECF6",
           "caxis": {
            "gridcolor": "white",
            "linecolor": "white",
            "ticks": ""
           }
          },
          "title": {
           "x": 0.05
          },
          "xaxis": {
           "automargin": true,
           "gridcolor": "white",
           "linecolor": "white",
           "ticks": "",
           "title": {
            "standoff": 15
           },
           "zerolinecolor": "white",
           "zerolinewidth": 2
          },
          "yaxis": {
           "automargin": true,
           "gridcolor": "white",
           "linecolor": "white",
           "ticks": "",
           "title": {
            "standoff": 15
           },
           "zerolinecolor": "white",
           "zerolinewidth": 2
          }
         }
        },
        "title": {
         "text": "Distribution of Durations"
        },
        "xaxis": {
         "anchor": "y",
         "domain": [
          0,
          1
         ],
         "tickangle": -45,
         "title": {
          "text": "Duration Bins"
         }
        },
        "yaxis": {
         "anchor": "x",
         "domain": [
          0,
          1
         ],
         "title": {
          "text": "Count"
         }
        }
       }
      }
     },
     "metadata": {},
     "output_type": "display_data"
    },
    {
     "data": {
      "application/vnd.plotly.v1+json": {
       "config": {
        "plotlyServerURL": "https://plot.ly"
       },
       "data": [
        {
         "alignmentgroup": "True",
         "hovertemplate": "Duration Bins=%{x}<br>Count=%{y}<extra></extra>",
         "legendgroup": "",
         "marker": {
          "color": "#636efa",
          "pattern": {
           "shape": ""
          }
         },
         "name": "",
         "offsetgroup": "",
         "orientation": "v",
         "showlegend": false,
         "textposition": "auto",
         "type": "bar",
         "x": [
          "0-5 min",
          "5-10 min",
          "10-15 min",
          "15-20 min",
          "20-25 min",
          "25-30 min",
          "30-35 min",
          "35-40 min",
          "40-45 min",
          "45-50 min",
          "50-55 min",
          "55-60 min",
          "60-65 min",
          "65-70 min",
          "70-75 min",
          "75-80 min",
          "80-85 min",
          "85-90 min",
          "90-95 min",
          "95-100 min",
          "100-105 min",
          "105-110 min",
          "110-115 min",
          ">120 min"
         ],
         "xaxis": "x",
         "y": [
          25,
          6,
          9,
          2,
          5,
          4,
          10,
          5,
          5,
          5,
          4,
          3,
          1,
          1,
          3,
          3,
          4,
          1,
          3,
          1,
          2,
          2,
          5,
          130
         ],
         "yaxis": "y"
        }
       ],
       "layout": {
        "barmode": "relative",
        "legend": {
         "tracegroupgap": 0
        },
        "template": {
         "data": {
          "bar": [
           {
            "error_x": {
             "color": "#2a3f5f"
            },
            "error_y": {
             "color": "#2a3f5f"
            },
            "marker": {
             "line": {
              "color": "#E5ECF6",
              "width": 0.5
             },
             "pattern": {
              "fillmode": "overlay",
              "size": 10,
              "solidity": 0.2
             }
            },
            "type": "bar"
           }
          ],
          "barpolar": [
           {
            "marker": {
             "line": {
              "color": "#E5ECF6",
              "width": 0.5
             },
             "pattern": {
              "fillmode": "overlay",
              "size": 10,
              "solidity": 0.2
             }
            },
            "type": "barpolar"
           }
          ],
          "carpet": [
           {
            "aaxis": {
             "endlinecolor": "#2a3f5f",
             "gridcolor": "white",
             "linecolor": "white",
             "minorgridcolor": "white",
             "startlinecolor": "#2a3f5f"
            },
            "baxis": {
             "endlinecolor": "#2a3f5f",
             "gridcolor": "white",
             "linecolor": "white",
             "minorgridcolor": "white",
             "startlinecolor": "#2a3f5f"
            },
            "type": "carpet"
           }
          ],
          "choropleth": [
           {
            "colorbar": {
             "outlinewidth": 0,
             "ticks": ""
            },
            "type": "choropleth"
           }
          ],
          "contour": [
           {
            "colorbar": {
             "outlinewidth": 0,
             "ticks": ""
            },
            "colorscale": [
             [
              0,
              "#0d0887"
             ],
             [
              0.1111111111111111,
              "#46039f"
             ],
             [
              0.2222222222222222,
              "#7201a8"
             ],
             [
              0.3333333333333333,
              "#9c179e"
             ],
             [
              0.4444444444444444,
              "#bd3786"
             ],
             [
              0.5555555555555556,
              "#d8576b"
             ],
             [
              0.6666666666666666,
              "#ed7953"
             ],
             [
              0.7777777777777778,
              "#fb9f3a"
             ],
             [
              0.8888888888888888,
              "#fdca26"
             ],
             [
              1,
              "#f0f921"
             ]
            ],
            "type": "contour"
           }
          ],
          "contourcarpet": [
           {
            "colorbar": {
             "outlinewidth": 0,
             "ticks": ""
            },
            "type": "contourcarpet"
           }
          ],
          "heatmap": [
           {
            "colorbar": {
             "outlinewidth": 0,
             "ticks": ""
            },
            "colorscale": [
             [
              0,
              "#0d0887"
             ],
             [
              0.1111111111111111,
              "#46039f"
             ],
             [
              0.2222222222222222,
              "#7201a8"
             ],
             [
              0.3333333333333333,
              "#9c179e"
             ],
             [
              0.4444444444444444,
              "#bd3786"
             ],
             [
              0.5555555555555556,
              "#d8576b"
             ],
             [
              0.6666666666666666,
              "#ed7953"
             ],
             [
              0.7777777777777778,
              "#fb9f3a"
             ],
             [
              0.8888888888888888,
              "#fdca26"
             ],
             [
              1,
              "#f0f921"
             ]
            ],
            "type": "heatmap"
           }
          ],
          "heatmapgl": [
           {
            "colorbar": {
             "outlinewidth": 0,
             "ticks": ""
            },
            "colorscale": [
             [
              0,
              "#0d0887"
             ],
             [
              0.1111111111111111,
              "#46039f"
             ],
             [
              0.2222222222222222,
              "#7201a8"
             ],
             [
              0.3333333333333333,
              "#9c179e"
             ],
             [
              0.4444444444444444,
              "#bd3786"
             ],
             [
              0.5555555555555556,
              "#d8576b"
             ],
             [
              0.6666666666666666,
              "#ed7953"
             ],
             [
              0.7777777777777778,
              "#fb9f3a"
             ],
             [
              0.8888888888888888,
              "#fdca26"
             ],
             [
              1,
              "#f0f921"
             ]
            ],
            "type": "heatmapgl"
           }
          ],
          "histogram": [
           {
            "marker": {
             "pattern": {
              "fillmode": "overlay",
              "size": 10,
              "solidity": 0.2
             }
            },
            "type": "histogram"
           }
          ],
          "histogram2d": [
           {
            "colorbar": {
             "outlinewidth": 0,
             "ticks": ""
            },
            "colorscale": [
             [
              0,
              "#0d0887"
             ],
             [
              0.1111111111111111,
              "#46039f"
             ],
             [
              0.2222222222222222,
              "#7201a8"
             ],
             [
              0.3333333333333333,
              "#9c179e"
             ],
             [
              0.4444444444444444,
              "#bd3786"
             ],
             [
              0.5555555555555556,
              "#d8576b"
             ],
             [
              0.6666666666666666,
              "#ed7953"
             ],
             [
              0.7777777777777778,
              "#fb9f3a"
             ],
             [
              0.8888888888888888,
              "#fdca26"
             ],
             [
              1,
              "#f0f921"
             ]
            ],
            "type": "histogram2d"
           }
          ],
          "histogram2dcontour": [
           {
            "colorbar": {
             "outlinewidth": 0,
             "ticks": ""
            },
            "colorscale": [
             [
              0,
              "#0d0887"
             ],
             [
              0.1111111111111111,
              "#46039f"
             ],
             [
              0.2222222222222222,
              "#7201a8"
             ],
             [
              0.3333333333333333,
              "#9c179e"
             ],
             [
              0.4444444444444444,
              "#bd3786"
             ],
             [
              0.5555555555555556,
              "#d8576b"
             ],
             [
              0.6666666666666666,
              "#ed7953"
             ],
             [
              0.7777777777777778,
              "#fb9f3a"
             ],
             [
              0.8888888888888888,
              "#fdca26"
             ],
             [
              1,
              "#f0f921"
             ]
            ],
            "type": "histogram2dcontour"
           }
          ],
          "mesh3d": [
           {
            "colorbar": {
             "outlinewidth": 0,
             "ticks": ""
            },
            "type": "mesh3d"
           }
          ],
          "parcoords": [
           {
            "line": {
             "colorbar": {
              "outlinewidth": 0,
              "ticks": ""
             }
            },
            "type": "parcoords"
           }
          ],
          "pie": [
           {
            "automargin": true,
            "type": "pie"
           }
          ],
          "scatter": [
           {
            "fillpattern": {
             "fillmode": "overlay",
             "size": 10,
             "solidity": 0.2
            },
            "type": "scatter"
           }
          ],
          "scatter3d": [
           {
            "line": {
             "colorbar": {
              "outlinewidth": 0,
              "ticks": ""
             }
            },
            "marker": {
             "colorbar": {
              "outlinewidth": 0,
              "ticks": ""
             }
            },
            "type": "scatter3d"
           }
          ],
          "scattercarpet": [
           {
            "marker": {
             "colorbar": {
              "outlinewidth": 0,
              "ticks": ""
             }
            },
            "type": "scattercarpet"
           }
          ],
          "scattergeo": [
           {
            "marker": {
             "colorbar": {
              "outlinewidth": 0,
              "ticks": ""
             }
            },
            "type": "scattergeo"
           }
          ],
          "scattergl": [
           {
            "marker": {
             "colorbar": {
              "outlinewidth": 0,
              "ticks": ""
             }
            },
            "type": "scattergl"
           }
          ],
          "scattermapbox": [
           {
            "marker": {
             "colorbar": {
              "outlinewidth": 0,
              "ticks": ""
             }
            },
            "type": "scattermapbox"
           }
          ],
          "scatterpolar": [
           {
            "marker": {
             "colorbar": {
              "outlinewidth": 0,
              "ticks": ""
             }
            },
            "type": "scatterpolar"
           }
          ],
          "scatterpolargl": [
           {
            "marker": {
             "colorbar": {
              "outlinewidth": 0,
              "ticks": ""
             }
            },
            "type": "scatterpolargl"
           }
          ],
          "scatterternary": [
           {
            "marker": {
             "colorbar": {
              "outlinewidth": 0,
              "ticks": ""
             }
            },
            "type": "scatterternary"
           }
          ],
          "surface": [
           {
            "colorbar": {
             "outlinewidth": 0,
             "ticks": ""
            },
            "colorscale": [
             [
              0,
              "#0d0887"
             ],
             [
              0.1111111111111111,
              "#46039f"
             ],
             [
              0.2222222222222222,
              "#7201a8"
             ],
             [
              0.3333333333333333,
              "#9c179e"
             ],
             [
              0.4444444444444444,
              "#bd3786"
             ],
             [
              0.5555555555555556,
              "#d8576b"
             ],
             [
              0.6666666666666666,
              "#ed7953"
             ],
             [
              0.7777777777777778,
              "#fb9f3a"
             ],
             [
              0.8888888888888888,
              "#fdca26"
             ],
             [
              1,
              "#f0f921"
             ]
            ],
            "type": "surface"
           }
          ],
          "table": [
           {
            "cells": {
             "fill": {
              "color": "#EBF0F8"
             },
             "line": {
              "color": "white"
             }
            },
            "header": {
             "fill": {
              "color": "#C8D4E3"
             },
             "line": {
              "color": "white"
             }
            },
            "type": "table"
           }
          ]
         },
         "layout": {
          "annotationdefaults": {
           "arrowcolor": "#2a3f5f",
           "arrowhead": 0,
           "arrowwidth": 1
          },
          "autotypenumbers": "strict",
          "coloraxis": {
           "colorbar": {
            "outlinewidth": 0,
            "ticks": ""
           }
          },
          "colorscale": {
           "diverging": [
            [
             0,
             "#8e0152"
            ],
            [
             0.1,
             "#c51b7d"
            ],
            [
             0.2,
             "#de77ae"
            ],
            [
             0.3,
             "#f1b6da"
            ],
            [
             0.4,
             "#fde0ef"
            ],
            [
             0.5,
             "#f7f7f7"
            ],
            [
             0.6,
             "#e6f5d0"
            ],
            [
             0.7,
             "#b8e186"
            ],
            [
             0.8,
             "#7fbc41"
            ],
            [
             0.9,
             "#4d9221"
            ],
            [
             1,
             "#276419"
            ]
           ],
           "sequential": [
            [
             0,
             "#0d0887"
            ],
            [
             0.1111111111111111,
             "#46039f"
            ],
            [
             0.2222222222222222,
             "#7201a8"
            ],
            [
             0.3333333333333333,
             "#9c179e"
            ],
            [
             0.4444444444444444,
             "#bd3786"
            ],
            [
             0.5555555555555556,
             "#d8576b"
            ],
            [
             0.6666666666666666,
             "#ed7953"
            ],
            [
             0.7777777777777778,
             "#fb9f3a"
            ],
            [
             0.8888888888888888,
             "#fdca26"
            ],
            [
             1,
             "#f0f921"
            ]
           ],
           "sequentialminus": [
            [
             0,
             "#0d0887"
            ],
            [
             0.1111111111111111,
             "#46039f"
            ],
            [
             0.2222222222222222,
             "#7201a8"
            ],
            [
             0.3333333333333333,
             "#9c179e"
            ],
            [
             0.4444444444444444,
             "#bd3786"
            ],
            [
             0.5555555555555556,
             "#d8576b"
            ],
            [
             0.6666666666666666,
             "#ed7953"
            ],
            [
             0.7777777777777778,
             "#fb9f3a"
            ],
            [
             0.8888888888888888,
             "#fdca26"
            ],
            [
             1,
             "#f0f921"
            ]
           ]
          },
          "colorway": [
           "#636efa",
           "#EF553B",
           "#00cc96",
           "#ab63fa",
           "#FFA15A",
           "#19d3f3",
           "#FF6692",
           "#B6E880",
           "#FF97FF",
           "#FECB52"
          ],
          "font": {
           "color": "#2a3f5f"
          },
          "geo": {
           "bgcolor": "white",
           "lakecolor": "white",
           "landcolor": "#E5ECF6",
           "showlakes": true,
           "showland": true,
           "subunitcolor": "white"
          },
          "hoverlabel": {
           "align": "left"
          },
          "hovermode": "closest",
          "mapbox": {
           "style": "light"
          },
          "paper_bgcolor": "white",
          "plot_bgcolor": "#E5ECF6",
          "polar": {
           "angularaxis": {
            "gridcolor": "white",
            "linecolor": "white",
            "ticks": ""
           },
           "bgcolor": "#E5ECF6",
           "radialaxis": {
            "gridcolor": "white",
            "linecolor": "white",
            "ticks": ""
           }
          },
          "scene": {
           "xaxis": {
            "backgroundcolor": "#E5ECF6",
            "gridcolor": "white",
            "gridwidth": 2,
            "linecolor": "white",
            "showbackground": true,
            "ticks": "",
            "zerolinecolor": "white"
           },
           "yaxis": {
            "backgroundcolor": "#E5ECF6",
            "gridcolor": "white",
            "gridwidth": 2,
            "linecolor": "white",
            "showbackground": true,
            "ticks": "",
            "zerolinecolor": "white"
           },
           "zaxis": {
            "backgroundcolor": "#E5ECF6",
            "gridcolor": "white",
            "gridwidth": 2,
            "linecolor": "white",
            "showbackground": true,
            "ticks": "",
            "zerolinecolor": "white"
           }
          },
          "shapedefaults": {
           "line": {
            "color": "#2a3f5f"
           }
          },
          "ternary": {
           "aaxis": {
            "gridcolor": "white",
            "linecolor": "white",
            "ticks": ""
           },
           "baxis": {
            "gridcolor": "white",
            "linecolor": "white",
            "ticks": ""
           },
           "bgcolor": "#E5ECF6",
           "caxis": {
            "gridcolor": "white",
            "linecolor": "white",
            "ticks": ""
           }
          },
          "title": {
           "x": 0.05
          },
          "xaxis": {
           "automargin": true,
           "gridcolor": "white",
           "linecolor": "white",
           "ticks": "",
           "title": {
            "standoff": 15
           },
           "zerolinecolor": "white",
           "zerolinewidth": 2
          },
          "yaxis": {
           "automargin": true,
           "gridcolor": "white",
           "linecolor": "white",
           "ticks": "",
           "title": {
            "standoff": 15
           },
           "zerolinecolor": "white",
           "zerolinewidth": 2
          }
         }
        },
        "title": {
         "text": "Distribution of Durations"
        },
        "xaxis": {
         "anchor": "y",
         "domain": [
          0,
          1
         ],
         "tickangle": -45,
         "title": {
          "text": "Duration Bins"
         }
        },
        "yaxis": {
         "anchor": "x",
         "domain": [
          0,
          1
         ],
         "title": {
          "text": "Count"
         }
        }
       }
      }
     },
     "metadata": {},
     "output_type": "display_data"
    },
    {
     "data": {
      "application/vnd.plotly.v1+json": {
       "config": {
        "plotlyServerURL": "https://plot.ly"
       },
       "data": [
        {
         "alignmentgroup": "True",
         "hovertemplate": "Duration Bins=%{x}<br>Count=%{y}<extra></extra>",
         "legendgroup": "",
         "marker": {
          "color": "#636efa",
          "pattern": {
           "shape": ""
          }
         },
         "name": "",
         "offsetgroup": "",
         "orientation": "v",
         "showlegend": false,
         "textposition": "auto",
         "type": "bar",
         "x": [
          "0-5 min",
          "5-10 min",
          "10-15 min",
          "15-20 min",
          "20-25 min",
          "25-30 min",
          "30-35 min",
          "35-40 min",
          "40-45 min",
          "45-50 min",
          "50-55 min",
          "55-60 min",
          "60-65 min",
          "65-70 min",
          "70-75 min",
          "75-80 min",
          "80-85 min",
          "85-90 min",
          "90-95 min",
          "95-100 min",
          "100-105 min",
          "105-110 min",
          "110-115 min",
          ">120 min"
         ],
         "xaxis": "x",
         "y": [
          103,
          32,
          22,
          19,
          26,
          12,
          16,
          18,
          15,
          14,
          7,
          10,
          12,
          6,
          5,
          11,
          5,
          3,
          4,
          1,
          4,
          3,
          2,
          96
         ],
         "yaxis": "y"
        }
       ],
       "layout": {
        "barmode": "relative",
        "legend": {
         "tracegroupgap": 0
        },
        "template": {
         "data": {
          "bar": [
           {
            "error_x": {
             "color": "#2a3f5f"
            },
            "error_y": {
             "color": "#2a3f5f"
            },
            "marker": {
             "line": {
              "color": "#E5ECF6",
              "width": 0.5
             },
             "pattern": {
              "fillmode": "overlay",
              "size": 10,
              "solidity": 0.2
             }
            },
            "type": "bar"
           }
          ],
          "barpolar": [
           {
            "marker": {
             "line": {
              "color": "#E5ECF6",
              "width": 0.5
             },
             "pattern": {
              "fillmode": "overlay",
              "size": 10,
              "solidity": 0.2
             }
            },
            "type": "barpolar"
           }
          ],
          "carpet": [
           {
            "aaxis": {
             "endlinecolor": "#2a3f5f",
             "gridcolor": "white",
             "linecolor": "white",
             "minorgridcolor": "white",
             "startlinecolor": "#2a3f5f"
            },
            "baxis": {
             "endlinecolor": "#2a3f5f",
             "gridcolor": "white",
             "linecolor": "white",
             "minorgridcolor": "white",
             "startlinecolor": "#2a3f5f"
            },
            "type": "carpet"
           }
          ],
          "choropleth": [
           {
            "colorbar": {
             "outlinewidth": 0,
             "ticks": ""
            },
            "type": "choropleth"
           }
          ],
          "contour": [
           {
            "colorbar": {
             "outlinewidth": 0,
             "ticks": ""
            },
            "colorscale": [
             [
              0,
              "#0d0887"
             ],
             [
              0.1111111111111111,
              "#46039f"
             ],
             [
              0.2222222222222222,
              "#7201a8"
             ],
             [
              0.3333333333333333,
              "#9c179e"
             ],
             [
              0.4444444444444444,
              "#bd3786"
             ],
             [
              0.5555555555555556,
              "#d8576b"
             ],
             [
              0.6666666666666666,
              "#ed7953"
             ],
             [
              0.7777777777777778,
              "#fb9f3a"
             ],
             [
              0.8888888888888888,
              "#fdca26"
             ],
             [
              1,
              "#f0f921"
             ]
            ],
            "type": "contour"
           }
          ],
          "contourcarpet": [
           {
            "colorbar": {
             "outlinewidth": 0,
             "ticks": ""
            },
            "type": "contourcarpet"
           }
          ],
          "heatmap": [
           {
            "colorbar": {
             "outlinewidth": 0,
             "ticks": ""
            },
            "colorscale": [
             [
              0,
              "#0d0887"
             ],
             [
              0.1111111111111111,
              "#46039f"
             ],
             [
              0.2222222222222222,
              "#7201a8"
             ],
             [
              0.3333333333333333,
              "#9c179e"
             ],
             [
              0.4444444444444444,
              "#bd3786"
             ],
             [
              0.5555555555555556,
              "#d8576b"
             ],
             [
              0.6666666666666666,
              "#ed7953"
             ],
             [
              0.7777777777777778,
              "#fb9f3a"
             ],
             [
              0.8888888888888888,
              "#fdca26"
             ],
             [
              1,
              "#f0f921"
             ]
            ],
            "type": "heatmap"
           }
          ],
          "heatmapgl": [
           {
            "colorbar": {
             "outlinewidth": 0,
             "ticks": ""
            },
            "colorscale": [
             [
              0,
              "#0d0887"
             ],
             [
              0.1111111111111111,
              "#46039f"
             ],
             [
              0.2222222222222222,
              "#7201a8"
             ],
             [
              0.3333333333333333,
              "#9c179e"
             ],
             [
              0.4444444444444444,
              "#bd3786"
             ],
             [
              0.5555555555555556,
              "#d8576b"
             ],
             [
              0.6666666666666666,
              "#ed7953"
             ],
             [
              0.7777777777777778,
              "#fb9f3a"
             ],
             [
              0.8888888888888888,
              "#fdca26"
             ],
             [
              1,
              "#f0f921"
             ]
            ],
            "type": "heatmapgl"
           }
          ],
          "histogram": [
           {
            "marker": {
             "pattern": {
              "fillmode": "overlay",
              "size": 10,
              "solidity": 0.2
             }
            },
            "type": "histogram"
           }
          ],
          "histogram2d": [
           {
            "colorbar": {
             "outlinewidth": 0,
             "ticks": ""
            },
            "colorscale": [
             [
              0,
              "#0d0887"
             ],
             [
              0.1111111111111111,
              "#46039f"
             ],
             [
              0.2222222222222222,
              "#7201a8"
             ],
             [
              0.3333333333333333,
              "#9c179e"
             ],
             [
              0.4444444444444444,
              "#bd3786"
             ],
             [
              0.5555555555555556,
              "#d8576b"
             ],
             [
              0.6666666666666666,
              "#ed7953"
             ],
             [
              0.7777777777777778,
              "#fb9f3a"
             ],
             [
              0.8888888888888888,
              "#fdca26"
             ],
             [
              1,
              "#f0f921"
             ]
            ],
            "type": "histogram2d"
           }
          ],
          "histogram2dcontour": [
           {
            "colorbar": {
             "outlinewidth": 0,
             "ticks": ""
            },
            "colorscale": [
             [
              0,
              "#0d0887"
             ],
             [
              0.1111111111111111,
              "#46039f"
             ],
             [
              0.2222222222222222,
              "#7201a8"
             ],
             [
              0.3333333333333333,
              "#9c179e"
             ],
             [
              0.4444444444444444,
              "#bd3786"
             ],
             [
              0.5555555555555556,
              "#d8576b"
             ],
             [
              0.6666666666666666,
              "#ed7953"
             ],
             [
              0.7777777777777778,
              "#fb9f3a"
             ],
             [
              0.8888888888888888,
              "#fdca26"
             ],
             [
              1,
              "#f0f921"
             ]
            ],
            "type": "histogram2dcontour"
           }
          ],
          "mesh3d": [
           {
            "colorbar": {
             "outlinewidth": 0,
             "ticks": ""
            },
            "type": "mesh3d"
           }
          ],
          "parcoords": [
           {
            "line": {
             "colorbar": {
              "outlinewidth": 0,
              "ticks": ""
             }
            },
            "type": "parcoords"
           }
          ],
          "pie": [
           {
            "automargin": true,
            "type": "pie"
           }
          ],
          "scatter": [
           {
            "fillpattern": {
             "fillmode": "overlay",
             "size": 10,
             "solidity": 0.2
            },
            "type": "scatter"
           }
          ],
          "scatter3d": [
           {
            "line": {
             "colorbar": {
              "outlinewidth": 0,
              "ticks": ""
             }
            },
            "marker": {
             "colorbar": {
              "outlinewidth": 0,
              "ticks": ""
             }
            },
            "type": "scatter3d"
           }
          ],
          "scattercarpet": [
           {
            "marker": {
             "colorbar": {
              "outlinewidth": 0,
              "ticks": ""
             }
            },
            "type": "scattercarpet"
           }
          ],
          "scattergeo": [
           {
            "marker": {
             "colorbar": {
              "outlinewidth": 0,
              "ticks": ""
             }
            },
            "type": "scattergeo"
           }
          ],
          "scattergl": [
           {
            "marker": {
             "colorbar": {
              "outlinewidth": 0,
              "ticks": ""
             }
            },
            "type": "scattergl"
           }
          ],
          "scattermapbox": [
           {
            "marker": {
             "colorbar": {
              "outlinewidth": 0,
              "ticks": ""
             }
            },
            "type": "scattermapbox"
           }
          ],
          "scatterpolar": [
           {
            "marker": {
             "colorbar": {
              "outlinewidth": 0,
              "ticks": ""
             }
            },
            "type": "scatterpolar"
           }
          ],
          "scatterpolargl": [
           {
            "marker": {
             "colorbar": {
              "outlinewidth": 0,
              "ticks": ""
             }
            },
            "type": "scatterpolargl"
           }
          ],
          "scatterternary": [
           {
            "marker": {
             "colorbar": {
              "outlinewidth": 0,
              "ticks": ""
             }
            },
            "type": "scatterternary"
           }
          ],
          "surface": [
           {
            "colorbar": {
             "outlinewidth": 0,
             "ticks": ""
            },
            "colorscale": [
             [
              0,
              "#0d0887"
             ],
             [
              0.1111111111111111,
              "#46039f"
             ],
             [
              0.2222222222222222,
              "#7201a8"
             ],
             [
              0.3333333333333333,
              "#9c179e"
             ],
             [
              0.4444444444444444,
              "#bd3786"
             ],
             [
              0.5555555555555556,
              "#d8576b"
             ],
             [
              0.6666666666666666,
              "#ed7953"
             ],
             [
              0.7777777777777778,
              "#fb9f3a"
             ],
             [
              0.8888888888888888,
              "#fdca26"
             ],
             [
              1,
              "#f0f921"
             ]
            ],
            "type": "surface"
           }
          ],
          "table": [
           {
            "cells": {
             "fill": {
              "color": "#EBF0F8"
             },
             "line": {
              "color": "white"
             }
            },
            "header": {
             "fill": {
              "color": "#C8D4E3"
             },
             "line": {
              "color": "white"
             }
            },
            "type": "table"
           }
          ]
         },
         "layout": {
          "annotationdefaults": {
           "arrowcolor": "#2a3f5f",
           "arrowhead": 0,
           "arrowwidth": 1
          },
          "autotypenumbers": "strict",
          "coloraxis": {
           "colorbar": {
            "outlinewidth": 0,
            "ticks": ""
           }
          },
          "colorscale": {
           "diverging": [
            [
             0,
             "#8e0152"
            ],
            [
             0.1,
             "#c51b7d"
            ],
            [
             0.2,
             "#de77ae"
            ],
            [
             0.3,
             "#f1b6da"
            ],
            [
             0.4,
             "#fde0ef"
            ],
            [
             0.5,
             "#f7f7f7"
            ],
            [
             0.6,
             "#e6f5d0"
            ],
            [
             0.7,
             "#b8e186"
            ],
            [
             0.8,
             "#7fbc41"
            ],
            [
             0.9,
             "#4d9221"
            ],
            [
             1,
             "#276419"
            ]
           ],
           "sequential": [
            [
             0,
             "#0d0887"
            ],
            [
             0.1111111111111111,
             "#46039f"
            ],
            [
             0.2222222222222222,
             "#7201a8"
            ],
            [
             0.3333333333333333,
             "#9c179e"
            ],
            [
             0.4444444444444444,
             "#bd3786"
            ],
            [
             0.5555555555555556,
             "#d8576b"
            ],
            [
             0.6666666666666666,
             "#ed7953"
            ],
            [
             0.7777777777777778,
             "#fb9f3a"
            ],
            [
             0.8888888888888888,
             "#fdca26"
            ],
            [
             1,
             "#f0f921"
            ]
           ],
           "sequentialminus": [
            [
             0,
             "#0d0887"
            ],
            [
             0.1111111111111111,
             "#46039f"
            ],
            [
             0.2222222222222222,
             "#7201a8"
            ],
            [
             0.3333333333333333,
             "#9c179e"
            ],
            [
             0.4444444444444444,
             "#bd3786"
            ],
            [
             0.5555555555555556,
             "#d8576b"
            ],
            [
             0.6666666666666666,
             "#ed7953"
            ],
            [
             0.7777777777777778,
             "#fb9f3a"
            ],
            [
             0.8888888888888888,
             "#fdca26"
            ],
            [
             1,
             "#f0f921"
            ]
           ]
          },
          "colorway": [
           "#636efa",
           "#EF553B",
           "#00cc96",
           "#ab63fa",
           "#FFA15A",
           "#19d3f3",
           "#FF6692",
           "#B6E880",
           "#FF97FF",
           "#FECB52"
          ],
          "font": {
           "color": "#2a3f5f"
          },
          "geo": {
           "bgcolor": "white",
           "lakecolor": "white",
           "landcolor": "#E5ECF6",
           "showlakes": true,
           "showland": true,
           "subunitcolor": "white"
          },
          "hoverlabel": {
           "align": "left"
          },
          "hovermode": "closest",
          "mapbox": {
           "style": "light"
          },
          "paper_bgcolor": "white",
          "plot_bgcolor": "#E5ECF6",
          "polar": {
           "angularaxis": {
            "gridcolor": "white",
            "linecolor": "white",
            "ticks": ""
           },
           "bgcolor": "#E5ECF6",
           "radialaxis": {
            "gridcolor": "white",
            "linecolor": "white",
            "ticks": ""
           }
          },
          "scene": {
           "xaxis": {
            "backgroundcolor": "#E5ECF6",
            "gridcolor": "white",
            "gridwidth": 2,
            "linecolor": "white",
            "showbackground": true,
            "ticks": "",
            "zerolinecolor": "white"
           },
           "yaxis": {
            "backgroundcolor": "#E5ECF6",
            "gridcolor": "white",
            "gridwidth": 2,
            "linecolor": "white",
            "showbackground": true,
            "ticks": "",
            "zerolinecolor": "white"
           },
           "zaxis": {
            "backgroundcolor": "#E5ECF6",
            "gridcolor": "white",
            "gridwidth": 2,
            "linecolor": "white",
            "showbackground": true,
            "ticks": "",
            "zerolinecolor": "white"
           }
          },
          "shapedefaults": {
           "line": {
            "color": "#2a3f5f"
           }
          },
          "ternary": {
           "aaxis": {
            "gridcolor": "white",
            "linecolor": "white",
            "ticks": ""
           },
           "baxis": {
            "gridcolor": "white",
            "linecolor": "white",
            "ticks": ""
           },
           "bgcolor": "#E5ECF6",
           "caxis": {
            "gridcolor": "white",
            "linecolor": "white",
            "ticks": ""
           }
          },
          "title": {
           "x": 0.05
          },
          "xaxis": {
           "automargin": true,
           "gridcolor": "white",
           "linecolor": "white",
           "ticks": "",
           "title": {
            "standoff": 15
           },
           "zerolinecolor": "white",
           "zerolinewidth": 2
          },
          "yaxis": {
           "automargin": true,
           "gridcolor": "white",
           "linecolor": "white",
           "ticks": "",
           "title": {
            "standoff": 15
           },
           "zerolinecolor": "white",
           "zerolinewidth": 2
          }
         }
        },
        "title": {
         "text": "Distribution of Durations"
        },
        "xaxis": {
         "anchor": "y",
         "domain": [
          0,
          1
         ],
         "tickangle": -45,
         "title": {
          "text": "Duration Bins"
         }
        },
        "yaxis": {
         "anchor": "x",
         "domain": [
          0,
          1
         ],
         "title": {
          "text": "Count"
         }
        }
       }
      }
     },
     "metadata": {},
     "output_type": "display_data"
    },
    {
     "data": {
      "application/vnd.plotly.v1+json": {
       "config": {
        "plotlyServerURL": "https://plot.ly"
       },
       "data": [
        {
         "alignmentgroup": "True",
         "hovertemplate": "Duration Bins=%{x}<br>Count=%{y}<extra></extra>",
         "legendgroup": "",
         "marker": {
          "color": "#636efa",
          "pattern": {
           "shape": ""
          }
         },
         "name": "",
         "offsetgroup": "",
         "orientation": "v",
         "showlegend": false,
         "textposition": "auto",
         "type": "bar",
         "x": [
          "0-5 min",
          "5-10 min",
          "10-15 min",
          "15-20 min",
          "20-25 min",
          "25-30 min",
          "30-35 min",
          "35-40 min",
          "40-45 min",
          "45-50 min",
          "50-55 min",
          "55-60 min",
          "60-65 min",
          "65-70 min",
          "70-75 min",
          "75-80 min",
          "80-85 min",
          "85-90 min",
          "90-95 min",
          "95-100 min",
          "100-105 min",
          "105-110 min",
          "110-115 min",
          ">120 min"
         ],
         "xaxis": "x",
         "y": [
          0,
          0,
          0,
          0,
          0,
          0,
          0,
          0,
          0,
          0,
          0,
          0,
          0,
          0,
          0,
          0,
          0,
          0,
          0,
          0,
          0,
          0,
          0,
          0
         ],
         "yaxis": "y"
        }
       ],
       "layout": {
        "barmode": "relative",
        "legend": {
         "tracegroupgap": 0
        },
        "template": {
         "data": {
          "bar": [
           {
            "error_x": {
             "color": "#2a3f5f"
            },
            "error_y": {
             "color": "#2a3f5f"
            },
            "marker": {
             "line": {
              "color": "#E5ECF6",
              "width": 0.5
             },
             "pattern": {
              "fillmode": "overlay",
              "size": 10,
              "solidity": 0.2
             }
            },
            "type": "bar"
           }
          ],
          "barpolar": [
           {
            "marker": {
             "line": {
              "color": "#E5ECF6",
              "width": 0.5
             },
             "pattern": {
              "fillmode": "overlay",
              "size": 10,
              "solidity": 0.2
             }
            },
            "type": "barpolar"
           }
          ],
          "carpet": [
           {
            "aaxis": {
             "endlinecolor": "#2a3f5f",
             "gridcolor": "white",
             "linecolor": "white",
             "minorgridcolor": "white",
             "startlinecolor": "#2a3f5f"
            },
            "baxis": {
             "endlinecolor": "#2a3f5f",
             "gridcolor": "white",
             "linecolor": "white",
             "minorgridcolor": "white",
             "startlinecolor": "#2a3f5f"
            },
            "type": "carpet"
           }
          ],
          "choropleth": [
           {
            "colorbar": {
             "outlinewidth": 0,
             "ticks": ""
            },
            "type": "choropleth"
           }
          ],
          "contour": [
           {
            "colorbar": {
             "outlinewidth": 0,
             "ticks": ""
            },
            "colorscale": [
             [
              0,
              "#0d0887"
             ],
             [
              0.1111111111111111,
              "#46039f"
             ],
             [
              0.2222222222222222,
              "#7201a8"
             ],
             [
              0.3333333333333333,
              "#9c179e"
             ],
             [
              0.4444444444444444,
              "#bd3786"
             ],
             [
              0.5555555555555556,
              "#d8576b"
             ],
             [
              0.6666666666666666,
              "#ed7953"
             ],
             [
              0.7777777777777778,
              "#fb9f3a"
             ],
             [
              0.8888888888888888,
              "#fdca26"
             ],
             [
              1,
              "#f0f921"
             ]
            ],
            "type": "contour"
           }
          ],
          "contourcarpet": [
           {
            "colorbar": {
             "outlinewidth": 0,
             "ticks": ""
            },
            "type": "contourcarpet"
           }
          ],
          "heatmap": [
           {
            "colorbar": {
             "outlinewidth": 0,
             "ticks": ""
            },
            "colorscale": [
             [
              0,
              "#0d0887"
             ],
             [
              0.1111111111111111,
              "#46039f"
             ],
             [
              0.2222222222222222,
              "#7201a8"
             ],
             [
              0.3333333333333333,
              "#9c179e"
             ],
             [
              0.4444444444444444,
              "#bd3786"
             ],
             [
              0.5555555555555556,
              "#d8576b"
             ],
             [
              0.6666666666666666,
              "#ed7953"
             ],
             [
              0.7777777777777778,
              "#fb9f3a"
             ],
             [
              0.8888888888888888,
              "#fdca26"
             ],
             [
              1,
              "#f0f921"
             ]
            ],
            "type": "heatmap"
           }
          ],
          "heatmapgl": [
           {
            "colorbar": {
             "outlinewidth": 0,
             "ticks": ""
            },
            "colorscale": [
             [
              0,
              "#0d0887"
             ],
             [
              0.1111111111111111,
              "#46039f"
             ],
             [
              0.2222222222222222,
              "#7201a8"
             ],
             [
              0.3333333333333333,
              "#9c179e"
             ],
             [
              0.4444444444444444,
              "#bd3786"
             ],
             [
              0.5555555555555556,
              "#d8576b"
             ],
             [
              0.6666666666666666,
              "#ed7953"
             ],
             [
              0.7777777777777778,
              "#fb9f3a"
             ],
             [
              0.8888888888888888,
              "#fdca26"
             ],
             [
              1,
              "#f0f921"
             ]
            ],
            "type": "heatmapgl"
           }
          ],
          "histogram": [
           {
            "marker": {
             "pattern": {
              "fillmode": "overlay",
              "size": 10,
              "solidity": 0.2
             }
            },
            "type": "histogram"
           }
          ],
          "histogram2d": [
           {
            "colorbar": {
             "outlinewidth": 0,
             "ticks": ""
            },
            "colorscale": [
             [
              0,
              "#0d0887"
             ],
             [
              0.1111111111111111,
              "#46039f"
             ],
             [
              0.2222222222222222,
              "#7201a8"
             ],
             [
              0.3333333333333333,
              "#9c179e"
             ],
             [
              0.4444444444444444,
              "#bd3786"
             ],
             [
              0.5555555555555556,
              "#d8576b"
             ],
             [
              0.6666666666666666,
              "#ed7953"
             ],
             [
              0.7777777777777778,
              "#fb9f3a"
             ],
             [
              0.8888888888888888,
              "#fdca26"
             ],
             [
              1,
              "#f0f921"
             ]
            ],
            "type": "histogram2d"
           }
          ],
          "histogram2dcontour": [
           {
            "colorbar": {
             "outlinewidth": 0,
             "ticks": ""
            },
            "colorscale": [
             [
              0,
              "#0d0887"
             ],
             [
              0.1111111111111111,
              "#46039f"
             ],
             [
              0.2222222222222222,
              "#7201a8"
             ],
             [
              0.3333333333333333,
              "#9c179e"
             ],
             [
              0.4444444444444444,
              "#bd3786"
             ],
             [
              0.5555555555555556,
              "#d8576b"
             ],
             [
              0.6666666666666666,
              "#ed7953"
             ],
             [
              0.7777777777777778,
              "#fb9f3a"
             ],
             [
              0.8888888888888888,
              "#fdca26"
             ],
             [
              1,
              "#f0f921"
             ]
            ],
            "type": "histogram2dcontour"
           }
          ],
          "mesh3d": [
           {
            "colorbar": {
             "outlinewidth": 0,
             "ticks": ""
            },
            "type": "mesh3d"
           }
          ],
          "parcoords": [
           {
            "line": {
             "colorbar": {
              "outlinewidth": 0,
              "ticks": ""
             }
            },
            "type": "parcoords"
           }
          ],
          "pie": [
           {
            "automargin": true,
            "type": "pie"
           }
          ],
          "scatter": [
           {
            "fillpattern": {
             "fillmode": "overlay",
             "size": 10,
             "solidity": 0.2
            },
            "type": "scatter"
           }
          ],
          "scatter3d": [
           {
            "line": {
             "colorbar": {
              "outlinewidth": 0,
              "ticks": ""
             }
            },
            "marker": {
             "colorbar": {
              "outlinewidth": 0,
              "ticks": ""
             }
            },
            "type": "scatter3d"
           }
          ],
          "scattercarpet": [
           {
            "marker": {
             "colorbar": {
              "outlinewidth": 0,
              "ticks": ""
             }
            },
            "type": "scattercarpet"
           }
          ],
          "scattergeo": [
           {
            "marker": {
             "colorbar": {
              "outlinewidth": 0,
              "ticks": ""
             }
            },
            "type": "scattergeo"
           }
          ],
          "scattergl": [
           {
            "marker": {
             "colorbar": {
              "outlinewidth": 0,
              "ticks": ""
             }
            },
            "type": "scattergl"
           }
          ],
          "scattermapbox": [
           {
            "marker": {
             "colorbar": {
              "outlinewidth": 0,
              "ticks": ""
             }
            },
            "type": "scattermapbox"
           }
          ],
          "scatterpolar": [
           {
            "marker": {
             "colorbar": {
              "outlinewidth": 0,
              "ticks": ""
             }
            },
            "type": "scatterpolar"
           }
          ],
          "scatterpolargl": [
           {
            "marker": {
             "colorbar": {
              "outlinewidth": 0,
              "ticks": ""
             }
            },
            "type": "scatterpolargl"
           }
          ],
          "scatterternary": [
           {
            "marker": {
             "colorbar": {
              "outlinewidth": 0,
              "ticks": ""
             }
            },
            "type": "scatterternary"
           }
          ],
          "surface": [
           {
            "colorbar": {
             "outlinewidth": 0,
             "ticks": ""
            },
            "colorscale": [
             [
              0,
              "#0d0887"
             ],
             [
              0.1111111111111111,
              "#46039f"
             ],
             [
              0.2222222222222222,
              "#7201a8"
             ],
             [
              0.3333333333333333,
              "#9c179e"
             ],
             [
              0.4444444444444444,
              "#bd3786"
             ],
             [
              0.5555555555555556,
              "#d8576b"
             ],
             [
              0.6666666666666666,
              "#ed7953"
             ],
             [
              0.7777777777777778,
              "#fb9f3a"
             ],
             [
              0.8888888888888888,
              "#fdca26"
             ],
             [
              1,
              "#f0f921"
             ]
            ],
            "type": "surface"
           }
          ],
          "table": [
           {
            "cells": {
             "fill": {
              "color": "#EBF0F8"
             },
             "line": {
              "color": "white"
             }
            },
            "header": {
             "fill": {
              "color": "#C8D4E3"
             },
             "line": {
              "color": "white"
             }
            },
            "type": "table"
           }
          ]
         },
         "layout": {
          "annotationdefaults": {
           "arrowcolor": "#2a3f5f",
           "arrowhead": 0,
           "arrowwidth": 1
          },
          "autotypenumbers": "strict",
          "coloraxis": {
           "colorbar": {
            "outlinewidth": 0,
            "ticks": ""
           }
          },
          "colorscale": {
           "diverging": [
            [
             0,
             "#8e0152"
            ],
            [
             0.1,
             "#c51b7d"
            ],
            [
             0.2,
             "#de77ae"
            ],
            [
             0.3,
             "#f1b6da"
            ],
            [
             0.4,
             "#fde0ef"
            ],
            [
             0.5,
             "#f7f7f7"
            ],
            [
             0.6,
             "#e6f5d0"
            ],
            [
             0.7,
             "#b8e186"
            ],
            [
             0.8,
             "#7fbc41"
            ],
            [
             0.9,
             "#4d9221"
            ],
            [
             1,
             "#276419"
            ]
           ],
           "sequential": [
            [
             0,
             "#0d0887"
            ],
            [
             0.1111111111111111,
             "#46039f"
            ],
            [
             0.2222222222222222,
             "#7201a8"
            ],
            [
             0.3333333333333333,
             "#9c179e"
            ],
            [
             0.4444444444444444,
             "#bd3786"
            ],
            [
             0.5555555555555556,
             "#d8576b"
            ],
            [
             0.6666666666666666,
             "#ed7953"
            ],
            [
             0.7777777777777778,
             "#fb9f3a"
            ],
            [
             0.8888888888888888,
             "#fdca26"
            ],
            [
             1,
             "#f0f921"
            ]
           ],
           "sequentialminus": [
            [
             0,
             "#0d0887"
            ],
            [
             0.1111111111111111,
             "#46039f"
            ],
            [
             0.2222222222222222,
             "#7201a8"
            ],
            [
             0.3333333333333333,
             "#9c179e"
            ],
            [
             0.4444444444444444,
             "#bd3786"
            ],
            [
             0.5555555555555556,
             "#d8576b"
            ],
            [
             0.6666666666666666,
             "#ed7953"
            ],
            [
             0.7777777777777778,
             "#fb9f3a"
            ],
            [
             0.8888888888888888,
             "#fdca26"
            ],
            [
             1,
             "#f0f921"
            ]
           ]
          },
          "colorway": [
           "#636efa",
           "#EF553B",
           "#00cc96",
           "#ab63fa",
           "#FFA15A",
           "#19d3f3",
           "#FF6692",
           "#B6E880",
           "#FF97FF",
           "#FECB52"
          ],
          "font": {
           "color": "#2a3f5f"
          },
          "geo": {
           "bgcolor": "white",
           "lakecolor": "white",
           "landcolor": "#E5ECF6",
           "showlakes": true,
           "showland": true,
           "subunitcolor": "white"
          },
          "hoverlabel": {
           "align": "left"
          },
          "hovermode": "closest",
          "mapbox": {
           "style": "light"
          },
          "paper_bgcolor": "white",
          "plot_bgcolor": "#E5ECF6",
          "polar": {
           "angularaxis": {
            "gridcolor": "white",
            "linecolor": "white",
            "ticks": ""
           },
           "bgcolor": "#E5ECF6",
           "radialaxis": {
            "gridcolor": "white",
            "linecolor": "white",
            "ticks": ""
           }
          },
          "scene": {
           "xaxis": {
            "backgroundcolor": "#E5ECF6",
            "gridcolor": "white",
            "gridwidth": 2,
            "linecolor": "white",
            "showbackground": true,
            "ticks": "",
            "zerolinecolor": "white"
           },
           "yaxis": {
            "backgroundcolor": "#E5ECF6",
            "gridcolor": "white",
            "gridwidth": 2,
            "linecolor": "white",
            "showbackground": true,
            "ticks": "",
            "zerolinecolor": "white"
           },
           "zaxis": {
            "backgroundcolor": "#E5ECF6",
            "gridcolor": "white",
            "gridwidth": 2,
            "linecolor": "white",
            "showbackground": true,
            "ticks": "",
            "zerolinecolor": "white"
           }
          },
          "shapedefaults": {
           "line": {
            "color": "#2a3f5f"
           }
          },
          "ternary": {
           "aaxis": {
            "gridcolor": "white",
            "linecolor": "white",
            "ticks": ""
           },
           "baxis": {
            "gridcolor": "white",
            "linecolor": "white",
            "ticks": ""
           },
           "bgcolor": "#E5ECF6",
           "caxis": {
            "gridcolor": "white",
            "linecolor": "white",
            "ticks": ""
           }
          },
          "title": {
           "x": 0.05
          },
          "xaxis": {
           "automargin": true,
           "gridcolor": "white",
           "linecolor": "white",
           "ticks": "",
           "title": {
            "standoff": 15
           },
           "zerolinecolor": "white",
           "zerolinewidth": 2
          },
          "yaxis": {
           "automargin": true,
           "gridcolor": "white",
           "linecolor": "white",
           "ticks": "",
           "title": {
            "standoff": 15
           },
           "zerolinecolor": "white",
           "zerolinewidth": 2
          }
         }
        },
        "title": {
         "text": "Distribution of Durations"
        },
        "xaxis": {
         "anchor": "y",
         "domain": [
          0,
          1
         ],
         "tickangle": -45,
         "title": {
          "text": "Duration Bins"
         }
        },
        "yaxis": {
         "anchor": "x",
         "domain": [
          0,
          1
         ],
         "title": {
          "text": "Count"
         }
        }
       }
      }
     },
     "metadata": {},
     "output_type": "display_data"
    }
   ],
   "source": [
    "for sub in range(len(subject_data)):\n",
    "    subject_i_data = subject_data[sub]\n",
    "\n",
    "    house_entrance_df = subject_i_data[9]\n",
    "    on_off_diff = []\n",
    "    max_time_difference = pd.Timedelta(0)  # Initialize to zero timedelta\n",
    "    count_on = 0\n",
    "    count_off = 0\n",
    "    for hed in range(1,len(house_entrance_df['filtered_df'])):\n",
    "        # print('----------------',hed,'---------------------------')\n",
    "        current_off_time = house_entrance_df['filtered_df'].iloc[hed-1]['ts_off']\n",
    "        next_on_time = house_entrance_df['filtered_df'].iloc[hed]['ts_on']\n",
    "        time_difference = next_on_time - current_off_time\n",
    "\n",
    "        activated_sensors = []\n",
    "        tempdf = []\n",
    "        for sens in range(len(subject_i_data)):\n",
    "            if sens == 9:\n",
    "                continue\n",
    "            sensor_name = subject_i_data[sens]['sensor']\n",
    "            sensor_data = subject_i_data[sens]['filtered_df']\n",
    "            \n",
    "            if current_off_time.date() == next_on_time.date():\n",
    "                # If date is same for both values of window\n",
    "                filtered_data = filter_data_for_date(current_data, current_off_time.date())\n",
    "            else:\n",
    "                # If date is different for both values of window\n",
    "                # In this case concat the data for both dates\n",
    "                filtered_data_current_date = filter_data_for_date(current_data, current_off_time.date())\n",
    "                filtered_data_next_date = filter_data_for_date(current_data, next_on_time.date())\n",
    "                filtered_data = pd.concat([filtered_data_current_date, filtered_data_next_date], ignore_index=True)\n",
    "\n",
    "            # activated_sensors.append({'sensor':sensor, 'filtered_data':filtered_data})\n",
    "            filtered = filter_sensors_by_window(filtered_data, current_off_time, next_on_time)\n",
    "            tempdf.append(filtered)\n",
    "            if not filtered.empty:     \n",
    "                activated_sensors.append({'sensor':sensor, 'relevent_row':filtered})\n",
    "            else:\n",
    "                pass\n",
    "\n",
    "        \n",
    "        if len(tempdf) == 0:\n",
    "            count_off = count_off + 1\n",
    "            on_off_diff.append([next_on_time, current_off_time, time_difference])\n",
    "            # print_statement = f\"{hed} No sensors were activated between {next_on_time}-{current_off_time} = {time_difference}------>\"\n",
    "        else: \n",
    "            count_on = count_on + 1\n",
    "    plot_duration_distribution(on_off_diff)\n"
   ]
  },
  {
   "cell_type": "code",
   "execution_count": 85,
   "metadata": {},
   "outputs": [
    {
     "data": {
      "text/plain": [
       "[{'sensor': 'CoffeMachine.csv',\n",
       "  'filtered_df':        sensor_id  subject_id sensor_status               ts_on  \\\n",
       "  0   CoffeMachine           8            on 2024-04-02 04:20:23   \n",
       "  1   CoffeMachine           8            on 2024-04-02 04:29:53   \n",
       "  2   CoffeMachine           8            on 2024-04-02 04:30:53   \n",
       "  3   CoffeMachine           8            on 2024-04-07 14:21:08   \n",
       "  4   CoffeMachine           8            on 2024-04-07 14:22:38   \n",
       "  5   CoffeMachine           8            on 2024-04-07 14:25:08   \n",
       "  6   CoffeMachine           8            on 2024-04-07 14:27:38   \n",
       "  7   CoffeMachine           8            on 2024-04-08 06:15:19   \n",
       "  8   CoffeMachine           8            on 2024-04-08 06:17:49   \n",
       "  9   CoffeMachine           8            on 2024-04-08 11:49:04   \n",
       "  10  CoffeMachine           8            on 2024-04-08 11:51:04   \n",
       "  11  CoffeMachine           8            on 2024-04-08 11:53:04   \n",
       "  12  CoffeMachine           8            on 2024-04-09 06:16:22   \n",
       "  13  CoffeMachine           8            on 2024-04-09 06:18:52   \n",
       "  14  CoffeMachine           8            on 2024-04-09 06:20:22   \n",
       "  15  CoffeMachine           8            on 2024-04-09 11:47:17   \n",
       "  16  CoffeMachine           8            on 2024-04-09 11:48:17   \n",
       "  17  CoffeMachine           8            on 2024-04-09 11:54:17   \n",
       "  18  CoffeMachine           8            on 2024-04-11 11:45:50   \n",
       "  19  CoffeMachine           8            on 2024-04-11 11:55:21   \n",
       "  20  CoffeMachine           8            on 2024-04-11 11:56:21   \n",
       "  21  CoffeMachine           8            on 2024-04-11 12:00:51   \n",
       "  22  CoffeMachine           8            on 2024-04-12 11:36:24   \n",
       "  23  CoffeMachine           8            on 2024-04-15 11:56:40   \n",
       "  24  CoffeMachine           8            on 2024-04-16 11:31:12   \n",
       "  25  CoffeMachine           8            on 2024-04-16 11:34:42   \n",
       "  26  CoffeMachine           8            on 2024-04-17 11:31:04   \n",
       "  27  CoffeMachine           8            on 2024-04-17 11:36:34   \n",
       "  28  CoffeMachine           8            on 2024-04-18 12:04:15   \n",
       "  29  CoffeMachine           8            on 2024-04-19 11:38:50   \n",
       "  30  CoffeMachine           8            on 2024-04-19 11:42:50   \n",
       "  31  CoffeMachine           8            on 2024-04-22 08:00:40   \n",
       "  32  CoffeMachine           8            on 2024-04-24 11:40:53   \n",
       "  33  CoffeMachine           8            on 2024-05-02 11:54:46   \n",
       "  34  CoffeMachine           8            on 2024-05-03 11:33:44   \n",
       "  35  CoffeMachine           8            on 2024-05-03 11:34:44   \n",
       "  36  CoffeMachine           8            on 2024-05-03 11:40:14   \n",
       "  37  CoffeMachine           8            on 2024-05-06 11:43:10   \n",
       "  38  CoffeMachine           8            on 2024-05-08 11:35:45   \n",
       "  \n",
       "                  ts_off  duration_ms  \n",
       "  0  2024-04-02 04:20:53        30000  \n",
       "  1  2024-04-02 04:30:23        30000  \n",
       "  2  2024-04-02 04:31:23        30000  \n",
       "  3  2024-04-07 14:21:38        30000  \n",
       "  4  2024-04-07 14:23:08        30000  \n",
       "  5  2024-04-07 14:25:38        30000  \n",
       "  6  2024-04-07 14:28:08        30000  \n",
       "  7  2024-04-08 06:15:49        30000  \n",
       "  8  2024-04-08 06:18:19        30000  \n",
       "  9  2024-04-08 11:49:34        30000  \n",
       "  10 2024-04-08 11:51:34        30000  \n",
       "  11 2024-04-08 11:53:34        30000  \n",
       "  12 2024-04-09 06:16:52        30000  \n",
       "  13 2024-04-09 06:19:22        30000  \n",
       "  14 2024-04-09 06:20:52        30000  \n",
       "  15 2024-04-09 11:47:47        30000  \n",
       "  16 2024-04-09 11:48:47        30000  \n",
       "  17 2024-04-09 11:54:48        31000  \n",
       "  18 2024-04-11 11:46:20        30000  \n",
       "  19 2024-04-11 11:55:51        30000  \n",
       "  20 2024-04-11 11:56:51        30000  \n",
       "  21 2024-04-11 12:01:21        30000  \n",
       "  22 2024-04-12 11:36:54        30000  \n",
       "  23 2024-04-15 11:57:10        30000  \n",
       "  24 2024-04-16 11:31:42        30000  \n",
       "  25 2024-04-16 11:35:12        30000  \n",
       "  26 2024-04-17 11:31:34        30000  \n",
       "  27 2024-04-17 11:37:04        30000  \n",
       "  28 2024-04-18 12:14:53       638000  \n",
       "  29 2024-04-19 11:39:20        30000  \n",
       "  30 2024-04-19 11:43:20        30000  \n",
       "  31 2024-04-22 08:01:10        30000  \n",
       "  32 2024-04-24 11:41:23        30000  \n",
       "  33 2024-05-02 11:55:16        30000  \n",
       "  34 2024-05-03 11:34:14        30000  \n",
       "  35 2024-05-03 11:35:14        30000  \n",
       "  36 2024-05-03 11:40:44        30000  \n",
       "  37 2024-05-06 11:43:40        30000  \n",
       "  38 2024-05-08 11:36:15        30000  ,\n",
       "  'sensor_df':         sensor_id  sensor_values             ts  subject_id sensor_status\n",
       "  0    CoffeMachine          0.000  1709206555000           8           off\n",
       "  1    CoffeMachine          0.000  1709375805000           8           off\n",
       "  2    CoffeMachine          0.000  1709908075000           8           off\n",
       "  3    CoffeMachine          0.000  1709970558000           8           off\n",
       "  4    CoffeMachine          0.000  1709984983000           8           off\n",
       "  ..            ...            ...            ...         ...           ...\n",
       "  355  CoffeMachine          0.344  1715168505000           8           off\n",
       "  356  CoffeMachine          0.000  1715168535000           8           off\n",
       "  357  CoffeMachine          0.387  1715168565000           8           off\n",
       "  358  CoffeMachine          0.000  1715168595000           8           off\n",
       "  359  CoffeMachine          0.000  1715175775000           8           off\n",
       "  \n",
       "  [360 rows x 5 columns]},\n",
       " {'sensor': 'Cookware.csv',\n",
       "  'filtered_df':    sensor_id  subject_id sensor_status               ts_on  \\\n",
       "  0   Cookware           8            on 2024-02-29 08:24:59   \n",
       "  1   Cookware           8            on 2024-02-29 08:50:47   \n",
       "  2   Cookware           8            on 2024-02-29 08:56:09   \n",
       "  3   Cookware           8            on 2024-02-29 11:07:13   \n",
       "  4   Cookware           8            on 2024-03-01 08:14:25   \n",
       "  ..       ...         ...           ...                 ...   \n",
       "  77  Cookware           8            on 2024-05-06 09:25:21   \n",
       "  78  Cookware           8            on 2024-05-06 17:05:59   \n",
       "  79  Cookware           8            on 2024-05-07 15:44:59   \n",
       "  80  Cookware           8            on 2024-05-08 09:19:44   \n",
       "  81  Cookware           8            on 2024-05-08 12:10:35   \n",
       "  \n",
       "                  ts_off  duration_ms  \n",
       "  0  2024-02-29 08:25:02         3000  \n",
       "  1  2024-02-29 08:51:46        59000  \n",
       "  2  2024-02-29 08:56:11         2000  \n",
       "  3  2024-02-29 11:07:18         5000  \n",
       "  4  2024-03-01 08:14:31         6000  \n",
       "  ..                 ...          ...  \n",
       "  77 2024-05-06 09:25:41        20000  \n",
       "  78 2024-05-06 17:06:03         4000  \n",
       "  79 2024-05-07 15:45:42        43000  \n",
       "  80 2024-05-08 09:20:10        26000  \n",
       "  81 2024-05-08 12:11:07        32000  \n",
       "  \n",
       "  [82 rows x 6 columns],\n",
       "  'sensor_df':     sensor_id sensor_status             ts  subject_id\n",
       "  0    Cookware            on  1709195099000           8\n",
       "  1    Cookware           off  1709195102000           8\n",
       "  3    Cookware            on  1709196647000           8\n",
       "  4    Cookware           off  1709196706000           8\n",
       "  5    Cookware            on  1709196969000           8\n",
       "  ..        ...           ...            ...         ...\n",
       "  162  Cookware           off  1715096742000           8\n",
       "  163  Cookware            on  1715159984000           8\n",
       "  164  Cookware           off  1715160010000           8\n",
       "  165  Cookware            on  1715170235000           8\n",
       "  166  Cookware           off  1715170267000           8\n",
       "  \n",
       "  [164 rows x 4 columns]},\n",
       " {'sensor': 'Dishes.csv',\n",
       "  'filtered_df':     sensor_id  subject_id sensor_status               ts_on  \\\n",
       "  0      Dishes           8            on 2024-02-29 08:18:21   \n",
       "  1      Dishes           8            on 2024-02-29 08:19:21   \n",
       "  2      Dishes           8            on 2024-02-29 08:22:18   \n",
       "  3      Dishes           8            on 2024-02-29 08:49:19   \n",
       "  4      Dishes           8            on 2024-03-02 19:34:10   \n",
       "  ..        ...         ...           ...                 ...   \n",
       "  110    Dishes           8            on 2024-05-06 16:19:43   \n",
       "  111    Dishes           8            on 2024-05-08 07:37:25   \n",
       "  112    Dishes           8            on 2024-05-08 10:29:47   \n",
       "  113    Dishes           8            on 2024-05-08 10:42:26   \n",
       "  114    Dishes           8            on 2024-05-08 13:26:38   \n",
       "  \n",
       "                   ts_off  duration_ms  \n",
       "  0   2024-02-29 08:18:23         2000  \n",
       "  1   2024-02-29 08:19:23         2000  \n",
       "  2   2024-02-29 08:22:19         1000  \n",
       "  3   2024-02-29 08:49:23         4000  \n",
       "  4   2024-03-02 19:34:13         3000  \n",
       "  ..                  ...          ...  \n",
       "  110 2024-05-06 16:19:58        15000  \n",
       "  111 2024-05-08 07:37:28         3000  \n",
       "  112 2024-05-08 10:29:54         7000  \n",
       "  113 2024-05-08 10:42:34         8000  \n",
       "  114 2024-05-08 13:26:45         7000  \n",
       "  \n",
       "  [115 rows x 6 columns],\n",
       "  'sensor_df':     sensor_id sensor_status             ts  subject_id\n",
       "  0      Dishes           off  1709194687000           8\n",
       "  2      Dishes            on  1709194701000           8\n",
       "  3      Dishes           off  1709194703000           8\n",
       "  4      Dishes            on  1709194761000           8\n",
       "  5      Dishes           off  1709194763000           8\n",
       "  ..        ...           ...            ...         ...\n",
       "  231    Dishes           off  1715164194000           8\n",
       "  232    Dishes            on  1715164946000           8\n",
       "  233    Dishes           off  1715164954000           8\n",
       "  234    Dishes            on  1715174798000           8\n",
       "  235    Dishes           off  1715174805000           8\n",
       "  \n",
       "  [231 rows x 4 columns]},\n",
       " {'sensor': 'Dishes_Glasses.csv',\n",
       "  'filtered_df': Empty DataFrame\n",
       "  Columns: []\n",
       "  Index: [],\n",
       "  'sensor_df': Empty DataFrame\n",
       "  Columns: []\n",
       "  Index: []},\n",
       " {'sensor': 'Dishes_Silverware.csv',\n",
       "  'filtered_df': Empty DataFrame\n",
       "  Columns: []\n",
       "  Index: [],\n",
       "  'sensor_df': Empty DataFrame\n",
       "  Columns: []\n",
       "  Index: []},\n",
       " {'sensor': 'FoodStorage.csv',\n",
       "  'filtered_df': Empty DataFrame\n",
       "  Columns: []\n",
       "  Index: [],\n",
       "  'sensor_df': Empty DataFrame\n",
       "  Columns: []\n",
       "  Index: []},\n",
       " {'sensor': 'FoodStorageKitchen.csv',\n",
       "  'filtered_df': Empty DataFrame\n",
       "  Columns: []\n",
       "  Index: [],\n",
       "  'sensor_df': Empty DataFrame\n",
       "  Columns: []\n",
       "  Index: []},\n",
       " {'sensor': 'FoodStorageLivingRoom.csv',\n",
       "  'filtered_df': Empty DataFrame\n",
       "  Columns: []\n",
       "  Index: [],\n",
       "  'sensor_df': Empty DataFrame\n",
       "  Columns: []\n",
       "  Index: []},\n",
       " {'sensor': 'Freezer.csv',\n",
       "  'filtered_df':    sensor_id  subject_id sensor_status               ts_on  \\\n",
       "  0    Freezer           8            on 2024-03-02 10:44:08   \n",
       "  1    Freezer           8            on 2024-03-02 11:06:45   \n",
       "  2    Freezer           8            on 2024-03-02 11:12:51   \n",
       "  3    Freezer           8            on 2024-03-02 11:43:36   \n",
       "  4    Freezer           8            on 2024-03-03 10:56:53   \n",
       "  ..       ...         ...           ...                 ...   \n",
       "  74   Freezer           8            on 2024-05-04 17:56:33   \n",
       "  75   Freezer           8            on 2024-05-07 09:42:39   \n",
       "  76   Freezer           8            on 2024-05-07 17:48:42   \n",
       "  77   Freezer           8            on 2024-05-08 12:10:02   \n",
       "  78   Freezer           8            on 2024-05-08 17:32:31   \n",
       "  \n",
       "                  ts_off  duration_ms  \n",
       "  0  2024-03-02 10:44:21        13000  \n",
       "  1  2024-03-02 11:06:59        14000  \n",
       "  2  2024-03-02 11:12:59         8000  \n",
       "  3  2024-03-02 11:43:45         9000  \n",
       "  4  2024-03-03 10:57:02         9000  \n",
       "  ..                 ...          ...  \n",
       "  74 2024-05-04 17:56:49        16000  \n",
       "  75 2024-05-07 09:42:58        19000  \n",
       "  76 2024-05-07 17:48:55        13000  \n",
       "  77 2024-05-08 12:10:18        16000  \n",
       "  78 2024-05-08 17:32:45        14000  \n",
       "  \n",
       "  [79 rows x 6 columns],\n",
       "  'sensor_df':     sensor_id sensor_status             ts  subject_id\n",
       "  0     Freezer           off  1709194797000           8\n",
       "  2     Freezer            on  1709376248000           8\n",
       "  3     Freezer           off  1709376261000           8\n",
       "  4     Freezer            on  1709377605000           8\n",
       "  5     Freezer           off  1709377619000           8\n",
       "  ..        ...           ...            ...         ...\n",
       "  158   Freezer           off  1715104135000           8\n",
       "  159   Freezer            on  1715170202000           8\n",
       "  160   Freezer           off  1715170218000           8\n",
       "  161   Freezer            on  1715189551000           8\n",
       "  162   Freezer           off  1715189565000           8\n",
       "  \n",
       "  [159 rows x 4 columns]},\n",
       " {'sensor': 'HouseEntrance.csv',\n",
       "  'filtered_df': Empty DataFrame\n",
       "  Columns: []\n",
       "  Index: [],\n",
       "  'sensor_df': Empty DataFrame\n",
       "  Columns: []\n",
       "  Index: []},\n",
       " {'sensor': 'Hum_Temp_Bath_humidity.csv',\n",
       "  'filtered_df': Empty DataFrame\n",
       "  Columns: []\n",
       "  Index: [],\n",
       "  'sensor_df': Empty DataFrame\n",
       "  Columns: []\n",
       "  Index: []},\n",
       " {'sensor': 'Hum_Temp_Bath_temp.csv',\n",
       "  'filtered_df': Empty DataFrame\n",
       "  Columns: []\n",
       "  Index: [],\n",
       "  'sensor_df': Empty DataFrame\n",
       "  Columns: []\n",
       "  Index: []},\n",
       " {'sensor': 'Hum_Temp_Stove_humidity.csv',\n",
       "  'filtered_df': Empty DataFrame\n",
       "  Columns: []\n",
       "  Index: [],\n",
       "  'sensor_df': Empty DataFrame\n",
       "  Columns: []\n",
       "  Index: []},\n",
       " {'sensor': 'Hum_Temp_Stove_temp.csv',\n",
       "  'filtered_df': Empty DataFrame\n",
       "  Columns: []\n",
       "  Index: [],\n",
       "  'sensor_df': Empty DataFrame\n",
       "  Columns: []\n",
       "  Index: []},\n",
       " {'sensor': 'Medicines.csv',\n",
       "  'filtered_df': Empty DataFrame\n",
       "  Columns: []\n",
       "  Index: [],\n",
       "  'sensor_df': Empty DataFrame\n",
       "  Columns: []\n",
       "  Index: []},\n",
       " {'sensor': 'Microwave.csv',\n",
       "  'filtered_df': Empty DataFrame\n",
       "  Columns: []\n",
       "  Index: [],\n",
       "  'sensor_df': Empty DataFrame\n",
       "  Columns: []\n",
       "  Index: []},\n",
       " {'sensor': 'MotionBathroom.csv',\n",
       "  'filtered_df': Empty DataFrame\n",
       "  Columns: []\n",
       "  Index: [],\n",
       "  'sensor_df': Empty DataFrame\n",
       "  Columns: []\n",
       "  Index: []},\n",
       " {'sensor': 'MotionBedroom.csv',\n",
       "  'filtered_df':           sensor_id  subject_id sensor_status               ts_on  \\\n",
       "  0     MotionBedroom           8            on 2024-02-29 08:33:36   \n",
       "  1     MotionBedroom           8            on 2024-02-29 08:36:04   \n",
       "  2     MotionBedroom           8            on 2024-02-29 08:38:31   \n",
       "  3     MotionBedroom           8            on 2024-02-29 09:10:34   \n",
       "  4     MotionBedroom           8            on 2024-02-29 09:13:10   \n",
       "  ...             ...         ...           ...                 ...   \n",
       "  3197  MotionBedroom           8            on 2024-05-08 20:38:13   \n",
       "  3198  MotionBedroom           8            on 2024-05-08 20:38:50   \n",
       "  3199  MotionBedroom           8            on 2024-05-08 20:39:21   \n",
       "  3200  MotionBedroom           8            on 2024-05-08 20:40:10   \n",
       "  3201  MotionBedroom           8            on 2024-05-08 20:41:45   \n",
       "  \n",
       "                    ts_off  duration_ms  \n",
       "  0    2024-02-29 08:35:35       119000  \n",
       "  1    2024-02-29 08:36:34        30000  \n",
       "  2    2024-02-29 08:39:01        30000  \n",
       "  3    2024-02-29 09:11:04        30000  \n",
       "  4    2024-02-29 09:13:40        30000  \n",
       "  ...                  ...          ...  \n",
       "  3197 2024-05-08 20:38:43        30000  \n",
       "  3198 2024-05-08 20:39:20        30000  \n",
       "  3199 2024-05-08 20:39:51        30000  \n",
       "  3200 2024-05-08 20:40:40        30000  \n",
       "  3201 2024-05-08 20:42:15        30000  \n",
       "  \n",
       "  [3202 rows x 6 columns],\n",
       "  'sensor_df':           sensor_id sensor_status             ts  subject_id\n",
       "  0     MotionBedroom           off  1709195050000           8\n",
       "  1     MotionBedroom            on  1709195616000           8\n",
       "  2     MotionBedroom           off  1709195735000           8\n",
       "  3     MotionBedroom            on  1709195764000           8\n",
       "  4     MotionBedroom           off  1709195794000           8\n",
       "  ...             ...           ...            ...         ...\n",
       "  6478  MotionBedroom           off  1715200791000           8\n",
       "  6479  MotionBedroom            on  1715200810000           8\n",
       "  6480  MotionBedroom           off  1715200840000           8\n",
       "  6481  MotionBedroom            on  1715200905000           8\n",
       "  6482  MotionBedroom           off  1715200935000           8\n",
       "  \n",
       "  [6405 rows x 4 columns]},\n",
       " {'sensor': 'MotionDiningTable.csv',\n",
       "  'filtered_df': Empty DataFrame\n",
       "  Columns: []\n",
       "  Index: [],\n",
       "  'sensor_df': Empty DataFrame\n",
       "  Columns: []\n",
       "  Index: []},\n",
       " {'sensor': 'MotionGuestRoom.csv',\n",
       "  'filtered_df': Empty DataFrame\n",
       "  Columns: []\n",
       "  Index: [],\n",
       "  'sensor_df': Empty DataFrame\n",
       "  Columns: []\n",
       "  Index: []},\n",
       " {'sensor': 'MotionKitchen.csv',\n",
       "  'filtered_df':           sensor_id  subject_id sensor_status               ts_on  \\\n",
       "  0     MotionKitchen           8            on 2024-02-29 08:31:20   \n",
       "  1     MotionKitchen           8            on 2024-02-29 08:48:21   \n",
       "  2     MotionKitchen           8            on 2024-02-29 08:48:57   \n",
       "  3     MotionKitchen           8            on 2024-02-29 08:50:04   \n",
       "  4     MotionKitchen           8            on 2024-02-29 08:51:37   \n",
       "  ...             ...         ...           ...                 ...   \n",
       "  6765  MotionKitchen           8            on 2024-05-08 17:52:28   \n",
       "  6766  MotionKitchen           8            on 2024-05-08 17:53:36   \n",
       "  6767  MotionKitchen           8            on 2024-05-08 18:30:27   \n",
       "  6768  MotionKitchen           8            on 2024-05-08 18:31:02   \n",
       "  6769  MotionKitchen           8            on 2024-05-08 18:32:05   \n",
       "  \n",
       "                    ts_off  duration_ms  \n",
       "  0    2024-02-29 08:33:19       119000  \n",
       "  1    2024-02-29 08:48:51        30000  \n",
       "  2    2024-02-29 08:49:56        59000  \n",
       "  3    2024-02-29 08:51:34        90000  \n",
       "  4    2024-02-29 08:52:07        30000  \n",
       "  ...                  ...          ...  \n",
       "  6765 2024-05-08 17:52:58        30000  \n",
       "  6766 2024-05-08 17:54:06        30000  \n",
       "  6767 2024-05-08 18:30:57        30000  \n",
       "  6768 2024-05-08 18:31:32        30000  \n",
       "  6769 2024-05-08 18:32:35        30000  \n",
       "  \n",
       "  [6770 rows x 6 columns],\n",
       "  'sensor_df':            sensor_id sensor_status             ts  subject_id\n",
       "  0      MotionKitchen           off  1709195479000           8\n",
       "  1      MotionKitchen            on  1709195480000           8\n",
       "  2      MotionKitchen           off  1709195599000           8\n",
       "  4      MotionKitchen            on  1709196501000           8\n",
       "  5      MotionKitchen           off  1709196531000           8\n",
       "  ...              ...           ...            ...         ...\n",
       "  13995  MotionKitchen           off  1715193057000           8\n",
       "  13996  MotionKitchen            on  1715193062000           8\n",
       "  13997  MotionKitchen           off  1715193092000           8\n",
       "  13998  MotionKitchen            on  1715193125000           8\n",
       "  13999  MotionKitchen           off  1715193155000           8\n",
       "  \n",
       "  [13541 rows x 4 columns]},\n",
       " {'sensor': 'MotionLivingRoomSofa.csv',\n",
       "  'filtered_df': Empty DataFrame\n",
       "  Columns: []\n",
       "  Index: [],\n",
       "  'sensor_df': Empty DataFrame\n",
       "  Columns: []\n",
       "  Index: []},\n",
       " {'sensor': 'MotionLivingRoomTablet.csv',\n",
       "  'filtered_df': Empty DataFrame\n",
       "  Columns: []\n",
       "  Index: [],\n",
       "  'sensor_df': Empty DataFrame\n",
       "  Columns: []\n",
       "  Index: []},\n",
       " {'sensor': 'MotionLivingroom.csv',\n",
       "  'filtered_df':             sensor_id  subject_id sensor_status               ts_on  \\\n",
       "  0    MotionLivingroom           8            on 2024-02-29 08:42:53   \n",
       "  1    MotionLivingroom           8            on 2024-02-29 08:43:28   \n",
       "  2    MotionLivingroom           8            on 2024-02-29 08:45:01   \n",
       "  3    MotionLivingroom           8            on 2024-02-29 08:46:05   \n",
       "  4    MotionLivingroom           8            on 2024-02-29 08:46:38   \n",
       "  ..                ...         ...           ...                 ...   \n",
       "  862  MotionLivingroom           8            on 2024-05-08 11:10:07   \n",
       "  863  MotionLivingroom           8            on 2024-05-08 11:11:35   \n",
       "  864  MotionLivingroom           8            on 2024-05-08 11:12:54   \n",
       "  865  MotionLivingroom           8            on 2024-05-08 12:18:30   \n",
       "  866  MotionLivingroom           8            on 2024-05-08 17:35:15   \n",
       "  \n",
       "                   ts_off  duration_ms  \n",
       "  0   2024-02-29 08:43:23        30000  \n",
       "  1   2024-02-29 08:44:57        89000  \n",
       "  2   2024-02-29 08:46:01        60000  \n",
       "  3   2024-02-29 08:46:35        30000  \n",
       "  4   2024-02-29 08:47:37        59000  \n",
       "  ..                  ...          ...  \n",
       "  862 2024-05-08 11:10:37        30000  \n",
       "  863 2024-05-08 11:12:05        30000  \n",
       "  864 2024-05-08 11:13:24        30000  \n",
       "  865 2024-05-08 12:19:00        30000  \n",
       "  866 2024-05-08 17:35:45        30000  \n",
       "  \n",
       "  [867 rows x 6 columns],\n",
       "  'sensor_df':              sensor_id sensor_status             ts  subject_id\n",
       "  0     MotionLivingroom           off  1709196172000           8\n",
       "  1     MotionLivingroom            on  1709196173000           8\n",
       "  2     MotionLivingroom           off  1709196203000           8\n",
       "  3     MotionLivingroom            on  1709196208000           8\n",
       "  4     MotionLivingroom           off  1709196297000           8\n",
       "  ...                ...           ...            ...         ...\n",
       "  1740  MotionLivingroom           off  1715166804000           8\n",
       "  1741  MotionLivingroom            on  1715170710000           8\n",
       "  1742  MotionLivingroom           off  1715170740000           8\n",
       "  1743  MotionLivingroom            on  1715189715000           8\n",
       "  1744  MotionLivingroom           off  1715189745000           8\n",
       "  \n",
       "  [1735 rows x 4 columns]},\n",
       " {'sensor': 'MotionOffice.csv',\n",
       "  'filtered_df':          sensor_id  subject_id sensor_status               ts_on  \\\n",
       "  0     MotionOffice           8            on 2024-02-29 08:40:44   \n",
       "  1     MotionOffice           8            on 2024-02-29 09:29:02   \n",
       "  2     MotionOffice           8            on 2024-02-29 09:52:15   \n",
       "  3     MotionOffice           8            on 2024-02-29 09:52:53   \n",
       "  4     MotionOffice           8            on 2024-02-29 09:53:41   \n",
       "  ...            ...         ...           ...                 ...   \n",
       "  5514  MotionOffice           8            on 2024-05-08 18:35:48   \n",
       "  5515  MotionOffice           8            on 2024-05-08 19:04:26   \n",
       "  5516  MotionOffice           8            on 2024-05-08 20:38:06   \n",
       "  5517  MotionOffice           8            on 2024-05-08 20:38:53   \n",
       "  5518  MotionOffice           8            on 2024-05-08 20:43:20   \n",
       "  \n",
       "                    ts_off  duration_ms  \n",
       "  0    2024-02-29 08:42:14        90000  \n",
       "  1    2024-02-29 09:29:32        30000  \n",
       "  2    2024-02-29 09:52:45        30000  \n",
       "  3    2024-02-29 09:53:23        30000  \n",
       "  4    2024-02-29 09:54:11        30000  \n",
       "  ...                  ...          ...  \n",
       "  5514 2024-05-08 18:36:18        30000  \n",
       "  5515 2024-05-08 19:04:56        30000  \n",
       "  5516 2024-05-08 20:38:36        30000  \n",
       "  5517 2024-05-08 20:39:23        30000  \n",
       "  5518 2024-05-08 20:43:50        30000  \n",
       "  \n",
       "  [5519 rows x 6 columns],\n",
       "  'sensor_df':           sensor_id sensor_status             ts  subject_id\n",
       "  0      MotionOffice            on  1709196044000           8\n",
       "  1      MotionOffice           off  1709196134000           8\n",
       "  2      MotionOffice            on  1709198942000           8\n",
       "  3      MotionOffice           off  1709198972000           8\n",
       "  4      MotionOffice            on  1709200335000           8\n",
       "  ...             ...           ...            ...         ...\n",
       "  11170  MotionOffice           off  1715200716000           8\n",
       "  11171  MotionOffice            on  1715200733000           8\n",
       "  11172  MotionOffice           off  1715200763000           8\n",
       "  11173  MotionOffice            on  1715201000000           8\n",
       "  11174  MotionOffice           off  1715201030000           8\n",
       "  \n",
       "  [11038 rows x 4 columns]},\n",
       " {'sensor': 'MotionOtherRoom.csv',\n",
       "  'filtered_df': Empty DataFrame\n",
       "  Columns: []\n",
       "  Index: [],\n",
       "  'sensor_df': Empty DataFrame\n",
       "  Columns: []\n",
       "  Index: []},\n",
       " {'sensor': 'MotionOtherroom.csv',\n",
       "  'filtered_df': Empty DataFrame\n",
       "  Columns: []\n",
       "  Index: [],\n",
       "  'sensor_df': Empty DataFrame\n",
       "  Columns: []\n",
       "  Index: []},\n",
       " {'sensor': 'MotionPrimaryBathroom.csv',\n",
       "  'filtered_df':                   sensor_id  subject_id sensor_status               ts_on  \\\n",
       "  0     MotionPrimaryBathroom           8            on 2024-02-29 08:33:30   \n",
       "  1     MotionPrimaryBathroom           8            on 2024-02-29 08:35:43   \n",
       "  2     MotionPrimaryBathroom           8            on 2024-02-29 08:37:25   \n",
       "  3     MotionPrimaryBathroom           8            on 2024-02-29 08:38:27   \n",
       "  4     MotionPrimaryBathroom           8            on 2024-02-29 09:10:35   \n",
       "  ...                     ...         ...           ...                 ...   \n",
       "  3746  MotionPrimaryBathroom           8            on 2024-05-08 16:01:24   \n",
       "  3747  MotionPrimaryBathroom           8            on 2024-05-08 18:32:29   \n",
       "  3748  MotionPrimaryBathroom           8            on 2024-05-08 18:35:41   \n",
       "  3749  MotionPrimaryBathroom           8            on 2024-05-08 20:40:24   \n",
       "  3750  MotionPrimaryBathroom           8            on 2024-05-08 20:41:10   \n",
       "  \n",
       "                    ts_off  duration_ms  \n",
       "  0    2024-02-29 08:34:00        30000  \n",
       "  1    2024-02-29 08:37:13        90000  \n",
       "  2    2024-02-29 08:38:25        60000  \n",
       "  3    2024-02-29 08:38:57        30000  \n",
       "  4    2024-02-29 09:11:05        30000  \n",
       "  ...                  ...          ...  \n",
       "  3746 2024-05-08 16:01:54        30000  \n",
       "  3747 2024-05-08 18:32:59        30000  \n",
       "  3748 2024-05-08 18:36:11        30000  \n",
       "  3749 2024-05-08 20:40:54        30000  \n",
       "  3750 2024-05-08 20:42:10        60000  \n",
       "  \n",
       "  [3751 rows x 6 columns],\n",
       "  'sensor_df':                   sensor_id sensor_status             ts  subject_id\n",
       "  0     MotionPrimaryBathroom           off  1709195609000           8\n",
       "  1     MotionPrimaryBathroom            on  1709195610000           8\n",
       "  2     MotionPrimaryBathroom           off  1709195640000           8\n",
       "  3     MotionPrimaryBathroom            on  1709195743000           8\n",
       "  4     MotionPrimaryBathroom           off  1709195833000           8\n",
       "  ...                     ...           ...            ...         ...\n",
       "  7822  MotionPrimaryBathroom           off  1715193371000           8\n",
       "  7823  MotionPrimaryBathroom            on  1715200824000           8\n",
       "  7824  MotionPrimaryBathroom           off  1715200854000           8\n",
       "  7825  MotionPrimaryBathroom            on  1715200870000           8\n",
       "  7826  MotionPrimaryBathroom           off  1715200930000           8\n",
       "  \n",
       "  [7503 rows x 4 columns]},\n",
       " {'sensor': 'MotionSecondaryBathroom.csv',\n",
       "  'filtered_df':                    sensor_id  subject_id sensor_status               ts_on  \\\n",
       "  0    MotionSecondaryBathroom           8            on 2024-02-29 08:39:52   \n",
       "  1    MotionSecondaryBathroom           8            on 2024-02-29 10:49:42   \n",
       "  2    MotionSecondaryBathroom           8            on 2024-02-29 10:50:58   \n",
       "  3    MotionSecondaryBathroom           8            on 2024-03-01 04:42:09   \n",
       "  4    MotionSecondaryBathroom           8            on 2024-03-01 08:42:27   \n",
       "  ..                       ...         ...           ...                 ...   \n",
       "  859  MotionSecondaryBathroom           8            on 2024-05-08 11:11:18   \n",
       "  860  MotionSecondaryBathroom           8            on 2024-05-08 11:14:47   \n",
       "  861  MotionSecondaryBathroom           8            on 2024-05-08 11:49:45   \n",
       "  862  MotionSecondaryBathroom           8            on 2024-05-08 11:50:50   \n",
       "  863  MotionSecondaryBathroom           8            on 2024-05-08 12:18:39   \n",
       "  \n",
       "                   ts_off  duration_ms  \n",
       "  0   2024-02-29 08:40:52        60000  \n",
       "  1   2024-02-29 10:50:12        30000  \n",
       "  2   2024-02-29 10:51:28        30000  \n",
       "  3   2024-03-01 04:42:39        30000  \n",
       "  4   2024-03-01 08:42:57        30000  \n",
       "  ..                  ...          ...  \n",
       "  859 2024-05-08 11:11:48        30000  \n",
       "  860 2024-05-08 11:15:17        30000  \n",
       "  861 2024-05-08 11:50:15        30000  \n",
       "  862 2024-05-08 11:51:20        30000  \n",
       "  863 2024-05-08 12:19:09        30000  \n",
       "  \n",
       "  [864 rows x 6 columns],\n",
       "  'sensor_df':                     sensor_id sensor_status             ts  subject_id\n",
       "  0     MotionSecondaryBathroom            on  1709195992000           8\n",
       "  1     MotionSecondaryBathroom           off  1709196052000           8\n",
       "  2     MotionSecondaryBathroom            on  1709203782000           8\n",
       "  3     MotionSecondaryBathroom           off  1709203812000           8\n",
       "  4     MotionSecondaryBathroom            on  1709203858000           8\n",
       "  ...                       ...           ...            ...         ...\n",
       "  1743  MotionSecondaryBathroom           off  1715169015000           8\n",
       "  1744  MotionSecondaryBathroom            on  1715169050000           8\n",
       "  1745  MotionSecondaryBathroom           off  1715169080000           8\n",
       "  1746  MotionSecondaryBathroom            on  1715170719000           8\n",
       "  1747  MotionSecondaryBathroom           off  1715170749000           8\n",
       "  \n",
       "  [1728 rows x 4 columns]},\n",
       " {'sensor': 'PlugTvHall.csv',\n",
       "  'filtered_df':        sensor_id  subject_id sensor_status               ts_on  \\\n",
       "  0     PlugTvHall           8            on 2024-02-29 17:43:55   \n",
       "  1     PlugTvHall           8            on 2024-02-29 17:46:55   \n",
       "  2     PlugTvHall           8            on 2024-02-29 17:51:25   \n",
       "  3     PlugTvHall           8            on 2024-02-29 17:53:25   \n",
       "  4     PlugTvHall           8            on 2024-02-29 17:54:25   \n",
       "  ...          ...         ...           ...                 ...   \n",
       "  2949  PlugTvHall           8            on 2024-05-08 20:22:07   \n",
       "  2950  PlugTvHall           8            on 2024-05-08 20:26:37   \n",
       "  2951  PlugTvHall           8            on 2024-05-08 20:31:37   \n",
       "  2952  PlugTvHall           8            on 2024-05-08 20:35:14   \n",
       "  2953  PlugTvHall           8            on 2024-05-08 20:36:44   \n",
       "  \n",
       "                    ts_off  duration_ms  \n",
       "  0    2024-02-29 17:44:25        30000  \n",
       "  1    2024-02-29 17:47:25        30000  \n",
       "  2    2024-02-29 17:51:55        30000  \n",
       "  3    2024-02-29 17:53:55        30000  \n",
       "  4    2024-02-29 17:54:55        30000  \n",
       "  ...                  ...          ...  \n",
       "  2949 2024-05-08 20:22:37        30000  \n",
       "  2950 2024-05-08 20:27:07        30000  \n",
       "  2951 2024-05-08 20:32:07        30000  \n",
       "  2952 2024-05-08 20:35:44        30000  \n",
       "  2953 2024-05-08 20:37:14        30000  \n",
       "  \n",
       "  [2954 rows x 6 columns],\n",
       "  'sensor_df':         sensor_id  sensor_values             ts  subject_id sensor_status\n",
       "  0      PlugTvHall          0.000  1709206548000           8           off\n",
       "  1      PlugTvHall         26.703  1709228095000           8           off\n",
       "  2      PlugTvHall         31.885  1709228125000           8           off\n",
       "  3      PlugTvHall         32.301  1709228155000           8           off\n",
       "  4      PlugTvHall         31.009  1709228185000           8           off\n",
       "  ...           ...            ...            ...         ...           ...\n",
       "  28353  PlugTvHall          0.139  1715201399000           8           off\n",
       "  28354  PlugTvHall          0.000  1715201429000           8           off\n",
       "  28355  PlugTvHall          0.139  1715203500000           8           off\n",
       "  28356  PlugTvHall          0.157  1715203530000           8           off\n",
       "  28357  PlugTvHall          0.000  1715203560000           8           off\n",
       "  \n",
       "  [28358 rows x 5 columns]},\n",
       " {'sensor': 'PlugTvKitchen.csv',\n",
       "  'filtered_df': Empty DataFrame\n",
       "  Columns: []\n",
       "  Index: [],\n",
       "  'sensor_df': Empty DataFrame\n",
       "  Columns: []\n",
       "  Index: []},\n",
       " {'sensor': 'Printer.csv',\n",
       "  'filtered_df': Empty DataFrame\n",
       "  Columns: []\n",
       "  Index: [],\n",
       "  'sensor_df': Empty DataFrame\n",
       "  Columns: []\n",
       "  Index: []},\n",
       " {'sensor': 'Refrigerator.csv',\n",
       "  'filtered_df':         sensor_id  subject_id sensor_status               ts_on  \\\n",
       "  0    Refrigerator           8            on 2024-02-29 08:27:50   \n",
       "  1    Refrigerator           8            on 2024-02-29 17:37:43   \n",
       "  2    Refrigerator           8            on 2024-02-29 18:53:07   \n",
       "  3    Refrigerator           8            on 2024-03-01 07:42:54   \n",
       "  4    Refrigerator           8            on 2024-03-01 08:26:25   \n",
       "  ..            ...         ...           ...                 ...   \n",
       "  682  Refrigerator           8            on 2024-05-08 12:09:56   \n",
       "  683  Refrigerator           8            on 2024-05-08 12:10:20   \n",
       "  684  Refrigerator           8            on 2024-05-08 16:03:51   \n",
       "  685  Refrigerator           8            on 2024-05-08 17:28:29   \n",
       "  686  Refrigerator           8            on 2024-05-08 17:51:38   \n",
       "  \n",
       "                   ts_off  duration_ms  \n",
       "  0   2024-02-29 08:27:52         2000  \n",
       "  1   2024-02-29 17:38:07        24000  \n",
       "  2   2024-02-29 18:53:15         8000  \n",
       "  3   2024-03-01 07:42:59         5000  \n",
       "  4   2024-03-01 08:27:50        85000  \n",
       "  ..                  ...          ...  \n",
       "  682 2024-05-08 12:10:01         5000  \n",
       "  683 2024-05-08 12:10:28         8000  \n",
       "  684 2024-05-08 16:04:07        16000  \n",
       "  685 2024-05-08 17:28:51        22000  \n",
       "  686 2024-05-08 17:51:43         5000  \n",
       "  \n",
       "  [687 rows x 6 columns],\n",
       "  'sensor_df':          sensor_id sensor_status             ts  subject_id\n",
       "  0     Refrigerator            on  1709195270000           8\n",
       "  1     Refrigerator           off  1709195272000           8\n",
       "  6     Refrigerator            on  1709228263000           8\n",
       "  7     Refrigerator           off  1709228287000           8\n",
       "  8     Refrigerator            on  1709232787000           8\n",
       "  ...            ...           ...            ...         ...\n",
       "  1552  Refrigerator           off  1715184247000           8\n",
       "  1553  Refrigerator            on  1715189309000           8\n",
       "  1554  Refrigerator           off  1715189331000           8\n",
       "  1555  Refrigerator            on  1715190698000           8\n",
       "  1556  Refrigerator           off  1715190703000           8\n",
       "  \n",
       "  [1374 rows x 4 columns]},\n",
       " {'sensor': 'Shower_Hum_Temp_humidity.csv',\n",
       "  'filtered_df':            sensor_id  subject_id sensor_status               ts_on  \\\n",
       "  0    Shower_Hum_Temp           8            on 2024-03-22 04:25:40   \n",
       "  1    Shower_Hum_Temp           8            on 2024-03-22 07:12:47   \n",
       "  2    Shower_Hum_Temp           8            on 2024-03-23 01:40:35   \n",
       "  3    Shower_Hum_Temp           8            on 2024-03-23 03:04:14   \n",
       "  4    Shower_Hum_Temp           8            on 2024-03-23 07:49:52   \n",
       "  ..               ...         ...           ...                 ...   \n",
       "  135  Shower_Hum_Temp           8            on 2024-05-07 19:02:14   \n",
       "  136  Shower_Hum_Temp           8            on 2024-05-08 06:25:08   \n",
       "  137  Shower_Hum_Temp           8            on 2024-05-08 07:43:56   \n",
       "  138  Shower_Hum_Temp           8            on 2024-05-08 08:53:21   \n",
       "  139  Shower_Hum_Temp           8            on 2024-05-08 11:57:51   \n",
       "  \n",
       "                   ts_off  duration_ms  \n",
       "  0   2024-03-22 04:33:22       462000  \n",
       "  1   2024-03-22 07:19:59       432000  \n",
       "  2   2024-03-23 02:08:01      1646000  \n",
       "  3   2024-03-23 03:30:30      1576000  \n",
       "  4   2024-03-23 07:52:03       131000  \n",
       "  ..                  ...          ...  \n",
       "  135 2024-05-07 19:14:36       742000  \n",
       "  136 2024-05-08 06:25:09         1000  \n",
       "  137 2024-05-08 08:02:10      1094000  \n",
       "  138 2024-05-08 09:07:04       823000  \n",
       "  139 2024-05-08 12:51:03      3192000  \n",
       "  \n",
       "  [140 rows x 6 columns],\n",
       "  'sensor_df':             sensor_id  sensor_values             ts  subject_id sensor_status\n",
       "  0     Shower_Hum_Temp           49.0  1711065479000           8           off\n",
       "  1     Shower_Hum_Temp           48.1  1711068661000           8           off\n",
       "  2     Shower_Hum_Temp           48.0  1711068762000           8           off\n",
       "  3     Shower_Hum_Temp           47.7  1711071883000           8           off\n",
       "  4     Shower_Hum_Temp           48.2  1711074884000           8           off\n",
       "  ...               ...            ...            ...         ...           ...\n",
       "  3620  Shower_Hum_Temp           58.6  1715198829000           8           off\n",
       "  3621  Shower_Hum_Temp           58.8  1715199462000           8           off\n",
       "  3622  Shower_Hum_Temp           59.4  1715201881000           8           off\n",
       "  3623  Shower_Hum_Temp           59.5  1715205022000           8           off\n",
       "  3624  Shower_Hum_Temp           59.9  1715206970000           8           off\n",
       "  \n",
       "  [3625 rows x 5 columns]},\n",
       " {'sensor': 'Shower_Hum_Temp_temp.csv',\n",
       "  'filtered_df':           sensor_id  subject_id sensor_status               ts_on  \\\n",
       "  0   Shower_Hum_Temp           8            on 2024-03-22 12:43:01   \n",
       "  1   Shower_Hum_Temp           8            on 2024-03-23 07:49:52   \n",
       "  2   Shower_Hum_Temp           8            on 2024-03-24 12:52:44   \n",
       "  3   Shower_Hum_Temp           8            on 2024-04-01 16:10:42   \n",
       "  4   Shower_Hum_Temp           8            on 2024-04-02 12:57:03   \n",
       "  5   Shower_Hum_Temp           8            on 2024-04-05 12:28:31   \n",
       "  6   Shower_Hum_Temp           8            on 2024-04-06 13:15:15   \n",
       "  7   Shower_Hum_Temp           8            on 2024-04-08 13:40:57   \n",
       "  8   Shower_Hum_Temp           8            on 2024-04-09 06:00:06   \n",
       "  9   Shower_Hum_Temp           8            on 2024-04-11 13:34:23   \n",
       "  10  Shower_Hum_Temp           8            on 2024-04-12 13:19:51   \n",
       "  11  Shower_Hum_Temp           8            on 2024-04-12 14:19:24   \n",
       "  12  Shower_Hum_Temp           8            on 2024-04-13 13:59:04   \n",
       "  13  Shower_Hum_Temp           8            on 2024-04-14 14:45:44   \n",
       "  14  Shower_Hum_Temp           8            on 2024-04-16 12:56:35   \n",
       "  15  Shower_Hum_Temp           8            on 2024-04-16 13:13:50   \n",
       "  16  Shower_Hum_Temp           8            on 2024-04-16 13:36:16   \n",
       "  17  Shower_Hum_Temp           8            on 2024-04-17 12:12:06   \n",
       "  18  Shower_Hum_Temp           8            on 2024-04-19 13:20:38   \n",
       "  19  Shower_Hum_Temp           8            on 2024-04-20 13:57:17   \n",
       "  20  Shower_Hum_Temp           8            on 2024-04-24 09:40:31   \n",
       "  21  Shower_Hum_Temp           8            on 2024-04-24 13:03:25   \n",
       "  22  Shower_Hum_Temp           8            on 2024-04-26 06:20:20   \n",
       "  23  Shower_Hum_Temp           8            on 2024-04-29 12:24:09   \n",
       "  24  Shower_Hum_Temp           8            on 2024-04-30 14:11:13   \n",
       "  25  Shower_Hum_Temp           8            on 2024-05-03 13:11:23   \n",
       "  26  Shower_Hum_Temp           8            on 2024-05-04 13:32:19   \n",
       "  27  Shower_Hum_Temp           8            on 2024-05-05 12:53:09   \n",
       "  \n",
       "                  ts_off  duration_ms  \n",
       "  0  2024-03-22 12:59:04       963000  \n",
       "  1  2024-03-23 07:52:03       131000  \n",
       "  2  2024-03-24 13:06:57       853000  \n",
       "  3  2024-04-01 16:14:33       231000  \n",
       "  4  2024-04-02 13:16:38      1175000  \n",
       "  5  2024-04-05 12:35:23       412000  \n",
       "  6  2024-04-06 13:22:07       412000  \n",
       "  7  2024-04-08 13:54:40       823000  \n",
       "  8  2024-04-09 06:04:47       281000  \n",
       "  9  2024-04-11 13:50:36       973000  \n",
       "  10 2024-04-12 13:32:54       783000  \n",
       "  11 2024-04-12 14:48:50      1766000  \n",
       "  12 2024-04-13 14:18:48      1184000  \n",
       "  13 2024-04-14 14:59:07       803000  \n",
       "  14 2024-04-16 12:56:55        20000  \n",
       "  15 2024-04-16 13:14:30        40000  \n",
       "  16 2024-04-16 13:52:09       953000  \n",
       "  17 2024-04-17 12:12:56        50000  \n",
       "  18 2024-04-19 13:33:50       792000  \n",
       "  19 2024-04-20 13:57:48        31000  \n",
       "  20 2024-04-24 09:47:23       412000  \n",
       "  21 2024-04-24 13:22:09      1124000  \n",
       "  22 2024-04-26 06:22:10       110000  \n",
       "  23 2024-04-29 12:25:50       101000  \n",
       "  24 2024-04-30 14:30:57      1184000  \n",
       "  25 2024-05-03 13:41:59      1836000  \n",
       "  26 2024-05-04 14:11:27      2348000  \n",
       "  27 2024-05-05 13:16:24      1395000  ,\n",
       "  'sensor_df':             sensor_id  sensor_values             ts  subject_id sensor_status\n",
       "  0     Shower_Hum_Temp           23.0  1711065479000           8           off\n",
       "  1     Shower_Hum_Temp           23.8  1711068661000           8           off\n",
       "  2     Shower_Hum_Temp           23.8  1711068762000           8           off\n",
       "  3     Shower_Hum_Temp           23.8  1711071883000           8           off\n",
       "  4     Shower_Hum_Temp           23.6  1711074884000           8           off\n",
       "  ...               ...            ...            ...         ...           ...\n",
       "  3620  Shower_Hum_Temp           23.0  1715198829000           8           off\n",
       "  3621  Shower_Hum_Temp           23.0  1715199462000           8           off\n",
       "  3622  Shower_Hum_Temp           22.9  1715201881000           8           off\n",
       "  3623  Shower_Hum_Temp           22.9  1715205022000           8           off\n",
       "  3624  Shower_Hum_Temp           22.8  1715206970000           8           off\n",
       "  \n",
       "  [3625 rows x 5 columns]},\n",
       " {'sensor': 'Silverware.csv',\n",
       "  'filtered_df': Empty DataFrame\n",
       "  Columns: []\n",
       "  Index: [],\n",
       "  'sensor_df': Empty DataFrame\n",
       "  Columns: []\n",
       "  Index: []},\n",
       " {'sensor': 'Stove_Hum_Temp_humidity.csv',\n",
       "  'filtered_df':           sensor_id  subject_id sensor_status               ts_on  \\\n",
       "  0    Stove_Hum_Temp           8            on 2024-03-22 09:30:53   \n",
       "  1    Stove_Hum_Temp           8            on 2024-03-22 19:53:20   \n",
       "  2    Stove_Hum_Temp           8            on 2024-03-23 08:13:44   \n",
       "  3    Stove_Hum_Temp           8            on 2024-03-23 08:17:26   \n",
       "  4    Stove_Hum_Temp           8            on 2024-03-23 08:18:37   \n",
       "  ..              ...         ...           ...                 ...   \n",
       "  490  Stove_Hum_Temp           8            on 2024-05-08 10:58:37   \n",
       "  491  Stove_Hum_Temp           8            on 2024-05-08 10:59:28   \n",
       "  492  Stove_Hum_Temp           8            on 2024-05-08 11:00:49   \n",
       "  493  Stove_Hum_Temp           8            on 2024-05-08 11:01:10   \n",
       "  494  Stove_Hum_Temp           8            on 2024-05-08 11:01:40   \n",
       "  \n",
       "                   ts_off  duration_ms  \n",
       "  0   2024-03-22 09:31:03        10000  \n",
       "  1   2024-03-22 20:36:59      2619000  \n",
       "  2   2024-03-23 08:14:05        21000  \n",
       "  3   2024-03-23 08:17:46        20000  \n",
       "  4   2024-03-23 08:18:47        10000  \n",
       "  ..                  ...          ...  \n",
       "  490 2024-05-08 10:58:47        10000  \n",
       "  491 2024-05-08 10:59:58        30000  \n",
       "  492 2024-05-08 11:00:59        10000  \n",
       "  493 2024-05-08 11:01:20        10000  \n",
       "  494 2024-05-08 11:02:01        21000  \n",
       "  \n",
       "  [495 rows x 6 columns],\n",
       "  'sensor_df':            sensor_id  sensor_values             ts  subject_id sensor_status\n",
       "  0     Stove_Hum_Temp           47.5  1711099841000           8           off\n",
       "  1     Stove_Hum_Temp           47.9  1711099842000           8           off\n",
       "  2     Stove_Hum_Temp           54.8  1711099853000           8            on\n",
       "  3     Stove_Hum_Temp           48.3  1711099863000           8           off\n",
       "  4     Stove_Hum_Temp           45.8  1711099923000           8           off\n",
       "  ...              ...            ...            ...         ...           ...\n",
       "  5682  Stove_Hum_Temp           51.9  1715198032000           8           off\n",
       "  5683  Stove_Hum_Temp           52.1  1715199728000           8           off\n",
       "  5684  Stove_Hum_Temp           52.2  1715203250000           8           off\n",
       "  5685  Stove_Hum_Temp           52.3  1715205527000           8           off\n",
       "  5686  Stove_Hum_Temp           52.4  1715206430000           8           off\n",
       "  \n",
       "  [5687 rows x 5 columns]},\n",
       " {'sensor': 'Stove_Hum_Temp_temp.csv',\n",
       "  'filtered_df':          sensor_id  subject_id sensor_status               ts_on  \\\n",
       "  0   Stove_Hum_Temp           8            on 2024-03-23 08:18:47   \n",
       "  1   Stove_Hum_Temp           8            on 2024-03-23 12:07:42   \n",
       "  2   Stove_Hum_Temp           8            on 2024-03-23 12:29:07   \n",
       "  3   Stove_Hum_Temp           8            on 2024-03-24 07:56:32   \n",
       "  4   Stove_Hum_Temp           8            on 2024-03-24 18:39:58   \n",
       "  ..             ...         ...           ...                 ...   \n",
       "  92  Stove_Hum_Temp           8            on 2024-05-06 06:41:40   \n",
       "  93  Stove_Hum_Temp           8            on 2024-05-06 11:05:17   \n",
       "  94  Stove_Hum_Temp           8            on 2024-05-07 06:48:48   \n",
       "  95  Stove_Hum_Temp           8            on 2024-05-08 06:48:40   \n",
       "  96  Stove_Hum_Temp           8            on 2024-05-08 11:05:41   \n",
       "  \n",
       "                  ts_off  duration_ms  \n",
       "  0  2024-03-23 08:19:17        30000  \n",
       "  1  2024-03-23 12:09:43       121000  \n",
       "  2  2024-03-23 12:32:19       192000  \n",
       "  3  2024-03-24 07:56:33         1000  \n",
       "  4  2024-03-24 18:39:59         1000  \n",
       "  ..                 ...          ...  \n",
       "  92 2024-05-06 06:46:51       311000  \n",
       "  93 2024-05-06 11:13:29       492000  \n",
       "  94 2024-05-07 06:54:19       331000  \n",
       "  95 2024-05-08 06:50:30       110000  \n",
       "  96 2024-05-08 11:05:42         1000  \n",
       "  \n",
       "  [97 rows x 6 columns],\n",
       "  'sensor_df':            sensor_id  sensor_values             ts  subject_id sensor_status\n",
       "  0     Stove_Hum_Temp           22.9  1711099841000           8           off\n",
       "  1     Stove_Hum_Temp           22.6  1711099842000           8           off\n",
       "  2     Stove_Hum_Temp           23.4  1711099853000           8           off\n",
       "  3     Stove_Hum_Temp           23.3  1711099863000           8           off\n",
       "  4     Stove_Hum_Temp           22.8  1711099923000           8           off\n",
       "  ...              ...            ...            ...         ...           ...\n",
       "  5682  Stove_Hum_Temp           23.1  1715198032000           8           off\n",
       "  5683  Stove_Hum_Temp           23.0  1715199728000           8           off\n",
       "  5684  Stove_Hum_Temp           22.9  1715203250000           8           off\n",
       "  5685  Stove_Hum_Temp           22.8  1715205527000           8           off\n",
       "  5686  Stove_Hum_Temp           22.8  1715206430000           8           off\n",
       "  \n",
       "  [5687 rows x 5 columns]},\n",
       " {'sensor': 'WashingMachine.csv',\n",
       "  'filtered_df': Empty DataFrame\n",
       "  Columns: []\n",
       "  Index: [],\n",
       "  'sensor_df': Empty DataFrame\n",
       "  Columns: []\n",
       "  Index: []}]"
      ]
     },
     "execution_count": 85,
     "metadata": {},
     "output_type": "execute_result"
    }
   ],
   "source": [
    "subject_i_data"
   ]
  },
  {
   "cell_type": "code",
   "execution_count": null,
   "metadata": {},
   "outputs": [],
   "source": []
  },
  {
   "cell_type": "code",
   "execution_count": null,
   "metadata": {},
   "outputs": [],
   "source": [
    "# b = []\n",
    "# ws = pd.to_datetime('2023-10-11 16:18:35.414')\n",
    "# we = ws + pd.Timedelta(minutes=15)\n",
    "\n",
    "# for sd in range(len(subject_data)):\n",
    "#     cleaned_data = subject_data[sd]\n",
    "#     ## Make a vector of 0 and 1 when sensor was active in each one minute out of 10 minute\n",
    "#     a = []\n",
    "#     for i in range(len(cleaned_data)): # iterate over each sensor\n",
    "#         sensor_name = cleaned_data[i]['sensor']\n",
    "#         sensor_df = cleaned_data[i]['filtered_df']\n",
    "#         print('*******************')\n",
    "#         print(sensor_name)#,'\\n', sensor_df.head())\n",
    "#         print(sensor_df.head(3))\n",
    "#         subset_df = sensor_df[(sensor_df['ts_on'] <= we) & (sensor_df['ts_off'] >= ws)]\n",
    "\n",
    "#         time_series = pd.date_range(start=ws, end=we, freq='T')\n",
    "#         vector = np.zeros(len(time_series))\n",
    "\n",
    "#         for j, current_time in enumerate(time_series):\n",
    "#             for _, row in subset_df.iterrows():\n",
    "#                 if row['ts_on'] <= current_time < row['ts_off']:\n",
    "#                     vector[j] = 1\n",
    "#                     break\n",
    "        \n",
    "#         a.append({sensor_name:vector})\n",
    "# b.append(a)"
   ]
  },
  {
   "cell_type": "code",
   "execution_count": null,
   "metadata": {},
   "outputs": [],
   "source": [
    "# ## Load the main door data\n",
    "# house_entrance_df = cleaned_data[5]\n",
    "# ## Make a 10 minutes window\n",
    "# ws = pd.to_datetime('2023-09-25 12:49:18.709000')\n",
    "# we = ws + pd.Timedelta(minutes=10)\n",
    "\n",
    "# ## Make a vector of 0 and 1 when sensor was active in each one minute out of 10 minute\n",
    "# a = []\n",
    "# for i in range(len(cleaned_data)):\n",
    "#     sensor_name = cleaned_data[i]['sensor']\n",
    "#     sensor_df = cleaned_data[i]['filtered_df']\n",
    "#     print(sensor_name)#,'\\n', sensor_df.head())\n",
    "#     subset_df = sensor_df[(sensor_df['ts_on'] <= we) & (sensor_df['ts_off'] >= ws)]\n",
    "\n",
    "#     time_series = pd.date_range(start=ws, end=we, freq='T')\n",
    "#     vector = np.zeros(len(time_series))\n",
    "\n",
    "#     for j, current_time in enumerate(time_series):\n",
    "#         for _, row in subset_df.iterrows():\n",
    "#             if row['ts_on'] <= current_time < row['ts_off']:\n",
    "#                 vector[j] = 1\n",
    "#                 break\n",
    "    \n",
    "#     a.append({sensor_name:vector})"
   ]
  },
  {
   "cell_type": "code",
   "execution_count": null,
   "metadata": {},
   "outputs": [],
   "source": [
    "# data =pd.read_csv('/home/hubble/work/serenade/data/subject_3/environmentals/Shower_Hum_Temp_humidity.csv')\n",
    "# df = pd.DataFrame(data)\n",
    "# for size in [5, 15,  30, 60, 120, 150, 180, 210, 240, 270, 300]:\n",
    "#     plot_tsne(size, df)"
   ]
  },
  {
   "cell_type": "code",
   "execution_count": null,
   "metadata": {},
   "outputs": [],
   "source": [
    "# path_subject_3 = '/home/hubble/work/serenade/data/subject_3/environmentals/'\n",
    "# skip_substrings = ['event', 'houseentrance']\n",
    "# formatted_sensors_data = []\n",
    "# sensors_data = sorted(os.listdir(path_subject_3))\n",
    "# for i in range(len(sensors_data)):\n",
    "#     sensor_name = sensors_data[i].lower()\n",
    "#     if any(substring in sensor_name for substring in skip_substrings):\n",
    "#         print(sensor_name, '----XXXX')\n",
    "#         continue\n",
    "#     else:\n",
    "#         # read the csv file and remove bad values\n",
    "#         # format it correctly\n",
    "#         df_cleaned, arr_cleaned = remove_unknown_unavailable(os.path.join(path_subject_3,sensors_data[i]))\n",
    "#         print(sensor_name)\n",
    "#         print(df_cleaned)\n",
    "#         df_processed = process_sensor_data(df_cleaned)  \n",
    "#         formatted_sensors_data.append({'sensor_name':sensor_name, 'df_processed':df_processed})\n",
    "#         print('-------------------')"
   ]
  }
 ],
 "metadata": {
  "kernelspec": {
   "display_name": "sudokutf",
   "language": "python",
   "name": "python3"
  },
  "language_info": {
   "codemirror_mode": {
    "name": "ipython",
    "version": 3
   },
   "file_extension": ".py",
   "mimetype": "text/x-python",
   "name": "python",
   "nbconvert_exporter": "python",
   "pygments_lexer": "ipython3",
   "version": "3.9.18"
  }
 },
 "nbformat": 4,
 "nbformat_minor": 2
}
